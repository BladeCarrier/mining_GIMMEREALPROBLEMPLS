{
 "metadata": {
  "name": "",
  "signature": "sha256:00697628a47c50923b05a650b9f4b23b7c764e43d88e80160ea6746e5f68bb46"
 },
 "nbformat": 3,
 "nbformat_minor": 0,
 "worksheets": [
  {
   "cells": [
    {
     "cell_type": "markdown",
     "metadata": {},
     "source": [
      "\u042f \u0442\u0435\u0442\u0440\u0430\u0434\u043a\u0430 \u0438 \u044f \u0434\u0435\u043b\u0430\u044e \u0436\u0430\u0434\u043d\u044b\u0439 \u043e\u0442\u0431\u043e\u0440 \u0434\u0435\u0440\u0435\u0432\u044c\u0435\u0432 \u043f\u043e \u043f\u043e\u0438\u0441\u0447\u0438\u0442\u0430\u043d\u043d\u043e\u043c\u0443 \u0431\u0443\u0441\u0442\u0443."
     ]
    },
    {
     "cell_type": "code",
     "collapsed": false,
     "input": [
      "#model params\n",
      "workdir = \"F:\\\\data\\\\higgs\" #\u0440\u0430\u0431\u043e\u0447\u0430\u044f \u043f\u0430\u043f\u043a\u0430\n",
      "boostname = \"gbt5000-8depth\" #\u0438\u043c\u044f \u0441\u043e\u0445\u0440\u0430\u043d\u0451\u043d\u043d\u043e\u0433\u043e \u043e\u0431\u0443\u0447\u0435\u043d\u043d\u043e\u0433\u043e \u0433\u0440\u0430\u0434\u0438\u0435\u043d\u0442\u0431\u0443\u0441\u0442\u0430 (sklearn.dump)\n",
      "resultname = \"greedyPrune_result\"\n",
      "nthreads = 2"
     ],
     "language": "python",
     "metadata": {},
     "outputs": [],
     "prompt_number": 23
    },
    {
     "cell_type": "code",
     "collapsed": false,
     "input": [
      "#import all the libs\n",
      "import os\n",
      "os.chdir(workdir)\n",
      "os.system('taskset -p 0xffffffff %d' % os.getpid())\n",
      "import random\n",
      "import numpy as np\n",
      "from copy import copy, deepcopy\n",
      "import csv\n",
      "import math\n",
      "import pandas as pd\n",
      "from sklearn.externals import joblib as steve\n",
      "from sklearn.cross_validation import *\n",
      "from sklearn.decomposition import *\n",
      "from sklearn.ensemble import *\n",
      "from sklearn.feature_selection import *\n",
      "from sklearn.grid_search import *\n",
      "from sklearn.linear_model import *\n",
      "from sklearn.metrics import *\n",
      "from sklearn.preprocessing import *\n",
      "from sklearn.pipeline import *\n",
      "from sklearn.svm import *\n",
      "from sklearn.tree import *\n",
      "from sklearn.ensemble.gradient_boosting import *\n",
      "from sklearn.utils import check_arrays\n",
      "from sklearn.ensemble._gradient_boosting import predict_stages\n",
      "import matplotlib.pyplot as plt"
     ],
     "language": "python",
     "metadata": {},
     "outputs": [],
     "prompt_number": 26
    },
    {
     "cell_type": "code",
     "collapsed": false,
     "input": [
      "#define all the low-lv functions\n",
      "\n",
      "def predict(trees, X,init_,learning_rate):\n",
      "    '''\n",
      "    make real-value predictions using sklearn gradient_boosting.predict_stages\n",
      "    '''\n",
      "    X = array2d(X, dtype=DTYPE, order=\"C\")\n",
      "    score = init_.predict(X).astype(np.float64)\n",
      "    if len(trees) != 0:\n",
      "        predict_stages(trees, X, learning_rate, score)\n",
      "    return score\n",
      "\n"
     ],
     "language": "python",
     "metadata": {},
     "outputs": [],
     "prompt_number": 3
    },
    {
     "cell_type": "code",
     "collapsed": false,
     "input": [
      "def update_leaves(X,y,y_pred, tree,loss,lrate=1.):\n",
      "    '''\n",
      "    update leaf values via 1-step Newton from sklearn\n",
      "    '''\n",
      "    \n",
      "    residual = loss.negative_gradient(y, y_pred, k=0)\n",
      "    sample_mask = np.ones((X.shape[0], ), dtype=np.bool)\n",
      "\n",
      "    loss.update_terminal_regions(tree.tree_, X, y, residual, y_pred,\n",
      "                                     sample_mask, lrate, k=0)\n",
      "                                     \n",
      "    return tree\n",
      "\n"
     ],
     "language": "python",
     "metadata": {},
     "outputs": [],
     "prompt_number": 4
    },
    {
     "cell_type": "code",
     "collapsed": false,
     "input": [
      "def try_add1_bfs(bunchMembers, remainingTrees,X,y,GB ,breadth):\n",
      "    '''\n",
      "    select best tree to add (1 step)\n",
      "    '''\n",
      "    X = array2d(X, dtype=DTYPE, order=\"C\")\n",
      "\n",
      "    y_pred = predict(bunchMembers,X,GB.init_,GB.learning_rate).reshape(len(y),1)\n",
      "    \n",
      "    \n",
      "    def inthread_try_add(bunchMembers,newTree,X,y,y_pred,\n",
      "                         loss_,init_,learning_rate,):\n",
      "        tree = deepcopy(newTree) #not to spoil the original tree ^_^\n",
      "        tree = update_leaves(X,y,y_pred,tree,loss_,learning_rate)\n",
      "        newBunch = np.append(bunchMembers,np.array([tree])).reshape([len(bunchMembers)+1,1])\n",
      "        newPred = predict(newBunch,X,init_,learning_rate)\n",
      "        return loss_(y,newPred)\n",
      "        \n",
      "    \n",
      "    #shared meme only\n",
      "    #greediness = steve.Parallel(n_jobs = nthreads)(\n",
      "    #                steve.delayed(inthread_try_add)\n",
      "    #                    (bunchMembers,remainingTrees[t,0],X,y,GB,y_pred)\n",
      "    #                        for t in xrange(remainingTrees.shape[0])\n",
      "    #                )\n",
      "    greediness = [\n",
      "                    inthread_try_add(\n",
      "                        bunchMembers,remainingTrees[t,0],X,y,y_pred,\n",
      "                        GB.loss_,GB.init_,GB.learning_rate)\n",
      "                    for t in xrange(remainingTrees.shape[0])]   \n",
      "    pairs = [(greediness[i],remainingTrees[i]) for i in xrange(len(greediness))]\n",
      "    pairs.sort(key = lambda el: el[0])\n",
      "    \n",
      "    bunches = []\n",
      "    for pair in pairs[:breadth]:\n",
      "        tree = pair[1]\n",
      "        bunch = np.append(bunchMembers,np.array([tree])).reshape([len(bunchMembers)+1,1])\n",
      "        bunches.append(bunch)\n",
      "\n",
      "    return bunches,[pair[1] for pair in pairs[:breadth]],[pair[0] for pair in pairs[:breadth]]\n",
      "\n"
     ],
     "language": "python",
     "metadata": {},
     "outputs": [],
     "prompt_number": 5
    },
    {
     "cell_type": "code",
     "collapsed": false,
     "input": [
      "#the greedy algo itself\n",
      "def greed_up_features_bfs (GB,X,y,breadth,nTrees,trees_sample_size=  1000):\n",
      "    \"\"\"\n",
      "    Iterative BFS over best ADD-1 results for [nTrees] iterations\n",
      "    \"\"\"\n",
      "    alltrees = GB.estimators_\n",
      "    \n",
      "    trees_sample = np.array(random.sample(alltrees,trees_sample_size))\n",
      "    bunches,additions,losses = try_add1_bfs([],trees_sample,X,y,GB,breadth)\n",
      "    \n",
      "    for itr in xrange(nTrees-1):\n",
      "        newBunches = []    \n",
      "        newScores = []\n",
      "        #for shared memo:\n",
      "        #triples = steve.Parallel(njobs = nthreads)(\n",
      "        #        steve.delayed([try_add1_bfs(bunch,alltrees,X,y,GB,breadth)\n",
      "        #                            for bunch in bunches])\n",
      "        for bunch in bunches:\n",
      "            trees_sample = np.array(random.sample(alltrees,trees_sample_size))\n",
      "            bunches,additions,losses = try_add1_bfs(bunch,trees_sample,X,y,GB,breadth)\n",
      "            #DELIBERATELY not excluding from remainingTrees the trees that are in batch\n",
      "            #because we are adjusting leaves anyway and one trees may be used  multiple\n",
      "            #times with different leaf adjustments.\n",
      "            newBunches+=bunches\n",
      "            newScores += losses\n",
      "            #todo: remove close_to_duplicate bunches\n",
      "            \n",
      "        pairs = [(newScores[i],newBunches[i]) for i in xrange(len(newBunches))]\n",
      "        pairs.sort(key = lambda el: el[0])\n",
      "        bunches = [pair[1] for pair in pairs[:breadth]]\n",
      "        print \"iteration #\",itr,\" ntrees = \", itr+2,\"\\nbest loss = \",pairs[0][0]\n",
      "    return bunches[0]\n",
      "\n",
      "\n",
      "\n"
     ],
     "language": "python",
     "metadata": {},
     "outputs": [],
     "prompt_number": 21
    },
    {
     "cell_type": "code",
     "collapsed": false,
     "input": [
      "#loading data\n",
      "Xtr = steve.load(\"Xtr\")\n",
      "Ytr = steve.load(\"Ytr\")\n",
      "Xts = steve.load(\"Xts\")\n",
      "Yts = steve.load(\"Yts\")\n",
      "#loading model\n",
      "classi = steve.load(boostname)\n"
     ],
     "language": "python",
     "metadata": {},
     "outputs": [],
     "prompt_number": 34
    },
    {
     "cell_type": "code",
     "collapsed": false,
     "input": [
      "#perform a greedy additive pruning\n",
      "pruned_boost = greed_up_features_bfs(classi,Xtr,Ytr,breadth = 1,nTrees = 100,trees_sample_size = 500)\n",
      "\n",
      "#and save it\n",
      "steve.dump(pruned_boost, resultname)\n"
     ],
     "language": "python",
     "metadata": {},
     "outputs": [
      {
       "output_type": "stream",
       "stream": "stdout",
       "text": [
        "iteration # 0  ntrees =  2 \n",
        "best loss =  1.25177942151\n",
        "iteration #"
       ]
      },
      {
       "output_type": "stream",
       "stream": "stdout",
       "text": [
        " 1  ntrees =  3 \n",
        "best loss =  1.24861443479\n",
        "iteration #"
       ]
      },
      {
       "output_type": "stream",
       "stream": "stdout",
       "text": [
        " 2  ntrees =  4 \n",
        "best loss =  1.24735163772\n",
        "iteration #"
       ]
      },
      {
       "output_type": "stream",
       "stream": "stdout",
       "text": [
        " 3  ntrees =  5 \n",
        "best loss =  1.23481969027\n",
        "iteration #"
       ]
      },
      {
       "output_type": "stream",
       "stream": "stdout",
       "text": [
        " 4  ntrees =  6 \n",
        "best loss =  1.21893722541\n",
        "iteration #"
       ]
      },
      {
       "output_type": "stream",
       "stream": "stdout",
       "text": [
        " 5  ntrees =  7 \n",
        "best loss =  1.21009751318\n",
        "iteration #"
       ]
      },
      {
       "output_type": "stream",
       "stream": "stdout",
       "text": [
        " 6  ntrees =  8 \n",
        "best loss =  1.19009576577\n",
        "iteration #"
       ]
      },
      {
       "output_type": "stream",
       "stream": "stdout",
       "text": [
        " 7  ntrees =  9 \n",
        "best loss =  1.17237003064\n",
        "iteration #"
       ]
      },
      {
       "output_type": "stream",
       "stream": "stdout",
       "text": [
        " 8  ntrees =  10 \n",
        "best loss =  1.1580061667\n"
       ]
      },
      {
       "metadata": {},
       "output_type": "pyout",
       "prompt_number": 25,
       "text": [
        "['greedyPrune_result', 'greedyPrune_result_01.npy']"
       ]
      }
     ],
     "prompt_number": 25
    },
    {
     "cell_type": "code",
     "collapsed": false,
     "input": [
      "#plot curves\n",
      "err = lambda boost,loss,X,Y: loss(Y,predict(boost,X,classi.init_,classi.learning_rate))\n",
      "errors_tr = [err(pruned_boost[:i],classi.loss_,Xtr,Ytr) for i in xrange(1,len(pruned_boost)+1)]\n",
      "errors_ts = [err(pruned_boost[:i],classi.loss_,Xts,Yts) for i in xrange(1,len(pruned_boost)+1)]\n",
      "plt.figure()\n",
      "plt.plot(errors_tr, range(1,len(pruned_boost)+1),label = \"train loss\")#\u043f\u043e\u0442\u0435\u0440\u044f \u043f\u043e\u0435\u0437\u0434\u0430\n",
      "plt.plot(errors_ts, range(1,len(pruned_boost)+1), label = \"test loss\")\n",
      "plt.show()"
     ],
     "language": "python",
     "metadata": {},
     "outputs": [],
     "prompt_number": 33
    },
    {
     "cell_type": "code",
     "collapsed": false,
     "input": [],
     "language": "python",
     "metadata": {},
     "outputs": [],
     "prompt_number": 26
    }
   ],
   "metadata": {}
  }
 ]
}