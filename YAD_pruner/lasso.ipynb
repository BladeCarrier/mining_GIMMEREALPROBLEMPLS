{
 "metadata": {
  "name": "",
  "signature": "sha256:b62ab840b9055754346b51f92869462982fa7706b64a1a4db33f29f2c155784b"
 },
 "nbformat": 3,
 "nbformat_minor": 0,
 "worksheets": [
  {
   "cells": [
    {
     "cell_type": "markdown",
     "metadata": {},
     "source": [
      "I do segmentwise lasso pruning. I do not change leaves value."
     ]
    },
    {
     "cell_type": "code",
     "collapsed": false,
     "input": [
      "#params\n",
      "wdir = \"F:\\\\data\\\\higgs\" #working folder\n",
      "modelname = \"gbt5000-8depth\" #model name\n",
      "resultname = \"lasso_prunes\" #output stuff name"
     ],
     "language": "python",
     "metadata": {},
     "outputs": [],
     "prompt_number": 1
    },
    {
     "cell_type": "code",
     "collapsed": false,
     "input": [
      "#libs\n",
      "import csv\n",
      "import math\n",
      "import os\n",
      "os.chdir(wdir)\n",
      "os.system('taskset -p 0xffffffff %d' % os.getpid())\n",
      "import random\n",
      "from sklearn.externals import joblib\n",
      "import numpy as np\n",
      "from sklearn.cross_validation import *\n",
      "from sklearn.decomposition import *\n",
      "from sklearn.ensemble import *\n",
      "from sklearn.feature_selection import *\n",
      "from sklearn.grid_search import *\n",
      "from sklearn.linear_model import *\n",
      "from sklearn.metrics import *\n",
      "from sklearn.preprocessing import *\n",
      "from sklearn.pipeline import *\n",
      "from sklearn.svm import *\n",
      "from sklearn.tree import *\n",
      "import sklearn.metrics as metr\n",
      "import sklearn.svm as svm\n",
      "import matplotlib.pyplot as plt\n",
      "import  sklearn.ensemble as ens\n",
      "import pandas as pd\n"
     ],
     "language": "python",
     "metadata": {},
     "outputs": [],
     "prompt_number": 2
    },
    {
     "cell_type": "code",
     "collapsed": false,
     "input": [
      "print \"Reading data split\"  \n",
      "Xtr = joblib.load(\"Xtr\")\n",
      "Ytr = joblib.load(\"Ytr\")\n",
      "Xts = joblib.load(\"Xts\")\n",
      "Yts = joblib.load(\"Yts\")\n",
      "\n",
      "print \"Loading model...\"\n",
      "classi = joblib.load(modelname)\n",
      "\n",
      "boost = classi.estimators_"
     ],
     "language": "python",
     "metadata": {},
     "outputs": [
      {
       "output_type": "stream",
       "stream": "stdout",
       "text": [
        "Reading data split\n",
        "Loading model..."
       ]
      },
      {
       "output_type": "stream",
       "stream": "stdout",
       "text": [
        "\n"
       ]
      }
     ],
     "prompt_number": 16
    },
    {
     "cell_type": "code",
     "collapsed": false,
     "input": [],
     "language": "python",
     "metadata": {},
     "outputs": []
    },
    {
     "cell_type": "code",
     "collapsed": false,
     "input": [
      "# data dicts\n",
      "regularizers = [0.001*(i/100.)for i in range(1,101)] #l1 alphas\n",
      "\n",
      "coefs = pd.DataFrame({\"c\"+str(reg):[0 for c in boost] for reg in regularizers} ) #all coefficients for each alpha\n",
      "\n",
      "\n",
      "lms = {} #final linear models\n",
      "accs = {} #accuracy scores\n",
      "aucs = {} #auc scores\n",
      "ntrees = {} #amounts of trees\n",
      "curves = {} #roc curve points"
     ],
     "language": "python",
     "metadata": {},
     "outputs": []
    },
    {
     "cell_type": "code",
     "collapsed": false,
     "input": [
      "def prune_lasso(regs,batchsize):\n",
      "    \"\"\"\n",
      "    prune trees based only on the coefficients in the l1 lasso classifier over trees\n",
      "    \"\"\"\n",
      "    print \"Training lasso classifiers\"\n",
      "    for reg in regs:\n",
      "        coefs[\"c\"+str(reg)] = np.array([0 for c in boost])\n",
      "    for bi in range((len(boost)-1)/batchsize +1):\n",
      "        #i used to be joblib before dark times\n",
      "        batch = boost[bi*batchsize : min(len(boost),(bi+1)*batchsize)]\n",
      "        print \"processing batch\",bi\n",
      "        allPredictions = pd.DataFrame()\n",
      "        \n",
      "        for t in range(len(batch)):\n",
      "            tree = batch[t][0]\n",
      "            ans = tree.predict(Xtr)\n",
      "            allPredictions[t,] = ans\n",
      "            \n",
      "        for reg in regs:\n",
      "            lasso = LinearSVC(C=reg, penalty=\"l1\", dual=False)\n",
      "            lasso.fit(allPredictions,Ytr)\n",
      "            coefs[\"c\"+str(reg)][bi*batchsize : min(len(boost),(bi+1)*batchsize)] =lasso.coef_[0]\n",
      "     \n",
      "    print \"estimating final models\"\n",
      "    for reg in regs:\n",
      "        nonzeroes = coefs[\"c\"+str(reg)]!=0\n",
      "        trees = [boost[i][0] for i in range(len(nonzeroes)) if nonzeroes[i]]\n",
      "        print \"dealing with C = \", reg, \"with Ntrees = \", len(trees)\n",
      "        allPredTr = pd.DataFrame()\n",
      "        allPredTs = pd.DataFrame()\n",
      "        \n",
      "        #gathering data for all nonzero trees\n",
      "        for i in range(len( trees)):\n",
      "            tree = trees[i]\n",
      "            ans = tree.predict(Xtr)\n",
      "            allPredTr[i] = ans\n",
      "            ans = tree.predict(Xts)\n",
      "            allPredTs[i] = ans\n",
      "           \n",
      "        #models 'emselves\n",
      "        #model = svm.SVC(kernel = \"linear\",).fit(allPredictions,Ytr)\n",
      "        #model = Lasso(alpha = 0.,positive = True).fit(allPredTr,(Ytr-0.5)*2)\n",
      "        model = LinearRegression().fit(allPredTr,(Ytr-0.5)*2)\n",
      "        ans = model.predict(allPredTs)\n",
      "        auc = metr.roc_auc_score(Yts,ans)\n",
      "        acc = metr.accuracy_score(ans>0,Yts)\n",
      "        print \"accuracy = \", acc, \"auc = \", auc\n",
      "        \n",
      "        fpr, tpr, _ = roc_curve(Yts, ans)\n",
      "        #filling out the data\n",
      "\n",
      "        ntrees[reg] = len(trees)\n",
      "        lms[reg] = model\n",
      "        accs[reg] = acc\n",
      "        curves[reg] = (tpr,fpr)\n",
      "        aucs[reg] = auc\n",
      "\n"
     ],
     "language": "python",
     "metadata": {},
     "outputs": [],
     "prompt_number": 9
    },
    {
     "cell_type": "code",
     "collapsed": false,
     "input": [
      "#do the pruning\n",
      "batchsize = 200 #amount of trees per batch on the first regularization phase\n",
      "prune_lasso(regularizers,batchsize)\n"
     ],
     "language": "python",
     "metadata": {},
     "outputs": [
      {
       "output_type": "stream",
       "stream": "stdout",
       "text": [
        "Training lasso classifiers\n",
        "processing batch 0\n",
        "estimating final models"
       ]
      },
      {
       "output_type": "stream",
       "stream": "stdout",
       "text": [
        "\n",
        "dealing with C =  0.0003 with Ntrees =  5\n",
        "accuracy = "
       ]
      },
      {
       "output_type": "stream",
       "stream": "stdout",
       "text": [
        " 0.823546666667 auc =  0.889976658275\n",
        "dealing with C =  2e-05 with Ntrees =  4\n",
        "accuracy = "
       ]
      },
      {
       "output_type": "stream",
       "stream": "stdout",
       "text": [
        " 0.823453333333 auc =  0.889637117299\n",
        "dealing with C =  1.2e-05 with Ntrees =  3\n",
        "accuracy = "
       ]
      },
      {
       "output_type": "stream",
       "stream": "stdout",
       "text": [
        " 0.82308 auc =  0.889104936435\n",
        "dealing with C =  1e-05 with Ntrees =  2\n",
        "accuracy = "
       ]
      },
      {
       "output_type": "stream",
       "stream": "stdout",
       "text": [
        " 0.819973333333 auc =  0.886318068926\n"
       ]
      }
     ],
     "prompt_number": 28
    },
    {
     "cell_type": "code",
     "collapsed": false,
     "input": [
      "#plot learning curves: accuracy\n",
      "regs = ntrees.keys()\n",
      "regs.sort()\n",
      "\n",
      "x = [ntrees[i] for i in regs]\n",
      "y = [accs[i] for i in regs]\n",
      "\n",
      "\n",
      "plt.figure()\n",
      "plt.plot(x,y)\n",
      "plt.xlabel('Ntrees')\n",
      "plt.ylabel('accuracy')\n",
      "plt.show()"
     ],
     "language": "python",
     "metadata": {},
     "outputs": [],
     "prompt_number": 29
    },
    {
     "cell_type": "code",
     "collapsed": false,
     "input": [
      "#plot learning curves: auc\n",
      "regs = ntrees.keys()\n",
      "regs.sort()\n",
      "\n",
      "x = [ntrees[i] for i in regs]\n",
      "y = [aucs[i] for i in regs]\n",
      "\n",
      "\n",
      "plt.figure()\n",
      "plt.plot(x,y)\n",
      "plt.xlabel('Ntrees')\n",
      "plt.ylabel('auc')\n",
      "plt.show()"
     ],
     "language": "python",
     "metadata": {},
     "outputs": [],
     "prompt_number": 30
    }
   ],
   "metadata": {}
  }
 ]
}