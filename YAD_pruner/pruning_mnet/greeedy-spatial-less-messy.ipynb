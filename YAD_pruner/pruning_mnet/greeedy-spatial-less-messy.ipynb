{
 "metadata": {
  "name": "",
  "signature": "sha256:a12f40b7ba164c23b1fc2d2a938cde2d50ac62f5472cc4efc4bf197127a85aa6"
 },
 "nbformat": 3,
 "nbformat_minor": 0,
 "worksheets": [
  {
   "cells": [
    {
     "cell_type": "code",
     "collapsed": false,
     "input": [
      "# I explore the cuts of the features\n",
      "%matplotlib inline\n",
      "#\u0442\u0430\u043a \u0442\u043e\u0436\u0435 \u043c\u043e\u0436\u043d\u043e \u0440\u0435\u0448\u0438\u0442\u044c \u043f\u0440\u043e\u0431\u043b\u0435\u043c\u0443 \u0438\u043d\u043b\u0430\u0439\u043b\u0430 \u043f\u043b\u043e\u0442\u043e\u0432\n",
      "\n",
      "import matplotlib.pyplot as plt\n",
      "import matplotlib.patches as mpatches\n",
      "\n",
      "import numpy as np\n",
      "import scipy as sp\n",
      "import pandas as pd\n",
      "\n",
      "import sklearn.metrics as metrics\n",
      "from sklearn.externals import joblib\n",
      "from sklearn import cross_validation as cv\n",
      "from sklearn.utils import check_arrays\n",
      "\n",
      "import _matrixnetapplier as mnet\n",
      "\n",
      "import copy\n",
      "import random\n",
      "import math\n"
     ],
     "language": "python",
     "metadata": {},
     "outputs": [],
     "prompt_number": 1
    },
    {
     "cell_type": "markdown",
     "metadata": {},
     "source": [
      "# Extracting the trained model"
     ]
    },
    {
     "cell_type": "code",
     "collapsed": false,
     "input": [
      "#extract ODT\n",
      "fstream = open('formula.mx','rb')\n",
      "classi = mnet.MatrixnetClassifier(fstream)\n",
      "fstream.close()"
     ],
     "language": "python",
     "metadata": {},
     "outputs": [],
     "prompt_number": 2
    },
    {
     "cell_type": "code",
     "collapsed": false,
     "input": [
      "#Get all the trees from .mx\n",
      "def get_trees(classi):\n",
      "    itr = classi.iterate_trees().next()\n",
      "    return itr, [tree for tree in itr[2]]"
     ],
     "language": "python",
     "metadata": {},
     "outputs": [],
     "prompt_number": 3
    },
    {
     "cell_type": "code",
     "collapsed": false,
     "input": [
      "itr,trees = get_trees(classi)\n",
      "n_features = len(classi.features)\n",
      "print itr"
     ],
     "language": "python",
     "metadata": {},
     "outputs": [
      {
       "output_type": "stream",
       "stream": "stdout",
       "text": [
        "(6, 10000, <generator object _iterate_over_trees_with_fixed_depth at 0x000000000C74D120>)\n"
       ]
      }
     ],
     "prompt_number": 4
    },
    {
     "cell_type": "markdown",
     "metadata": {},
     "source": [
      "# Loading dataset"
     ]
    },
    {
     "cell_type": "code",
     "collapsed": false,
     "input": [
      "#load training set\n",
      "def load_data(path):\n",
      "    print 'Loading training data.'\n",
      "    data = np.loadtxt(path, \\\n",
      "            delimiter=',', \\\n",
      "            skiprows=1, \\\n",
      "            converters={32: lambda x:int(x=='s'.encode('utf-8'))})\n",
      "\n",
      "    X = data[:,1:31]\n",
      "    Y = data[:,32]\n",
      "    W = data[:,31]\n",
      "    return X,Y,W"
     ],
     "language": "python",
     "metadata": {},
     "outputs": [],
     "prompt_number": 5
    },
    {
     "cell_type": "code",
     "collapsed": false,
     "input": [
      "X,Y,W = load_data(\"../data/training.csv\")"
     ],
     "language": "python",
     "metadata": {},
     "outputs": [
      {
       "output_type": "stream",
       "stream": "stdout",
       "text": [
        "Loading training data.\n"
       ]
      }
     ],
     "prompt_number": 6
    },
    {
     "cell_type": "code",
     "collapsed": false,
     "input": [
      "from sklearn.cross_validation import train_test_split\n",
      "Xtr,Xts,Ytr,Yts,Wtr,Wts = train_test_split(X, Y, W, train_size=0.51, random_state=42)"
     ],
     "language": "python",
     "metadata": {},
     "outputs": [],
     "prompt_number": 7
    },
    {
     "cell_type": "markdown",
     "metadata": {},
     "source": [
      "#sanity check"
     ]
    },
    {
     "cell_type": "code",
     "collapsed": false,
     "input": [
      "#predict with the trees boost\n",
      "class DataFactory:\n",
      "    def __init__(self,events,labels,weights):\n",
      "        self.events = events\n",
      "        self.labels = labels\n",
      "        self.labels_sign = labels*2 -1\n",
      "        self.weights = weights\n",
      "        \n",
      "        # extending the data so the number of events is divisible by 8\n",
      "        self.n_events = len(events)\n",
      "        self.n_extended64 = (self.n_events + 7) // 8\n",
      "        self.n_extended = self.n_extended64 * 8\n",
      "\n",
      "        # using Fortran order (surprisingly doesn't seem to influence speed much)\n",
      "        self.features = np.zeros([self.n_extended, self.events.shape[1]], dtype='float32', order='F')\n",
      "        self.features[:self.n_events, :] = self.events\n",
      "    def predict(self,trees,bias = 0):\n",
      "        '''\n",
      "        make real-value predictions using sklearn gradient_boosting.predict_stages\n",
      "        '''\n",
      "        if len(trees) ==0:\n",
      "            return np.zeros(self.events.shape[0])\n",
      "        result = np.zeros(len(self.events), dtype=float)\n",
      "        for stage_predictions in self.apply_separately(trees,bias):\n",
      "            result += stage_predictions\n",
      "        return result\n",
      "    def apply_separately(self,trees,bias=0):\n",
      "        \"\"\"\n",
      "        :param events: numpy.array (or DataFrame) of shape [n_samples, n_features]\n",
      "        :return: each time yields numpy.array predictions of shape [n_samples]\n",
      "            which is output of a particular tree\n",
      "        \"\"\"\n",
      "        # result of first iteration\n",
      "        yield np.zeros(len(self.events), dtype=float)+ bias\n",
      "\n",
      "        tree_depth = len(trees[0][0])\n",
      "        nf_count = len(trees)\n",
      "        \n",
      "        for tree in trees:\n",
      "            leaf_indices = self.getLeafIndices(tree)        \n",
      "            leaf_values = tree[2]\n",
      "            yield leaf_values[leaf_indices]\n",
      "            \n",
      "    def getLeafIndices(self,tree):\n",
      "        \"\"\"\n",
      "        get the tree active leaf indices on the data\n",
      "        \"\"\"\n",
      "        tree_features, tree_cuts, _ = tree\n",
      "        leaf_indices = np.zeros(self.n_extended64, dtype='int64')\n",
      "            \n",
      "        for tree_level, (feature, cut) in enumerate(zip(tree_features, tree_cuts)):\n",
      "            leaf_indices |= (self.features[:, feature] > cut).view('int64') << tree_level\n",
      "        return leaf_indices.view('int8')[:self.n_events]\n",
      "    def split_by(self,boolean):\n",
      "        inverse = boolean == False\n",
      "        return (\n",
      "                DataFactory(self.events[boolean],self.labels[boolean],self.weights[boolean]),\n",
      "                DataFactory(self.events[inverse],self.labels[inverse],self.weights[inverse]),\n",
      "                )"
     ],
     "language": "python",
     "metadata": {},
     "outputs": [],
     "prompt_number": 8
    },
    {
     "cell_type": "code",
     "collapsed": false,
     "input": [
      "trainFactory = DataFactory(Xtr,Ytr,Wtr)\n",
      "testFactory = DataFactory(Xts,Yts,Wts)"
     ],
     "language": "python",
     "metadata": {},
     "outputs": [],
     "prompt_number": 9
    },
    {
     "cell_type": "code",
     "collapsed": false,
     "input": [
      "def compute_ams_on_cuts(answers, predictions, sample_weight):\n",
      "    \"\"\" Predictions are probabilities\"\"\"\n",
      "    b, s, thresholds = metrics.roc_curve(answers, predictions, sample_weight=sample_weight)\n",
      "    # normalization constants\n",
      "    real_s = 691.988607712\n",
      "    real_b = 410999.847322\n",
      "    s *= real_s\n",
      "    b *= real_b\n",
      "    br = 10.\n",
      "    radicands = 2 * ((s + b + br) * np.log(1.0 + s/(b + br)) - s)\n",
      "    return thresholds, radicands\n",
      "\n",
      "def optimal_AMS(answers, predictions, sample_weight):\n",
      "    \"\"\" Predictions are probabilities \"\"\"\n",
      "    cuts, radicands = compute_ams_on_cuts(answers, predictions, sample_weight)\n",
      "    return np.sqrt(np.max(radicands))\n",
      "\n",
      "\n",
      "def precisionAt15(answers, predictions, sample_weight, percent=0.15):\n",
      "    n_passed = int(len(answers) * percent)\n",
      "    RATIO = 50\n",
      "    weight = sample_weight.copy()\n",
      "    weight[answers == 0] /= weight[answers == 0].mean() / RATIO\n",
      "    weight[answers == 1] /= weight[answers == 1].mean()\n",
      "    order = np.argsort(-predictions)\n",
      "    passed = order[:n_passed]    \n",
      "    return np.average(answers[passed], weights=weight[passed])"
     ],
     "language": "python",
     "metadata": {},
     "outputs": [],
     "prompt_number": 10
    },
    {
     "cell_type": "code",
     "collapsed": false,
     "input": [
      "def print_control_metrics(proba_test, proba_train):\n",
      "    for name, metric in [('ROC', metrics.roc_auc_score), ('AMS', optimal_AMS), ('precision', precisionAt15)]:\n",
      "        print name,\n",
      "        print metric(Yts, proba_test, sample_weight=Wts), \n",
      "        print metric(Ytr, proba_train, sample_weight=Wtr)"
     ],
     "language": "python",
     "metadata": {},
     "outputs": [],
     "prompt_number": 11
    },
    {
     "cell_type": "code",
     "collapsed": false,
     "input": [
      "%%time\n",
      "print_control_metrics(testFactory.predict(trees),trainFactory.predict(trees))"
     ],
     "language": "python",
     "metadata": {},
     "outputs": [
      {
       "output_type": "stream",
       "stream": "stdout",
       "text": [
        "ROC "
       ]
      },
      {
       "output_type": "stream",
       "stream": "stdout",
       "text": [
        "0.935834322801 "
       ]
      },
      {
       "output_type": "stream",
       "stream": "stdout",
       "text": [
        "0.961031841221\n",
        "AMS "
       ]
      },
      {
       "output_type": "stream",
       "stream": "stdout",
       "text": [
        "3.71746365006 "
       ]
      },
      {
       "output_type": "stream",
       "stream": "stdout",
       "text": [
        "5.41899018231\n",
        "precision "
       ]
      },
      {
       "output_type": "stream",
       "stream": "stdout",
       "text": [
        "0.266316147498 "
       ]
      },
      {
       "output_type": "stream",
       "stream": "stdout",
       "text": [
        "0.394846517557\n",
        "Wall time: 1min 8s\n"
       ]
      }
     ],
     "prompt_number": 12
    },
    {
     "cell_type": "markdown",
     "metadata": {},
     "source": [
      "# greedy pruning for the whole data"
     ]
    },
    {
     "cell_type": "code",
     "collapsed": false,
     "input": [
      "class LogLoss:\n",
      "    def __call__(self,factory, pred = None, margin = None):\n",
      "        \"\"\"\n",
      "        i know it isn't; send either prediction or margin\n",
      "        \"\"\"\n",
      "        if margin == None:\n",
      "            margin = pred * factory.labels_sign\n",
      "        return factory.weights *np.logaddexp(0, - margin) #np.log(1+ sp.special.expit(- margin))\n",
      "    def update_leaves(self,factory,margin,tree,lrate,regularizer = 0.):\n",
      "        '''\n",
      "        update leaf values via... Newton guy...\n",
      "        '''\n",
      "        leaf_indices = factory.getLeafIndices(tree)\n",
      "        leaf_values = tree[2]*0\n",
      "        normalizers = np.zeros(leaf_values.shape[0])\n",
      "\n",
      "        expt = sp.special.expit(-margin)\n",
      "        prec_value = factory.weights*factory.labels_sign*expt\n",
      "        prec_norm = (expt) * (1 - expt)*factory.weights\n",
      "        \n",
      "        count_v = np.bincount(leaf_indices, weights=prec_value, minlength=64)\n",
      "        count_n = np.bincount(leaf_indices, weights=prec_norm, minlength=64)\n",
      "        \n",
      "        leaf_values = count_v[:len(leaf_values)]\n",
      "        normalizers = count_n[:len(leaf_values)]+regularizer\n",
      "        leaf_values[normalizers !=0] /= normalizers[normalizers !=0]\n",
      "\n",
      "        newtree = tuple([copy.copy(i) for i in tree[:2]] + [leaf_values*lrate])\n",
      "\n",
      "        return newtree\n",
      "LogLoss = LogLoss()"
     ],
     "language": "python",
     "metadata": {},
     "outputs": [],
     "prompt_number": 13
    },
    {
     "cell_type": "code",
     "collapsed": false,
     "input": [
      "def inthread_try_add(bunch,tree,factory,loss,margin,y_pred,learning_rate,regularizer):\n",
      "        '''in case of joblibification, use this (c)'''\n",
      "        newTree = loss.update_leaves(factory,margin,tree,learning_rate,regularizer)\n",
      "        newPred = y_pred + factory.predict([newTree])\n",
      "        newLoss = np.sum(loss(factory,newPred))\n",
      "        return newLoss,newTree,newPred\n",
      "\n",
      "def try_add1_bfs(bunch, allTrees,factory,learning_rate,loss,breadth,y_pred = None,regularizer = 0.):\n",
      "    '''\n",
      "    select best tree to add (1 step)\n",
      "    '''\n",
      "    y_sign = factory.labels_sign\n",
      "    if y_pred == None:\n",
      "        y_pred = factory.predict(bunch)\n",
      "    margin = y_sign*y_pred\n",
      "    \n",
      "    triples = [inthread_try_add(bunch,tree,factory,loss,margin,y_pred,learning_rate,regularizer) for tree in allTrees]   \n",
      "    triples.sort(key = lambda el: el[0])\n",
      "    \n",
      "    bunches = []\n",
      "    preds = []\n",
      "    for triple in triples[:breadth]:\n",
      "        tree = triple[1]\n",
      "        pred = triple[2]\n",
      "        bunch = bunch+[tree]\n",
      "        bunches.append(bunch)\n",
      "        preds.append(pred)\n",
      "\n",
      "    return bunches,[triple[1] for triple in triples[:breadth]],[triple[0] for triple in triples[:breadth]],preds"
     ],
     "language": "python",
     "metadata": {},
     "outputs": [],
     "prompt_number": 14
    },
    {
     "cell_type": "code",
     "collapsed": false,
     "input": [
      "def greed_up_features_bfs (trees,\n",
      "                           factory,\n",
      "                           loss,\n",
      "                           learning_rate,\n",
      "                           breadth,\n",
      "                           nTrees,\n",
      "                           trees_sample_size,\n",
      "                           verbose = True,\n",
      "                           learning_rate_decay = 1.,\n",
      "                           trees_sample_increase = 0,\n",
      "                           regularizer = 0.):\n",
      "    \"\"\"\n",
      "    Iterative BFS over best ADD-1 results for [nTrees] iterations\n",
      "    \"\"\"\n",
      "    allTrees = copy.copy(trees)\n",
      "    \n",
      "    trees_sample = np.array(random.sample(allTrees,trees_sample_size))\n",
      "    \n",
      "    bunches,additions,losses,preds = try_add1_bfs([],trees_sample,factory,learning_rate,loss,breadth,regularizer = regularizer)\n",
      "    bestScore = min(losses)\n",
      "\n",
      "    if verbose:\n",
      "        print \"\\niteration #\",0,\" ntrees = \", len(bunches[0]),\"\\nbest loss = \",bestScore\n",
      "        print \"learning_rate = \", learning_rate\n",
      "        print \"sample_size\", trees_sample_size\n",
      "\n",
      "    \n",
      "    itr = 0\n",
      "    while len(bunches[0]) <nTrees:\n",
      "\n",
      "        itr+=1\n",
      "        newBunches = []    \n",
      "        newScores = []\n",
      "        newPreds = []\n",
      "        for bunch,pred in zip(bunches,preds):\n",
      "            trees_sample = np.array(random.sample(allTrees,trees_sample_size))\n",
      "            _bunches,_additions,_losses,_preds = try_add1_bfs(bunch,trees_sample,factory,learning_rate,loss,\n",
      "                                                              breadth,pred,regularizer=regularizer)\n",
      "            newBunches+=_bunches\n",
      "            newScores += _losses\n",
      "            newPreds += _preds\n",
      "            \n",
      "        learning_rate *= learning_rate_decay\n",
      "        trees_sample_size = min(len(allTrees),trees_sample_size + trees_sample_increase)\n",
      "            \n",
      "        triples = zip(newScores,newBunches,newPreds)\n",
      "        triples.sort(key = lambda el: el[0])\n",
      "        \n",
      "        \n",
      "        newBestScore = min(newScores)\n",
      "        \n",
      "        if newBestScore > bestScore:\n",
      "            learning_rate /=2.\n",
      "            if learning_rate < 0.00001:\n",
      "                break\n",
      "        else: \n",
      "            bestScore = newBestScore\n",
      "            bunches = [triple[1] for triple in triples[:breadth]]       \n",
      "            preds = [triple[2] for triple in triples[:breadth]]       \n",
      "\n",
      "        \n",
      "        \n",
      "        if verbose:\n",
      "            print \"\\niteration #\",itr,\" ntrees = \", len(bunches[0]),\"\\nbest loss = \", bestScore,\"\\nlast loss = \",newBestScore\n",
      "            print \"learning_rate = \", learning_rate\n",
      "            print \"sample_size\", trees_sample_size          \n",
      "    return bunches[0]"
     ],
     "language": "python",
     "metadata": {},
     "outputs": [],
     "prompt_number": 15
    },
    {
     "cell_type": "code",
     "collapsed": false,
     "input": [
      "#equalize classes, normalize weights\n",
      "sum_p = sum(trainFactory.weights[trainFactory.labels==1])\n",
      "sum_n = sum(trainFactory.weights)-sum_p\n",
      "trainFactory.weights[trainFactory.labels == 1] *= (sum_n/sum_p)/(sum_n*2)\n",
      "trainFactory.weights[trainFactory.labels == 0] *= 1./(sum_n*2)\n",
      "#trainFactory.weights[trainFactory.labels == 1] /= sum(trainFactory.weights[trainFactory.labels == 1])\n",
      "#trainFactory.weights[trainFactory.labels == 0] /= sum(trainFactory.weights[trainFactory.labels == 0])\n"
     ],
     "language": "python",
     "metadata": {},
     "outputs": [],
     "prompt_number": 16
    },
    {
     "cell_type": "code",
     "collapsed": false,
     "input": [
      "print 50./trainFactory.n_events*sum(trainFactory.weights)"
     ],
     "language": "python",
     "metadata": {},
     "outputs": [
      {
       "output_type": "stream",
       "stream": "stdout",
       "text": [
        "0.000392156862745\n"
       ]
      }
     ],
     "prompt_number": 17
    },
    {
     "cell_type": "code",
     "collapsed": false,
     "input": [
      "%%time\n",
      "res_greedy = greed_up_features_bfs(trees,trainFactory,LogLoss,.3,1,100,100,True,1.,0,regularizer=0.000784338332183)\n",
      "#res_greedy = joblib.load(\"greedy 100 trees\")"
     ],
     "language": "python",
     "metadata": {},
     "outputs": [
      {
       "output_type": "stream",
       "stream": "stdout",
       "text": [
        "\n",
        "iteration # 0  ntrees =  1 \n",
        "best loss =  0.580921168775\n",
        "learning_rate =  0.3\n",
        "sample_size 100\n",
        "\n",
        "iteration #"
       ]
      },
      {
       "output_type": "stream",
       "stream": "stdout",
       "text": [
        " 1  ntrees =  2 \n",
        "best loss =  0.51688390276 \n",
        "last loss =  0.51688390276\n",
        "learning_rate =  0.3\n",
        "sample_size 100\n",
        "\n",
        "iteration #"
       ]
      },
      {
       "output_type": "stream",
       "stream": "stdout",
       "text": [
        " 2  ntrees =  3 \n",
        "best loss =  0.467151585165 \n",
        "last loss =  0.467151585165\n",
        "learning_rate =  0.3\n",
        "sample_size 100\n",
        "\n",
        "iteration #"
       ]
      },
      {
       "output_type": "stream",
       "stream": "stdout",
       "text": [
        " 3  ntrees =  4 \n",
        "best loss =  0.434403777893 \n",
        "last loss =  0.434403777893\n",
        "learning_rate =  0.3\n",
        "sample_size 100\n",
        "\n",
        "iteration #"
       ]
      },
      {
       "output_type": "stream",
       "stream": "stdout",
       "text": [
        " 4  ntrees =  5 \n",
        "best loss =  0.413799792925 \n",
        "last loss =  0.413799792925\n",
        "learning_rate =  0.3\n",
        "sample_size 100\n",
        "\n",
        "iteration #"
       ]
      },
      {
       "output_type": "stream",
       "stream": "stdout",
       "text": [
        " 5  ntrees =  6 \n",
        "best loss =  0.398198724399 \n",
        "last loss =  0.398198724399\n",
        "learning_rate =  0.3\n",
        "sample_size 100\n",
        "\n",
        "iteration #"
       ]
      },
      {
       "output_type": "stream",
       "stream": "stdout",
       "text": [
        " 6  ntrees =  7 \n",
        "best loss =  0.388349329237 \n",
        "last loss =  0.388349329237\n",
        "learning_rate =  0.3\n",
        "sample_size 100\n",
        "\n",
        "iteration #"
       ]
      },
      {
       "output_type": "stream",
       "stream": "stdout",
       "text": [
        " 7  ntrees =  8 \n",
        "best loss =  0.381303679933 \n",
        "last loss =  0.381303679933\n",
        "learning_rate =  0.3\n",
        "sample_size 100\n",
        "\n",
        "iteration #"
       ]
      },
      {
       "output_type": "stream",
       "stream": "stdout",
       "text": [
        " 8  ntrees =  9 \n",
        "best loss =  0.374401113868 \n",
        "last loss =  0.374401113868\n",
        "learning_rate =  0.3\n",
        "sample_size 100\n",
        "\n",
        "iteration #"
       ]
      },
      {
       "output_type": "stream",
       "stream": "stdout",
       "text": [
        " 9  ntrees =  10 \n",
        "best loss =  0.369773269758 \n",
        "last loss =  0.369773269758\n",
        "learning_rate =  0.3\n",
        "sample_size 100\n",
        "\n",
        "iteration #"
       ]
      },
      {
       "output_type": "stream",
       "stream": "stdout",
       "text": [
        " 10  ntrees =  11 \n",
        "best loss =  0.36610173927 \n",
        "last loss =  0.36610173927\n",
        "learning_rate =  0.3\n",
        "sample_size 100\n",
        "\n",
        "iteration #"
       ]
      },
      {
       "output_type": "stream",
       "stream": "stdout",
       "text": [
        " 11  ntrees =  12 \n",
        "best loss =  0.362028974269 \n",
        "last loss =  0.362028974269\n",
        "learning_rate =  0.3\n",
        "sample_size 100\n",
        "\n",
        "iteration #"
       ]
      },
      {
       "output_type": "stream",
       "stream": "stdout",
       "text": [
        " 12  ntrees =  13 \n",
        "best loss =  0.358663758212 \n",
        "last loss =  0.358663758212\n",
        "learning_rate =  0.3\n",
        "sample_size 100\n",
        "\n",
        "iteration #"
       ]
      },
      {
       "output_type": "stream",
       "stream": "stdout",
       "text": [
        " 13  ntrees =  14 \n",
        "best loss =  0.356158458926 \n",
        "last loss =  0.356158458926\n",
        "learning_rate =  0.3\n",
        "sample_size 100\n",
        "\n",
        "iteration #"
       ]
      },
      {
       "output_type": "stream",
       "stream": "stdout",
       "text": [
        " 14  ntrees =  15 \n",
        "best loss =  0.353662648137 \n",
        "last loss =  0.353662648137\n",
        "learning_rate =  0.3\n",
        "sample_size 100\n",
        "\n",
        "iteration #"
       ]
      },
      {
       "output_type": "stream",
       "stream": "stdout",
       "text": [
        " 15  ntrees =  16 \n",
        "best loss =  0.351518726406 \n",
        "last loss =  0.351518726406\n",
        "learning_rate =  0.3\n",
        "sample_size 100\n",
        "\n",
        "iteration #"
       ]
      },
      {
       "output_type": "stream",
       "stream": "stdout",
       "text": [
        " 16  ntrees =  17 \n",
        "best loss =  0.349801562892 \n",
        "last loss =  0.349801562892\n",
        "learning_rate =  0.3\n",
        "sample_size 100\n",
        "\n",
        "iteration #"
       ]
      },
      {
       "output_type": "stream",
       "stream": "stdout",
       "text": [
        " 17  ntrees =  18 \n",
        "best loss =  0.348128338091 \n",
        "last loss =  0.348128338091\n",
        "learning_rate =  0.3\n",
        "sample_size 100\n",
        "\n",
        "iteration #"
       ]
      },
      {
       "output_type": "stream",
       "stream": "stdout",
       "text": [
        " 18  ntrees =  19 \n",
        "best loss =  0.34635885415 \n",
        "last loss =  0.34635885415\n",
        "learning_rate =  0.3\n",
        "sample_size 100\n",
        "\n",
        "iteration #"
       ]
      },
      {
       "output_type": "stream",
       "stream": "stdout",
       "text": [
        " 19  ntrees =  20 \n",
        "best loss =  0.344514434056 \n",
        "last loss =  0.344514434056\n",
        "learning_rate =  0.3\n",
        "sample_size 100\n",
        "\n",
        "iteration #"
       ]
      },
      {
       "output_type": "stream",
       "stream": "stdout",
       "text": [
        " 20  ntrees =  21 \n",
        "best loss =  0.343283412278 \n",
        "last loss =  0.343283412278\n",
        "learning_rate =  0.3\n",
        "sample_size 100\n",
        "\n",
        "iteration #"
       ]
      },
      {
       "output_type": "stream",
       "stream": "stdout",
       "text": [
        " 21  ntrees =  22 \n",
        "best loss =  0.342159321479 \n",
        "last loss =  0.342159321479\n",
        "learning_rate =  0.3\n",
        "sample_size 100\n",
        "\n",
        "iteration #"
       ]
      },
      {
       "output_type": "stream",
       "stream": "stdout",
       "text": [
        " 22  ntrees =  23 \n",
        "best loss =  0.341018963593 \n",
        "last loss =  0.341018963593\n",
        "learning_rate =  0.3\n",
        "sample_size 100\n",
        "\n",
        "iteration #"
       ]
      },
      {
       "output_type": "stream",
       "stream": "stdout",
       "text": [
        " 23  ntrees =  24 \n",
        "best loss =  0.34003060496 \n",
        "last loss =  0.34003060496\n",
        "learning_rate =  0.3\n",
        "sample_size 100\n",
        "\n",
        "iteration #"
       ]
      },
      {
       "output_type": "stream",
       "stream": "stdout",
       "text": [
        " 24  ntrees =  25 \n",
        "best loss =  0.339069918836 \n",
        "last loss =  0.339069918836\n",
        "learning_rate =  0.3\n",
        "sample_size 100\n",
        "\n",
        "iteration #"
       ]
      },
      {
       "output_type": "stream",
       "stream": "stdout",
       "text": [
        " 25  ntrees =  26 \n",
        "best loss =  0.3380766634 \n",
        "last loss =  0.3380766634\n",
        "learning_rate =  0.3\n",
        "sample_size 100\n",
        "\n",
        "iteration #"
       ]
      },
      {
       "output_type": "stream",
       "stream": "stdout",
       "text": [
        " 26  ntrees =  27 \n",
        "best loss =  0.337250712249 \n",
        "last loss =  0.337250712249\n",
        "learning_rate =  0.3\n",
        "sample_size 100\n",
        "\n",
        "iteration #"
       ]
      },
      {
       "output_type": "stream",
       "stream": "stdout",
       "text": [
        " 27  ntrees =  28 \n",
        "best loss =  0.336488434981 \n",
        "last loss =  0.336488434981\n",
        "learning_rate =  0.3\n",
        "sample_size 100\n",
        "\n",
        "iteration #"
       ]
      },
      {
       "output_type": "stream",
       "stream": "stdout",
       "text": [
        " 28  ntrees =  29 \n",
        "best loss =  0.335659615275 \n",
        "last loss =  0.335659615275\n",
        "learning_rate =  0.3\n",
        "sample_size 100\n",
        "\n",
        "iteration #"
       ]
      },
      {
       "output_type": "stream",
       "stream": "stdout",
       "text": [
        " 29  ntrees =  30 \n",
        "best loss =  0.334962253613 \n",
        "last loss =  0.334962253613\n",
        "learning_rate =  0.3\n",
        "sample_size 100\n",
        "\n",
        "iteration #"
       ]
      },
      {
       "output_type": "stream",
       "stream": "stdout",
       "text": [
        " 30  ntrees =  31 \n",
        "best loss =  0.334168180678 \n",
        "last loss =  0.334168180678\n",
        "learning_rate =  0.3\n",
        "sample_size 100\n",
        "\n",
        "iteration #"
       ]
      },
      {
       "output_type": "stream",
       "stream": "stdout",
       "text": [
        " 31  ntrees =  32 \n",
        "best loss =  0.333476189223 \n",
        "last loss =  0.333476189223\n",
        "learning_rate =  0.3\n",
        "sample_size 100\n",
        "\n",
        "iteration #"
       ]
      },
      {
       "output_type": "stream",
       "stream": "stdout",
       "text": [
        " 32  ntrees =  33 \n",
        "best loss =  0.332921053764 \n",
        "last loss =  0.332921053764\n",
        "learning_rate =  0.3\n",
        "sample_size 100\n",
        "\n",
        "iteration #"
       ]
      },
      {
       "output_type": "stream",
       "stream": "stdout",
       "text": [
        " 33  ntrees =  34 \n",
        "best loss =  0.332296500956 \n",
        "last loss =  0.332296500956\n",
        "learning_rate =  0.3\n",
        "sample_size 100\n",
        "\n",
        "iteration #"
       ]
      },
      {
       "output_type": "stream",
       "stream": "stdout",
       "text": [
        " 34  ntrees =  35 \n",
        "best loss =  0.331688613147 \n",
        "last loss =  0.331688613147\n",
        "learning_rate =  0.3\n",
        "sample_size 100\n",
        "\n",
        "iteration #"
       ]
      },
      {
       "output_type": "stream",
       "stream": "stdout",
       "text": [
        " 35  ntrees =  36 \n",
        "best loss =  0.331116358338 \n",
        "last loss =  0.331116358338\n",
        "learning_rate =  0.3\n",
        "sample_size 100\n",
        "\n",
        "iteration #"
       ]
      },
      {
       "output_type": "stream",
       "stream": "stdout",
       "text": [
        " 36  ntrees =  37 \n",
        "best loss =  0.330611978871 \n",
        "last loss =  0.330611978871\n",
        "learning_rate =  0.3\n",
        "sample_size 100\n",
        "\n",
        "iteration #"
       ]
      },
      {
       "output_type": "stream",
       "stream": "stdout",
       "text": [
        " 37  ntrees =  38 \n",
        "best loss =  0.330123007145 \n",
        "last loss =  0.330123007145\n",
        "learning_rate =  0.3\n",
        "sample_size 100\n",
        "\n",
        "iteration #"
       ]
      },
      {
       "output_type": "stream",
       "stream": "stdout",
       "text": [
        " 38  ntrees =  39 \n",
        "best loss =  0.329680644149 \n",
        "last loss =  0.329680644149\n",
        "learning_rate =  0.3\n",
        "sample_size 100\n",
        "\n",
        "iteration #"
       ]
      },
      {
       "output_type": "stream",
       "stream": "stdout",
       "text": [
        " 39  ntrees =  40 \n",
        "best loss =  0.329232588975 \n",
        "last loss =  0.329232588975\n",
        "learning_rate =  0.3\n",
        "sample_size 100\n",
        "\n",
        "iteration #"
       ]
      },
      {
       "output_type": "stream",
       "stream": "stdout",
       "text": [
        " 40  ntrees =  41 \n",
        "best loss =  0.328804764582 \n",
        "last loss =  0.328804764582\n",
        "learning_rate =  0.3\n",
        "sample_size 100\n",
        "\n",
        "iteration #"
       ]
      },
      {
       "output_type": "stream",
       "stream": "stdout",
       "text": [
        " 41  ntrees =  42 \n",
        "best loss =  0.328322236421 \n",
        "last loss =  0.328322236421\n",
        "learning_rate =  0.3\n",
        "sample_size 100\n",
        "\n",
        "iteration #"
       ]
      },
      {
       "output_type": "stream",
       "stream": "stdout",
       "text": [
        " 42  ntrees =  43 \n",
        "best loss =  0.327899411021 \n",
        "last loss =  0.327899411021\n",
        "learning_rate =  0.3\n",
        "sample_size 100\n",
        "\n",
        "iteration #"
       ]
      },
      {
       "output_type": "stream",
       "stream": "stdout",
       "text": [
        " 43  ntrees =  44 \n",
        "best loss =  0.327491597225 \n",
        "last loss =  0.327491597225\n",
        "learning_rate =  0.3\n",
        "sample_size 100\n",
        "\n",
        "iteration #"
       ]
      },
      {
       "output_type": "stream",
       "stream": "stdout",
       "text": [
        " 44  ntrees =  45 \n",
        "best loss =  0.327091244295 \n",
        "last loss =  0.327091244295\n",
        "learning_rate =  0.3\n",
        "sample_size 100\n",
        "\n",
        "iteration #"
       ]
      },
      {
       "output_type": "stream",
       "stream": "stdout",
       "text": [
        " 45  ntrees =  46 \n",
        "best loss =  0.326722515827 \n",
        "last loss =  0.326722515827\n",
        "learning_rate =  0.3\n",
        "sample_size 100\n",
        "\n",
        "iteration #"
       ]
      },
      {
       "output_type": "stream",
       "stream": "stdout",
       "text": [
        " 46  ntrees =  47 \n",
        "best loss =  0.32638726234 \n",
        "last loss =  0.32638726234\n",
        "learning_rate =  0.3\n",
        "sample_size 100\n",
        "\n",
        "iteration #"
       ]
      },
      {
       "output_type": "stream",
       "stream": "stdout",
       "text": [
        " 47  ntrees =  48 \n",
        "best loss =  0.325998013645 \n",
        "last loss =  0.325998013645\n",
        "learning_rate =  0.3\n",
        "sample_size 100\n",
        "\n",
        "iteration #"
       ]
      },
      {
       "output_type": "stream",
       "stream": "stdout",
       "text": [
        " 48  ntrees =  49 \n",
        "best loss =  0.325607805156 \n",
        "last loss =  0.325607805156\n",
        "learning_rate =  0.3\n",
        "sample_size 100\n",
        "\n",
        "iteration #"
       ]
      },
      {
       "output_type": "stream",
       "stream": "stdout",
       "text": [
        " 49  ntrees =  50 \n",
        "best loss =  0.32527195871 \n",
        "last loss =  0.32527195871\n",
        "learning_rate =  0.3\n",
        "sample_size 100\n",
        "\n",
        "iteration #"
       ]
      },
      {
       "output_type": "stream",
       "stream": "stdout",
       "text": [
        " 50  ntrees =  51 \n",
        "best loss =  0.324895370281 \n",
        "last loss =  0.324895370281\n",
        "learning_rate =  0.3\n",
        "sample_size 100\n",
        "\n",
        "iteration #"
       ]
      },
      {
       "output_type": "stream",
       "stream": "stdout",
       "text": [
        " 51  ntrees =  52 \n",
        "best loss =  0.324566082302 \n",
        "last loss =  0.324566082302\n",
        "learning_rate =  0.3\n",
        "sample_size 100\n",
        "\n",
        "iteration #"
       ]
      },
      {
       "output_type": "stream",
       "stream": "stdout",
       "text": [
        " 52  ntrees =  53 \n",
        "best loss =  0.324278721933 \n",
        "last loss =  0.324278721933\n",
        "learning_rate =  0.3\n",
        "sample_size 100\n",
        "\n",
        "iteration #"
       ]
      },
      {
       "output_type": "stream",
       "stream": "stdout",
       "text": [
        " 53  ntrees =  54 \n",
        "best loss =  0.323943741758 \n",
        "last loss =  0.323943741758\n",
        "learning_rate =  0.3\n",
        "sample_size 100\n",
        "\n",
        "iteration #"
       ]
      },
      {
       "output_type": "stream",
       "stream": "stdout",
       "text": [
        " 54  ntrees =  55 \n",
        "best loss =  0.323645806884 \n",
        "last loss =  0.323645806884\n",
        "learning_rate =  0.3\n",
        "sample_size 100\n",
        "\n",
        "iteration #"
       ]
      },
      {
       "output_type": "stream",
       "stream": "stdout",
       "text": [
        " 55  ntrees =  56 \n",
        "best loss =  0.32333649416 \n",
        "last loss =  0.32333649416\n",
        "learning_rate =  0.3\n",
        "sample_size 100\n",
        "\n",
        "iteration #"
       ]
      },
      {
       "output_type": "stream",
       "stream": "stdout",
       "text": [
        " 56  ntrees =  57 \n",
        "best loss =  0.32296487577 \n",
        "last loss =  0.32296487577\n",
        "learning_rate =  0.3\n",
        "sample_size 100\n",
        "\n",
        "iteration #"
       ]
      },
      {
       "output_type": "stream",
       "stream": "stdout",
       "text": [
        " 57  ntrees =  58 \n",
        "best loss =  0.322682161578 \n",
        "last loss =  0.322682161578\n",
        "learning_rate =  0.3\n",
        "sample_size 100\n",
        "\n",
        "iteration #"
       ]
      },
      {
       "output_type": "stream",
       "stream": "stdout",
       "text": [
        " 58  ntrees =  59 \n",
        "best loss =  0.322399145897 \n",
        "last loss =  0.322399145897\n",
        "learning_rate =  0.3\n",
        "sample_size 100\n",
        "\n",
        "iteration #"
       ]
      },
      {
       "output_type": "stream",
       "stream": "stdout",
       "text": [
        " 59  ntrees =  60 \n",
        "best loss =  0.322124477463 \n",
        "last loss =  0.322124477463\n",
        "learning_rate =  0.3\n",
        "sample_size 100\n",
        "\n",
        "iteration #"
       ]
      },
      {
       "output_type": "stream",
       "stream": "stdout",
       "text": [
        " 60  ntrees =  61 \n",
        "best loss =  0.321833214402 \n",
        "last loss =  0.321833214402\n",
        "learning_rate =  0.3\n",
        "sample_size 100\n",
        "\n",
        "iteration #"
       ]
      },
      {
       "output_type": "stream",
       "stream": "stdout",
       "text": [
        " 61  ntrees =  62 \n",
        "best loss =  0.321499024549 \n",
        "last loss =  0.321499024549\n",
        "learning_rate =  0.3\n",
        "sample_size 100\n",
        "\n",
        "iteration #"
       ]
      },
      {
       "output_type": "stream",
       "stream": "stdout",
       "text": [
        " 62  ntrees =  63 \n",
        "best loss =  0.321224529472 \n",
        "last loss =  0.321224529472\n",
        "learning_rate =  0.3\n",
        "sample_size 100\n",
        "\n",
        "iteration #"
       ]
      },
      {
       "output_type": "stream",
       "stream": "stdout",
       "text": [
        " 63  ntrees =  64 \n",
        "best loss =  0.32094409765 \n",
        "last loss =  0.32094409765\n",
        "learning_rate =  0.3\n",
        "sample_size 100\n",
        "\n",
        "iteration #"
       ]
      },
      {
       "output_type": "stream",
       "stream": "stdout",
       "text": [
        " 64  ntrees =  65 \n",
        "best loss =  0.320639692582 \n",
        "last loss =  0.320639692582\n",
        "learning_rate =  0.3\n",
        "sample_size 100\n",
        "\n",
        "iteration #"
       ]
      },
      {
       "output_type": "stream",
       "stream": "stdout",
       "text": [
        " 65  ntrees =  66 \n",
        "best loss =  0.320349079958 \n",
        "last loss =  0.320349079958\n",
        "learning_rate =  0.3\n",
        "sample_size 100\n",
        "\n",
        "iteration #"
       ]
      },
      {
       "output_type": "stream",
       "stream": "stdout",
       "text": [
        " 66  ntrees =  67 \n",
        "best loss =  0.320069676863 \n",
        "last loss =  0.320069676863\n",
        "learning_rate =  0.3\n",
        "sample_size 100\n",
        "\n",
        "iteration #"
       ]
      },
      {
       "output_type": "stream",
       "stream": "stdout",
       "text": [
        " 67  ntrees =  68 \n",
        "best loss =  0.319806358889 \n",
        "last loss =  0.319806358889\n",
        "learning_rate =  0.3\n",
        "sample_size 100\n",
        "\n",
        "iteration #"
       ]
      },
      {
       "output_type": "stream",
       "stream": "stdout",
       "text": [
        " 68  ntrees =  69 \n",
        "best loss =  0.319518262302 \n",
        "last loss =  0.319518262302\n",
        "learning_rate =  0.3\n",
        "sample_size 100\n",
        "\n",
        "iteration #"
       ]
      },
      {
       "output_type": "stream",
       "stream": "stdout",
       "text": [
        " 69  ntrees =  70 \n",
        "best loss =  0.319280019801 \n",
        "last loss =  0.319280019801\n",
        "learning_rate =  0.3\n",
        "sample_size 100\n",
        "\n",
        "iteration #"
       ]
      },
      {
       "output_type": "stream",
       "stream": "stdout",
       "text": [
        " 70  ntrees =  71 \n",
        "best loss =  0.319064892229 \n",
        "last loss =  0.319064892229\n",
        "learning_rate =  0.3\n",
        "sample_size 100\n",
        "\n",
        "iteration #"
       ]
      },
      {
       "output_type": "stream",
       "stream": "stdout",
       "text": [
        " 71  ntrees =  72 \n",
        "best loss =  0.318784643127 \n",
        "last loss =  0.318784643127\n",
        "learning_rate =  0.3\n",
        "sample_size 100\n",
        "\n",
        "iteration #"
       ]
      },
      {
       "output_type": "stream",
       "stream": "stdout",
       "text": [
        " 72  ntrees =  73 \n",
        "best loss =  0.318562856078 \n",
        "last loss =  0.318562856078\n",
        "learning_rate =  0.3\n",
        "sample_size 100\n",
        "\n",
        "iteration #"
       ]
      },
      {
       "output_type": "stream",
       "stream": "stdout",
       "text": [
        " 73  ntrees =  74 \n",
        "best loss =  0.31829967722 \n",
        "last loss =  0.31829967722\n",
        "learning_rate =  0.3\n",
        "sample_size 100\n",
        "\n",
        "iteration #"
       ]
      },
      {
       "output_type": "stream",
       "stream": "stdout",
       "text": [
        " 74  ntrees =  75 \n",
        "best loss =  0.318066903826 \n",
        "last loss =  0.318066903826\n",
        "learning_rate =  0.3\n",
        "sample_size 100\n",
        "\n",
        "iteration #"
       ]
      },
      {
       "output_type": "stream",
       "stream": "stdout",
       "text": [
        " 75  ntrees =  76 \n",
        "best loss =  0.317804162622 \n",
        "last loss =  0.317804162622\n",
        "learning_rate =  0.3\n",
        "sample_size 100\n",
        "\n",
        "iteration #"
       ]
      },
      {
       "output_type": "stream",
       "stream": "stdout",
       "text": [
        " 76  ntrees =  77 \n",
        "best loss =  0.317576045686 \n",
        "last loss =  0.317576045686\n",
        "learning_rate =  0.3\n",
        "sample_size 100\n",
        "\n",
        "iteration #"
       ]
      },
      {
       "output_type": "stream",
       "stream": "stdout",
       "text": [
        " 77  ntrees =  78 \n",
        "best loss =  0.317372066232 \n",
        "last loss =  0.317372066232\n",
        "learning_rate =  0.3\n",
        "sample_size 100\n",
        "\n",
        "iteration #"
       ]
      },
      {
       "output_type": "stream",
       "stream": "stdout",
       "text": [
        " 78  ntrees =  79 \n",
        "best loss =  0.317159579904 \n",
        "last loss =  0.317159579904\n",
        "learning_rate =  0.3\n",
        "sample_size 100\n",
        "\n",
        "iteration #"
       ]
      },
      {
       "output_type": "stream",
       "stream": "stdout",
       "text": [
        " 79  ntrees =  80 \n",
        "best loss =  0.316962633436 \n",
        "last loss =  0.316962633436\n",
        "learning_rate =  0.3\n",
        "sample_size 100\n",
        "\n",
        "iteration #"
       ]
      },
      {
       "output_type": "stream",
       "stream": "stdout",
       "text": [
        " 80  ntrees =  81 \n",
        "best loss =  0.316752163833 \n",
        "last loss =  0.316752163833\n",
        "learning_rate =  0.3\n",
        "sample_size 100\n",
        "\n",
        "iteration #"
       ]
      },
      {
       "output_type": "stream",
       "stream": "stdout",
       "text": [
        " 81  ntrees =  82 \n",
        "best loss =  0.316545036357 \n",
        "last loss =  0.316545036357\n",
        "learning_rate =  0.3\n",
        "sample_size 100\n",
        "\n",
        "iteration #"
       ]
      },
      {
       "output_type": "stream",
       "stream": "stdout",
       "text": [
        " 82  ntrees =  83 \n",
        "best loss =  0.316337300784 \n",
        "last loss =  0.316337300784\n",
        "learning_rate =  0.3\n",
        "sample_size 100\n",
        "\n",
        "iteration #"
       ]
      },
      {
       "output_type": "stream",
       "stream": "stdout",
       "text": [
        " 83  ntrees =  84 \n",
        "best loss =  0.316105976968 \n",
        "last loss =  0.316105976968\n",
        "learning_rate =  0.3\n",
        "sample_size 100\n",
        "\n",
        "iteration #"
       ]
      },
      {
       "output_type": "stream",
       "stream": "stdout",
       "text": [
        " 84  ntrees =  85 \n",
        "best loss =  0.315863833317 \n",
        "last loss =  0.315863833317\n",
        "learning_rate =  0.3\n",
        "sample_size 100\n",
        "\n",
        "iteration #"
       ]
      },
      {
       "output_type": "stream",
       "stream": "stdout",
       "text": [
        " 85  ntrees =  86 \n",
        "best loss =  0.315658080667 \n",
        "last loss =  0.315658080667\n",
        "learning_rate =  0.3\n",
        "sample_size 100\n",
        "\n",
        "iteration #"
       ]
      },
      {
       "output_type": "stream",
       "stream": "stdout",
       "text": [
        " 86  ntrees =  87 \n",
        "best loss =  0.315424084367 \n",
        "last loss =  0.315424084367\n",
        "learning_rate =  0.3\n",
        "sample_size 100\n",
        "\n",
        "iteration #"
       ]
      },
      {
       "output_type": "stream",
       "stream": "stdout",
       "text": [
        " 87  ntrees =  88 \n",
        "best loss =  0.315200149415 \n",
        "last loss =  0.315200149415\n",
        "learning_rate =  0.3\n",
        "sample_size 100\n",
        "\n",
        "iteration #"
       ]
      },
      {
       "output_type": "stream",
       "stream": "stdout",
       "text": [
        " 88  ntrees =  89 \n",
        "best loss =  0.315014412022 \n",
        "last loss =  0.315014412022\n",
        "learning_rate =  0.3\n",
        "sample_size 100\n",
        "\n",
        "iteration #"
       ]
      },
      {
       "output_type": "stream",
       "stream": "stdout",
       "text": [
        " 89  ntrees =  90 \n",
        "best loss =  0.314807554643 \n",
        "last loss =  0.314807554643\n",
        "learning_rate =  0.3\n",
        "sample_size 100\n",
        "\n",
        "iteration #"
       ]
      },
      {
       "output_type": "stream",
       "stream": "stdout",
       "text": [
        " 90  ntrees =  91 \n",
        "best loss =  0.314559010858 \n",
        "last loss =  0.314559010858\n",
        "learning_rate =  0.3\n",
        "sample_size 100\n",
        "\n",
        "iteration #"
       ]
      },
      {
       "output_type": "stream",
       "stream": "stdout",
       "text": [
        " 91  ntrees =  92 \n",
        "best loss =  0.314376906175 \n",
        "last loss =  0.314376906175\n",
        "learning_rate =  0.3\n",
        "sample_size 100\n",
        "\n",
        "iteration #"
       ]
      },
      {
       "output_type": "stream",
       "stream": "stdout",
       "text": [
        " 92  ntrees =  93 \n",
        "best loss =  0.314170716781 \n",
        "last loss =  0.314170716781\n",
        "learning_rate =  0.3\n",
        "sample_size 100\n",
        "\n",
        "iteration #"
       ]
      },
      {
       "output_type": "stream",
       "stream": "stdout",
       "text": [
        " 93  ntrees =  94 \n",
        "best loss =  0.313970022543 \n",
        "last loss =  0.313970022543\n",
        "learning_rate =  0.3\n",
        "sample_size 100\n",
        "\n",
        "iteration #"
       ]
      },
      {
       "output_type": "stream",
       "stream": "stdout",
       "text": [
        " 94  ntrees =  95 \n",
        "best loss =  0.313772275201 \n",
        "last loss =  0.313772275201\n",
        "learning_rate =  0.3\n",
        "sample_size 100\n",
        "\n",
        "iteration #"
       ]
      },
      {
       "output_type": "stream",
       "stream": "stdout",
       "text": [
        " 95  ntrees =  96 \n",
        "best loss =  0.313587504614 \n",
        "last loss =  0.313587504614\n",
        "learning_rate =  0.3\n",
        "sample_size 100\n",
        "\n",
        "iteration #"
       ]
      },
      {
       "output_type": "stream",
       "stream": "stdout",
       "text": [
        " 96  ntrees =  97 \n",
        "best loss =  0.313394458206 \n",
        "last loss =  0.313394458206\n",
        "learning_rate =  0.3\n",
        "sample_size 100\n",
        "\n",
        "iteration #"
       ]
      },
      {
       "output_type": "stream",
       "stream": "stdout",
       "text": [
        " 97  ntrees =  98 \n",
        "best loss =  0.313194848841 \n",
        "last loss =  0.313194848841\n",
        "learning_rate =  0.3\n",
        "sample_size 100\n",
        "\n",
        "iteration #"
       ]
      },
      {
       "output_type": "stream",
       "stream": "stdout",
       "text": [
        " 98  ntrees =  99 \n",
        "best loss =  0.313008666104 \n",
        "last loss =  0.313008666104\n",
        "learning_rate =  0.3\n",
        "sample_size 100\n",
        "\n",
        "iteration #"
       ]
      },
      {
       "output_type": "stream",
       "stream": "stdout",
       "text": [
        " 99  ntrees =  100 \n",
        "best loss =  0.312796897084 \n",
        "last loss =  0.312796897084\n",
        "learning_rate =  0.3\n",
        "sample_size 100\n",
        "Wall time: 6min 37s\n"
       ]
      },
      {
       "output_type": "stream",
       "stream": "stderr",
       "text": [
        "-c:13: FutureWarning: comparison to `None` will result in an elementwise object comparison in the future.\n"
       ]
      }
     ],
     "prompt_number": 18
    },
    {
     "cell_type": "code",
     "collapsed": false,
     "input": [
      "y_pred_greedy = testFactory.predict(res_greedy[:100])\n",
      "y_pred_stupid = testFactory.predict(trees[:100])\n",
      "y_pred_full = testFactory.predict(trees)\n",
      "w_test = testFactory.weights"
     ],
     "language": "python",
     "metadata": {},
     "outputs": [],
     "prompt_number": 19
    },
    {
     "cell_type": "code",
     "collapsed": false,
     "input": [
      "print metrics.roc_auc_score(Yts,y_pred_greedy,sample_weight=w_test),\n",
      "print metrics.roc_auc_score(Yts,y_pred_stupid,sample_weight=w_test),\n",
      "print metrics.roc_auc_score(Yts,y_pred_full,sample_weight=w_test)\n",
      "print \"well...\""
     ],
     "language": "python",
     "metadata": {},
     "outputs": [
      {
       "output_type": "stream",
       "stream": "stdout",
       "text": [
        "0.933887995829 "
       ]
      },
      {
       "output_type": "stream",
       "stream": "stdout",
       "text": [
        "0.916904744001 "
       ]
      },
      {
       "output_type": "stream",
       "stream": "stdout",
       "text": [
        "0.935834322801\n",
        "well...\n"
       ]
      }
     ],
     "prompt_number": 20
    },
    {
     "cell_type": "code",
     "collapsed": false,
     "input": [
      "_ = joblib.dump(res_greedy,\"greedy 100 trees\")"
     ],
     "language": "python",
     "metadata": {},
     "outputs": [],
     "prompt_number": 21
    },
    {
     "cell_type": "markdown",
     "metadata": {},
     "source": [
      "# Upper level thresholds extraction"
     ]
    },
    {
     "cell_type": "code",
     "collapsed": false,
     "input": [
      "#thresholds extraction\n",
      "cuts = lambda feature: reduce(np.append,[tree[1][tree[0] == feature] for tree in  trees])"
     ],
     "language": "python",
     "metadata": {},
     "outputs": [],
     "prompt_number": 22
    },
    {
     "cell_type": "code",
     "collapsed": false,
     "input": [
      "def get_inclusion(feature,tolerance=0.):\n",
      "    \"\"\"\n",
      "    Get the inclusion counts of thresholds\n",
      "    \"\"\"\n",
      "    thresholds = cuts(feature)\n",
      "    tolerance *= np.var(thresholds)\n",
      "    thrs = { threshold: len(filter(\n",
      "                                lambda thr: abs(thr - threshold) <= tolerance,\n",
      "                                thresholds)\n",
      "                           )\n",
      "            for threshold in set(thresholds)}\n",
      "    return thrs"
     ],
     "language": "python",
     "metadata": {},
     "outputs": [],
     "prompt_number": 23
    },
    {
     "cell_type": "code",
     "collapsed": false,
     "input": [
      "best = {i:get_inclusion(i,0.001) for i in range(30)}"
     ],
     "language": "python",
     "metadata": {},
     "outputs": [],
     "prompt_number": 24
    },
    {
     "cell_type": "code",
     "collapsed": false,
     "input": [
      "#usability distribution\n",
      "thresholds = reduce(np.append,[zip(np.repeat(i,len(best[i])),best[i].keys(),best[i].values()) for i in best])\n",
      "thresholds = thresholds.reshape(thresholds.shape[0]/3,3)"
     ],
     "language": "python",
     "metadata": {},
     "outputs": [],
     "prompt_number": 25
    },
    {
     "cell_type": "code",
     "collapsed": false,
     "input": [
      "plt.scatter(range(len(thresholds)),thresholds[:,2])\n",
      "print sum(thresholds[:,2] >150)"
     ],
     "language": "python",
     "metadata": {},
     "outputs": [
      {
       "output_type": "stream",
       "stream": "stdout",
       "text": [
        "96\n"
       ]
      },
      {
       "metadata": {},
       "output_type": "display_data",
       "png": "[encoded data removed]",
       "text": [
        "<matplotlib.figure.Figure at 0x41a7e80>"
       ]
      }
     ],
     "prompt_number": 26
    },
    {
     "cell_type": "markdown",
     "metadata": {},
     "source": [
      "# Criteria selection"
     ]
    },
    {
     "cell_type": "code",
     "collapsed": false,
     "input": [
      "def entropy(distribution):\n",
      "    \"\"\"just some entropy\"\"\"\n",
      "    logs = np.array(map(np.log,distribution))\n",
      "    logs[distribution ==0] = 0\n",
      "    return -sum(distribution*logs)"
     ],
     "language": "python",
     "metadata": {},
     "outputs": [],
     "prompt_number": 27
    },
    {
     "cell_type": "code",
     "collapsed": false,
     "input": [
      "def select_criteria(factory, thresholds_active,depth,verbose = True):\n",
      "    \"\"\"\n",
      "    I find the most _even_ dichotomies of a given depth among the given thresholds... greedily\n",
      "    \"\"\"\n",
      "    leaves = {\"\":factory}\n",
      "    criteria = []\n",
      "\n",
      "    for i in range(depth):\n",
      "        entropies = []\n",
      "        for feature,cut,_ in thresholds_active:\n",
      "            split_distribution = []\n",
      "            for leaf in leaves:\n",
      "                subFactory = leaves[leaf]\n",
      "                predicate = (subFactory.events[:,feature] > cut)\n",
      "                trues = sum(subFactory.weights[predicate])\n",
      "                \n",
      "                split_distribution.append(trues)\n",
      "                split_distribution.append(sum(subFactory.weights) - trues)\n",
      "                \n",
      "            split_distribution = np.array(split_distribution)/sum(factory.weights)\n",
      "            entropies.append( entropy(split_distribution))\n",
      "\n",
      "        feature,cut,_ = criterion = thresholds_active[entropies.index(max(entropies))]\n",
      "        new_leaves = {}\n",
      "        \n",
      "        for leaf in leaves:\n",
      "            subFactory = leaves[leaf]\n",
      "            predicate = (subFactory.events[:,feature] > cut)\n",
      "            new_leaves[leaf+\"1\"],new_leaves[leaf+\"0\"] = subFactory.split_by(predicate)\n",
      "\n",
      "        leaves = new_leaves    \n",
      "        criteria.append(criterion)\n",
      "        if verbose:\n",
      "            print 's:',[leaves[i].events.shape[0] for i in leaves]\n",
      "            print 'w:',[sum(leaves[i].weights) for i in leaves]\n",
      "    return criteria"
     ],
     "language": "python",
     "metadata": {},
     "outputs": [],
     "prompt_number": 28
    },
    {
     "cell_type": "code",
     "collapsed": false,
     "input": [
      "#get them...\n",
      "thresholds_active = thresholds[thresholds[:,2]>100]\n",
      "print len(thresholds_active)\n",
      "criteria = select_criteria(trainFactory,thresholds_active,3,True)"
     ],
     "language": "python",
     "metadata": {},
     "outputs": [
      {
       "output_type": "stream",
       "stream": "stdout",
       "text": [
        "190\n",
        "s:"
       ]
      },
      {
       "output_type": "stream",
       "stream": "stdout",
       "text": [
        " [81387L, 46113L]\n",
        "w: "
       ]
      },
      {
       "output_type": "stream",
       "stream": "stdout",
       "text": [
        "[0.4995172311764362, 0.50048276882352416]\n",
        "s:"
       ]
      },
      {
       "output_type": "stream",
       "stream": "stdout",
       "text": [
        " [35853L, 45534L, 28287L, 17826L]\n",
        "w: "
       ]
      },
      {
       "output_type": "stream",
       "stream": "stdout",
       "text": [
        "[0.26914160839995621, 0.23037562277645596, 0.27439612166068927, 0.22608664716287472]\n",
        "s:"
       ]
      },
      {
       "output_type": "stream",
       "stream": "stdout",
       "text": [
        " [6226L, 11600L, 18312L, 9975L, 18579L, 17274L, 28399L, 17135L]\n",
        "w: "
       ]
      },
      {
       "output_type": "stream",
       "stream": "stdout",
       "text": [
        "[0.10092029004556231, 0.12516635711728766, 0.16975948409694844, 0.10463663756370174, 0.12697836451232206, 0.14216324388758639, 0.13573214315325532, 0.094643479623169297]\n"
       ]
      }
     ],
     "prompt_number": 29
    },
    {
     "cell_type": "code",
     "collapsed": false,
     "input": [
      "criteria"
     ],
     "language": "python",
     "metadata": {},
     "outputs": [
      {
       "metadata": {},
       "output_type": "pyout",
       "prompt_number": 30,
       "text": [
        "[array([  21.        ,  147.61599731,  136.        ]),\n",
        " array([   2.        ,   78.67050171,  131.        ]),\n",
        " array([   1.        ,   44.68050003,  153.        ])]"
       ]
      }
     ],
     "prompt_number": 30
    },
    {
     "cell_type": "code",
     "collapsed": false,
     "input": [
      "def split_upper(factory,criteria,returnIndices = False,equalizeWeights = False):\n",
      "    \"\"\"\n",
      "    I split the data into the leaves of the upper level ODT given it's criterea\n",
      "    \"\"\"\n",
      "    split = {'':factory}\n",
      "    indices = {'':np.arange(factory.n_events)}\n",
      "    for criterion in criteria:\n",
      "        feature,cut,_= criterion\n",
      "        split_new = {}\n",
      "        indices_new = {}\n",
      "        for splt in split:\n",
      "            dichotomy = split[splt].features[:,feature][:split[splt].n_events]> cut\n",
      "            split_new[splt+'1'],split_new[splt+'0'] = split[splt].split_by(dichotomy)\n",
      "            if returnIndices:\n",
      "                indices_new[splt+'1'] = indices[splt][dichotomy]\n",
      "                indices_new[splt+'0'] = indices[splt][dichotomy == False]\n",
      "        split = split_new\n",
      "        indices = indices_new\n",
      "    if equalizeWeights:\n",
      "        for splt in split:\n",
      "            factory = split[splt]\n",
      "            sum_p = sum(factory.weights[factory.labels==1])\n",
      "            sum_n = sum(factory.weights)-sum_p\n",
      "            factory.weights[factory.labels == 1] *= sum_n/sum_p\n",
      "    return ((split, indices ) if returnIndices else split)"
     ],
     "language": "python",
     "metadata": {},
     "outputs": [],
     "prompt_number": 31
    },
    {
     "cell_type": "code",
     "collapsed": false,
     "input": [
      "split = split_upper(trainFactory,criteria)\n",
      "print [split[i].events.shape[0] for i in split]"
     ],
     "language": "python",
     "metadata": {},
     "outputs": [
      {
       "output_type": "stream",
       "stream": "stdout",
       "text": [
        "[6226L, 11600L, 18313L, 9975L, 18579L, 17274L, 28399L, 17134L]\n"
       ]
      }
     ],
     "prompt_number": 32
    },
    {
     "cell_type": "markdown",
     "metadata": {},
     "source": [
      "#Hierarchical stuff"
     ]
    },
    {
     "cell_type": "code",
     "collapsed": false,
     "input": [
      "def train_splitted_boosts( trees,\n",
      "                           factory,\n",
      "                           criteria,\n",
      "                           loss,\n",
      "                           learning_rate,\n",
      "                           breadth,\n",
      "                           nTrees_leaf,\n",
      "                           trees_sample_size,\n",
      "                           verbose = True,\n",
      "                           learning_rate_decay = 1.,\n",
      "                           trees_sample_increase = 0,\n",
      "                           regularizer = 0.):\n",
      "    \"\"\"\n",
      "    make greedy prune for every leaf in split\n",
      "    \"\"\"\n",
      "    factories = split_upper(trainFactory,criteria)\n",
      "    leaves = factories.keys()\n",
      "    \n",
      "    classis = []\n",
      "    itr = 1\n",
      "    for leaf in leaves:\n",
      "        if verbose:\n",
      "            print \"\\n\\nNow training leaf \",leaf, itr,\"/\",len(leaves)\n",
      "            print \"n_ samples at leaf = \", factories[leaf].n_events\n",
      "            itr +=1\n",
      "        classis.append(greed_up_features_bfs(\n",
      "                           trees,\n",
      "                           factories[leaf],\n",
      "                           loss,\n",
      "                           learning_rate,\n",
      "                           breadth,\n",
      "                           nTrees_leaf,\n",
      "                           trees_sample_size,\n",
      "                           verbose,\n",
      "                           learning_rate_decay,\n",
      "                           trees_sample_increase,\n",
      "                           regularizer\n",
      "                           ))\n",
      "    #same stuff in JL\n",
      "    #tasks = [joblib.delayed(\n",
      "    #                       trees,\n",
      "    #                       factories[leaf],\n",
      "    #                       loss,\n",
      "    #                       learning_rate,\n",
      "    #                       breadth,\n",
      "    #                       nTrees_leaf,\n",
      "    #                       trees_sample_size,\n",
      "    #                       verbose,\n",
      "    #                       learning_rate_decay,\n",
      "    #                       trees_sample_increase\n",
      "    #                       )for leaf in leaves]\n",
      "    #classis = joblib.Parallel(n_jobs = -1)(tasks)\n",
      "\n",
      "    return {leaves[i]:classis[i] for i in range(len(leaves))}"
     ],
     "language": "python",
     "metadata": {},
     "outputs": [],
     "prompt_number": 33
    },
    {
     "cell_type": "code",
     "collapsed": false,
     "input": [
      "%%time\n",
      "trees_splitted = train_splitted_boosts(trees, trainFactory,criteria[:2],LogLoss,0.3,1,100,100,True,regularizer =0.000784338332183/4)\n",
      "#criteria, trees_splitted = joblib.load(\"splitted 100 trees\")"
     ],
     "language": "python",
     "metadata": {},
     "outputs": [
      {
       "output_type": "stream",
       "stream": "stdout",
       "text": [
        "\n",
        "\n",
        "Now training leaf  11 1 / 4\n",
        "n_ samples at leaf =  35853\n",
        "\n",
        "iteration #"
       ]
      },
      {
       "output_type": "stream",
       "stream": "stdout",
       "text": [
        " 0  ntrees =  1 \n",
        "best loss =  0.152355828245\n",
        "learning_rate =  0.3\n",
        "sample_size 100\n",
        "\n",
        "iteration #"
       ]
      },
      {
       "output_type": "stream",
       "stream": "stdout",
       "text": [
        " 1  ntrees =  2 \n",
        "best loss =  0.13525406193 \n",
        "last loss =  0.13525406193\n",
        "learning_rate =  0.3\n",
        "sample_size 100\n",
        "\n",
        "iteration #"
       ]
      },
      {
       "output_type": "stream",
       "stream": "stdout",
       "text": [
        " 2  ntrees =  3 \n",
        "best loss =  0.120575686883 \n",
        "last loss =  0.120575686883\n",
        "learning_rate =  0.3\n",
        "sample_size 100\n",
        "\n",
        "iteration #"
       ]
      },
      {
       "output_type": "stream",
       "stream": "stdout",
       "text": [
        " 3  ntrees =  4 \n",
        "best loss =  0.111649146495 \n",
        "last loss =  0.111649146495\n",
        "learning_rate =  0.3\n",
        "sample_size 100\n",
        "\n",
        "iteration #"
       ]
      },
      {
       "output_type": "stream",
       "stream": "stdout",
       "text": [
        " 4  ntrees =  5 \n",
        "best loss =  0.105018960097 \n",
        "last loss =  0.105018960097\n",
        "learning_rate =  0.3\n",
        "sample_size 100\n",
        "\n",
        "iteration #"
       ]
      },
      {
       "output_type": "stream",
       "stream": "stdout",
       "text": [
        " 5  ntrees =  6 \n",
        "best loss =  0.100637369359 \n",
        "last loss =  0.100637369359\n",
        "learning_rate =  0.3\n",
        "sample_size 100\n",
        "\n",
        "iteration #"
       ]
      },
      {
       "output_type": "stream",
       "stream": "stdout",
       "text": [
        " 6  ntrees =  7 \n",
        "best loss =  0.0975009952645 \n",
        "last loss =  0.0975009952645\n",
        "learning_rate =  0.3\n",
        "sample_size 100\n",
        "\n",
        "iteration #"
       ]
      },
      {
       "output_type": "stream",
       "stream": "stdout",
       "text": [
        " 7  ntrees =  8 \n",
        "best loss =  0.0952480288688 \n",
        "last loss =  0.0952480288688\n",
        "learning_rate =  0.3\n",
        "sample_size 100\n",
        "\n",
        "iteration #"
       ]
      },
      {
       "output_type": "stream",
       "stream": "stdout",
       "text": [
        " 8  ntrees =  9 \n",
        "best loss =  0.0931826338567 \n",
        "last loss =  0.0931826338567\n",
        "learning_rate =  0.3\n",
        "sample_size 100\n",
        "\n",
        "iteration #"
       ]
      },
      {
       "output_type": "stream",
       "stream": "stdout",
       "text": [
        " 9  ntrees =  10 \n",
        "best loss =  0.0916905255645 \n",
        "last loss =  0.0916905255645\n",
        "learning_rate =  0.3\n",
        "sample_size 100\n",
        "\n",
        "iteration #"
       ]
      },
      {
       "output_type": "stream",
       "stream": "stdout",
       "text": [
        " 10  ntrees =  11 \n",
        "best loss =  0.0904908153064 \n",
        "last loss =  0.0904908153064\n",
        "learning_rate =  0.3\n",
        "sample_size 100\n",
        "\n",
        "iteration #"
       ]
      },
      {
       "output_type": "stream",
       "stream": "stdout",
       "text": [
        " 11  ntrees =  12 \n",
        "best loss =  0.0895308092655 \n",
        "last loss =  0.0895308092655\n",
        "learning_rate =  0.3\n",
        "sample_size 100\n",
        "\n",
        "iteration #"
       ]
      },
      {
       "output_type": "stream",
       "stream": "stdout",
       "text": [
        " 12  ntrees =  13 \n",
        "best loss =  0.0886486896332 \n",
        "last loss =  0.0886486896332\n",
        "learning_rate =  0.3\n",
        "sample_size 100\n",
        "\n",
        "iteration #"
       ]
      },
      {
       "output_type": "stream",
       "stream": "stdout",
       "text": [
        " 13  ntrees =  14 \n",
        "best loss =  0.087974027092 \n",
        "last loss =  0.087974027092\n",
        "learning_rate =  0.3\n",
        "sample_size 100\n",
        "\n",
        "iteration #"
       ]
      },
      {
       "output_type": "stream",
       "stream": "stdout",
       "text": [
        " 14  ntrees =  15 \n",
        "best loss =  0.0873728457159 \n",
        "last loss =  0.0873728457159\n",
        "learning_rate =  0.3\n",
        "sample_size 100\n",
        "\n",
        "iteration #"
       ]
      },
      {
       "output_type": "stream",
       "stream": "stdout",
       "text": [
        " 15  ntrees =  16 \n",
        "best loss =  0.0868151842243 \n",
        "last loss =  0.0868151842243\n",
        "learning_rate =  0.3\n",
        "sample_size 100\n",
        "\n",
        "iteration #"
       ]
      },
      {
       "output_type": "stream",
       "stream": "stdout",
       "text": [
        " 16  ntrees =  17 \n",
        "best loss =  0.0862956160238 \n",
        "last loss =  0.0862956160238\n",
        "learning_rate =  0.3\n",
        "sample_size 100\n",
        "\n",
        "iteration #"
       ]
      },
      {
       "output_type": "stream",
       "stream": "stdout",
       "text": [
        " 17  ntrees =  18 \n",
        "best loss =  0.0858109021861 \n",
        "last loss =  0.0858109021861\n",
        "learning_rate =  0.3\n",
        "sample_size 100\n",
        "\n",
        "iteration #"
       ]
      },
      {
       "output_type": "stream",
       "stream": "stdout",
       "text": [
        " 18  ntrees =  19 \n",
        "best loss =  0.0853299365166 \n",
        "last loss =  0.0853299365166\n",
        "learning_rate =  0.3\n",
        "sample_size 100\n",
        "\n",
        "iteration #"
       ]
      },
      {
       "output_type": "stream",
       "stream": "stdout",
       "text": [
        " 19  ntrees =  20 \n",
        "best loss =  0.0849198314471 \n",
        "last loss =  0.0849198314471\n",
        "learning_rate =  0.3\n",
        "sample_size 100\n",
        "\n",
        "iteration #"
       ]
      },
      {
       "output_type": "stream",
       "stream": "stdout",
       "text": [
        " 20  ntrees =  21 \n",
        "best loss =  0.0846247334983 \n",
        "last loss =  0.0846247334983\n",
        "learning_rate =  0.3\n",
        "sample_size 100\n",
        "\n",
        "iteration #"
       ]
      },
      {
       "output_type": "stream",
       "stream": "stdout",
       "text": [
        " 21  ntrees =  22 \n",
        "best loss =  0.0842383070233 \n",
        "last loss =  0.0842383070233\n",
        "learning_rate =  0.3\n",
        "sample_size 100\n",
        "\n",
        "iteration #"
       ]
      },
      {
       "output_type": "stream",
       "stream": "stdout",
       "text": [
        " 22  ntrees =  23 \n",
        "best loss =  0.0839940560059 \n",
        "last loss =  0.0839940560059\n",
        "learning_rate =  0.3\n",
        "sample_size 100\n",
        "\n",
        "iteration #"
       ]
      },
      {
       "output_type": "stream",
       "stream": "stdout",
       "text": [
        " 23  ntrees =  24 \n",
        "best loss =  0.0837446724136 \n",
        "last loss =  0.0837446724136\n",
        "learning_rate =  0.3\n",
        "sample_size 100\n",
        "\n",
        "iteration #"
       ]
      },
      {
       "output_type": "stream",
       "stream": "stdout",
       "text": [
        " 24  ntrees =  25 \n",
        "best loss =  0.0834840156195 \n",
        "last loss =  0.0834840156195\n",
        "learning_rate =  0.3\n",
        "sample_size 100\n",
        "\n",
        "iteration #"
       ]
      },
      {
       "output_type": "stream",
       "stream": "stdout",
       "text": [
        " 25  ntrees =  26 \n",
        "best loss =  0.0832356989276 \n",
        "last loss =  0.0832356989276\n",
        "learning_rate =  0.3\n",
        "sample_size 100\n",
        "\n",
        "iteration #"
       ]
      },
      {
       "output_type": "stream",
       "stream": "stdout",
       "text": [
        " 26  ntrees =  27 \n",
        "best loss =  0.0829796590081 \n",
        "last loss =  0.0829796590081\n",
        "learning_rate =  0.3\n",
        "sample_size 100\n",
        "\n",
        "iteration #"
       ]
      },
      {
       "output_type": "stream",
       "stream": "stdout",
       "text": [
        " 27  ntrees =  28 \n",
        "best loss =  0.0827604616792 \n",
        "last loss =  0.0827604616792\n",
        "learning_rate =  0.3\n",
        "sample_size 100\n",
        "\n",
        "iteration #"
       ]
      },
      {
       "output_type": "stream",
       "stream": "stdout",
       "text": [
        " 28  ntrees =  29 \n",
        "best loss =  0.0825806748749 \n",
        "last loss =  0.0825806748749\n",
        "learning_rate =  0.3\n",
        "sample_size 100\n",
        "\n",
        "iteration #"
       ]
      },
      {
       "output_type": "stream",
       "stream": "stdout",
       "text": [
        " 29  ntrees =  30 \n",
        "best loss =  0.0823610431569 \n",
        "last loss =  0.0823610431569\n",
        "learning_rate =  0.3\n",
        "sample_size 100\n",
        "\n",
        "iteration #"
       ]
      },
      {
       "output_type": "stream",
       "stream": "stdout",
       "text": [
        " 30  ntrees =  31 \n",
        "best loss =  0.0821381333847 \n",
        "last loss =  0.0821381333847\n",
        "learning_rate =  0.3\n",
        "sample_size 100\n",
        "\n",
        "iteration #"
       ]
      },
      {
       "output_type": "stream",
       "stream": "stdout",
       "text": [
        " 31  ntrees =  32 \n",
        "best loss =  0.0819229845397 \n",
        "last loss =  0.0819229845397\n",
        "learning_rate =  0.3\n",
        "sample_size 100\n",
        "\n",
        "iteration #"
       ]
      },
      {
       "output_type": "stream",
       "stream": "stdout",
       "text": [
        " 32  ntrees =  33 \n",
        "best loss =  0.0817324262301 \n",
        "last loss =  0.0817324262301\n",
        "learning_rate =  0.3\n",
        "sample_size 100\n",
        "\n",
        "iteration #"
       ]
      },
      {
       "output_type": "stream",
       "stream": "stdout",
       "text": [
        " 33  ntrees =  34 \n",
        "best loss =  0.0815713447631 \n",
        "last loss =  0.0815713447631\n",
        "learning_rate =  0.3\n",
        "sample_size 100\n",
        "\n",
        "iteration #"
       ]
      },
      {
       "output_type": "stream",
       "stream": "stdout",
       "text": [
        " 34  ntrees =  35 \n",
        "best loss =  0.0813952717789 \n",
        "last loss =  0.0813952717789\n",
        "learning_rate =  0.3\n",
        "sample_size 100\n",
        "\n",
        "iteration #"
       ]
      },
      {
       "output_type": "stream",
       "stream": "stdout",
       "text": [
        " 35  ntrees =  36 \n",
        "best loss =  0.0811726742946 \n",
        "last loss =  0.0811726742946\n",
        "learning_rate =  0.3\n",
        "sample_size 100\n",
        "\n",
        "iteration #"
       ]
      },
      {
       "output_type": "stream",
       "stream": "stdout",
       "text": [
        " 36  ntrees =  37 \n",
        "best loss =  0.0809635444585 \n",
        "last loss =  0.0809635444585\n",
        "learning_rate =  0.3\n",
        "sample_size 100\n",
        "\n",
        "iteration #"
       ]
      },
      {
       "output_type": "stream",
       "stream": "stdout",
       "text": [
        " 37  ntrees =  38 \n",
        "best loss =  0.0807746582547 \n",
        "last loss =  0.0807746582547\n",
        "learning_rate =  0.3\n",
        "sample_size 100\n",
        "\n",
        "iteration #"
       ]
      },
      {
       "output_type": "stream",
       "stream": "stdout",
       "text": [
        " 38  ntrees =  39 \n",
        "best loss =  0.0806194938428 \n",
        "last loss =  0.0806194938428\n",
        "learning_rate =  0.3\n",
        "sample_size 100\n",
        "\n",
        "iteration #"
       ]
      },
      {
       "output_type": "stream",
       "stream": "stdout",
       "text": [
        " 39  ntrees =  40 \n",
        "best loss =  0.0804132677767 \n",
        "last loss =  0.0804132677767\n",
        "learning_rate =  0.3\n",
        "sample_size 100\n",
        "\n",
        "iteration #"
       ]
      },
      {
       "output_type": "stream",
       "stream": "stdout",
       "text": [
        " 40  ntrees =  41 \n",
        "best loss =  0.0802380553855 \n",
        "last loss =  0.0802380553855\n",
        "learning_rate =  0.3\n",
        "sample_size 100\n",
        "\n",
        "iteration #"
       ]
      },
      {
       "output_type": "stream",
       "stream": "stdout",
       "text": [
        " 41  ntrees =  42 \n",
        "best loss =  0.0800630619792 \n",
        "last loss =  0.0800630619792\n",
        "learning_rate =  0.3\n",
        "sample_size 100\n",
        "\n",
        "iteration #"
       ]
      },
      {
       "output_type": "stream",
       "stream": "stdout",
       "text": [
        " 42  ntrees =  43 \n",
        "best loss =  0.0799072774931 \n",
        "last loss =  0.0799072774931\n",
        "learning_rate =  0.3\n",
        "sample_size 100\n",
        "\n",
        "iteration #"
       ]
      },
      {
       "output_type": "stream",
       "stream": "stdout",
       "text": [
        " 43  ntrees =  44 \n",
        "best loss =  0.0797486031637 \n",
        "last loss =  0.0797486031637\n",
        "learning_rate =  0.3\n",
        "sample_size 100\n",
        "\n",
        "iteration #"
       ]
      },
      {
       "output_type": "stream",
       "stream": "stdout",
       "text": [
        " 44  ntrees =  45 \n",
        "best loss =  0.079559098887 \n",
        "last loss =  0.079559098887\n",
        "learning_rate =  0.3\n",
        "sample_size 100\n",
        "\n",
        "iteration #"
       ]
      },
      {
       "output_type": "stream",
       "stream": "stdout",
       "text": [
        " 45  ntrees =  46 \n",
        "best loss =  0.0794128487582 \n",
        "last loss =  0.0794128487582\n",
        "learning_rate =  0.3\n",
        "sample_size 100\n",
        "\n",
        "iteration #"
       ]
      },
      {
       "output_type": "stream",
       "stream": "stdout",
       "text": [
        " 46  ntrees =  47 \n",
        "best loss =  0.079279145762 \n",
        "last loss =  0.079279145762\n",
        "learning_rate =  0.3\n",
        "sample_size 100\n",
        "\n",
        "iteration #"
       ]
      },
      {
       "output_type": "stream",
       "stream": "stdout",
       "text": [
        " 47  ntrees =  48 \n",
        "best loss =  0.0791072493042 \n",
        "last loss =  0.0791072493042\n",
        "learning_rate =  0.3\n",
        "sample_size 100\n",
        "\n",
        "iteration #"
       ]
      },
      {
       "output_type": "stream",
       "stream": "stdout",
       "text": [
        " 48  ntrees =  49 \n",
        "best loss =  0.0789881059824 \n",
        "last loss =  0.0789881059824\n",
        "learning_rate =  0.3\n",
        "sample_size 100\n",
        "\n",
        "iteration #"
       ]
      },
      {
       "output_type": "stream",
       "stream": "stdout",
       "text": [
        " 49  ntrees =  50 \n",
        "best loss =  0.0788183081187 \n",
        "last loss =  0.0788183081187\n",
        "learning_rate =  0.3\n",
        "sample_size 100\n",
        "\n",
        "iteration #"
       ]
      },
      {
       "output_type": "stream",
       "stream": "stdout",
       "text": [
        " 50  ntrees =  51 \n",
        "best loss =  0.0786685802886 \n",
        "last loss =  0.0786685802886\n",
        "learning_rate =  0.3\n",
        "sample_size 100\n",
        "\n",
        "iteration #"
       ]
      },
      {
       "output_type": "stream",
       "stream": "stdout",
       "text": [
        " 51  ntrees =  52 \n",
        "best loss =  0.0785077864187 \n",
        "last loss =  0.0785077864187\n",
        "learning_rate =  0.3\n",
        "sample_size 100\n",
        "\n",
        "iteration #"
       ]
      },
      {
       "output_type": "stream",
       "stream": "stdout",
       "text": [
        " 52  ntrees =  53 \n",
        "best loss =  0.0783849708239 \n",
        "last loss =  0.0783849708239\n",
        "learning_rate =  0.3\n",
        "sample_size 100\n",
        "\n",
        "iteration #"
       ]
      },
      {
       "output_type": "stream",
       "stream": "stdout",
       "text": [
        " 53  ntrees =  54 \n",
        "best loss =  0.0782639306627 \n",
        "last loss =  0.0782639306627\n",
        "learning_rate =  0.3\n",
        "sample_size 100\n",
        "\n",
        "iteration #"
       ]
      },
      {
       "output_type": "stream",
       "stream": "stdout",
       "text": [
        " 54  ntrees =  55 \n",
        "best loss =  0.0781406066503 \n",
        "last loss =  0.0781406066503\n",
        "learning_rate =  0.3\n",
        "sample_size 100\n",
        "\n",
        "iteration #"
       ]
      },
      {
       "output_type": "stream",
       "stream": "stdout",
       "text": [
        " 55  ntrees =  56 \n",
        "best loss =  0.077995548378 \n",
        "last loss =  0.077995548378\n",
        "learning_rate =  0.3\n",
        "sample_size 100\n",
        "\n",
        "iteration #"
       ]
      },
      {
       "output_type": "stream",
       "stream": "stdout",
       "text": [
        " 56  ntrees =  57 \n",
        "best loss =  0.0778692193969 \n",
        "last loss =  0.0778692193969\n",
        "learning_rate =  0.3\n",
        "sample_size 100\n",
        "\n",
        "iteration #"
       ]
      },
      {
       "output_type": "stream",
       "stream": "stdout",
       "text": [
        " 57  ntrees =  58 \n",
        "best loss =  0.0777307871299 \n",
        "last loss =  0.0777307871299\n",
        "learning_rate =  0.3\n",
        "sample_size 100\n",
        "\n",
        "iteration #"
       ]
      },
      {
       "output_type": "stream",
       "stream": "stdout",
       "text": [
        " 58  ntrees =  59 \n",
        "best loss =  0.0776028243989 \n",
        "last loss =  0.0776028243989\n",
        "learning_rate =  0.3\n",
        "sample_size 100\n",
        "\n",
        "iteration #"
       ]
      },
      {
       "output_type": "stream",
       "stream": "stdout",
       "text": [
        " 59  ntrees =  60 \n",
        "best loss =  0.0774951049693 \n",
        "last loss =  0.0774951049693\n",
        "learning_rate =  0.3\n",
        "sample_size 100\n",
        "\n",
        "iteration #"
       ]
      },
      {
       "output_type": "stream",
       "stream": "stdout",
       "text": [
        " 60  ntrees =  61 \n",
        "best loss =  0.0773648203978 \n",
        "last loss =  0.0773648203978\n",
        "learning_rate =  0.3\n",
        "sample_size 100\n",
        "\n",
        "iteration #"
       ]
      },
      {
       "output_type": "stream",
       "stream": "stdout",
       "text": [
        " 61  ntrees =  62 \n",
        "best loss =  0.0772565125169 \n",
        "last loss =  0.0772565125169\n",
        "learning_rate =  0.3\n",
        "sample_size 100\n",
        "\n",
        "iteration #"
       ]
      },
      {
       "output_type": "stream",
       "stream": "stdout",
       "text": [
        " 62  ntrees =  63 \n",
        "best loss =  0.0771498094432 \n",
        "last loss =  0.0771498094432\n",
        "learning_rate =  0.3\n",
        "sample_size 100\n",
        "\n",
        "iteration #"
       ]
      },
      {
       "output_type": "stream",
       "stream": "stdout",
       "text": [
        " 63  ntrees =  64 \n",
        "best loss =  0.0770200813406 \n",
        "last loss =  0.0770200813406\n",
        "learning_rate =  0.3\n",
        "sample_size 100\n",
        "\n",
        "iteration #"
       ]
      },
      {
       "output_type": "stream",
       "stream": "stdout",
       "text": [
        " 64  ntrees =  65 \n",
        "best loss =  0.0768947332496 \n",
        "last loss =  0.0768947332496\n",
        "learning_rate =  0.3\n",
        "sample_size 100\n",
        "\n",
        "iteration #"
       ]
      },
      {
       "output_type": "stream",
       "stream": "stdout",
       "text": [
        " 65  ntrees =  66 \n",
        "best loss =  0.0767699048715 \n",
        "last loss =  0.0767699048715\n",
        "learning_rate =  0.3\n",
        "sample_size 100\n",
        "\n",
        "iteration #"
       ]
      },
      {
       "output_type": "stream",
       "stream": "stdout",
       "text": [
        " 66  ntrees =  67 \n",
        "best loss =  0.0766634027241 \n",
        "last loss =  0.0766634027241\n",
        "learning_rate =  0.3\n",
        "sample_size 100\n",
        "\n",
        "iteration #"
       ]
      },
      {
       "output_type": "stream",
       "stream": "stdout",
       "text": [
        " 67  ntrees =  68 \n",
        "best loss =  0.0765514776565 \n",
        "last loss =  0.0765514776565\n",
        "learning_rate =  0.3\n",
        "sample_size 100\n",
        "\n",
        "iteration #"
       ]
      },
      {
       "output_type": "stream",
       "stream": "stdout",
       "text": [
        " 68  ntrees =  69 \n",
        "best loss =  0.0764234183883 \n",
        "last loss =  0.0764234183883\n",
        "learning_rate =  0.3\n",
        "sample_size 100\n",
        "\n",
        "iteration #"
       ]
      },
      {
       "output_type": "stream",
       "stream": "stdout",
       "text": [
        " 69  ntrees =  70 \n",
        "best loss =  0.0762907605882 \n",
        "last loss =  0.0762907605882\n",
        "learning_rate =  0.3\n",
        "sample_size 100\n",
        "\n",
        "iteration #"
       ]
      },
      {
       "output_type": "stream",
       "stream": "stdout",
       "text": [
        " 70  ntrees =  71 \n",
        "best loss =  0.0761761396936 \n",
        "last loss =  0.0761761396936\n",
        "learning_rate =  0.3\n",
        "sample_size 100\n",
        "\n",
        "iteration #"
       ]
      },
      {
       "output_type": "stream",
       "stream": "stdout",
       "text": [
        " 71  ntrees =  72 \n",
        "best loss =  0.076078310682 \n",
        "last loss =  0.076078310682\n",
        "learning_rate =  0.3\n",
        "sample_size 100\n",
        "\n",
        "iteration #"
       ]
      },
      {
       "output_type": "stream",
       "stream": "stdout",
       "text": [
        " 72  ntrees =  73 \n",
        "best loss =  0.0759714357597 \n",
        "last loss =  0.0759714357597\n",
        "learning_rate =  0.3\n",
        "sample_size 100\n",
        "\n",
        "iteration #"
       ]
      },
      {
       "output_type": "stream",
       "stream": "stdout",
       "text": [
        " 73  ntrees =  74 \n",
        "best loss =  0.0758131177089 \n",
        "last loss =  0.0758131177089\n",
        "learning_rate =  0.3\n",
        "sample_size 100\n",
        "\n",
        "iteration #"
       ]
      },
      {
       "output_type": "stream",
       "stream": "stdout",
       "text": [
        " 74  ntrees =  75 \n",
        "best loss =  0.0756924101701 \n",
        "last loss =  0.0756924101701\n",
        "learning_rate =  0.3\n",
        "sample_size 100\n",
        "\n",
        "iteration #"
       ]
      },
      {
       "output_type": "stream",
       "stream": "stdout",
       "text": [
        " 75  ntrees =  76 \n",
        "best loss =  0.0755730104167 \n",
        "last loss =  0.0755730104167\n",
        "learning_rate =  0.3\n",
        "sample_size 100\n",
        "\n",
        "iteration #"
       ]
      },
      {
       "output_type": "stream",
       "stream": "stdout",
       "text": [
        " 76  ntrees =  77 \n",
        "best loss =  0.0754577312555 \n",
        "last loss =  0.0754577312555\n",
        "learning_rate =  0.3\n",
        "sample_size 100\n",
        "\n",
        "iteration #"
       ]
      },
      {
       "output_type": "stream",
       "stream": "stdout",
       "text": [
        " 77  ntrees =  78 \n",
        "best loss =  0.0753535698942 \n",
        "last loss =  0.0753535698942\n",
        "learning_rate =  0.3\n",
        "sample_size 100\n",
        "\n",
        "iteration #"
       ]
      },
      {
       "output_type": "stream",
       "stream": "stdout",
       "text": [
        " 78  ntrees =  79 \n",
        "best loss =  0.0752218854521 \n",
        "last loss =  0.0752218854521\n",
        "learning_rate =  0.3\n",
        "sample_size 100\n",
        "\n",
        "iteration #"
       ]
      },
      {
       "output_type": "stream",
       "stream": "stdout",
       "text": [
        " 79  ntrees =  80 \n",
        "best loss =  0.0750963572441 \n",
        "last loss =  0.0750963572441\n",
        "learning_rate =  0.3\n",
        "sample_size 100\n",
        "\n",
        "iteration #"
       ]
      },
      {
       "output_type": "stream",
       "stream": "stdout",
       "text": [
        " 80  ntrees =  81 \n",
        "best loss =  0.0749914249491 \n",
        "last loss =  0.0749914249491\n",
        "learning_rate =  0.3\n",
        "sample_size 100\n",
        "\n",
        "iteration #"
       ]
      },
      {
       "output_type": "stream",
       "stream": "stdout",
       "text": [
        " 81  ntrees =  82 \n",
        "best loss =  0.0748748737769 \n",
        "last loss =  0.0748748737769\n",
        "learning_rate =  0.3\n",
        "sample_size 100\n",
        "\n",
        "iteration #"
       ]
      },
      {
       "output_type": "stream",
       "stream": "stdout",
       "text": [
        " 82  ntrees =  83 \n",
        "best loss =  0.0747692138967 \n",
        "last loss =  0.0747692138967\n",
        "learning_rate =  0.3\n",
        "sample_size 100\n",
        "\n",
        "iteration #"
       ]
      },
      {
       "output_type": "stream",
       "stream": "stdout",
       "text": [
        " 83  ntrees =  84 \n",
        "best loss =  0.0746521688843 \n",
        "last loss =  0.0746521688843\n",
        "learning_rate =  0.3\n",
        "sample_size 100\n",
        "\n",
        "iteration #"
       ]
      },
      {
       "output_type": "stream",
       "stream": "stdout",
       "text": [
        " 84  ntrees =  85 \n",
        "best loss =  0.0745344657563 \n",
        "last loss =  0.0745344657563\n",
        "learning_rate =  0.3\n",
        "sample_size 100\n",
        "\n",
        "iteration #"
       ]
      },
      {
       "output_type": "stream",
       "stream": "stdout",
       "text": [
        " 85  ntrees =  86 \n",
        "best loss =  0.074426072592 \n",
        "last loss =  0.074426072592\n",
        "learning_rate =  0.3\n",
        "sample_size 100\n",
        "\n",
        "iteration #"
       ]
      },
      {
       "output_type": "stream",
       "stream": "stdout",
       "text": [
        " 86  ntrees =  87 \n",
        "best loss =  0.0743099552138 \n",
        "last loss =  0.0743099552138\n",
        "learning_rate =  0.3\n",
        "sample_size 100\n",
        "\n",
        "iteration #"
       ]
      },
      {
       "output_type": "stream",
       "stream": "stdout",
       "text": [
        " 87  ntrees =  88 \n",
        "best loss =  0.0742039103226 \n",
        "last loss =  0.0742039103226\n",
        "learning_rate =  0.3\n",
        "sample_size 100\n",
        "\n",
        "iteration #"
       ]
      },
      {
       "output_type": "stream",
       "stream": "stdout",
       "text": [
        " 88  ntrees =  89 \n",
        "best loss =  0.074088821172 \n",
        "last loss =  0.074088821172\n",
        "learning_rate =  0.3\n",
        "sample_size 100\n",
        "\n",
        "iteration #"
       ]
      },
      {
       "output_type": "stream",
       "stream": "stdout",
       "text": [
        " 89  ntrees =  90 \n",
        "best loss =  0.0739858922547 \n",
        "last loss =  0.0739858922547\n",
        "learning_rate =  0.3\n",
        "sample_size 100\n",
        "\n",
        "iteration #"
       ]
      },
      {
       "output_type": "stream",
       "stream": "stdout",
       "text": [
        " 90  ntrees =  91 \n",
        "best loss =  0.0738754265482 \n",
        "last loss =  0.0738754265482\n",
        "learning_rate =  0.3\n",
        "sample_size 100\n",
        "\n",
        "iteration #"
       ]
      },
      {
       "output_type": "stream",
       "stream": "stdout",
       "text": [
        " 91  ntrees =  92 \n",
        "best loss =  0.0737707258569 \n",
        "last loss =  0.0737707258569\n",
        "learning_rate =  0.3\n",
        "sample_size 100\n",
        "\n",
        "iteration #"
       ]
      },
      {
       "output_type": "stream",
       "stream": "stdout",
       "text": [
        " 92  ntrees =  93 \n",
        "best loss =  0.0736600287335 \n",
        "last loss =  0.0736600287335\n",
        "learning_rate =  0.3\n",
        "sample_size 100\n",
        "\n",
        "iteration #"
       ]
      },
      {
       "output_type": "stream",
       "stream": "stdout",
       "text": [
        " 93  ntrees =  94 \n",
        "best loss =  0.0735377266641 \n",
        "last loss =  0.0735377266641\n",
        "learning_rate =  0.3\n",
        "sample_size 100\n",
        "\n",
        "iteration #"
       ]
      },
      {
       "output_type": "stream",
       "stream": "stdout",
       "text": [
        " 94  ntrees =  95 \n",
        "best loss =  0.0734399610509 \n",
        "last loss =  0.0734399610509\n",
        "learning_rate =  0.3\n",
        "sample_size 100\n",
        "\n",
        "iteration #"
       ]
      },
      {
       "output_type": "stream",
       "stream": "stdout",
       "text": [
        " 95  ntrees =  96 \n",
        "best loss =  0.0733389349443 \n",
        "last loss =  0.0733389349443\n",
        "learning_rate =  0.3\n",
        "sample_size 100\n",
        "\n",
        "iteration #"
       ]
      },
      {
       "output_type": "stream",
       "stream": "stdout",
       "text": [
        " 96  ntrees =  97 \n",
        "best loss =  0.0732409480744 \n",
        "last loss =  0.0732409480744\n",
        "learning_rate =  0.3\n",
        "sample_size 100\n",
        "\n",
        "iteration #"
       ]
      },
      {
       "output_type": "stream",
       "stream": "stdout",
       "text": [
        " 97  ntrees =  98 \n",
        "best loss =  0.07313265862 \n",
        "last loss =  0.07313265862\n",
        "learning_rate =  0.3\n",
        "sample_size 100\n",
        "\n",
        "iteration #"
       ]
      },
      {
       "output_type": "stream",
       "stream": "stdout",
       "text": [
        " 98  ntrees =  99 \n",
        "best loss =  0.0730425628906 \n",
        "last loss =  0.0730425628906\n",
        "learning_rate =  0.3\n",
        "sample_size 100\n",
        "\n",
        "iteration #"
       ]
      },
      {
       "output_type": "stream",
       "stream": "stdout",
       "text": [
        " 99  ntrees =  100 \n",
        "best loss =  0.0729482304219 \n",
        "last loss =  0.0729482304219\n",
        "learning_rate =  0.3\n",
        "sample_size 100\n",
        "\n",
        "\n",
        "Now training leaf  10 2 / 4\n",
        "n_ samples at leaf =  45533\n",
        "\n",
        "iteration #"
       ]
      },
      {
       "output_type": "stream",
       "stream": "stdout",
       "text": [
        " 0  ntrees =  1 \n",
        "best loss =  0.137099622423\n",
        "learning_rate =  0.3\n",
        "sample_size 100\n",
        "\n",
        "iteration #"
       ]
      },
      {
       "output_type": "stream",
       "stream": "stdout",
       "text": [
        " 1  ntrees =  2 \n",
        "best loss =  0.124353728063 \n",
        "last loss =  0.124353728063\n",
        "learning_rate =  0.3\n",
        "sample_size 100\n",
        "\n",
        "iteration #"
       ]
      },
      {
       "output_type": "stream",
       "stream": "stdout",
       "text": [
        " 2  ntrees =  3 \n",
        "best loss =  0.115345838662 \n",
        "last loss =  0.115345838662\n",
        "learning_rate =  0.3\n",
        "sample_size 100\n",
        "\n",
        "iteration #"
       ]
      },
      {
       "output_type": "stream",
       "stream": "stdout",
       "text": [
        " 3  ntrees =  4 \n",
        "best loss =  0.109553035515 \n",
        "last loss =  0.109553035515\n",
        "learning_rate =  0.3\n",
        "sample_size 100\n",
        "\n",
        "iteration #"
       ]
      },
      {
       "output_type": "stream",
       "stream": "stdout",
       "text": [
        " 4  ntrees =  5 \n",
        "best loss =  0.105980618774 \n",
        "last loss =  0.105980618774\n",
        "learning_rate =  0.3\n",
        "sample_size 100\n",
        "\n",
        "iteration #"
       ]
      },
      {
       "output_type": "stream",
       "stream": "stdout",
       "text": [
        " 5  ntrees =  6 \n",
        "best loss =  0.102603407558 \n",
        "last loss =  0.102603407558\n",
        "learning_rate =  0.3\n",
        "sample_size 100\n",
        "\n",
        "iteration #"
       ]
      },
      {
       "output_type": "stream",
       "stream": "stdout",
       "text": [
        " 6  ntrees =  7 \n",
        "best loss =  0.100883278233 \n",
        "last loss =  0.100883278233\n",
        "learning_rate =  0.3\n",
        "sample_size 100\n",
        "\n",
        "iteration #"
       ]
      },
      {
       "output_type": "stream",
       "stream": "stdout",
       "text": [
        " 7  ntrees =  8 \n",
        "best loss =  0.0990045090518 \n",
        "last loss =  0.0990045090518\n",
        "learning_rate =  0.3\n",
        "sample_size 100\n",
        "\n",
        "iteration #"
       ]
      },
      {
       "output_type": "stream",
       "stream": "stdout",
       "text": [
        " 8  ntrees =  9 \n",
        "best loss =  0.0974655584935 \n",
        "last loss =  0.0974655584935\n",
        "learning_rate =  0.3\n",
        "sample_size 100\n",
        "\n",
        "iteration #"
       ]
      },
      {
       "output_type": "stream",
       "stream": "stdout",
       "text": [
        " 9  ntrees =  10 \n",
        "best loss =  0.0963759436621 \n",
        "last loss =  0.0963759436621\n",
        "learning_rate =  0.3\n",
        "sample_size 100\n",
        "\n",
        "iteration #"
       ]
      },
      {
       "output_type": "stream",
       "stream": "stdout",
       "text": [
        " 10  ntrees =  11 \n",
        "best loss =  0.0953744642025 \n",
        "last loss =  0.0953744642025\n",
        "learning_rate =  0.3\n",
        "sample_size 100\n",
        "\n",
        "iteration #"
       ]
      },
      {
       "output_type": "stream",
       "stream": "stdout",
       "text": [
        " 11  ntrees =  12 \n",
        "best loss =  0.0946281235723 \n",
        "last loss =  0.0946281235723\n",
        "learning_rate =  0.3\n",
        "sample_size 100\n",
        "\n",
        "iteration #"
       ]
      },
      {
       "output_type": "stream",
       "stream": "stdout",
       "text": [
        " 12  ntrees =  13 \n",
        "best loss =  0.093942637127 \n",
        "last loss =  0.093942637127\n",
        "learning_rate =  0.3\n",
        "sample_size 100\n",
        "\n",
        "iteration #"
       ]
      },
      {
       "output_type": "stream",
       "stream": "stdout",
       "text": [
        " 13  ntrees =  14 \n",
        "best loss =  0.0931413550494 \n",
        "last loss =  0.0931413550494\n",
        "learning_rate =  0.3\n",
        "sample_size 100\n",
        "\n",
        "iteration #"
       ]
      },
      {
       "output_type": "stream",
       "stream": "stdout",
       "text": [
        " 14  ntrees =  15 \n",
        "best loss =  0.0926137987949 \n",
        "last loss =  0.0926137987949\n",
        "learning_rate =  0.3\n",
        "sample_size 100\n",
        "\n",
        "iteration #"
       ]
      },
      {
       "output_type": "stream",
       "stream": "stdout",
       "text": [
        " 15  ntrees =  16 \n",
        "best loss =  0.0920854208777 \n",
        "last loss =  0.0920854208777\n",
        "learning_rate =  0.3\n",
        "sample_size 100\n",
        "\n",
        "iteration #"
       ]
      },
      {
       "output_type": "stream",
       "stream": "stdout",
       "text": [
        " 16  ntrees =  17 \n",
        "best loss =  0.0915838822835 \n",
        "last loss =  0.0915838822835\n",
        "learning_rate =  0.3\n",
        "sample_size 100\n",
        "\n",
        "iteration #"
       ]
      },
      {
       "output_type": "stream",
       "stream": "stdout",
       "text": [
        " 17  ntrees =  18 \n",
        "best loss =  0.0911637448409 \n",
        "last loss =  0.0911637448409\n",
        "learning_rate =  0.3\n",
        "sample_size 100\n",
        "\n",
        "iteration #"
       ]
      },
      {
       "output_type": "stream",
       "stream": "stdout",
       "text": [
        " 18  ntrees =  19 \n",
        "best loss =  0.0907441949764 \n",
        "last loss =  0.0907441949764\n",
        "learning_rate =  0.3\n",
        "sample_size 100\n",
        "\n",
        "iteration #"
       ]
      },
      {
       "output_type": "stream",
       "stream": "stdout",
       "text": [
        " 19  ntrees =  20 \n",
        "best loss =  0.09042603811 \n",
        "last loss =  0.09042603811\n",
        "learning_rate =  0.3\n",
        "sample_size 100\n",
        "\n",
        "iteration #"
       ]
      },
      {
       "output_type": "stream",
       "stream": "stdout",
       "text": [
        " 20  ntrees =  21 \n",
        "best loss =  0.0900924326271 \n",
        "last loss =  0.0900924326271\n",
        "learning_rate =  0.3\n",
        "sample_size 100\n",
        "\n",
        "iteration #"
       ]
      },
      {
       "output_type": "stream",
       "stream": "stdout",
       "text": [
        " 21  ntrees =  22 \n",
        "best loss =  0.0898235221167 \n",
        "last loss =  0.0898235221167\n",
        "learning_rate =  0.3\n",
        "sample_size 100\n",
        "\n",
        "iteration #"
       ]
      },
      {
       "output_type": "stream",
       "stream": "stdout",
       "text": [
        " 22  ntrees =  23 \n",
        "best loss =  0.0895526639055 \n",
        "last loss =  0.0895526639055\n",
        "learning_rate =  0.3\n",
        "sample_size 100\n",
        "\n",
        "iteration #"
       ]
      },
      {
       "output_type": "stream",
       "stream": "stdout",
       "text": [
        " 23  ntrees =  24 \n",
        "best loss =  0.0893048851334 \n",
        "last loss =  0.0893048851334\n",
        "learning_rate =  0.3\n",
        "sample_size 100\n",
        "\n",
        "iteration #"
       ]
      },
      {
       "output_type": "stream",
       "stream": "stdout",
       "text": [
        " 24  ntrees =  25 \n",
        "best loss =  0.0890373916375 \n",
        "last loss =  0.0890373916375\n",
        "learning_rate =  0.3\n",
        "sample_size 100\n",
        "\n",
        "iteration #"
       ]
      },
      {
       "output_type": "stream",
       "stream": "stdout",
       "text": [
        " 25  ntrees =  26 \n",
        "best loss =  0.0887651898733 \n",
        "last loss =  0.0887651898733\n",
        "learning_rate =  0.3\n",
        "sample_size 100\n",
        "\n",
        "iteration #"
       ]
      },
      {
       "output_type": "stream",
       "stream": "stdout",
       "text": [
        " 26  ntrees =  27 \n",
        "best loss =  0.0885292114281 \n",
        "last loss =  0.0885292114281\n",
        "learning_rate =  0.3\n",
        "sample_size 100\n",
        "\n",
        "iteration #"
       ]
      },
      {
       "output_type": "stream",
       "stream": "stdout",
       "text": [
        " 27  ntrees =  28 \n",
        "best loss =  0.0883198069236 \n",
        "last loss =  0.0883198069236\n",
        "learning_rate =  0.3\n",
        "sample_size 100\n",
        "\n",
        "iteration #"
       ]
      },
      {
       "output_type": "stream",
       "stream": "stdout",
       "text": [
        " 28  ntrees =  29 \n",
        "best loss =  0.0881264092173 \n",
        "last loss =  0.0881264092173\n",
        "learning_rate =  0.3\n",
        "sample_size 100\n",
        "\n",
        "iteration #"
       ]
      },
      {
       "output_type": "stream",
       "stream": "stdout",
       "text": [
        " 29  ntrees =  30 \n",
        "best loss =  0.0879293494066 \n",
        "last loss =  0.0879293494066\n",
        "learning_rate =  0.3\n",
        "sample_size 100\n",
        "\n",
        "iteration #"
       ]
      },
      {
       "output_type": "stream",
       "stream": "stdout",
       "text": [
        " 30  ntrees =  31 \n",
        "best loss =  0.0877021120243 \n",
        "last loss =  0.0877021120243\n",
        "learning_rate =  0.3\n",
        "sample_size 100\n",
        "\n",
        "iteration #"
       ]
      },
      {
       "output_type": "stream",
       "stream": "stdout",
       "text": [
        " 31  ntrees =  32 \n",
        "best loss =  0.0874445904212 \n",
        "last loss =  0.0874445904212\n",
        "learning_rate =  0.3\n",
        "sample_size 100\n",
        "\n",
        "iteration #"
       ]
      },
      {
       "output_type": "stream",
       "stream": "stdout",
       "text": [
        " 32  ntrees =  33 \n",
        "best loss =  0.0872245217891 \n",
        "last loss =  0.0872245217891\n",
        "learning_rate =  0.3\n",
        "sample_size 100\n",
        "\n",
        "iteration #"
       ]
      },
      {
       "output_type": "stream",
       "stream": "stdout",
       "text": [
        " 33  ntrees =  34 \n",
        "best loss =  0.0870242270381 \n",
        "last loss =  0.0870242270381\n",
        "learning_rate =  0.3\n",
        "sample_size 100\n",
        "\n",
        "iteration #"
       ]
      },
      {
       "output_type": "stream",
       "stream": "stdout",
       "text": [
        " 34  ntrees =  35 \n",
        "best loss =  0.0868426544909 \n",
        "last loss =  0.0868426544909\n",
        "learning_rate =  0.3\n",
        "sample_size 100\n",
        "\n",
        "iteration #"
       ]
      },
      {
       "output_type": "stream",
       "stream": "stdout",
       "text": [
        " 35  ntrees =  36 \n",
        "best loss =  0.0866541329181 \n",
        "last loss =  0.0866541329181\n",
        "learning_rate =  0.3\n",
        "sample_size 100\n",
        "\n",
        "iteration #"
       ]
      },
      {
       "output_type": "stream",
       "stream": "stdout",
       "text": [
        " 36  ntrees =  37 \n",
        "best loss =  0.0864851558119 \n",
        "last loss =  0.0864851558119\n",
        "learning_rate =  0.3\n",
        "sample_size 100\n",
        "\n",
        "iteration #"
       ]
      },
      {
       "output_type": "stream",
       "stream": "stdout",
       "text": [
        " 37  ntrees =  38 \n",
        "best loss =  0.0863394290933 \n",
        "last loss =  0.0863394290933\n",
        "learning_rate =  0.3\n",
        "sample_size 100\n",
        "\n",
        "iteration #"
       ]
      },
      {
       "output_type": "stream",
       "stream": "stdout",
       "text": [
        " 38  ntrees =  39 \n",
        "best loss =  0.086158796111 \n",
        "last loss =  0.086158796111\n",
        "learning_rate =  0.3\n",
        "sample_size 100\n",
        "\n",
        "iteration #"
       ]
      },
      {
       "output_type": "stream",
       "stream": "stdout",
       "text": [
        " 39  ntrees =  40 \n",
        "best loss =  0.0859843493207 \n",
        "last loss =  0.0859843493207\n",
        "learning_rate =  0.3\n",
        "sample_size 100\n",
        "\n",
        "iteration #"
       ]
      },
      {
       "output_type": "stream",
       "stream": "stdout",
       "text": [
        " 40  ntrees =  41 \n",
        "best loss =  0.0858269368368 \n",
        "last loss =  0.0858269368368\n",
        "learning_rate =  0.3\n",
        "sample_size 100\n",
        "\n",
        "iteration #"
       ]
      },
      {
       "output_type": "stream",
       "stream": "stdout",
       "text": [
        " 41  ntrees =  42 \n",
        "best loss =  0.0856761283684 \n",
        "last loss =  0.0856761283684\n",
        "learning_rate =  0.3\n",
        "sample_size 100\n",
        "\n",
        "iteration #"
       ]
      },
      {
       "output_type": "stream",
       "stream": "stdout",
       "text": [
        " 42  ntrees =  43 \n",
        "best loss =  0.0855215633929 \n",
        "last loss =  0.0855215633929\n",
        "learning_rate =  0.3\n",
        "sample_size 100\n",
        "\n",
        "iteration #"
       ]
      },
      {
       "output_type": "stream",
       "stream": "stdout",
       "text": [
        " 43  ntrees =  44 \n",
        "best loss =  0.0853716755736 \n",
        "last loss =  0.0853716755736\n",
        "learning_rate =  0.3\n",
        "sample_size 100\n",
        "\n",
        "iteration #"
       ]
      },
      {
       "output_type": "stream",
       "stream": "stdout",
       "text": [
        " 44  ntrees =  45 \n",
        "best loss =  0.0852192596018 \n",
        "last loss =  0.0852192596018\n",
        "learning_rate =  0.3\n",
        "sample_size 100\n",
        "\n",
        "iteration #"
       ]
      },
      {
       "output_type": "stream",
       "stream": "stdout",
       "text": [
        " 45  ntrees =  46 \n",
        "best loss =  0.0850955323741 \n",
        "last loss =  0.0850955323741\n",
        "learning_rate =  0.3\n",
        "sample_size 100\n",
        "\n",
        "iteration #"
       ]
      },
      {
       "output_type": "stream",
       "stream": "stdout",
       "text": [
        " 46  ntrees =  47 \n",
        "best loss =  0.0849496803833 \n",
        "last loss =  0.0849496803833\n",
        "learning_rate =  0.3\n",
        "sample_size 100\n",
        "\n",
        "iteration #"
       ]
      },
      {
       "output_type": "stream",
       "stream": "stdout",
       "text": [
        " 47  ntrees =  48 \n",
        "best loss =  0.0847938372957 \n",
        "last loss =  0.0847938372957\n",
        "learning_rate =  0.3\n",
        "sample_size 100\n",
        "\n",
        "iteration #"
       ]
      },
      {
       "output_type": "stream",
       "stream": "stdout",
       "text": [
        " 48  ntrees =  49 \n",
        "best loss =  0.0846495013971 \n",
        "last loss =  0.0846495013971\n",
        "learning_rate =  0.3\n",
        "sample_size 100\n",
        "\n",
        "iteration #"
       ]
      },
      {
       "output_type": "stream",
       "stream": "stdout",
       "text": [
        " 49  ntrees =  50 \n",
        "best loss =  0.08450712426 \n",
        "last loss =  0.08450712426\n",
        "learning_rate =  0.3\n",
        "sample_size 100\n",
        "\n",
        "iteration #"
       ]
      },
      {
       "output_type": "stream",
       "stream": "stdout",
       "text": [
        " 50  ntrees =  51 \n",
        "best loss =  0.0843272343291 \n",
        "last loss =  0.0843272343291\n",
        "learning_rate =  0.3\n",
        "sample_size 100\n",
        "\n",
        "iteration #"
       ]
      },
      {
       "output_type": "stream",
       "stream": "stdout",
       "text": [
        " 51  ntrees =  52 \n",
        "best loss =  0.0841626319649 \n",
        "last loss =  0.0841626319649\n",
        "learning_rate =  0.3\n",
        "sample_size 100\n",
        "\n",
        "iteration #"
       ]
      },
      {
       "output_type": "stream",
       "stream": "stdout",
       "text": [
        " 52  ntrees =  53 \n",
        "best loss =  0.0840265624888 \n",
        "last loss =  0.0840265624888\n",
        "learning_rate =  0.3\n",
        "sample_size 100\n",
        "\n",
        "iteration #"
       ]
      },
      {
       "output_type": "stream",
       "stream": "stdout",
       "text": [
        " 53  ntrees =  54 \n",
        "best loss =  0.0838870091523 \n",
        "last loss =  0.0838870091523\n",
        "learning_rate =  0.3\n",
        "sample_size 100\n",
        "\n",
        "iteration #"
       ]
      },
      {
       "output_type": "stream",
       "stream": "stdout",
       "text": [
        " 54  ntrees =  55 \n",
        "best loss =  0.0837412374009 \n",
        "last loss =  0.0837412374009\n",
        "learning_rate =  0.3\n",
        "sample_size 100\n",
        "\n",
        "iteration #"
       ]
      },
      {
       "output_type": "stream",
       "stream": "stdout",
       "text": [
        " 55  ntrees =  56 \n",
        "best loss =  0.0836066095337 \n",
        "last loss =  0.0836066095337\n",
        "learning_rate =  0.3\n",
        "sample_size 100\n",
        "\n",
        "iteration #"
       ]
      },
      {
       "output_type": "stream",
       "stream": "stdout",
       "text": [
        " 56  ntrees =  57 \n",
        "best loss =  0.0834551211527 \n",
        "last loss =  0.0834551211527\n",
        "learning_rate =  0.3\n",
        "sample_size 100\n",
        "\n",
        "iteration #"
       ]
      },
      {
       "output_type": "stream",
       "stream": "stdout",
       "text": [
        " 57  ntrees =  58 \n",
        "best loss =  0.0833262031167 \n",
        "last loss =  0.0833262031167\n",
        "learning_rate =  0.3\n",
        "sample_size 100\n",
        "\n",
        "iteration #"
       ]
      },
      {
       "output_type": "stream",
       "stream": "stdout",
       "text": [
        " 58  ntrees =  59 \n",
        "best loss =  0.0831631238081 \n",
        "last loss =  0.0831631238081\n",
        "learning_rate =  0.3\n",
        "sample_size 100\n",
        "\n",
        "iteration #"
       ]
      },
      {
       "output_type": "stream",
       "stream": "stdout",
       "text": [
        " 59  ntrees =  60 \n",
        "best loss =  0.0830164884846 \n",
        "last loss =  0.0830164884846\n",
        "learning_rate =  0.3\n",
        "sample_size 100\n",
        "\n",
        "iteration #"
       ]
      },
      {
       "output_type": "stream",
       "stream": "stdout",
       "text": [
        " 60  ntrees =  61 \n",
        "best loss =  0.0828535692694 \n",
        "last loss =  0.0828535692694\n",
        "learning_rate =  0.3\n",
        "sample_size 100\n",
        "\n",
        "iteration #"
       ]
      },
      {
       "output_type": "stream",
       "stream": "stdout",
       "text": [
        " 61  ntrees =  62 \n",
        "best loss =  0.0827195109605 \n",
        "last loss =  0.0827195109605\n",
        "learning_rate =  0.3\n",
        "sample_size 100\n",
        "\n",
        "iteration #"
       ]
      },
      {
       "output_type": "stream",
       "stream": "stdout",
       "text": [
        " 62  ntrees =  63 \n",
        "best loss =  0.0825755437295 \n",
        "last loss =  0.0825755437295\n",
        "learning_rate =  0.3\n",
        "sample_size 100\n",
        "\n",
        "iteration #"
       ]
      },
      {
       "output_type": "stream",
       "stream": "stdout",
       "text": [
        " 63  ntrees =  64 \n",
        "best loss =  0.0824480851614 \n",
        "last loss =  0.0824480851614\n",
        "learning_rate =  0.3\n",
        "sample_size 100\n",
        "\n",
        "iteration #"
       ]
      },
      {
       "output_type": "stream",
       "stream": "stdout",
       "text": [
        " 64  ntrees =  65 \n",
        "best loss =  0.0823451693663 \n",
        "last loss =  0.0823451693663\n",
        "learning_rate =  0.3\n",
        "sample_size 100\n",
        "\n",
        "iteration #"
       ]
      },
      {
       "output_type": "stream",
       "stream": "stdout",
       "text": [
        " 65  ntrees =  66 \n",
        "best loss =  0.0822262357594 \n",
        "last loss =  0.0822262357594\n",
        "learning_rate =  0.3\n",
        "sample_size 100\n",
        "\n",
        "iteration #"
       ]
      },
      {
       "output_type": "stream",
       "stream": "stdout",
       "text": [
        " 66  ntrees =  67 \n",
        "best loss =  0.0821141725857 \n",
        "last loss =  0.0821141725857\n",
        "learning_rate =  0.3\n",
        "sample_size 100\n",
        "\n",
        "iteration #"
       ]
      },
      {
       "output_type": "stream",
       "stream": "stdout",
       "text": [
        " 67  ntrees =  68 \n",
        "best loss =  0.0819881478693 \n",
        "last loss =  0.0819881478693\n",
        "learning_rate =  0.3\n",
        "sample_size 100\n",
        "\n",
        "iteration #"
       ]
      },
      {
       "output_type": "stream",
       "stream": "stdout",
       "text": [
        " 68  ntrees =  69 \n",
        "best loss =  0.0818659003874 \n",
        "last loss =  0.0818659003874\n",
        "learning_rate =  0.3\n",
        "sample_size 100\n",
        "\n",
        "iteration #"
       ]
      },
      {
       "output_type": "stream",
       "stream": "stdout",
       "text": [
        " 69  ntrees =  70 \n",
        "best loss =  0.0817233591636 \n",
        "last loss =  0.0817233591636\n",
        "learning_rate =  0.3\n",
        "sample_size 100\n",
        "\n",
        "iteration #"
       ]
      },
      {
       "output_type": "stream",
       "stream": "stdout",
       "text": [
        " 70  ntrees =  71 \n",
        "best loss =  0.0816017673124 \n",
        "last loss =  0.0816017673124\n",
        "learning_rate =  0.3\n",
        "sample_size 100\n",
        "\n",
        "iteration #"
       ]
      },
      {
       "output_type": "stream",
       "stream": "stdout",
       "text": [
        " 71  ntrees =  72 \n",
        "best loss =  0.0814929745945 \n",
        "last loss =  0.0814929745945\n",
        "learning_rate =  0.3\n",
        "sample_size 100\n",
        "\n",
        "iteration #"
       ]
      },
      {
       "output_type": "stream",
       "stream": "stdout",
       "text": [
        " 72  ntrees =  73 \n",
        "best loss =  0.081363009725 \n",
        "last loss =  0.081363009725\n",
        "learning_rate =  0.3\n",
        "sample_size 100\n",
        "\n",
        "iteration #"
       ]
      },
      {
       "output_type": "stream",
       "stream": "stdout",
       "text": [
        " 73  ntrees =  74 \n",
        "best loss =  0.0812537146741 \n",
        "last loss =  0.0812537146741\n",
        "learning_rate =  0.3\n",
        "sample_size 100\n",
        "\n",
        "iteration #"
       ]
      },
      {
       "output_type": "stream",
       "stream": "stdout",
       "text": [
        " 74  ntrees =  75 \n",
        "best loss =  0.081151719519 \n",
        "last loss =  0.081151719519\n",
        "learning_rate =  0.3\n",
        "sample_size 100\n",
        "\n",
        "iteration #"
       ]
      },
      {
       "output_type": "stream",
       "stream": "stdout",
       "text": [
        " 75  ntrees =  76 \n",
        "best loss =  0.0810373665821 \n",
        "last loss =  0.0810373665821\n",
        "learning_rate =  0.3\n",
        "sample_size 100\n",
        "\n",
        "iteration #"
       ]
      },
      {
       "output_type": "stream",
       "stream": "stdout",
       "text": [
        " 76  ntrees =  77 \n",
        "best loss =  0.0809310285939 \n",
        "last loss =  0.0809310285939\n",
        "learning_rate =  0.3\n",
        "sample_size 100\n",
        "\n",
        "iteration #"
       ]
      },
      {
       "output_type": "stream",
       "stream": "stdout",
       "text": [
        " 77  ntrees =  78 \n",
        "best loss =  0.0808080060667 \n",
        "last loss =  0.0808080060667\n",
        "learning_rate =  0.3\n",
        "sample_size 100\n",
        "\n",
        "iteration #"
       ]
      },
      {
       "output_type": "stream",
       "stream": "stdout",
       "text": [
        " 78  ntrees =  79 \n",
        "best loss =  0.0807131542742 \n",
        "last loss =  0.0807131542742\n",
        "learning_rate =  0.3\n",
        "sample_size 100\n",
        "\n",
        "iteration #"
       ]
      },
      {
       "output_type": "stream",
       "stream": "stdout",
       "text": [
        " 79  ntrees =  80 \n",
        "best loss =  0.0805997443809 \n",
        "last loss =  0.0805997443809\n",
        "learning_rate =  0.3\n",
        "sample_size 100\n",
        "\n",
        "iteration #"
       ]
      },
      {
       "output_type": "stream",
       "stream": "stdout",
       "text": [
        " 80  ntrees =  81 \n",
        "best loss =  0.0804854511234 \n",
        "last loss =  0.0804854511234\n",
        "learning_rate =  0.3\n",
        "sample_size 100\n",
        "\n",
        "iteration #"
       ]
      },
      {
       "output_type": "stream",
       "stream": "stdout",
       "text": [
        " 81  ntrees =  82 \n",
        "best loss =  0.0803762488385 \n",
        "last loss =  0.0803762488385\n",
        "learning_rate =  0.3\n",
        "sample_size 100\n",
        "\n",
        "iteration #"
       ]
      },
      {
       "output_type": "stream",
       "stream": "stdout",
       "text": [
        " 82  ntrees =  83 \n",
        "best loss =  0.0802585040161 \n",
        "last loss =  0.0802585040161\n",
        "learning_rate =  0.3\n",
        "sample_size 100\n",
        "\n",
        "iteration #"
       ]
      },
      {
       "output_type": "stream",
       "stream": "stdout",
       "text": [
        " 83  ntrees =  84 \n",
        "best loss =  0.0801217188459 \n",
        "last loss =  0.0801217188459\n",
        "learning_rate =  0.3\n",
        "sample_size 100\n",
        "\n",
        "iteration #"
       ]
      },
      {
       "output_type": "stream",
       "stream": "stdout",
       "text": [
        " 84  ntrees =  85 \n",
        "best loss =  0.0800252006379 \n",
        "last loss =  0.0800252006379\n",
        "learning_rate =  0.3\n",
        "sample_size 100\n",
        "\n",
        "iteration #"
       ]
      },
      {
       "output_type": "stream",
       "stream": "stdout",
       "text": [
        " 85  ntrees =  86 \n",
        "best loss =  0.0799246949863 \n",
        "last loss =  0.0799246949863\n",
        "learning_rate =  0.3\n",
        "sample_size 100\n",
        "\n",
        "iteration #"
       ]
      },
      {
       "output_type": "stream",
       "stream": "stdout",
       "text": [
        " 86  ntrees =  87 \n",
        "best loss =  0.0798300962791 \n",
        "last loss =  0.0798300962791\n",
        "learning_rate =  0.3\n",
        "sample_size 100\n",
        "\n",
        "iteration #"
       ]
      },
      {
       "output_type": "stream",
       "stream": "stdout",
       "text": [
        " 87  ntrees =  88 \n",
        "best loss =  0.0797250907887 \n",
        "last loss =  0.0797250907887\n",
        "learning_rate =  0.3\n",
        "sample_size 100\n",
        "\n",
        "iteration #"
       ]
      },
      {
       "output_type": "stream",
       "stream": "stdout",
       "text": [
        " 88  ntrees =  89 \n",
        "best loss =  0.0796244408037 \n",
        "last loss =  0.0796244408037\n",
        "learning_rate =  0.3\n",
        "sample_size 100\n",
        "\n",
        "iteration #"
       ]
      },
      {
       "output_type": "stream",
       "stream": "stdout",
       "text": [
        " 89  ntrees =  90 \n",
        "best loss =  0.0795172990785 \n",
        "last loss =  0.0795172990785\n",
        "learning_rate =  0.3\n",
        "sample_size 100\n",
        "\n",
        "iteration #"
       ]
      },
      {
       "output_type": "stream",
       "stream": "stdout",
       "text": [
        " 90  ntrees =  91 \n",
        "best loss =  0.0794141851795 \n",
        "last loss =  0.0794141851795\n",
        "learning_rate =  0.3\n",
        "sample_size 100\n",
        "\n",
        "iteration #"
       ]
      },
      {
       "output_type": "stream",
       "stream": "stdout",
       "text": [
        " 91  ntrees =  92 \n",
        "best loss =  0.0793083163596 \n",
        "last loss =  0.0793083163596\n",
        "learning_rate =  0.3\n",
        "sample_size 100\n",
        "\n",
        "iteration #"
       ]
      },
      {
       "output_type": "stream",
       "stream": "stdout",
       "text": [
        " 92  ntrees =  93 \n",
        "best loss =  0.0792013926881 \n",
        "last loss =  0.0792013926881\n",
        "learning_rate =  0.3\n",
        "sample_size 100\n",
        "\n",
        "iteration #"
       ]
      },
      {
       "output_type": "stream",
       "stream": "stdout",
       "text": [
        " 93  ntrees =  94 \n",
        "best loss =  0.0791010492494 \n",
        "last loss =  0.0791010492494\n",
        "learning_rate =  0.3\n",
        "sample_size 100\n",
        "\n",
        "iteration #"
       ]
      },
      {
       "output_type": "stream",
       "stream": "stdout",
       "text": [
        " 94  ntrees =  95 \n",
        "best loss =  0.0789935390248 \n",
        "last loss =  0.0789935390248\n",
        "learning_rate =  0.3\n",
        "sample_size 100\n",
        "\n",
        "iteration #"
       ]
      },
      {
       "output_type": "stream",
       "stream": "stdout",
       "text": [
        " 95  ntrees =  96 \n",
        "best loss =  0.0788845970159 \n",
        "last loss =  0.0788845970159\n",
        "learning_rate =  0.3\n",
        "sample_size 100\n",
        "\n",
        "iteration #"
       ]
      },
      {
       "output_type": "stream",
       "stream": "stdout",
       "text": [
        " 96  ntrees =  97 \n",
        "best loss =  0.0787461582187 \n",
        "last loss =  0.0787461582187\n",
        "learning_rate =  0.3\n",
        "sample_size 100\n",
        "\n",
        "iteration #"
       ]
      },
      {
       "output_type": "stream",
       "stream": "stdout",
       "text": [
        " 97  ntrees =  98 \n",
        "best loss =  0.0786199588217 \n",
        "last loss =  0.0786199588217\n",
        "learning_rate =  0.3\n",
        "sample_size 100\n",
        "\n",
        "iteration #"
       ]
      },
      {
       "output_type": "stream",
       "stream": "stdout",
       "text": [
        " 98  ntrees =  99 \n",
        "best loss =  0.0785191796948 \n",
        "last loss =  0.0785191796948\n",
        "learning_rate =  0.3\n",
        "sample_size 100\n",
        "\n",
        "iteration #"
       ]
      },
      {
       "output_type": "stream",
       "stream": "stdout",
       "text": [
        " 99  ntrees =  100 \n",
        "best loss =  0.0784295367916 \n",
        "last loss =  0.0784295367916\n",
        "learning_rate =  0.3\n",
        "sample_size 100\n",
        "\n",
        "\n",
        "Now training leaf  00 3 / 4\n",
        "n_ samples at leaf =  28288\n",
        "\n",
        "iteration #"
       ]
      },
      {
       "output_type": "stream",
       "stream": "stdout",
       "text": [
        " 0  ntrees =  1 \n",
        "best loss =  0.157353209141\n",
        "learning_rate =  0.3\n",
        "sample_size 100\n",
        "\n",
        "iteration #"
       ]
      },
      {
       "output_type": "stream",
       "stream": "stdout",
       "text": [
        " 1  ntrees =  2 \n",
        "best loss =  0.136393258716 \n",
        "last loss =  0.136393258716\n",
        "learning_rate =  0.3\n",
        "sample_size 100\n",
        "\n",
        "iteration #"
       ]
      },
      {
       "output_type": "stream",
       "stream": "stdout",
       "text": [
        " 2  ntrees =  3 \n",
        "best loss =  0.123433630732 \n",
        "last loss =  0.123433630732\n",
        "learning_rate =  0.3\n",
        "sample_size 100\n",
        "\n",
        "iteration #"
       ]
      },
      {
       "output_type": "stream",
       "stream": "stdout",
       "text": [
        " 3  ntrees =  4 \n",
        "best loss =  0.114192427537 \n",
        "last loss =  0.114192427537\n",
        "learning_rate =  0.3\n",
        "sample_size 100\n",
        "\n",
        "iteration #"
       ]
      },
      {
       "output_type": "stream",
       "stream": "stdout",
       "text": [
        " 4  ntrees =  5 \n",
        "best loss =  0.108478549813 \n",
        "last loss =  0.108478549813\n",
        "learning_rate =  0.3\n",
        "sample_size 100\n",
        "\n",
        "iteration #"
       ]
      },
      {
       "output_type": "stream",
       "stream": "stdout",
       "text": [
        " 5  ntrees =  6 \n",
        "best loss =  0.104025784481 \n",
        "last loss =  0.104025784481\n",
        "learning_rate =  0.3\n",
        "sample_size 100\n",
        "\n",
        "iteration #"
       ]
      },
      {
       "output_type": "stream",
       "stream": "stdout",
       "text": [
        " 6  ntrees =  7 \n",
        "best loss =  0.101005407507 \n",
        "last loss =  0.101005407507\n",
        "learning_rate =  0.3\n",
        "sample_size 100\n",
        "\n",
        "iteration #"
       ]
      },
      {
       "output_type": "stream",
       "stream": "stdout",
       "text": [
        " 7  ntrees =  8 \n",
        "best loss =  0.0989033333972 \n",
        "last loss =  0.0989033333972\n",
        "learning_rate =  0.3\n",
        "sample_size 100\n",
        "\n",
        "iteration #"
       ]
      },
      {
       "output_type": "stream",
       "stream": "stdout",
       "text": [
        " 8  ntrees =  9 \n",
        "best loss =  0.097448663512 \n",
        "last loss =  0.097448663512\n",
        "learning_rate =  0.3\n",
        "sample_size 100\n",
        "\n",
        "iteration #"
       ]
      },
      {
       "output_type": "stream",
       "stream": "stdout",
       "text": [
        " 9  ntrees =  10 \n",
        "best loss =  0.0963826508744 \n",
        "last loss =  0.0963826508744\n",
        "learning_rate =  0.3\n",
        "sample_size 100\n",
        "\n",
        "iteration #"
       ]
      },
      {
       "output_type": "stream",
       "stream": "stdout",
       "text": [
        " 10  ntrees =  11 \n",
        "best loss =  0.0954440069038 \n",
        "last loss =  0.0954440069038\n",
        "learning_rate =  0.3\n",
        "sample_size 100\n",
        "\n",
        "iteration #"
       ]
      },
      {
       "output_type": "stream",
       "stream": "stdout",
       "text": [
        " 11  ntrees =  12 \n",
        "best loss =  0.0946904979241 \n",
        "last loss =  0.0946904979241\n",
        "learning_rate =  0.3\n",
        "sample_size 100\n",
        "\n",
        "iteration #"
       ]
      },
      {
       "output_type": "stream",
       "stream": "stdout",
       "text": [
        " 12  ntrees =  13 \n",
        "best loss =  0.0938798383203 \n",
        "last loss =  0.0938798383203\n",
        "learning_rate =  0.3\n",
        "sample_size 100\n",
        "\n",
        "iteration #"
       ]
      },
      {
       "output_type": "stream",
       "stream": "stdout",
       "text": [
        " 13  ntrees =  14 \n",
        "best loss =  0.0932713211997 \n",
        "last loss =  0.0932713211997\n",
        "learning_rate =  0.3\n",
        "sample_size 100\n",
        "\n",
        "iteration #"
       ]
      },
      {
       "output_type": "stream",
       "stream": "stdout",
       "text": [
        " 14  ntrees =  15 \n",
        "best loss =  0.0927875107926 \n",
        "last loss =  0.0927875107926\n",
        "learning_rate =  0.3\n",
        "sample_size 100\n",
        "\n",
        "iteration #"
       ]
      },
      {
       "output_type": "stream",
       "stream": "stdout",
       "text": [
        " 15  ntrees =  16 \n",
        "best loss =  0.0923803741 \n",
        "last loss =  0.0923803741\n",
        "learning_rate =  0.3\n",
        "sample_size 100\n",
        "\n",
        "iteration #"
       ]
      },
      {
       "output_type": "stream",
       "stream": "stdout",
       "text": [
        " 16  ntrees =  17 \n",
        "best loss =  0.0919829406841 \n",
        "last loss =  0.0919829406841\n",
        "learning_rate =  0.3\n",
        "sample_size 100\n",
        "\n",
        "iteration #"
       ]
      },
      {
       "output_type": "stream",
       "stream": "stdout",
       "text": [
        " 17  ntrees =  18 \n",
        "best loss =  0.0915527678135 \n",
        "last loss =  0.0915527678135\n",
        "learning_rate =  0.3\n",
        "sample_size 100\n",
        "\n",
        "iteration #"
       ]
      },
      {
       "output_type": "stream",
       "stream": "stdout",
       "text": [
        " 18  ntrees =  19 \n",
        "best loss =  0.0911433230619 \n",
        "last loss =  0.0911433230619\n",
        "learning_rate =  0.3\n",
        "sample_size 100\n",
        "\n",
        "iteration #"
       ]
      },
      {
       "output_type": "stream",
       "stream": "stdout",
       "text": [
        " 19  ntrees =  20 \n",
        "best loss =  0.0907658775168 \n",
        "last loss =  0.0907658775168\n",
        "learning_rate =  0.3\n",
        "sample_size 100\n",
        "\n",
        "iteration #"
       ]
      },
      {
       "output_type": "stream",
       "stream": "stdout",
       "text": [
        " 20  ntrees =  21 \n",
        "best loss =  0.0904632310233 \n",
        "last loss =  0.0904632310233\n",
        "learning_rate =  0.3\n",
        "sample_size 100\n",
        "\n",
        "iteration #"
       ]
      },
      {
       "output_type": "stream",
       "stream": "stdout",
       "text": [
        " 21  ntrees =  22 \n",
        "best loss =  0.0902021036786 \n",
        "last loss =  0.0902021036786\n",
        "learning_rate =  0.3\n",
        "sample_size 100\n",
        "\n",
        "iteration #"
       ]
      },
      {
       "output_type": "stream",
       "stream": "stdout",
       "text": [
        " 22  ntrees =  23 \n",
        "best loss =  0.0899323570952 \n",
        "last loss =  0.0899323570952\n",
        "learning_rate =  0.3\n",
        "sample_size 100\n",
        "\n",
        "iteration #"
       ]
      },
      {
       "output_type": "stream",
       "stream": "stdout",
       "text": [
        " 23  ntrees =  24 \n",
        "best loss =  0.089516928128 \n",
        "last loss =  0.089516928128\n",
        "learning_rate =  0.3\n",
        "sample_size 100\n",
        "\n",
        "iteration #"
       ]
      },
      {
       "output_type": "stream",
       "stream": "stdout",
       "text": [
        " 24  ntrees =  25 \n",
        "best loss =  0.0892637785577 \n",
        "last loss =  0.0892637785577\n",
        "learning_rate =  0.3\n",
        "sample_size 100\n",
        "\n",
        "iteration #"
       ]
      },
      {
       "output_type": "stream",
       "stream": "stdout",
       "text": [
        " 25  ntrees =  26 \n",
        "best loss =  0.0889692235721 \n",
        "last loss =  0.0889692235721\n",
        "learning_rate =  0.3\n",
        "sample_size 100\n",
        "\n",
        "iteration #"
       ]
      },
      {
       "output_type": "stream",
       "stream": "stdout",
       "text": [
        " 26  ntrees =  27 \n",
        "best loss =  0.0886966812336 \n",
        "last loss =  0.0886966812336\n",
        "learning_rate =  0.3\n",
        "sample_size 100\n",
        "\n",
        "iteration #"
       ]
      },
      {
       "output_type": "stream",
       "stream": "stdout",
       "text": [
        " 27  ntrees =  28 \n",
        "best loss =  0.088421200314 \n",
        "last loss =  0.088421200314\n",
        "learning_rate =  0.3\n",
        "sample_size 100\n",
        "\n",
        "iteration #"
       ]
      },
      {
       "output_type": "stream",
       "stream": "stdout",
       "text": [
        " 28  ntrees =  29 \n",
        "best loss =  0.088163274223 \n",
        "last loss =  0.088163274223\n",
        "learning_rate =  0.3\n",
        "sample_size 100\n",
        "\n",
        "iteration #"
       ]
      },
      {
       "output_type": "stream",
       "stream": "stdout",
       "text": [
        " 29  ntrees =  30 \n",
        "best loss =  0.0879157400482 \n",
        "last loss =  0.0879157400482\n",
        "learning_rate =  0.3\n",
        "sample_size 100\n",
        "\n",
        "iteration #"
       ]
      },
      {
       "output_type": "stream",
       "stream": "stdout",
       "text": [
        " 30  ntrees =  31 \n",
        "best loss =  0.0876759664259 \n",
        "last loss =  0.0876759664259\n",
        "learning_rate =  0.3\n",
        "sample_size 100\n",
        "\n",
        "iteration #"
       ]
      },
      {
       "output_type": "stream",
       "stream": "stdout",
       "text": [
        " 31  ntrees =  32 \n",
        "best loss =  0.087481724362 \n",
        "last loss =  0.087481724362\n",
        "learning_rate =  0.3\n",
        "sample_size 100\n",
        "\n",
        "iteration #"
       ]
      },
      {
       "output_type": "stream",
       "stream": "stdout",
       "text": [
        " 32  ntrees =  33 \n",
        "best loss =  0.0872678082919 \n",
        "last loss =  0.0872678082919\n",
        "learning_rate =  0.3\n",
        "sample_size 100\n",
        "\n",
        "iteration #"
       ]
      },
      {
       "output_type": "stream",
       "stream": "stdout",
       "text": [
        " 33  ntrees =  34 \n",
        "best loss =  0.0870679488488 \n",
        "last loss =  0.0870679488488\n",
        "learning_rate =  0.3\n",
        "sample_size 100\n",
        "\n",
        "iteration #"
       ]
      },
      {
       "output_type": "stream",
       "stream": "stdout",
       "text": [
        " 34  ntrees =  35 \n",
        "best loss =  0.0868555295537 \n",
        "last loss =  0.0868555295537\n",
        "learning_rate =  0.3\n",
        "sample_size 100\n",
        "\n",
        "iteration #"
       ]
      },
      {
       "output_type": "stream",
       "stream": "stdout",
       "text": [
        " 35  ntrees =  36 \n",
        "best loss =  0.0866798794145 \n",
        "last loss =  0.0866798794145\n",
        "learning_rate =  0.3\n",
        "sample_size 100\n",
        "\n",
        "iteration #"
       ]
      },
      {
       "output_type": "stream",
       "stream": "stdout",
       "text": [
        " 36  ntrees =  37 \n",
        "best loss =  0.0864403970379 \n",
        "last loss =  0.0864403970379\n",
        "learning_rate =  0.3\n",
        "sample_size 100\n",
        "\n",
        "iteration #"
       ]
      },
      {
       "output_type": "stream",
       "stream": "stdout",
       "text": [
        " 37  ntrees =  38 \n",
        "best loss =  0.0862663343308 \n",
        "last loss =  0.0862663343308\n",
        "learning_rate =  0.3\n",
        "sample_size 100\n",
        "\n",
        "iteration #"
       ]
      },
      {
       "output_type": "stream",
       "stream": "stdout",
       "text": [
        " 38  ntrees =  39 \n",
        "best loss =  0.086103914213 \n",
        "last loss =  0.086103914213\n",
        "learning_rate =  0.3\n",
        "sample_size 100\n",
        "\n",
        "iteration #"
       ]
      },
      {
       "output_type": "stream",
       "stream": "stdout",
       "text": [
        " 39  ntrees =  40 \n",
        "best loss =  0.0858956870679 \n",
        "last loss =  0.0858956870679\n",
        "learning_rate =  0.3\n",
        "sample_size 100\n",
        "\n",
        "iteration #"
       ]
      },
      {
       "output_type": "stream",
       "stream": "stdout",
       "text": [
        " 40  ntrees =  41 \n",
        "best loss =  0.0857460778727 \n",
        "last loss =  0.0857460778727\n",
        "learning_rate =  0.3\n",
        "sample_size 100\n",
        "\n",
        "iteration #"
       ]
      },
      {
       "output_type": "stream",
       "stream": "stdout",
       "text": [
        " 41  ntrees =  42 \n",
        "best loss =  0.085579186266 \n",
        "last loss =  0.085579186266\n",
        "learning_rate =  0.3\n",
        "sample_size 100\n",
        "\n",
        "iteration #"
       ]
      },
      {
       "output_type": "stream",
       "stream": "stdout",
       "text": [
        " 42  ntrees =  43 \n",
        "best loss =  0.0854184345177 \n",
        "last loss =  0.0854184345177\n",
        "learning_rate =  0.3\n",
        "sample_size 100\n",
        "\n",
        "iteration #"
       ]
      },
      {
       "output_type": "stream",
       "stream": "stdout",
       "text": [
        " 43  ntrees =  44 \n",
        "best loss =  0.0852447220146 \n",
        "last loss =  0.0852447220146\n",
        "learning_rate =  0.3\n",
        "sample_size 100\n",
        "\n",
        "iteration #"
       ]
      },
      {
       "output_type": "stream",
       "stream": "stdout",
       "text": [
        " 44  ntrees =  45 \n",
        "best loss =  0.0850744362348 \n",
        "last loss =  0.0850744362348\n",
        "learning_rate =  0.3\n",
        "sample_size 100\n",
        "\n",
        "iteration #"
       ]
      },
      {
       "output_type": "stream",
       "stream": "stdout",
       "text": [
        " 45  ntrees =  46 \n",
        "best loss =  0.084896564657 \n",
        "last loss =  0.084896564657\n",
        "learning_rate =  0.3\n",
        "sample_size 100\n",
        "\n",
        "iteration #"
       ]
      },
      {
       "output_type": "stream",
       "stream": "stdout",
       "text": [
        " 46  ntrees =  47 \n",
        "best loss =  0.0847092358093 \n",
        "last loss =  0.0847092358093\n",
        "learning_rate =  0.3\n",
        "sample_size 100\n",
        "\n",
        "iteration #"
       ]
      },
      {
       "output_type": "stream",
       "stream": "stdout",
       "text": [
        " 47  ntrees =  48 \n",
        "best loss =  0.0845503770367 \n",
        "last loss =  0.0845503770367\n",
        "learning_rate =  0.3\n",
        "sample_size 100\n",
        "\n",
        "iteration #"
       ]
      },
      {
       "output_type": "stream",
       "stream": "stdout",
       "text": [
        " 48  ntrees =  49 \n",
        "best loss =  0.0844089570134 \n",
        "last loss =  0.0844089570134\n",
        "learning_rate =  0.3\n",
        "sample_size 100\n",
        "\n",
        "iteration #"
       ]
      },
      {
       "output_type": "stream",
       "stream": "stdout",
       "text": [
        " 49  ntrees =  50 \n",
        "best loss =  0.0842380692961 \n",
        "last loss =  0.0842380692961\n",
        "learning_rate =  0.3\n",
        "sample_size 100\n",
        "\n",
        "iteration #"
       ]
      },
      {
       "output_type": "stream",
       "stream": "stdout",
       "text": [
        " 50  ntrees =  51 \n",
        "best loss =  0.0841015498683 \n",
        "last loss =  0.0841015498683\n",
        "learning_rate =  0.3\n",
        "sample_size 100\n",
        "\n",
        "iteration #"
       ]
      },
      {
       "output_type": "stream",
       "stream": "stdout",
       "text": [
        " 51  ntrees =  52 \n",
        "best loss =  0.0839560045793 \n",
        "last loss =  0.0839560045793\n",
        "learning_rate =  0.3\n",
        "sample_size 100\n",
        "\n",
        "iteration #"
       ]
      },
      {
       "output_type": "stream",
       "stream": "stdout",
       "text": [
        " 52  ntrees =  53 \n",
        "best loss =  0.0837908750091 \n",
        "last loss =  0.0837908750091\n",
        "learning_rate =  0.3\n",
        "sample_size 100\n",
        "\n",
        "iteration #"
       ]
      },
      {
       "output_type": "stream",
       "stream": "stdout",
       "text": [
        " 53  ntrees =  54 \n",
        "best loss =  0.083624299805 \n",
        "last loss =  0.083624299805\n",
        "learning_rate =  0.3\n",
        "sample_size 100\n",
        "\n",
        "iteration #"
       ]
      },
      {
       "output_type": "stream",
       "stream": "stdout",
       "text": [
        " 54  ntrees =  55 \n",
        "best loss =  0.0834838525985 \n",
        "last loss =  0.0834838525985\n",
        "learning_rate =  0.3\n",
        "sample_size 100\n",
        "\n",
        "iteration #"
       ]
      },
      {
       "output_type": "stream",
       "stream": "stdout",
       "text": [
        " 55  ntrees =  56 \n",
        "best loss =  0.0833263971052 \n",
        "last loss =  0.0833263971052\n",
        "learning_rate =  0.3\n",
        "sample_size 100\n",
        "\n",
        "iteration #"
       ]
      },
      {
       "output_type": "stream",
       "stream": "stdout",
       "text": [
        " 56  ntrees =  57 \n",
        "best loss =  0.0831965281801 \n",
        "last loss =  0.0831965281801\n",
        "learning_rate =  0.3\n",
        "sample_size 100\n",
        "\n",
        "iteration #"
       ]
      },
      {
       "output_type": "stream",
       "stream": "stdout",
       "text": [
        " 57  ntrees =  58 \n",
        "best loss =  0.0830507559015 \n",
        "last loss =  0.0830507559015\n",
        "learning_rate =  0.3\n",
        "sample_size 100\n",
        "\n",
        "iteration #"
       ]
      },
      {
       "output_type": "stream",
       "stream": "stdout",
       "text": [
        " 58  ntrees =  59 \n",
        "best loss =  0.0829084003753 \n",
        "last loss =  0.0829084003753\n",
        "learning_rate =  0.3\n",
        "sample_size 100\n",
        "\n",
        "iteration #"
       ]
      },
      {
       "output_type": "stream",
       "stream": "stdout",
       "text": [
        " 59  ntrees =  60 \n",
        "best loss =  0.0826823532837 \n",
        "last loss =  0.0826823532837\n",
        "learning_rate =  0.3\n",
        "sample_size 100\n",
        "\n",
        "iteration #"
       ]
      },
      {
       "output_type": "stream",
       "stream": "stdout",
       "text": [
        " 60  ntrees =  61 \n",
        "best loss =  0.0825352990197 \n",
        "last loss =  0.0825352990197\n",
        "learning_rate =  0.3\n",
        "sample_size 100\n",
        "\n",
        "iteration #"
       ]
      },
      {
       "output_type": "stream",
       "stream": "stdout",
       "text": [
        " 61  ntrees =  62 \n",
        "best loss =  0.0823897802697 \n",
        "last loss =  0.0823897802697\n",
        "learning_rate =  0.3\n",
        "sample_size 100\n",
        "\n",
        "iteration #"
       ]
      },
      {
       "output_type": "stream",
       "stream": "stdout",
       "text": [
        " 62  ntrees =  63 \n",
        "best loss =  0.0822394150188 \n",
        "last loss =  0.0822394150188\n",
        "learning_rate =  0.3\n",
        "sample_size 100\n",
        "\n",
        "iteration #"
       ]
      },
      {
       "output_type": "stream",
       "stream": "stdout",
       "text": [
        " 63  ntrees =  64 \n",
        "best loss =  0.0821048369886 \n",
        "last loss =  0.0821048369886\n",
        "learning_rate =  0.3\n",
        "sample_size 100\n",
        "\n",
        "iteration #"
       ]
      },
      {
       "output_type": "stream",
       "stream": "stdout",
       "text": [
        " 64  ntrees =  65 \n",
        "best loss =  0.0819555354714 \n",
        "last loss =  0.0819555354714\n",
        "learning_rate =  0.3\n",
        "sample_size 100\n",
        "\n",
        "iteration #"
       ]
      },
      {
       "output_type": "stream",
       "stream": "stdout",
       "text": [
        " 65  ntrees =  66 \n",
        "best loss =  0.0817954585381 \n",
        "last loss =  0.0817954585381\n",
        "learning_rate =  0.3\n",
        "sample_size 100\n",
        "\n",
        "iteration #"
       ]
      },
      {
       "output_type": "stream",
       "stream": "stdout",
       "text": [
        " 66  ntrees =  67 \n",
        "best loss =  0.0816623135523 \n",
        "last loss =  0.0816623135523\n",
        "learning_rate =  0.3\n",
        "sample_size 100\n",
        "\n",
        "iteration #"
       ]
      },
      {
       "output_type": "stream",
       "stream": "stdout",
       "text": [
        " 67  ntrees =  68 \n",
        "best loss =  0.0815376343843 \n",
        "last loss =  0.0815376343843\n",
        "learning_rate =  0.3\n",
        "sample_size 100\n",
        "\n",
        "iteration #"
       ]
      },
      {
       "output_type": "stream",
       "stream": "stdout",
       "text": [
        " 68  ntrees =  69 \n",
        "best loss =  0.0814136098133 \n",
        "last loss =  0.0814136098133\n",
        "learning_rate =  0.3\n",
        "sample_size 100\n",
        "\n",
        "iteration #"
       ]
      },
      {
       "output_type": "stream",
       "stream": "stdout",
       "text": [
        " 69  ntrees =  70 \n",
        "best loss =  0.0812627347112 \n",
        "last loss =  0.0812627347112\n",
        "learning_rate =  0.3\n",
        "sample_size 100\n",
        "\n",
        "iteration #"
       ]
      },
      {
       "output_type": "stream",
       "stream": "stdout",
       "text": [
        " 70  ntrees =  71 \n",
        "best loss =  0.0811339055794 \n",
        "last loss =  0.0811339055794\n",
        "learning_rate =  0.3\n",
        "sample_size 100\n",
        "\n",
        "iteration #"
       ]
      },
      {
       "output_type": "stream",
       "stream": "stdout",
       "text": [
        " 71  ntrees =  72 \n",
        "best loss =  0.0809701603027 \n",
        "last loss =  0.0809701603027\n",
        "learning_rate =  0.3\n",
        "sample_size 100\n",
        "\n",
        "iteration #"
       ]
      },
      {
       "output_type": "stream",
       "stream": "stdout",
       "text": [
        " 72  ntrees =  73 \n",
        "best loss =  0.080851899924 \n",
        "last loss =  0.080851899924\n",
        "learning_rate =  0.3\n",
        "sample_size 100\n",
        "\n",
        "iteration #"
       ]
      },
      {
       "output_type": "stream",
       "stream": "stdout",
       "text": [
        " 73  ntrees =  74 \n",
        "best loss =  0.0807414359587 \n",
        "last loss =  0.0807414359587\n",
        "learning_rate =  0.3\n",
        "sample_size 100\n",
        "\n",
        "iteration #"
       ]
      },
      {
       "output_type": "stream",
       "stream": "stdout",
       "text": [
        " 74  ntrees =  75 \n",
        "best loss =  0.0805788277 \n",
        "last loss =  0.0805788277\n",
        "learning_rate =  0.3\n",
        "sample_size 100\n",
        "\n",
        "iteration #"
       ]
      },
      {
       "output_type": "stream",
       "stream": "stdout",
       "text": [
        " 75  ntrees =  76 \n",
        "best loss =  0.0804601754243 \n",
        "last loss =  0.0804601754243\n",
        "learning_rate =  0.3\n",
        "sample_size 100\n",
        "\n",
        "iteration #"
       ]
      },
      {
       "output_type": "stream",
       "stream": "stdout",
       "text": [
        " 76  ntrees =  77 \n",
        "best loss =  0.0803415433025 \n",
        "last loss =  0.0803415433025\n",
        "learning_rate =  0.3\n",
        "sample_size 100\n",
        "\n",
        "iteration #"
       ]
      },
      {
       "output_type": "stream",
       "stream": "stdout",
       "text": [
        " 77  ntrees =  78 \n",
        "best loss =  0.0802317722546 \n",
        "last loss =  0.0802317722546\n",
        "learning_rate =  0.3\n",
        "sample_size 100\n",
        "\n",
        "iteration #"
       ]
      },
      {
       "output_type": "stream",
       "stream": "stdout",
       "text": [
        " 78  ntrees =  79 \n",
        "best loss =  0.0800840098388 \n",
        "last loss =  0.0800840098388\n",
        "learning_rate =  0.3\n",
        "sample_size 100\n",
        "\n",
        "iteration #"
       ]
      },
      {
       "output_type": "stream",
       "stream": "stdout",
       "text": [
        " 79  ntrees =  80 \n",
        "best loss =  0.0799634199183 \n",
        "last loss =  0.0799634199183\n",
        "learning_rate =  0.3\n",
        "sample_size 100\n",
        "\n",
        "iteration #"
       ]
      },
      {
       "output_type": "stream",
       "stream": "stdout",
       "text": [
        " 80  ntrees =  81 \n",
        "best loss =  0.0798319957871 \n",
        "last loss =  0.0798319957871\n",
        "learning_rate =  0.3\n",
        "sample_size 100\n",
        "\n",
        "iteration #"
       ]
      },
      {
       "output_type": "stream",
       "stream": "stdout",
       "text": [
        " 81  ntrees =  82 \n",
        "best loss =  0.0797080098397 \n",
        "last loss =  0.0797080098397\n",
        "learning_rate =  0.3\n",
        "sample_size 100\n",
        "\n",
        "iteration #"
       ]
      },
      {
       "output_type": "stream",
       "stream": "stdout",
       "text": [
        " 82  ntrees =  83 \n",
        "best loss =  0.0795855032075 \n",
        "last loss =  0.0795855032075\n",
        "learning_rate =  0.3\n",
        "sample_size 100\n",
        "\n",
        "iteration #"
       ]
      },
      {
       "output_type": "stream",
       "stream": "stdout",
       "text": [
        " 83  ntrees =  84 \n",
        "best loss =  0.0794660294782 \n",
        "last loss =  0.0794660294782\n",
        "learning_rate =  0.3\n",
        "sample_size 100\n",
        "\n",
        "iteration #"
       ]
      },
      {
       "output_type": "stream",
       "stream": "stdout",
       "text": [
        " 84  ntrees =  85 \n",
        "best loss =  0.0793324597101 \n",
        "last loss =  0.0793324597101\n",
        "learning_rate =  0.3\n",
        "sample_size 100\n",
        "\n",
        "iteration #"
       ]
      },
      {
       "output_type": "stream",
       "stream": "stdout",
       "text": [
        " 85  ntrees =  86 \n",
        "best loss =  0.079211724964 \n",
        "last loss =  0.079211724964\n",
        "learning_rate =  0.3\n",
        "sample_size 100\n",
        "\n",
        "iteration #"
       ]
      },
      {
       "output_type": "stream",
       "stream": "stdout",
       "text": [
        " 86  ntrees =  87 \n",
        "best loss =  0.079081997372 \n",
        "last loss =  0.079081997372\n",
        "learning_rate =  0.3\n",
        "sample_size 100\n",
        "\n",
        "iteration #"
       ]
      },
      {
       "output_type": "stream",
       "stream": "stdout",
       "text": [
        " 87  ntrees =  88 \n",
        "best loss =  0.0789696996968 \n",
        "last loss =  0.0789696996968\n",
        "learning_rate =  0.3\n",
        "sample_size 100\n",
        "\n",
        "iteration #"
       ]
      },
      {
       "output_type": "stream",
       "stream": "stdout",
       "text": [
        " 88  ntrees =  89 \n",
        "best loss =  0.0788521119784 \n",
        "last loss =  0.0788521119784\n",
        "learning_rate =  0.3\n",
        "sample_size 100\n",
        "\n",
        "iteration #"
       ]
      },
      {
       "output_type": "stream",
       "stream": "stdout",
       "text": [
        " 89  ntrees =  90 \n",
        "best loss =  0.0787369195961 \n",
        "last loss =  0.0787369195961\n",
        "learning_rate =  0.3\n",
        "sample_size 100\n",
        "\n",
        "iteration #"
       ]
      },
      {
       "output_type": "stream",
       "stream": "stdout",
       "text": [
        " 90  ntrees =  91 \n",
        "best loss =  0.0786155131161 \n",
        "last loss =  0.0786155131161\n",
        "learning_rate =  0.3\n",
        "sample_size 100\n",
        "\n",
        "iteration #"
       ]
      },
      {
       "output_type": "stream",
       "stream": "stdout",
       "text": [
        " 91  ntrees =  92 \n",
        "best loss =  0.0785178478709 \n",
        "last loss =  0.0785178478709\n",
        "learning_rate =  0.3\n",
        "sample_size 100\n",
        "\n",
        "iteration #"
       ]
      },
      {
       "output_type": "stream",
       "stream": "stdout",
       "text": [
        " 92  ntrees =  93 \n",
        "best loss =  0.0783985320915 \n",
        "last loss =  0.0783985320915\n",
        "learning_rate =  0.3\n",
        "sample_size 100\n",
        "\n",
        "iteration #"
       ]
      },
      {
       "output_type": "stream",
       "stream": "stdout",
       "text": [
        " 93  ntrees =  94 \n",
        "best loss =  0.0782853350609 \n",
        "last loss =  0.0782853350609\n",
        "learning_rate =  0.3\n",
        "sample_size 100\n",
        "\n",
        "iteration #"
       ]
      },
      {
       "output_type": "stream",
       "stream": "stdout",
       "text": [
        " 94  ntrees =  95 \n",
        "best loss =  0.078172138136 \n",
        "last loss =  0.078172138136\n",
        "learning_rate =  0.3\n",
        "sample_size 100\n",
        "\n",
        "iteration #"
       ]
      },
      {
       "output_type": "stream",
       "stream": "stdout",
       "text": [
        " 95  ntrees =  96 \n",
        "best loss =  0.0780812499701 \n",
        "last loss =  0.0780812499701\n",
        "learning_rate =  0.3\n",
        "sample_size 100\n",
        "\n",
        "iteration #"
       ]
      },
      {
       "output_type": "stream",
       "stream": "stdout",
       "text": [
        " 96  ntrees =  97 \n",
        "best loss =  0.0779736362107 \n",
        "last loss =  0.0779736362107\n",
        "learning_rate =  0.3\n",
        "sample_size 100\n",
        "\n",
        "iteration #"
       ]
      },
      {
       "output_type": "stream",
       "stream": "stdout",
       "text": [
        " 97  ntrees =  98 \n",
        "best loss =  0.0778741591413 \n",
        "last loss =  0.0778741591413\n",
        "learning_rate =  0.3\n",
        "sample_size 100\n",
        "\n",
        "iteration #"
       ]
      },
      {
       "output_type": "stream",
       "stream": "stdout",
       "text": [
        " 98  ntrees =  99 \n",
        "best loss =  0.0777515779739 \n",
        "last loss =  0.0777515779739\n",
        "learning_rate =  0.3\n",
        "sample_size 100\n",
        "\n",
        "iteration #"
       ]
      },
      {
       "output_type": "stream",
       "stream": "stdout",
       "text": [
        " 99  ntrees =  100 \n",
        "best loss =  0.0776368431662 \n",
        "last loss =  0.0776368431662\n",
        "learning_rate =  0.3\n",
        "sample_size 100\n",
        "\n",
        "\n",
        "Now training leaf  01 4 / 4\n",
        "n_ samples at leaf =  17826\n",
        "\n",
        "iteration #"
       ]
      },
      {
       "output_type": "stream",
       "stream": "stdout",
       "text": [
        " 0  ntrees =  1 \n",
        "best loss =  0.12857785702\n",
        "learning_rate =  0.3\n",
        "sample_size 100\n",
        "\n",
        "iteration #"
       ]
      },
      {
       "output_type": "stream",
       "stream": "stdout",
       "text": [
        " 1  ntrees =  2 \n",
        "best loss =  0.11058959554 \n",
        "last loss =  0.11058959554\n",
        "learning_rate =  0.3\n",
        "sample_size 100\n",
        "\n",
        "iteration #"
       ]
      },
      {
       "output_type": "stream",
       "stream": "stdout",
       "text": [
        " 2  ntrees =  3 \n",
        "best loss =  0.0983864872872 \n",
        "last loss =  0.0983864872872\n",
        "learning_rate =  0.3\n",
        "sample_size 100\n",
        "\n",
        "iteration #"
       ]
      },
      {
       "output_type": "stream",
       "stream": "stdout",
       "text": [
        " 3  ntrees =  4 \n",
        "best loss =  0.0906680927411 \n",
        "last loss =  0.0906680927411\n",
        "learning_rate =  0.3\n",
        "sample_size 100\n",
        "\n",
        "iteration #"
       ]
      },
      {
       "output_type": "stream",
       "stream": "stdout",
       "text": [
        " 4  ntrees =  5 \n",
        "best loss =  0.0846473287465 \n",
        "last loss =  0.0846473287465\n",
        "learning_rate =  0.3\n",
        "sample_size 100\n",
        "\n",
        "iteration #"
       ]
      },
      {
       "output_type": "stream",
       "stream": "stdout",
       "text": [
        " 5  ntrees =  6 \n",
        "best loss =  0.0805760343705 \n",
        "last loss =  0.0805760343705\n",
        "learning_rate =  0.3\n",
        "sample_size 100\n",
        "\n",
        "iteration #"
       ]
      },
      {
       "output_type": "stream",
       "stream": "stdout",
       "text": [
        " 6  ntrees =  7 \n",
        "best loss =  0.0778492783416 \n",
        "last loss =  0.0778492783416\n",
        "learning_rate =  0.3\n",
        "sample_size 100\n",
        "\n",
        "iteration #"
       ]
      },
      {
       "output_type": "stream",
       "stream": "stdout",
       "text": [
        " 7  ntrees =  8 \n",
        "best loss =  0.0759519688906 \n",
        "last loss =  0.0759519688906\n",
        "learning_rate =  0.3\n",
        "sample_size 100\n",
        "\n",
        "iteration #"
       ]
      },
      {
       "output_type": "stream",
       "stream": "stdout",
       "text": [
        " 8  ntrees =  9 \n",
        "best loss =  0.0741628449491 \n",
        "last loss =  0.0741628449491\n",
        "learning_rate =  0.3\n",
        "sample_size 100\n",
        "\n",
        "iteration #"
       ]
      },
      {
       "output_type": "stream",
       "stream": "stdout",
       "text": [
        " 9  ntrees =  10 \n",
        "best loss =  0.0730032620517 \n",
        "last loss =  0.0730032620517\n",
        "learning_rate =  0.3\n",
        "sample_size 100\n",
        "\n",
        "iteration #"
       ]
      },
      {
       "output_type": "stream",
       "stream": "stdout",
       "text": [
        " 10  ntrees =  11 \n",
        "best loss =  0.0719160636566 \n",
        "last loss =  0.0719160636566\n",
        "learning_rate =  0.3\n",
        "sample_size 100\n",
        "\n",
        "iteration #"
       ]
      },
      {
       "output_type": "stream",
       "stream": "stdout",
       "text": [
        " 11  ntrees =  12 \n",
        "best loss =  0.0710139369981 \n",
        "last loss =  0.0710139369981\n",
        "learning_rate =  0.3\n",
        "sample_size 100\n",
        "\n",
        "iteration #"
       ]
      },
      {
       "output_type": "stream",
       "stream": "stdout",
       "text": [
        " 12  ntrees =  13 \n",
        "best loss =  0.0701830110511 \n",
        "last loss =  0.0701830110511\n",
        "learning_rate =  0.3\n",
        "sample_size 100\n",
        "\n",
        "iteration #"
       ]
      },
      {
       "output_type": "stream",
       "stream": "stdout",
       "text": [
        " 13  ntrees =  14 \n",
        "best loss =  0.0696346531365 \n",
        "last loss =  0.0696346531365\n",
        "learning_rate =  0.3\n",
        "sample_size 100\n",
        "\n",
        "iteration #"
       ]
      },
      {
       "output_type": "stream",
       "stream": "stdout",
       "text": [
        " 14  ntrees =  15 \n",
        "best loss =  0.0691546682278 \n",
        "last loss =  0.0691546682278\n",
        "learning_rate =  0.3\n",
        "sample_size 100\n",
        "\n",
        "iteration #"
       ]
      },
      {
       "output_type": "stream",
       "stream": "stdout",
       "text": [
        " 15  ntrees =  16 \n",
        "best loss =  0.0686875419882 \n",
        "last loss =  0.0686875419882\n",
        "learning_rate =  0.3\n",
        "sample_size 100\n",
        "\n",
        "iteration #"
       ]
      },
      {
       "output_type": "stream",
       "stream": "stdout",
       "text": [
        " 16  ntrees =  17 \n",
        "best loss =  0.0682355210611 \n",
        "last loss =  0.0682355210611\n",
        "learning_rate =  0.3\n",
        "sample_size 100\n",
        "\n",
        "iteration #"
       ]
      },
      {
       "output_type": "stream",
       "stream": "stdout",
       "text": [
        " 17  ntrees =  18 \n",
        "best loss =  0.0677553702887 \n",
        "last loss =  0.0677553702887\n",
        "learning_rate =  0.3\n",
        "sample_size 100\n",
        "\n",
        "iteration #"
       ]
      },
      {
       "output_type": "stream",
       "stream": "stdout",
       "text": [
        " 18  ntrees =  19 \n",
        "best loss =  0.0672648598106 \n",
        "last loss =  0.0672648598106\n",
        "learning_rate =  0.3\n",
        "sample_size 100\n",
        "\n",
        "iteration #"
       ]
      },
      {
       "output_type": "stream",
       "stream": "stdout",
       "text": [
        " 19  ntrees =  20 \n",
        "best loss =  0.0669672822357 \n",
        "last loss =  0.0669672822357\n",
        "learning_rate =  0.3\n",
        "sample_size 100\n",
        "\n",
        "iteration #"
       ]
      },
      {
       "output_type": "stream",
       "stream": "stdout",
       "text": [
        " 20  ntrees =  21 \n",
        "best loss =  0.0666388713711 \n",
        "last loss =  0.0666388713711\n",
        "learning_rate =  0.3\n",
        "sample_size 100\n",
        "\n",
        "iteration #"
       ]
      },
      {
       "output_type": "stream",
       "stream": "stdout",
       "text": [
        " 21  ntrees =  22 \n",
        "best loss =  0.0663295996409 \n",
        "last loss =  0.0663295996409\n",
        "learning_rate =  0.3\n",
        "sample_size 100\n",
        "\n",
        "iteration #"
       ]
      },
      {
       "output_type": "stream",
       "stream": "stdout",
       "text": [
        " 22  ntrees =  23 \n",
        "best loss =  0.0660551485075 \n",
        "last loss =  0.0660551485075\n",
        "learning_rate =  0.3\n",
        "sample_size 100\n",
        "\n",
        "iteration #"
       ]
      },
      {
       "output_type": "stream",
       "stream": "stdout",
       "text": [
        " 23  ntrees =  24 \n",
        "best loss =  0.0658302847362 \n",
        "last loss =  0.0658302847362\n",
        "learning_rate =  0.3\n",
        "sample_size 100\n",
        "\n",
        "iteration #"
       ]
      },
      {
       "output_type": "stream",
       "stream": "stdout",
       "text": [
        " 24  ntrees =  25 \n",
        "best loss =  0.0655857713075 \n",
        "last loss =  0.0655857713075\n",
        "learning_rate =  0.3\n",
        "sample_size 100\n",
        "\n",
        "iteration #"
       ]
      },
      {
       "output_type": "stream",
       "stream": "stdout",
       "text": [
        " 25  ntrees =  26 \n",
        "best loss =  0.0653239670053 \n",
        "last loss =  0.0653239670053\n",
        "learning_rate =  0.3\n",
        "sample_size 100\n",
        "\n",
        "iteration #"
       ]
      },
      {
       "output_type": "stream",
       "stream": "stdout",
       "text": [
        " 26  ntrees =  27 \n",
        "best loss =  0.0651385788153 \n",
        "last loss =  0.0651385788153\n",
        "learning_rate =  0.3\n",
        "sample_size 100\n",
        "\n",
        "iteration #"
       ]
      },
      {
       "output_type": "stream",
       "stream": "stdout",
       "text": [
        " 27  ntrees =  28 \n",
        "best loss =  0.0649085059607 \n",
        "last loss =  0.0649085059607\n",
        "learning_rate =  0.3\n",
        "sample_size 100\n",
        "\n",
        "iteration #"
       ]
      },
      {
       "output_type": "stream",
       "stream": "stdout",
       "text": [
        " 28  ntrees =  29 \n",
        "best loss =  0.0647043755016 \n",
        "last loss =  0.0647043755016\n",
        "learning_rate =  0.3\n",
        "sample_size 100\n",
        "\n",
        "iteration #"
       ]
      },
      {
       "output_type": "stream",
       "stream": "stdout",
       "text": [
        " 29  ntrees =  30 \n",
        "best loss =  0.0644925505334 \n",
        "last loss =  0.0644925505334\n",
        "learning_rate =  0.3\n",
        "sample_size 100\n",
        "\n",
        "iteration #"
       ]
      },
      {
       "output_type": "stream",
       "stream": "stdout",
       "text": [
        " 30  ntrees =  31 \n",
        "best loss =  0.0643016880713 \n",
        "last loss =  0.0643016880713\n",
        "learning_rate =  0.3\n",
        "sample_size 100\n",
        "\n",
        "iteration #"
       ]
      },
      {
       "output_type": "stream",
       "stream": "stdout",
       "text": [
        " 31  ntrees =  32 \n",
        "best loss =  0.064107476161 \n",
        "last loss =  0.064107476161\n",
        "learning_rate =  0.3\n",
        "sample_size 100\n",
        "\n",
        "iteration #"
       ]
      },
      {
       "output_type": "stream",
       "stream": "stdout",
       "text": [
        " 32  ntrees =  33 \n",
        "best loss =  0.0639127767708 \n",
        "last loss =  0.0639127767708\n",
        "learning_rate =  0.3\n",
        "sample_size 100\n",
        "\n",
        "iteration #"
       ]
      },
      {
       "output_type": "stream",
       "stream": "stdout",
       "text": [
        " 33  ntrees =  34 \n",
        "best loss =  0.0637385854039 \n",
        "last loss =  0.0637385854039\n",
        "learning_rate =  0.3\n",
        "sample_size 100\n",
        "\n",
        "iteration #"
       ]
      },
      {
       "output_type": "stream",
       "stream": "stdout",
       "text": [
        " 34  ntrees =  35 \n",
        "best loss =  0.0635684077995 \n",
        "last loss =  0.0635684077995\n",
        "learning_rate =  0.3\n",
        "sample_size 100\n",
        "\n",
        "iteration #"
       ]
      },
      {
       "output_type": "stream",
       "stream": "stdout",
       "text": [
        " 35  ntrees =  36 \n",
        "best loss =  0.0634058245561 \n",
        "last loss =  0.0634058245561\n",
        "learning_rate =  0.3\n",
        "sample_size 100\n",
        "\n",
        "iteration #"
       ]
      },
      {
       "output_type": "stream",
       "stream": "stdout",
       "text": [
        " 36  ntrees =  37 \n",
        "best loss =  0.0632148175521 \n",
        "last loss =  0.0632148175521\n",
        "learning_rate =  0.3\n",
        "sample_size 100\n",
        "\n",
        "iteration #"
       ]
      },
      {
       "output_type": "stream",
       "stream": "stdout",
       "text": [
        " 37  ntrees =  38 \n",
        "best loss =  0.0630659437587 \n",
        "last loss =  0.0630659437587\n",
        "learning_rate =  0.3\n",
        "sample_size 100\n",
        "\n",
        "iteration #"
       ]
      },
      {
       "output_type": "stream",
       "stream": "stdout",
       "text": [
        " 38  ntrees =  39 \n",
        "best loss =  0.0629069280177 \n",
        "last loss =  0.0629069280177\n",
        "learning_rate =  0.3\n",
        "sample_size 100\n",
        "\n",
        "iteration #"
       ]
      },
      {
       "output_type": "stream",
       "stream": "stdout",
       "text": [
        " 39  ntrees =  40 \n",
        "best loss =  0.0627598554279 \n",
        "last loss =  0.0627598554279\n",
        "learning_rate =  0.3\n",
        "sample_size 100\n",
        "\n",
        "iteration #"
       ]
      },
      {
       "output_type": "stream",
       "stream": "stdout",
       "text": [
        " 40  ntrees =  41 \n",
        "best loss =  0.0626354600164 \n",
        "last loss =  0.0626354600164\n",
        "learning_rate =  0.3\n",
        "sample_size 100\n",
        "\n",
        "iteration #"
       ]
      },
      {
       "output_type": "stream",
       "stream": "stdout",
       "text": [
        " 41  ntrees =  42 \n",
        "best loss =  0.0625062335827 \n",
        "last loss =  0.0625062335827\n",
        "learning_rate =  0.3\n",
        "sample_size 100\n",
        "\n",
        "iteration #"
       ]
      },
      {
       "output_type": "stream",
       "stream": "stdout",
       "text": [
        " 42  ntrees =  43 \n",
        "best loss =  0.0623534858842 \n",
        "last loss =  0.0623534858842\n",
        "learning_rate =  0.3\n",
        "sample_size 100\n",
        "\n",
        "iteration #"
       ]
      },
      {
       "output_type": "stream",
       "stream": "stdout",
       "text": [
        " 43  ntrees =  44 \n",
        "best loss =  0.0622057576326 \n",
        "last loss =  0.0622057576326\n",
        "learning_rate =  0.3\n",
        "sample_size 100\n",
        "\n",
        "iteration #"
       ]
      },
      {
       "output_type": "stream",
       "stream": "stdout",
       "text": [
        " 44  ntrees =  45 \n",
        "best loss =  0.0620642298605 \n",
        "last loss =  0.0620642298605\n",
        "learning_rate =  0.3\n",
        "sample_size 100\n",
        "\n",
        "iteration #"
       ]
      },
      {
       "output_type": "stream",
       "stream": "stdout",
       "text": [
        " 45  ntrees =  46 \n",
        "best loss =  0.0618880361141 \n",
        "last loss =  0.0618880361141\n",
        "learning_rate =  0.3\n",
        "sample_size 100\n",
        "\n",
        "iteration #"
       ]
      },
      {
       "output_type": "stream",
       "stream": "stdout",
       "text": [
        " 46  ntrees =  47 \n",
        "best loss =  0.0617382548545 \n",
        "last loss =  0.0617382548545\n",
        "learning_rate =  0.3\n",
        "sample_size 100\n",
        "\n",
        "iteration #"
       ]
      },
      {
       "output_type": "stream",
       "stream": "stdout",
       "text": [
        " 47  ntrees =  48 \n",
        "best loss =  0.061592848222 \n",
        "last loss =  0.061592848222\n",
        "learning_rate =  0.3\n",
        "sample_size 100\n",
        "\n",
        "iteration #"
       ]
      },
      {
       "output_type": "stream",
       "stream": "stdout",
       "text": [
        " 48  ntrees =  49 \n",
        "best loss =  0.0614539725916 \n",
        "last loss =  0.0614539725916\n",
        "learning_rate =  0.3\n",
        "sample_size 100\n",
        "\n",
        "iteration #"
       ]
      },
      {
       "output_type": "stream",
       "stream": "stdout",
       "text": [
        " 49  ntrees =  50 \n",
        "best loss =  0.0613237906339 \n",
        "last loss =  0.0613237906339\n",
        "learning_rate =  0.3\n",
        "sample_size 100\n",
        "\n",
        "iteration #"
       ]
      },
      {
       "output_type": "stream",
       "stream": "stdout",
       "text": [
        " 50  ntrees =  51 \n",
        "best loss =  0.0611961083473 \n",
        "last loss =  0.0611961083473\n",
        "learning_rate =  0.3\n",
        "sample_size 100\n",
        "\n",
        "iteration #"
       ]
      },
      {
       "output_type": "stream",
       "stream": "stdout",
       "text": [
        " 51  ntrees =  52 \n",
        "best loss =  0.0610866747454 \n",
        "last loss =  0.0610866747454\n",
        "learning_rate =  0.3\n",
        "sample_size 100\n",
        "\n",
        "iteration #"
       ]
      },
      {
       "output_type": "stream",
       "stream": "stdout",
       "text": [
        " 52  ntrees =  53 \n",
        "best loss =  0.0609558155419 \n",
        "last loss =  0.0609558155419\n",
        "learning_rate =  0.3\n",
        "sample_size 100\n",
        "\n",
        "iteration #"
       ]
      },
      {
       "output_type": "stream",
       "stream": "stdout",
       "text": [
        " 53  ntrees =  54 \n",
        "best loss =  0.0608223797469 \n",
        "last loss =  0.0608223797469\n",
        "learning_rate =  0.3\n",
        "sample_size 100\n",
        "\n",
        "iteration #"
       ]
      },
      {
       "output_type": "stream",
       "stream": "stdout",
       "text": [
        " 54  ntrees =  55 \n",
        "best loss =  0.0606930560176 \n",
        "last loss =  0.0606930560176\n",
        "learning_rate =  0.3\n",
        "sample_size 100\n",
        "\n",
        "iteration #"
       ]
      },
      {
       "output_type": "stream",
       "stream": "stdout",
       "text": [
        " 55  ntrees =  56 \n",
        "best loss =  0.0605705060223 \n",
        "last loss =  0.0605705060223\n",
        "learning_rate =  0.3\n",
        "sample_size 100\n",
        "\n",
        "iteration #"
       ]
      },
      {
       "output_type": "stream",
       "stream": "stdout",
       "text": [
        " 56  ntrees =  57 \n",
        "best loss =  0.0604104465339 \n",
        "last loss =  0.0604104465339\n",
        "learning_rate =  0.3\n",
        "sample_size 100\n",
        "\n",
        "iteration #"
       ]
      },
      {
       "output_type": "stream",
       "stream": "stdout",
       "text": [
        " 57  ntrees =  58 \n",
        "best loss =  0.0602602734517 \n",
        "last loss =  0.0602602734517\n",
        "learning_rate =  0.3\n",
        "sample_size 100\n",
        "\n",
        "iteration #"
       ]
      },
      {
       "output_type": "stream",
       "stream": "stdout",
       "text": [
        " 58  ntrees =  59 \n",
        "best loss =  0.0601363449269 \n",
        "last loss =  0.0601363449269\n",
        "learning_rate =  0.3\n",
        "sample_size 100\n",
        "\n",
        "iteration #"
       ]
      },
      {
       "output_type": "stream",
       "stream": "stdout",
       "text": [
        " 59  ntrees =  60 \n",
        "best loss =  0.059990941593 \n",
        "last loss =  0.059990941593\n",
        "learning_rate =  0.3\n",
        "sample_size 100\n",
        "\n",
        "iteration #"
       ]
      },
      {
       "output_type": "stream",
       "stream": "stdout",
       "text": [
        " 60  ntrees =  61 \n",
        "best loss =  0.0598744457422 \n",
        "last loss =  0.0598744457422\n",
        "learning_rate =  0.3\n",
        "sample_size 100\n",
        "\n",
        "iteration #"
       ]
      },
      {
       "output_type": "stream",
       "stream": "stdout",
       "text": [
        " 61  ntrees =  62 \n",
        "best loss =  0.059747607582 \n",
        "last loss =  0.059747607582\n",
        "learning_rate =  0.3\n",
        "sample_size 100\n",
        "\n",
        "iteration #"
       ]
      },
      {
       "output_type": "stream",
       "stream": "stdout",
       "text": [
        " 62  ntrees =  63 \n",
        "best loss =  0.0596268841767 \n",
        "last loss =  0.0596268841767\n",
        "learning_rate =  0.3\n",
        "sample_size 100\n",
        "\n",
        "iteration #"
       ]
      },
      {
       "output_type": "stream",
       "stream": "stdout",
       "text": [
        " 63  ntrees =  64 \n",
        "best loss =  0.059499929466 \n",
        "last loss =  0.059499929466\n",
        "learning_rate =  0.3\n",
        "sample_size 100\n",
        "\n",
        "iteration #"
       ]
      },
      {
       "output_type": "stream",
       "stream": "stdout",
       "text": [
        " 64  ntrees =  65 \n",
        "best loss =  0.0593829108395 \n",
        "last loss =  0.0593829108395\n",
        "learning_rate =  0.3\n",
        "sample_size 100\n",
        "\n",
        "iteration #"
       ]
      },
      {
       "output_type": "stream",
       "stream": "stdout",
       "text": [
        " 65  ntrees =  66 \n",
        "best loss =  0.0592835933287 \n",
        "last loss =  0.0592835933287\n",
        "learning_rate =  0.3\n",
        "sample_size 100\n",
        "\n",
        "iteration #"
       ]
      },
      {
       "output_type": "stream",
       "stream": "stdout",
       "text": [
        " 66  ntrees =  67 \n",
        "best loss =  0.0591494616515 \n",
        "last loss =  0.0591494616515\n",
        "learning_rate =  0.3\n",
        "sample_size 100\n",
        "\n",
        "iteration #"
       ]
      },
      {
       "output_type": "stream",
       "stream": "stdout",
       "text": [
        " 67  ntrees =  68 \n",
        "best loss =  0.0590529220646 \n",
        "last loss =  0.0590529220646\n",
        "learning_rate =  0.3\n",
        "sample_size 100\n",
        "\n",
        "iteration #"
       ]
      },
      {
       "output_type": "stream",
       "stream": "stdout",
       "text": [
        " 68  ntrees =  69 \n",
        "best loss =  0.0589390978882 \n",
        "last loss =  0.0589390978882\n",
        "learning_rate =  0.3\n",
        "sample_size 100\n",
        "\n",
        "iteration #"
       ]
      },
      {
       "output_type": "stream",
       "stream": "stdout",
       "text": [
        " 69  ntrees =  70 \n",
        "best loss =  0.0588241983713 \n",
        "last loss =  0.0588241983713\n",
        "learning_rate =  0.3\n",
        "sample_size 100\n",
        "\n",
        "iteration #"
       ]
      },
      {
       "output_type": "stream",
       "stream": "stdout",
       "text": [
        " 70  ntrees =  71 \n",
        "best loss =  0.058724005378 \n",
        "last loss =  0.058724005378\n",
        "learning_rate =  0.3\n",
        "sample_size 100\n",
        "\n",
        "iteration #"
       ]
      },
      {
       "output_type": "stream",
       "stream": "stdout",
       "text": [
        " 71  ntrees =  72 \n",
        "best loss =  0.0586037336866 \n",
        "last loss =  0.0586037336866\n",
        "learning_rate =  0.3\n",
        "sample_size 100\n",
        "\n",
        "iteration #"
       ]
      },
      {
       "output_type": "stream",
       "stream": "stdout",
       "text": [
        " 72  ntrees =  73 \n",
        "best loss =  0.0584870157336 \n",
        "last loss =  0.0584870157336\n",
        "learning_rate =  0.3\n",
        "sample_size 100\n",
        "\n",
        "iteration #"
       ]
      },
      {
       "output_type": "stream",
       "stream": "stdout",
       "text": [
        " 73  ntrees =  74 \n",
        "best loss =  0.0583921924352 \n",
        "last loss =  0.0583921924352\n",
        "learning_rate =  0.3\n",
        "sample_size 100\n",
        "\n",
        "iteration #"
       ]
      },
      {
       "output_type": "stream",
       "stream": "stdout",
       "text": [
        " 74  ntrees =  75 \n",
        "best loss =  0.058278407191 \n",
        "last loss =  0.058278407191\n",
        "learning_rate =  0.3\n",
        "sample_size 100\n",
        "\n",
        "iteration #"
       ]
      },
      {
       "output_type": "stream",
       "stream": "stdout",
       "text": [
        " 75  ntrees =  76 \n",
        "best loss =  0.0581537606833 \n",
        "last loss =  0.0581537606833\n",
        "learning_rate =  0.3\n",
        "sample_size 100\n",
        "\n",
        "iteration #"
       ]
      },
      {
       "output_type": "stream",
       "stream": "stdout",
       "text": [
        " 76  ntrees =  77 \n",
        "best loss =  0.058010688638 \n",
        "last loss =  0.058010688638\n",
        "learning_rate =  0.3\n",
        "sample_size 100\n",
        "\n",
        "iteration #"
       ]
      },
      {
       "output_type": "stream",
       "stream": "stdout",
       "text": [
        " 77  ntrees =  78 \n",
        "best loss =  0.0578763031638 \n",
        "last loss =  0.0578763031638\n",
        "learning_rate =  0.3\n",
        "sample_size 100\n",
        "\n",
        "iteration #"
       ]
      },
      {
       "output_type": "stream",
       "stream": "stdout",
       "text": [
        " 78  ntrees =  79 \n",
        "best loss =  0.0577713142542 \n",
        "last loss =  0.0577713142542\n",
        "learning_rate =  0.3\n",
        "sample_size 100\n",
        "\n",
        "iteration #"
       ]
      },
      {
       "output_type": "stream",
       "stream": "stdout",
       "text": [
        " 79  ntrees =  80 \n",
        "best loss =  0.0576538348398 \n",
        "last loss =  0.0576538348398\n",
        "learning_rate =  0.3\n",
        "sample_size 100\n",
        "\n",
        "iteration #"
       ]
      },
      {
       "output_type": "stream",
       "stream": "stdout",
       "text": [
        " 80  ntrees =  81 \n",
        "best loss =  0.0575482858602 \n",
        "last loss =  0.0575482858602\n",
        "learning_rate =  0.3\n",
        "sample_size 100\n",
        "\n",
        "iteration #"
       ]
      },
      {
       "output_type": "stream",
       "stream": "stdout",
       "text": [
        " 81  ntrees =  82 \n",
        "best loss =  0.0574411172065 \n",
        "last loss =  0.0574411172065\n",
        "learning_rate =  0.3\n",
        "sample_size 100\n",
        "\n",
        "iteration #"
       ]
      },
      {
       "output_type": "stream",
       "stream": "stdout",
       "text": [
        " 82  ntrees =  83 \n",
        "best loss =  0.057343165916 \n",
        "last loss =  0.057343165916\n",
        "learning_rate =  0.3\n",
        "sample_size 100\n",
        "\n",
        "iteration #"
       ]
      },
      {
       "output_type": "stream",
       "stream": "stdout",
       "text": [
        " 83  ntrees =  84 \n",
        "best loss =  0.0572429691596 \n",
        "last loss =  0.0572429691596\n",
        "learning_rate =  0.3\n",
        "sample_size 100\n",
        "\n",
        "iteration #"
       ]
      },
      {
       "output_type": "stream",
       "stream": "stdout",
       "text": [
        " 84  ntrees =  85 \n",
        "best loss =  0.0571491894636 \n",
        "last loss =  0.0571491894636\n",
        "learning_rate =  0.3\n",
        "sample_size 100\n",
        "\n",
        "iteration #"
       ]
      },
      {
       "output_type": "stream",
       "stream": "stdout",
       "text": [
        " 85  ntrees =  86 \n",
        "best loss =  0.0570438239075 \n",
        "last loss =  0.0570438239075\n",
        "learning_rate =  0.3\n",
        "sample_size 100\n",
        "\n",
        "iteration #"
       ]
      },
      {
       "output_type": "stream",
       "stream": "stdout",
       "text": [
        " 86  ntrees =  87 \n",
        "best loss =  0.0569184059162 \n",
        "last loss =  0.0569184059162\n",
        "learning_rate =  0.3\n",
        "sample_size 100\n",
        "\n",
        "iteration #"
       ]
      },
      {
       "output_type": "stream",
       "stream": "stdout",
       "text": [
        " 87  ntrees =  88 \n",
        "best loss =  0.0568240058895 \n",
        "last loss =  0.0568240058895\n",
        "learning_rate =  0.3\n",
        "sample_size 100\n",
        "\n",
        "iteration #"
       ]
      },
      {
       "output_type": "stream",
       "stream": "stdout",
       "text": [
        " 88  ntrees =  89 \n",
        "best loss =  0.0567403522633 \n",
        "last loss =  0.0567403522633\n",
        "learning_rate =  0.3\n",
        "sample_size 100\n",
        "\n",
        "iteration #"
       ]
      },
      {
       "output_type": "stream",
       "stream": "stdout",
       "text": [
        " 89  ntrees =  90 \n",
        "best loss =  0.056643027392 \n",
        "last loss =  0.056643027392\n",
        "learning_rate =  0.3\n",
        "sample_size 100\n",
        "\n",
        "iteration #"
       ]
      },
      {
       "output_type": "stream",
       "stream": "stdout",
       "text": [
        " 90  ntrees =  91 \n",
        "best loss =  0.0564993844021 \n",
        "last loss =  0.0564993844021\n",
        "learning_rate =  0.3\n",
        "sample_size 100\n",
        "\n",
        "iteration #"
       ]
      },
      {
       "output_type": "stream",
       "stream": "stdout",
       "text": [
        " 91  ntrees =  92 \n",
        "best loss =  0.0563784586688 \n",
        "last loss =  0.0563784586688\n",
        "learning_rate =  0.3\n",
        "sample_size 100\n",
        "\n",
        "iteration #"
       ]
      },
      {
       "output_type": "stream",
       "stream": "stdout",
       "text": [
        " 92  ntrees =  93 \n",
        "best loss =  0.0562619078183 \n",
        "last loss =  0.0562619078183\n",
        "learning_rate =  0.3\n",
        "sample_size 100\n",
        "\n",
        "iteration #"
       ]
      },
      {
       "output_type": "stream",
       "stream": "stdout",
       "text": [
        " 93  ntrees =  94 \n",
        "best loss =  0.0561574645216 \n",
        "last loss =  0.0561574645216\n",
        "learning_rate =  0.3\n",
        "sample_size 100\n",
        "\n",
        "iteration #"
       ]
      },
      {
       "output_type": "stream",
       "stream": "stdout",
       "text": [
        " 94  ntrees =  95 \n",
        "best loss =  0.056050373706 \n",
        "last loss =  0.056050373706\n",
        "learning_rate =  0.3\n",
        "sample_size 100\n",
        "\n",
        "iteration #"
       ]
      },
      {
       "output_type": "stream",
       "stream": "stdout",
       "text": [
        " 95  ntrees =  96 \n",
        "best loss =  0.0559542615895 \n",
        "last loss =  0.0559542615895\n",
        "learning_rate =  0.3\n",
        "sample_size 100\n",
        "\n",
        "iteration #"
       ]
      },
      {
       "output_type": "stream",
       "stream": "stdout",
       "text": [
        " 96  ntrees =  97 \n",
        "best loss =  0.0558525050249 \n",
        "last loss =  0.0558525050249\n",
        "learning_rate =  0.3\n",
        "sample_size 100\n",
        "\n",
        "iteration #"
       ]
      },
      {
       "output_type": "stream",
       "stream": "stdout",
       "text": [
        " 97  ntrees =  98 \n",
        "best loss =  0.0557534237385 \n",
        "last loss =  0.0557534237385\n",
        "learning_rate =  0.3\n",
        "sample_size 100\n",
        "\n",
        "iteration #"
       ]
      },
      {
       "output_type": "stream",
       "stream": "stdout",
       "text": [
        " 98  ntrees =  99 \n",
        "best loss =  0.055650931493 \n",
        "last loss =  0.055650931493\n",
        "learning_rate =  0.3\n",
        "sample_size 100\n",
        "\n",
        "iteration #"
       ]
      },
      {
       "output_type": "stream",
       "stream": "stdout",
       "text": [
        " 99  ntrees =  100 \n",
        "best loss =  0.0555546513983 \n",
        "last loss =  0.0555546513983\n",
        "learning_rate =  0.3\n",
        "sample_size 100\n",
        "Wall time: 8min\n"
       ]
      }
     ],
     "prompt_number": 34
    },
    {
     "cell_type": "code",
     "collapsed": false,
     "input": [
      "def predict_splitted(factory,criteria,trees):\n",
      "    factories, indices =  split_upper(factory,criteria,True)\n",
      "    y_pred = np.zeros(factory.n_events)\n",
      "    for leaf in factories.keys():\n",
      "        y_pred[indices[leaf]] = factories[leaf].predict(trees[leaf])\n",
      "    return y_pred"
     ],
     "language": "python",
     "metadata": {},
     "outputs": [],
     "prompt_number": 35
    },
    {
     "cell_type": "code",
     "collapsed": false,
     "input": [
      "y_pred_splitted = predict_splitted(testFactory,criteria[:2],trees_splitted)"
     ],
     "language": "python",
     "metadata": {},
     "outputs": [],
     "prompt_number": 36
    },
    {
     "cell_type": "code",
     "collapsed": false,
     "input": [
      "_= joblib.dump([criteria,trees_splitted],\"splitted 100 trees\")"
     ],
     "language": "python",
     "metadata": {},
     "outputs": [],
     "prompt_number": 37
    },
    {
     "cell_type": "code",
     "collapsed": false,
     "input": [
      "w_test = testFactory.weights\n",
      "Yts = testFactory.labels\n",
      "print 'spltd\\t',metrics.roc_auc_score(Yts,y_pred_splitted,sample_weight=w_test)\n",
      "print 'greedy\\t',metrics.roc_auc_score(Yts,y_pred_greedy,sample_weight=w_test)\n",
      "print 'stupid\\t',metrics.roc_auc_score(Yts,y_pred_stupid,sample_weight=w_test)\n",
      "print 'full\\t',metrics.roc_auc_score(Yts,y_pred_full,sample_weight=w_test)\n",
      "print \"well...\"\n"
     ],
     "language": "python",
     "metadata": {},
     "outputs": [
      {
       "output_type": "stream",
       "stream": "stdout",
       "text": [
        "spltd\t0.934111183705"
       ]
      },
      {
       "output_type": "stream",
       "stream": "stdout",
       "text": [
        "\n",
        "greedy\t0.933887995829"
       ]
      },
      {
       "output_type": "stream",
       "stream": "stdout",
       "text": [
        "\n",
        "stupid\t0.916904744001"
       ]
      },
      {
       "output_type": "stream",
       "stream": "stdout",
       "text": [
        "\n",
        "full\t0.935834322801"
       ]
      },
      {
       "output_type": "stream",
       "stream": "stdout",
       "text": [
        "\n",
        "well...\n"
       ]
      }
     ],
     "prompt_number": 38
    },
    {
     "cell_type": "markdown",
     "metadata": {},
     "source": [
      "#learning curves"
     ]
    },
    {
     "cell_type": "code",
     "collapsed": false,
     "input": [
      "#I know it could have been done without quadratic complexity over trees, but...\n",
      "#btw equalizing 1-0 weights for the training set is not optimal in terms of AUC, but it is close to being so.\n",
      "n_trees =100\n",
      "auc_stupid_lcurve = [(0.5,)]\n",
      "auc_greedy_lcurve = [(0.5,)]\n",
      "auc_splitted_lcurve = [(0.5,)]\n",
      "for i in range(1,n_trees):\n",
      "    #stpd\n",
      "    pred = testFactory.predict(trees[:i])\n",
      "    auc = metrics.roc_auc_score(testFactory.labels,pred,sample_weight=testFactory.weights),\n",
      "    auc_stupid_lcurve.append( auc)    \n",
      "    #grdy\n",
      "    pred = testFactory.predict(res_greedy[:i])\n",
      "    auc = metrics.roc_auc_score(testFactory.labels,pred,sample_weight=testFactory.weights),\n",
      "    auc_greedy_lcurve.append( auc)\n",
      "    #split\n",
      "    trees_i = {code:trees_splitted[code][:i] for code in trees_splitted}\n",
      "    pred = predict_splitted(testFactory,criteria[:2],trees_i)\n",
      "\n",
      "    auc = metrics.roc_auc_score(testFactory.labels,pred,sample_weight=testFactory.weights),\n",
      "    auc_splitted_lcurve.append( auc)"
     ],
     "language": "python",
     "metadata": {},
     "outputs": [],
     "prompt_number": 56
    },
    {
     "cell_type": "code",
     "collapsed": false,
     "input": [
      "p = range(1,n_trees)\n",
      "plt.figure(figsize = [14,14])\n",
      "plt.plot(p,[0.935834322801 for i in range(1,n_trees)],label = \"full\")\n",
      "plt.plot(p,auc_stupid_lcurve[1:n_trees],label = \"stupid\")\n",
      "plt.plot(p,auc_greedy_lcurve[1:n_trees],label = \"greedy\")\n",
      "plt.plot(p,auc_splitted_lcurve[1:n_trees],label = \"splitted\")\n",
      "plt.title('learning curves')\n",
      "plt.legend(loc=\"lower right\")\n"
     ],
     "language": "python",
     "metadata": {},
     "outputs": [
      {
       "metadata": {},
       "output_type": "pyout",
       "prompt_number": 57,
       "text": [
        "<matplotlib.legend.Legend at 0x1af914e0>"
       ]
      },
      {
       "metadata": {},
       "output_type": "display_data",
       "png": "[encoded data removed]",
       "text": [
        "<matplotlib.figure.Figure at 0x1c5ec278>"
       ]
      }
     ],
     "prompt_number": 57
    },
    {
     "cell_type": "markdown",
     "metadata": {},
     "source": [
      "#ROC at 10"
     ]
    },
    {
     "cell_type": "code",
     "collapsed": false,
     "input": [
      "y_pred_greedy_10 = testFactory.predict(res_greedy[:10])\n",
      "y_pred_stupid_10 = testFactory.predict(trees[:10])\n",
      "y_pred_splitted_10 =  predict_splitted(testFactory,criteria[:2], {code:trees_splitted[code][:10] for code in trees_splitted})"
     ],
     "language": "python",
     "metadata": {},
     "outputs": [],
     "prompt_number": 41
    },
    {
     "cell_type": "code",
     "collapsed": false,
     "input": [
      "# Plot ROC curve\n",
      "plt.figure(figsize = [14,14])\n",
      "fpr, tpr, _ = metrics.roc_curve(Yts, y_pred_full,sample_weight=testFactory.weights)\n",
      "plt.plot(fpr, tpr,\n",
      "         label='Full boost classi 10k trees')\n",
      "fpr, tpr, _ = metrics.roc_curve(Yts, y_pred_stupid_10,sample_weight=testFactory.weights)\n",
      "plt.plot(fpr, tpr,\n",
      "         label='first N trees classi')\n",
      "fpr, tpr, _ = metrics.roc_curve(Yts, y_pred_greedy_10,sample_weight=testFactory.weights)\n",
      "plt.plot(fpr, tpr,\n",
      "         label='Greedy prune classi')\n",
      "fpr, tpr, _ = metrics.roc_curve(Yts, y_pred_splitted_10,sample_weight=testFactory.weights)\n",
      "plt.plot(fpr, tpr,\n",
      "         label='4-leaf split classi')\n",
      "\n",
      "\n",
      "plt.plot([0, 1], [0, 1], 'k--')\n",
      "plt.xlim([0.0, 1.0])\n",
      "plt.ylim([0.0, 1.05])\n",
      "plt.xlabel('False Positive Rate')\n",
      "plt.ylabel('True Positive Rate')\n",
      "plt.title('ROC curves at 10 trees')\n",
      "plt.legend(loc=\"lower right\")\n",
      "plt.show()"
     ],
     "language": "python",
     "metadata": {},
     "outputs": [
      {
       "metadata": {},
       "output_type": "display_data",
       "png": "[encoded data removed]",
       "text": [
        "<matplotlib.figure.Figure at 0x2aa14160>"
       ]
      }
     ],
     "prompt_number": 51
    },
    {
     "cell_type": "markdown",
     "metadata": {},
     "source": [
      "#ROC at 30"
     ]
    },
    {
     "cell_type": "code",
     "collapsed": false,
     "input": [
      "y_pred_greedy_30 = testFactory.predict(res_greedy[:30])\n",
      "y_pred_stupid_30 = testFactory.predict(trees[:30])\n",
      "y_pred_splitted_30 =  predict_splitted(testFactory,criteria[:2], {code:trees_splitted[code][:30] for code in trees_splitted})"
     ],
     "language": "python",
     "metadata": {},
     "outputs": [],
     "prompt_number": 43
    },
    {
     "cell_type": "code",
     "collapsed": false,
     "input": [
      "# Plot ROC curve\n",
      "plt.figure(figsize = [14,14])\n",
      "fpr, tpr, _ = metrics.roc_curve(Yts, y_pred_full,sample_weight=testFactory.weights)\n",
      "plt.plot(fpr, tpr,\n",
      "         label='Full boost classi 10k trees')\n",
      "fpr, tpr, _ = metrics.roc_curve(Yts, y_pred_stupid_30,sample_weight=testFactory.weights)\n",
      "plt.plot(fpr, tpr,\n",
      "         label='first N trees classi')\n",
      "fpr, tpr, _ = metrics.roc_curve(Yts, y_pred_greedy_30,sample_weight=testFactory.weights)\n",
      "plt.plot(fpr, tpr,\n",
      "         label='Greedy prune classi')\n",
      "fpr, tpr, _ = metrics.roc_curve(Yts, y_pred_splitted_30,sample_weight=testFactory.weights)\n",
      "plt.plot(fpr, tpr,\n",
      "         label='4-leaf split classi')\n",
      "\n",
      "\n",
      "plt.plot([0, 1], [0, 1], 'k--')\n",
      "plt.xlim([0.0, 1.0])\n",
      "plt.ylim([0.0, 1.05])\n",
      "plt.xlabel('False Positive Rate')\n",
      "plt.ylabel('True Positive Rate')\n",
      "plt.title('ROC curves at 10 trees')\n",
      "plt.legend(loc=\"lower right\")\n",
      "plt.show()"
     ],
     "language": "python",
     "metadata": {},
     "outputs": [
      {
       "metadata": {},
       "output_type": "display_data",
       "png": "[encoded data removed]",
       "text": [
        "<matplotlib.figure.Figure at 0x1b179208>"
       ]
      }
     ],
     "prompt_number": 52
    },
    {
     "cell_type": "markdown",
     "metadata": {},
     "source": [
      "#ROC at 100"
     ]
    },
    {
     "cell_type": "code",
     "collapsed": false,
     "input": [
      "y_pred_greedy_100 = testFactory.predict(res_greedy[:100])\n",
      "y_pred_stupid_100 = testFactory.predict(trees[:100])\n",
      "y_pred_splitted_100 =  predict_splitted(testFactory,criteria[:2], {code:trees_splitted[code][:100] for code in trees_splitted})"
     ],
     "language": "python",
     "metadata": {},
     "outputs": [],
     "prompt_number": 49
    },
    {
     "cell_type": "code",
     "collapsed": false,
     "input": [
      "# Plot ROC curve\n",
      "plt.figure(figsize = [14,14])\n",
      "fpr, tpr, _ = metrics.roc_curve(Yts, y_pred_full,sample_weight=testFactory.weights)\n",
      "plt.plot(fpr, tpr,\n",
      "         label='Full boost classi 10k trees')\n",
      "fpr, tpr, _ = metrics.roc_curve(Yts, y_pred_stupid_100,sample_weight=testFactory.weights)\n",
      "plt.plot(fpr, tpr,\n",
      "         label='first N trees classi')\n",
      "fpr, tpr, _ = metrics.roc_curve(Yts, y_pred_greedy_100,sample_weight=testFactory.weights)\n",
      "plt.plot(fpr, tpr,\n",
      "         label='Greedy prune classi')\n",
      "fpr, tpr, _ = metrics.roc_curve(Yts, y_pred_splitted_100,sample_weight=testFactory.weights)\n",
      "plt.plot(fpr, tpr,\n",
      "         label='4-leaf split classi')\n",
      "\n",
      "\n",
      "plt.plot([0, 1], [0, 1], 'k--')\n",
      "plt.xlim([0.0, 1.0])\n",
      "plt.ylim([0.0, 1.05])\n",
      "plt.xlabel('False Positive Rate')\n",
      "plt.ylabel('True Positive Rate')\n",
      "plt.title('ROC curves at 100 trees')\n",
      "plt.legend(loc=\"lower right\")\n",
      "plt.show()"
     ],
     "language": "python",
     "metadata": {},
     "outputs": [
      {
       "metadata": {},
       "output_type": "display_data",
       "png": "[encoded data removed]",
       "text": [
        "<matplotlib.figure.Figure at 0x17b5a518>"
       ]
      }
     ],
     "prompt_number": 50
    },
    {
     "cell_type": "markdown",
     "metadata": {},
     "source": [
      "#ROC at 300 (WARNUNG! i aint updated)"
     ]
    },
    {
     "cell_type": "code",
     "collapsed": false,
     "input": [
      "y_pred_greedy_300 = testFactory.predict(res_greedy[:300])\n",
      "y_pred_stupid_300 = testFactory.predict(trees[:300])\n",
      "y_pred_splitted_300 =  predict_splitted(testFactory,criteria[:2], {code:trees_splitted[code][:300] for code in trees_splitted})"
     ],
     "language": "python",
     "metadata": {},
     "outputs": [],
     "prompt_number": 47
    },
    {
     "cell_type": "code",
     "collapsed": false,
     "input": [
      "# Plot ROC curve\n",
      "plt.figure()\n",
      "fpr, tpr, _ = metrics.roc_curve(Yts, y_pred_full,sample_weight=testFactory.weights)\n",
      "plt.plot(fpr, tpr,\n",
      "         label='Full boost classi 10k trees')\n",
      "fpr, tpr, _ = metrics.roc_curve(Yts, y_pred_stupid_300,sample_weight=testFactory.weights)\n",
      "plt.plot(fpr, tpr,\n",
      "         label='first N trees classi')\n",
      "fpr, tpr, _ = metrics.roc_curve(Yts, y_pred_greedy_300,sample_weight=testFactory.weights)\n",
      "plt.plot(fpr, tpr,\n",
      "         label='Greedy prune classi')\n",
      "fpr, tpr, _ = metrics.roc_curve(Yts, y_pred_splitted_300,sample_weight=testFactory.weights)\n",
      "plt.plot(fpr, tpr,\n",
      "         label='4-leaf split classi')\n",
      "\n",
      "\n",
      "plt.plot([0, 1], [0, 1], 'k--')\n",
      "plt.xlim([0.0, 1.0])\n",
      "plt.ylim([0.0, 1.05])\n",
      "plt.xlabel('False Positive Rate')\n",
      "plt.ylabel('True Positive Rate')\n",
      "plt.title('ROC curves at 300 trees')\n",
      "plt.legend(loc=\"lower right\")\n",
      "plt.show()"
     ],
     "language": "python",
     "metadata": {},
     "outputs": [
      {
       "metadata": {},
       "output_type": "display_data",
       "png": "[encoded data removed]",
       "text": [
        "<matplotlib.figure.Figure at 0x19950b38>"
       ]
      }
     ],
     "prompt_number": 71
    },
    {
     "cell_type": "markdown",
     "metadata": {},
     "source": [
      "#kinda..."
     ]
    }
   ],
   "metadata": {}
  }
 ]
}