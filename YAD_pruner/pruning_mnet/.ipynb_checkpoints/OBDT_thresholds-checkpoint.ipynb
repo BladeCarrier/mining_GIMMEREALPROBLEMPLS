{
 "cells": [
  {
   "cell_type": "code",
   "execution_count": null,
   "metadata": {
    "collapsed": true
   },
   "outputs": [],
   "source": [
    "# I explore the cuts of the features"
   ]
  },
  {
   "cell_type": "code",
   "execution_count": 1,
   "metadata": {
    "collapsed": false
   },
   "outputs": [],
   "source": [
    "%matplotlib inline\n",
    "#так тоже можно решить проблему инлайла плотов\n"
   ]
  },
  {
   "cell_type": "code",
   "execution_count": 2,
   "metadata": {
    "collapsed": true
   },
   "outputs": [],
   "source": [
    "import _matrixnetapplier as mnet\n",
    "import numpy as np\n",
    "import matplotlib.pyplot as plt\n",
    "import matplotlib.patches as mpatches"
   ]
  },
  {
   "cell_type": "code",
   "execution_count": 3,
   "metadata": {
    "collapsed": false
   },
   "outputs": [],
   "source": [
    "#extract ODT\n",
    "fstream = open('formula.mx','rb')\n",
    "classi = mnet.MatrixnetClassifier(fstream)\n",
    "fstream.close()"
   ]
  },
  {
   "cell_type": "code",
   "execution_count": 4,
   "metadata": {
    "collapsed": false
   },
   "outputs": [],
   "source": [
    "#Get all the trees from .mx\n",
    "def get_trees(classi):\n",
    "    itr = classi.iterate_trees().next()\n",
    "    return itr, [tree for tree in itr[2]]"
   ]
  },
  {
   "cell_type": "code",
   "execution_count": 5,
   "metadata": {
    "collapsed": true
   },
   "outputs": [],
   "source": [
    "#load training set\n",
    "def load_data(path):\n",
    "    print 'Loading training data.'\n",
    "    data = np.loadtxt(path, \\\n",
    "            delimiter=',', \\\n",
    "            skiprows=1, \\\n",
    "            converters={32: lambda x:int(x=='s'.encode('utf-8'))})\n",
    "\n",
    "    X = data[:,1:31]\n",
    "    Y = data[:,32]\n",
    "    W = data[:,31]\n",
    "    return X,Y,W\n"
   ]
  },
  {
   "cell_type": "code",
   "execution_count": 6,
   "metadata": {
    "collapsed": false
   },
   "outputs": [
    {
     "name": "stdout",
     "output_type": "stream",
     "text": [
      "Loading training data.\n"
     ]
    }
   ],
   "source": [
    "itr,trees = get_trees(classi)\n",
    "n_features = len(classi.features)\n",
    "X,Y,W = load_data(\"../data/training.csv\")"
   ]
  },
  {
   "cell_type": "code",
   "execution_count": 26,
   "metadata": {
    "collapsed": false
   },
   "outputs": [
    {
     "data": {
      "text/plain": [
       "(250000, 30)"
      ]
     },
     "execution_count": 26,
     "metadata": {},
     "output_type": "execute_result"
    }
   ],
   "source": []
  },
  {
   "cell_type": "code",
   "execution_count": 7,
   "metadata": {
    "collapsed": false
   },
   "outputs": [],
   "source": [
    "#cut histogram visualization\n",
    "cuts = lambda feature: reduce(np.append,[tree[1][tree[0] == feature] for tree in  trees])\n",
    "def hist(feature,bins = 100):\n",
    "    plt.legend(handles = [mpatches.Patch(label=\"feature\" + str(feature))])\n",
    "    plt.hist(cuts(feature),bins = bins)\n",
    "    plt.show();"
   ]
  },
  {
   "cell_type": "code",
   "execution_count": 36,
   "metadata": {
    "collapsed": false
   },
   "outputs": [],
   "source": [
    "def trees_loss(trees,tchange_feature,tchange_range,tchange_newvalue,X,Y,W):\n",
    "    \"\"\"\n",
    "    trees: trees as is from mnet classifier\n",
    "    tchange_feature: id of threshold that have changed value\n",
    "    tchange_range: [min threshold,max threshold] to be changed\n",
    "    tchange_newvalue: the new threshold value\n",
    "    events: pd dataframe or ndarray where each row is an event and each column - a feature\n",
    "    \"\"\"\n",
    "    \n",
    "    #which data pieces are affected:\n",
    "    X_affected = X[tchange_range[0]<X[:,tchange_feature]]\n",
    "    X_affected = X_affected[X_affected[:,tchange_feature]<tchange_range[1]]\n",
    "    \n",
    "    \n",
    "def trees_classify(trees,X,bias = 0.):\n",
    "    n_samples = len(X)\n",
    "    n_extended64 = (n_samples + 7) // 8\n",
    "    n_extended = n_extended64 * 8\n",
    "\n",
    "    features = np.zeros([n_extended, X.shape[1]], dtype='float32', order='F')\n",
    "    features[:n_samples, :] = X\n",
    "\n",
    "    res = np.zeros(len(X), dtype=float) + bias\n",
    "    for tree_features, tree_cuts, leaf_values in trees:\n",
    "        leaf_indices = np.zeros(n_extended64, dtype='int64')\n",
    "        for tree_level, (feature, cut) in enumerate(zip(tree_features, tree_cuts)):\n",
    "            leaf_indices |= (features[:, feature] > cut).view('int64') << tree_level\n",
    "            res+= leaf_values[leaf_indices.view('int8')[:n_samples]]\n",
    "            print leaf_values[leaf_indices.view('int8')[:n_samples]]\n",
    "    return res\n"
   ]
  },
  {
   "cell_type": "code",
   "execution_count": 37,
   "metadata": {
    "collapsed": false
   },
   "outputs": [
    {
     "name": "stdout",
     "output_type": "stream",
     "text": [
      "[ 0.  0.]\n",
      "[ 0.00216863  0.00216863]\n",
      "[ 0.00697585  0.00697585]\n",
      "[ 0.00697585  0.00697585]\n",
      "[-0.0120681 -0.0120681]\n",
      "[-0.0120681   0.00149099]\n",
      "[-0.00555348 -0.00555348]\n",
      "[ 0.00217837  0.00217837]\n",
      "[ 0.00687879  0.00687879]\n",
      "[ 0.00687879  0.00687879]\n",
      "[-0.01194147 -0.01194147]\n",
      "[-0.01194147  0.00144655]\n",
      "[ 0.  0.]\n",
      "[ 0.  0.]\n",
      "[ 0.  0.]\n",
      "[ 0.  0.]\n",
      "[ 0.04612836  0.        ]\n",
      "[-0.01035513  0.00695055]\n",
      "[-0.00404529 -0.00404529]\n",
      "[ 0.00400714  0.00400714]\n",
      "[ 0.  0.]\n",
      "[-0.01571597 -0.01571597]\n",
      "[-0.00266127 -0.00266127]\n",
      "[-0.00266127  0.01141543]\n",
      "[-0.00059102 -0.00059102]\n",
      "[ 0.00967898  0.00967898]\n",
      "[ 0.01839774  0.01839774]\n",
      "[ 0.00275024  0.00275024]\n",
      "[-0.01283871  0.00275024]\n",
      "[-0.00065321  0.0146044 ]\n",
      "[-0.00717673 -0.00717673]\n",
      "[ 0.  0.]\n",
      "[ 0.00385634  0.00385634]\n",
      "[-0.01468099 -0.01468099]\n",
      "[-0.00197763 -0.00197763]\n",
      "[-0.00197763  0.01233181]\n",
      "[ 0.  0.]\n",
      "[ 0.01847755  0.01847755]\n",
      "[ 0.01847755  0.01847755]\n",
      "[ 0.  0.]\n",
      "[ 0.00593385  0.00593385]\n",
      "[-0.01048699  0.00593385]\n",
      "[ 0.00120684  0.00120684]\n",
      "[ 0.0059893  0.0059893]\n",
      "[-0.01175735 -0.01175735]\n",
      "[-0.01175735 -0.01175735]\n",
      "[-0.01175735 -0.01175735]\n",
      "[-0.01175735  0.00179796]\n",
      "[ 0.00275135  0.00275135]\n",
      "[ 0.00378222  0.00378222]\n",
      "[ 0.00378222  0.00378222]\n",
      "[-0.01411526 -0.01411526]\n",
      "[-0.00129617 -0.00129617]\n",
      "[-0.00129617  0.01344552]\n",
      "[ 0.  0.]\n",
      "[ 0.  0.]\n",
      "[ 0.00681423  0.00681423]\n",
      "[ 0.00681423  0.00681423]\n",
      "[-0.01085477 -0.01085477]\n",
      "[-0.01085477  0.00197442]\n",
      "[-0.0339366   0.08096758]\n",
      "[-0.18011027 -2.0852348 ]\n"
     ]
    }
   ],
   "source": [
    "print trees_classify(trees[:10],X[:2],classi.bias)\n",
    "for treeclassi.apply_separately()[2]\n",
    "print classi.apply(X[:2])"
   ]
  },
  {
   "cell_type": "code",
   "execution_count": 32,
   "metadata": {
    "collapsed": false
   },
   "outputs": [
    {
     "data": {
      "text/plain": [
       "10000"
      ]
     },
     "execution_count": 32,
     "metadata": {},
     "output_type": "execute_result"
    }
   ],
   "source": []
  },
  {
   "cell_type": "code",
   "execution_count": 140,
   "metadata": {
    "collapsed": false
   },
   "outputs": [],
   "source": [
    "X_affected = X[tchange_range[0]<X[:,tchange_feature]]\n",
    "X_affected = X_affected[X_affected[:,tchange_feature]<tchange_range[1]]\n",
    "    \n",
    "trees_affected_raise = []\n",
    "trees_affected_fall = []\n",
    "tree = trees[0]#for tree in trees:\n",
    "\n",
    "#ODT nodes affected by this\n",
    "nodes_affected = np.where(tree[0] == tchange_feature)[0]\n",
    "nodes_affected = nodes_affected[np.where(tree[1][nodes_affected]<tchange_range[1])[0]]\n",
    "nodes_affected = nodes_affected[np.where(tree[1][nodes_affected]>tchange_range[0])[0]]\n",
    "\n",
    "basic_solution = tree_classify(tree,X)"
   ]
  },
  {
   "cell_type": "code",
   "execution_count": 143,
   "metadata": {
    "collapsed": false
   },
   "outputs": [
    {
     "data": {
      "text/plain": [
       "(array([  94514.,       0.,       0.,       0.,       0.,       0.,\n",
       "              0.,       0.,       0.,  155486.]),\n",
       " array([-0.00845677, -0.00761109, -0.00676542, -0.00591974, -0.00507406,\n",
       "        -0.00422839, -0.00338271, -0.00253703, -0.00169135, -0.00084568,  0.        ]),\n",
       " <a list of 10 Patch objects>)"
      ]
     },
     "execution_count": 143,
     "metadata": {},
     "output_type": "execute_result"
    },
    {
     "data": {
      "image/png": "[encoded data removed]",
      "text/plain": [
       "<matplotlib.figure.Figure at 0x7fc29cf11150>"
      ]
     },
     "metadata": {},
     "output_type": "display_data"
    }
   ],
   "source": []
  },
  {
   "cell_type": "code",
   "execution_count": 146,
   "metadata": {
    "collapsed": false
   },
   "outputs": [
    {
     "data": {
      "text/plain": [
       "250000"
      ]
     },
     "execution_count": 146,
     "metadata": {},
     "output_type": "execute_result"
    }
   ],
   "source": []
  },
  {
   "cell_type": "code",
   "execution_count": 85,
   "metadata": {
    "collapsed": false
   },
   "outputs": [],
   "source": [
    "tchange_range = [90,100]\n",
    "tchange_feature = 0\n",
    "tchange_newvalue = 95"
   ]
  }
 ],
 "metadata": {
  "kernelspec": {
   "display_name": "Python 2",
   "language": "python",
   "name": "python2"
  },
  "language_info": {
   "codemirror_mode": {
    "name": "ipython",
    "version": 2
   },
   "file_extension": ".py",
   "mimetype": "text/x-python",
   "name": "python",
   "nbconvert_exporter": "python",
   "pygments_lexer": "ipython2",
   "version": "2.7.9"
  }
 },
 "nbformat": 4,
 "nbformat_minor": 0
}
