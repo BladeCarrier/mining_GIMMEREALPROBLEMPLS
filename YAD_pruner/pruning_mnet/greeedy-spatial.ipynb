{
 "metadata": {
  "name": "",
  "signature": "sha256:b07382d8cc8f4f4dd5b31cb857679b40a37cd76924c55b4a0992a9277fe252ee"
 },
 "nbformat": 3,
 "nbformat_minor": 0,
 "worksheets": [
  {
   "cells": [
    {
     "cell_type": "code",
     "collapsed": false,
     "input": [
      "# I explore the cuts of the features\n",
      "%matplotlib inline\n",
      "#\u0442\u0430\u043a \u0442\u043e\u0436\u0435 \u043c\u043e\u0436\u043d\u043e \u0440\u0435\u0448\u0438\u0442\u044c \u043f\u0440\u043e\u0431\u043b\u0435\u043c\u0443 \u0438\u043d\u043b\u0430\u0439\u043b\u0430 \u043f\u043b\u043e\u0442\u043e\u0432\n",
      "import _matrixnetapplier as mnet\n",
      "import numpy as numpy\n",
      "np = numpy\n",
      "import matplotlib.pyplot as plt\n",
      "import matplotlib.patches as mpatches\n",
      "from sklearn import metrics"
     ],
     "language": "python",
     "metadata": {},
     "outputs": [],
     "prompt_number": 1
    },
    {
     "cell_type": "markdown",
     "metadata": {},
     "source": [
      "# Extracting the trained model"
     ]
    },
    {
     "cell_type": "code",
     "collapsed": false,
     "input": [
      "#extract ODT\n",
      "fstream = open('formula.mx','rb')\n",
      "classi = mnet.MatrixnetClassifier(fstream)\n",
      "fstream.close()"
     ],
     "language": "python",
     "metadata": {},
     "outputs": [],
     "prompt_number": 2
    },
    {
     "cell_type": "code",
     "collapsed": false,
     "input": [
      "#Get all the trees from .mx\n",
      "def get_trees(classi):\n",
      "    itr = classi.iterate_trees().next()\n",
      "    return itr, [tree for tree in itr[2]]"
     ],
     "language": "python",
     "metadata": {},
     "outputs": [],
     "prompt_number": 3
    },
    {
     "cell_type": "code",
     "collapsed": false,
     "input": [
      "itr,trees = get_trees(classi)\n",
      "n_features = len(classi.features)\n",
      "print itr"
     ],
     "language": "python",
     "metadata": {},
     "outputs": [
      {
       "output_type": "stream",
       "stream": "stdout",
       "text": [
        "(6, 10000, <generator object _iterate_over_trees_with_fixed_depth at 0x000000000ABC1708>)\n"
       ]
      }
     ],
     "prompt_number": 4
    },
    {
     "cell_type": "markdown",
     "metadata": {},
     "source": [
      "# Loading dataset"
     ]
    },
    {
     "cell_type": "code",
     "collapsed": false,
     "input": [
      "#load training set\n",
      "def load_data(path):\n",
      "    print 'Loading training data.'\n",
      "    data = np.loadtxt(path, \\\n",
      "            delimiter=',', \\\n",
      "            skiprows=1, \\\n",
      "            converters={32: lambda x:int(x=='s'.encode('utf-8'))})\n",
      "\n",
      "    X = data[:,1:31]\n",
      "    Y = data[:,32]\n",
      "    W = data[:,31]\n",
      "    return X,Y,W"
     ],
     "language": "python",
     "metadata": {},
     "outputs": [],
     "prompt_number": 5
    },
    {
     "cell_type": "code",
     "collapsed": false,
     "input": [
      "X,Y,W = load_data(\"../data/training.csv\")"
     ],
     "language": "python",
     "metadata": {},
     "outputs": [
      {
       "output_type": "stream",
       "stream": "stdout",
       "text": [
        "Loading training data.\n"
       ]
      }
     ],
     "prompt_number": 6
    },
    {
     "cell_type": "code",
     "collapsed": false,
     "input": [
      "from sklearn.cross_validation import train_test_split\n",
      "Xtr,Xts,Ytr,Yts,Wtr,Wts = train_test_split(X,Y,W, test_size = 0.2)"
     ],
     "language": "python",
     "metadata": {},
     "outputs": [],
     "prompt_number": 7
    },
    {
     "cell_type": "markdown",
     "metadata": {},
     "source": [
      "# greedy pruning for the whole data"
     ]
    },
    {
     "cell_type": "code",
     "collapsed": false,
     "input": [
      "#in the ideal world, i would have merged em with the top line imports, but luckily, i'm in real world\n",
      "import copy\n",
      "import sklearn.metrics as metrics\n",
      "import scipy as sp\n",
      "import random\n",
      "#and some of these...\n",
      "import math\n",
      "import pandas as pd\n",
      "from sklearn.externals import joblib\n",
      "steve = joblib\n",
      "from sklearn.cross_validation import *\n",
      "from sklearn.decomposition import *\n",
      "from sklearn.ensemble import *\n",
      "from sklearn.feature_selection import *\n",
      "from sklearn.grid_search import *\n",
      "from sklearn.linear_model import *\n",
      "from sklearn.metrics import *\n",
      "from sklearn.preprocessing import *\n",
      "from sklearn.pipeline import *\n",
      "from sklearn.svm import *\n",
      "from sklearn.tree import *\n",
      "from sklearn.ensemble.gradient_boosting import *\n",
      "from sklearn.utils import check_arrays\n",
      "from sklearn.ensemble._gradient_boosting import predict_stages\n",
      "import matplotlib.pyplot as plt"
     ],
     "language": "python",
     "metadata": {},
     "outputs": [],
     "prompt_number": 8
    },
    {
     "cell_type": "code",
     "collapsed": false,
     "input": [
      "#predict with the trees boost\n",
      "def predict(trees, X):\n",
      "    '''\n",
      "    make real-value predictions using sklearn gradient_boosting.predict_stages\n",
      "    '''\n",
      "    if len(trees) ==0:\n",
      "        return np.zeros(X.shape[0])\n",
      "    #i don't think that i can write as effectively with my time bounds. Copypaste\n",
      "    def apply_separately(events,bias = 0):\n",
      "        \"\"\"\n",
      "        :param events: numpy.array (or DataFrame) of shape [n_samples, n_features]\n",
      "        :return: each time yields numpy.array predictions of shape [n_samples]\n",
      "            which is output of a particular tree\n",
      "        \"\"\"\n",
      "        # result of first iteration\n",
      "        yield numpy.zeros(len(events), dtype=float) + bias\n",
      "\n",
      "        # extending the data so the number of events is divisible by 8\n",
      "        n_events = len(events)\n",
      "        n_extended64 = (n_events + 7) // 8\n",
      "        n_extended = n_extended64 * 8\n",
      "\n",
      "        # using Fortran order (surprisingly doesn't seem to influence speed much)\n",
      "        features = numpy.zeros([n_extended, events.shape[1]], dtype='float32', order='F')\n",
      "        features[:n_events, :] = events\n",
      "\n",
      "        tree_depth = len(trees[0][0])\n",
      "        nf_count = len(trees)\n",
      "        for tree_features, tree_cuts, leaf_values in trees:\n",
      "            leaf_indices = numpy.zeros(n_extended64, dtype='int64')\n",
      "            for tree_level, (feature, cut) in enumerate(zip(tree_features, tree_cuts)):\n",
      "                leaf_indices |= (features[:, feature] > cut).view('int64') << tree_level\n",
      "            yield leaf_values[leaf_indices.view('int8')[:n_events]]\n",
      "    \n",
      "    \n",
      "    events = X\n",
      "    result = numpy.zeros(len(events), dtype=float)\n",
      "    for stage_predictions in apply_separately(events):\n",
      "        result += stage_predictions\n",
      "    return result"
     ],
     "language": "python",
     "metadata": {},
     "outputs": [],
     "prompt_number": 9
    },
    {
     "cell_type": "code",
     "collapsed": false,
     "input": [
      "def logloss(actual, pred):\n",
      "    \"\"\"\n",
      "    i know it isn't\n",
      "    \"\"\"\n",
      "    return actual - sp.special.expit(pred.reshape(pred.shape[0]))"
     ],
     "language": "python",
     "metadata": {},
     "outputs": [],
     "prompt_number": 10
    },
    {
     "cell_type": "code",
     "collapsed": false,
     "input": [
      "def update_leaves(X,residual,tree,lrate):\n",
      "    '''\n",
      "    update leaf values via... placing the residual there...\n",
      "    '''\n",
      "    \n",
      "    events = X\n",
      "    tree_features, tree_cuts, leaf_values = tree\n",
      "    tree_depth = len(tree[0])\n",
      "    n_events = len(events)\n",
      "    n_extended64 = (n_events + 7) // 8\n",
      "    n_extended = n_extended64 * 8\n",
      "    \n",
      "    # using Fortran order (surprisingly doesn't seem to influence speed much)\n",
      "    features = numpy.zeros([n_extended, events.shape[1]], dtype='float32', order='F')\n",
      "    features[:n_events, :] = events\n",
      "    \n",
      "    leaf_indices = numpy.zeros(n_extended64, dtype='int64')\n",
      "    for tree_level, (feature, cut) in enumerate(zip(tree_features, tree_cuts)):\n",
      "        leaf_indices |= (features[:, feature] > cut).view('int64') << tree_level\n",
      "    \n",
      "    \n",
      "    leaf_values = tree[2]*0\n",
      "    \n",
      "    leaf_indices =leaf_indices.view('int8')[:n_events]\n",
      "\n",
      "    \n",
      "    normalizers = np.zeros(leaf_indices.shape[0])\n",
      "    for i in xrange(leaf_indices.shape[0]):\n",
      "        leaf_ind = leaf_indices[i]\n",
      "        leaf_values[leaf_ind] += residual[i]\n",
      "        normalizers[leaf_ind] += 1\n",
      "    \n",
      "    #alarma! i aint entirely mathematical\n",
      "    leaf_values[normalizers != 0] /= normalizers[normalizers !=0]\n",
      "    \n",
      "    newtree = tuple([copy.copy(i) for i in tree[:2]] + [leaf_values*lrate])\n",
      "\n",
      "    return newtree"
     ],
     "language": "python",
     "metadata": {},
     "outputs": [],
     "prompt_number": 23
    },
    {
     "cell_type": "code",
     "collapsed": false,
     "input": [
      "def inthread_try_add(bunchMembers,tree,loss,X,residual,y,y_pred,learning_rate):\n",
      "        newTree = update_leaves(X,residual,tree,learning_rate)\n",
      "        newPred = y_pred + predict([newTree],X).reshape(y_pred.shape)\n",
      "        return sum(abs(loss(y,newPred)))/y.shape[0],newTree\n",
      "#mb use sklearn metrics-compatible lossfun?\n",
      "\n",
      "def try_add1_bfs(bunchMembers, remainingTrees,X,y,learning_rate,loss,breadth):\n",
      "    '''\n",
      "    select best tree to add (1 step)\n",
      "    '''\n",
      "    X = array2d(X, dtype=DTYPE, order=\"C\")\n",
      "\n",
      "    y_pred = predict(bunchMembers,X).reshape(len(y),1)\n",
      "    \n",
      "\n",
      "    residual = loss(y,y_pred)\n",
      "    \n",
      "    pairs = [\n",
      "                    inthread_try_add(bunchMembers,remainingTrees[t],loss,X,residual,y,y_pred,learning_rate)\n",
      "                    for t in xrange(remainingTrees.shape[0])]   \n",
      "   \n",
      "    pairs.sort(key = lambda el: el[0])\n",
      "    \n",
      "    bunches = []\n",
      "    for pair in pairs[:breadth]:\n",
      "        tree = pair[1]\n",
      "        bunch = bunchMembers+[tree]\n",
      "        bunches.append(bunch)\n",
      "\n",
      "    return bunches,[pair[1] for pair in pairs[:breadth]],[pair[0] for pair in pairs[:breadth]]"
     ],
     "language": "python",
     "metadata": {},
     "outputs": [],
     "prompt_number": 24
    },
    {
     "cell_type": "code",
     "collapsed": false,
     "input": [
      "def greed_up_features_bfs (trees,\n",
      "                           X,y,\n",
      "                           learning_rate,\n",
      "                           loss,\n",
      "                           breadth,\n",
      "                           nTrees,\n",
      "                           trees_sample_size,\n",
      "                           verbose = True,\n",
      "                           learning_rate_decay = 1.,\n",
      "                           trees_sample_increase = 0):\n",
      "    \"\"\"\n",
      "    Iterative BFS over best ADD-1 results for [nTrees] iterations\n",
      "    \"\"\"\n",
      "    #compatibility stuff\n",
      "    if 0 not in y:\n",
      "        return (key,1)\n",
      "    if 1 not in y:\n",
      "        return (key,0)\n",
      "    alltrees = copy.copy(trees)\n",
      "    \n",
      "    trees_sample = np.array(random.sample(alltrees,trees_sample_size))\n",
      "    bunches,additions,losses = try_add1_bfs([],trees_sample,X,y,learning_rate,loss,breadth)\n",
      "    \n",
      "    bestScore = min(losses)\n",
      "    \n",
      "    if verbose:\n",
      "        print \"\\niteration #\",0,\" ntrees = \", len(bunches[0]),\"\\nbest loss = \",bestScore\n",
      "        print \"learning_rate = \", learning_rate\n",
      "        print \"sample_size\", trees_sample_size\n",
      "\n",
      "    \n",
      "    itr = 0\n",
      "    while len(bunches[0]) <nTrees:\n",
      "        itr+=1\n",
      "        newBunches = []    \n",
      "        newScores = []\n",
      "        #for shared memo:\n",
      "        #triples = steve.Parallel(njobs = nthreads)(\n",
      "        #        steve.delayed([try_add1_bfs(bunch,alltrees,X,y,GB,breadth)\n",
      "        #                            for bunch in bunches])\n",
      "        for bunch in bunches:\n",
      "            trees_sample = np.array(random.sample(alltrees,trees_sample_size))\n",
      "            bunches,additions,losses = try_add1_bfs(bunch,trees_sample,X,y,learning_rate,loss,breadth)\n",
      "            #DELIBERATELY not excluding from remainingTrees the trees that are in batch\n",
      "            #because we are adjusting leaves anyway and one trees may be used  multiple\n",
      "            #times with different leaf adjustments.\n",
      "            newBunches+=bunches\n",
      "            newScores += losses\n",
      "            \n",
      "        learning_rate *= learning_rate_decay\n",
      "        trees_sample_size = min(len(alltrees),trees_sample_size + trees_sample_increase)\n",
      "            \n",
      "        pairs = [(newScores[i],newBunches[i]) for i in xrange(len(newBunches))]\n",
      "        pairs.sort(key = lambda el: el[0])\n",
      "        bunches = [pair[1] for pair in pairs[:breadth]]\n",
      "        \n",
      "        \n",
      "        newBestScore = min(newScores)\n",
      "        if newBestScore > bestScore:\n",
      "            bunches = [bnch[:-1] for bnch in bunches]\n",
      "            learning_rate /=2.\n",
      "            if learning_rate < 0.00001:\n",
      "                break\n",
      "        else: bestScore = newBestScore\n",
      "        \n",
      "        \n",
      "        if verbose:\n",
      "            print \"\\niteration #\",itr,\" ntrees = \", len(bunches[0]),\"\\nbest loss = \", bestScore,\"\\nlast loss = \",newBestScore\n",
      "\n",
      "            print \"learning_rate = \", learning_rate\n",
      "            print \"sample_size\", trees_sample_size\n",
      "            \n",
      "    return bunches[0]"
     ],
     "language": "python",
     "metadata": {},
     "outputs": [],
     "prompt_number": 25
    },
    {
     "cell_type": "code",
     "collapsed": false,
     "input": [
      "res_greedy = greed_up_features_bfs(trees,Xtr,Ytr,.5,logloss,1,10,200,True,0.99,0)"
     ],
     "language": "python",
     "metadata": {},
     "outputs": [
      {
       "output_type": "stream",
       "stream": "stdout",
       "text": [
        "\n",
        "iteration # 0  ntrees =  1 \n",
        "best loss =  0.473980056267\n",
        "learning_rate =  0.5\n",
        "sample_size 200\n",
        "\n",
        "iteration #"
       ]
      },
      {
       "output_type": "stream",
       "stream": "stdout",
       "text": [
        " 1  ntrees =  2 \n",
        "best loss =  0.452826841814 \n",
        "last loss =  0.452826841814\n",
        "learning_rate =  0.495\n",
        "sample_size 200\n",
        "\n",
        "iteration #"
       ]
      },
      {
       "output_type": "stream",
       "stream": "stdout",
       "text": [
        " 2  ntrees =  3 \n",
        "best loss =  0.432204897827 \n",
        "last loss =  0.432204897827\n",
        "learning_rate =  0.49005\n",
        "sample_size 200\n",
        "\n",
        "iteration #"
       ]
      },
      {
       "output_type": "stream",
       "stream": "stdout",
       "text": [
        " 3  ntrees =  4 \n",
        "best loss =  0.415093193704 \n",
        "last loss =  0.415093193704\n",
        "learning_rate =  0.4851495\n",
        "sample_size 200\n",
        "\n",
        "iteration #"
       ]
      },
      {
       "output_type": "stream",
       "stream": "stdout",
       "text": [
        " 4  ntrees =  5 \n",
        "best loss =  0.400328824225 \n",
        "last loss =  0.400328824225\n",
        "learning_rate =  0.480298005\n",
        "sample_size 200\n",
        "\n",
        "iteration #"
       ]
      },
      {
       "output_type": "stream",
       "stream": "stdout",
       "text": [
        " 5  ntrees =  6 \n",
        "best loss =  0.387661724846 \n",
        "last loss =  0.387661724846\n",
        "learning_rate =  0.47549502495\n",
        "sample_size 200\n",
        "\n",
        "iteration #"
       ]
      },
      {
       "output_type": "stream",
       "stream": "stdout",
       "text": [
        " 6  ntrees =  7 \n",
        "best loss =  0.376651074228 \n",
        "last loss =  0.376651074228\n",
        "learning_rate =  0.4707400747\n",
        "sample_size 200\n",
        "\n",
        "iteration #"
       ]
      },
      {
       "output_type": "stream",
       "stream": "stdout",
       "text": [
        " 7  ntrees =  8 \n",
        "best loss =  0.366936207255 \n",
        "last loss =  0.366936207255\n",
        "learning_rate =  0.466032673953\n",
        "sample_size 200\n",
        "\n",
        "iteration #"
       ]
      },
      {
       "output_type": "stream",
       "stream": "stdout",
       "text": [
        " 8  ntrees =  9 \n",
        "best loss =  0.35840257818 \n",
        "last loss =  0.35840257818\n",
        "learning_rate =  0.461372347214\n",
        "sample_size 200\n",
        "\n",
        "iteration #"
       ]
      },
      {
       "output_type": "stream",
       "stream": "stdout",
       "text": [
        " 9  ntrees =  10 \n",
        "best loss =  0.35092667998 \n",
        "last loss =  0.35092667998\n",
        "learning_rate =  0.456758623742\n",
        "sample_size 200\n"
       ]
      }
     ],
     "prompt_number": 28
    },
    {
     "cell_type": "code",
     "collapsed": false,
     "input": [
      "y_pred_greedy = predict(res_greedy,Xts)\n",
      "y_pred_stupid = predict(trees[:20],Xts)\n",
      "y_pred_full = predict(trees,Xts)"
     ],
     "language": "python",
     "metadata": {},
     "outputs": [],
     "prompt_number": 54
    },
    {
     "cell_type": "code",
     "collapsed": false,
     "input": [
      "print metrics.roc_auc_score(Yts,y_pred_greedy),metrics.roc_auc_score(Yts,y_pred_stupid),metrics.roc_auc_score(Yts,y_pred_full)\n",
      "print \"well...\""
     ],
     "language": "python",
     "metadata": {},
     "outputs": [
      {
       "output_type": "stream",
       "stream": "stdout",
       "text": [
        "0.877989937652 0.853739175505 0.911112832218\n",
        "well...\n"
       ]
      }
     ],
     "prompt_number": 55
    },
    {
     "cell_type": "markdown",
     "metadata": {},
     "source": [
      "The roc curves are at the bottom"
     ]
    },
    {
     "cell_type": "markdown",
     "metadata": {},
     "source": [
      "# Upper level thresholds extraction"
     ]
    },
    {
     "cell_type": "code",
     "collapsed": false,
     "input": [
      "#thresholds extraction\n",
      "cuts = lambda feature: reduce(np.append,[tree[1][tree[0] == feature] for tree in  trees])"
     ],
     "language": "python",
     "metadata": {},
     "outputs": [],
     "prompt_number": 32
    },
    {
     "cell_type": "code",
     "collapsed": false,
     "input": [
      "def get_inclusion(feature,tolerance=0.):\n",
      "    \"\"\"\n",
      "    Get the inclusion counts of thresholds\n",
      "    \"\"\"\n",
      "    thresholds = cuts(feature)\n",
      "    tolerance *= np.var(thresholds)\n",
      "    thrs = { threshold: len(filter(\n",
      "                                lambda thr: abs(thr - threshold) <= tolerance,\n",
      "                                thresholds)\n",
      "                           )\n",
      "            for threshold in set(thresholds)}\n",
      "    return thrs"
     ],
     "language": "python",
     "metadata": {},
     "outputs": [],
     "prompt_number": 33
    },
    {
     "cell_type": "code",
     "collapsed": false,
     "input": [
      "best = {i:get_inclusion(i,0.001) for i in range(30)}"
     ],
     "language": "python",
     "metadata": {},
     "outputs": [],
     "prompt_number": 34
    },
    {
     "cell_type": "code",
     "collapsed": false,
     "input": [
      "#usability distribution\n",
      "thresholds = reduce(np.append,[zip(np.repeat(i,len(best[i])),best[i].keys(),best[i].values()) for i in best])\n",
      "thresholds = thresholds.reshape(thresholds.shape[0]/3,3)"
     ],
     "language": "python",
     "metadata": {},
     "outputs": [],
     "prompt_number": 35
    },
    {
     "cell_type": "code",
     "collapsed": false,
     "input": [
      "plt.scatter(range(len(thresholds)),thresholds[:,2])\n",
      "print sum(thresholds[:,2] >150)"
     ],
     "language": "python",
     "metadata": {},
     "outputs": [
      {
       "output_type": "stream",
       "stream": "stdout",
       "text": [
        "96\n"
       ]
      },
      {
       "metadata": {},
       "output_type": "display_data",
       "png": "[encoded data removed]",
       "text": [
        "<matplotlib.figure.Figure at 0x1ccc34e0>"
       ]
      }
     ],
     "prompt_number": 36
    },
    {
     "cell_type": "markdown",
     "metadata": {},
     "source": [
      "# Criteria selection"
     ]
    },
    {
     "cell_type": "code",
     "collapsed": false,
     "input": [
      "def entropy(distribution):\n",
      "    \"\"\"just some entropy\"\"\"\n",
      "    logs = np.array(map(np.log,distribution))\n",
      "    logs[distribution ==0] = 0\n",
      "    return -sum(distribution*logs)"
     ],
     "language": "python",
     "metadata": {},
     "outputs": [],
     "prompt_number": 37
    },
    {
     "cell_type": "code",
     "collapsed": false,
     "input": [
      "def select_criteria(X, thresholds_active,depth,verbose = True):\n",
      "    \"\"\"\n",
      "    I find the most _even_ dichotomies of a given depth among the given thresholds... greedily\n",
      "    \"\"\"\n",
      "    leaves = {\"\":X}\n",
      "    criteria = []\n",
      "\n",
      "    old_leaves = copy.copy(leaves) #backup in case you're to lazy to restore em\n",
      "\n",
      "    for i in range(depth):\n",
      "        entropies = []\n",
      "        for feature,cut,_ in thresholds_active:\n",
      "            split_distribution = []\n",
      "            for leaf in leaves:\n",
      "                subsample = leaves[leaf]\n",
      "                predicate = (subsample[:,feature] > cut)\n",
      "                trues = sum(predicate)\n",
      "\n",
      "                split_distribution.append(trues)\n",
      "                split_distribution.append(subsample.shape[0] - trues)\n",
      "            split_distribution = np.array(split_distribution)/float(X.shape[0])\n",
      "            entropies.append( entropy(split_distribution))\n",
      "\n",
      "        feature,cut,_ = criterion = thresholds_active[entropies.index(max(entropies))]\n",
      "        new_leaves = {}\n",
      "        for leaf in leaves:\n",
      "            subsample = leaves[leaf]\n",
      "            predicate = (subsample[:,feature] > cut)\n",
      "            new_leaves[leaf+\"1\"] = subsample[predicate]\n",
      "            new_leaves[leaf+\"0\"] = subsample[predicate == False]\n",
      "\n",
      "        leaves = new_leaves    \n",
      "        criteria.append(criterion)\n",
      "        if verbose:\n",
      "            print [leaves[i].shape[0] for i in leaves]\n",
      "    return criteria"
     ],
     "language": "python",
     "metadata": {},
     "outputs": [],
     "prompt_number": 38
    },
    {
     "cell_type": "code",
     "collapsed": false,
     "input": [
      "#get them...\n",
      "thresholds_active = thresholds[thresholds[:,2]>100]\n",
      "print len(thresholds_active)\n",
      "criteria = select_criteria(Xtr,thresholds_active,3,True)"
     ],
     "language": "python",
     "metadata": {},
     "outputs": [
      {
       "output_type": "stream",
       "stream": "stdout",
       "text": [
        "190\n",
        "[99406L, 100594L]"
       ]
      },
      {
       "output_type": "stream",
       "stream": "stdout",
       "text": [
        "\n",
        "[44191L, 55215L, 41618L, 58976L]"
       ]
      },
      {
       "output_type": "stream",
       "stream": "stdout",
       "text": [
        "\n",
        "[39125L, 19851L, 23475L, 18143L, 22678L, 21513L, 18359L, 36856L]"
       ]
      },
      {
       "output_type": "stream",
       "stream": "stdout",
       "text": [
        "\n"
       ]
      }
     ],
     "prompt_number": 39
    },
    {
     "cell_type": "code",
     "collapsed": false,
     "input": [
      "def split_upper(X,Y,criterea):\n",
      "    \"\"\"\n",
      "    I split the data into the leaves of the upper level ODT given it's criterea\n",
      "    \"\"\"\n",
      "    X_split = {'':X}\n",
      "    y_split = {'':Y}\n",
      "    for criterion in criteria:\n",
      "        feature,cut= criterion[0],criterion[1]\n",
      "        X_split_new = {}\n",
      "        y_split_new = {}\n",
      "        for splt in X_split:\n",
      "            dichotomy = X_split[splt][:,feature]> cut\n",
      "            X_split_new[splt+'1'] = X_split[splt][dichotomy]\n",
      "            X_split_new[splt+'0'] = X_split[splt][dichotomy == False]\n",
      "            y_split_new[splt+'1'] = y_split[splt][dichotomy]\n",
      "            y_split_new[splt+'0'] = y_split[splt][dichotomy == False]\n",
      "        X_split = X_split_new\n",
      "        y_split = y_split_new\n",
      "    return X_split,y_split"
     ],
     "language": "python",
     "metadata": {},
     "outputs": [],
     "prompt_number": 40
    },
    {
     "cell_type": "code",
     "collapsed": false,
     "input": [
      "X_split,Y_split = split_upper(Xtr,Ytr,criteria)\n",
      "print [X_split[i].shape[0] for i in X_split]"
     ],
     "language": "python",
     "metadata": {},
     "outputs": [
      {
       "output_type": "stream",
       "stream": "stdout",
       "text": [
        "[39125L, 19851L, 23475L, 18143L, 22678L, 21513L, 18359L, 36856L]\n"
       ]
      }
     ],
     "prompt_number": 41
    },
    {
     "cell_type": "code",
     "collapsed": false,
     "input": [
      "def train_splitted_boosts( trees,\n",
      "                           X_split,Y_split,\n",
      "                           learning_rate,\n",
      "                           loss,\n",
      "                           breadth,\n",
      "                           nTrees_leaf,\n",
      "                           trees_sample_size,\n",
      "                           verbose = True,\n",
      "                           learning_rate_decay = 1.,\n",
      "                           trees_sample_increase = 0):\n",
      "    \"\"\"\n",
      "    make greedy prune for every leaf in split\n",
      "    \"\"\"\n",
      "    leaves = X_split.keys()\n",
      "    dataPairs = [(X_split[s],Y_split[s]) for s in leaves]\n",
      "    \n",
      "    classis = []\n",
      "    for i in range(len(leaves)):\n",
      "        X_,y_ = dataPairs[i]\n",
      "        if verbose:\n",
      "            print \"\\n\\nNow training leaf \",leaves[i], i+1,\"/\",len(leaves)\n",
      "            print \"n_ samples at leaf = \", X_.shape[0]\n",
      "        classis.append(greed_up_features_bfs(\n",
      "                           trees,\n",
      "                           X_,y_,\n",
      "                           learning_rate,\n",
      "                           loss,\n",
      "                           breadth,\n",
      "                           nTrees_leaf,\n",
      "                           trees_sample_size,\n",
      "                           verbose,\n",
      "                           learning_rate_decay,\n",
      "                           trees_sample_increase\n",
      "                           ))\n",
      "    #same stuff in JL\n",
      "    #tasks = [joblib.delayed(greed_up_features_bfs)(\n",
      "    #                       trees,\n",
      "    #                       X_,y_,\n",
      "    #                       learning_rate,\n",
      "    #                       loss,\n",
      "    #                       breadth,\n",
      "    #                       nTrees_leaf,\n",
      "    #                       trees_sample_size,\n",
      "    #                       verbose,\n",
      "    #                       learning_rate_decay,\n",
      "    #                       trees_sample_increase\n",
      "    #                       ) for X_,y_ in dataPairs]\n",
      "    #classis = joblib.Parallel(n_jobs = -1)(tasks)\n",
      "\n",
      "    return {leaves[i]:classis[i] for i in range(len(leaves))}"
     ],
     "language": "python",
     "metadata": {},
     "outputs": [],
     "prompt_number": 42
    },
    {
     "cell_type": "code",
     "collapsed": false,
     "input": [
      "trees_splitted = train_splitted_boosts(trees, X_split,Y_split,.5,logloss,1,10,200,True,0.99)"
     ],
     "language": "python",
     "metadata": {},
     "outputs": [
      {
       "output_type": "stream",
       "stream": "stdout",
       "text": [
        "\n",
        "\n",
        "Now training leaf  010 1 / 8\n",
        "n_ samples at leaf =  39125\n",
        "\n",
        "iteration #"
       ]
      },
      {
       "output_type": "stream",
       "stream": "stdout",
       "text": [
        " 0  ntrees =  1 \n",
        "best loss =  0.454231518542\n",
        "learning_rate =  0.5\n",
        "sample_size 200\n",
        "\n",
        "iteration #"
       ]
      },
      {
       "output_type": "stream",
       "stream": "stdout",
       "text": [
        " 1  ntrees =  2 \n",
        "best loss =  0.414930963696 \n",
        "last loss =  0.414930963696\n",
        "learning_rate =  0.495\n",
        "sample_size 200\n",
        "\n",
        "iteration #"
       ]
      },
      {
       "output_type": "stream",
       "stream": "stdout",
       "text": [
        " 2  ntrees =  3 \n",
        "best loss =  0.382044688264 \n",
        "last loss =  0.382044688264\n",
        "learning_rate =  0.49005\n",
        "sample_size 200\n",
        "\n",
        "iteration #"
       ]
      },
      {
       "output_type": "stream",
       "stream": "stdout",
       "text": [
        " 3  ntrees =  4 \n",
        "best loss =  0.354284918306 \n",
        "last loss =  0.354284918306\n",
        "learning_rate =  0.4851495\n",
        "sample_size 200\n",
        "\n",
        "iteration #"
       ]
      },
      {
       "output_type": "stream",
       "stream": "stdout",
       "text": [
        " 4  ntrees =  5 \n",
        "best loss =  0.330913669502 \n",
        "last loss =  0.330913669502\n",
        "learning_rate =  0.480298005\n",
        "sample_size 200\n",
        "\n",
        "iteration #"
       ]
      },
      {
       "output_type": "stream",
       "stream": "stdout",
       "text": [
        " 5  ntrees =  6 \n",
        "best loss =  0.311267053651 \n",
        "last loss =  0.311267053651\n",
        "learning_rate =  0.47549502495\n",
        "sample_size 200\n",
        "\n",
        "iteration #"
       ]
      },
      {
       "output_type": "stream",
       "stream": "stdout",
       "text": [
        " 6  ntrees =  7 \n",
        "best loss =  0.294380780337 \n",
        "last loss =  0.294380780337\n",
        "learning_rate =  0.4707400747\n",
        "sample_size 200\n",
        "\n",
        "iteration #"
       ]
      },
      {
       "output_type": "stream",
       "stream": "stdout",
       "text": [
        " 7  ntrees =  8 \n",
        "best loss =  0.279955496742 \n",
        "last loss =  0.279955496742\n",
        "learning_rate =  0.466032673953\n",
        "sample_size 200\n",
        "\n",
        "iteration #"
       ]
      },
      {
       "output_type": "stream",
       "stream": "stdout",
       "text": [
        " 8  ntrees =  9 \n",
        "best loss =  0.267483355459 \n",
        "last loss =  0.267483355459\n",
        "learning_rate =  0.461372347214\n",
        "sample_size 200\n",
        "\n",
        "iteration #"
       ]
      },
      {
       "output_type": "stream",
       "stream": "stdout",
       "text": [
        " 9  ntrees =  10 \n",
        "best loss =  0.256683732383 \n",
        "last loss =  0.256683732383\n",
        "learning_rate =  0.456758623742\n",
        "sample_size 200\n",
        "\n",
        "\n",
        "Now training leaf  011 2 / 8\n",
        "n_ samples at leaf =  19851\n",
        "\n",
        "iteration #"
       ]
      },
      {
       "output_type": "stream",
       "stream": "stdout",
       "text": [
        " 0  ntrees =  1 \n",
        "best loss =  0.462618084108\n",
        "learning_rate =  0.5\n",
        "sample_size 200\n",
        "\n",
        "iteration #"
       ]
      },
      {
       "output_type": "stream",
       "stream": "stdout",
       "text": [
        " 1  ntrees =  2 \n",
        "best loss =  0.43020146294 \n",
        "last loss =  0.43020146294\n",
        "learning_rate =  0.495\n",
        "sample_size 200\n",
        "\n",
        "iteration #"
       ]
      },
      {
       "output_type": "stream",
       "stream": "stdout",
       "text": [
        " 2  ntrees =  3 \n",
        "best loss =  0.402949848456 \n",
        "last loss =  0.402949848456\n",
        "learning_rate =  0.49005\n",
        "sample_size 200\n",
        "\n",
        "iteration #"
       ]
      },
      {
       "output_type": "stream",
       "stream": "stdout",
       "text": [
        " 3  ntrees =  4 \n",
        "best loss =  0.379669324761 \n",
        "last loss =  0.379669324761\n",
        "learning_rate =  0.4851495\n",
        "sample_size 200\n",
        "\n",
        "iteration #"
       ]
      },
      {
       "output_type": "stream",
       "stream": "stdout",
       "text": [
        " 4  ntrees =  5 \n",
        "best loss =  0.359813130739 \n",
        "last loss =  0.359813130739\n",
        "learning_rate =  0.480298005\n",
        "sample_size 200\n",
        "\n",
        "iteration #"
       ]
      },
      {
       "output_type": "stream",
       "stream": "stdout",
       "text": [
        " 5  ntrees =  6 \n",
        "best loss =  0.34294926824 \n",
        "last loss =  0.34294926824\n",
        "learning_rate =  0.47549502495\n",
        "sample_size 200\n",
        "\n",
        "iteration #"
       ]
      },
      {
       "output_type": "stream",
       "stream": "stdout",
       "text": [
        " 6  ntrees =  7 \n",
        "best loss =  0.328131064482 \n",
        "last loss =  0.328131064482\n",
        "learning_rate =  0.4707400747\n",
        "sample_size 200\n",
        "\n",
        "iteration #"
       ]
      },
      {
       "output_type": "stream",
       "stream": "stdout",
       "text": [
        " 7  ntrees =  8 \n",
        "best loss =  0.315713190852 \n",
        "last loss =  0.315713190852\n",
        "learning_rate =  0.466032673953\n",
        "sample_size 200\n",
        "\n",
        "iteration #"
       ]
      },
      {
       "output_type": "stream",
       "stream": "stdout",
       "text": [
        " 8  ntrees =  9 \n",
        "best loss =  0.304577680463 \n",
        "last loss =  0.304577680463\n",
        "learning_rate =  0.461372347214\n",
        "sample_size 200\n",
        "\n",
        "iteration #"
       ]
      },
      {
       "output_type": "stream",
       "stream": "stdout",
       "text": [
        " 9  ntrees =  10 \n",
        "best loss =  0.295084751307 \n",
        "last loss =  0.295084751307\n",
        "learning_rate =  0.456758623742\n",
        "sample_size 200\n",
        "\n",
        "\n",
        "Now training leaf  001 3 / 8\n",
        "n_ samples at leaf =  23475\n",
        "\n",
        "iteration #"
       ]
      },
      {
       "output_type": "stream",
       "stream": "stdout",
       "text": [
        " 0  ntrees =  1 \n",
        "best loss =  0.475625436252\n",
        "learning_rate =  0.5\n",
        "sample_size 200\n",
        "\n",
        "iteration #"
       ]
      },
      {
       "output_type": "stream",
       "stream": "stdout",
       "text": [
        " 1  ntrees =  2 \n",
        "best loss =  0.455112250668 \n",
        "last loss =  0.455112250668\n",
        "learning_rate =  0.495\n",
        "sample_size 200\n",
        "\n",
        "iteration #"
       ]
      },
      {
       "output_type": "stream",
       "stream": "stdout",
       "text": [
        " 2  ntrees =  3 \n",
        "best loss =  0.436566748172 \n",
        "last loss =  0.436566748172\n",
        "learning_rate =  0.49005\n",
        "sample_size 200\n",
        "\n",
        "iteration #"
       ]
      },
      {
       "output_type": "stream",
       "stream": "stdout",
       "text": [
        " 3  ntrees =  4 \n",
        "best loss =  0.421401051983 \n",
        "last loss =  0.421401051983\n",
        "learning_rate =  0.4851495\n",
        "sample_size 200\n",
        "\n",
        "iteration #"
       ]
      },
      {
       "output_type": "stream",
       "stream": "stdout",
       "text": [
        " 4  ntrees =  5 \n",
        "best loss =  0.408424193165 \n",
        "last loss =  0.408424193165\n",
        "learning_rate =  0.480298005\n",
        "sample_size 200\n",
        "\n",
        "iteration #"
       ]
      },
      {
       "output_type": "stream",
       "stream": "stdout",
       "text": [
        " 5  ntrees =  6 \n",
        "best loss =  0.397051230151 \n",
        "last loss =  0.397051230151\n",
        "learning_rate =  0.47549502495\n",
        "sample_size 200\n",
        "\n",
        "iteration #"
       ]
      },
      {
       "output_type": "stream",
       "stream": "stdout",
       "text": [
        " 6  ntrees =  7 \n",
        "best loss =  0.38761482118 \n",
        "last loss =  0.38761482118\n",
        "learning_rate =  0.4707400747\n",
        "sample_size 200\n",
        "\n",
        "iteration #"
       ]
      },
      {
       "output_type": "stream",
       "stream": "stdout",
       "text": [
        " 7  ntrees =  8 \n",
        "best loss =  0.379146985328 \n",
        "last loss =  0.379146985328\n",
        "learning_rate =  0.466032673953\n",
        "sample_size 200\n",
        "\n",
        "iteration #"
       ]
      },
      {
       "output_type": "stream",
       "stream": "stdout",
       "text": [
        " 8  ntrees =  9 \n",
        "best loss =  0.37207960768 \n",
        "last loss =  0.37207960768\n",
        "learning_rate =  0.461372347214\n",
        "sample_size 200\n",
        "\n",
        "iteration #"
       ]
      },
      {
       "output_type": "stream",
       "stream": "stdout",
       "text": [
        " 9  ntrees =  10 \n",
        "best loss =  0.365654111602 \n",
        "last loss =  0.365654111602\n",
        "learning_rate =  0.456758623742\n",
        "sample_size 200\n",
        "\n",
        "\n",
        "Now training leaf  000 4 / 8\n",
        "n_ samples at leaf =  18143\n",
        "\n",
        "iteration #"
       ]
      },
      {
       "output_type": "stream",
       "stream": "stdout",
       "text": [
        " 0  ntrees =  1 \n",
        "best loss =  0.485622732955\n",
        "learning_rate =  0.5\n",
        "sample_size 200\n",
        "\n",
        "iteration #"
       ]
      },
      {
       "output_type": "stream",
       "stream": "stdout",
       "text": [
        " 1  ntrees =  2 \n",
        "best loss =  0.473145119081 \n",
        "last loss =  0.473145119081\n",
        "learning_rate =  0.495\n",
        "sample_size 200\n",
        "\n",
        "iteration #"
       ]
      },
      {
       "output_type": "stream",
       "stream": "stdout",
       "text": [
        " 2  ntrees =  3 \n",
        "best loss =  0.462190975059 \n",
        "last loss =  0.462190975059\n",
        "learning_rate =  0.49005\n",
        "sample_size 200\n",
        "\n",
        "iteration #"
       ]
      },
      {
       "output_type": "stream",
       "stream": "stdout",
       "text": [
        " 3  ntrees =  4 \n",
        "best loss =  0.452609850195 \n",
        "last loss =  0.452609850195\n",
        "learning_rate =  0.4851495\n",
        "sample_size 200\n",
        "\n",
        "iteration #"
       ]
      },
      {
       "output_type": "stream",
       "stream": "stdout",
       "text": [
        " 4  ntrees =  5 \n",
        "best loss =  0.443993532616 \n",
        "last loss =  0.443993532616\n",
        "learning_rate =  0.480298005\n",
        "sample_size 200\n",
        "\n",
        "iteration #"
       ]
      },
      {
       "output_type": "stream",
       "stream": "stdout",
       "text": [
        " 5  ntrees =  6 \n",
        "best loss =  0.43633343505 \n",
        "last loss =  0.43633343505\n",
        "learning_rate =  0.47549502495\n",
        "sample_size 200\n",
        "\n",
        "iteration #"
       ]
      },
      {
       "output_type": "stream",
       "stream": "stdout",
       "text": [
        " 6  ntrees =  7 \n",
        "best loss =  0.42965428188 \n",
        "last loss =  0.42965428188\n",
        "learning_rate =  0.4707400747\n",
        "sample_size 200\n",
        "\n",
        "iteration #"
       ]
      },
      {
       "output_type": "stream",
       "stream": "stdout",
       "text": [
        " 7  ntrees =  8 \n",
        "best loss =  0.423650015276 \n",
        "last loss =  0.423650015276\n",
        "learning_rate =  0.466032673953\n",
        "sample_size 200\n",
        "\n",
        "iteration #"
       ]
      },
      {
       "output_type": "stream",
       "stream": "stdout",
       "text": [
        " 8  ntrees =  9 \n",
        "best loss =  0.418376405686 \n",
        "last loss =  0.418376405686\n",
        "learning_rate =  0.461372347214\n",
        "sample_size 200\n",
        "\n",
        "iteration #"
       ]
      },
      {
       "output_type": "stream",
       "stream": "stdout",
       "text": [
        " 9  ntrees =  10 \n",
        "best loss =  0.413606664014 \n",
        "last loss =  0.413606664014\n",
        "learning_rate =  0.456758623742\n",
        "sample_size 200\n",
        "\n",
        "\n",
        "Now training leaf  111 5 / 8\n",
        "n_ samples at leaf =  22678\n",
        "\n",
        "iteration #"
       ]
      },
      {
       "output_type": "stream",
       "stream": "stdout",
       "text": [
        " 0  ntrees =  1 \n",
        "best loss =  0.475951934231\n",
        "learning_rate =  0.5\n",
        "sample_size 200\n",
        "\n",
        "iteration #"
       ]
      },
      {
       "output_type": "stream",
       "stream": "stdout",
       "text": [
        " 1  ntrees =  2 \n",
        "best loss =  0.456021451219 \n",
        "last loss =  0.456021451219\n",
        "learning_rate =  0.495\n",
        "sample_size 200\n",
        "\n",
        "iteration #"
       ]
      },
      {
       "output_type": "stream",
       "stream": "stdout",
       "text": [
        " 2  ntrees =  3 \n",
        "best loss =  0.437770553328 \n",
        "last loss =  0.437770553328\n",
        "learning_rate =  0.49005\n",
        "sample_size 200\n",
        "\n",
        "iteration #"
       ]
      },
      {
       "output_type": "stream",
       "stream": "stdout",
       "text": [
        " 3  ntrees =  4 \n",
        "best loss =  0.423305706319 \n",
        "last loss =  0.423305706319\n",
        "learning_rate =  0.4851495\n",
        "sample_size 200\n",
        "\n",
        "iteration #"
       ]
      },
      {
       "output_type": "stream",
       "stream": "stdout",
       "text": [
        " 4  ntrees =  5 \n",
        "best loss =  0.409826825717 \n",
        "last loss =  0.409826825717\n",
        "learning_rate =  0.480298005\n",
        "sample_size 200\n",
        "\n",
        "iteration #"
       ]
      },
      {
       "output_type": "stream",
       "stream": "stdout",
       "text": [
        " 5  ntrees =  6 \n",
        "best loss =  0.398715358227 \n",
        "last loss =  0.398715358227\n",
        "learning_rate =  0.47549502495\n",
        "sample_size 200\n",
        "\n",
        "iteration #"
       ]
      },
      {
       "output_type": "stream",
       "stream": "stdout",
       "text": [
        " 6  ntrees =  7 \n",
        "best loss =  0.389951047309 \n",
        "last loss =  0.389951047309\n",
        "learning_rate =  0.4707400747\n",
        "sample_size 200\n",
        "\n",
        "iteration #"
       ]
      },
      {
       "output_type": "stream",
       "stream": "stdout",
       "text": [
        " 7  ntrees =  8 \n",
        "best loss =  0.380937158221 \n",
        "last loss =  0.380937158221\n",
        "learning_rate =  0.466032673953\n",
        "sample_size 200\n",
        "\n",
        "iteration #"
       ]
      },
      {
       "output_type": "stream",
       "stream": "stdout",
       "text": [
        " 8  ntrees =  9 \n",
        "best loss =  0.373275304502 \n",
        "last loss =  0.373275304502\n",
        "learning_rate =  0.461372347214\n",
        "sample_size 200\n",
        "\n",
        "iteration #"
       ]
      },
      {
       "output_type": "stream",
       "stream": "stdout",
       "text": [
        " 9  ntrees =  10 \n",
        "best loss =  0.366358357433 \n",
        "last loss =  0.366358357433\n",
        "learning_rate =  0.456758623742\n",
        "sample_size 200\n",
        "\n",
        "\n",
        "Now training leaf  110 6 / 8\n",
        "n_ samples at leaf =  21513\n",
        "\n",
        "iteration #"
       ]
      },
      {
       "output_type": "stream",
       "stream": "stdout",
       "text": [
        " 0  ntrees =  1 \n",
        "best loss =  0.469997728149\n",
        "learning_rate =  0.5\n",
        "sample_size 200\n",
        "\n",
        "iteration #"
       ]
      },
      {
       "output_type": "stream",
       "stream": "stdout",
       "text": [
        " 1  ntrees =  2 \n",
        "best loss =  0.444610990546 \n",
        "last loss =  0.444610990546\n",
        "learning_rate =  0.495\n",
        "sample_size 200\n",
        "\n",
        "iteration #"
       ]
      },
      {
       "output_type": "stream",
       "stream": "stdout",
       "text": [
        " 2  ntrees =  3 \n",
        "best loss =  0.423046010636 \n",
        "last loss =  0.423046010636\n",
        "learning_rate =  0.49005\n",
        "sample_size 200\n",
        "\n",
        "iteration #"
       ]
      },
      {
       "output_type": "stream",
       "stream": "stdout",
       "text": [
        " 3  ntrees =  4 \n",
        "best loss =  0.40511476295 \n",
        "last loss =  0.40511476295\n",
        "learning_rate =  0.4851495\n",
        "sample_size 200\n",
        "\n",
        "iteration #"
       ]
      },
      {
       "output_type": "stream",
       "stream": "stdout",
       "text": [
        " 4  ntrees =  5 \n",
        "best loss =  0.389350353021 \n",
        "last loss =  0.389350353021\n",
        "learning_rate =  0.480298005\n",
        "sample_size 200\n",
        "\n",
        "iteration #"
       ]
      },
      {
       "output_type": "stream",
       "stream": "stdout",
       "text": [
        " 5  ntrees =  6 \n",
        "best loss =  0.376004261483 \n",
        "last loss =  0.376004261483\n",
        "learning_rate =  0.47549502495\n",
        "sample_size 200\n",
        "\n",
        "iteration #"
       ]
      },
      {
       "output_type": "stream",
       "stream": "stdout",
       "text": [
        " 6  ntrees =  7 \n",
        "best loss =  0.364497070573 \n",
        "last loss =  0.364497070573\n",
        "learning_rate =  0.4707400747\n",
        "sample_size 200\n",
        "\n",
        "iteration #"
       ]
      },
      {
       "output_type": "stream",
       "stream": "stdout",
       "text": [
        " 7  ntrees =  8 \n",
        "best loss =  0.35450785946 \n",
        "last loss =  0.35450785946\n",
        "learning_rate =  0.466032673953\n",
        "sample_size 200\n",
        "\n",
        "iteration #"
       ]
      },
      {
       "output_type": "stream",
       "stream": "stdout",
       "text": [
        " 8  ntrees =  9 \n",
        "best loss =  0.346231850541 \n",
        "last loss =  0.346231850541\n",
        "learning_rate =  0.461372347214\n",
        "sample_size 200\n",
        "\n",
        "iteration #"
       ]
      },
      {
       "output_type": "stream",
       "stream": "stdout",
       "text": [
        " 9  ntrees =  10 \n",
        "best loss =  0.338629210531 \n",
        "last loss =  0.338629210531\n",
        "learning_rate =  0.456758623742\n",
        "sample_size 200\n",
        "\n",
        "\n",
        "Now training leaf  100 7 / 8\n",
        "n_ samples at leaf =  18359\n",
        "\n",
        "iteration #"
       ]
      },
      {
       "output_type": "stream",
       "stream": "stdout",
       "text": [
        " 0  ntrees =  1 \n",
        "best loss =  0.482972710405\n",
        "learning_rate =  0.5\n",
        "sample_size 200\n",
        "\n",
        "iteration #"
       ]
      },
      {
       "output_type": "stream",
       "stream": "stdout",
       "text": [
        " 1  ntrees =  2 \n",
        "best loss =  0.468538406298 \n",
        "last loss =  0.468538406298\n",
        "learning_rate =  0.495\n",
        "sample_size 200\n",
        "\n",
        "iteration #"
       ]
      },
      {
       "output_type": "stream",
       "stream": "stdout",
       "text": [
        " 2  ntrees =  3 \n",
        "best loss =  0.454875118209 \n",
        "last loss =  0.454875118209\n",
        "learning_rate =  0.49005\n",
        "sample_size 200\n",
        "\n",
        "iteration #"
       ]
      },
      {
       "output_type": "stream",
       "stream": "stdout",
       "text": [
        " 3  ntrees =  4 \n",
        "best loss =  0.443324773997 \n",
        "last loss =  0.443324773997\n",
        "learning_rate =  0.4851495\n",
        "sample_size 200\n",
        "\n",
        "iteration #"
       ]
      },
      {
       "output_type": "stream",
       "stream": "stdout",
       "text": [
        " 4  ntrees =  5 \n",
        "best loss =  0.433616808656 \n",
        "last loss =  0.433616808656\n",
        "learning_rate =  0.480298005\n",
        "sample_size 200\n",
        "\n",
        "iteration #"
       ]
      },
      {
       "output_type": "stream",
       "stream": "stdout",
       "text": [
        " 5  ntrees =  6 \n",
        "best loss =  0.424117980405 \n",
        "last loss =  0.424117980405\n",
        "learning_rate =  0.47549502495\n",
        "sample_size 200\n",
        "\n",
        "iteration #"
       ]
      },
      {
       "output_type": "stream",
       "stream": "stdout",
       "text": [
        " 6  ntrees =  7 \n",
        "best loss =  0.416481639099 \n",
        "last loss =  0.416481639099\n",
        "learning_rate =  0.4707400747\n",
        "sample_size 200\n",
        "\n",
        "iteration #"
       ]
      },
      {
       "output_type": "stream",
       "stream": "stdout",
       "text": [
        " 7  ntrees =  8 \n",
        "best loss =  0.409452131912 \n",
        "last loss =  0.409452131912\n",
        "learning_rate =  0.466032673953\n",
        "sample_size 200\n",
        "\n",
        "iteration #"
       ]
      },
      {
       "output_type": "stream",
       "stream": "stdout",
       "text": [
        " 8  ntrees =  9 \n",
        "best loss =  0.403357477861 \n",
        "last loss =  0.403357477861\n",
        "learning_rate =  0.461372347214\n",
        "sample_size 200\n",
        "\n",
        "iteration #"
       ]
      },
      {
       "output_type": "stream",
       "stream": "stdout",
       "text": [
        " 9  ntrees =  10 \n",
        "best loss =  0.398217893827 \n",
        "last loss =  0.398217893827\n",
        "learning_rate =  0.456758623742\n",
        "sample_size 200\n",
        "\n",
        "\n",
        "Now training leaf  101 8 / 8\n",
        "n_ samples at leaf =  36856\n",
        "\n",
        "iteration #"
       ]
      },
      {
       "output_type": "stream",
       "stream": "stdout",
       "text": [
        " 0  ntrees =  1 \n",
        "best loss =  0.47653606578\n",
        "learning_rate =  0.5\n",
        "sample_size 200\n",
        "\n",
        "iteration #"
       ]
      },
      {
       "output_type": "stream",
       "stream": "stdout",
       "text": [
        " 1  ntrees =  2 \n",
        "best loss =  0.455341258439 \n",
        "last loss =  0.455341258439\n",
        "learning_rate =  0.495\n",
        "sample_size 200\n",
        "\n",
        "iteration #"
       ]
      },
      {
       "output_type": "stream",
       "stream": "stdout",
       "text": [
        " 2  ntrees =  3 \n",
        "best loss =  0.437375116342 \n",
        "last loss =  0.437375116342\n",
        "learning_rate =  0.49005\n",
        "sample_size 200\n",
        "\n",
        "iteration #"
       ]
      },
      {
       "output_type": "stream",
       "stream": "stdout",
       "text": [
        " 3  ntrees =  4 \n",
        "best loss =  0.421720210883 \n",
        "last loss =  0.421720210883\n",
        "learning_rate =  0.4851495\n",
        "sample_size 200\n",
        "\n",
        "iteration #"
       ]
      },
      {
       "output_type": "stream",
       "stream": "stdout",
       "text": [
        " 4  ntrees =  5 \n",
        "best loss =  0.407723634629 \n",
        "last loss =  0.407723634629\n",
        "learning_rate =  0.480298005\n",
        "sample_size 200\n",
        "\n",
        "iteration #"
       ]
      },
      {
       "output_type": "stream",
       "stream": "stdout",
       "text": [
        " 5  ntrees =  6 \n",
        "best loss =  0.396143499781 \n",
        "last loss =  0.396143499781\n",
        "learning_rate =  0.47549502495\n",
        "sample_size 200\n",
        "\n",
        "iteration #"
       ]
      },
      {
       "output_type": "stream",
       "stream": "stdout",
       "text": [
        " 6  ntrees =  7 \n",
        "best loss =  0.386233506267 \n",
        "last loss =  0.386233506267\n",
        "learning_rate =  0.4707400747\n",
        "sample_size 200\n",
        "\n",
        "iteration #"
       ]
      },
      {
       "output_type": "stream",
       "stream": "stdout",
       "text": [
        " 7  ntrees =  8 \n",
        "best loss =  0.377621565839 \n",
        "last loss =  0.377621565839\n",
        "learning_rate =  0.466032673953\n",
        "sample_size 200\n",
        "\n",
        "iteration #"
       ]
      },
      {
       "output_type": "stream",
       "stream": "stdout",
       "text": [
        " 8  ntrees =  9 \n",
        "best loss =  0.370100384051 \n",
        "last loss =  0.370100384051\n",
        "learning_rate =  0.461372347214\n",
        "sample_size 200\n",
        "\n",
        "iteration #"
       ]
      },
      {
       "output_type": "stream",
       "stream": "stdout",
       "text": [
        " 9  ntrees =  10 \n",
        "best loss =  0.363227237214 \n",
        "last loss =  0.363227237214\n",
        "learning_rate =  0.456758623742\n",
        "sample_size 200\n"
       ]
      }
     ],
     "prompt_number": 43
    },
    {
     "cell_type": "code",
     "collapsed": false,
     "input": [
      "def predict_splitted(X,criteria,trees):\n",
      "    X_split, indices =  split_upper(X, np.arange(X.shape[0]),criteria)\n",
      "    y_pred = np.zeros(X.shape[0])\n",
      "    for leaf in X_split.keys():\n",
      "        y_pred[indices[leaf]] = predict(trees[leaf],X_split[leaf])\n",
      "    return y_pred"
     ],
     "language": "python",
     "metadata": {},
     "outputs": [],
     "prompt_number": 44
    },
    {
     "cell_type": "code",
     "collapsed": false,
     "input": [
      "y_pred_splitted = predict_splitted(Xts,criteria,trees_splitted)"
     ],
     "language": "python",
     "metadata": {},
     "outputs": [],
     "prompt_number": 45
    },
    {
     "cell_type": "code",
     "collapsed": false,
     "input": [
      "plt.hist(y_pred_splitted)"
     ],
     "language": "python",
     "metadata": {},
     "outputs": [
      {
       "metadata": {},
       "output_type": "pyout",
       "prompt_number": 46,
       "text": [
        "(array([ 11208.,   9680.,   6034.,   3919.,   2993.,   1975.,   2370.,\n",
        "          3526.,   5069.,   3226.]),\n",
        " array([-1.55033176, -1.26461436, -0.97889695, -0.69317955, -0.40746215,\n",
        "        -0.12174475,  0.16397265,  0.44969006,  0.73540746,  1.02112486,\n",
        "         1.30684226]),\n",
        " <a list of 10 Patch objects>)"
       ]
      },
      {
       "metadata": {},
       "output_type": "display_data",
       "png": "[encoded data removed]",
       "text": [
        "<matplotlib.figure.Figure at 0x18da4b38>"
       ]
      }
     ],
     "prompt_number": 46
    },
    {
     "cell_type": "code",
     "collapsed": false,
     "input": [
      "print metrics.roc_auc_score(Yts,y_pred_splitted)"
     ],
     "language": "python",
     "metadata": {},
     "outputs": [
      {
       "output_type": "stream",
       "stream": "stdout",
       "text": [
        "0.889634714364\n"
       ]
      }
     ],
     "prompt_number": 49
    },
    {
     "cell_type": "code",
     "collapsed": false,
     "input": [
      "# Plot ROC curve\n",
      "plt.figure()\n",
      "fpr, tpr, _ = roc_curve(Yts, y_pred_full)\n",
      "plt.plot(fpr, tpr,\n",
      "         label='Full boost classi 10 trees')\n",
      "fpr, tpr, _ = roc_curve(Yts, y_pred_stupid)\n",
      "plt.plot(fpr, tpr,\n",
      "         label='First 20 classi')\n",
      "fpr, tpr, _ = roc_curve(Yts, y_pred_greedy)\n",
      "plt.plot(fpr, tpr,\n",
      "         label='Greedy prune classi 10 trees')\n",
      "fpr, tpr, _ = roc_curve(Yts, y_pred_splitted)\n",
      "plt.plot(fpr, tpr,\n",
      "         label='Split-prune classi with 8 leafs')\n",
      "\n",
      "\n",
      "plt.plot([0, 1], [0, 1], 'k--')\n",
      "plt.xlim([0.0, 1.0])\n",
      "plt.ylim([0.0, 1.05])\n",
      "plt.xlabel('False Positive Rate')\n",
      "plt.ylabel('True Positive Rate')\n",
      "plt.title('Some extension of Receiver operating characteristic to multi-class')\n",
      "plt.legend(loc=\"lower right\")\n",
      "plt.show()"
     ],
     "language": "python",
     "metadata": {},
     "outputs": [
      {
       "metadata": {},
       "output_type": "display_data",
       "png": "[encoded data removed]",
       "text": [
        "<matplotlib.figure.Figure at 0x152ffeb8>"
       ]
      }
     ],
     "prompt_number": 56
    },
    {
     "cell_type": "code",
     "collapsed": false,
     "input": [],
     "language": "python",
     "metadata": {},
     "outputs": []
    }
   ],
   "metadata": {}
  }
 ]
}