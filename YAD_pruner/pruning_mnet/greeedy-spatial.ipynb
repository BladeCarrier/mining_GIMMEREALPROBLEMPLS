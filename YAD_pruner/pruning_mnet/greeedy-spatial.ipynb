{
 "metadata": {
  "name": "",
  "signature": "sha256:57cde94593e7519b1e524dc055f60c6a20fbbfd12d3fdb8f8a10a9a1facf1748"
 },
 "nbformat": 3,
 "nbformat_minor": 0,
 "worksheets": [
  {
   "cells": [
    {
     "cell_type": "code",
     "collapsed": false,
     "input": [
      "# I explore the cuts of the features\n",
      "%matplotlib inline\n",
      "#\u0442\u0430\u043a \u0442\u043e\u0436\u0435 \u043c\u043e\u0436\u043d\u043e \u0440\u0435\u0448\u0438\u0442\u044c \u043f\u0440\u043e\u0431\u043b\u0435\u043c\u0443 \u0438\u043d\u043b\u0430\u0439\u043b\u0430 \u043f\u043b\u043e\u0442\u043e\u0432\n",
      "\n",
      "import matplotlib.pyplot as plt\n",
      "import matplotlib.patches as mpatches\n",
      "\n",
      "import numpy as np\n",
      "import scipy as sp\n",
      "import pandas as pd\n",
      "\n",
      "import sklearn.metrics as metrics\n",
      "from sklearn.externals import joblib\n",
      "from sklearn import cross_validation as cv\n",
      "from sklearn.utils import check_arrays\n",
      "\n",
      "import _matrixnetapplier as mnet\n",
      "\n",
      "import copy\n",
      "import random\n",
      "import math\n"
     ],
     "language": "python",
     "metadata": {},
     "outputs": [],
     "prompt_number": 1
    },
    {
     "cell_type": "markdown",
     "metadata": {},
     "source": [
      "# Extracting the trained model"
     ]
    },
    {
     "cell_type": "code",
     "collapsed": false,
     "input": [
      "#extract ODT\n",
      "fstream = open('formula.mx','rb')\n",
      "classi = mnet.MatrixnetClassifier(fstream)\n",
      "fstream.close()"
     ],
     "language": "python",
     "metadata": {},
     "outputs": [],
     "prompt_number": 2
    },
    {
     "cell_type": "code",
     "collapsed": false,
     "input": [
      "#Get all the trees from .mx\n",
      "def get_trees(classi):\n",
      "    itr = classi.iterate_trees().next()\n",
      "    return itr, [tree for tree in itr[2]]"
     ],
     "language": "python",
     "metadata": {},
     "outputs": [],
     "prompt_number": 3
    },
    {
     "cell_type": "code",
     "collapsed": false,
     "input": [
      "itr,trees = get_trees(classi)\n",
      "n_features = len(classi.features)\n",
      "print itr"
     ],
     "language": "python",
     "metadata": {},
     "outputs": [
      {
       "output_type": "stream",
       "stream": "stdout",
       "text": [
        "(6, 10000, <generator object _iterate_over_trees_with_fixed_depth at 0x000000000C743090>)\n"
       ]
      }
     ],
     "prompt_number": 4
    },
    {
     "cell_type": "markdown",
     "metadata": {},
     "source": [
      "# Loading dataset"
     ]
    },
    {
     "cell_type": "code",
     "collapsed": false,
     "input": [
      "#load training set\n",
      "def load_data(path):\n",
      "    print 'Loading training data.'\n",
      "    data = np.loadtxt(path, \\\n",
      "            delimiter=',', \\\n",
      "            skiprows=1, \\\n",
      "            converters={32: lambda x:int(x=='s'.encode('utf-8'))})\n",
      "\n",
      "    X = data[:,1:31]\n",
      "    Y = data[:,32]\n",
      "    W = data[:,31]\n",
      "    return X,Y,W"
     ],
     "language": "python",
     "metadata": {},
     "outputs": [],
     "prompt_number": 5
    },
    {
     "cell_type": "code",
     "collapsed": false,
     "input": [
      "X,Y,W = load_data(\"../data/training.csv\")"
     ],
     "language": "python",
     "metadata": {},
     "outputs": [
      {
       "output_type": "stream",
       "stream": "stdout",
       "text": [
        "Loading training data.\n"
       ]
      }
     ],
     "prompt_number": 7
    },
    {
     "cell_type": "code",
     "collapsed": false,
     "input": [
      "from sklearn.cross_validation import train_test_split\n",
      "Xtr,Xts,Ytr,Yts,Wtr,Wts = train_test_split(X, Y, W, train_size=0.51, random_state=42)"
     ],
     "language": "python",
     "metadata": {},
     "outputs": [],
     "prompt_number": 8
    },
    {
     "cell_type": "markdown",
     "metadata": {},
     "source": [
      "#sanity check"
     ]
    },
    {
     "cell_type": "code",
     "collapsed": false,
     "input": [
      "#predict with the trees boost\n",
      "class DataFactory:\n",
      "    def __init__(self,events,labels,weights):\n",
      "        self.events = events\n",
      "        self.labels = labels\n",
      "        self.weights = weights\n",
      "        \n",
      "        # extending the data so the number of events is divisible by 8\n",
      "        self.n_events = len(events)\n",
      "        self.n_extended64 = (self.n_events + 7) // 8\n",
      "        self.n_extended = self.n_extended64 * 8\n",
      "\n",
      "        # using Fortran order (surprisingly doesn't seem to influence speed much)\n",
      "        self.features = np.zeros([self.n_extended, self.events.shape[1]], dtype='float32', order='F')\n",
      "        self.features[:self.n_events, :] = self.events\n",
      "    def predict(self,trees,bias = 0):\n",
      "        '''\n",
      "        make real-value predictions using sklearn gradient_boosting.predict_stages\n",
      "        '''\n",
      "        if len(trees) ==0:\n",
      "            return np.zeros(self.events.shape[0])\n",
      "        result = np.zeros(len(self.events), dtype=float)\n",
      "        for stage_predictions in self.apply_separately(trees,bias):\n",
      "            result += stage_predictions\n",
      "        return result\n",
      "    def apply_separately(self,trees,bias=0):\n",
      "        \"\"\"\n",
      "        :param events: numpy.array (or DataFrame) of shape [n_samples, n_features]\n",
      "        :return: each time yields numpy.array predictions of shape [n_samples]\n",
      "            which is output of a particular tree\n",
      "        \"\"\"\n",
      "        # result of first iteration\n",
      "        yield np.zeros(len(self.events), dtype=float)+ bias\n",
      "\n",
      "        tree_depth = len(trees[0][0])\n",
      "        nf_count = len(trees)\n",
      "        \n",
      "        for tree in trees:\n",
      "            leaf_indices = self.getLeafIndices(tree)        \n",
      "            leaf_values = tree[2]\n",
      "            yield leaf_values[leaf_indices]\n",
      "            \n",
      "    def getLeafIndices(self,tree):\n",
      "        \"\"\"\n",
      "        get the tree active leaf indices on the data\n",
      "        \"\"\"\n",
      "        tree_features, tree_cuts, _ = tree\n",
      "        leaf_indices = np.zeros(self.n_extended64, dtype='int64')\n",
      "            \n",
      "        for tree_level, (feature, cut) in enumerate(zip(tree_features, tree_cuts)):\n",
      "            leaf_indices |= (self.features[:, feature] > cut).view('int64') << tree_level\n",
      "        return leaf_indices.view('int8')[:self.n_events]\n",
      "    def split_by(self,boolean):\n",
      "        inverse = boolean == False\n",
      "        return (\n",
      "                DataFactory(self.events[boolean],self.labels[boolean],self.weights[boolean]),\n",
      "                DataFactory(self.events[inverse],self.labels[inverse],self.weights[inverse]),\n",
      "                )"
     ],
     "language": "python",
     "metadata": {},
     "outputs": [],
     "prompt_number": 159
    },
    {
     "cell_type": "code",
     "collapsed": false,
     "input": [
      "trainFactory = DataFactory(Xtr,Ytr,Wtr)\n",
      "testFactory = DataFactory(Xts,Yts,Wts)"
     ],
     "language": "python",
     "metadata": {},
     "outputs": [],
     "prompt_number": 160
    },
    {
     "cell_type": "code",
     "collapsed": false,
     "input": [
      "def compute_ams_on_cuts(answers, predictions, sample_weight):\n",
      "    \"\"\" Predictions are probabilities\"\"\"\n",
      "    b, s, thresholds = metrics.roc_curve(answers, predictions, sample_weight=sample_weight)\n",
      "    # normalization constants\n",
      "    real_s = 691.988607712\n",
      "    real_b = 410999.847322\n",
      "    s *= real_s\n",
      "    b *= real_b\n",
      "    br = 10.\n",
      "    radicands = 2 * ((s + b + br) * np.log(1.0 + s/(b + br)) - s)\n",
      "    return thresholds, radicands\n",
      "\n",
      "def optimal_AMS(answers, predictions, sample_weight):\n",
      "    \"\"\" Predictions are probabilities \"\"\"\n",
      "    cuts, radicands = compute_ams_on_cuts(answers, predictions, sample_weight)\n",
      "    return np.sqrt(np.max(radicands))\n",
      "\n",
      "\n",
      "def precisionAt15(answers, predictions, sample_weight, percent=0.15):\n",
      "    n_passed = int(len(answers) * percent)\n",
      "    RATIO = 50\n",
      "    weight = sample_weight.copy()\n",
      "    weight[answers == 0] /= weight[answers == 0].mean() / RATIO\n",
      "    weight[answers == 1] /= weight[answers == 1].mean()\n",
      "    order = np.argsort(-predictions)\n",
      "    passed = order[:n_passed]    \n",
      "    return np.average(answers[passed], weights=weight[passed])"
     ],
     "language": "python",
     "metadata": {},
     "outputs": [],
     "prompt_number": 103
    },
    {
     "cell_type": "code",
     "collapsed": false,
     "input": [
      "def print_control_metrics(proba_test, proba_train):\n",
      "    for name, metric in [('ROC', metrics.roc_auc_score), ('AMS', optimal_AMS), ('precision', precisionAt15)]:\n",
      "        print name,\n",
      "        print metric(Yts, proba_test, sample_weight=Wts), \n",
      "        print metric(Ytr, proba_train, sample_weight=Wtr)"
     ],
     "language": "python",
     "metadata": {},
     "outputs": [],
     "prompt_number": 104
    },
    {
     "cell_type": "code",
     "collapsed": false,
     "input": [
      "print_control_metrics(testFactory.predict(trees),trainFactory.predict(trees))"
     ],
     "language": "python",
     "metadata": {},
     "outputs": [
      {
       "output_type": "stream",
       "stream": "stdout",
       "text": [
        "ROC "
       ]
      },
      {
       "output_type": "stream",
       "stream": "stdout",
       "text": [
        "0.935834322801 "
       ]
      },
      {
       "output_type": "stream",
       "stream": "stdout",
       "text": [
        "0.961031841221\n",
        "AMS 3.71746365006 "
       ]
      },
      {
       "output_type": "stream",
       "stream": "stdout",
       "text": [
        "5.41899018231\n",
        "precision 0.266316147498 "
       ]
      },
      {
       "output_type": "stream",
       "stream": "stdout",
       "text": [
        "0.394846517557\n"
       ]
      }
     ],
     "prompt_number": 105
    },
    {
     "cell_type": "markdown",
     "metadata": {},
     "source": [
      "# greedy pruning for the whole data"
     ]
    },
    {
     "cell_type": "code",
     "collapsed": false,
     "input": [
      "class LogLoss:\n",
      "    def __call__(self,actual, pred):\n",
      "        \"\"\"\n",
      "        i know it isn't\n",
      "        \"\"\"\n",
      "        return actual - sp.special.expit(pred.reshape(pred.shape[0]))\n",
      "    def update_leaves(self,factory,residual,tree,lrate):\n",
      "        '''\n",
      "        update leaf values via... Newton guy...\n",
      "        '''\n",
      "\n",
      "        leaf_indices = factory.getLeafIndices(tree)\n",
      "        leaf_values = tree[2]*0\n",
      "        normalizers = np.zeros(leaf_indices.shape[0])\n",
      "\n",
      "        prec_value = residual*factory.weights\n",
      "        prec_norm = (factory.labels - residual) * (1 - factory.labels + residual)*factory.weights\n",
      "        \n",
      "        for i in xrange(leaf_indices.shape[0]):\n",
      "            #still faster than multiple selections\n",
      "            leaf_ind = leaf_indices[i]\n",
      "            leaf_values[leaf_ind] += prec_value[i]\n",
      "            normalizers[leaf_ind] += prec_norm[i]\n",
      "\n",
      "        #alarma! i aint entirely mathematical\n",
      "        leaf_values[normalizers != 0] /= normalizers[normalizers !=0]\n",
      "\n",
      "        newtree = tuple([copy.copy(i) for i in tree[:2]] + [leaf_values*lrate])\n",
      "\n",
      "        return newtree\n",
      "LogLoss = LogLoss()"
     ],
     "language": "python",
     "metadata": {},
     "outputs": [],
     "prompt_number": 125
    },
    {
     "cell_type": "code",
     "collapsed": false,
     "input": [
      "def inthread_try_add(bunch,tree,factory,loss,residual,y_pred,learning_rate):\n",
      "        \n",
      "        newTree = loss.update_leaves(factory,residual,tree,learning_rate)\n",
      "        newPred = y_pred + factory.predict([newTree])\n",
      "        newLoss = np.average(abs(loss(factory.labels,newPred)),weights=factory.weights)\n",
      "        return newLoss,newTree\n",
      "\n",
      "def try_add1_bfs(bunch, allTrees,factory,learning_rate,loss,breadth):\n",
      "    '''\n",
      "    select best tree to add (1 step)\n",
      "    '''\n",
      "    y = factory.labels\n",
      "    y_pred = factory.predict(bunch)\n",
      "    residual = loss(y,y_pred)\n",
      "    \n",
      "    pairs = [inthread_try_add(bunch,tree,factory,loss,residual,y_pred,learning_rate) for tree in allTrees]   \n",
      "    pairs.sort(key = lambda el: el[0])\n",
      "    \n",
      "    bunches = []\n",
      "    for pair in pairs[:breadth]:\n",
      "        tree = pair[1]\n",
      "        bunch = bunch+[tree]\n",
      "        bunches.append(bunch)\n",
      "\n",
      "    return bunches,[pair[1] for pair in pairs[:breadth]],[pair[0] for pair in pairs[:breadth]]"
     ],
     "language": "python",
     "metadata": {},
     "outputs": [],
     "prompt_number": 126
    },
    {
     "cell_type": "code",
     "collapsed": false,
     "input": [
      "def greed_up_features_bfs (trees,\n",
      "                           factory,\n",
      "                           loss,\n",
      "                           learning_rate,\n",
      "                           breadth,\n",
      "                           nTrees,\n",
      "                           trees_sample_size,\n",
      "                           verbose = True,\n",
      "                           learning_rate_decay = 1.,\n",
      "                           trees_sample_increase = 0):\n",
      "    \"\"\"\n",
      "    Iterative BFS over best ADD-1 results for [nTrees] iterations\n",
      "    \"\"\"\n",
      "    allTrees = copy.copy(trees)\n",
      "    \n",
      "    trees_sample = np.array(random.sample(allTrees,trees_sample_size))\n",
      "    \n",
      "    bunches,additions,losses = try_add1_bfs([],trees_sample,factory,learning_rate,loss,breadth)\n",
      "    bestScore = min(losses)\n",
      "\n",
      "    if verbose:\n",
      "        print \"\\niteration #\",0,\" ntrees = \", len(bunches[0]),\"\\nbest loss = \",bestScore\n",
      "        print \"learning_rate = \", learning_rate\n",
      "        print \"sample_size\", trees_sample_size\n",
      "\n",
      "    \n",
      "    itr = 0\n",
      "    while len(bunches[0]) <nTrees:\n",
      "        itr+=1\n",
      "        newBunches = []    \n",
      "        newScores = []\n",
      "        for bunch in bunches:\n",
      "            trees_sample = np.array(random.sample(allTrees,trees_sample_size))\n",
      "            bunches,additions,losses = try_add1_bfs(bunch,trees_sample,factory,learning_rate,loss,breadth)\n",
      "            newBunches+=bunches\n",
      "            newScores += losses\n",
      "            \n",
      "        learning_rate *= learning_rate_decay\n",
      "        trees_sample_size = min(len(allTrees),trees_sample_size + trees_sample_increase)\n",
      "            \n",
      "        pairs = [(newScores[i],newBunches[i]) for i in xrange(len(newBunches))]\n",
      "        pairs.sort(key = lambda el: el[0])\n",
      "        \n",
      "        bunches = [pair[1] for pair in pairs[:breadth]]       \n",
      "        newBestScore = min(newScores)\n",
      "        \n",
      "        if newBestScore > bestScore:\n",
      "            bunches = [bnch[:-1] for bnch in bunches]\n",
      "            learning_rate /=2.\n",
      "            if learning_rate < 0.00001:\n",
      "                break\n",
      "        else: bestScore = newBestScore\n",
      "        \n",
      "        \n",
      "        if verbose:\n",
      "            print \"\\niteration #\",itr,\" ntrees = \", len(bunches[0]),\"\\nbest loss = \", bestScore,\"\\nlast loss = \",newBestScore\n",
      "            print \"learning_rate = \", learning_rate\n",
      "            print \"sample_size\", trees_sample_size           \n",
      "    return bunches[0]"
     ],
     "language": "python",
     "metadata": {},
     "outputs": [],
     "prompt_number": 127
    },
    {
     "cell_type": "code",
     "collapsed": false,
     "input": [
      "res_greedy = greed_up_features_bfs(trees,trainFactory,LogLoss,0.1,1,100,500,True,0.99,0)"
     ],
     "language": "python",
     "metadata": {},
     "outputs": [
      {
       "output_type": "stream",
       "stream": "stdout",
       "text": [
        "\n",
        "iteration # 0  ntrees =  1 \n",
        "best loss =  0.450498005718\n",
        "learning_rate =  0.1\n",
        "sample_size 500\n",
        "\n",
        "iteration #"
       ]
      },
      {
       "output_type": "stream",
       "stream": "stdout",
       "text": [
        " 1  ntrees =  2 \n",
        "best loss =  0.406301401817 \n",
        "last loss =  0.406301401817\n",
        "learning_rate =  0.099\n",
        "sample_size 500\n",
        "\n",
        "iteration #"
       ]
      },
      {
       "output_type": "stream",
       "stream": "stdout",
       "text": [
        " 2  ntrees =  3 \n",
        "best loss =  0.367110052765 \n",
        "last loss =  0.367110052765\n",
        "learning_rate =  0.09801\n",
        "sample_size 500\n",
        "\n",
        "iteration #"
       ]
      },
      {
       "output_type": "stream",
       "stream": "stdout",
       "text": [
        " 3  ntrees =  4 \n",
        "best loss =  0.332242605067 \n",
        "last loss =  0.332242605067\n",
        "learning_rate =  0.0970299\n",
        "sample_size 500\n",
        "\n",
        "iteration #"
       ]
      },
      {
       "output_type": "stream",
       "stream": "stdout",
       "text": [
        " 4  ntrees =  5 \n",
        "best loss =  0.301139960808 \n",
        "last loss =  0.301139960808\n",
        "learning_rate =  0.096059601\n",
        "sample_size 500\n",
        "\n",
        "iteration #"
       ]
      },
      {
       "output_type": "stream",
       "stream": "stdout",
       "text": [
        " 5  ntrees =  6 \n",
        "best loss =  0.273334906925 \n",
        "last loss =  0.273334906925\n",
        "learning_rate =  0.09509900499\n",
        "sample_size 500\n",
        "\n",
        "iteration #"
       ]
      },
      {
       "output_type": "stream",
       "stream": "stdout",
       "text": [
        " 6  ntrees =  7 \n",
        "best loss =  0.248430066692 \n",
        "last loss =  0.248430066692\n",
        "learning_rate =  0.0941480149401\n",
        "sample_size 500\n",
        "\n",
        "iteration #"
       ]
      },
      {
       "output_type": "stream",
       "stream": "stdout",
       "text": [
        " 7  ntrees =  8 \n",
        "best loss =  0.226085312389 \n",
        "last loss =  0.226085312389\n",
        "learning_rate =  0.0932065347907\n",
        "sample_size 500\n",
        "\n",
        "iteration #"
       ]
      },
      {
       "output_type": "stream",
       "stream": "stdout",
       "text": [
        " 8  ntrees =  9 \n",
        "best loss =  0.206007264714 \n",
        "last loss =  0.206007264714\n",
        "learning_rate =  0.0922744694428\n",
        "sample_size 500\n",
        "\n",
        "iteration #"
       ]
      },
      {
       "output_type": "stream",
       "stream": "stdout",
       "text": [
        " 9  ntrees =  10 \n",
        "best loss =  0.187940064605 \n",
        "last loss =  0.187940064605\n",
        "learning_rate =  0.0913517247484\n",
        "sample_size 500\n",
        "\n",
        "iteration #"
       ]
      },
      {
       "output_type": "stream",
       "stream": "stdout",
       "text": [
        " 10  ntrees =  11 \n",
        "best loss =  0.171661315151 \n",
        "last loss =  0.171661315151\n",
        "learning_rate =  0.0904382075009\n",
        "sample_size 500\n",
        "\n",
        "iteration #"
       ]
      },
      {
       "output_type": "stream",
       "stream": "stdout",
       "text": [
        " 11  ntrees =  12 \n",
        "best loss =  0.156975970192 \n",
        "last loss =  0.156975970192\n",
        "learning_rate =  0.0895338254259\n",
        "sample_size 500\n",
        "\n",
        "iteration #"
       ]
      },
      {
       "output_type": "stream",
       "stream": "stdout",
       "text": [
        " 12  ntrees =  13 \n",
        "best loss =  0.143712071874 \n",
        "last loss =  0.143712071874\n",
        "learning_rate =  0.0886384871716\n",
        "sample_size 500\n",
        "\n",
        "iteration #"
       ]
      },
      {
       "output_type": "stream",
       "stream": "stdout",
       "text": [
        " 13  ntrees =  14 \n",
        "best loss =  0.13171864859 \n",
        "last loss =  0.13171864859\n",
        "learning_rate =  0.0877521022999\n",
        "sample_size 500\n",
        "\n",
        "iteration #"
       ]
      },
      {
       "output_type": "stream",
       "stream": "stdout",
       "text": [
        " 14  ntrees =  15 \n",
        "best loss =  0.120862476362 \n",
        "last loss =  0.120862476362\n",
        "learning_rate =  0.0868745812769\n",
        "sample_size 500\n",
        "\n",
        "iteration #"
       ]
      },
      {
       "output_type": "stream",
       "stream": "stdout",
       "text": [
        " 15  ntrees =  16 \n",
        "best loss =  0.11102523534 \n",
        "last loss =  0.11102523534\n",
        "learning_rate =  0.0860058354641\n",
        "sample_size 500\n",
        "\n",
        "iteration #"
       ]
      },
      {
       "output_type": "stream",
       "stream": "stdout",
       "text": [
        " 16  ntrees =  17 \n",
        "best loss =  0.10210244946 \n",
        "last loss =  0.10210244946\n",
        "learning_rate =  0.0851457771095\n",
        "sample_size 500\n",
        "\n",
        "iteration #"
       ]
      },
      {
       "output_type": "stream",
       "stream": "stdout",
       "text": [
        " 17  ntrees =  18 \n",
        "best loss =  0.0940010966319 \n",
        "last loss =  0.0940010966319\n",
        "learning_rate =  0.0842943193384\n",
        "sample_size 500\n",
        "\n",
        "iteration #"
       ]
      },
      {
       "output_type": "stream",
       "stream": "stdout",
       "text": [
        " 18  ntrees =  19 \n",
        "best loss =  0.0866382093786 \n",
        "last loss =  0.0866382093786\n",
        "learning_rate =  0.083451376145\n",
        "sample_size 500\n",
        "\n",
        "iteration #"
       ]
      },
      {
       "output_type": "stream",
       "stream": "stdout",
       "text": [
        " 19  ntrees =  20 \n",
        "best loss =  0.0799407556042 \n",
        "last loss =  0.0799407556042\n",
        "learning_rate =  0.0826168623836\n",
        "sample_size 500\n",
        "\n",
        "iteration #"
       ]
      },
      {
       "output_type": "stream",
       "stream": "stdout",
       "text": [
        " 20  ntrees =  21 \n",
        "best loss =  0.07384244386 \n",
        "last loss =  0.07384244386\n",
        "learning_rate =  0.0817906937597\n",
        "sample_size 500\n",
        "\n",
        "iteration #"
       ]
      },
      {
       "output_type": "stream",
       "stream": "stdout",
       "text": [
        " 21  ntrees =  22 \n",
        "best loss =  0.0682847590833 \n",
        "last loss =  0.0682847590833\n",
        "learning_rate =  0.0809727868221\n",
        "sample_size 500\n",
        "\n",
        "iteration #"
       ]
      },
      {
       "output_type": "stream",
       "stream": "stdout",
       "text": [
        " 22  ntrees =  23 \n",
        "best loss =  0.0632158305647 \n",
        "last loss =  0.0632158305647\n",
        "learning_rate =  0.0801630589539\n",
        "sample_size 500\n",
        "\n",
        "iteration #"
       ]
      },
      {
       "output_type": "stream",
       "stream": "stdout",
       "text": [
        " 23  ntrees =  24 \n",
        "best loss =  0.0585879057449 \n",
        "last loss =  0.0585879057449\n",
        "learning_rate =  0.0793614283644\n",
        "sample_size 500\n",
        "\n",
        "iteration #"
       ]
      },
      {
       "output_type": "stream",
       "stream": "stdout",
       "text": [
        " 24  ntrees =  25 \n",
        "best loss =  0.0543595957041 \n",
        "last loss =  0.0543595957041\n",
        "learning_rate =  0.0785678140807\n",
        "sample_size 500\n",
        "\n",
        "iteration #"
       ]
      },
      {
       "output_type": "stream",
       "stream": "stdout",
       "text": [
        " 25  ntrees =  26 \n",
        "best loss =  0.0504928060971 \n",
        "last loss =  0.0504928060971\n",
        "learning_rate =  0.0777821359399\n",
        "sample_size 500\n",
        "\n",
        "iteration #"
       ]
      },
      {
       "output_type": "stream",
       "stream": "stdout",
       "text": [
        " 26  ntrees =  27 \n",
        "best loss =  0.0469539132041 \n",
        "last loss =  0.0469539132041\n",
        "learning_rate =  0.0770043145805\n",
        "sample_size 500\n",
        "\n",
        "iteration #"
       ]
      },
      {
       "output_type": "stream",
       "stream": "stdout",
       "text": [
        " 27  ntrees =  28 \n",
        "best loss =  0.0437123879613 \n",
        "last loss =  0.0437123879613\n",
        "learning_rate =  0.0762342714347\n",
        "sample_size 500\n",
        "\n",
        "iteration #"
       ]
      },
      {
       "output_type": "stream",
       "stream": "stdout",
       "text": [
        " 28  ntrees =  29 \n",
        "best loss =  0.0407410347923 \n",
        "last loss =  0.0407410347923\n",
        "learning_rate =  0.0754719287204\n",
        "sample_size 500\n",
        "\n",
        "iteration #"
       ]
      },
      {
       "output_type": "stream",
       "stream": "stdout",
       "text": [
        " 29  ntrees =  30 \n",
        "best loss =  0.0380149047524 \n",
        "last loss =  0.0380149047524\n",
        "learning_rate =  0.0747172094332\n",
        "sample_size 500\n",
        "\n",
        "iteration #"
       ]
      },
      {
       "output_type": "stream",
       "stream": "stdout",
       "text": [
        " 30  ntrees =  31 \n",
        "best loss =  0.0355120150369 \n",
        "last loss =  0.0355120150369\n",
        "learning_rate =  0.0739700373388\n",
        "sample_size 500\n",
        "\n",
        "iteration #"
       ]
      },
      {
       "output_type": "stream",
       "stream": "stdout",
       "text": [
        " 31  ntrees =  32 \n",
        "best loss =  0.0332121470427 \n",
        "last loss =  0.0332121470427\n",
        "learning_rate =  0.0732303369654\n",
        "sample_size 500\n",
        "\n",
        "iteration #"
       ]
      },
      {
       "output_type": "stream",
       "stream": "stdout",
       "text": [
        " 32  ntrees =  33 \n",
        "best loss =  0.0310973383842 \n",
        "last loss =  0.0310973383842\n",
        "learning_rate =  0.0724980335958\n",
        "sample_size 500\n",
        "\n",
        "iteration #"
       ]
      },
      {
       "output_type": "stream",
       "stream": "stdout",
       "text": [
        " 33  ntrees =  34 \n",
        "best loss =  0.02915098963 \n",
        "last loss =  0.02915098963\n",
        "learning_rate =  0.0717730532598\n",
        "sample_size 500\n",
        "\n",
        "iteration #"
       ]
      },
      {
       "output_type": "stream",
       "stream": "stdout",
       "text": [
        " 34  ntrees =  35 \n",
        "best loss =  0.0273585027199 \n",
        "last loss =  0.0273585027199\n",
        "learning_rate =  0.0710553227272\n",
        "sample_size 500\n",
        "\n",
        "iteration #"
       ]
      },
      {
       "output_type": "stream",
       "stream": "stdout",
       "text": [
        " 35  ntrees =  36 \n",
        "best loss =  0.0257065457308 \n",
        "last loss =  0.0257065457308\n",
        "learning_rate =  0.0703447695\n",
        "sample_size 500\n",
        "\n",
        "iteration #"
       ]
      },
      {
       "output_type": "stream",
       "stream": "stdout",
       "text": [
        " 36  ntrees =  37 \n",
        "best loss =  0.0241829748498 \n",
        "last loss =  0.0241829748498\n",
        "learning_rate =  0.069641321805\n",
        "sample_size 500\n",
        "\n",
        "iteration #"
       ]
      },
      {
       "output_type": "stream",
       "stream": "stdout",
       "text": [
        " 37  ntrees =  38 \n",
        "best loss =  0.0227767931627 \n",
        "last loss =  0.0227767931627\n",
        "learning_rate =  0.0689449085869\n",
        "sample_size 500\n",
        "\n",
        "iteration #"
       ]
      },
      {
       "output_type": "stream",
       "stream": "stdout",
       "text": [
        " 38  ntrees =  39 \n",
        "best loss =  0.0214784716644 \n",
        "last loss =  0.0214784716644\n",
        "learning_rate =  0.068255459501\n",
        "sample_size 500\n",
        "\n",
        "iteration #"
       ]
      },
      {
       "output_type": "stream",
       "stream": "stdout",
       "text": [
        " 39  ntrees =  40 \n",
        "best loss =  0.0202781810555 \n",
        "last loss =  0.0202781810555\n",
        "learning_rate =  0.067572904906\n",
        "sample_size 500\n",
        "\n",
        "iteration #"
       ]
      },
      {
       "output_type": "stream",
       "stream": "stdout",
       "text": [
        " 40  ntrees =  41 \n",
        "best loss =  0.01916807611 \n",
        "last loss =  0.01916807611\n",
        "learning_rate =  0.066897175857\n",
        "sample_size 500\n",
        "\n",
        "iteration #"
       ]
      },
      {
       "output_type": "stream",
       "stream": "stdout",
       "text": [
        " 41  ntrees =  42 \n",
        "best loss =  0.0181407021059 \n",
        "last loss =  0.0181407021059\n",
        "learning_rate =  0.0662282040984\n",
        "sample_size 500\n",
        "\n",
        "iteration #"
       ]
      },
      {
       "output_type": "stream",
       "stream": "stdout",
       "text": [
        " 42  ntrees =  43 \n",
        "best loss =  0.017189191774 \n",
        "last loss =  0.017189191774\n",
        "learning_rate =  0.0655659220574\n",
        "sample_size 500\n",
        "\n",
        "iteration #"
       ]
      },
      {
       "output_type": "stream",
       "stream": "stdout",
       "text": [
        " 43  ntrees =  44 \n",
        "best loss =  0.0163074233444 \n",
        "last loss =  0.0163074233444\n",
        "learning_rate =  0.0649102628368\n",
        "sample_size 500\n",
        "\n",
        "iteration #"
       ]
      },
      {
       "output_type": "stream",
       "stream": "stdout",
       "text": [
        " 44  ntrees =  45 \n",
        "best loss =  0.0154896327136 \n",
        "last loss =  0.0154896327136\n",
        "learning_rate =  0.0642611602085\n",
        "sample_size 500\n",
        "\n",
        "iteration #"
       ]
      },
      {
       "output_type": "stream",
       "stream": "stdout",
       "text": [
        " 45  ntrees =  46 \n",
        "best loss =  0.014730798452 \n",
        "last loss =  0.014730798452\n",
        "learning_rate =  0.0636185486064\n",
        "sample_size 500\n",
        "\n",
        "iteration #"
       ]
      },
      {
       "output_type": "stream",
       "stream": "stdout",
       "text": [
        " 46  ntrees =  47 \n",
        "best loss =  0.0140262034106 \n",
        "last loss =  0.0140262034106\n",
        "learning_rate =  0.0629823631203\n",
        "sample_size 500\n",
        "\n",
        "iteration #"
       ]
      },
      {
       "output_type": "stream",
       "stream": "stdout",
       "text": [
        " 47  ntrees =  48 \n",
        "best loss =  0.0133712856384 \n",
        "last loss =  0.0133712856384\n",
        "learning_rate =  0.0623525394891\n",
        "sample_size 500\n",
        "\n",
        "iteration #"
       ]
      },
      {
       "output_type": "stream",
       "stream": "stdout",
       "text": [
        " 48  ntrees =  49 \n",
        "best loss =  0.0127623533665 \n",
        "last loss =  0.0127623533665\n",
        "learning_rate =  0.0617290140942\n",
        "sample_size 500\n",
        "\n",
        "iteration #"
       ]
      },
      {
       "output_type": "stream",
       "stream": "stdout",
       "text": [
        " 49  ntrees =  50 \n",
        "best loss =  0.0121957712808 \n",
        "last loss =  0.0121957712808\n",
        "learning_rate =  0.0611117239533\n",
        "sample_size 500\n",
        "\n",
        "iteration #"
       ]
      },
      {
       "output_type": "stream",
       "stream": "stdout",
       "text": [
        " 50  ntrees =  51 \n",
        "best loss =  0.011668547508 \n",
        "last loss =  0.011668547508\n",
        "learning_rate =  0.0605006067138\n",
        "sample_size 500\n",
        "\n",
        "iteration #"
       ]
      },
      {
       "output_type": "stream",
       "stream": "stdout",
       "text": [
        " 51  ntrees =  52 \n",
        "best loss =  0.0111772005423 \n",
        "last loss =  0.0111772005423\n",
        "learning_rate =  0.0598956006466\n",
        "sample_size 500\n",
        "\n",
        "iteration #"
       ]
      },
      {
       "output_type": "stream",
       "stream": "stdout",
       "text": [
        " 52  ntrees =  53 \n",
        "best loss =  0.0107194523819 \n",
        "last loss =  0.0107194523819\n",
        "learning_rate =  0.0592966446401\n",
        "sample_size 500\n",
        "\n",
        "iteration #"
       ]
      },
      {
       "output_type": "stream",
       "stream": "stdout",
       "text": [
        " 53  ntrees =  54 \n",
        "best loss =  0.0102922400472 \n",
        "last loss =  0.0102922400472\n",
        "learning_rate =  0.0587036781937\n",
        "sample_size 500\n",
        "\n",
        "iteration #"
       ]
      },
      {
       "output_type": "stream",
       "stream": "stdout",
       "text": [
        " 54  ntrees =  55 \n",
        "best loss =  0.00989385885734 \n",
        "last loss =  0.00989385885734\n",
        "learning_rate =  0.0581166414118\n",
        "sample_size 500\n",
        "\n",
        "iteration #"
       ]
      },
      {
       "output_type": "stream",
       "stream": "stdout",
       "text": [
        " 55  ntrees =  56 \n",
        "best loss =  0.00952177903384 \n",
        "last loss =  0.00952177903384\n",
        "learning_rate =  0.0575354749977\n",
        "sample_size 500\n",
        "\n",
        "iteration #"
       ]
      },
      {
       "output_type": "stream",
       "stream": "stdout",
       "text": [
        " 56  ntrees =  57 \n",
        "best loss =  0.00917400974181 \n",
        "last loss =  0.00917400974181\n",
        "learning_rate =  0.0569601202477\n",
        "sample_size 500\n",
        "\n",
        "iteration #"
       ]
      },
      {
       "output_type": "stream",
       "stream": "stdout",
       "text": [
        " 57  ntrees =  58 \n",
        "best loss =  0.00884898938232 \n",
        "last loss =  0.00884898938232\n",
        "learning_rate =  0.0563905190452\n",
        "sample_size 500\n",
        "\n",
        "iteration #"
       ]
      },
      {
       "output_type": "stream",
       "stream": "stdout",
       "text": [
        " 58  ntrees =  59 \n",
        "best loss =  0.00854490609941 \n",
        "last loss =  0.00854490609941\n",
        "learning_rate =  0.0558266138548\n",
        "sample_size 500\n",
        "\n",
        "iteration #"
       ]
      },
      {
       "output_type": "stream",
       "stream": "stdout",
       "text": [
        " 59  ntrees =  60 \n",
        "best loss =  0.00826039057599 \n",
        "last loss =  0.00826039057599\n",
        "learning_rate =  0.0552683477162\n",
        "sample_size 500\n",
        "\n",
        "iteration #"
       ]
      },
      {
       "output_type": "stream",
       "stream": "stdout",
       "text": [
        " 60  ntrees =  61 \n",
        "best loss =  0.00799368781574 \n",
        "last loss =  0.00799368781574\n",
        "learning_rate =  0.0547156642391\n",
        "sample_size 500\n",
        "\n",
        "iteration #"
       ]
      },
      {
       "output_type": "stream",
       "stream": "stdout",
       "text": [
        " 61  ntrees =  62 \n",
        "best loss =  0.00774384276419 \n",
        "last loss =  0.00774384276419\n",
        "learning_rate =  0.0541685075967\n",
        "sample_size 500\n",
        "\n",
        "iteration #"
       ]
      },
      {
       "output_type": "stream",
       "stream": "stdout",
       "text": [
        " 62  ntrees =  63 \n",
        "best loss =  0.00750960101041 \n",
        "last loss =  0.00750960101041\n",
        "learning_rate =  0.0536268225207\n",
        "sample_size 500\n",
        "\n",
        "iteration #"
       ]
      },
      {
       "output_type": "stream",
       "stream": "stdout",
       "text": [
        " 63  ntrees =  64 \n",
        "best loss =  0.00728976890606 \n",
        "last loss =  0.00728976890606\n",
        "learning_rate =  0.0530905542955\n",
        "sample_size 500\n",
        "\n",
        "iteration #"
       ]
      },
      {
       "output_type": "stream",
       "stream": "stdout",
       "text": [
        " 64  ntrees =  65 \n",
        "best loss =  0.00708345914478 \n",
        "last loss =  0.00708345914478\n",
        "learning_rate =  0.0525596487526\n",
        "sample_size 500\n",
        "\n",
        "iteration #"
       ]
      },
      {
       "output_type": "stream",
       "stream": "stdout",
       "text": [
        " 65  ntrees =  66 \n",
        "best loss =  0.00688981471965 \n",
        "last loss =  0.00688981471965\n",
        "learning_rate =  0.052034052265\n",
        "sample_size 500\n",
        "\n",
        "iteration #"
       ]
      },
      {
       "output_type": "stream",
       "stream": "stdout",
       "text": [
        " 66  ntrees =  67 \n",
        "best loss =  0.00670773217198 \n",
        "last loss =  0.00670773217198\n",
        "learning_rate =  0.0515137117424\n",
        "sample_size 500\n",
        "\n",
        "iteration #"
       ]
      },
      {
       "output_type": "stream",
       "stream": "stdout",
       "text": [
        " 67  ntrees =  68 \n",
        "best loss =  0.00653665125494 \n",
        "last loss =  0.00653665125494\n",
        "learning_rate =  0.050998574625\n",
        "sample_size 500\n",
        "\n",
        "iteration #"
       ]
      },
      {
       "output_type": "stream",
       "stream": "stdout",
       "text": [
        " 68  ntrees =  69 \n",
        "best loss =  0.00637567305018 \n",
        "last loss =  0.00637567305018\n",
        "learning_rate =  0.0504885888787\n",
        "sample_size 500\n",
        "\n",
        "iteration #"
       ]
      },
      {
       "output_type": "stream",
       "stream": "stdout",
       "text": [
        " 69  ntrees =  70 \n",
        "best loss =  0.00622418126838 \n",
        "last loss =  0.00622418126838\n",
        "learning_rate =  0.0499837029899\n",
        "sample_size 500\n",
        "\n",
        "iteration #"
       ]
      },
      {
       "output_type": "stream",
       "stream": "stdout",
       "text": [
        " 70  ntrees =  71 \n",
        "best loss =  0.0060816367526 \n",
        "last loss =  0.0060816367526\n",
        "learning_rate =  0.04948386596\n",
        "sample_size 500\n",
        "\n",
        "iteration #"
       ]
      },
      {
       "output_type": "stream",
       "stream": "stdout",
       "text": [
        " 71  ntrees =  72 \n",
        "best loss =  0.00594721632556 \n",
        "last loss =  0.00594721632556\n",
        "learning_rate =  0.0489890273004\n",
        "sample_size 500\n",
        "\n",
        "iteration #"
       ]
      },
      {
       "output_type": "stream",
       "stream": "stdout",
       "text": [
        " 72  ntrees =  73 \n",
        "best loss =  0.00582065431801 \n",
        "last loss =  0.00582065431801\n",
        "learning_rate =  0.0484991370274\n",
        "sample_size 500\n",
        "\n",
        "iteration #"
       ]
      },
      {
       "output_type": "stream",
       "stream": "stdout",
       "text": [
        " 73  ntrees =  74 \n",
        "best loss =  0.00570119879642 \n",
        "last loss =  0.00570119879642\n",
        "learning_rate =  0.0480141456571\n",
        "sample_size 500\n",
        "\n",
        "iteration #"
       ]
      },
      {
       "output_type": "stream",
       "stream": "stdout",
       "text": [
        " 74  ntrees =  75 \n",
        "best loss =  0.00558850901301 \n",
        "last loss =  0.00558850901301\n",
        "learning_rate =  0.0475340042006\n",
        "sample_size 500\n",
        "\n",
        "iteration #"
       ]
      },
      {
       "output_type": "stream",
       "stream": "stdout",
       "text": [
        " 75  ntrees =  76 \n",
        "best loss =  0.00548209122412 \n",
        "last loss =  0.00548209122412\n",
        "learning_rate =  0.0470586641586\n",
        "sample_size 500\n",
        "\n",
        "iteration #"
       ]
      },
      {
       "output_type": "stream",
       "stream": "stdout",
       "text": [
        " 76  ntrees =  77 \n",
        "best loss =  0.005381680489 \n",
        "last loss =  0.005381680489\n",
        "learning_rate =  0.046588077517\n",
        "sample_size 500\n",
        "\n",
        "iteration #"
       ]
      },
      {
       "output_type": "stream",
       "stream": "stdout",
       "text": [
        " 77  ntrees =  78 \n",
        "best loss =  0.00528668741838 \n",
        "last loss =  0.00528668741838\n",
        "learning_rate =  0.0461221967418\n",
        "sample_size 500\n",
        "\n",
        "iteration #"
       ]
      },
      {
       "output_type": "stream",
       "stream": "stdout",
       "text": [
        " 78  ntrees =  79 \n",
        "best loss =  0.00519692265392 \n",
        "last loss =  0.00519692265392\n",
        "learning_rate =  0.0456609747744\n",
        "sample_size 500\n",
        "\n",
        "iteration #"
       ]
      },
      {
       "output_type": "stream",
       "stream": "stdout",
       "text": [
        " 79  ntrees =  80 \n",
        "best loss =  0.00511206360773 \n",
        "last loss =  0.00511206360773\n",
        "learning_rate =  0.0452043650266\n",
        "sample_size 500\n",
        "\n",
        "iteration #"
       ]
      },
      {
       "output_type": "stream",
       "stream": "stdout",
       "text": [
        " 80  ntrees =  81 \n",
        "best loss =  0.00503179112627 \n",
        "last loss =  0.00503179112627\n",
        "learning_rate =  0.0447523213764\n",
        "sample_size 500\n",
        "\n",
        "iteration #"
       ]
      },
      {
       "output_type": "stream",
       "stream": "stdout",
       "text": [
        " 81  ntrees =  82 \n",
        "best loss =  0.00495581330534 \n",
        "last loss =  0.00495581330534\n",
        "learning_rate =  0.0443047981626\n",
        "sample_size 500\n",
        "\n",
        "iteration #"
       ]
      },
      {
       "output_type": "stream",
       "stream": "stdout",
       "text": [
        " 82  ntrees =  83 \n",
        "best loss =  0.00488384170244 \n",
        "last loss =  0.00488384170244\n",
        "learning_rate =  0.043861750181\n",
        "sample_size 500\n",
        "\n",
        "iteration #"
       ]
      },
      {
       "output_type": "stream",
       "stream": "stdout",
       "text": [
        " 83  ntrees =  84 \n",
        "best loss =  0.00481567381209 \n",
        "last loss =  0.00481567381209\n",
        "learning_rate =  0.0434231326792\n",
        "sample_size 500\n",
        "\n",
        "iteration #"
       ]
      },
      {
       "output_type": "stream",
       "stream": "stdout",
       "text": [
        " 84  ntrees =  85 \n",
        "best loss =  0.00475108058976 \n",
        "last loss =  0.00475108058976\n",
        "learning_rate =  0.0429889013524\n",
        "sample_size 500\n",
        "\n",
        "iteration #"
       ]
      },
      {
       "output_type": "stream",
       "stream": "stdout",
       "text": [
        " 85  ntrees =  86 \n",
        "best loss =  0.00468973140522 \n",
        "last loss =  0.00468973140522\n",
        "learning_rate =  0.0425590123389\n",
        "sample_size 500\n",
        "\n",
        "iteration #"
       ]
      },
      {
       "output_type": "stream",
       "stream": "stdout",
       "text": [
        " 86  ntrees =  87 \n",
        "best loss =  0.00463158370983 \n",
        "last loss =  0.00463158370983\n",
        "learning_rate =  0.0421334222155\n",
        "sample_size 500\n",
        "\n",
        "iteration #"
       ]
      },
      {
       "output_type": "stream",
       "stream": "stdout",
       "text": [
        " 87  ntrees =  88 \n",
        "best loss =  0.0045762814455 \n",
        "last loss =  0.0045762814455\n",
        "learning_rate =  0.0417120879933\n",
        "sample_size 500\n",
        "\n",
        "iteration #"
       ]
      },
      {
       "output_type": "stream",
       "stream": "stdout",
       "text": [
        " 88  ntrees =  89 \n",
        "best loss =  0.00452381173969 \n",
        "last loss =  0.00452381173969\n",
        "learning_rate =  0.0412949671134\n",
        "sample_size 500\n",
        "\n",
        "iteration #"
       ]
      },
      {
       "output_type": "stream",
       "stream": "stdout",
       "text": [
        " 89  ntrees =  90 \n",
        "best loss =  0.00447404581979 \n",
        "last loss =  0.00447404581979\n",
        "learning_rate =  0.0408820174423\n",
        "sample_size 500\n",
        "\n",
        "iteration #"
       ]
      },
      {
       "output_type": "stream",
       "stream": "stdout",
       "text": [
        " 90  ntrees =  91 \n",
        "best loss =  0.00442676628509 \n",
        "last loss =  0.00442676628509\n",
        "learning_rate =  0.0404731972678\n",
        "sample_size 500\n",
        "\n",
        "iteration #"
       ]
      },
      {
       "output_type": "stream",
       "stream": "stdout",
       "text": [
        " 91  ntrees =  92 \n",
        "best loss =  0.00438164730809 \n",
        "last loss =  0.00438164730809\n",
        "learning_rate =  0.0400684652952\n",
        "sample_size 500\n",
        "\n",
        "iteration #"
       ]
      },
      {
       "output_type": "stream",
       "stream": "stdout",
       "text": [
        " 92  ntrees =  93 \n",
        "best loss =  0.0043388345673 \n",
        "last loss =  0.0043388345673\n",
        "learning_rate =  0.0396677806422\n",
        "sample_size 500\n",
        "\n",
        "iteration #"
       ]
      },
      {
       "output_type": "stream",
       "stream": "stdout",
       "text": [
        " 93  ntrees =  94 \n",
        "best loss =  0.00429810202455 \n",
        "last loss =  0.00429810202455\n",
        "learning_rate =  0.0392711028358\n",
        "sample_size 500\n",
        "\n",
        "iteration #"
       ]
      },
      {
       "output_type": "stream",
       "stream": "stdout",
       "text": [
        " 94  ntrees =  95 \n",
        "best loss =  0.00425927687739 \n",
        "last loss =  0.00425927687739\n",
        "learning_rate =  0.0388783918074\n",
        "sample_size 500\n",
        "\n",
        "iteration #"
       ]
      },
      {
       "output_type": "stream",
       "stream": "stdout",
       "text": [
        " 95  ntrees =  96 \n",
        "best loss =  0.0042223265988 \n",
        "last loss =  0.0042223265988\n",
        "learning_rate =  0.0384896078893\n",
        "sample_size 500\n",
        "\n",
        "iteration #"
       ]
      },
      {
       "output_type": "stream",
       "stream": "stdout",
       "text": [
        " 96  ntrees =  97 \n",
        "best loss =  0.00418709481142 \n",
        "last loss =  0.00418709481142\n",
        "learning_rate =  0.0381047118105\n",
        "sample_size 500\n",
        "\n",
        "iteration #"
       ]
      },
      {
       "output_type": "stream",
       "stream": "stdout",
       "text": [
        " 97  ntrees =  98 \n",
        "best loss =  0.0041534779078 \n",
        "last loss =  0.0041534779078\n",
        "learning_rate =  0.0377236646924\n",
        "sample_size 500\n",
        "\n",
        "iteration #"
       ]
      },
      {
       "output_type": "stream",
       "stream": "stdout",
       "text": [
        " 98  ntrees =  99 \n",
        "best loss =  0.00412143527114 \n",
        "last loss =  0.00412143527114\n",
        "learning_rate =  0.0373464280454\n",
        "sample_size 500\n",
        "\n",
        "iteration #"
       ]
      },
      {
       "output_type": "stream",
       "stream": "stdout",
       "text": [
        " 99  ntrees =  100 \n",
        "best loss =  0.00409090246871 \n",
        "last loss =  0.00409090246871\n",
        "learning_rate =  0.036972963765\n",
        "sample_size 500\n"
       ]
      }
     ],
     "prompt_number": 188
    },
    {
     "cell_type": "code",
     "collapsed": false,
     "input": [
      "y_pred_greedy = testFactory.predict(res_greedy)\n",
      "y_pred_stupid = testFactory.predict(trees[:100])\n",
      "y_pred_full = testFactory.predict(trees)\n",
      "w_test = testFactory.weights"
     ],
     "language": "python",
     "metadata": {},
     "outputs": [],
     "prompt_number": 202
    },
    {
     "cell_type": "code",
     "collapsed": false,
     "input": [
      "print metrics.roc_auc_score(Yts,y_pred_greedy,sample_weight=w_test),\n",
      "print metrics.roc_auc_score(Yts,y_pred_stupid,sample_weight=w_test),\n",
      "print metrics.roc_auc_score(Yts,y_pred_full,sample_weight=w_test)\n",
      "print \"well...\""
     ],
     "language": "python",
     "metadata": {},
     "outputs": [
      {
       "output_type": "stream",
       "stream": "stdout",
       "text": [
        "0.920822258087 "
       ]
      },
      {
       "output_type": "stream",
       "stream": "stdout",
       "text": [
        "0.916904744001 "
       ]
      },
      {
       "output_type": "stream",
       "stream": "stdout",
       "text": [
        "0.935834322801\n",
        "well...\n"
       ]
      }
     ],
     "prompt_number": 203
    },
    {
     "cell_type": "code",
     "collapsed": false,
     "input": [
      "joblib.dump(res_greedy,\"greedy 100 trees\")"
     ],
     "language": "python",
     "metadata": {},
     "outputs": [
      {
       "metadata": {},
       "output_type": "pyout",
       "prompt_number": 191,
       "text": [
        "['greedy 100 trees',\n",
        " 'greedy 100 trees_01.npy',\n",
        " 'greedy 100 trees_02.npy',\n",
        " 'greedy 100 trees_03.npy',\n",
        " 'greedy 100 trees_04.npy',\n",
        " 'greedy 100 trees_05.npy',\n",
        " 'greedy 100 trees_06.npy',\n",
        " 'greedy 100 trees_07.npy',\n",
        " 'greedy 100 trees_08.npy',\n",
        " 'greedy 100 trees_09.npy',\n",
        " 'greedy 100 trees_10.npy',\n",
        " 'greedy 100 trees_11.npy',\n",
        " 'greedy 100 trees_12.npy',\n",
        " 'greedy 100 trees_13.npy',\n",
        " 'greedy 100 trees_14.npy',\n",
        " 'greedy 100 trees_15.npy',\n",
        " 'greedy 100 trees_16.npy',\n",
        " 'greedy 100 trees_17.npy',\n",
        " 'greedy 100 trees_18.npy',\n",
        " 'greedy 100 trees_19.npy',\n",
        " 'greedy 100 trees_20.npy',\n",
        " 'greedy 100 trees_21.npy',\n",
        " 'greedy 100 trees_22.npy',\n",
        " 'greedy 100 trees_23.npy',\n",
        " 'greedy 100 trees_24.npy',\n",
        " 'greedy 100 trees_25.npy',\n",
        " 'greedy 100 trees_26.npy',\n",
        " 'greedy 100 trees_27.npy',\n",
        " 'greedy 100 trees_28.npy',\n",
        " 'greedy 100 trees_29.npy',\n",
        " 'greedy 100 trees_30.npy',\n",
        " 'greedy 100 trees_31.npy',\n",
        " 'greedy 100 trees_32.npy',\n",
        " 'greedy 100 trees_33.npy',\n",
        " 'greedy 100 trees_34.npy',\n",
        " 'greedy 100 trees_35.npy',\n",
        " 'greedy 100 trees_36.npy',\n",
        " 'greedy 100 trees_37.npy',\n",
        " 'greedy 100 trees_38.npy',\n",
        " 'greedy 100 trees_39.npy',\n",
        " 'greedy 100 trees_40.npy',\n",
        " 'greedy 100 trees_41.npy',\n",
        " 'greedy 100 trees_42.npy',\n",
        " 'greedy 100 trees_43.npy',\n",
        " 'greedy 100 trees_44.npy',\n",
        " 'greedy 100 trees_45.npy',\n",
        " 'greedy 100 trees_46.npy',\n",
        " 'greedy 100 trees_47.npy',\n",
        " 'greedy 100 trees_48.npy',\n",
        " 'greedy 100 trees_49.npy',\n",
        " 'greedy 100 trees_50.npy',\n",
        " 'greedy 100 trees_51.npy',\n",
        " 'greedy 100 trees_52.npy',\n",
        " 'greedy 100 trees_53.npy',\n",
        " 'greedy 100 trees_54.npy',\n",
        " 'greedy 100 trees_55.npy',\n",
        " 'greedy 100 trees_56.npy',\n",
        " 'greedy 100 trees_57.npy',\n",
        " 'greedy 100 trees_58.npy',\n",
        " 'greedy 100 trees_59.npy',\n",
        " 'greedy 100 trees_60.npy',\n",
        " 'greedy 100 trees_61.npy',\n",
        " 'greedy 100 trees_62.npy',\n",
        " 'greedy 100 trees_63.npy',\n",
        " 'greedy 100 trees_64.npy',\n",
        " 'greedy 100 trees_65.npy',\n",
        " 'greedy 100 trees_66.npy',\n",
        " 'greedy 100 trees_67.npy',\n",
        " 'greedy 100 trees_68.npy',\n",
        " 'greedy 100 trees_69.npy',\n",
        " 'greedy 100 trees_70.npy',\n",
        " 'greedy 100 trees_71.npy',\n",
        " 'greedy 100 trees_72.npy',\n",
        " 'greedy 100 trees_73.npy',\n",
        " 'greedy 100 trees_74.npy',\n",
        " 'greedy 100 trees_75.npy',\n",
        " 'greedy 100 trees_76.npy',\n",
        " 'greedy 100 trees_77.npy',\n",
        " 'greedy 100 trees_78.npy',\n",
        " 'greedy 100 trees_79.npy',\n",
        " 'greedy 100 trees_80.npy',\n",
        " 'greedy 100 trees_81.npy',\n",
        " 'greedy 100 trees_82.npy',\n",
        " 'greedy 100 trees_83.npy',\n",
        " 'greedy 100 trees_84.npy',\n",
        " 'greedy 100 trees_85.npy',\n",
        " 'greedy 100 trees_86.npy',\n",
        " 'greedy 100 trees_87.npy',\n",
        " 'greedy 100 trees_88.npy',\n",
        " 'greedy 100 trees_89.npy',\n",
        " 'greedy 100 trees_90.npy',\n",
        " 'greedy 100 trees_91.npy',\n",
        " 'greedy 100 trees_92.npy',\n",
        " 'greedy 100 trees_93.npy',\n",
        " 'greedy 100 trees_94.npy',\n",
        " 'greedy 100 trees_95.npy',\n",
        " 'greedy 100 trees_96.npy',\n",
        " 'greedy 100 trees_97.npy',\n",
        " 'greedy 100 trees_98.npy',\n",
        " 'greedy 100 trees_99.npy',\n",
        " 'greedy 100 trees_100.npy',\n",
        " 'greedy 100 trees_101.npy',\n",
        " 'greedy 100 trees_102.npy',\n",
        " 'greedy 100 trees_103.npy',\n",
        " 'greedy 100 trees_104.npy',\n",
        " 'greedy 100 trees_105.npy',\n",
        " 'greedy 100 trees_106.npy',\n",
        " 'greedy 100 trees_107.npy',\n",
        " 'greedy 100 trees_108.npy',\n",
        " 'greedy 100 trees_109.npy',\n",
        " 'greedy 100 trees_110.npy',\n",
        " 'greedy 100 trees_111.npy',\n",
        " 'greedy 100 trees_112.npy',\n",
        " 'greedy 100 trees_113.npy',\n",
        " 'greedy 100 trees_114.npy',\n",
        " 'greedy 100 trees_115.npy',\n",
        " 'greedy 100 trees_116.npy',\n",
        " 'greedy 100 trees_117.npy',\n",
        " 'greedy 100 trees_118.npy',\n",
        " 'greedy 100 trees_119.npy',\n",
        " 'greedy 100 trees_120.npy',\n",
        " 'greedy 100 trees_121.npy',\n",
        " 'greedy 100 trees_122.npy',\n",
        " 'greedy 100 trees_123.npy',\n",
        " 'greedy 100 trees_124.npy',\n",
        " 'greedy 100 trees_125.npy',\n",
        " 'greedy 100 trees_126.npy',\n",
        " 'greedy 100 trees_127.npy',\n",
        " 'greedy 100 trees_128.npy',\n",
        " 'greedy 100 trees_129.npy',\n",
        " 'greedy 100 trees_130.npy',\n",
        " 'greedy 100 trees_131.npy',\n",
        " 'greedy 100 trees_132.npy',\n",
        " 'greedy 100 trees_133.npy',\n",
        " 'greedy 100 trees_134.npy',\n",
        " 'greedy 100 trees_135.npy',\n",
        " 'greedy 100 trees_136.npy',\n",
        " 'greedy 100 trees_137.npy',\n",
        " 'greedy 100 trees_138.npy',\n",
        " 'greedy 100 trees_139.npy',\n",
        " 'greedy 100 trees_140.npy',\n",
        " 'greedy 100 trees_141.npy',\n",
        " 'greedy 100 trees_142.npy',\n",
        " 'greedy 100 trees_143.npy',\n",
        " 'greedy 100 trees_144.npy',\n",
        " 'greedy 100 trees_145.npy',\n",
        " 'greedy 100 trees_146.npy',\n",
        " 'greedy 100 trees_147.npy',\n",
        " 'greedy 100 trees_148.npy',\n",
        " 'greedy 100 trees_149.npy',\n",
        " 'greedy 100 trees_150.npy',\n",
        " 'greedy 100 trees_151.npy',\n",
        " 'greedy 100 trees_152.npy',\n",
        " 'greedy 100 trees_153.npy',\n",
        " 'greedy 100 trees_154.npy',\n",
        " 'greedy 100 trees_155.npy',\n",
        " 'greedy 100 trees_156.npy',\n",
        " 'greedy 100 trees_157.npy',\n",
        " 'greedy 100 trees_158.npy',\n",
        " 'greedy 100 trees_159.npy',\n",
        " 'greedy 100 trees_160.npy',\n",
        " 'greedy 100 trees_161.npy',\n",
        " 'greedy 100 trees_162.npy',\n",
        " 'greedy 100 trees_163.npy',\n",
        " 'greedy 100 trees_164.npy',\n",
        " 'greedy 100 trees_165.npy',\n",
        " 'greedy 100 trees_166.npy',\n",
        " 'greedy 100 trees_167.npy',\n",
        " 'greedy 100 trees_168.npy',\n",
        " 'greedy 100 trees_169.npy',\n",
        " 'greedy 100 trees_170.npy',\n",
        " 'greedy 100 trees_171.npy',\n",
        " 'greedy 100 trees_172.npy',\n",
        " 'greedy 100 trees_173.npy',\n",
        " 'greedy 100 trees_174.npy',\n",
        " 'greedy 100 trees_175.npy',\n",
        " 'greedy 100 trees_176.npy',\n",
        " 'greedy 100 trees_177.npy',\n",
        " 'greedy 100 trees_178.npy',\n",
        " 'greedy 100 trees_179.npy',\n",
        " 'greedy 100 trees_180.npy',\n",
        " 'greedy 100 trees_181.npy',\n",
        " 'greedy 100 trees_182.npy',\n",
        " 'greedy 100 trees_183.npy',\n",
        " 'greedy 100 trees_184.npy',\n",
        " 'greedy 100 trees_185.npy',\n",
        " 'greedy 100 trees_186.npy',\n",
        " 'greedy 100 trees_187.npy',\n",
        " 'greedy 100 trees_188.npy',\n",
        " 'greedy 100 trees_189.npy',\n",
        " 'greedy 100 trees_190.npy',\n",
        " 'greedy 100 trees_191.npy',\n",
        " 'greedy 100 trees_192.npy',\n",
        " 'greedy 100 trees_193.npy',\n",
        " 'greedy 100 trees_194.npy',\n",
        " 'greedy 100 trees_195.npy',\n",
        " 'greedy 100 trees_196.npy',\n",
        " 'greedy 100 trees_197.npy',\n",
        " 'greedy 100 trees_198.npy',\n",
        " 'greedy 100 trees_199.npy',\n",
        " 'greedy 100 trees_200.npy',\n",
        " 'greedy 100 trees_201.npy',\n",
        " 'greedy 100 trees_202.npy',\n",
        " 'greedy 100 trees_203.npy',\n",
        " 'greedy 100 trees_204.npy',\n",
        " 'greedy 100 trees_205.npy',\n",
        " 'greedy 100 trees_206.npy',\n",
        " 'greedy 100 trees_207.npy',\n",
        " 'greedy 100 trees_208.npy',\n",
        " 'greedy 100 trees_209.npy',\n",
        " 'greedy 100 trees_210.npy',\n",
        " 'greedy 100 trees_211.npy',\n",
        " 'greedy 100 trees_212.npy',\n",
        " 'greedy 100 trees_213.npy',\n",
        " 'greedy 100 trees_214.npy',\n",
        " 'greedy 100 trees_215.npy',\n",
        " 'greedy 100 trees_216.npy',\n",
        " 'greedy 100 trees_217.npy',\n",
        " 'greedy 100 trees_218.npy',\n",
        " 'greedy 100 trees_219.npy',\n",
        " 'greedy 100 trees_220.npy',\n",
        " 'greedy 100 trees_221.npy',\n",
        " 'greedy 100 trees_222.npy',\n",
        " 'greedy 100 trees_223.npy',\n",
        " 'greedy 100 trees_224.npy',\n",
        " 'greedy 100 trees_225.npy',\n",
        " 'greedy 100 trees_226.npy',\n",
        " 'greedy 100 trees_227.npy',\n",
        " 'greedy 100 trees_228.npy',\n",
        " 'greedy 100 trees_229.npy',\n",
        " 'greedy 100 trees_230.npy',\n",
        " 'greedy 100 trees_231.npy',\n",
        " 'greedy 100 trees_232.npy',\n",
        " 'greedy 100 trees_233.npy',\n",
        " 'greedy 100 trees_234.npy',\n",
        " 'greedy 100 trees_235.npy',\n",
        " 'greedy 100 trees_236.npy',\n",
        " 'greedy 100 trees_237.npy',\n",
        " 'greedy 100 trees_238.npy',\n",
        " 'greedy 100 trees_239.npy',\n",
        " 'greedy 100 trees_240.npy',\n",
        " 'greedy 100 trees_241.npy',\n",
        " 'greedy 100 trees_242.npy',\n",
        " 'greedy 100 trees_243.npy',\n",
        " 'greedy 100 trees_244.npy',\n",
        " 'greedy 100 trees_245.npy',\n",
        " 'greedy 100 trees_246.npy',\n",
        " 'greedy 100 trees_247.npy',\n",
        " 'greedy 100 trees_248.npy',\n",
        " 'greedy 100 trees_249.npy',\n",
        " 'greedy 100 trees_250.npy',\n",
        " 'greedy 100 trees_251.npy',\n",
        " 'greedy 100 trees_252.npy',\n",
        " 'greedy 100 trees_253.npy',\n",
        " 'greedy 100 trees_254.npy',\n",
        " 'greedy 100 trees_255.npy',\n",
        " 'greedy 100 trees_256.npy',\n",
        " 'greedy 100 trees_257.npy',\n",
        " 'greedy 100 trees_258.npy',\n",
        " 'greedy 100 trees_259.npy',\n",
        " 'greedy 100 trees_260.npy',\n",
        " 'greedy 100 trees_261.npy',\n",
        " 'greedy 100 trees_262.npy',\n",
        " 'greedy 100 trees_263.npy',\n",
        " 'greedy 100 trees_264.npy',\n",
        " 'greedy 100 trees_265.npy',\n",
        " 'greedy 100 trees_266.npy',\n",
        " 'greedy 100 trees_267.npy',\n",
        " 'greedy 100 trees_268.npy',\n",
        " 'greedy 100 trees_269.npy',\n",
        " 'greedy 100 trees_270.npy',\n",
        " 'greedy 100 trees_271.npy',\n",
        " 'greedy 100 trees_272.npy',\n",
        " 'greedy 100 trees_273.npy',\n",
        " 'greedy 100 trees_274.npy',\n",
        " 'greedy 100 trees_275.npy',\n",
        " 'greedy 100 trees_276.npy',\n",
        " 'greedy 100 trees_277.npy',\n",
        " 'greedy 100 trees_278.npy',\n",
        " 'greedy 100 trees_279.npy',\n",
        " 'greedy 100 trees_280.npy',\n",
        " 'greedy 100 trees_281.npy',\n",
        " 'greedy 100 trees_282.npy',\n",
        " 'greedy 100 trees_283.npy',\n",
        " 'greedy 100 trees_284.npy',\n",
        " 'greedy 100 trees_285.npy',\n",
        " 'greedy 100 trees_286.npy',\n",
        " 'greedy 100 trees_287.npy',\n",
        " 'greedy 100 trees_288.npy',\n",
        " 'greedy 100 trees_289.npy',\n",
        " 'greedy 100 trees_290.npy',\n",
        " 'greedy 100 trees_291.npy',\n",
        " 'greedy 100 trees_292.npy',\n",
        " 'greedy 100 trees_293.npy',\n",
        " 'greedy 100 trees_294.npy',\n",
        " 'greedy 100 trees_295.npy',\n",
        " 'greedy 100 trees_296.npy',\n",
        " 'greedy 100 trees_297.npy',\n",
        " 'greedy 100 trees_298.npy',\n",
        " 'greedy 100 trees_299.npy',\n",
        " 'greedy 100 trees_300.npy']"
       ]
      }
     ],
     "prompt_number": 191
    },
    {
     "cell_type": "markdown",
     "metadata": {},
     "source": [
      "The roc curves are at the bottom"
     ]
    },
    {
     "cell_type": "markdown",
     "metadata": {},
     "source": [
      "# Upper level thresholds extraction"
     ]
    },
    {
     "cell_type": "code",
     "collapsed": false,
     "input": [
      "#thresholds extraction\n",
      "cuts = lambda feature: reduce(np.append,[tree[1][tree[0] == feature] for tree in  trees])"
     ],
     "language": "python",
     "metadata": {},
     "outputs": [],
     "prompt_number": 204
    },
    {
     "cell_type": "code",
     "collapsed": false,
     "input": [
      "def get_inclusion(feature,tolerance=0.):\n",
      "    \"\"\"\n",
      "    Get the inclusion counts of thresholds\n",
      "    \"\"\"\n",
      "    thresholds = cuts(feature)\n",
      "    tolerance *= np.var(thresholds)\n",
      "    thrs = { threshold: len(filter(\n",
      "                                lambda thr: abs(thr - threshold) <= tolerance,\n",
      "                                thresholds)\n",
      "                           )\n",
      "            for threshold in set(thresholds)}\n",
      "    return thrs"
     ],
     "language": "python",
     "metadata": {},
     "outputs": [],
     "prompt_number": 205
    },
    {
     "cell_type": "code",
     "collapsed": false,
     "input": [
      "best = {i:get_inclusion(i,0.001) for i in range(30)}"
     ],
     "language": "python",
     "metadata": {},
     "outputs": [],
     "prompt_number": 194
    },
    {
     "cell_type": "code",
     "collapsed": false,
     "input": [
      "#usability distribution\n",
      "thresholds = reduce(np.append,[zip(np.repeat(i,len(best[i])),best[i].keys(),best[i].values()) for i in best])\n",
      "thresholds = thresholds.reshape(thresholds.shape[0]/3,3)"
     ],
     "language": "python",
     "metadata": {},
     "outputs": [],
     "prompt_number": 195
    },
    {
     "cell_type": "code",
     "collapsed": false,
     "input": [
      "plt.scatter(range(len(thresholds)),thresholds[:,2])\n",
      "print sum(thresholds[:,2] >150)"
     ],
     "language": "python",
     "metadata": {},
     "outputs": [
      {
       "output_type": "stream",
       "stream": "stdout",
       "text": [
        "96\n"
       ]
      },
      {
       "metadata": {},
       "output_type": "display_data",
       "png": "[encoded data removed]",
       "text": [
        "<matplotlib.figure.Figure at 0x1947d0b8>"
       ]
      }
     ],
     "prompt_number": 196
    },
    {
     "cell_type": "markdown",
     "metadata": {},
     "source": [
      "# Criteria selection"
     ]
    },
    {
     "cell_type": "code",
     "collapsed": false,
     "input": [
      "def entropy(distribution):\n",
      "    \"\"\"just some entropy\"\"\"\n",
      "    logs = np.array(map(np.log,distribution))\n",
      "    logs[distribution ==0] = 0\n",
      "    return -sum(distribution*logs)"
     ],
     "language": "python",
     "metadata": {},
     "outputs": [],
     "prompt_number": 197
    },
    {
     "cell_type": "code",
     "collapsed": false,
     "input": [
      "def select_criteria(factory, thresholds_active,depth,verbose = True):\n",
      "    \"\"\"\n",
      "    I find the most _even_ dichotomies of a given depth among the given thresholds... greedily\n",
      "    \"\"\"\n",
      "    leaves = {\"\":factory}\n",
      "    criteria = []\n",
      "\n",
      "    for i in range(depth):\n",
      "        entropies = []\n",
      "        for feature,cut,_ in thresholds_active:\n",
      "            split_distribution = []\n",
      "            for leaf in leaves:\n",
      "                subFactory = leaves[leaf]\n",
      "                predicate = (subFactory.events[:,feature] > cut)\n",
      "                trues = sum(subFactory.weights[predicate])\n",
      "                \n",
      "                split_distribution.append(trues)\n",
      "                split_distribution.append(sum(subFactory.weights) - trues)\n",
      "                \n",
      "            split_distribution = np.array(split_distribution)/sum(factory.weights)\n",
      "            entropies.append( entropy(split_distribution))\n",
      "\n",
      "        feature,cut,_ = criterion = thresholds_active[entropies.index(max(entropies))]\n",
      "        new_leaves = {}\n",
      "        for leaf in leaves:\n",
      "            subFactory = leaves[leaf]\n",
      "            predicate = (subFactory.events[:,feature] > cut)\n",
      "            new_leaves[leaf+\"1\"],new_leaves[leaf+\"0\"] = subFactory.split_by(predicate)\n",
      "\n",
      "        leaves = new_leaves    \n",
      "        criteria.append(criterion)\n",
      "        if verbose:\n",
      "            print 's:',[leaves[i].events.shape[0] for i in leaves]\n",
      "            print 'w:',[sum(leaves[i].weights) for i in leaves]\n",
      "    return criteria"
     ],
     "language": "python",
     "metadata": {},
     "outputs": [
      {
       "output_type": "stream",
       "stream": "stdout",
       "text": [
        "\n"
       ]
      }
     ],
     "prompt_number": 208
    },
    {
     "cell_type": "code",
     "collapsed": false,
     "input": [
      "#get them...\n",
      "thresholds_active = thresholds[thresholds[:,2]>100]\n",
      "print len(thresholds_active)\n",
      "sFactory= DataFactory(Xts,Yts,np.ones(len(Yts)))\n",
      "criteria = select_criteria(sFactory,thresholds_active,3,True)"
     ],
     "language": "python",
     "metadata": {},
     "outputs": [
      {
       "output_type": "stream",
       "stream": "stdout",
       "text": [
        "190\n",
        "s:"
       ]
      },
      {
       "output_type": "stream",
       "stream": "stdout",
       "text": [
        " [60644L, 61856L]\n",
        "w: [60644.0, 61856.0]\n",
        "s:"
       ]
      },
      {
       "output_type": "stream",
       "stream": "stdout",
       "text": [
        " [26927L, 33717L, 25494L, 36362L]\n",
        "w: [26927.0, 33717.0, 25494.0, 36362.0]\n",
        "s:"
       ]
      },
      {
       "output_type": "stream",
       "stream": "stdout",
       "text": [
        " [25875L, 10487L, 12550L, 12944L, 10371L, 16556L, 17256L, 16461L]\n",
        "w: [25875.0, 10487.0, 12550.0, 12944.0, 10371.0, 16556.0, 17256.0, 16461.0]\n"
       ]
      }
     ],
     "prompt_number": 271
    },
    {
     "cell_type": "code",
     "collapsed": false,
     "input": [
      "criteria"
     ],
     "language": "python",
     "metadata": {},
     "outputs": [
      {
       "metadata": {},
       "output_type": "pyout",
       "prompt_number": 210,
       "text": [
        "[array([  13.        ,   26.71350098,  124.        ]),\n",
        " array([   7.        ,    2.72149992,  121.        ]),\n",
        " array([   8.        ,    4.71249962,  158.        ])]"
       ]
      }
     ],
     "prompt_number": 210
    },
    {
     "cell_type": "code",
     "collapsed": false,
     "input": [
      "def split_upper(factory,criteria,returnIndices = False):\n",
      "    \"\"\"\n",
      "    I split the data into the leaves of the upper level ODT given it's criterea\n",
      "    \"\"\"\n",
      "    split = {'':factory}\n",
      "    indices = {'':np.arange(factory.n_events)}\n",
      "    for criterion in criteria:\n",
      "        feature,cut,_= criterion\n",
      "        split_new = {}\n",
      "        indices_new = {}\n",
      "        for splt in split:\n",
      "            dichotomy = split[splt].features[:,feature][:split[splt].n_events]> cut\n",
      "            split_new[splt+'1'],split_new[splt+'0'] = split[splt].split_by(dichotomy)\n",
      "            if returnIndices:\n",
      "                indices_new[splt+'1'] = indices[splt][dichotomy]\n",
      "                indices_new[splt+'0'] = indices[splt][dichotomy == False]\n",
      "        split = split_new\n",
      "        indices = indices_new\n",
      "    return ((split, indices ) if returnIndices else split)"
     ],
     "language": "python",
     "metadata": {},
     "outputs": [],
     "prompt_number": 246
    },
    {
     "cell_type": "code",
     "collapsed": false,
     "input": [
      "split = split_upper(trainFactory,criteria)\n",
      "print [split[i].events.shape[0] for i in split]"
     ],
     "language": "python",
     "metadata": {},
     "outputs": [
      {
       "output_type": "stream",
       "stream": "stdout",
       "text": [
        "[7034L, 10630L, 16105L, 9247L, 19240L, 12781L, 16723L, 35740L]\n"
       ]
      }
     ],
     "prompt_number": 247
    },
    {
     "cell_type": "code",
     "collapsed": false,
     "input": [
      "def train_splitted_boosts( trees,\n",
      "                           factory,\n",
      "                           criteria,\n",
      "                           loss,\n",
      "                           learning_rate,\n",
      "                           breadth,\n",
      "                           nTrees_leaf,\n",
      "                           trees_sample_size,\n",
      "                           verbose = True,\n",
      "                           learning_rate_decay = 1.,\n",
      "                           trees_sample_increase = 0):\n",
      "    \"\"\"\n",
      "    make greedy prune for every leaf in split\n",
      "    \"\"\"\n",
      "    factories = split_upper(trainFactory,criteria)\n",
      "    leaves = factories.keys()\n",
      "    \n",
      "    classis = []\n",
      "    itr = 1\n",
      "    for leaf in leaves:\n",
      "        if verbose:\n",
      "            print \"\\n\\nNow training leaf \",leaf, itr,\"/\",len(leaves)\n",
      "            print \"n_ samples at leaf = \", factories[leaf].n_events\n",
      "            itr +=1\n",
      "        classis.append(greed_up_features_bfs(\n",
      "                           trees,\n",
      "                           factories[leaf],\n",
      "                           loss,\n",
      "                           learning_rate,\n",
      "                           breadth,\n",
      "                           nTrees_leaf,\n",
      "                           trees_sample_size,\n",
      "                           verbose,\n",
      "                           learning_rate_decay,\n",
      "                           trees_sample_increase\n",
      "                           ))\n",
      "    #same stuff in JL\n",
      "    #tasks = [joblib.delayed(\n",
      "    #                       trees,\n",
      "    #                       factories[leaf],\n",
      "    #                       loss,\n",
      "    #                       learning_rate,\n",
      "    #                       breadth,\n",
      "    #                       nTrees_leaf,\n",
      "    #                       trees_sample_size,\n",
      "    #                       verbose,\n",
      "    #                       learning_rate_decay,\n",
      "    #                       trees_sample_increase\n",
      "    #                       )for leaf in leaves]\n",
      "    #classis = joblib.Parallel(n_jobs = -1)(tasks)\n",
      "\n",
      "    return {leaves[i]:classis[i] for i in range(len(leaves))}"
     ],
     "language": "python",
     "metadata": {},
     "outputs": [],
     "prompt_number": 237
    },
    {
     "cell_type": "code",
     "collapsed": false,
     "input": [
      "trees_splitted = train_splitted_boosts(trees, trainFactory,criteria[:2],LogLoss,0.1,1,100,500,True,0.99)"
     ],
     "language": "python",
     "metadata": {},
     "outputs": []
    },
    {
     "cell_type": "code",
     "collapsed": false,
     "input": [
      "def predict_splitted(factory,criteria,trees):\n",
      "    factories, indices =  split_upper(factory,criteria,True)\n",
      "    y_pred = np.zeros(factory.n_events)\n",
      "    for leaf in factories.keys():\n",
      "        y_pred[indices[leaf]] = factories[leaf].predict(trees[leaf])\n",
      "    return y_pred"
     ],
     "language": "python",
     "metadata": {},
     "outputs": [],
     "prompt_number": 279
    },
    {
     "cell_type": "code",
     "collapsed": false,
     "input": [
      "y_pred_splitted = predict_splitted(testFactory,criteria[:2],trees_splitted)"
     ],
     "language": "python",
     "metadata": {},
     "outputs": [],
     "prompt_number": 282
    },
    {
     "cell_type": "code",
     "collapsed": false,
     "input": [
      "plt.hist(y_pred_splitted)"
     ],
     "language": "python",
     "metadata": {},
     "outputs": [
      {
       "metadata": {},
       "output_type": "pyout",
       "prompt_number": 283,
       "text": [
        "(array([  1.18193000e+05,   2.51600000e+03,   1.12300000e+03,\n",
        "          1.76000000e+02,   3.73000000e+02,   6.00000000e+01,\n",
        "          4.00000000e+01,   9.00000000e+00,   9.00000000e+00,\n",
        "          1.00000000e+00]),\n",
        " array([-1.47748852, -1.2769949 , -1.07650128, -0.87600765, -0.67551403,\n",
        "        -0.47502041, -0.27452679, -0.07403317,  0.12646045,  0.32695407,\n",
        "         0.52744769]),\n",
        " <a list of 10 Patch objects>)"
       ]
      },
      {
       "metadata": {},
       "output_type": "display_data",
       "png": "[encoded data removed]",
       "text": [
        "<matplotlib.figure.Figure at 0x2987d278>"
       ]
      }
     ],
     "prompt_number": 283
    },
    {
     "cell_type": "code",
     "collapsed": false,
     "input": [
      "print metrics.roc_auc_score(testFactory.labels,y_pred_splitted)"
     ],
     "language": "python",
     "metadata": {},
     "outputs": [
      {
       "output_type": "stream",
       "stream": "stdout",
       "text": [
        "0.923137623013\n"
       ]
      }
     ],
     "prompt_number": 287
    },
    {
     "cell_type": "code",
     "collapsed": false,
     "input": [
      "# Plot ROC curve\n",
      "plt.figure()\n",
      "fpr, tpr, _ = metrics.roc_curve(Yts, y_pred_full,sample_weight=testFactory.weights)\n",
      "plt.plot(fpr, tpr,\n",
      "         label='Full boost classi 10k trees')\n",
      "fpr, tpr, _ = metrics.roc_curve(Yts, y_pred_stupid,sample_weight=testFactory.weights)\n",
      "plt.plot(fpr, tpr,\n",
      "         label='First 100 classi')\n",
      "fpr, tpr, _ = metrics.roc_curve(Yts, y_pred_greedy,sample_weight=testFactory.weights)\n",
      "plt.plot(fpr, tpr,\n",
      "         label='Greedy prune classi 100 trees')\n",
      "fpr, tpr, _ = metrics.roc_curve(Yts, y_pred_splitted,sample_weight=testFactory.weights)\n",
      "#plt.plot(fpr, tpr,\n",
      "#         label='Split-prune classi with 8 leafs')\n",
      "\n",
      "\n",
      "plt.plot([0, 1], [0, 1], 'k--')\n",
      "plt.xlim([0.0, 1.0])\n",
      "plt.ylim([0.0, 1.05])\n",
      "plt.xlabel('False Positive Rate')\n",
      "plt.ylabel('True Positive Rate')\n",
      "plt.title('Some extension of Receiver operating characteristic to multi-class')\n",
      "plt.legend(loc=\"lower right\")\n",
      "plt.show()"
     ],
     "language": "python",
     "metadata": {},
     "outputs": [
      {
       "metadata": {},
       "output_type": "display_data",
       "png": "[encoded data removed]",
       "text": [
        "<matplotlib.figure.Figure at 0x22c10390>"
       ]
      }
     ],
     "prompt_number": 289
    },
    {
     "cell_type": "code",
     "collapsed": false,
     "input": [],
     "language": "python",
     "metadata": {},
     "outputs": []
    },
    {
     "cell_type": "code",
     "collapsed": false,
     "input": [
      "joblib.dump([criteria,trees_splitted],\"splitted 100 trees\")"
     ],
     "language": "python",
     "metadata": {},
     "outputs": [
      {
       "metadata": {},
       "output_type": "pyout",
       "prompt_number": 65,
       "text": [
        "['splitted 100 trees',\n",
        " 'splitted 100 trees_01.npy',\n",
        " 'splitted 100 trees_02.npy',\n",
        " 'splitted 100 trees_03.npy',\n",
        " 'splitted 100 trees_04.npy',\n",
        " 'splitted 100 trees_05.npy',\n",
        " 'splitted 100 trees_06.npy',\n",
        " 'splitted 100 trees_07.npy',\n",
        " 'splitted 100 trees_08.npy',\n",
        " 'splitted 100 trees_09.npy',\n",
        " 'splitted 100 trees_10.npy',\n",
        " 'splitted 100 trees_11.npy',\n",
        " 'splitted 100 trees_12.npy',\n",
        " 'splitted 100 trees_13.npy',\n",
        " 'splitted 100 trees_14.npy',\n",
        " 'splitted 100 trees_15.npy',\n",
        " 'splitted 100 trees_16.npy',\n",
        " 'splitted 100 trees_17.npy',\n",
        " 'splitted 100 trees_18.npy',\n",
        " 'splitted 100 trees_19.npy',\n",
        " 'splitted 100 trees_20.npy',\n",
        " 'splitted 100 trees_21.npy',\n",
        " 'splitted 100 trees_22.npy',\n",
        " 'splitted 100 trees_23.npy',\n",
        " 'splitted 100 trees_24.npy',\n",
        " 'splitted 100 trees_25.npy',\n",
        " 'splitted 100 trees_26.npy',\n",
        " 'splitted 100 trees_27.npy',\n",
        " 'splitted 100 trees_28.npy',\n",
        " 'splitted 100 trees_29.npy',\n",
        " 'splitted 100 trees_30.npy',\n",
        " 'splitted 100 trees_31.npy',\n",
        " 'splitted 100 trees_32.npy',\n",
        " 'splitted 100 trees_33.npy',\n",
        " 'splitted 100 trees_34.npy',\n",
        " 'splitted 100 trees_35.npy',\n",
        " 'splitted 100 trees_36.npy',\n",
        " 'splitted 100 trees_37.npy',\n",
        " 'splitted 100 trees_38.npy',\n",
        " 'splitted 100 trees_39.npy',\n",
        " 'splitted 100 trees_40.npy',\n",
        " 'splitted 100 trees_41.npy',\n",
        " 'splitted 100 trees_42.npy',\n",
        " 'splitted 100 trees_43.npy',\n",
        " 'splitted 100 trees_44.npy',\n",
        " 'splitted 100 trees_45.npy',\n",
        " 'splitted 100 trees_46.npy',\n",
        " 'splitted 100 trees_47.npy',\n",
        " 'splitted 100 trees_48.npy',\n",
        " 'splitted 100 trees_49.npy',\n",
        " 'splitted 100 trees_50.npy',\n",
        " 'splitted 100 trees_51.npy',\n",
        " 'splitted 100 trees_52.npy',\n",
        " 'splitted 100 trees_53.npy',\n",
        " 'splitted 100 trees_54.npy',\n",
        " 'splitted 100 trees_55.npy',\n",
        " 'splitted 100 trees_56.npy',\n",
        " 'splitted 100 trees_57.npy',\n",
        " 'splitted 100 trees_58.npy',\n",
        " 'splitted 100 trees_59.npy',\n",
        " 'splitted 100 trees_60.npy',\n",
        " 'splitted 100 trees_61.npy',\n",
        " 'splitted 100 trees_62.npy',\n",
        " 'splitted 100 trees_63.npy',\n",
        " 'splitted 100 trees_64.npy',\n",
        " 'splitted 100 trees_65.npy',\n",
        " 'splitted 100 trees_66.npy',\n",
        " 'splitted 100 trees_67.npy',\n",
        " 'splitted 100 trees_68.npy',\n",
        " 'splitted 100 trees_69.npy',\n",
        " 'splitted 100 trees_70.npy',\n",
        " 'splitted 100 trees_71.npy',\n",
        " 'splitted 100 trees_72.npy',\n",
        " 'splitted 100 trees_73.npy',\n",
        " 'splitted 100 trees_74.npy',\n",
        " 'splitted 100 trees_75.npy',\n",
        " 'splitted 100 trees_76.npy',\n",
        " 'splitted 100 trees_77.npy',\n",
        " 'splitted 100 trees_78.npy',\n",
        " 'splitted 100 trees_79.npy',\n",
        " 'splitted 100 trees_80.npy',\n",
        " 'splitted 100 trees_81.npy',\n",
        " 'splitted 100 trees_82.npy',\n",
        " 'splitted 100 trees_83.npy',\n",
        " 'splitted 100 trees_84.npy',\n",
        " 'splitted 100 trees_85.npy',\n",
        " 'splitted 100 trees_86.npy',\n",
        " 'splitted 100 trees_87.npy',\n",
        " 'splitted 100 trees_88.npy',\n",
        " 'splitted 100 trees_89.npy',\n",
        " 'splitted 100 trees_90.npy',\n",
        " 'splitted 100 trees_91.npy',\n",
        " 'splitted 100 trees_92.npy',\n",
        " 'splitted 100 trees_93.npy',\n",
        " 'splitted 100 trees_94.npy',\n",
        " 'splitted 100 trees_95.npy',\n",
        " 'splitted 100 trees_96.npy',\n",
        " 'splitted 100 trees_97.npy',\n",
        " 'splitted 100 trees_98.npy',\n",
        " 'splitted 100 trees_99.npy',\n",
        " 'splitted 100 trees_100.npy',\n",
        " 'splitted 100 trees_101.npy',\n",
        " 'splitted 100 trees_102.npy',\n",
        " 'splitted 100 trees_103.npy',\n",
        " 'splitted 100 trees_104.npy',\n",
        " 'splitted 100 trees_105.npy',\n",
        " 'splitted 100 trees_106.npy',\n",
        " 'splitted 100 trees_107.npy',\n",
        " 'splitted 100 trees_108.npy',\n",
        " 'splitted 100 trees_109.npy',\n",
        " 'splitted 100 trees_110.npy',\n",
        " 'splitted 100 trees_111.npy',\n",
        " 'splitted 100 trees_112.npy',\n",
        " 'splitted 100 trees_113.npy',\n",
        " 'splitted 100 trees_114.npy',\n",
        " 'splitted 100 trees_115.npy',\n",
        " 'splitted 100 trees_116.npy',\n",
        " 'splitted 100 trees_117.npy',\n",
        " 'splitted 100 trees_118.npy',\n",
        " 'splitted 100 trees_119.npy',\n",
        " 'splitted 100 trees_120.npy',\n",
        " 'splitted 100 trees_121.npy',\n",
        " 'splitted 100 trees_122.npy',\n",
        " 'splitted 100 trees_123.npy',\n",
        " 'splitted 100 trees_124.npy',\n",
        " 'splitted 100 trees_125.npy',\n",
        " 'splitted 100 trees_126.npy',\n",
        " 'splitted 100 trees_127.npy',\n",
        " 'splitted 100 trees_128.npy',\n",
        " 'splitted 100 trees_129.npy',\n",
        " 'splitted 100 trees_130.npy',\n",
        " 'splitted 100 trees_131.npy',\n",
        " 'splitted 100 trees_132.npy',\n",
        " 'splitted 100 trees_133.npy',\n",
        " 'splitted 100 trees_134.npy',\n",
        " 'splitted 100 trees_135.npy',\n",
        " 'splitted 100 trees_136.npy',\n",
        " 'splitted 100 trees_137.npy',\n",
        " 'splitted 100 trees_138.npy',\n",
        " 'splitted 100 trees_139.npy',\n",
        " 'splitted 100 trees_140.npy',\n",
        " 'splitted 100 trees_141.npy',\n",
        " 'splitted 100 trees_142.npy',\n",
        " 'splitted 100 trees_143.npy',\n",
        " 'splitted 100 trees_144.npy',\n",
        " 'splitted 100 trees_145.npy',\n",
        " 'splitted 100 trees_146.npy',\n",
        " 'splitted 100 trees_147.npy',\n",
        " 'splitted 100 trees_148.npy',\n",
        " 'splitted 100 trees_149.npy',\n",
        " 'splitted 100 trees_150.npy',\n",
        " 'splitted 100 trees_151.npy',\n",
        " 'splitted 100 trees_152.npy',\n",
        " 'splitted 100 trees_153.npy',\n",
        " 'splitted 100 trees_154.npy',\n",
        " 'splitted 100 trees_155.npy',\n",
        " 'splitted 100 trees_156.npy',\n",
        " 'splitted 100 trees_157.npy',\n",
        " 'splitted 100 trees_158.npy',\n",
        " 'splitted 100 trees_159.npy',\n",
        " 'splitted 100 trees_160.npy',\n",
        " 'splitted 100 trees_161.npy',\n",
        " 'splitted 100 trees_162.npy',\n",
        " 'splitted 100 trees_163.npy',\n",
        " 'splitted 100 trees_164.npy',\n",
        " 'splitted 100 trees_165.npy',\n",
        " 'splitted 100 trees_166.npy',\n",
        " 'splitted 100 trees_167.npy',\n",
        " 'splitted 100 trees_168.npy',\n",
        " 'splitted 100 trees_169.npy',\n",
        " 'splitted 100 trees_170.npy',\n",
        " 'splitted 100 trees_171.npy',\n",
        " 'splitted 100 trees_172.npy',\n",
        " 'splitted 100 trees_173.npy',\n",
        " 'splitted 100 trees_174.npy',\n",
        " 'splitted 100 trees_175.npy',\n",
        " 'splitted 100 trees_176.npy',\n",
        " 'splitted 100 trees_177.npy',\n",
        " 'splitted 100 trees_178.npy',\n",
        " 'splitted 100 trees_179.npy',\n",
        " 'splitted 100 trees_180.npy',\n",
        " 'splitted 100 trees_181.npy',\n",
        " 'splitted 100 trees_182.npy',\n",
        " 'splitted 100 trees_183.npy',\n",
        " 'splitted 100 trees_184.npy',\n",
        " 'splitted 100 trees_185.npy',\n",
        " 'splitted 100 trees_186.npy',\n",
        " 'splitted 100 trees_187.npy',\n",
        " 'splitted 100 trees_188.npy',\n",
        " 'splitted 100 trees_189.npy',\n",
        " 'splitted 100 trees_190.npy',\n",
        " 'splitted 100 trees_191.npy',\n",
        " 'splitted 100 trees_192.npy',\n",
        " 'splitted 100 trees_193.npy',\n",
        " 'splitted 100 trees_194.npy',\n",
        " 'splitted 100 trees_195.npy',\n",
        " 'splitted 100 trees_196.npy',\n",
        " 'splitted 100 trees_197.npy',\n",
        " 'splitted 100 trees_198.npy',\n",
        " 'splitted 100 trees_199.npy',\n",
        " 'splitted 100 trees_200.npy',\n",
        " 'splitted 100 trees_201.npy',\n",
        " 'splitted 100 trees_202.npy',\n",
        " 'splitted 100 trees_203.npy',\n",
        " 'splitted 100 trees_204.npy',\n",
        " 'splitted 100 trees_205.npy',\n",
        " 'splitted 100 trees_206.npy',\n",
        " 'splitted 100 trees_207.npy',\n",
        " 'splitted 100 trees_208.npy',\n",
        " 'splitted 100 trees_209.npy',\n",
        " 'splitted 100 trees_210.npy',\n",
        " 'splitted 100 trees_211.npy',\n",
        " 'splitted 100 trees_212.npy',\n",
        " 'splitted 100 trees_213.npy',\n",
        " 'splitted 100 trees_214.npy',\n",
        " 'splitted 100 trees_215.npy',\n",
        " 'splitted 100 trees_216.npy',\n",
        " 'splitted 100 trees_217.npy',\n",
        " 'splitted 100 trees_218.npy',\n",
        " 'splitted 100 trees_219.npy',\n",
        " 'splitted 100 trees_220.npy',\n",
        " 'splitted 100 trees_221.npy',\n",
        " 'splitted 100 trees_222.npy',\n",
        " 'splitted 100 trees_223.npy',\n",
        " 'splitted 100 trees_224.npy',\n",
        " 'splitted 100 trees_225.npy',\n",
        " 'splitted 100 trees_226.npy',\n",
        " 'splitted 100 trees_227.npy',\n",
        " 'splitted 100 trees_228.npy',\n",
        " 'splitted 100 trees_229.npy',\n",
        " 'splitted 100 trees_230.npy',\n",
        " 'splitted 100 trees_231.npy',\n",
        " 'splitted 100 trees_232.npy',\n",
        " 'splitted 100 trees_233.npy',\n",
        " 'splitted 100 trees_234.npy',\n",
        " 'splitted 100 trees_235.npy',\n",
        " 'splitted 100 trees_236.npy',\n",
        " 'splitted 100 trees_237.npy',\n",
        " 'splitted 100 trees_238.npy',\n",
        " 'splitted 100 trees_239.npy',\n",
        " 'splitted 100 trees_240.npy',\n",
        " 'splitted 100 trees_241.npy',\n",
        " 'splitted 100 trees_242.npy',\n",
        " 'splitted 100 trees_243.npy']"
       ]
      }
     ],
     "prompt_number": 65
    },
    {
     "cell_type": "code",
     "collapsed": false,
     "input": [],
     "language": "python",
     "metadata": {},
     "outputs": []
    }
   ],
   "metadata": {}
  }
 ]
}