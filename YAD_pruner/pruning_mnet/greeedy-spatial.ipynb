{
 "metadata": {
  "name": "",
  "signature": "sha256:0b9e4c87bae85d86dcfc313b5ee91a26c571a4e3cbf5e82718b72cae2126586e"
 },
 "nbformat": 3,
 "nbformat_minor": 0,
 "worksheets": [
  {
   "cells": [
    {
     "cell_type": "code",
     "collapsed": false,
     "input": [
      "# I explore the cuts of the features\n",
      "%matplotlib inline\n",
      "#\u0442\u0430\u043a \u0442\u043e\u0436\u0435 \u043c\u043e\u0436\u043d\u043e \u0440\u0435\u0448\u0438\u0442\u044c \u043f\u0440\u043e\u0431\u043b\u0435\u043c\u0443 \u0438\u043d\u043b\u0430\u0439\u043b\u0430 \u043f\u043b\u043e\u0442\u043e\u0432\n",
      "\n",
      "import _matrixnetapplier as mnet\n",
      "import numpy as numpy\n",
      "np = numpy\n",
      "import matplotlib.pyplot as plt\n",
      "import matplotlib.patches as mpatches\n",
      "from sklearn import metrics\n",
      "from sklearn.metrics import *"
     ],
     "language": "python",
     "metadata": {},
     "outputs": [],
     "prompt_number": 16
    },
    {
     "cell_type": "markdown",
     "metadata": {},
     "source": [
      "# Extracting the trained model"
     ]
    },
    {
     "cell_type": "code",
     "collapsed": false,
     "input": [
      "#extract ODT\n",
      "fstream = open('formula.mx','rb')\n",
      "classi = mnet.MatrixnetClassifier(fstream)\n",
      "fstream.close()"
     ],
     "language": "python",
     "metadata": {},
     "outputs": [],
     "prompt_number": 2
    },
    {
     "cell_type": "code",
     "collapsed": false,
     "input": [
      "#Get all the trees from .mx\n",
      "def get_trees(classi):\n",
      "    itr = classi.iterate_trees().next()\n",
      "    return itr, [tree for tree in itr[2]]"
     ],
     "language": "python",
     "metadata": {},
     "outputs": [],
     "prompt_number": 3
    },
    {
     "cell_type": "code",
     "collapsed": false,
     "input": [
      "itr,trees = get_trees(classi)\n",
      "n_features = len(classi.features)\n",
      "print itr"
     ],
     "language": "python",
     "metadata": {},
     "outputs": [
      {
       "output_type": "stream",
       "stream": "stdout",
       "text": [
        "(6, 10000, <generator object _iterate_over_trees_with_fixed_depth at 0x000000001AB97288>)\n"
       ]
      }
     ],
     "prompt_number": 28
    },
    {
     "cell_type": "markdown",
     "metadata": {},
     "source": [
      "# Loading dataset"
     ]
    },
    {
     "cell_type": "code",
     "collapsed": false,
     "input": [
      "#load training set\n",
      "def load_data(path):\n",
      "    print 'Loading training data.'\n",
      "    data = np.loadtxt(path, \\\n",
      "            delimiter=',', \\\n",
      "            skiprows=1, \\\n",
      "            converters={32: lambda x:int(x=='s'.encode('utf-8'))})\n",
      "\n",
      "    X = data[:,1:31]\n",
      "    Y = data[:,32]\n",
      "    W = data[:,31]\n",
      "    return X,Y,W"
     ],
     "language": "python",
     "metadata": {},
     "outputs": [],
     "prompt_number": 4
    },
    {
     "cell_type": "code",
     "collapsed": false,
     "input": [
      "X,Y,W = load_data(\"../data/training.csv\")"
     ],
     "language": "python",
     "metadata": {},
     "outputs": [
      {
       "output_type": "stream",
       "stream": "stdout",
       "text": [
        "Loading training data.\n"
       ]
      }
     ],
     "prompt_number": 5
    },
    {
     "cell_type": "code",
     "collapsed": false,
     "input": [
      "from sklearn.cross_validation import train_test_split\n",
      "Xtr,Xts,Ytr,Yts,Wtr,Wts = train_test_split(X, Y, W, train_size=0.51, random_state=42)"
     ],
     "language": "python",
     "metadata": {},
     "outputs": [],
     "prompt_number": 18
    },
    {
     "cell_type": "markdown",
     "metadata": {},
     "source": [
      "#sanity check"
     ]
    },
    {
     "cell_type": "code",
     "collapsed": false,
     "input": [
      "def compute_ams_on_cuts(answers, predictions, sample_weight):\n",
      "    \"\"\" Predictions are probabilities\"\"\"\n",
      "    b, s, thresholds = roc_curve(answers, predictions, sample_weight=sample_weight)\n",
      "    # normalization constants\n",
      "    real_s = 691.988607712\n",
      "    real_b = 410999.847322\n",
      "    s *= real_s\n",
      "    b *= real_b\n",
      "    br = 10.\n",
      "    radicands = 2 * ((s + b + br) * numpy.log(1.0 + s/(b + br)) - s)\n",
      "    return thresholds, radicands\n",
      "\n",
      "def optimal_AMS(answers, predictions, sample_weight):\n",
      "    \"\"\" Predictions are probabilities \"\"\"\n",
      "    cuts, radicands = compute_ams_on_cuts(answers, predictions, sample_weight)\n",
      "    return numpy.sqrt(numpy.max(radicands))\n",
      "\n",
      "\n",
      "def precisionAt15(answers, predictions, sample_weight, percent=0.15):\n",
      "    n_passed = int(len(answers) * percent)\n",
      "    RATIO = 50\n",
      "    weight = sample_weight.copy()\n",
      "    weight[answers == 0] /= weight[answers == 0].mean() / RATIO\n",
      "    weight[answers == 1] /= weight[answers == 1].mean()\n",
      "    order = numpy.argsort(-predictions)\n",
      "    passed = order[:n_passed]    \n",
      "    return numpy.average(answers[passed], weights=weight[passed])"
     ],
     "language": "python",
     "metadata": {},
     "outputs": [],
     "prompt_number": 19
    },
    {
     "cell_type": "code",
     "collapsed": false,
     "input": [
      "def print_control_metrics(proba_test, proba_train):\n",
      "    for name, metric in [('ROC', metrics.roc_auc_score), ('AMS', optimal_AMS), ('precision', precisionAt15)]:\n",
      "        print name,\n",
      "        print metric(Yts, proba_test, sample_weight=Wts), \n",
      "        print metric(Ytr, proba_train, sample_weight=Wtr)"
     ],
     "language": "python",
     "metadata": {},
     "outputs": [
      {
       "output_type": "stream",
       "stream": "stdout",
       "text": [
        "\n"
       ]
      }
     ],
     "prompt_number": 22
    },
    {
     "cell_type": "code",
     "collapsed": false,
     "input": [
      "print_control_metrics(predict(trees,Xts),predict(trees,Xtr))"
     ],
     "language": "python",
     "metadata": {},
     "outputs": [
      {
       "output_type": "stream",
       "stream": "stdout",
       "text": [
        "ROC "
       ]
      },
      {
       "output_type": "stream",
       "stream": "stdout",
       "text": [
        "0.935834322801 "
       ]
      },
      {
       "output_type": "stream",
       "stream": "stdout",
       "text": [
        "0.961031841221\n",
        "AMS "
       ]
      },
      {
       "output_type": "stream",
       "stream": "stdout",
       "text": [
        "3.71746365006 "
       ]
      },
      {
       "output_type": "stream",
       "stream": "stdout",
       "text": [
        "5.41899018231\n",
        "precision 0.266316147498 "
       ]
      },
      {
       "output_type": "stream",
       "stream": "stdout",
       "text": [
        "0.394846517557\n"
       ]
      }
     ],
     "prompt_number": 29
    },
    {
     "cell_type": "markdown",
     "metadata": {},
     "source": [
      "# greedy pruning for the whole data"
     ]
    },
    {
     "cell_type": "code",
     "collapsed": false,
     "input": [
      "#in the ideal world, i would have merged em with the top line imports, but luckily, i'm in real world\n",
      "import copy\n",
      "import sklearn.metrics as metrics\n",
      "import scipy as sp\n",
      "import random\n",
      "#and some of these...\n",
      "import math\n",
      "import pandas as pd\n",
      "from sklearn.externals import joblib\n",
      "steve = joblib\n",
      "from sklearn.cross_validation import *\n",
      "from sklearn.decomposition import *\n",
      "from sklearn.ensemble import *\n",
      "from sklearn.feature_selection import *\n",
      "from sklearn.grid_search import *\n",
      "from sklearn.linear_model import *\n",
      "from sklearn.metrics import *\n",
      "from sklearn.preprocessing import *\n",
      "from sklearn.pipeline import *\n",
      "from sklearn.svm import *\n",
      "from sklearn.tree import *\n",
      "from sklearn.ensemble.gradient_boosting import *\n",
      "from sklearn.utils import check_arrays\n",
      "from sklearn.ensemble._gradient_boosting import predict_stages\n",
      "import matplotlib.pyplot as plt"
     ],
     "language": "python",
     "metadata": {},
     "outputs": [],
     "prompt_number": 30
    },
    {
     "cell_type": "code",
     "collapsed": false,
     "input": [
      "#predict with the trees boost\n",
      "def predict(trees, X):\n",
      "    '''\n",
      "    make real-value predictions using sklearn gradient_boosting.predict_stages\n",
      "    '''\n",
      "    if len(trees) ==0:\n",
      "        return np.zeros(X.shape[0])\n",
      "    #i don't think that i can write as effectively with my time bounds. Copypaste\n",
      "    def apply_separately(events,bias = 0):\n",
      "        \"\"\"\n",
      "        :param events: numpy.array (or DataFrame) of shape [n_samples, n_features]\n",
      "        :return: each time yields numpy.array predictions of shape [n_samples]\n",
      "            which is output of a particular tree\n",
      "        \"\"\"\n",
      "        # result of first iteration\n",
      "        yield numpy.zeros(len(events), dtype=float) + bias\n",
      "\n",
      "        # extending the data so the number of events is divisible by 8\n",
      "        n_events = len(events)\n",
      "        n_extended64 = (n_events + 7) // 8\n",
      "        n_extended = n_extended64 * 8\n",
      "\n",
      "        # using Fortran order (surprisingly doesn't seem to influence speed much)\n",
      "        features = numpy.zeros([n_extended, events.shape[1]], dtype='float32', order='F')\n",
      "        features[:n_events, :] = events\n",
      "\n",
      "        tree_depth = len(trees[0][0])\n",
      "        nf_count = len(trees)\n",
      "        for tree_features, tree_cuts, leaf_values in trees:\n",
      "            leaf_indices = numpy.zeros(n_extended64, dtype='int64')\n",
      "            for tree_level, (feature, cut) in enumerate(zip(tree_features, tree_cuts)):\n",
      "                leaf_indices |= (features[:, feature] > cut).view('int64') << tree_level\n",
      "            yield leaf_values[leaf_indices.view('int8')[:n_events]]\n",
      "    \n",
      "    \n",
      "    events = X\n",
      "    result = numpy.zeros(len(events), dtype=float)\n",
      "    for stage_predictions in apply_separately(events):\n",
      "        result += stage_predictions\n",
      "    return result"
     ],
     "language": "python",
     "metadata": {},
     "outputs": [],
     "prompt_number": 31
    },
    {
     "cell_type": "code",
     "collapsed": false,
     "input": [
      "def logloss(actual, pred):\n",
      "    \"\"\"\n",
      "    i know it isn't\n",
      "    \"\"\"\n",
      "    return actual - sp.special.expit(pred.reshape(pred.shape[0]))"
     ],
     "language": "python",
     "metadata": {},
     "outputs": [],
     "prompt_number": 32
    },
    {
     "cell_type": "code",
     "collapsed": false,
     "input": [
      "def update_leaves(X,residual,tree,lrate):\n",
      "    '''\n",
      "    update leaf values via... placing the residual there...\n",
      "    '''\n",
      "    \n",
      "    events = X\n",
      "    tree_features, tree_cuts, leaf_values = tree\n",
      "    tree_depth = len(tree[0])\n",
      "    n_events = len(events)\n",
      "    n_extended64 = (n_events + 7) // 8\n",
      "    n_extended = n_extended64 * 8\n",
      "    \n",
      "    # using Fortran order (surprisingly doesn't seem to influence speed much)\n",
      "    features = numpy.zeros([n_extended, events.shape[1]], dtype='float32', order='F')\n",
      "    features[:n_events, :] = events\n",
      "    \n",
      "    leaf_indices = numpy.zeros(n_extended64, dtype='int64')\n",
      "    for tree_level, (feature, cut) in enumerate(zip(tree_features, tree_cuts)):\n",
      "        leaf_indices |= (features[:, feature] > cut).view('int64') << tree_level\n",
      "    \n",
      "    \n",
      "    leaf_values = tree[2]*0\n",
      "    \n",
      "    leaf_indices =leaf_indices.view('int8')[:n_events]\n",
      "\n",
      "    \n",
      "    normalizers = np.zeros(leaf_indices.shape[0])\n",
      "    for i in xrange(leaf_indices.shape[0]):\n",
      "        leaf_ind = leaf_indices[i]\n",
      "        leaf_values[leaf_ind] += residual[i]\n",
      "        normalizers[leaf_ind] += 1\n",
      "    \n",
      "    #alarma! i aint entirely mathematical\n",
      "    leaf_values[normalizers != 0] /= normalizers[normalizers !=0]\n",
      "    \n",
      "    newtree = tuple([copy.copy(i) for i in tree[:2]] + [leaf_values*lrate])\n",
      "\n",
      "    return newtree"
     ],
     "language": "python",
     "metadata": {},
     "outputs": [],
     "prompt_number": 33
    },
    {
     "cell_type": "code",
     "collapsed": false,
     "input": [
      "def inthread_try_add(bunchMembers,tree,loss,X,residual,y,y_pred,learning_rate):\n",
      "        newTree = update_leaves(X,residual,tree,learning_rate)\n",
      "        newPred = y_pred + predict([newTree],X).reshape(y_pred.shape)\n",
      "        return sum(abs(loss(y,newPred)))/y.shape[0],newTree\n",
      "#mb use sklearn metrics-compatible lossfun?\n",
      "\n",
      "def try_add1_bfs(bunchMembers, remainingTrees,X,y,learning_rate,loss,breadth):\n",
      "    '''\n",
      "    select best tree to add (1 step)\n",
      "    '''\n",
      "    X = array2d(X, dtype=DTYPE, order=\"C\")\n",
      "\n",
      "    y_pred = predict(bunchMembers,X).reshape(len(y),1)\n",
      "    \n",
      "\n",
      "    residual = loss(y,y_pred)\n",
      "    \n",
      "    pairs = [\n",
      "                    inthread_try_add(bunchMembers,remainingTrees[t],loss,X,residual,y,y_pred,learning_rate)\n",
      "                    for t in xrange(remainingTrees.shape[0])]   \n",
      "   \n",
      "    pairs.sort(key = lambda el: el[0])\n",
      "    \n",
      "    bunches = []\n",
      "    for pair in pairs[:breadth]:\n",
      "        tree = pair[1]\n",
      "        bunch = bunchMembers+[tree]\n",
      "        bunches.append(bunch)\n",
      "\n",
      "    return bunches,[pair[1] for pair in pairs[:breadth]],[pair[0] for pair in pairs[:breadth]]"
     ],
     "language": "python",
     "metadata": {},
     "outputs": [],
     "prompt_number": 34
    },
    {
     "cell_type": "code",
     "collapsed": false,
     "input": [
      "def greed_up_features_bfs (trees,\n",
      "                           X,y,\n",
      "                           learning_rate,\n",
      "                           loss,\n",
      "                           breadth,\n",
      "                           nTrees,\n",
      "                           trees_sample_size,\n",
      "                           verbose = True,\n",
      "                           learning_rate_decay = 1.,\n",
      "                           trees_sample_increase = 0):\n",
      "    \"\"\"\n",
      "    Iterative BFS over best ADD-1 results for [nTrees] iterations\n",
      "    \"\"\"\n",
      "    #compatibility stuff\n",
      "    if 0 not in y:\n",
      "        return (key,1)\n",
      "    if 1 not in y:\n",
      "        return (key,0)\n",
      "    alltrees = copy.copy(trees)\n",
      "    \n",
      "    trees_sample = np.array(random.sample(alltrees,trees_sample_size))\n",
      "    bunches,additions,losses = try_add1_bfs([],trees_sample,X,y,learning_rate,loss,breadth)\n",
      "    \n",
      "    bestScore = min(losses)\n",
      "    \n",
      "    if verbose:\n",
      "        print \"\\niteration #\",0,\" ntrees = \", len(bunches[0]),\"\\nbest loss = \",bestScore\n",
      "        print \"learning_rate = \", learning_rate\n",
      "        print \"sample_size\", trees_sample_size\n",
      "\n",
      "    \n",
      "    itr = 0\n",
      "    while len(bunches[0]) <nTrees:\n",
      "        itr+=1\n",
      "        newBunches = []    \n",
      "        newScores = []\n",
      "        #for shared memo:\n",
      "        #triples = steve.Parallel(njobs = nthreads)(\n",
      "        #        steve.delayed([try_add1_bfs(bunch,alltrees,X,y,GB,breadth)\n",
      "        #                            for bunch in bunches])\n",
      "        for bunch in bunches:\n",
      "            trees_sample = np.array(random.sample(alltrees,trees_sample_size))\n",
      "            bunches,additions,losses = try_add1_bfs(bunch,trees_sample,X,y,learning_rate,loss,breadth)\n",
      "            #DELIBERATELY not excluding from remainingTrees the trees that are in batch\n",
      "            #because we are adjusting leaves anyway and one trees may be used  multiple\n",
      "            #times with different leaf adjustments.\n",
      "            newBunches+=bunches\n",
      "            newScores += losses\n",
      "            \n",
      "        learning_rate *= learning_rate_decay\n",
      "        trees_sample_size = min(len(alltrees),trees_sample_size + trees_sample_increase)\n",
      "            \n",
      "        pairs = [(newScores[i],newBunches[i]) for i in xrange(len(newBunches))]\n",
      "        pairs.sort(key = lambda el: el[0])\n",
      "        bunches = [pair[1] for pair in pairs[:breadth]]\n",
      "        \n",
      "        \n",
      "        newBestScore = min(newScores)\n",
      "        if newBestScore > bestScore:\n",
      "            bunches = [bnch[:-1] for bnch in bunches]\n",
      "            learning_rate /=2.\n",
      "            if learning_rate < 0.00001:\n",
      "                break\n",
      "        else: bestScore = newBestScore\n",
      "        \n",
      "        \n",
      "        if verbose:\n",
      "            print \"\\niteration #\",itr,\" ntrees = \", len(bunches[0]),\"\\nbest loss = \", bestScore,\"\\nlast loss = \",newBestScore\n",
      "\n",
      "            print \"learning_rate = \", learning_rate\n",
      "            print \"sample_size\", trees_sample_size\n",
      "            \n",
      "    return bunches[0]"
     ],
     "language": "python",
     "metadata": {},
     "outputs": [],
     "prompt_number": 35
    },
    {
     "cell_type": "code",
     "collapsed": false,
     "input": [
      "res_greedy = greed_up_features_bfs(trees,Xtr,Ytr,1.,logloss,1,10,200,True,0.99,0)"
     ],
     "language": "python",
     "metadata": {},
     "outputs": [
      {
       "output_type": "stream",
       "stream": "stdout",
       "text": [
        "\n",
        "iteration # 0  ntrees =  1 \n",
        "best loss =  0.447122399725\n",
        "learning_rate =  1.0\n",
        "sample_size 200\n",
        "\n",
        "iteration #"
       ]
      },
      {
       "output_type": "stream",
       "stream": "stdout",
       "text": [
        " 1  ntrees =  2 \n",
        "best loss =  0.41078714637 \n",
        "last loss =  0.41078714637\n",
        "learning_rate =  0.99\n",
        "sample_size 200\n",
        "\n",
        "iteration #"
       ]
      },
      {
       "output_type": "stream",
       "stream": "stdout",
       "text": [
        " 2  ntrees =  3 \n",
        "best loss =  0.381934113905 \n",
        "last loss =  0.381934113905\n",
        "learning_rate =  0.9801\n",
        "sample_size 200\n",
        "\n",
        "iteration #"
       ]
      },
      {
       "output_type": "stream",
       "stream": "stdout",
       "text": [
        " 3  ntrees =  4 \n",
        "best loss =  0.361146537278 \n",
        "last loss =  0.361146537278\n",
        "learning_rate =  0.970299\n",
        "sample_size 200\n",
        "\n",
        "iteration #"
       ]
      },
      {
       "output_type": "stream",
       "stream": "stdout",
       "text": [
        " 4  ntrees =  5 \n",
        "best loss =  0.345321183759 \n",
        "last loss =  0.345321183759\n",
        "learning_rate =  0.96059601\n",
        "sample_size 200\n",
        "\n",
        "iteration #"
       ]
      },
      {
       "output_type": "stream",
       "stream": "stdout",
       "text": [
        " 5  ntrees =  6 \n",
        "best loss =  0.33324029056 \n",
        "last loss =  0.33324029056\n",
        "learning_rate =  0.9509900499\n",
        "sample_size 200\n",
        "\n",
        "iteration #"
       ]
      },
      {
       "output_type": "stream",
       "stream": "stdout",
       "text": [
        " 6  ntrees =  7 \n",
        "best loss =  0.323531480343 \n",
        "last loss =  0.323531480343\n",
        "learning_rate =  0.941480149401\n",
        "sample_size 200\n",
        "\n",
        "iteration #"
       ]
      },
      {
       "output_type": "stream",
       "stream": "stdout",
       "text": [
        " 7  ntrees =  8 \n",
        "best loss =  0.315779364734 \n",
        "last loss =  0.315779364734\n",
        "learning_rate =  0.932065347907\n",
        "sample_size 200\n",
        "\n",
        "iteration #"
       ]
      },
      {
       "output_type": "stream",
       "stream": "stdout",
       "text": [
        " 8  ntrees =  9 \n",
        "best loss =  0.309132391564 \n",
        "last loss =  0.309132391564\n",
        "learning_rate =  0.922744694428\n",
        "sample_size 200\n",
        "\n",
        "iteration #"
       ]
      },
      {
       "output_type": "stream",
       "stream": "stdout",
       "text": [
        " 9  ntrees =  10 \n",
        "best loss =  0.303200070526 \n",
        "last loss =  0.303200070526\n",
        "learning_rate =  0.913517247484\n",
        "sample_size 200\n"
       ]
      }
     ],
     "prompt_number": 37
    },
    {
     "cell_type": "code",
     "collapsed": false,
     "input": [
      "y_pred_greedy = predict(res_greedy,Xts)\n",
      "y_pred_stupid = predict(trees[:10],Xts)\n",
      "y_pred_full = predict(trees,Xts)"
     ],
     "language": "python",
     "metadata": {},
     "outputs": [],
     "prompt_number": 39
    },
    {
     "cell_type": "code",
     "collapsed": false,
     "input": [
      "print metrics.roc_auc_score(Yts,y_pred_greedy),metrics.roc_auc_score(Yts,y_pred_stupid),metrics.roc_auc_score(Yts,y_pred_full)\n",
      "print \"well...\""
     ],
     "language": "python",
     "metadata": {},
     "outputs": [
      {
       "output_type": "stream",
       "stream": "stdout",
       "text": [
        "0.88082191569 "
       ]
      },
      {
       "output_type": "stream",
       "stream": "stdout",
       "text": [
        "0.847246698864 "
       ]
      },
      {
       "output_type": "stream",
       "stream": "stdout",
       "text": [
        "0.901005969824\n",
        "well...\n"
       ]
      }
     ],
     "prompt_number": 40
    },
    {
     "cell_type": "code",
     "collapsed": false,
     "input": [
      "joblib.dump(res_greedy,\"greedy 10 trees\")"
     ],
     "language": "python",
     "metadata": {},
     "outputs": [
      {
       "metadata": {},
       "output_type": "pyout",
       "prompt_number": 41,
       "text": [
        "['greedy 10 trees',\n",
        " 'greedy 10 trees_01.npy',\n",
        " 'greedy 10 trees_02.npy',\n",
        " 'greedy 10 trees_03.npy',\n",
        " 'greedy 10 trees_04.npy',\n",
        " 'greedy 10 trees_05.npy',\n",
        " 'greedy 10 trees_06.npy',\n",
        " 'greedy 10 trees_07.npy',\n",
        " 'greedy 10 trees_08.npy',\n",
        " 'greedy 10 trees_09.npy',\n",
        " 'greedy 10 trees_10.npy',\n",
        " 'greedy 10 trees_11.npy',\n",
        " 'greedy 10 trees_12.npy',\n",
        " 'greedy 10 trees_13.npy',\n",
        " 'greedy 10 trees_14.npy',\n",
        " 'greedy 10 trees_15.npy',\n",
        " 'greedy 10 trees_16.npy',\n",
        " 'greedy 10 trees_17.npy',\n",
        " 'greedy 10 trees_18.npy',\n",
        " 'greedy 10 trees_19.npy',\n",
        " 'greedy 10 trees_20.npy',\n",
        " 'greedy 10 trees_21.npy',\n",
        " 'greedy 10 trees_22.npy',\n",
        " 'greedy 10 trees_23.npy',\n",
        " 'greedy 10 trees_24.npy',\n",
        " 'greedy 10 trees_25.npy',\n",
        " 'greedy 10 trees_26.npy',\n",
        " 'greedy 10 trees_27.npy',\n",
        " 'greedy 10 trees_28.npy',\n",
        " 'greedy 10 trees_29.npy',\n",
        " 'greedy 10 trees_30.npy']"
       ]
      }
     ],
     "prompt_number": 41
    },
    {
     "cell_type": "markdown",
     "metadata": {},
     "source": [
      "The roc curves are at the bottom"
     ]
    },
    {
     "cell_type": "markdown",
     "metadata": {},
     "source": [
      "# Upper level thresholds extraction"
     ]
    },
    {
     "cell_type": "code",
     "collapsed": false,
     "input": [
      "#thresholds extraction\n",
      "cuts = lambda feature: reduce(np.append,[tree[1][tree[0] == feature] for tree in  trees])"
     ],
     "language": "python",
     "metadata": {},
     "outputs": [],
     "prompt_number": 46
    },
    {
     "cell_type": "code",
     "collapsed": false,
     "input": [
      "def get_inclusion(feature,tolerance=0.):\n",
      "    \"\"\"\n",
      "    Get the inclusion counts of thresholds\n",
      "    \"\"\"\n",
      "    thresholds = cuts(feature)\n",
      "    tolerance *= np.var(thresholds)\n",
      "    thrs = { threshold: len(filter(\n",
      "                                lambda thr: abs(thr - threshold) <= tolerance,\n",
      "                                thresholds)\n",
      "                           )\n",
      "            for threshold in set(thresholds)}\n",
      "    return thrs"
     ],
     "language": "python",
     "metadata": {},
     "outputs": [],
     "prompt_number": 43
    },
    {
     "cell_type": "code",
     "collapsed": false,
     "input": [
      "best = {i:get_inclusion(i,0.001) for i in range(30)}"
     ],
     "language": "python",
     "metadata": {},
     "outputs": [],
     "prompt_number": 45
    },
    {
     "cell_type": "code",
     "collapsed": false,
     "input": [
      "#usability distribution\n",
      "thresholds = reduce(np.append,[zip(np.repeat(i,len(best[i])),best[i].keys(),best[i].values()) for i in best])\n",
      "thresholds = thresholds.reshape(thresholds.shape[0]/3,3)"
     ],
     "language": "python",
     "metadata": {},
     "outputs": [],
     "prompt_number": 47
    },
    {
     "cell_type": "code",
     "collapsed": false,
     "input": [
      "plt.scatter(range(len(thresholds)),thresholds[:,2])\n",
      "print sum(thresholds[:,2] >150)"
     ],
     "language": "python",
     "metadata": {},
     "outputs": [
      {
       "output_type": "stream",
       "stream": "stdout",
       "text": [
        "96\n"
       ]
      },
      {
       "metadata": {},
       "output_type": "display_data",
       "png": "[encoded data removed]",
       "text": [
        "<matplotlib.figure.Figure at 0x24a83e80>"
       ]
      }
     ],
     "prompt_number": 48
    },
    {
     "cell_type": "markdown",
     "metadata": {},
     "source": [
      "# Criteria selection"
     ]
    },
    {
     "cell_type": "code",
     "collapsed": false,
     "input": [
      "def entropy(distribution):\n",
      "    \"\"\"just some entropy\"\"\"\n",
      "    logs = np.array(map(np.log,distribution))\n",
      "    logs[distribution ==0] = 0\n",
      "    return -sum(distribution*logs)"
     ],
     "language": "python",
     "metadata": {},
     "outputs": [],
     "prompt_number": 49
    },
    {
     "cell_type": "code",
     "collapsed": false,
     "input": [
      "def select_criteria(X, thresholds_active,depth,verbose = True):\n",
      "    \"\"\"\n",
      "    I find the most _even_ dichotomies of a given depth among the given thresholds... greedily\n",
      "    \"\"\"\n",
      "    leaves = {\"\":X}\n",
      "    criteria = []\n",
      "\n",
      "    old_leaves = copy.copy(leaves) #backup in case you're to lazy to restore em\n",
      "\n",
      "    for i in range(depth):\n",
      "        entropies = []\n",
      "        for feature,cut,_ in thresholds_active:\n",
      "            split_distribution = []\n",
      "            for leaf in leaves:\n",
      "                subsample = leaves[leaf]\n",
      "                predicate = (subsample[:,feature] > cut)\n",
      "                trues = sum(predicate)\n",
      "\n",
      "                split_distribution.append(trues)\n",
      "                split_distribution.append(subsample.shape[0] - trues)\n",
      "            split_distribution = np.array(split_distribution)/float(X.shape[0])\n",
      "            entropies.append( entropy(split_distribution))\n",
      "\n",
      "        feature,cut,_ = criterion = thresholds_active[entropies.index(max(entropies))]\n",
      "        new_leaves = {}\n",
      "        for leaf in leaves:\n",
      "            subsample = leaves[leaf]\n",
      "            predicate = (subsample[:,feature] > cut)\n",
      "            new_leaves[leaf+\"1\"] = subsample[predicate]\n",
      "            new_leaves[leaf+\"0\"] = subsample[predicate == False]\n",
      "\n",
      "        leaves = new_leaves    \n",
      "        criteria.append(criterion)\n",
      "        if verbose:\n",
      "            print [leaves[i].shape[0] for i in leaves]\n",
      "    return criteria"
     ],
     "language": "python",
     "metadata": {},
     "outputs": [],
     "prompt_number": 50
    },
    {
     "cell_type": "code",
     "collapsed": false,
     "input": [
      "#get them...\n",
      "thresholds_active = thresholds[thresholds[:,2]>100]\n",
      "print len(thresholds_active)\n",
      "criteria = select_criteria(Xtr,thresholds_active,3,True)"
     ],
     "language": "python",
     "metadata": {},
     "outputs": [
      {
       "output_type": "stream",
       "stream": "stdout",
       "text": [
        "190\n",
        "[63537L, 63963L]"
       ]
      },
      {
       "output_type": "stream",
       "stream": "stdout",
       "text": [
        "\n",
        "[28199L, 35338L, 26536L, 37427L]"
       ]
      },
      {
       "output_type": "stream",
       "stream": "stdout",
       "text": [
        "\n",
        "[24747L, 12680L, 14953L, 11583L, 14351L, 13848L, 11800L, 23538L]"
       ]
      },
      {
       "output_type": "stream",
       "stream": "stdout",
       "text": [
        "\n"
       ]
      }
     ],
     "prompt_number": 51
    },
    {
     "cell_type": "code",
     "collapsed": false,
     "input": [
      "def split_upper(X,Y,criterea):\n",
      "    \"\"\"\n",
      "    I split the data into the leaves of the upper level ODT given it's criterea\n",
      "    \"\"\"\n",
      "    X_split = {'':X}\n",
      "    y_split = {'':Y}\n",
      "    for criterion in criteria:\n",
      "        feature,cut= criterion[0],criterion[1]\n",
      "        X_split_new = {}\n",
      "        y_split_new = {}\n",
      "        for splt in X_split:\n",
      "            dichotomy = X_split[splt][:,feature]> cut\n",
      "            X_split_new[splt+'1'] = X_split[splt][dichotomy]\n",
      "            X_split_new[splt+'0'] = X_split[splt][dichotomy == False]\n",
      "            y_split_new[splt+'1'] = y_split[splt][dichotomy]\n",
      "            y_split_new[splt+'0'] = y_split[splt][dichotomy == False]\n",
      "        X_split = X_split_new\n",
      "        y_split = y_split_new\n",
      "    return X_split,y_split"
     ],
     "language": "python",
     "metadata": {},
     "outputs": [],
     "prompt_number": 52
    },
    {
     "cell_type": "code",
     "collapsed": false,
     "input": [
      "X_split,Y_split = split_upper(Xtr,Ytr,criteria)\n",
      "print [X_split[i].shape[0] for i in X_split]"
     ],
     "language": "python",
     "metadata": {},
     "outputs": [
      {
       "output_type": "stream",
       "stream": "stdout",
       "text": [
        "[24747L, 12680L, 14953L, 11583L, 14351L, 13848L, 11800L, 23538L]\n"
       ]
      }
     ],
     "prompt_number": 53
    },
    {
     "cell_type": "code",
     "collapsed": false,
     "input": [
      "def train_splitted_boosts( trees,\n",
      "                           X_split,Y_split,\n",
      "                           learning_rate,\n",
      "                           loss,\n",
      "                           breadth,\n",
      "                           nTrees_leaf,\n",
      "                           trees_sample_size,\n",
      "                           verbose = True,\n",
      "                           learning_rate_decay = 1.,\n",
      "                           trees_sample_increase = 0):\n",
      "    \"\"\"\n",
      "    make greedy prune for every leaf in split\n",
      "    \"\"\"\n",
      "    leaves = X_split.keys()\n",
      "    dataPairs = [(X_split[s],Y_split[s]) for s in leaves]\n",
      "    \n",
      "    classis = []\n",
      "    for i in range(len(leaves)):\n",
      "        X_,y_ = dataPairs[i]\n",
      "        if verbose:\n",
      "            print \"\\n\\nNow training leaf \",leaves[i], i+1,\"/\",len(leaves)\n",
      "            print \"n_ samples at leaf = \", X_.shape[0]\n",
      "        classis.append(greed_up_features_bfs(\n",
      "                           trees,\n",
      "                           X_,y_,\n",
      "                           learning_rate,\n",
      "                           loss,\n",
      "                           breadth,\n",
      "                           nTrees_leaf,\n",
      "                           trees_sample_size,\n",
      "                           verbose,\n",
      "                           learning_rate_decay,\n",
      "                           trees_sample_increase\n",
      "                           ))\n",
      "    #same stuff in JL\n",
      "    #tasks = [joblib.delayed(greed_up_features_bfs)(\n",
      "    #                       trees,\n",
      "    #                       X_,y_,\n",
      "    #                       learning_rate,\n",
      "    #                       loss,\n",
      "    #                       breadth,\n",
      "    #                       nTrees_leaf,\n",
      "    #                       trees_sample_size,\n",
      "    #                       verbose,\n",
      "    #                       learning_rate_decay,\n",
      "    #                       trees_sample_increase\n",
      "    #                       ) for X_,y_ in dataPairs]\n",
      "    #classis = joblib.Parallel(n_jobs = -1)(tasks)\n",
      "\n",
      "    return {leaves[i]:classis[i] for i in range(len(leaves))}"
     ],
     "language": "python",
     "metadata": {},
     "outputs": [],
     "prompt_number": 54
    },
    {
     "cell_type": "code",
     "collapsed": false,
     "input": [
      "trees_splitted = train_splitted_boosts(trees, X_split,Y_split,1.,logloss,1,10,200,True,0.99)"
     ],
     "language": "python",
     "metadata": {},
     "outputs": [
      {
       "output_type": "stream",
       "stream": "stdout",
       "text": [
        "\n",
        "\n",
        "Now training leaf  010 1 / 8\n",
        "n_ samples at leaf =  24747\n",
        "\n",
        "iteration #"
       ]
      },
      {
       "output_type": "stream",
       "stream": "stdout",
       "text": [
        " 0  ntrees =  1 \n",
        "best loss =  0.409129075933\n",
        "learning_rate =  1.0\n",
        "sample_size 200\n",
        "\n",
        "iteration #"
       ]
      },
      {
       "output_type": "stream",
       "stream": "stdout",
       "text": [
        " 1  ntrees =  2 \n",
        "best loss =  0.345530085714 \n",
        "last loss =  0.345530085714\n",
        "learning_rate =  0.99\n",
        "sample_size 200\n",
        "\n",
        "iteration #"
       ]
      },
      {
       "output_type": "stream",
       "stream": "stdout",
       "text": [
        " 2  ntrees =  3 \n",
        "best loss =  0.301678256927 \n",
        "last loss =  0.301678256927\n",
        "learning_rate =  0.9801\n",
        "sample_size 200\n",
        "\n",
        "iteration #"
       ]
      },
      {
       "output_type": "stream",
       "stream": "stdout",
       "text": [
        " 3  ntrees =  4 \n",
        "best loss =  0.270247396495 \n",
        "last loss =  0.270247396495\n",
        "learning_rate =  0.970299\n",
        "sample_size 200\n",
        "\n",
        "iteration #"
       ]
      },
      {
       "output_type": "stream",
       "stream": "stdout",
       "text": [
        " 4  ntrees =  5 \n",
        "best loss =  0.247314820232 \n",
        "last loss =  0.247314820232\n",
        "learning_rate =  0.96059601\n",
        "sample_size 200\n",
        "\n",
        "iteration #"
       ]
      },
      {
       "output_type": "stream",
       "stream": "stdout",
       "text": [
        " 5  ntrees =  6 \n",
        "best loss =  0.229776180923 \n",
        "last loss =  0.229776180923\n",
        "learning_rate =  0.9509900499\n",
        "sample_size 200\n",
        "\n",
        "iteration #"
       ]
      },
      {
       "output_type": "stream",
       "stream": "stdout",
       "text": [
        " 6  ntrees =  7 \n",
        "best loss =  0.215798372426 \n",
        "last loss =  0.215798372426\n",
        "learning_rate =  0.941480149401\n",
        "sample_size 200\n",
        "\n",
        "iteration #"
       ]
      },
      {
       "output_type": "stream",
       "stream": "stdout",
       "text": [
        " 7  ntrees =  8 \n",
        "best loss =  0.204689968368 \n",
        "last loss =  0.204689968368\n",
        "learning_rate =  0.932065347907\n",
        "sample_size 200\n",
        "\n",
        "iteration #"
       ]
      },
      {
       "output_type": "stream",
       "stream": "stdout",
       "text": [
        " 8  ntrees =  9 \n",
        "best loss =  0.195556884373 \n",
        "last loss =  0.195556884373\n",
        "learning_rate =  0.922744694428\n",
        "sample_size 200\n",
        "\n",
        "iteration #"
       ]
      },
      {
       "output_type": "stream",
       "stream": "stdout",
       "text": [
        " 9  ntrees =  10 \n",
        "best loss =  0.188140777042 \n",
        "last loss =  0.188140777042\n",
        "learning_rate =  0.913517247484\n",
        "sample_size 200\n",
        "\n",
        "\n",
        "Now training leaf  011 2 / 8\n",
        "n_ samples at leaf =  12680\n",
        "\n",
        "iteration #"
       ]
      },
      {
       "output_type": "stream",
       "stream": "stdout",
       "text": [
        " 0  ntrees =  1 \n",
        "best loss =  0.426252244486\n",
        "learning_rate =  1.0\n",
        "sample_size 200\n",
        "\n",
        "iteration #"
       ]
      },
      {
       "output_type": "stream",
       "stream": "stdout",
       "text": [
        " 1  ntrees =  2 \n",
        "best loss =  0.373017652254 \n",
        "last loss =  0.373017652254\n",
        "learning_rate =  0.99\n",
        "sample_size 200\n",
        "\n",
        "iteration #"
       ]
      },
      {
       "output_type": "stream",
       "stream": "stdout",
       "text": [
        " 2  ntrees =  3 \n",
        "best loss =  0.335534593115 \n",
        "last loss =  0.335534593115\n",
        "learning_rate =  0.9801\n",
        "sample_size 200\n",
        "\n",
        "iteration #"
       ]
      },
      {
       "output_type": "stream",
       "stream": "stdout",
       "text": [
        " 3  ntrees =  4 \n",
        "best loss =  0.308402342226 \n",
        "last loss =  0.308402342226\n",
        "learning_rate =  0.970299\n",
        "sample_size 200\n",
        "\n",
        "iteration #"
       ]
      },
      {
       "output_type": "stream",
       "stream": "stdout",
       "text": [
        " 4  ntrees =  5 \n",
        "best loss =  0.288096798267 \n",
        "last loss =  0.288096798267\n",
        "learning_rate =  0.96059601\n",
        "sample_size 200\n",
        "\n",
        "iteration #"
       ]
      },
      {
       "output_type": "stream",
       "stream": "stdout",
       "text": [
        " 5  ntrees =  6 \n",
        "best loss =  0.272837005624 \n",
        "last loss =  0.272837005624\n",
        "learning_rate =  0.9509900499\n",
        "sample_size 200\n",
        "\n",
        "iteration #"
       ]
      },
      {
       "output_type": "stream",
       "stream": "stdout",
       "text": [
        " 6  ntrees =  7 \n",
        "best loss =  0.260135585972 \n",
        "last loss =  0.260135585972\n",
        "learning_rate =  0.941480149401\n",
        "sample_size 200\n",
        "\n",
        "iteration #"
       ]
      },
      {
       "output_type": "stream",
       "stream": "stdout",
       "text": [
        " 7  ntrees =  8 \n",
        "best loss =  0.250137195794 \n",
        "last loss =  0.250137195794\n",
        "learning_rate =  0.932065347907\n",
        "sample_size 200\n",
        "\n",
        "iteration #"
       ]
      },
      {
       "output_type": "stream",
       "stream": "stdout",
       "text": [
        " 8  ntrees =  9 \n",
        "best loss =  0.242045604327 \n",
        "last loss =  0.242045604327\n",
        "learning_rate =  0.922744694428\n",
        "sample_size 200\n",
        "\n",
        "iteration #"
       ]
      },
      {
       "output_type": "stream",
       "stream": "stdout",
       "text": [
        " 9  ntrees =  10 \n",
        "best loss =  0.235096802901 \n",
        "last loss =  0.235096802901\n",
        "learning_rate =  0.913517247484\n",
        "sample_size 200\n",
        "\n",
        "\n",
        "Now training leaf  001 3 / 8\n",
        "n_ samples at leaf =  14953\n",
        "\n",
        "iteration #"
       ]
      },
      {
       "output_type": "stream",
       "stream": "stdout",
       "text": [
        " 0  ntrees =  1 \n",
        "best loss =  0.451742793829\n",
        "learning_rate =  1.0\n",
        "sample_size 200\n",
        "\n",
        "iteration #"
       ]
      },
      {
       "output_type": "stream",
       "stream": "stdout",
       "text": [
        " 1  ntrees =  2 \n",
        "best loss =  0.417041473439 \n",
        "last loss =  0.417041473439\n",
        "learning_rate =  0.99\n",
        "sample_size 200\n",
        "\n",
        "iteration #"
       ]
      },
      {
       "output_type": "stream",
       "stream": "stdout",
       "text": [
        " 2  ntrees =  3 \n",
        "best loss =  0.390357135696 \n",
        "last loss =  0.390357135696\n",
        "learning_rate =  0.9801\n",
        "sample_size 200\n",
        "\n",
        "iteration #"
       ]
      },
      {
       "output_type": "stream",
       "stream": "stdout",
       "text": [
        " 3  ntrees =  4 \n",
        "best loss =  0.372078256891 \n",
        "last loss =  0.372078256891\n",
        "learning_rate =  0.970299\n",
        "sample_size 200\n",
        "\n",
        "iteration #"
       ]
      },
      {
       "output_type": "stream",
       "stream": "stdout",
       "text": [
        " 4  ntrees =  5 \n",
        "best loss =  0.358102544876 \n",
        "last loss =  0.358102544876\n",
        "learning_rate =  0.96059601\n",
        "sample_size 200\n",
        "\n",
        "iteration #"
       ]
      },
      {
       "output_type": "stream",
       "stream": "stdout",
       "text": [
        " 5  ntrees =  6 \n",
        "best loss =  0.346304319829 \n",
        "last loss =  0.346304319829\n",
        "learning_rate =  0.9509900499\n",
        "sample_size 200\n",
        "\n",
        "iteration #"
       ]
      },
      {
       "output_type": "stream",
       "stream": "stdout",
       "text": [
        " 6  ntrees =  7 \n",
        "best loss =  0.337397208338 \n",
        "last loss =  0.337397208338\n",
        "learning_rate =  0.941480149401\n",
        "sample_size 200\n",
        "\n",
        "iteration #"
       ]
      },
      {
       "output_type": "stream",
       "stream": "stdout",
       "text": [
        " 7  ntrees =  8 \n",
        "best loss =  0.329988242209 \n",
        "last loss =  0.329988242209\n",
        "learning_rate =  0.932065347907\n",
        "sample_size 200\n",
        "\n",
        "iteration #"
       ]
      },
      {
       "output_type": "stream",
       "stream": "stdout",
       "text": [
        " 8  ntrees =  9 \n",
        "best loss =  0.322970359539 \n",
        "last loss =  0.322970359539\n",
        "learning_rate =  0.922744694428\n",
        "sample_size 200\n",
        "\n",
        "iteration #"
       ]
      },
      {
       "output_type": "stream",
       "stream": "stdout",
       "text": [
        " 9  ntrees =  10 \n",
        "best loss =  0.317697719021 \n",
        "last loss =  0.317697719021\n",
        "learning_rate =  0.913517247484\n",
        "sample_size 200\n",
        "\n",
        "\n",
        "Now training leaf  000 4 / 8\n",
        "n_ samples at leaf =  11583\n",
        "\n",
        "iteration #"
       ]
      },
      {
       "output_type": "stream",
       "stream": "stdout",
       "text": [
        " 0  ntrees =  1 \n",
        "best loss =  0.471074449091\n",
        "learning_rate =  1.0\n",
        "sample_size 200\n",
        "\n",
        "iteration #"
       ]
      },
      {
       "output_type": "stream",
       "stream": "stdout",
       "text": [
        " 1  ntrees =  2 \n",
        "best loss =  0.449196849148 \n",
        "last loss =  0.449196849148\n",
        "learning_rate =  0.99\n",
        "sample_size 200\n",
        "\n",
        "iteration #"
       ]
      },
      {
       "output_type": "stream",
       "stream": "stdout",
       "text": [
        " 2  ntrees =  3 \n",
        "best loss =  0.433451591025 \n",
        "last loss =  0.433451591025\n",
        "learning_rate =  0.9801\n",
        "sample_size 200\n",
        "\n",
        "iteration #"
       ]
      },
      {
       "output_type": "stream",
       "stream": "stdout",
       "text": [
        " 3  ntrees =  4 \n",
        "best loss =  0.420958985033 \n",
        "last loss =  0.420958985033\n",
        "learning_rate =  0.970299\n",
        "sample_size 200\n",
        "\n",
        "iteration #"
       ]
      },
      {
       "output_type": "stream",
       "stream": "stdout",
       "text": [
        " 4  ntrees =  5 \n",
        "best loss =  0.410660292815 \n",
        "last loss =  0.410660292815\n",
        "learning_rate =  0.96059601\n",
        "sample_size 200\n",
        "\n",
        "iteration #"
       ]
      },
      {
       "output_type": "stream",
       "stream": "stdout",
       "text": [
        " 5  ntrees =  6 \n",
        "best loss =  0.402106125327 \n",
        "last loss =  0.402106125327\n",
        "learning_rate =  0.9509900499\n",
        "sample_size 200\n",
        "\n",
        "iteration #"
       ]
      },
      {
       "output_type": "stream",
       "stream": "stdout",
       "text": [
        " 6  ntrees =  7 \n",
        "best loss =  0.395965965466 \n",
        "last loss =  0.395965965466\n",
        "learning_rate =  0.941480149401\n",
        "sample_size 200\n",
        "\n",
        "iteration #"
       ]
      },
      {
       "output_type": "stream",
       "stream": "stdout",
       "text": [
        " 7  ntrees =  8 \n",
        "best loss =  0.39077636914 \n",
        "last loss =  0.39077636914\n",
        "learning_rate =  0.932065347907\n",
        "sample_size 200\n",
        "\n",
        "iteration #"
       ]
      },
      {
       "output_type": "stream",
       "stream": "stdout",
       "text": [
        " 8  ntrees =  9 \n",
        "best loss =  0.386736182379 \n",
        "last loss =  0.386736182379\n",
        "learning_rate =  0.922744694428\n",
        "sample_size 200\n",
        "\n",
        "iteration #"
       ]
      },
      {
       "output_type": "stream",
       "stream": "stdout",
       "text": [
        " 9  ntrees =  10 \n",
        "best loss =  0.382880167287 \n",
        "last loss =  0.382880167287\n",
        "learning_rate =  0.913517247484\n",
        "sample_size 200\n",
        "\n",
        "\n",
        "Now training leaf  111 5 / 8\n",
        "n_ samples at leaf =  14351\n",
        "\n",
        "iteration #"
       ]
      },
      {
       "output_type": "stream",
       "stream": "stdout",
       "text": [
        " 0  ntrees =  1 \n",
        "best loss =  0.455107340633\n",
        "learning_rate =  1.0\n",
        "sample_size 200\n",
        "\n",
        "iteration #"
       ]
      },
      {
       "output_type": "stream",
       "stream": "stdout",
       "text": [
        " 1  ntrees =  2 \n",
        "best loss =  0.420844688942 \n",
        "last loss =  0.420844688942\n",
        "learning_rate =  0.99\n",
        "sample_size 200\n",
        "\n",
        "iteration #"
       ]
      },
      {
       "output_type": "stream",
       "stream": "stdout",
       "text": [
        " 2  ntrees =  3 \n",
        "best loss =  0.396693412574 \n",
        "last loss =  0.396693412574\n",
        "learning_rate =  0.9801\n",
        "sample_size 200\n",
        "\n",
        "iteration #"
       ]
      },
      {
       "output_type": "stream",
       "stream": "stdout",
       "text": [
        " 3  ntrees =  4 \n",
        "best loss =  0.377432745772 \n",
        "last loss =  0.377432745772\n",
        "learning_rate =  0.970299\n",
        "sample_size 200\n",
        "\n",
        "iteration #"
       ]
      },
      {
       "output_type": "stream",
       "stream": "stdout",
       "text": [
        " 4  ntrees =  5 \n",
        "best loss =  0.362876559994 \n",
        "last loss =  0.362876559994\n",
        "learning_rate =  0.96059601\n",
        "sample_size 200\n",
        "\n",
        "iteration #"
       ]
      },
      {
       "output_type": "stream",
       "stream": "stdout",
       "text": [
        " 5  ntrees =  6 \n",
        "best loss =  0.351630972062 \n",
        "last loss =  0.351630972062\n",
        "learning_rate =  0.9509900499\n",
        "sample_size 200\n",
        "\n",
        "iteration #"
       ]
      },
      {
       "output_type": "stream",
       "stream": "stdout",
       "text": [
        " 6  ntrees =  7 \n",
        "best loss =  0.341596719102 \n",
        "last loss =  0.341596719102\n",
        "learning_rate =  0.941480149401\n",
        "sample_size 200\n",
        "\n",
        "iteration #"
       ]
      },
      {
       "output_type": "stream",
       "stream": "stdout",
       "text": [
        " 7  ntrees =  8 \n",
        "best loss =  0.33353328986 \n",
        "last loss =  0.33353328986\n",
        "learning_rate =  0.932065347907\n",
        "sample_size 200\n",
        "\n",
        "iteration #"
       ]
      },
      {
       "output_type": "stream",
       "stream": "stdout",
       "text": [
        " 8  ntrees =  9 \n",
        "best loss =  0.327445852643 \n",
        "last loss =  0.327445852643\n",
        "learning_rate =  0.922744694428\n",
        "sample_size 200\n",
        "\n",
        "iteration #"
       ]
      },
      {
       "output_type": "stream",
       "stream": "stdout",
       "text": [
        " 9  ntrees =  10 \n",
        "best loss =  0.321721633275 \n",
        "last loss =  0.321721633275\n",
        "learning_rate =  0.913517247484\n",
        "sample_size 200\n",
        "\n",
        "\n",
        "Now training leaf  110 6 / 8\n",
        "n_ samples at leaf =  13848\n",
        "\n",
        "iteration #"
       ]
      },
      {
       "output_type": "stream",
       "stream": "stdout",
       "text": [
        " 0  ntrees =  1 \n",
        "best loss =  0.441272704938\n",
        "learning_rate =  1.0\n",
        "sample_size 200\n",
        "\n",
        "iteration #"
       ]
      },
      {
       "output_type": "stream",
       "stream": "stdout",
       "text": [
        " 1  ntrees =  2 \n",
        "best loss =  0.400972917607 \n",
        "last loss =  0.400972917607\n",
        "learning_rate =  0.99\n",
        "sample_size 200\n",
        "\n",
        "iteration #"
       ]
      },
      {
       "output_type": "stream",
       "stream": "stdout",
       "text": [
        " 2  ntrees =  3 \n",
        "best loss =  0.372486010621 \n",
        "last loss =  0.372486010621\n",
        "learning_rate =  0.9801\n",
        "sample_size 200\n",
        "\n",
        "iteration #"
       ]
      },
      {
       "output_type": "stream",
       "stream": "stdout",
       "text": [
        " 3  ntrees =  4 \n",
        "best loss =  0.351080015686 \n",
        "last loss =  0.351080015686\n",
        "learning_rate =  0.970299\n",
        "sample_size 200\n",
        "\n",
        "iteration #"
       ]
      },
      {
       "output_type": "stream",
       "stream": "stdout",
       "text": [
        " 4  ntrees =  5 \n",
        "best loss =  0.333786631014 \n",
        "last loss =  0.333786631014\n",
        "learning_rate =  0.96059601\n",
        "sample_size 200\n",
        "\n",
        "iteration #"
       ]
      },
      {
       "output_type": "stream",
       "stream": "stdout",
       "text": [
        " 5  ntrees =  6 \n",
        "best loss =  0.321175503937 \n",
        "last loss =  0.321175503937\n",
        "learning_rate =  0.9509900499\n",
        "sample_size 200\n",
        "\n",
        "iteration #"
       ]
      },
      {
       "output_type": "stream",
       "stream": "stdout",
       "text": [
        " 6  ntrees =  7 \n",
        "best loss =  0.310843667466 \n",
        "last loss =  0.310843667466\n",
        "learning_rate =  0.941480149401\n",
        "sample_size 200\n",
        "\n",
        "iteration #"
       ]
      },
      {
       "output_type": "stream",
       "stream": "stdout",
       "text": [
        " 7  ntrees =  8 \n",
        "best loss =  0.302796531716 \n",
        "last loss =  0.302796531716\n",
        "learning_rate =  0.932065347907\n",
        "sample_size 200\n",
        "\n",
        "iteration #"
       ]
      },
      {
       "output_type": "stream",
       "stream": "stdout",
       "text": [
        " 8  ntrees =  9 \n",
        "best loss =  0.296052690645 \n",
        "last loss =  0.296052690645\n",
        "learning_rate =  0.922744694428\n",
        "sample_size 200\n",
        "\n",
        "iteration #"
       ]
      },
      {
       "output_type": "stream",
       "stream": "stdout",
       "text": [
        " 9  ntrees =  10 \n",
        "best loss =  0.290005008907 \n",
        "last loss =  0.290005008907\n",
        "learning_rate =  0.913517247484\n",
        "sample_size 200\n",
        "\n",
        "\n",
        "Now training leaf  100 7 / 8\n",
        "n_ samples at leaf =  11800\n",
        "\n",
        "iteration #"
       ]
      },
      {
       "output_type": "stream",
       "stream": "stdout",
       "text": [
        " 0  ntrees =  1 \n",
        "best loss =  0.465207299694\n",
        "learning_rate =  1.0\n",
        "sample_size 200\n",
        "\n",
        "iteration #"
       ]
      },
      {
       "output_type": "stream",
       "stream": "stdout",
       "text": [
        " 1  ntrees =  2 \n",
        "best loss =  0.439545079773 \n",
        "last loss =  0.439545079773\n",
        "learning_rate =  0.99\n",
        "sample_size 200\n",
        "\n",
        "iteration #"
       ]
      },
      {
       "output_type": "stream",
       "stream": "stdout",
       "text": [
        " 2  ntrees =  3 \n",
        "best loss =  0.420481946068 \n",
        "last loss =  0.420481946068\n",
        "learning_rate =  0.9801\n",
        "sample_size 200\n",
        "\n",
        "iteration #"
       ]
      },
      {
       "output_type": "stream",
       "stream": "stdout",
       "text": [
        " 3  ntrees =  4 \n",
        "best loss =  0.40680291081 \n",
        "last loss =  0.40680291081\n",
        "learning_rate =  0.970299\n",
        "sample_size 200\n",
        "\n",
        "iteration #"
       ]
      },
      {
       "output_type": "stream",
       "stream": "stdout",
       "text": [
        " 4  ntrees =  5 \n",
        "best loss =  0.395195421302 \n",
        "last loss =  0.395195421302\n",
        "learning_rate =  0.96059601\n",
        "sample_size 200\n",
        "\n",
        "iteration #"
       ]
      },
      {
       "output_type": "stream",
       "stream": "stdout",
       "text": [
        " 5  ntrees =  6 \n",
        "best loss =  0.385376487266 \n",
        "last loss =  0.385376487266\n",
        "learning_rate =  0.9509900499\n",
        "sample_size 200\n",
        "\n",
        "iteration #"
       ]
      },
      {
       "output_type": "stream",
       "stream": "stdout",
       "text": [
        " 6  ntrees =  7 \n",
        "best loss =  0.377813433503 \n",
        "last loss =  0.377813433503\n",
        "learning_rate =  0.941480149401\n",
        "sample_size 200\n",
        "\n",
        "iteration #"
       ]
      },
      {
       "output_type": "stream",
       "stream": "stdout",
       "text": [
        " 7  ntrees =  8 \n",
        "best loss =  0.37174307696 \n",
        "last loss =  0.37174307696\n",
        "learning_rate =  0.932065347907\n",
        "sample_size 200\n",
        "\n",
        "iteration #"
       ]
      },
      {
       "output_type": "stream",
       "stream": "stdout",
       "text": [
        " 8  ntrees =  9 \n",
        "best loss =  0.366746370966 \n",
        "last loss =  0.366746370966\n",
        "learning_rate =  0.922744694428\n",
        "sample_size 200\n",
        "\n",
        "iteration #"
       ]
      },
      {
       "output_type": "stream",
       "stream": "stdout",
       "text": [
        " 9  ntrees =  10 \n",
        "best loss =  0.361984027732 \n",
        "last loss =  0.361984027732\n",
        "learning_rate =  0.913517247484\n",
        "sample_size 200\n",
        "\n",
        "\n",
        "Now training leaf  101 8 / 8\n",
        "n_ samples at leaf =  23538\n",
        "\n",
        "iteration #"
       ]
      },
      {
       "output_type": "stream",
       "stream": "stdout",
       "text": [
        " 0  ntrees =  1 \n",
        "best loss =  0.450868108591\n",
        "learning_rate =  1.0\n",
        "sample_size 200\n",
        "\n",
        "iteration #"
       ]
      },
      {
       "output_type": "stream",
       "stream": "stdout",
       "text": [
        " 1  ntrees =  2 \n",
        "best loss =  0.414773247224 \n",
        "last loss =  0.414773247224\n",
        "learning_rate =  0.99\n",
        "sample_size 200\n",
        "\n",
        "iteration #"
       ]
      },
      {
       "output_type": "stream",
       "stream": "stdout",
       "text": [
        " 2  ntrees =  3 \n",
        "best loss =  0.389374479069 \n",
        "last loss =  0.389374479069\n",
        "learning_rate =  0.9801\n",
        "sample_size 200\n",
        "\n",
        "iteration #"
       ]
      },
      {
       "output_type": "stream",
       "stream": "stdout",
       "text": [
        " 3  ntrees =  4 \n",
        "best loss =  0.37010298231 \n",
        "last loss =  0.37010298231\n",
        "learning_rate =  0.970299\n",
        "sample_size 200\n",
        "\n",
        "iteration #"
       ]
      },
      {
       "output_type": "stream",
       "stream": "stdout",
       "text": [
        " 4  ntrees =  5 \n",
        "best loss =  0.355665415001 \n",
        "last loss =  0.355665415001\n",
        "learning_rate =  0.96059601\n",
        "sample_size 200\n",
        "\n",
        "iteration #"
       ]
      },
      {
       "output_type": "stream",
       "stream": "stdout",
       "text": [
        " 5  ntrees =  6 \n",
        "best loss =  0.344143890436 \n",
        "last loss =  0.344143890436\n",
        "learning_rate =  0.9509900499\n",
        "sample_size 200\n",
        "\n",
        "iteration #"
       ]
      },
      {
       "output_type": "stream",
       "stream": "stdout",
       "text": [
        " 6  ntrees =  7 \n",
        "best loss =  0.335359995528 \n",
        "last loss =  0.335359995528\n",
        "learning_rate =  0.941480149401\n",
        "sample_size 200\n",
        "\n",
        "iteration #"
       ]
      },
      {
       "output_type": "stream",
       "stream": "stdout",
       "text": [
        " 7  ntrees =  8 \n",
        "best loss =  0.328183444059 \n",
        "last loss =  0.328183444059\n",
        "learning_rate =  0.932065347907\n",
        "sample_size 200\n",
        "\n",
        "iteration #"
       ]
      },
      {
       "output_type": "stream",
       "stream": "stdout",
       "text": [
        " 8  ntrees =  9 \n",
        "best loss =  0.322045550915 \n",
        "last loss =  0.322045550915\n",
        "learning_rate =  0.922744694428\n",
        "sample_size 200\n",
        "\n",
        "iteration #"
       ]
      },
      {
       "output_type": "stream",
       "stream": "stdout",
       "text": [
        " 9  ntrees =  10 \n",
        "best loss =  0.316736895854 \n",
        "last loss =  0.316736895854\n",
        "learning_rate =  0.913517247484\n",
        "sample_size 200\n"
       ]
      }
     ],
     "prompt_number": 56
    },
    {
     "cell_type": "code",
     "collapsed": false,
     "input": [
      "def predict_splitted(X,criteria,trees):\n",
      "    X_split, indices =  split_upper(X, np.arange(X.shape[0]),criteria)\n",
      "    y_pred = np.zeros(X.shape[0])\n",
      "    for leaf in X_split.keys():\n",
      "        y_pred[indices[leaf]] = predict(trees[leaf],X_split[leaf])\n",
      "    return y_pred"
     ],
     "language": "python",
     "metadata": {},
     "outputs": [],
     "prompt_number": 57
    },
    {
     "cell_type": "code",
     "collapsed": false,
     "input": [
      "y_pred_splitted = predict_splitted(Xts,criteria,trees_splitted)"
     ],
     "language": "python",
     "metadata": {},
     "outputs": [],
     "prompt_number": 58
    },
    {
     "cell_type": "code",
     "collapsed": false,
     "input": [
      "plt.hist(y_pred_splitted)"
     ],
     "language": "python",
     "metadata": {},
     "outputs": [
      {
       "metadata": {},
       "output_type": "pyout",
       "prompt_number": 59,
       "text": [
        "(array([ 15865.,  29319.,  17228.,  11671.,   8709.,   6953.,   7428.,\n",
        "         11356.,  11020.,   2951.]),\n",
        " array([-2.45376163, -1.99001337, -1.52626512, -1.06251687, -0.59876862,\n",
        "        -0.13502037,  0.32872789,  0.79247614,  1.25622439,  1.71997264,\n",
        "         2.1837209 ]),\n",
        " <a list of 10 Patch objects>)"
       ]
      },
      {
       "metadata": {},
       "output_type": "display_data",
       "png": "[encoded data removed]",
       "text": [
        "<matplotlib.figure.Figure at 0x2a5855f8>"
       ]
      }
     ],
     "prompt_number": 59
    },
    {
     "cell_type": "code",
     "collapsed": false,
     "input": [
      "print metrics.roc_auc_score(Yts,y_pred_splitted)"
     ],
     "language": "python",
     "metadata": {},
     "outputs": [
      {
       "output_type": "stream",
       "stream": "stdout",
       "text": [
        "0.893280264572\n"
       ]
      }
     ],
     "prompt_number": 60
    },
    {
     "cell_type": "code",
     "collapsed": false,
     "input": [
      "# Plot ROC curve\n",
      "plt.figure()\n",
      "fpr, tpr, _ = roc_curve(Yts, y_pred_full)\n",
      "plt.plot(fpr, tpr,\n",
      "         label='Full boost classi 10 trees')\n",
      "fpr, tpr, _ = roc_curve(Yts, y_pred_stupid)\n",
      "plt.plot(fpr, tpr,\n",
      "         label='First 10 classi')\n",
      "fpr, tpr, _ = roc_curve(Yts, y_pred_greedy)\n",
      "plt.plot(fpr, tpr,\n",
      "         label='Greedy prune classi 10 trees')\n",
      "fpr, tpr, _ = roc_curve(Yts, y_pred_splitted)\n",
      "plt.plot(fpr, tpr,\n",
      "         label='Split-prune classi with 8 leafs')\n",
      "\n",
      "\n",
      "plt.plot([0, 1], [0, 1], 'k--')\n",
      "plt.xlim([0.0, 1.0])\n",
      "plt.ylim([0.0, 1.05])\n",
      "plt.xlabel('False Positive Rate')\n",
      "plt.ylabel('True Positive Rate')\n",
      "plt.title('Some extension of Receiver operating characteristic to multi-class')\n",
      "plt.legend(loc=\"lower right\")\n",
      "plt.show()"
     ],
     "language": "python",
     "metadata": {},
     "outputs": [
      {
       "metadata": {},
       "output_type": "display_data",
       "png": "[encoded data removed]",
       "text": [
        "<matplotlib.figure.Figure at 0x17809978>"
       ]
      }
     ],
     "prompt_number": 64
    },
    {
     "cell_type": "code",
     "collapsed": false,
     "input": [],
     "language": "python",
     "metadata": {},
     "outputs": []
    },
    {
     "cell_type": "code",
     "collapsed": false,
     "input": [
      "joblib.dump([criteria,trees_splitted],\"splitted 100 trees\")"
     ],
     "language": "python",
     "metadata": {},
     "outputs": [
      {
       "metadata": {},
       "output_type": "pyout",
       "prompt_number": 65,
       "text": [
        "['splitted 100 trees',\n",
        " 'splitted 100 trees_01.npy',\n",
        " 'splitted 100 trees_02.npy',\n",
        " 'splitted 100 trees_03.npy',\n",
        " 'splitted 100 trees_04.npy',\n",
        " 'splitted 100 trees_05.npy',\n",
        " 'splitted 100 trees_06.npy',\n",
        " 'splitted 100 trees_07.npy',\n",
        " 'splitted 100 trees_08.npy',\n",
        " 'splitted 100 trees_09.npy',\n",
        " 'splitted 100 trees_10.npy',\n",
        " 'splitted 100 trees_11.npy',\n",
        " 'splitted 100 trees_12.npy',\n",
        " 'splitted 100 trees_13.npy',\n",
        " 'splitted 100 trees_14.npy',\n",
        " 'splitted 100 trees_15.npy',\n",
        " 'splitted 100 trees_16.npy',\n",
        " 'splitted 100 trees_17.npy',\n",
        " 'splitted 100 trees_18.npy',\n",
        " 'splitted 100 trees_19.npy',\n",
        " 'splitted 100 trees_20.npy',\n",
        " 'splitted 100 trees_21.npy',\n",
        " 'splitted 100 trees_22.npy',\n",
        " 'splitted 100 trees_23.npy',\n",
        " 'splitted 100 trees_24.npy',\n",
        " 'splitted 100 trees_25.npy',\n",
        " 'splitted 100 trees_26.npy',\n",
        " 'splitted 100 trees_27.npy',\n",
        " 'splitted 100 trees_28.npy',\n",
        " 'splitted 100 trees_29.npy',\n",
        " 'splitted 100 trees_30.npy',\n",
        " 'splitted 100 trees_31.npy',\n",
        " 'splitted 100 trees_32.npy',\n",
        " 'splitted 100 trees_33.npy',\n",
        " 'splitted 100 trees_34.npy',\n",
        " 'splitted 100 trees_35.npy',\n",
        " 'splitted 100 trees_36.npy',\n",
        " 'splitted 100 trees_37.npy',\n",
        " 'splitted 100 trees_38.npy',\n",
        " 'splitted 100 trees_39.npy',\n",
        " 'splitted 100 trees_40.npy',\n",
        " 'splitted 100 trees_41.npy',\n",
        " 'splitted 100 trees_42.npy',\n",
        " 'splitted 100 trees_43.npy',\n",
        " 'splitted 100 trees_44.npy',\n",
        " 'splitted 100 trees_45.npy',\n",
        " 'splitted 100 trees_46.npy',\n",
        " 'splitted 100 trees_47.npy',\n",
        " 'splitted 100 trees_48.npy',\n",
        " 'splitted 100 trees_49.npy',\n",
        " 'splitted 100 trees_50.npy',\n",
        " 'splitted 100 trees_51.npy',\n",
        " 'splitted 100 trees_52.npy',\n",
        " 'splitted 100 trees_53.npy',\n",
        " 'splitted 100 trees_54.npy',\n",
        " 'splitted 100 trees_55.npy',\n",
        " 'splitted 100 trees_56.npy',\n",
        " 'splitted 100 trees_57.npy',\n",
        " 'splitted 100 trees_58.npy',\n",
        " 'splitted 100 trees_59.npy',\n",
        " 'splitted 100 trees_60.npy',\n",
        " 'splitted 100 trees_61.npy',\n",
        " 'splitted 100 trees_62.npy',\n",
        " 'splitted 100 trees_63.npy',\n",
        " 'splitted 100 trees_64.npy',\n",
        " 'splitted 100 trees_65.npy',\n",
        " 'splitted 100 trees_66.npy',\n",
        " 'splitted 100 trees_67.npy',\n",
        " 'splitted 100 trees_68.npy',\n",
        " 'splitted 100 trees_69.npy',\n",
        " 'splitted 100 trees_70.npy',\n",
        " 'splitted 100 trees_71.npy',\n",
        " 'splitted 100 trees_72.npy',\n",
        " 'splitted 100 trees_73.npy',\n",
        " 'splitted 100 trees_74.npy',\n",
        " 'splitted 100 trees_75.npy',\n",
        " 'splitted 100 trees_76.npy',\n",
        " 'splitted 100 trees_77.npy',\n",
        " 'splitted 100 trees_78.npy',\n",
        " 'splitted 100 trees_79.npy',\n",
        " 'splitted 100 trees_80.npy',\n",
        " 'splitted 100 trees_81.npy',\n",
        " 'splitted 100 trees_82.npy',\n",
        " 'splitted 100 trees_83.npy',\n",
        " 'splitted 100 trees_84.npy',\n",
        " 'splitted 100 trees_85.npy',\n",
        " 'splitted 100 trees_86.npy',\n",
        " 'splitted 100 trees_87.npy',\n",
        " 'splitted 100 trees_88.npy',\n",
        " 'splitted 100 trees_89.npy',\n",
        " 'splitted 100 trees_90.npy',\n",
        " 'splitted 100 trees_91.npy',\n",
        " 'splitted 100 trees_92.npy',\n",
        " 'splitted 100 trees_93.npy',\n",
        " 'splitted 100 trees_94.npy',\n",
        " 'splitted 100 trees_95.npy',\n",
        " 'splitted 100 trees_96.npy',\n",
        " 'splitted 100 trees_97.npy',\n",
        " 'splitted 100 trees_98.npy',\n",
        " 'splitted 100 trees_99.npy',\n",
        " 'splitted 100 trees_100.npy',\n",
        " 'splitted 100 trees_101.npy',\n",
        " 'splitted 100 trees_102.npy',\n",
        " 'splitted 100 trees_103.npy',\n",
        " 'splitted 100 trees_104.npy',\n",
        " 'splitted 100 trees_105.npy',\n",
        " 'splitted 100 trees_106.npy',\n",
        " 'splitted 100 trees_107.npy',\n",
        " 'splitted 100 trees_108.npy',\n",
        " 'splitted 100 trees_109.npy',\n",
        " 'splitted 100 trees_110.npy',\n",
        " 'splitted 100 trees_111.npy',\n",
        " 'splitted 100 trees_112.npy',\n",
        " 'splitted 100 trees_113.npy',\n",
        " 'splitted 100 trees_114.npy',\n",
        " 'splitted 100 trees_115.npy',\n",
        " 'splitted 100 trees_116.npy',\n",
        " 'splitted 100 trees_117.npy',\n",
        " 'splitted 100 trees_118.npy',\n",
        " 'splitted 100 trees_119.npy',\n",
        " 'splitted 100 trees_120.npy',\n",
        " 'splitted 100 trees_121.npy',\n",
        " 'splitted 100 trees_122.npy',\n",
        " 'splitted 100 trees_123.npy',\n",
        " 'splitted 100 trees_124.npy',\n",
        " 'splitted 100 trees_125.npy',\n",
        " 'splitted 100 trees_126.npy',\n",
        " 'splitted 100 trees_127.npy',\n",
        " 'splitted 100 trees_128.npy',\n",
        " 'splitted 100 trees_129.npy',\n",
        " 'splitted 100 trees_130.npy',\n",
        " 'splitted 100 trees_131.npy',\n",
        " 'splitted 100 trees_132.npy',\n",
        " 'splitted 100 trees_133.npy',\n",
        " 'splitted 100 trees_134.npy',\n",
        " 'splitted 100 trees_135.npy',\n",
        " 'splitted 100 trees_136.npy',\n",
        " 'splitted 100 trees_137.npy',\n",
        " 'splitted 100 trees_138.npy',\n",
        " 'splitted 100 trees_139.npy',\n",
        " 'splitted 100 trees_140.npy',\n",
        " 'splitted 100 trees_141.npy',\n",
        " 'splitted 100 trees_142.npy',\n",
        " 'splitted 100 trees_143.npy',\n",
        " 'splitted 100 trees_144.npy',\n",
        " 'splitted 100 trees_145.npy',\n",
        " 'splitted 100 trees_146.npy',\n",
        " 'splitted 100 trees_147.npy',\n",
        " 'splitted 100 trees_148.npy',\n",
        " 'splitted 100 trees_149.npy',\n",
        " 'splitted 100 trees_150.npy',\n",
        " 'splitted 100 trees_151.npy',\n",
        " 'splitted 100 trees_152.npy',\n",
        " 'splitted 100 trees_153.npy',\n",
        " 'splitted 100 trees_154.npy',\n",
        " 'splitted 100 trees_155.npy',\n",
        " 'splitted 100 trees_156.npy',\n",
        " 'splitted 100 trees_157.npy',\n",
        " 'splitted 100 trees_158.npy',\n",
        " 'splitted 100 trees_159.npy',\n",
        " 'splitted 100 trees_160.npy',\n",
        " 'splitted 100 trees_161.npy',\n",
        " 'splitted 100 trees_162.npy',\n",
        " 'splitted 100 trees_163.npy',\n",
        " 'splitted 100 trees_164.npy',\n",
        " 'splitted 100 trees_165.npy',\n",
        " 'splitted 100 trees_166.npy',\n",
        " 'splitted 100 trees_167.npy',\n",
        " 'splitted 100 trees_168.npy',\n",
        " 'splitted 100 trees_169.npy',\n",
        " 'splitted 100 trees_170.npy',\n",
        " 'splitted 100 trees_171.npy',\n",
        " 'splitted 100 trees_172.npy',\n",
        " 'splitted 100 trees_173.npy',\n",
        " 'splitted 100 trees_174.npy',\n",
        " 'splitted 100 trees_175.npy',\n",
        " 'splitted 100 trees_176.npy',\n",
        " 'splitted 100 trees_177.npy',\n",
        " 'splitted 100 trees_178.npy',\n",
        " 'splitted 100 trees_179.npy',\n",
        " 'splitted 100 trees_180.npy',\n",
        " 'splitted 100 trees_181.npy',\n",
        " 'splitted 100 trees_182.npy',\n",
        " 'splitted 100 trees_183.npy',\n",
        " 'splitted 100 trees_184.npy',\n",
        " 'splitted 100 trees_185.npy',\n",
        " 'splitted 100 trees_186.npy',\n",
        " 'splitted 100 trees_187.npy',\n",
        " 'splitted 100 trees_188.npy',\n",
        " 'splitted 100 trees_189.npy',\n",
        " 'splitted 100 trees_190.npy',\n",
        " 'splitted 100 trees_191.npy',\n",
        " 'splitted 100 trees_192.npy',\n",
        " 'splitted 100 trees_193.npy',\n",
        " 'splitted 100 trees_194.npy',\n",
        " 'splitted 100 trees_195.npy',\n",
        " 'splitted 100 trees_196.npy',\n",
        " 'splitted 100 trees_197.npy',\n",
        " 'splitted 100 trees_198.npy',\n",
        " 'splitted 100 trees_199.npy',\n",
        " 'splitted 100 trees_200.npy',\n",
        " 'splitted 100 trees_201.npy',\n",
        " 'splitted 100 trees_202.npy',\n",
        " 'splitted 100 trees_203.npy',\n",
        " 'splitted 100 trees_204.npy',\n",
        " 'splitted 100 trees_205.npy',\n",
        " 'splitted 100 trees_206.npy',\n",
        " 'splitted 100 trees_207.npy',\n",
        " 'splitted 100 trees_208.npy',\n",
        " 'splitted 100 trees_209.npy',\n",
        " 'splitted 100 trees_210.npy',\n",
        " 'splitted 100 trees_211.npy',\n",
        " 'splitted 100 trees_212.npy',\n",
        " 'splitted 100 trees_213.npy',\n",
        " 'splitted 100 trees_214.npy',\n",
        " 'splitted 100 trees_215.npy',\n",
        " 'splitted 100 trees_216.npy',\n",
        " 'splitted 100 trees_217.npy',\n",
        " 'splitted 100 trees_218.npy',\n",
        " 'splitted 100 trees_219.npy',\n",
        " 'splitted 100 trees_220.npy',\n",
        " 'splitted 100 trees_221.npy',\n",
        " 'splitted 100 trees_222.npy',\n",
        " 'splitted 100 trees_223.npy',\n",
        " 'splitted 100 trees_224.npy',\n",
        " 'splitted 100 trees_225.npy',\n",
        " 'splitted 100 trees_226.npy',\n",
        " 'splitted 100 trees_227.npy',\n",
        " 'splitted 100 trees_228.npy',\n",
        " 'splitted 100 trees_229.npy',\n",
        " 'splitted 100 trees_230.npy',\n",
        " 'splitted 100 trees_231.npy',\n",
        " 'splitted 100 trees_232.npy',\n",
        " 'splitted 100 trees_233.npy',\n",
        " 'splitted 100 trees_234.npy',\n",
        " 'splitted 100 trees_235.npy',\n",
        " 'splitted 100 trees_236.npy',\n",
        " 'splitted 100 trees_237.npy',\n",
        " 'splitted 100 trees_238.npy',\n",
        " 'splitted 100 trees_239.npy',\n",
        " 'splitted 100 trees_240.npy',\n",
        " 'splitted 100 trees_241.npy',\n",
        " 'splitted 100 trees_242.npy',\n",
        " 'splitted 100 trees_243.npy']"
       ]
      }
     ],
     "prompt_number": 65
    },
    {
     "cell_type": "code",
     "collapsed": false,
     "input": [],
     "language": "python",
     "metadata": {},
     "outputs": []
    }
   ],
   "metadata": {}
  }
 ]
}