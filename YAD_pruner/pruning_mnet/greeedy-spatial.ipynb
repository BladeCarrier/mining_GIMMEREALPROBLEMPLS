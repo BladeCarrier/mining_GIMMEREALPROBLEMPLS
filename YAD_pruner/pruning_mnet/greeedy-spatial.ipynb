{
 "metadata": {
  "name": "",
  "signature": "sha256:93d3a4053ce633c7ceba42089fda9581ed96c6ba11c154ac0de8fa181a5dd8df"
 },
 "nbformat": 3,
 "nbformat_minor": 0,
 "worksheets": [
  {
   "cells": [
    {
     "cell_type": "code",
     "collapsed": false,
     "input": [
      "# I explore the cuts of the features\n",
      "%matplotlib inline\n",
      "#\u0442\u0430\u043a \u0442\u043e\u0436\u0435 \u043c\u043e\u0436\u043d\u043e \u0440\u0435\u0448\u0438\u0442\u044c \u043f\u0440\u043e\u0431\u043b\u0435\u043c\u0443 \u0438\u043d\u043b\u0430\u0439\u043b\u0430 \u043f\u043b\u043e\u0442\u043e\u0432\n",
      "\n",
      "import _matrixnetapplier as mnet\n",
      "import numpy as numpy\n",
      "np = numpy\n",
      "import matplotlib.pyplot as plt\n",
      "import matplotlib.patches as mpatches\n",
      "from sklearn import metrics"
     ],
     "language": "python",
     "metadata": {},
     "outputs": [],
     "prompt_number": 3
    },
    {
     "cell_type": "markdown",
     "metadata": {},
     "source": [
      "# Extracting the trained model"
     ]
    },
    {
     "cell_type": "code",
     "collapsed": false,
     "input": [
      "#extract ODT\n",
      "fstream = open('formula.mx','rb')\n",
      "classi = mnet.MatrixnetClassifier(fstream)\n",
      "fstream.close()"
     ],
     "language": "python",
     "metadata": {},
     "outputs": [],
     "prompt_number": 4
    },
    {
     "cell_type": "code",
     "collapsed": false,
     "input": [
      "#Get all the trees from .mx\n",
      "def get_trees(classi):\n",
      "    itr = classi.iterate_trees().next()\n",
      "    return itr, [tree for tree in itr[2]]"
     ],
     "language": "python",
     "metadata": {},
     "outputs": [],
     "prompt_number": 5
    },
    {
     "cell_type": "code",
     "collapsed": false,
     "input": [
      "itr,trees = get_trees(classi)\n",
      "n_features = len(classi.features)\n",
      "print itr"
     ],
     "language": "python",
     "metadata": {},
     "outputs": [
      {
       "output_type": "stream",
       "stream": "stdout",
       "text": [
        "(6, 10000, <generator object _iterate_over_trees_with_fixed_depth at 0x000000000ACD3B88>)\n"
       ]
      }
     ],
     "prompt_number": 6
    },
    {
     "cell_type": "markdown",
     "metadata": {},
     "source": [
      "# Loading dataset"
     ]
    },
    {
     "cell_type": "code",
     "collapsed": false,
     "input": [
      "#load training set\n",
      "def load_data(path):\n",
      "    print 'Loading training data.'\n",
      "    data = np.loadtxt(path, \\\n",
      "            delimiter=',', \\\n",
      "            skiprows=1, \\\n",
      "            converters={32: lambda x:int(x=='s'.encode('utf-8'))})\n",
      "\n",
      "    X = data[:,1:31]\n",
      "    Y = data[:,32]\n",
      "    W = data[:,31]\n",
      "    return X,Y,W"
     ],
     "language": "python",
     "metadata": {},
     "outputs": [],
     "prompt_number": 7
    },
    {
     "cell_type": "code",
     "collapsed": false,
     "input": [
      "X,Y,W = load_data(\"../data/training.csv\")"
     ],
     "language": "python",
     "metadata": {},
     "outputs": [
      {
       "output_type": "stream",
       "stream": "stdout",
       "text": [
        "Loading training data.\n"
       ]
      }
     ],
     "prompt_number": 8
    },
    {
     "cell_type": "code",
     "collapsed": false,
     "input": [
      "from sklearn.cross_validation import train_test_split\n",
      "Xtr,Xts,Ytr,Yts,Wtr,Wts = train_test_split(X,Y,W, test_size = 0.2)"
     ],
     "language": "python",
     "metadata": {},
     "outputs": [],
     "prompt_number": 9
    },
    {
     "cell_type": "markdown",
     "metadata": {},
     "source": [
      "# greedy pruning for the whole data"
     ]
    },
    {
     "cell_type": "code",
     "collapsed": false,
     "input": [
      "#in the ideal world, i would have merged em with the top line imports, but luckily, i'm in real world\n",
      "import copy\n",
      "import sklearn.metrics as metrics\n",
      "import scipy as sp\n",
      "import random\n",
      "#and some of these...\n",
      "import math\n",
      "import pandas as pd\n",
      "from sklearn.externals import joblib\n",
      "steve = joblib\n",
      "from sklearn.cross_validation import *\n",
      "from sklearn.decomposition import *\n",
      "from sklearn.ensemble import *\n",
      "from sklearn.feature_selection import *\n",
      "from sklearn.grid_search import *\n",
      "from sklearn.linear_model import *\n",
      "from sklearn.metrics import *\n",
      "from sklearn.preprocessing import *\n",
      "from sklearn.pipeline import *\n",
      "from sklearn.svm import *\n",
      "from sklearn.tree import *\n",
      "from sklearn.ensemble.gradient_boosting import *\n",
      "from sklearn.utils import check_arrays\n",
      "from sklearn.ensemble._gradient_boosting import predict_stages\n",
      "import matplotlib.pyplot as plt"
     ],
     "language": "python",
     "metadata": {},
     "outputs": [],
     "prompt_number": 10
    },
    {
     "cell_type": "code",
     "collapsed": false,
     "input": [
      "#predict with the trees boost\n",
      "def predict(trees, X):\n",
      "    '''\n",
      "    make real-value predictions using sklearn gradient_boosting.predict_stages\n",
      "    '''\n",
      "    if len(trees) ==0:\n",
      "        return np.zeros(X.shape[0])\n",
      "    #i don't think that i can write as effectively with my time bounds. Copypaste\n",
      "    def apply_separately(events,bias = 0):\n",
      "        \"\"\"\n",
      "        :param events: numpy.array (or DataFrame) of shape [n_samples, n_features]\n",
      "        :return: each time yields numpy.array predictions of shape [n_samples]\n",
      "            which is output of a particular tree\n",
      "        \"\"\"\n",
      "        # result of first iteration\n",
      "        yield numpy.zeros(len(events), dtype=float) + bias\n",
      "\n",
      "        # extending the data so the number of events is divisible by 8\n",
      "        n_events = len(events)\n",
      "        n_extended64 = (n_events + 7) // 8\n",
      "        n_extended = n_extended64 * 8\n",
      "\n",
      "        # using Fortran order (surprisingly doesn't seem to influence speed much)\n",
      "        features = numpy.zeros([n_extended, events.shape[1]], dtype='float32', order='F')\n",
      "        features[:n_events, :] = events\n",
      "\n",
      "        tree_depth = len(trees[0][0])\n",
      "        nf_count = len(trees)\n",
      "        for tree_features, tree_cuts, leaf_values in trees:\n",
      "            leaf_indices = numpy.zeros(n_extended64, dtype='int64')\n",
      "            for tree_level, (feature, cut) in enumerate(zip(tree_features, tree_cuts)):\n",
      "                leaf_indices |= (features[:, feature] > cut).view('int64') << tree_level\n",
      "            yield leaf_values[leaf_indices.view('int8')[:n_events]]\n",
      "    \n",
      "    \n",
      "    events = X\n",
      "    result = numpy.zeros(len(events), dtype=float)\n",
      "    for stage_predictions in apply_separately(events):\n",
      "        result += stage_predictions\n",
      "    return result"
     ],
     "language": "python",
     "metadata": {},
     "outputs": [],
     "prompt_number": 11
    },
    {
     "cell_type": "code",
     "collapsed": false,
     "input": [
      "def logloss(actual, pred):\n",
      "    \"\"\"\n",
      "    i know it isn't\n",
      "    \"\"\"\n",
      "    return actual - sp.special.expit(pred.reshape(pred.shape[0]))"
     ],
     "language": "python",
     "metadata": {},
     "outputs": [],
     "prompt_number": 12
    },
    {
     "cell_type": "code",
     "collapsed": false,
     "input": [
      "def update_leaves(X,residual,tree,lrate):\n",
      "    '''\n",
      "    update leaf values via... placing the residual there...\n",
      "    '''\n",
      "    \n",
      "    events = X\n",
      "    tree_features, tree_cuts, leaf_values = tree\n",
      "    tree_depth = len(tree[0])\n",
      "    n_events = len(events)\n",
      "    n_extended64 = (n_events + 7) // 8\n",
      "    n_extended = n_extended64 * 8\n",
      "    \n",
      "    # using Fortran order (surprisingly doesn't seem to influence speed much)\n",
      "    features = numpy.zeros([n_extended, events.shape[1]], dtype='float32', order='F')\n",
      "    features[:n_events, :] = events\n",
      "    \n",
      "    leaf_indices = numpy.zeros(n_extended64, dtype='int64')\n",
      "    for tree_level, (feature, cut) in enumerate(zip(tree_features, tree_cuts)):\n",
      "        leaf_indices |= (features[:, feature] > cut).view('int64') << tree_level\n",
      "    \n",
      "    \n",
      "    leaf_values = tree[2]*0\n",
      "    \n",
      "    leaf_indices =leaf_indices.view('int8')[:n_events]\n",
      "\n",
      "    \n",
      "    \n",
      "    for i in xrange(leaf_indices.shape[0]):\n",
      "        leaf_ind = leaf_indices[i]\n",
      "        leaf_values[leaf_ind] += residual[i]\n",
      "    \n",
      "    #alarma! i aint entirely mathematical\n",
      "    leaf_values /= X.shape[0]\n",
      "    \n",
      "    newtree = tuple([copy.copy(i) for i in tree[:2]] + [leaf_values*lrate])\n",
      "\n",
      "    return newtree"
     ],
     "language": "python",
     "metadata": {},
     "outputs": [],
     "prompt_number": 59
    },
    {
     "cell_type": "code",
     "collapsed": false,
     "input": [
      "def inthread_try_add(bunchMembers,tree,loss,X,residual,y,y_pred,learning_rate):\n",
      "        newTree = update_leaves(X,residual,tree,learning_rate)\n",
      "        newPred = y_pred + predict([newTree],X).reshape(y_pred.shape)\n",
      "        return sum(abs(loss(y,newPred)))/y.shape[0],newTree\n",
      "#mb use sklearn metrics-compatible lossfun?\n",
      "\n",
      "def try_add1_bfs(bunchMembers, remainingTrees,X,y,learning_rate,loss,breadth):\n",
      "    '''\n",
      "    select best tree to add (1 step)\n",
      "    '''\n",
      "    X = array2d(X, dtype=DTYPE, order=\"C\")\n",
      "\n",
      "    y_pred = predict(bunchMembers,X).reshape(len(y),1)\n",
      "    \n",
      "\n",
      "    residual = loss(y,y_pred)\n",
      "    \n",
      "    pairs = [\n",
      "                    inthread_try_add(bunchMembers,remainingTrees[t],loss,X,residual,y,y_pred,learning_rate)\n",
      "                    for t in xrange(remainingTrees.shape[0])]   \n",
      "   \n",
      "    pairs.sort(key = lambda el: el[0])\n",
      "    \n",
      "    bunches = []\n",
      "    for pair in pairs[:breadth]:\n",
      "        tree = pair[1]\n",
      "        bunch = bunchMembers+[tree]\n",
      "        bunches.append(bunch)\n",
      "\n",
      "    return bunches,[pair[1] for pair in pairs[:breadth]],[pair[0] for pair in pairs[:breadth]]"
     ],
     "language": "python",
     "metadata": {},
     "outputs": [
      {
       "output_type": "stream",
       "stream": "stdout",
       "text": [
        "\n"
       ]
      }
     ],
     "prompt_number": 64
    },
    {
     "cell_type": "code",
     "collapsed": false,
     "input": [
      "def greed_up_features_bfs (trees,\n",
      "                           X,y,\n",
      "                           learning_rate,\n",
      "                           loss,\n",
      "                           breadth,\n",
      "                           nTrees,\n",
      "                           trees_sample_size,\n",
      "                           verbose = True,\n",
      "                           learning_rate_decay = 1.,\n",
      "                           trees_sample_increase = 0):\n",
      "    \"\"\"\n",
      "    Iterative BFS over best ADD-1 results for [nTrees] iterations\n",
      "    \"\"\"\n",
      "    #compatibility stuff\n",
      "    if 0 not in y:\n",
      "        return (key,1)\n",
      "    if 1 not in y:\n",
      "        return (key,0)\n",
      "    alltrees = copy.copy(trees)\n",
      "    \n",
      "    trees_sample = np.array(random.sample(alltrees,trees_sample_size))\n",
      "    bunches,additions,losses = try_add1_bfs([],trees_sample,X,y,learning_rate,loss,breadth)\n",
      "    \n",
      "    bestScore = min(losses)\n",
      "    \n",
      "    if verbose:\n",
      "        print \"\\niteration #\",0,\" ntrees = \", len(bunches[0]),\"\\nbest loss = \",bestScore\n",
      "        print \"learning_rate = \", learning_rate\n",
      "        print \"sample_size\", trees_sample_size\n",
      "\n",
      "    \n",
      "    itr = 0\n",
      "    while len(bunches[0]) <nTrees:\n",
      "        itr+=1\n",
      "        newBunches = []    \n",
      "        newScores = []\n",
      "        #for shared memo:\n",
      "        #triples = steve.Parallel(njobs = nthreads)(\n",
      "        #        steve.delayed([try_add1_bfs(bunch,alltrees,X,y,GB,breadth)\n",
      "        #                            for bunch in bunches])\n",
      "        for bunch in bunches:\n",
      "            trees_sample = np.array(random.sample(alltrees,trees_sample_size))\n",
      "            bunches,additions,losses = try_add1_bfs(bunch,trees_sample,X,y,learning_rate,loss,breadth)\n",
      "            #DELIBERATELY not excluding from remainingTrees the trees that are in batch\n",
      "            #because we are adjusting leaves anyway and one trees may be used  multiple\n",
      "            #times with different leaf adjustments.\n",
      "            newBunches+=bunches\n",
      "            newScores += losses\n",
      "            \n",
      "        learning_rate *= learning_rate_decay\n",
      "        trees_sample_size = min(len(alltrees),trees_sample_size + trees_sample_increase)\n",
      "            \n",
      "        pairs = [(newScores[i],newBunches[i]) for i in xrange(len(newBunches))]\n",
      "        pairs.sort(key = lambda el: el[0])\n",
      "        bunches = [pair[1] for pair in pairs[:breadth]]\n",
      "        \n",
      "        \n",
      "        newBestScore = min(newScores)\n",
      "        if newBestScore > bestScore:\n",
      "            bunches = [bnch[:-1] for bnch in bunches]\n",
      "            learning_rate /=2.\n",
      "            if learning_rate < 0.00001:\n",
      "                break\n",
      "        else: bestScore = newBestScore\n",
      "        \n",
      "        \n",
      "        if verbose:\n",
      "            print \"\\niteration #\",itr,\" ntrees = \", len(bunches[0]),\"\\nbest loss = \", bestScore,\"\\nlast loss = \",newBestScore\n",
      "\n",
      "            print \"learning_rate = \", learning_rate\n",
      "            print \"sample_size\", trees_sample_size\n",
      "            \n",
      "    return bunches[0]"
     ],
     "language": "python",
     "metadata": {},
     "outputs": [],
     "prompt_number": 65
    },
    {
     "cell_type": "code",
     "collapsed": false,
     "input": [
      "res_greedy = greed_up_features_bfs(trees,Xtr,Ytr,100.,logloss,1,10,100,True,0.95,0)"
     ],
     "language": "python",
     "metadata": {},
     "outputs": [
      {
       "output_type": "stream",
       "stream": "stdout",
       "text": [
        "\n",
        "iteration # 0  ntrees =  1 \n",
        "best loss =  0.297735914958\n",
        "learning_rate =  100.0\n",
        "sample_size 100\n",
        "\n",
        "iteration #"
       ]
      },
      {
       "output_type": "stream",
       "stream": "stdout",
       "text": [
        " 1  ntrees =  2 \n",
        "best loss =  0.267214831846 \n",
        "last loss =  0.267214831846\n",
        "learning_rate =  95.0\n",
        "sample_size 100\n",
        "\n",
        "iteration #"
       ]
      },
      {
       "output_type": "stream",
       "stream": "stdout",
       "text": [
        " 2  ntrees =  3 \n",
        "best loss =  0.265755040253 \n",
        "last loss =  0.265755040253\n",
        "learning_rate =  90.25\n",
        "sample_size 100\n",
        "\n",
        "iteration #"
       ]
      },
      {
       "output_type": "stream",
       "stream": "stdout",
       "text": [
        " 3  ntrees =  3 \n",
        "best loss =  0.265755040253 \n",
        "last loss =  0.266150148162\n",
        "learning_rate =  42.86875\n",
        "sample_size 100\n",
        "\n",
        "iteration #"
       ]
      },
      {
       "output_type": "stream",
       "stream": "stdout",
       "text": [
        " 4  ntrees =  4 \n",
        "best loss =  0.265044661146 \n",
        "last loss =  0.265044661146\n",
        "learning_rate =  40.7253125\n",
        "sample_size 100\n",
        "\n",
        "iteration #"
       ]
      },
      {
       "output_type": "stream",
       "stream": "stdout",
       "text": [
        " 5  ntrees =  5 \n",
        "best loss =  0.262921990914 \n",
        "last loss =  0.262921990914\n",
        "learning_rate =  38.689046875\n",
        "sample_size 100\n",
        "\n",
        "iteration #"
       ]
      },
      {
       "output_type": "stream",
       "stream": "stdout",
       "text": [
        " 6  ntrees =  6 \n",
        "best loss =  0.260273437094 \n",
        "last loss =  0.260273437094\n",
        "learning_rate =  36.7545945312\n",
        "sample_size 100\n",
        "\n",
        "iteration #"
       ]
      },
      {
       "output_type": "stream",
       "stream": "stdout",
       "text": [
        " 7  ntrees =  7 \n",
        "best loss =  0.258928411175 \n",
        "last loss =  0.258928411175\n",
        "learning_rate =  34.9168648047\n",
        "sample_size 100\n",
        "\n",
        "iteration #"
       ]
      },
      {
       "output_type": "stream",
       "stream": "stdout",
       "text": [
        " 8  ntrees =  8 \n",
        "best loss =  0.257681426685 \n",
        "last loss =  0.257681426685\n",
        "learning_rate =  33.1710215645\n",
        "sample_size 100\n",
        "\n",
        "iteration #"
       ]
      },
      {
       "output_type": "stream",
       "stream": "stdout",
       "text": [
        " 9  ntrees =  9 \n",
        "best loss =  0.256541509809 \n",
        "last loss =  0.256541509809\n",
        "learning_rate =  31.5124704862\n",
        "sample_size 100\n",
        "\n",
        "iteration #"
       ]
      },
      {
       "output_type": "stream",
       "stream": "stdout",
       "text": [
        " 10  ntrees =  10 \n",
        "best loss =  0.254798250827 \n",
        "last loss =  0.254798250827\n",
        "learning_rate =  29.9368469619\n",
        "sample_size 100\n"
       ]
      }
     ],
     "prompt_number": 74
    },
    {
     "cell_type": "code",
     "collapsed": false,
     "input": [
      "y_pred_greedy = predict(res_greedy,Xts)\n",
      "y_pred_stupid = predict(trees[:10],Xts)\n",
      "y_pred_full = predict(trees,Xts)\n",
      "print metrics.roc_auc_score(Yts,y_pred_greedy),metrics.roc_auc_score(Yts,y_pred_stupid),metrics.roc_auc_score(Yts,y_pred_full)\n",
      "print \"well...\""
     ],
     "language": "python",
     "metadata": {},
     "outputs": [
      {
       "output_type": "stream",
       "stream": "stdout",
       "text": [
        "0.848066648344 0.839377842342 0.913492924984\n",
        "well...\n"
       ]
      }
     ],
     "prompt_number": 76
    },
    {
     "cell_type": "markdown",
     "metadata": {},
     "source": [
      "The roc curves are at the bottom"
     ]
    },
    {
     "cell_type": "markdown",
     "metadata": {},
     "source": [
      "# Upper level thresholds extraction"
     ]
    },
    {
     "cell_type": "code",
     "collapsed": false,
     "input": [
      "#thresholds extraction\n",
      "cuts = lambda feature: reduce(np.append,[tree[1][tree[0] == feature] for tree in  trees])"
     ],
     "language": "python",
     "metadata": {},
     "outputs": [],
     "prompt_number": 77
    },
    {
     "cell_type": "code",
     "collapsed": false,
     "input": [
      "def get_inclusion(feature,tolerance=0.):\n",
      "    \"\"\"\n",
      "    Get the inclusion counts of thresholds\n",
      "    \"\"\"\n",
      "    thresholds = cuts(feature)\n",
      "    tolerance *= np.var(thresholds)\n",
      "    thrs = { threshold: len(filter(\n",
      "                                lambda thr: abs(thr - threshold) <= tolerance,\n",
      "                                thresholds)\n",
      "                           )\n",
      "            for threshold in set(thresholds)}\n",
      "    return thrs"
     ],
     "language": "python",
     "metadata": {},
     "outputs": [],
     "prompt_number": 78
    },
    {
     "cell_type": "code",
     "collapsed": false,
     "input": [
      "best = {i:get_inclusion(i,0.001) for i in range(30)}"
     ],
     "language": "python",
     "metadata": {},
     "outputs": [],
     "prompt_number": 79
    },
    {
     "cell_type": "code",
     "collapsed": false,
     "input": [
      "#usability distribution\n",
      "thresholds = reduce(np.append,[zip(np.repeat(i,len(best[i])),best[i].keys(),best[i].values()) for i in best])\n",
      "thresholds = thresholds.reshape(thresholds.shape[0]/3,3)"
     ],
     "language": "python",
     "metadata": {},
     "outputs": [],
     "prompt_number": 80
    },
    {
     "cell_type": "code",
     "collapsed": false,
     "input": [
      "plt.scatter(range(len(thresholds)),thresholds[:,2])\n",
      "print sum(thresholds[:,2] >150)"
     ],
     "language": "python",
     "metadata": {},
     "outputs": [
      {
       "output_type": "stream",
       "stream": "stdout",
       "text": [
        "96\n"
       ]
      },
      {
       "metadata": {},
       "output_type": "display_data",
       "png": "[encoded data removed]",
       "text": [
        "<matplotlib.figure.Figure at 0x27a4a828>"
       ]
      }
     ],
     "prompt_number": 81
    },
    {
     "cell_type": "markdown",
     "metadata": {},
     "source": [
      "# Criteria selection"
     ]
    },
    {
     "cell_type": "code",
     "collapsed": false,
     "input": [
      "def entropy(distribution):\n",
      "    \"\"\"just some entropy\"\"\"\n",
      "    logs = np.array(map(np.log,distribution))\n",
      "    logs[distribution ==0] = 0\n",
      "    return -sum(distribution*logs)"
     ],
     "language": "python",
     "metadata": {},
     "outputs": [],
     "prompt_number": 82
    },
    {
     "cell_type": "code",
     "collapsed": false,
     "input": [
      "def select_criteria(X, thresholds_active,depth,verbose = True):\n",
      "    \"\"\"\n",
      "    I find the most _even_ dichotomies of a given depth among the given thresholds... greedily\n",
      "    \"\"\"\n",
      "    leaves = {\"\":X}\n",
      "    criteria = []\n",
      "\n",
      "    old_leaves = copy.copy(leaves) #backup in case you're to lazy to restore em\n",
      "\n",
      "    for i in range(depth):\n",
      "        entropies = []\n",
      "        for feature,cut,_ in thresholds_active:\n",
      "            split_distribution = []\n",
      "            for leaf in leaves:\n",
      "                subsample = leaves[leaf]\n",
      "                predicate = (subsample[:,feature] > cut)\n",
      "                trues = sum(predicate)\n",
      "\n",
      "                split_distribution.append(trues)\n",
      "                split_distribution.append(subsample.shape[0] - trues)\n",
      "            split_distribution = np.array(split_distribution)/float(X.shape[0])\n",
      "            entropies.append( entropy(split_distribution))\n",
      "\n",
      "        feature,cut,_ = criterion = thresholds_active[entropies.index(max(entropies))]\n",
      "        new_leaves = {}\n",
      "        for leaf in leaves:\n",
      "            subsample = leaves[leaf]\n",
      "            predicate = (subsample[:,feature] > cut)\n",
      "            new_leaves[leaf+\"1\"] = subsample[predicate]\n",
      "            new_leaves[leaf+\"0\"] = subsample[predicate == False]\n",
      "\n",
      "        leaves = new_leaves    \n",
      "        criteria.append(criterion)\n",
      "        if verbose:\n",
      "            print [leaves[i].shape[0] for i in leaves]\n",
      "    return criteria"
     ],
     "language": "python",
     "metadata": {},
     "outputs": [],
     "prompt_number": 85
    },
    {
     "cell_type": "code",
     "collapsed": false,
     "input": [
      "#get them...\n",
      "thresholds_active = thresholds[thresholds[:,2]>100]\n",
      "print len(thresholds_active)\n",
      "criteria = select_criteria(Xtr,thresholds_active,3,True)"
     ],
     "language": "python",
     "metadata": {},
     "outputs": [
      {
       "output_type": "stream",
       "stream": "stdout",
       "text": [
        "190\n",
        "[99438L, 100562L]"
       ]
      },
      {
       "output_type": "stream",
       "stream": "stdout",
       "text": [
        "\n",
        "[44146L, 55292L, 41522L, 59040L]"
       ]
      },
      {
       "output_type": "stream",
       "stream": "stdout",
       "text": [
        "\n",
        "[39121L, 19919L, 23340L, 18182L, 22549L, 21597L, 18339L, 36953L]"
       ]
      },
      {
       "output_type": "stream",
       "stream": "stdout",
       "text": [
        "\n",
        "[2960L, 16959L, 8573L, 9609L, 18756L, 4584L, 18970L, 20151L, 17958L, 4591L, 11351L, 10246L, 10163L, 26790L, 8688L, 9651L]"
       ]
      },
      {
       "output_type": "stream",
       "stream": "stdout",
       "text": [
        "\n"
       ]
      }
     ],
     "prompt_number": 84
    },
    {
     "cell_type": "code",
     "collapsed": false,
     "input": [
      "criteria = criteria[:3]"
     ],
     "language": "python",
     "metadata": {},
     "outputs": [],
     "prompt_number": 96
    },
    {
     "cell_type": "code",
     "collapsed": false,
     "input": [
      "def split_upper(X,Y,criterea):\n",
      "    \"\"\"\n",
      "    I split the data into the leaves of the upper level ODT given it's criterea\n",
      "    \"\"\"\n",
      "    X_split = {'':X}\n",
      "    y_split = {'':Y}\n",
      "    for criterion in criteria:\n",
      "        feature,cut= criterion[0],criterion[1]\n",
      "        X_split_new = {}\n",
      "        y_split_new = {}\n",
      "        for splt in X_split:\n",
      "            dichotomy = X_split[splt][:,feature]> cut\n",
      "            X_split_new[splt+'1'] = X_split[splt][dichotomy]\n",
      "            X_split_new[splt+'0'] = X_split[splt][dichotomy == False]\n",
      "            y_split_new[splt+'1'] = y_split[splt][dichotomy]\n",
      "            y_split_new[splt+'0'] = y_split[splt][dichotomy == False]\n",
      "        X_split = X_split_new\n",
      "        y_split = y_split_new\n",
      "    return X_split,y_split"
     ],
     "language": "python",
     "metadata": {},
     "outputs": [],
     "prompt_number": 97
    },
    {
     "cell_type": "code",
     "collapsed": false,
     "input": [
      "X_split,Y_split = split_upper(Xtr,Ytr,criteria)\n",
      "print [X_split[i].shape[0] for i in X_split]"
     ],
     "language": "python",
     "metadata": {},
     "outputs": [
      {
       "output_type": "stream",
       "stream": "stdout",
       "text": [
        "[39121L, 19919L, 23340L, 18182L, 22549L, 21597L, 18339L, 36953L]\n"
       ]
      }
     ],
     "prompt_number": 98
    },
    {
     "cell_type": "code",
     "collapsed": false,
     "input": [
      "def train_splitted_boosts( trees,\n",
      "                           X_split,Y_split,\n",
      "                           learning_rate,\n",
      "                           loss,\n",
      "                           breadth,\n",
      "                           nTrees_leaf,\n",
      "                           trees_sample_size,\n",
      "                           verbose = True,\n",
      "                           learning_rate_decay = 1.,\n",
      "                           trees_sample_increase = 0):\n",
      "    \"\"\"\n",
      "    make greedy prune for every leaf in split\n",
      "    \"\"\"\n",
      "    leaves = X_split.keys()\n",
      "    dataPairs = [(X_split[s],Y_split[s]) for s in leaves]\n",
      "    \n",
      "    classis = []\n",
      "    for i in range(len(leaves)):\n",
      "        X_,y_ = dataPairs[i]\n",
      "        if verbose:\n",
      "            print \"\\n\\nNow training leaf \",leaves[i], i+1,\"/\",len(leaves)\n",
      "            print \"n_ samples at leaf = \", X_.shape[0]\n",
      "        classis.append(greed_up_features_bfs(\n",
      "                           trees,\n",
      "                           X_,y_,\n",
      "                           learning_rate,\n",
      "                           loss,\n",
      "                           breadth,\n",
      "                           nTrees_leaf,\n",
      "                           trees_sample_size,\n",
      "                           verbose,\n",
      "                           learning_rate_decay,\n",
      "                           trees_sample_increase\n",
      "                           ))\n",
      "    #same stuff in JL\n",
      "    #tasks = [joblib.delayed(greed_up_features_bfs)(\n",
      "    #                       trees,\n",
      "    #                       X_,y_,\n",
      "    #                       learning_rate,\n",
      "    #                       loss,\n",
      "    #                       breadth,\n",
      "    #                       nTrees_leaf,\n",
      "    #                       trees_sample_size,\n",
      "    #                       verbose,\n",
      "    #                       learning_rate_decay,\n",
      "    #                       trees_sample_increase\n",
      "    #                       ) for X_,y_ in dataPairs]\n",
      "    #classis = joblib.Parallel(n_jobs = -1)(tasks)\n",
      "\n",
      "    return {leaves[i]:classis[i] for i in range(len(leaves))}"
     ],
     "language": "python",
     "metadata": {},
     "outputs": [],
     "prompt_number": 99
    },
    {
     "cell_type": "code",
     "collapsed": false,
     "input": [
      "trees_splitted = train_splitted_boosts(trees, X_split,Y_split,100.,logloss,1,10,100,True,0.95)"
     ],
     "language": "python",
     "metadata": {},
     "outputs": [
      {
       "output_type": "stream",
       "stream": "stdout",
       "text": [
        "\n",
        "\n",
        "Now training leaf  010 1 / 8\n",
        "n_ samples at leaf =  39121\n",
        "\n",
        "iteration #"
       ]
      },
      {
       "output_type": "stream",
       "stream": "stdout",
       "text": [
        " 0  ntrees =  1 \n",
        "best loss =  0.0916564749517\n",
        "learning_rate =  100.0\n",
        "sample_size 100\n",
        "\n",
        "iteration #"
       ]
      },
      {
       "output_type": "stream",
       "stream": "stdout",
       "text": [
        " 1  ntrees =  1 \n",
        "best loss =  0.0916564749517 \n",
        "last loss =  0.092076951676\n",
        "learning_rate =  47.5\n",
        "sample_size 100\n",
        "\n",
        "iteration #"
       ]
      },
      {
       "output_type": "stream",
       "stream": "stdout",
       "text": [
        " 2  ntrees =  1 \n",
        "best loss =  0.0916564749517 \n",
        "last loss =  0.0920205657874\n",
        "learning_rate =  22.5625\n",
        "sample_size 100\n",
        "\n",
        "iteration #"
       ]
      },
      {
       "output_type": "stream",
       "stream": "stdout",
       "text": [
        " 3  ntrees =  1 \n",
        "best loss =  0.0916564749517 \n",
        "last loss =  0.0918149104549\n",
        "learning_rate =  10.7171875\n",
        "sample_size 100\n",
        "\n",
        "iteration #"
       ]
      },
      {
       "output_type": "stream",
       "stream": "stdout",
       "text": [
        " 4  ntrees =  1 \n",
        "best loss =  0.0916564749517 \n",
        "last loss =  0.0917320492047\n",
        "learning_rate =  5.0906640625\n",
        "sample_size 100\n",
        "\n",
        "iteration #"
       ]
      },
      {
       "output_type": "stream",
       "stream": "stdout",
       "text": [
        " 5  ntrees =  1 \n",
        "best loss =  0.0916564749517 \n",
        "last loss =  0.0916822541041\n",
        "learning_rate =  2.41806542969\n",
        "sample_size 100\n",
        "\n",
        "iteration #"
       ]
      },
      {
       "output_type": "stream",
       "stream": "stdout",
       "text": [
        " 6  ntrees =  1 \n",
        "best loss =  0.0916564749517 \n",
        "last loss =  0.091672482683\n",
        "learning_rate =  1.1485810791\n",
        "sample_size 100\n",
        "\n",
        "iteration #"
       ]
      },
      {
       "output_type": "stream",
       "stream": "stdout",
       "text": [
        " 7  ntrees =  1 \n",
        "best loss =  0.0916564749517 \n",
        "last loss =  0.091668813148\n",
        "learning_rate =  0.545576012573\n",
        "sample_size 100\n",
        "\n",
        "iteration #"
       ]
      },
      {
       "output_type": "stream",
       "stream": "stdout",
       "text": [
        " 8  ntrees =  1 \n",
        "best loss =  0.0916564749517 \n",
        "last loss =  0.091659878625\n",
        "learning_rate =  0.259148605972\n",
        "sample_size 100\n",
        "\n",
        "iteration #"
       ]
      },
      {
       "output_type": "stream",
       "stream": "stdout",
       "text": [
        " 9  ntrees =  1 \n",
        "best loss =  0.0916564749517 \n",
        "last loss =  0.0916577594936\n",
        "learning_rate =  0.123095587837\n",
        "sample_size 100\n",
        "\n",
        "iteration #"
       ]
      },
      {
       "output_type": "stream",
       "stream": "stdout",
       "text": [
        " 10  ntrees =  1 \n",
        "best loss =  0.0916564749517 \n",
        "last loss =  0.0916570345759\n",
        "learning_rate =  0.0584704042225\n",
        "sample_size 100\n",
        "\n",
        "iteration #"
       ]
      },
      {
       "output_type": "stream",
       "stream": "stdout",
       "text": [
        " 11  ntrees =  1 \n",
        "best loss =  0.0916564749517 \n",
        "last loss =  0.0916571601286\n",
        "learning_rate =  0.0277734420057\n",
        "sample_size 100\n",
        "\n",
        "iteration #"
       ]
      },
      {
       "output_type": "stream",
       "stream": "stdout",
       "text": [
        " 12  ntrees =  1 \n",
        "best loss =  0.0916564749517 \n",
        "last loss =  0.0916566465104\n",
        "learning_rate =  0.0131923849527\n",
        "sample_size 100\n",
        "\n",
        "iteration #"
       ]
      },
      {
       "output_type": "stream",
       "stream": "stdout",
       "text": [
        " 13  ntrees =  1 \n",
        "best loss =  0.0916564749517 \n",
        "last loss =  0.0916565620234\n",
        "learning_rate =  0.00626638285253\n",
        "sample_size 100\n",
        "\n",
        "iteration #"
       ]
      },
      {
       "output_type": "stream",
       "stream": "stdout",
       "text": [
        " 14  ntrees =  1 \n",
        "best loss =  0.0916564749517 \n",
        "last loss =  0.0916565300899\n",
        "learning_rate =  0.00297653185495\n",
        "sample_size 100\n",
        "\n",
        "iteration #"
       ]
      },
      {
       "output_type": "stream",
       "stream": "stdout",
       "text": [
        " 15  ntrees =  1 \n",
        "best loss =  0.0916564749517 \n",
        "last loss =  0.0916564975992\n",
        "learning_rate =  0.0014138526311\n",
        "sample_size 100\n",
        "\n",
        "iteration #"
       ]
      },
      {
       "output_type": "stream",
       "stream": "stdout",
       "text": [
        " 16  ntrees =  1 \n",
        "best loss =  0.0916564749517 \n",
        "last loss =  0.0916564872366\n",
        "learning_rate =  0.000671579999774\n",
        "sample_size 100\n",
        "\n",
        "iteration #"
       ]
      },
      {
       "output_type": "stream",
       "stream": "stdout",
       "text": [
        " 17  ntrees =  1 \n",
        "best loss =  0.0916564749517 \n",
        "last loss =  0.0916564781442\n",
        "learning_rate =  0.000319000499893\n",
        "sample_size 100\n",
        "\n",
        "iteration #"
       ]
      },
      {
       "output_type": "stream",
       "stream": "stdout",
       "text": [
        " 18  ntrees =  1 \n",
        "best loss =  0.0916564749517 \n",
        "last loss =  0.0916564765902\n",
        "learning_rate =  0.000151525237449\n",
        "sample_size 100\n",
        "\n",
        "iteration #"
       ]
      },
      {
       "output_type": "stream",
       "stream": "stdout",
       "text": [
        " 19  ntrees =  1 \n",
        "best loss =  0.0916564749517 \n",
        "last loss =  0.0916564763851\n",
        "learning_rate =  7.19744877883e-05\n",
        "sample_size 100\n",
        "\n",
        "iteration #"
       ]
      },
      {
       "output_type": "stream",
       "stream": "stdout",
       "text": [
        " 20  ntrees =  1 \n",
        "best loss =  0.0916564749517 \n",
        "last loss =  0.0916564755428\n",
        "learning_rate =  3.41878816994e-05\n",
        "sample_size 100\n",
        "\n",
        "iteration #"
       ]
      },
      {
       "output_type": "stream",
       "stream": "stdout",
       "text": [
        " 21  ntrees =  1 \n",
        "best loss =  0.0916564749517 \n",
        "last loss =  0.0916564751776\n",
        "learning_rate =  1.62392438072e-05\n",
        "sample_size 100\n",
        "\n",
        "\n",
        "Now training leaf "
       ]
      },
      {
       "output_type": "stream",
       "stream": "stdout",
       "text": [
        " 011 2 / 8\n",
        "n_ samples at leaf =  19919\n",
        "\n",
        "iteration #"
       ]
      },
      {
       "output_type": "stream",
       "stream": "stdout",
       "text": [
        " 0  ntrees =  1 \n",
        "best loss =  0.139434264718\n",
        "learning_rate =  100.0\n",
        "sample_size 100\n",
        "\n",
        "iteration #"
       ]
      },
      {
       "output_type": "stream",
       "stream": "stdout",
       "text": [
        " 1  ntrees =  1 \n",
        "best loss =  0.139434264718 \n",
        "last loss =  0.143936553443\n",
        "learning_rate =  47.5\n",
        "sample_size 100\n",
        "\n",
        "iteration #"
       ]
      },
      {
       "output_type": "stream",
       "stream": "stdout",
       "text": [
        " 2  ntrees =  1 \n",
        "best loss =  0.139434264718 \n",
        "last loss =  0.140374924093\n",
        "learning_rate =  22.5625\n",
        "sample_size 100\n",
        "\n",
        "iteration #"
       ]
      },
      {
       "output_type": "stream",
       "stream": "stdout",
       "text": [
        " 3  ntrees =  1 \n",
        "best loss =  0.139434264718 \n",
        "last loss =  0.140076637268\n",
        "learning_rate =  10.7171875\n",
        "sample_size 100\n",
        "\n",
        "iteration #"
       ]
      },
      {
       "output_type": "stream",
       "stream": "stdout",
       "text": [
        " 4  ntrees =  1 \n",
        "best loss =  0.139434264718 \n",
        "last loss =  0.139810314542\n",
        "learning_rate =  5.0906640625\n",
        "sample_size 100\n",
        "\n",
        "iteration #"
       ]
      },
      {
       "output_type": "stream",
       "stream": "stdout",
       "text": [
        " 5  ntrees =  1 \n",
        "best loss =  0.139434264718 \n",
        "last loss =  0.139572177873\n",
        "learning_rate =  2.41806542969\n",
        "sample_size 100\n",
        "\n",
        "iteration #"
       ]
      },
      {
       "output_type": "stream",
       "stream": "stdout",
       "text": [
        " 6  ntrees =  1 \n",
        "best loss =  0.139434264718 \n",
        "last loss =  0.139490043386\n",
        "learning_rate =  1.1485810791\n",
        "sample_size 100\n",
        "\n",
        "iteration #"
       ]
      },
      {
       "output_type": "stream",
       "stream": "stdout",
       "text": [
        " 7  ntrees =  1 \n",
        "best loss =  0.139434264718 \n",
        "last loss =  0.139466130339\n",
        "learning_rate =  0.545576012573\n",
        "sample_size 100\n",
        "\n",
        "iteration #"
       ]
      },
      {
       "output_type": "stream",
       "stream": "stdout",
       "text": [
        " 8  ntrees =  1 \n",
        "best loss =  0.139434264718 \n",
        "last loss =  0.139450808934\n",
        "learning_rate =  0.259148605972\n",
        "sample_size 100\n",
        "\n",
        "iteration #"
       ]
      },
      {
       "output_type": "stream",
       "stream": "stdout",
       "text": [
        " 9  ntrees =  1 \n",
        "best loss =  0.139434264718 \n",
        "last loss =  0.139442768821\n",
        "learning_rate =  0.123095587837\n",
        "sample_size 100\n",
        "\n",
        "iteration #"
       ]
      },
      {
       "output_type": "stream",
       "stream": "stdout",
       "text": [
        " 10  ntrees =  1 \n",
        "best loss =  0.139434264718 \n",
        "last loss =  0.139436720851\n",
        "learning_rate =  0.0584704042225\n",
        "sample_size 100\n",
        "\n",
        "iteration #"
       ]
      },
      {
       "output_type": "stream",
       "stream": "stdout",
       "text": [
        " 11  ntrees =  1 \n",
        "best loss =  0.139434264718 \n",
        "last loss =  0.139435986454\n",
        "learning_rate =  0.0277734420057\n",
        "sample_size 100\n",
        "\n",
        "iteration #"
       ]
      },
      {
       "output_type": "stream",
       "stream": "stdout",
       "text": [
        " 12  ntrees =  1 \n",
        "best loss =  0.139434264718 \n",
        "last loss =  0.139434748144\n",
        "learning_rate =  0.0131923849527\n",
        "sample_size 100\n",
        "\n",
        "iteration #"
       ]
      },
      {
       "output_type": "stream",
       "stream": "stdout",
       "text": [
        " 13  ntrees =  1 \n",
        "best loss =  0.139434264718 \n",
        "last loss =  0.139434668346\n",
        "learning_rate =  0.00626638285253\n",
        "sample_size 100\n",
        "\n",
        "iteration #"
       ]
      },
      {
       "output_type": "stream",
       "stream": "stdout",
       "text": [
        " 14  ntrees =  1 \n",
        "best loss =  0.139434264718 \n",
        "last loss =  0.139434433099\n",
        "learning_rate =  0.00297653185495\n",
        "sample_size 100\n",
        "\n",
        "iteration #"
       ]
      },
      {
       "output_type": "stream",
       "stream": "stdout",
       "text": [
        " 15  ntrees =  1 \n",
        "best loss =  0.139434264718 \n",
        "last loss =  0.139434302269\n",
        "learning_rate =  0.0014138526311\n",
        "sample_size 100\n",
        "\n",
        "iteration #"
       ]
      },
      {
       "output_type": "stream",
       "stream": "stdout",
       "text": [
        " 16  ntrees =  1 \n",
        "best loss =  0.139434264718 \n",
        "last loss =  0.139434289326\n",
        "learning_rate =  0.000671579999774\n",
        "sample_size 100\n",
        "\n",
        "iteration #"
       ]
      },
      {
       "output_type": "stream",
       "stream": "stdout",
       "text": [
        " 17  ntrees =  1 \n",
        "best loss =  0.139434264718 \n",
        "last loss =  0.139434284287\n",
        "learning_rate =  0.000319000499893\n",
        "sample_size 100\n",
        "\n",
        "iteration #"
       ]
      },
      {
       "output_type": "stream",
       "stream": "stdout",
       "text": [
        " 18  ntrees =  1 \n",
        "best loss =  0.139434264718 \n",
        "last loss =  0.139434272921\n",
        "learning_rate =  0.000151525237449\n",
        "sample_size 100\n",
        "\n",
        "iteration #"
       ]
      },
      {
       "output_type": "stream",
       "stream": "stdout",
       "text": [
        " 19  ntrees =  1 \n",
        "best loss =  0.139434264718 \n",
        "last loss =  0.139434268764\n",
        "learning_rate =  7.19744877883e-05\n",
        "sample_size 100\n",
        "\n",
        "iteration #"
       ]
      },
      {
       "output_type": "stream",
       "stream": "stdout",
       "text": [
        " 20  ntrees =  1 \n",
        "best loss =  0.139434264718 \n",
        "last loss =  0.139434266919\n",
        "learning_rate =  3.41878816994e-05\n",
        "sample_size 100\n",
        "\n",
        "iteration #"
       ]
      },
      {
       "output_type": "stream",
       "stream": "stdout",
       "text": [
        " 21  ntrees =  1 \n",
        "best loss =  0.139434264718 \n",
        "last loss =  0.139434265518\n",
        "learning_rate =  1.62392438072e-05\n",
        "sample_size 100\n",
        "\n",
        "\n",
        "Now training leaf "
       ]
      },
      {
       "output_type": "stream",
       "stream": "stdout",
       "text": [
        " 001 3 / 8\n",
        "n_ samples at leaf =  23340\n",
        "\n",
        "iteration #"
       ]
      },
      {
       "output_type": "stream",
       "stream": "stdout",
       "text": [
        " 0  ntrees =  1 \n",
        "best loss =  0.234873201291\n",
        "learning_rate =  100.0\n",
        "sample_size 100\n",
        "\n",
        "iteration #"
       ]
      },
      {
       "output_type": "stream",
       "stream": "stdout",
       "text": [
        " 1  ntrees =  1 \n",
        "best loss =  0.234873201291 \n",
        "last loss =  0.240372620469\n",
        "learning_rate =  47.5\n",
        "sample_size 100\n",
        "\n",
        "iteration #"
       ]
      },
      {
       "output_type": "stream",
       "stream": "stdout",
       "text": [
        " 2  ntrees =  1 \n",
        "best loss =  0.234873201291 \n",
        "last loss =  0.23582179759\n",
        "learning_rate =  22.5625\n",
        "sample_size 100\n",
        "\n",
        "iteration #"
       ]
      },
      {
       "output_type": "stream",
       "stream": "stdout",
       "text": [
        " 3  ntrees =  1 \n",
        "best loss =  0.234873201291 \n",
        "last loss =  0.235815227185\n",
        "learning_rate =  10.7171875\n",
        "sample_size 100\n",
        "\n",
        "iteration #"
       ]
      },
      {
       "output_type": "stream",
       "stream": "stdout",
       "text": [
        " 4  ntrees =  1 \n",
        "best loss =  0.234873201291 \n",
        "last loss =  0.234921632496\n",
        "learning_rate =  5.0906640625\n",
        "sample_size 100\n",
        "\n",
        "iteration #"
       ]
      },
      {
       "output_type": "stream",
       "stream": "stdout",
       "text": [
        " 5  ntrees =  1 \n",
        "best loss =  0.234873201291 \n",
        "last loss =  0.234926486102\n",
        "learning_rate =  2.41806542969\n",
        "sample_size 100\n",
        "\n",
        "iteration #"
       ]
      },
      {
       "output_type": "stream",
       "stream": "stdout",
       "text": [
        " 6  ntrees =  1 \n",
        "best loss =  0.234873201291 \n",
        "last loss =  0.234898463685\n",
        "learning_rate =  1.1485810791\n",
        "sample_size 100\n",
        "\n",
        "iteration #"
       ]
      },
      {
       "output_type": "stream",
       "stream": "stdout",
       "text": [
        " 7  ntrees =  2 \n",
        "best loss =  0.234844515213 \n",
        "last loss =  0.234844515213\n",
        "learning_rate =  1.09115202515\n",
        "sample_size 100\n",
        "\n",
        "iteration #"
       ]
      },
      {
       "output_type": "stream",
       "stream": "stdout",
       "text": [
        " 8  ntrees =  2 \n",
        "best loss =  0.234844515213 \n",
        "last loss =  0.234858034328\n",
        "learning_rate =  0.518297211945\n",
        "sample_size 100\n",
        "\n",
        "iteration #"
       ]
      },
      {
       "output_type": "stream",
       "stream": "stdout",
       "text": [
        " 9  ntrees =  2 \n",
        "best loss =  0.234844515213 \n",
        "last loss =  0.234845067743\n",
        "learning_rate =  0.246191175674\n",
        "sample_size 100\n",
        "\n",
        "iteration #"
       ]
      },
      {
       "output_type": "stream",
       "stream": "stdout",
       "text": [
        " 10  ntrees =  2 \n",
        "best loss =  0.234844515213 \n",
        "last loss =  0.234847855769\n",
        "learning_rate =  0.116940808445\n",
        "sample_size 100\n",
        "\n",
        "iteration #"
       ]
      },
      {
       "output_type": "stream",
       "stream": "stdout",
       "text": [
        " 11  ntrees =  3 \n",
        "best loss =  0.234842178646 \n",
        "last loss =  0.234842178646\n",
        "learning_rate =  0.111093768023\n",
        "sample_size 100\n",
        "\n",
        "iteration #"
       ]
      },
      {
       "output_type": "stream",
       "stream": "stdout",
       "text": [
        " 12  ntrees =  3 \n",
        "best loss =  0.234842178646 \n",
        "last loss =  0.234843296945\n",
        "learning_rate =  0.0527695398108\n",
        "sample_size 100\n",
        "\n",
        "iteration #"
       ]
      },
      {
       "output_type": "stream",
       "stream": "stdout",
       "text": [
        " 13  ntrees =  3 \n",
        "best loss =  0.234842178646 \n",
        "last loss =  0.234842181482\n",
        "learning_rate =  0.0250655314101\n",
        "sample_size 100\n",
        "\n",
        "iteration #"
       ]
      },
      {
       "output_type": "stream",
       "stream": "stdout",
       "text": [
        " 14  ntrees =  3 \n",
        "best loss =  0.234842178646 \n",
        "last loss =  0.234842683947\n",
        "learning_rate =  0.0119061274198\n",
        "sample_size 100\n",
        "\n",
        "iteration #"
       ]
      },
      {
       "output_type": "stream",
       "stream": "stdout",
       "text": [
        " 15  ntrees =  3 \n",
        "best loss =  0.234842178646 \n",
        "last loss =  0.234842461184\n",
        "learning_rate =  0.00565541052441\n",
        "sample_size 100\n",
        "\n",
        "iteration #"
       ]
      },
      {
       "output_type": "stream",
       "stream": "stdout",
       "text": [
        " 16  ntrees =  3 \n",
        "best loss =  0.234842178646 \n",
        "last loss =  0.234842197041\n",
        "learning_rate =  0.0026863199991\n",
        "sample_size 100\n",
        "\n",
        "iteration #"
       ]
      },
      {
       "output_type": "stream",
       "stream": "stdout",
       "text": [
        " 17  ntrees =  4 \n",
        "best loss =  0.234842129755 \n",
        "last loss =  0.234842129755\n",
        "learning_rate =  0.00255200399914\n",
        "sample_size 100\n",
        "\n",
        "iteration #"
       ]
      },
      {
       "output_type": "stream",
       "stream": "stdout",
       "text": [
        " 18  ntrees =  4 \n",
        "best loss =  0.234842129755 \n",
        "last loss =  0.234842187587\n",
        "learning_rate =  0.00121220189959\n",
        "sample_size 100\n",
        "\n",
        "iteration #"
       ]
      },
      {
       "output_type": "stream",
       "stream": "stdout",
       "text": [
        " 19  ntrees =  4 \n",
        "best loss =  0.234842129755 \n",
        "last loss =  0.234842147505\n",
        "learning_rate =  0.000575795902306\n",
        "sample_size 100\n",
        "\n",
        "iteration #"
       ]
      },
      {
       "output_type": "stream",
       "stream": "stdout",
       "text": [
        " 20  ntrees =  4 \n",
        "best loss =  0.234842129755 \n",
        "last loss =  0.234842133929\n",
        "learning_rate =  0.000273503053595\n",
        "sample_size 100\n",
        "\n",
        "iteration #"
       ]
      },
      {
       "output_type": "stream",
       "stream": "stdout",
       "text": [
        " 21  ntrees =  5 \n",
        "best loss =  0.234842122815 \n",
        "last loss =  0.234842122815\n",
        "learning_rate =  0.000259827900916\n",
        "sample_size 100\n",
        "\n",
        "iteration #"
       ]
      },
      {
       "output_type": "stream",
       "stream": "stdout",
       "text": [
        " 22  ntrees =  6 \n",
        "best loss =  0.234842121814 \n",
        "last loss =  0.234842121814\n",
        "learning_rate =  0.00024683650587\n",
        "sample_size 100\n",
        "\n",
        "iteration #"
       ]
      },
      {
       "output_type": "stream",
       "stream": "stdout",
       "text": [
        " 23  ntrees =  7 \n",
        "best loss =  0.234842117322 \n",
        "last loss =  0.234842117322\n",
        "learning_rate =  0.000234494680576\n",
        "sample_size 100\n",
        "\n",
        "iteration #"
       ]
      },
      {
       "output_type": "stream",
       "stream": "stdout",
       "text": [
        " 24  ntrees =  7 \n",
        "best loss =  0.234842117322 \n",
        "last loss =  0.234842121424\n",
        "learning_rate =  0.000111384973274\n",
        "sample_size 100\n",
        "\n",
        "iteration #"
       ]
      },
      {
       "output_type": "stream",
       "stream": "stdout",
       "text": [
        " 25  ntrees =  7 \n",
        "best loss =  0.234842117322 \n",
        "last loss =  0.234842120748\n",
        "learning_rate =  5.2907862305e-05\n",
        "sample_size 100\n",
        "\n",
        "iteration #"
       ]
      },
      {
       "output_type": "stream",
       "stream": "stdout",
       "text": [
        " 26  ntrees =  7 \n",
        "best loss =  0.234842117322 \n",
        "last loss =  0.234842117762\n",
        "learning_rate =  2.51312345949e-05\n",
        "sample_size 100\n",
        "\n",
        "iteration #"
       ]
      },
      {
       "output_type": "stream",
       "stream": "stdout",
       "text": [
        " 27  ntrees =  7 \n",
        "best loss =  0.234842117322 \n",
        "last loss =  0.23484211778\n",
        "learning_rate =  1.19373364326e-05\n",
        "sample_size 100\n",
        "\n",
        "\n",
        "Now training leaf "
       ]
      },
      {
       "output_type": "stream",
       "stream": "stdout",
       "text": [
        " 000 4 / 8\n",
        "n_ samples at leaf =  18182\n",
        "\n",
        "iteration #"
       ]
      },
      {
       "output_type": "stream",
       "stream": "stdout",
       "text": [
        " 0  ntrees =  1 \n",
        "best loss =  0.320606218154\n",
        "learning_rate =  100.0\n",
        "sample_size 100\n",
        "\n",
        "iteration #"
       ]
      },
      {
       "output_type": "stream",
       "stream": "stdout",
       "text": [
        " 1  ntrees =  2 \n",
        "best loss =  0.312595408836 \n",
        "last loss =  0.312595408836\n",
        "learning_rate =  95.0\n",
        "sample_size 100\n",
        "\n",
        "iteration #"
       ]
      },
      {
       "output_type": "stream",
       "stream": "stdout",
       "text": [
        " 2  ntrees =  3 \n",
        "best loss =  0.309975986429 \n",
        "last loss =  0.309975986429\n",
        "learning_rate =  90.25\n",
        "sample_size 100\n",
        "\n",
        "iteration #"
       ]
      },
      {
       "output_type": "stream",
       "stream": "stdout",
       "text": [
        " 3  ntrees =  4 \n",
        "best loss =  0.309506497622 \n",
        "last loss =  0.309506497622\n",
        "learning_rate =  85.7375\n",
        "sample_size 100\n",
        "\n",
        "iteration #"
       ]
      },
      {
       "output_type": "stream",
       "stream": "stdout",
       "text": [
        " 4  ntrees =  4 \n",
        "best loss =  0.309506497622 \n",
        "last loss =  0.309789235576\n",
        "learning_rate =  40.7253125\n",
        "sample_size 100\n",
        "\n",
        "iteration #"
       ]
      },
      {
       "output_type": "stream",
       "stream": "stdout",
       "text": [
        " 5  ntrees =  5 \n",
        "best loss =  0.307991190145 \n",
        "last loss =  0.307991190145\n",
        "learning_rate =  38.689046875\n",
        "sample_size 100\n",
        "\n",
        "iteration #"
       ]
      },
      {
       "output_type": "stream",
       "stream": "stdout",
       "text": [
        " 6  ntrees =  5 \n",
        "best loss =  0.307991190145 \n",
        "last loss =  0.308438649366\n",
        "learning_rate =  18.3772972656\n",
        "sample_size 100\n",
        "\n",
        "iteration #"
       ]
      },
      {
       "output_type": "stream",
       "stream": "stdout",
       "text": [
        " 7  ntrees =  5 \n",
        "best loss =  0.307991190145 \n",
        "last loss =  0.308338185706\n",
        "learning_rate =  8.72921620117\n",
        "sample_size 100\n",
        "\n",
        "iteration #"
       ]
      },
      {
       "output_type": "stream",
       "stream": "stdout",
       "text": [
        " 8  ntrees =  6 \n",
        "best loss =  0.307907098632 \n",
        "last loss =  0.307907098632\n",
        "learning_rate =  8.29275539111\n",
        "sample_size 100\n",
        "\n",
        "iteration #"
       ]
      },
      {
       "output_type": "stream",
       "stream": "stdout",
       "text": [
        " 9  ntrees =  6 \n",
        "best loss =  0.307907098632 \n",
        "last loss =  0.307959888908\n",
        "learning_rate =  3.93905881078\n",
        "sample_size 100\n",
        "\n",
        "iteration #"
       ]
      },
      {
       "output_type": "stream",
       "stream": "stdout",
       "text": [
        " 10  ntrees =  6 \n",
        "best loss =  0.307907098632 \n",
        "last loss =  0.307937628872\n",
        "learning_rate =  1.87105293512\n",
        "sample_size 100\n",
        "\n",
        "iteration #"
       ]
      },
      {
       "output_type": "stream",
       "stream": "stdout",
       "text": [
        " 11  ntrees =  6 \n",
        "best loss =  0.307907098632 \n",
        "last loss =  0.307940923546\n",
        "learning_rate =  0.888750144182\n",
        "sample_size 100\n",
        "\n",
        "iteration #"
       ]
      },
      {
       "output_type": "stream",
       "stream": "stdout",
       "text": [
        " 12  ntrees =  6 \n",
        "best loss =  0.307907098632 \n",
        "last loss =  0.307924072526\n",
        "learning_rate =  0.422156318486\n",
        "sample_size 100\n",
        "\n",
        "iteration #"
       ]
      },
      {
       "output_type": "stream",
       "stream": "stdout",
       "text": [
        " 13  ntrees =  6 \n",
        "best loss =  0.307907098632 \n",
        "last loss =  0.307911068193\n",
        "learning_rate =  0.200524251281\n",
        "sample_size 100\n",
        "\n",
        "iteration #"
       ]
      },
      {
       "output_type": "stream",
       "stream": "stdout",
       "text": [
        " 14  ntrees =  6 \n",
        "best loss =  0.307907098632 \n",
        "last loss =  0.307910053178\n",
        "learning_rate =  0.0952490193585\n",
        "sample_size 100\n",
        "\n",
        "iteration #"
       ]
      },
      {
       "output_type": "stream",
       "stream": "stdout",
       "text": [
        " 15  ntrees =  6 \n",
        "best loss =  0.307907098632 \n",
        "last loss =  0.307908822627\n",
        "learning_rate =  0.0452432841953\n",
        "sample_size 100\n",
        "\n",
        "iteration #"
       ]
      },
      {
       "output_type": "stream",
       "stream": "stdout",
       "text": [
        " 16  ntrees =  6 \n",
        "best loss =  0.307907098632 \n",
        "last loss =  0.307907680574\n",
        "learning_rate =  0.0214905599928\n",
        "sample_size 100\n",
        "\n",
        "iteration #"
       ]
      },
      {
       "output_type": "stream",
       "stream": "stdout",
       "text": [
        " 17  ntrees =  6 \n",
        "best loss =  0.307907098632 \n",
        "last loss =  0.307907528229\n",
        "learning_rate =  0.0102080159966\n",
        "sample_size 100\n",
        "\n",
        "iteration #"
       ]
      },
      {
       "output_type": "stream",
       "stream": "stdout",
       "text": [
        " 18  ntrees =  6 \n",
        "best loss =  0.307907098632 \n",
        "last loss =  0.30790717464\n",
        "learning_rate =  0.00484880759837\n",
        "sample_size 100\n",
        "\n",
        "iteration #"
       ]
      },
      {
       "output_type": "stream",
       "stream": "stdout",
       "text": [
        " 19  ntrees =  6 \n",
        "best loss =  0.307907098632 \n",
        "last loss =  0.307907130811\n",
        "learning_rate =  0.00230318360922\n",
        "sample_size 100\n",
        "\n",
        "iteration #"
       ]
      },
      {
       "output_type": "stream",
       "stream": "stdout",
       "text": [
        " 20  ntrees =  6 \n",
        "best loss =  0.307907098632 \n",
        "last loss =  0.307907114267\n",
        "learning_rate =  0.00109401221438\n",
        "sample_size 100\n",
        "\n",
        "iteration #"
       ]
      },
      {
       "output_type": "stream",
       "stream": "stdout",
       "text": [
        " 21  ntrees =  6 \n",
        "best loss =  0.307907098632 \n",
        "last loss =  0.307907104809\n",
        "learning_rate =  0.000519655801831\n",
        "sample_size 100\n",
        "\n",
        "iteration #"
       ]
      },
      {
       "output_type": "stream",
       "stream": "stdout",
       "text": [
        " 22  ntrees =  6 \n",
        "best loss =  0.307907098632 \n",
        "last loss =  0.307907104463\n",
        "learning_rate =  0.00024683650587\n",
        "sample_size 100\n",
        "\n",
        "iteration #"
       ]
      },
      {
       "output_type": "stream",
       "stream": "stdout",
       "text": [
        " 23  ntrees =  6 \n",
        "best loss =  0.307907098632 \n",
        "last loss =  0.307907099945\n",
        "learning_rate =  0.000117247340288\n",
        "sample_size 100\n",
        "\n",
        "iteration #"
       ]
      },
      {
       "output_type": "stream",
       "stream": "stdout",
       "text": [
        " 24  ntrees =  6 \n",
        "best loss =  0.307907098632 \n",
        "last loss =  0.307907099037\n",
        "learning_rate =  5.56924866369e-05\n",
        "sample_size 100\n",
        "\n",
        "iteration #"
       ]
      },
      {
       "output_type": "stream",
       "stream": "stdout",
       "text": [
        " 25  ntrees =  6 \n",
        "best loss =  0.307907098632 \n",
        "last loss =  0.307907098964\n",
        "learning_rate =  2.64539311525e-05\n",
        "sample_size 100\n",
        "\n",
        "iteration #"
       ]
      },
      {
       "output_type": "stream",
       "stream": "stdout",
       "text": [
        " 26  ntrees =  6 \n",
        "best loss =  0.307907098632 \n",
        "last loss =  0.307907099118\n",
        "learning_rate =  1.25656172974e-05\n",
        "sample_size 100\n",
        "\n",
        "\n",
        "Now training leaf "
       ]
      },
      {
       "output_type": "stream",
       "stream": "stdout",
       "text": [
        " 111 5 / 8\n",
        "n_ samples at leaf =  22549\n",
        "\n",
        "iteration #"
       ]
      },
      {
       "output_type": "stream",
       "stream": "stdout",
       "text": [
        " 0  ntrees =  1 \n",
        "best loss =  0.259697217863\n",
        "learning_rate =  100.0\n",
        "sample_size 100\n",
        "\n",
        "iteration #"
       ]
      },
      {
       "output_type": "stream",
       "stream": "stdout",
       "text": [
        " 1  ntrees =  2 \n",
        "best loss =  0.255121484762 \n",
        "last loss =  0.255121484762\n",
        "learning_rate =  95.0\n",
        "sample_size 100\n",
        "\n",
        "iteration #"
       ]
      },
      {
       "output_type": "stream",
       "stream": "stdout",
       "text": [
        " 2  ntrees =  3 \n",
        "best loss =  0.251855306025 \n",
        "last loss =  0.251855306025\n",
        "learning_rate =  90.25\n",
        "sample_size 100\n",
        "\n",
        "iteration #"
       ]
      },
      {
       "output_type": "stream",
       "stream": "stdout",
       "text": [
        " 3  ntrees =  4 \n",
        "best loss =  0.249737039441 \n",
        "last loss =  0.249737039441\n",
        "learning_rate =  85.7375\n",
        "sample_size 100\n",
        "\n",
        "iteration #"
       ]
      },
      {
       "output_type": "stream",
       "stream": "stdout",
       "text": [
        " 4  ntrees =  5 \n",
        "best loss =  0.246663415405 \n",
        "last loss =  0.246663415405\n",
        "learning_rate =  81.450625\n",
        "sample_size 100\n",
        "\n",
        "iteration #"
       ]
      },
      {
       "output_type": "stream",
       "stream": "stdout",
       "text": [
        " 5  ntrees =  6 \n",
        "best loss =  0.244355178575 \n",
        "last loss =  0.244355178575\n",
        "learning_rate =  77.37809375\n",
        "sample_size 100\n",
        "\n",
        "iteration #"
       ]
      },
      {
       "output_type": "stream",
       "stream": "stdout",
       "text": [
        " 6  ntrees =  7 \n",
        "best loss =  0.241207983661 \n",
        "last loss =  0.241207983661\n",
        "learning_rate =  73.5091890625\n",
        "sample_size 100\n",
        "\n",
        "iteration #"
       ]
      },
      {
       "output_type": "stream",
       "stream": "stdout",
       "text": [
        " 7  ntrees =  8 \n",
        "best loss =  0.238317743221 \n",
        "last loss =  0.238317743221\n",
        "learning_rate =  69.8337296094\n",
        "sample_size 100\n",
        "\n",
        "iteration #"
       ]
      },
      {
       "output_type": "stream",
       "stream": "stdout",
       "text": [
        " 8  ntrees =  9 \n",
        "best loss =  0.236386216287 \n",
        "last loss =  0.236386216287\n",
        "learning_rate =  66.3420431289\n",
        "sample_size 100\n",
        "\n",
        "iteration #"
       ]
      },
      {
       "output_type": "stream",
       "stream": "stdout",
       "text": [
        " 9  ntrees =  10 \n",
        "best loss =  0.235429722833 \n",
        "last loss =  0.235429722833\n",
        "learning_rate =  63.0249409725\n",
        "sample_size 100\n",
        "\n",
        "\n",
        "Now training leaf  110 6 / 8\n",
        "n_ samples at leaf =  21597\n",
        "\n",
        "iteration #"
       ]
      },
      {
       "output_type": "stream",
       "stream": "stdout",
       "text": [
        " 0  ntrees =  1 \n",
        "best loss =  0.2000468022\n",
        "learning_rate =  100.0\n",
        "sample_size 100\n",
        "\n",
        "iteration #"
       ]
      },
      {
       "output_type": "stream",
       "stream": "stdout",
       "text": [
        " 1  ntrees =  1 \n",
        "best loss =  0.2000468022 \n",
        "last loss =  0.200807337444\n",
        "learning_rate =  47.5\n",
        "sample_size 100\n",
        "\n",
        "iteration #"
       ]
      },
      {
       "output_type": "stream",
       "stream": "stdout",
       "text": [
        " 2  ntrees =  1 \n",
        "best loss =  0.2000468022 \n",
        "last loss =  0.200103406962\n",
        "learning_rate =  22.5625\n",
        "sample_size 100\n",
        "\n",
        "iteration #"
       ]
      },
      {
       "output_type": "stream",
       "stream": "stdout",
       "text": [
        " 3  ntrees =  1 \n",
        "best loss =  0.2000468022 \n",
        "last loss =  0.200156144707\n",
        "learning_rate =  10.7171875\n",
        "sample_size 100\n",
        "\n",
        "iteration #"
       ]
      },
      {
       "output_type": "stream",
       "stream": "stdout",
       "text": [
        " 4  ntrees =  1 \n",
        "best loss =  0.2000468022 \n",
        "last loss =  0.200065127841\n",
        "learning_rate =  5.0906640625\n",
        "sample_size 100\n",
        "\n",
        "iteration #"
       ]
      },
      {
       "output_type": "stream",
       "stream": "stdout",
       "text": [
        " 5  ntrees =  1 \n",
        "best loss =  0.2000468022 \n",
        "last loss =  0.200063236184\n",
        "learning_rate =  2.41806542969\n",
        "sample_size 100\n",
        "\n",
        "iteration #"
       ]
      },
      {
       "output_type": "stream",
       "stream": "stdout",
       "text": [
        " 6  ntrees =  1 \n",
        "best loss =  0.2000468022 \n",
        "last loss =  0.200050555702\n",
        "learning_rate =  1.1485810791\n",
        "sample_size 100\n",
        "\n",
        "iteration #"
       ]
      },
      {
       "output_type": "stream",
       "stream": "stdout",
       "text": [
        " 7  ntrees =  2 \n",
        "best loss =  0.200046787578 \n",
        "last loss =  0.200046787578\n",
        "learning_rate =  1.09115202515\n",
        "sample_size 100\n",
        "\n",
        "iteration #"
       ]
      },
      {
       "output_type": "stream",
       "stream": "stdout",
       "text": [
        " 8  ntrees =  2 \n",
        "best loss =  0.200046787578 \n",
        "last loss =  0.200049713809\n",
        "learning_rate =  0.518297211945\n",
        "sample_size 100\n",
        "\n",
        "iteration #"
       ]
      },
      {
       "output_type": "stream",
       "stream": "stdout",
       "text": [
        " 9  ntrees =  2 \n",
        "best loss =  0.200046787578 \n",
        "last loss =  0.200049125054\n",
        "learning_rate =  0.246191175674\n",
        "sample_size 100\n",
        "\n",
        "iteration #"
       ]
      },
      {
       "output_type": "stream",
       "stream": "stdout",
       "text": [
        " 10  ntrees =  2 \n",
        "best loss =  0.200046787578 \n",
        "last loss =  0.200047254229\n",
        "learning_rate =  0.116940808445\n",
        "sample_size 100\n",
        "\n",
        "iteration #"
       ]
      },
      {
       "output_type": "stream",
       "stream": "stdout",
       "text": [
        " 11  ntrees =  2 \n",
        "best loss =  0.200046787578 \n",
        "last loss =  0.200047092698\n",
        "learning_rate =  0.0555468840114\n",
        "sample_size 100\n",
        "\n",
        "iteration #"
       ]
      },
      {
       "output_type": "stream",
       "stream": "stdout",
       "text": [
        " 12  ntrees =  2 \n",
        "best loss =  0.200046787578 \n",
        "last loss =  0.200046891042\n",
        "learning_rate =  0.0263847699054\n",
        "sample_size 100\n",
        "\n",
        "iteration #"
       ]
      },
      {
       "output_type": "stream",
       "stream": "stdout",
       "text": [
        " 13  ntrees =  2 \n",
        "best loss =  0.200046787578 \n",
        "last loss =  0.200046884008\n",
        "learning_rate =  0.0125327657051\n",
        "sample_size 100\n",
        "\n",
        "iteration #"
       ]
      },
      {
       "output_type": "stream",
       "stream": "stdout",
       "text": [
        " 14  ntrees =  2 \n",
        "best loss =  0.200046787578 \n",
        "last loss =  0.200046878093\n",
        "learning_rate =  0.00595306370991\n",
        "sample_size 100\n",
        "\n",
        "iteration #"
       ]
      },
      {
       "output_type": "stream",
       "stream": "stdout",
       "text": [
        " 15  ntrees =  2 \n",
        "best loss =  0.200046787578 \n",
        "last loss =  0.200046795033\n",
        "learning_rate =  0.00282770526221\n",
        "sample_size 100\n",
        "\n",
        "iteration #"
       ]
      },
      {
       "output_type": "stream",
       "stream": "stdout",
       "text": [
        " 16  ntrees =  2 \n",
        "best loss =  0.200046787578 \n",
        "last loss =  0.200046799295\n",
        "learning_rate =  0.00134315999955\n",
        "sample_size 100\n",
        "\n",
        "iteration #"
       ]
      },
      {
       "output_type": "stream",
       "stream": "stdout",
       "text": [
        " 17  ntrees =  2 \n",
        "best loss =  0.200046787578 \n",
        "last loss =  0.200046788549\n",
        "learning_rate =  0.000638000999785\n",
        "sample_size 100\n",
        "\n",
        "iteration #"
       ]
      },
      {
       "output_type": "stream",
       "stream": "stdout",
       "text": [
        " 18  ntrees =  2 \n",
        "best loss =  0.200046787578 \n",
        "last loss =  0.200046787691\n",
        "learning_rate =  0.000303050474898\n",
        "sample_size 100\n",
        "\n",
        "iteration #"
       ]
      },
      {
       "output_type": "stream",
       "stream": "stdout",
       "text": [
        " 19  ntrees =  2 \n",
        "best loss =  0.200046787578 \n",
        "last loss =  0.200046788003\n",
        "learning_rate =  0.000143948975577\n",
        "sample_size 100\n",
        "\n",
        "iteration #"
       ]
      },
      {
       "output_type": "stream",
       "stream": "stdout",
       "text": [
        " 20  ntrees =  2 \n",
        "best loss =  0.200046787578 \n",
        "last loss =  0.20004678898\n",
        "learning_rate =  6.83757633988e-05\n",
        "sample_size 100\n",
        "\n",
        "iteration #"
       ]
      },
      {
       "output_type": "stream",
       "stream": "stdout",
       "text": [
        " 21  ntrees =  2 \n",
        "best loss =  0.200046787578 \n",
        "last loss =  0.200046787758\n",
        "learning_rate =  3.24784876145e-05\n",
        "sample_size 100\n",
        "\n",
        "iteration #"
       ]
      },
      {
       "output_type": "stream",
       "stream": "stdout",
       "text": [
        " 22  ntrees =  3 \n",
        "best loss =  0.200046787577 \n",
        "last loss =  0.200046787577\n",
        "learning_rate =  3.08545632337e-05\n",
        "sample_size 100\n",
        "\n",
        "iteration #"
       ]
      },
      {
       "output_type": "stream",
       "stream": "stdout",
       "text": [
        " 23  ntrees =  3 \n",
        "best loss =  0.200046787577 \n",
        "last loss =  0.20004678761\n",
        "learning_rate =  1.4655917536e-05\n",
        "sample_size 100\n",
        "\n",
        "\n",
        "Now training leaf "
       ]
      },
      {
       "output_type": "stream",
       "stream": "stdout",
       "text": [
        " 100 7 / 8\n",
        "n_ samples at leaf =  18339\n",
        "\n",
        "iteration #"
       ]
      },
      {
       "output_type": "stream",
       "stream": "stdout",
       "text": [
        " 0  ntrees =  1 \n",
        "best loss =  0.286552990961\n",
        "learning_rate =  100.0\n",
        "sample_size 100\n",
        "\n",
        "iteration #"
       ]
      },
      {
       "output_type": "stream",
       "stream": "stdout",
       "text": [
        " 1  ntrees =  2 \n",
        "best loss =  0.28295644065 \n",
        "last loss =  0.28295644065\n",
        "learning_rate =  95.0\n",
        "sample_size 100\n",
        "\n",
        "iteration #"
       ]
      },
      {
       "output_type": "stream",
       "stream": "stdout",
       "text": [
        " 2  ntrees =  2 \n",
        "best loss =  0.28295644065 \n",
        "last loss =  0.284009524822\n",
        "learning_rate =  45.125\n",
        "sample_size 100\n",
        "\n",
        "iteration #"
       ]
      },
      {
       "output_type": "stream",
       "stream": "stdout",
       "text": [
        " 3  ntrees =  2 \n",
        "best loss =  0.28295644065 \n",
        "last loss =  0.283101738876\n",
        "learning_rate =  21.434375\n",
        "sample_size 100\n",
        "\n",
        "iteration #"
       ]
      },
      {
       "output_type": "stream",
       "stream": "stdout",
       "text": [
        " 4  ntrees =  3 \n",
        "best loss =  0.282864607247 \n",
        "last loss =  0.282864607247\n",
        "learning_rate =  20.36265625\n",
        "sample_size 100\n",
        "\n",
        "iteration #"
       ]
      },
      {
       "output_type": "stream",
       "stream": "stdout",
       "text": [
        " 5  ntrees =  3 \n",
        "best loss =  0.282864607247 \n",
        "last loss =  0.282900368697\n",
        "learning_rate =  9.67226171875\n",
        "sample_size 100\n",
        "\n",
        "iteration #"
       ]
      },
      {
       "output_type": "stream",
       "stream": "stdout",
       "text": [
        " 6  ntrees =  3 \n",
        "best loss =  0.282864607247 \n",
        "last loss =  0.282888809057\n",
        "learning_rate =  4.59432431641\n",
        "sample_size 100\n",
        "\n",
        "iteration #"
       ]
      },
      {
       "output_type": "stream",
       "stream": "stdout",
       "text": [
        " 7  ntrees =  3 \n",
        "best loss =  0.282864607247 \n",
        "last loss =  0.282864896198\n",
        "learning_rate =  2.18230405029\n",
        "sample_size 100\n",
        "\n",
        "iteration #"
       ]
      },
      {
       "output_type": "stream",
       "stream": "stdout",
       "text": [
        " 8  ntrees =  4 \n",
        "best loss =  0.282858681444 \n",
        "last loss =  0.282858681444\n",
        "learning_rate =  2.07318884778\n",
        "sample_size 100\n",
        "\n",
        "iteration #"
       ]
      },
      {
       "output_type": "stream",
       "stream": "stdout",
       "text": [
        " 9  ntrees =  4 \n",
        "best loss =  0.282858681444 \n",
        "last loss =  0.282876280504\n",
        "learning_rate =  0.984764702695\n",
        "sample_size 100\n",
        "\n",
        "iteration #"
       ]
      },
      {
       "output_type": "stream",
       "stream": "stdout",
       "text": [
        " 10  ntrees =  4 \n",
        "best loss =  0.282858681444 \n",
        "last loss =  0.282862854894\n",
        "learning_rate =  0.46776323378\n",
        "sample_size 100\n",
        "\n",
        "iteration #"
       ]
      },
      {
       "output_type": "stream",
       "stream": "stdout",
       "text": [
        " 11  ntrees =  5 \n",
        "best loss =  0.282858479799 \n",
        "last loss =  0.282858479799\n",
        "learning_rate =  0.444375072091\n",
        "sample_size 100\n",
        "\n",
        "iteration #"
       ]
      },
      {
       "output_type": "stream",
       "stream": "stdout",
       "text": [
        " 12  ntrees =  5 \n",
        "best loss =  0.282858479799 \n",
        "last loss =  0.282860745867\n",
        "learning_rate =  0.211078159243\n",
        "sample_size 100\n",
        "\n",
        "iteration #"
       ]
      },
      {
       "output_type": "stream",
       "stream": "stdout",
       "text": [
        " 13  ntrees =  5 \n",
        "best loss =  0.282858479799 \n",
        "last loss =  0.282858903854\n",
        "learning_rate =  0.100262125641\n",
        "sample_size 100\n",
        "\n",
        "iteration #"
       ]
      },
      {
       "output_type": "stream",
       "stream": "stdout",
       "text": [
        " 14  ntrees =  5 \n",
        "best loss =  0.282858479799 \n",
        "last loss =  0.282858979762\n",
        "learning_rate =  0.0476245096793\n",
        "sample_size 100\n",
        "\n",
        "iteration #"
       ]
      },
      {
       "output_type": "stream",
       "stream": "stdout",
       "text": [
        " 15  ntrees =  6 \n",
        "best loss =  0.282858160546 \n",
        "last loss =  0.282858160546\n",
        "learning_rate =  0.0452432841953\n",
        "sample_size 100\n",
        "\n",
        "iteration #"
       ]
      },
      {
       "output_type": "stream",
       "stream": "stdout",
       "text": [
        " 16  ntrees =  7 \n",
        "best loss =  0.282857909355 \n",
        "last loss =  0.282857909355\n",
        "learning_rate =  0.0429811199855\n",
        "sample_size 100\n",
        "\n",
        "iteration #"
       ]
      },
      {
       "output_type": "stream",
       "stream": "stdout",
       "text": [
        " 17  ntrees =  8 \n",
        "best loss =  0.282857399681 \n",
        "last loss =  0.282857399681\n",
        "learning_rate =  0.0408320639862\n",
        "sample_size 100\n",
        "\n",
        "iteration #"
       ]
      },
      {
       "output_type": "stream",
       "stream": "stdout",
       "text": [
        " 18  ntrees =  9 \n",
        "best loss =  0.282857333574 \n",
        "last loss =  0.282857333574\n",
        "learning_rate =  0.0387904607869\n",
        "sample_size 100\n",
        "\n",
        "iteration #"
       ]
      },
      {
       "output_type": "stream",
       "stream": "stdout",
       "text": [
        " 19  ntrees =  10 \n",
        "best loss =  0.282857123028 \n",
        "last loss =  0.282857123028\n",
        "learning_rate =  0.0368509377476\n",
        "sample_size 100\n",
        "\n",
        "\n",
        "Now training leaf  101 8 / 8\n",
        "n_ samples at leaf =  36953\n",
        "\n",
        "iteration #"
       ]
      },
      {
       "output_type": "stream",
       "stream": "stdout",
       "text": [
        " 0  ntrees =  1 \n",
        "best loss =  0.239493146838\n",
        "learning_rate =  100.0\n",
        "sample_size 100\n",
        "\n",
        "iteration #"
       ]
      },
      {
       "output_type": "stream",
       "stream": "stdout",
       "text": [
        " 1  ntrees =  1 \n",
        "best loss =  0.239493146838 \n",
        "last loss =  0.239521650642\n",
        "learning_rate =  47.5\n",
        "sample_size 100\n",
        "\n",
        "iteration #"
       ]
      },
      {
       "output_type": "stream",
       "stream": "stdout",
       "text": [
        " 2  ntrees =  2 \n",
        "best loss =  0.238838732644 \n",
        "last loss =  0.238838732644\n",
        "learning_rate =  45.125\n",
        "sample_size 100\n",
        "\n",
        "iteration #"
       ]
      },
      {
       "output_type": "stream",
       "stream": "stdout",
       "text": [
        " 3  ntrees =  2 \n",
        "best loss =  0.238838732644 \n",
        "last loss =  0.240129650567\n",
        "learning_rate =  21.434375\n",
        "sample_size 100\n",
        "\n",
        "iteration #"
       ]
      },
      {
       "output_type": "stream",
       "stream": "stdout",
       "text": [
        " 4  ntrees =  3 \n",
        "best loss =  0.238552878377 \n",
        "last loss =  0.238552878377\n",
        "learning_rate =  20.36265625\n",
        "sample_size 100\n",
        "\n",
        "iteration #"
       ]
      },
      {
       "output_type": "stream",
       "stream": "stdout",
       "text": [
        " 5  ntrees =  4 \n",
        "best loss =  0.238426600344 \n",
        "last loss =  0.238426600344\n",
        "learning_rate =  19.3445234375\n",
        "sample_size 100\n",
        "\n",
        "iteration #"
       ]
      },
      {
       "output_type": "stream",
       "stream": "stdout",
       "text": [
        " 6  ntrees =  4 \n",
        "best loss =  0.238426600344 \n",
        "last loss =  0.2390129219\n",
        "learning_rate =  9.18864863281\n",
        "sample_size 100\n",
        "\n",
        "iteration #"
       ]
      },
      {
       "output_type": "stream",
       "stream": "stdout",
       "text": [
        " 7  ntrees =  4 \n",
        "best loss =  0.238426600344 \n",
        "last loss =  0.238709757645\n",
        "learning_rate =  4.36460810059\n",
        "sample_size 100\n",
        "\n",
        "iteration #"
       ]
      },
      {
       "output_type": "stream",
       "stream": "stdout",
       "text": [
        " 8  ntrees =  4 \n",
        "best loss =  0.238426600344 \n",
        "last loss =  0.238547106597\n",
        "learning_rate =  2.07318884778\n",
        "sample_size 100\n",
        "\n",
        "iteration #"
       ]
      },
      {
       "output_type": "stream",
       "stream": "stdout",
       "text": [
        " 9  ntrees =  5 \n",
        "best loss =  0.238383140459 \n",
        "last loss =  0.238383140459\n",
        "learning_rate =  1.96952940539\n",
        "sample_size 100\n",
        "\n",
        "iteration #"
       ]
      },
      {
       "output_type": "stream",
       "stream": "stdout",
       "text": [
        " 10  ntrees =  5 \n",
        "best loss =  0.238383140459 \n",
        "last loss =  0.238410897581\n",
        "learning_rate =  0.93552646756\n",
        "sample_size 100\n",
        "\n",
        "iteration #"
       ]
      },
      {
       "output_type": "stream",
       "stream": "stdout",
       "text": [
        " 11  ntrees =  6 \n",
        "best loss =  0.238379839558 \n",
        "last loss =  0.238379839558\n",
        "learning_rate =  0.888750144182\n",
        "sample_size 100\n",
        "\n",
        "iteration #"
       ]
      },
      {
       "output_type": "stream",
       "stream": "stdout",
       "text": [
        " 12  ntrees =  6 \n",
        "best loss =  0.238379839558 \n",
        "last loss =  0.238405671105\n",
        "learning_rate =  0.422156318486\n",
        "sample_size 100\n",
        "\n",
        "iteration #"
       ]
      },
      {
       "output_type": "stream",
       "stream": "stdout",
       "text": [
        " 13  ntrees =  6 \n",
        "best loss =  0.238379839558 \n",
        "last loss =  0.238386719287\n",
        "learning_rate =  0.200524251281\n",
        "sample_size 100\n",
        "\n",
        "iteration #"
       ]
      },
      {
       "output_type": "stream",
       "stream": "stdout",
       "text": [
        " 14  ntrees =  6 \n",
        "best loss =  0.238379839558 \n",
        "last loss =  0.238387755864\n",
        "learning_rate =  0.0952490193585\n",
        "sample_size 100\n",
        "\n",
        "iteration #"
       ]
      },
      {
       "output_type": "stream",
       "stream": "stdout",
       "text": [
        " 15  ntrees =  6 \n",
        "best loss =  0.238379839558 \n",
        "last loss =  0.238382703309\n",
        "learning_rate =  0.0452432841953\n",
        "sample_size 100\n",
        "\n",
        "iteration #"
       ]
      },
      {
       "output_type": "stream",
       "stream": "stdout",
       "text": [
        " 16  ntrees =  6 \n",
        "best loss =  0.238379839558 \n",
        "last loss =  0.238380859447\n",
        "learning_rate =  0.0214905599928\n",
        "sample_size 100\n",
        "\n",
        "iteration #"
       ]
      },
      {
       "output_type": "stream",
       "stream": "stdout",
       "text": [
        " 17  ntrees =  6 \n",
        "best loss =  0.238379839558 \n",
        "last loss =  0.23838069001\n",
        "learning_rate =  0.0102080159966\n",
        "sample_size 100\n",
        "\n",
        "iteration #"
       ]
      },
      {
       "output_type": "stream",
       "stream": "stdout",
       "text": [
        " 18  ntrees =  6 \n",
        "best loss =  0.238379839558 \n",
        "last loss =  0.238380269906\n",
        "learning_rate =  0.00484880759837\n",
        "sample_size 100\n",
        "\n",
        "iteration #"
       ]
      },
      {
       "output_type": "stream",
       "stream": "stdout",
       "text": [
        " 19  ntrees =  6 \n",
        "best loss =  0.238379839558 \n",
        "last loss =  0.238379915497\n",
        "learning_rate =  0.00230318360922\n",
        "sample_size 100\n",
        "\n",
        "iteration #"
       ]
      },
      {
       "output_type": "stream",
       "stream": "stdout",
       "text": [
        " 20  ntrees =  6 \n",
        "best loss =  0.238379839558 \n",
        "last loss =  0.238379918584\n",
        "learning_rate =  0.00109401221438\n",
        "sample_size 100\n",
        "\n",
        "iteration #"
       ]
      },
      {
       "output_type": "stream",
       "stream": "stdout",
       "text": [
        " 21  ntrees =  6 \n",
        "best loss =  0.238379839558 \n",
        "last loss =  0.238379851309\n",
        "learning_rate =  0.000519655801831\n",
        "sample_size 100\n",
        "\n",
        "iteration #"
       ]
      },
      {
       "output_type": "stream",
       "stream": "stdout",
       "text": [
        " 22  ntrees =  6 \n",
        "best loss =  0.238379839558 \n",
        "last loss =  0.238379857423\n",
        "learning_rate =  0.00024683650587\n",
        "sample_size 100\n",
        "\n",
        "iteration #"
       ]
      },
      {
       "output_type": "stream",
       "stream": "stdout",
       "text": [
        " 23  ntrees =  6 \n",
        "best loss =  0.238379839558 \n",
        "last loss =  0.23837984587\n",
        "learning_rate =  0.000117247340288\n",
        "sample_size 100\n",
        "\n",
        "iteration #"
       ]
      },
      {
       "output_type": "stream",
       "stream": "stdout",
       "text": [
        " 24  ntrees =  6 \n",
        "best loss =  0.238379839558 \n",
        "last loss =  0.238379842314\n",
        "learning_rate =  5.56924866369e-05\n",
        "sample_size 100\n",
        "\n",
        "iteration #"
       ]
      },
      {
       "output_type": "stream",
       "stream": "stdout",
       "text": [
        " 25  ntrees =  6 \n",
        "best loss =  0.238379839558 \n",
        "last loss =  0.238379840769\n",
        "learning_rate =  2.64539311525e-05\n",
        "sample_size 100\n",
        "\n",
        "iteration #"
       ]
      },
      {
       "output_type": "stream",
       "stream": "stdout",
       "text": [
        " 26  ntrees =  6 \n",
        "best loss =  0.238379839558 \n",
        "last loss =  0.238379840564\n",
        "learning_rate =  1.25656172974e-05\n",
        "sample_size 100\n"
       ]
      }
     ],
     "prompt_number": 100
    },
    {
     "cell_type": "code",
     "collapsed": false,
     "input": [
      "def predict_splitted(X,criteria,trees):\n",
      "    X_split, indices =  split_upper(X, np.arange(X.shape[0]),criteria)\n",
      "    y_pred = np.zeros(X.shape[0])\n",
      "    for leaf in X_split.keys():\n",
      "        y_pred[indices[leaf]] = predict(trees[leaf],X_split[leaf])\n",
      "    return y_pred"
     ],
     "language": "python",
     "metadata": {},
     "outputs": [],
     "prompt_number": 101
    },
    {
     "cell_type": "code",
     "collapsed": false,
     "input": [
      "y_pred_splitted = predict_splitted(Xts,criteria,trees_splitted)"
     ],
     "language": "python",
     "metadata": {},
     "outputs": [],
     "prompt_number": 102
    },
    {
     "cell_type": "code",
     "collapsed": false,
     "input": [
      "plt.hist(y_pred_splitted)"
     ],
     "language": "python",
     "metadata": {},
     "outputs": [
      {
       "metadata": {},
       "output_type": "pyout",
       "prompt_number": 103,
       "text": [
        "(array([ 7715.,  8601.,     0.,  2776.,  3345.,  9538.,  6415.,  5075.,\n",
        "         4447.,  2088.]),\n",
        " array([-33.93445975, -28.5966504 , -23.25884104, -17.92103168,\n",
        "        -12.58322233,  -7.24541297,  -1.90760361,   3.43020574,\n",
        "          8.7680151 ,  14.10582445,  19.44363381]),\n",
        " <a list of 10 Patch objects>)"
       ]
      },
      {
       "metadata": {},
       "output_type": "display_data",
       "png": "[encoded data removed]",
       "text": [
        "<matplotlib.figure.Figure at 0x26772470>"
       ]
      }
     ],
     "prompt_number": 103
    },
    {
     "cell_type": "code",
     "collapsed": false,
     "input": [
      "print metrics.roc_auc_score(Yts,y_pred_splitted)"
     ],
     "language": "python",
     "metadata": {},
     "outputs": [
      {
       "output_type": "stream",
       "stream": "stdout",
       "text": [
        "0.852724123868\n"
       ]
      }
     ],
     "prompt_number": 132
    },
    {
     "cell_type": "code",
     "collapsed": false,
     "input": [
      "# Plot ROC curve\n",
      "plt.figure()\n",
      "fpr, tpr, _ = roc_curve(Yts, y_pred_full)\n",
      "plt.plot(fpr, tpr,\n",
      "         label='Full boost classi')\n",
      "fpr, tpr, _ = roc_curve(Yts, y_pred_stupid)\n",
      "plt.plot(fpr, tpr,\n",
      "         label='First 10 classi')\n",
      "fpr, tpr, _ = roc_curve(Yts, y_pred_greedy)\n",
      "plt.plot(fpr, tpr,\n",
      "         label='Greedy prune classi')\n",
      "fpr, tpr, _ = roc_curve(Yts, y_pred_splitted)\n",
      "plt.plot(fpr, tpr,\n",
      "         label='Split-prune classi with 8 leafs')\n",
      "\n",
      "\n",
      "plt.plot([0, 1], [0, 1], 'k--')\n",
      "plt.xlim([0.0, 1.0])\n",
      "plt.ylim([0.0, 1.05])\n",
      "plt.xlabel('False Positive Rate')\n",
      "plt.ylabel('True Positive Rate')\n",
      "plt.title('Some extension of Receiver operating characteristic to multi-class')\n",
      "plt.legend(loc=\"lower right\")\n",
      "plt.show()"
     ],
     "language": "python",
     "metadata": {},
     "outputs": [
      {
       "metadata": {},
       "output_type": "display_data",
       "png": "[encoded data removed]",
       "text": [
        "<matplotlib.figure.Figure at 0x2101f080>"
       ]
      }
     ],
     "prompt_number": 133
    },
    {
     "cell_type": "code",
     "collapsed": false,
     "input": [],
     "language": "python",
     "metadata": {},
     "outputs": []
    }
   ],
   "metadata": {}
  }
 ]
}