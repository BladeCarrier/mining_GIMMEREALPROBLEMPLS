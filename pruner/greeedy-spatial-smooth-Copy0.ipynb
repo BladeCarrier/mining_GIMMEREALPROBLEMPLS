{
 "metadata": {
  "name": "",
  "signature": "sha256:c223b96e41207f6c3e8bc7c135b2f1d4573da0d4a50079df78eb8df65e9ffd9c"
 },
 "nbformat": 3,
 "nbformat_minor": 0,
 "worksheets": [
  {
   "cells": [
    {
     "cell_type": "code",
     "collapsed": false,
     "input": [
      "# I explore the cuts of the features\n",
      "%matplotlib inline\n",
      "#\u0442\u0430\u043a \u0442\u043e\u0436\u0435 \u043c\u043e\u0436\u043d\u043e \u0440\u0435\u0448\u0438\u0442\u044c \u043f\u0440\u043e\u0431\u043b\u0435\u043c\u0443 \u0438\u043d\u043b\u0430\u0439\u043b\u0430 \u043f\u043b\u043e\u0442\u043e\u0432\n",
      "\n",
      "import matplotlib.pyplot as plt\n",
      "import numpy as np\n",
      "\n",
      "import sklearn.metrics as metrics\n",
      "from sklearn.externals import joblib\n",
      "from sklearn import cross_validation as cv\n",
      "\n",
      "import _matrixnetapplier as mnet\n",
      "import copy\n",
      "import random\n"
     ],
     "language": "python",
     "metadata": {},
     "outputs": [],
     "prompt_number": 1
    },
    {
     "cell_type": "markdown",
     "metadata": {},
     "source": [
      "# Extracting the trained model"
     ]
    },
    {
     "cell_type": "code",
     "collapsed": false,
     "input": [
      "itr,trees = mnet.get_trees(\"formula/formula.mx\")\n",
      "n_features = 30\n",
      "print itr"
     ],
     "language": "python",
     "metadata": {},
     "outputs": [
      {
       "output_type": "stream",
       "stream": "stdout",
       "text": [
        "(6, 10000, <generator object _iterate_over_trees_with_fixed_depth at 0x000000000AB60090>)\n"
       ]
      }
     ],
     "prompt_number": 2
    },
    {
     "cell_type": "markdown",
     "metadata": {},
     "source": [
      "# Loading dataset"
     ]
    },
    {
     "cell_type": "code",
     "collapsed": false,
     "input": [
      "#load training set\n",
      "def load_data(path):\n",
      "    print 'Loading training data...'\n",
      "    data = np.loadtxt(path, \\\n",
      "            delimiter=',', \\\n",
      "            skiprows=1, \\\n",
      "            converters={32: lambda x:int(x=='s'.encode('utf-8'))})\n",
      "\n",
      "    X = data[:,1:31]\n",
      "    Y = data[:,32]\n",
      "    W = data[:,31]\n",
      "    print \"Loaded.\"\n",
      "    return X,Y,W"
     ],
     "language": "python",
     "metadata": {},
     "outputs": [],
     "prompt_number": 3
    },
    {
     "cell_type": "code",
     "collapsed": false,
     "input": [
      "X,Y,W = load_data(\"data/training.csv\")"
     ],
     "language": "python",
     "metadata": {},
     "outputs": [
      {
       "output_type": "stream",
       "stream": "stdout",
       "text": [
        "Loading training data...\n",
        "Loaded."
       ]
      },
      {
       "output_type": "stream",
       "stream": "stdout",
       "text": [
        "\n"
       ]
      }
     ],
     "prompt_number": 4
    },
    {
     "cell_type": "code",
     "collapsed": false,
     "input": [
      "from sklearn.cross_validation import train_test_split\n",
      "Xtr,Xts,Ytr,Yts,Wtr,Wts = train_test_split(X, Y, W, train_size=0.51, random_state=42)"
     ],
     "language": "python",
     "metadata": {},
     "outputs": [],
     "prompt_number": 5
    },
    {
     "cell_type": "code",
     "collapsed": false,
     "input": [
      "from factory import DataFactory\n",
      "trainFactory = DataFactory(Xtr,Ytr,Wtr)\n",
      "testFactory = DataFactory(Xts,Yts,Wts)"
     ],
     "language": "python",
     "metadata": {},
     "outputs": [],
     "prompt_number": 6
    },
    {
     "cell_type": "code",
     "collapsed": false,
     "input": [
      "#equalize classes, normalize weights\n",
      "trainFactory.equalizeWeights()\n",
      "print sum(trainFactory.weights[trainFactory.labels==1]),\n",
      "print sum(trainFactory.weights[trainFactory.labels==0]),\n",
      "print sum(trainFactory.weights),"
     ],
     "language": "python",
     "metadata": {},
     "outputs": [
      {
       "output_type": "stream",
       "stream": "stdout",
       "text": [
        "0.5 0.5 0.999999999999\n"
       ]
      }
     ],
     "prompt_number": 7
    },
    {
     "cell_type": "markdown",
     "metadata": {},
     "source": [
      "#sanity check"
     ]
    },
    {
     "cell_type": "code",
     "collapsed": false,
     "input": [
      "def compute_ams_on_cuts(answers, predictions, sample_weight):\n",
      "    \"\"\" Predictions are probabilities\"\"\"\n",
      "    b, s, thresholds = metrics.roc_curve(answers, predictions, sample_weight=sample_weight)\n",
      "    # normalization constants\n",
      "    real_s = 691.988607712\n",
      "    real_b = 410999.847322\n",
      "    s *= real_s\n",
      "    b *= real_b\n",
      "    br = 10.\n",
      "    radicands = 2 * ((s + b + br) * np.log(1.0 + s/(b + br)) - s)\n",
      "    return thresholds, radicands\n",
      "\n",
      "def optimal_AMS(answers, predictions, sample_weight):\n",
      "    \"\"\" Predictions are probabilities \"\"\"\n",
      "    cuts, radicands = compute_ams_on_cuts(answers, predictions, sample_weight)\n",
      "    return np.sqrt(np.max(radicands))\n",
      "\n",
      "\n",
      "def precisionAt15(answers, predictions, sample_weight, percent=0.15):\n",
      "    n_passed = int(len(answers) * percent)\n",
      "    RATIO = 50\n",
      "    weight = sample_weight.copy()\n",
      "    weight[answers == 0] /= weight[answers == 0].mean() / RATIO\n",
      "    weight[answers == 1] /= weight[answers == 1].mean()\n",
      "    order = np.argsort(-predictions)\n",
      "    passed = order[:n_passed]    \n",
      "    return np.average(answers[passed], weights=weight[passed])"
     ],
     "language": "python",
     "metadata": {},
     "outputs": [],
     "prompt_number": 8
    },
    {
     "cell_type": "code",
     "collapsed": false,
     "input": [
      "def print_control_metrics(proba_test, proba_train):\n",
      "    for name, metric in [('ROC', metrics.roc_auc_score), ('AMS', optimal_AMS), ('precision', precisionAt15)]:\n",
      "        print name,\n",
      "        print metric(Yts, proba_test, sample_weight=Wts), \n",
      "        print metric(Ytr, proba_train, sample_weight=Wtr)"
     ],
     "language": "python",
     "metadata": {},
     "outputs": [],
     "prompt_number": 9
    },
    {
     "cell_type": "code",
     "collapsed": false,
     "input": [
      "%%time\n",
      "print_control_metrics(testFactory.predict(trees),trainFactory.predict(trees))"
     ],
     "language": "python",
     "metadata": {},
     "outputs": [
      {
       "output_type": "stream",
       "stream": "stdout",
       "text": [
        "ROC "
       ]
      },
      {
       "output_type": "stream",
       "stream": "stdout",
       "text": [
        "0.935834322801 "
       ]
      },
      {
       "output_type": "stream",
       "stream": "stdout",
       "text": [
        "0.961031805042\n",
        "AMS 3.71746365006 "
       ]
      },
      {
       "output_type": "stream",
       "stream": "stdout",
       "text": [
        "5.41899018232\n",
        "precision 0.266316147498 "
       ]
      },
      {
       "output_type": "stream",
       "stream": "stdout",
       "text": [
        "0.394846517557\n",
        "Wall time: 38.5 s\n"
       ]
      }
     ],
     "prompt_number": 10
    },
    {
     "cell_type": "markdown",
     "metadata": {},
     "source": [
      "# greedy pruning for the whole data"
     ]
    },
    {
     "cell_type": "code",
     "collapsed": false,
     "input": [
      "import greedy\n",
      "from loss_functions import LogLoss"
     ],
     "language": "python",
     "metadata": {},
     "outputs": [],
     "prompt_number": 11
    },
    {
     "cell_type": "code",
     "collapsed": false,
     "input": [
      "print 50./trainFactory.n_events*sum(trainFactory.weights)"
     ],
     "language": "python",
     "metadata": {},
     "outputs": [
      {
       "output_type": "stream",
       "stream": "stdout",
       "text": [
        "0.000392156862745\n"
       ]
      }
     ],
     "prompt_number": 12
    },
    {
     "cell_type": "code",
     "collapsed": false,
     "input": [
      "%%time\n",
      "res_greedy = greedy.greed_up_features_bfs(trees,trainFactory,LogLoss,.29,1,100,100,True,1.,0,regularizer=0.000392156862745)"
     ],
     "language": "python",
     "metadata": {},
     "outputs": [
      {
       "output_type": "stream",
       "stream": "stdout",
       "text": [
        "\n",
        "iteration # 0  ntrees =  1 \n",
        "best loss =  0.582290326309\n",
        "learning_rate =  0.29\n",
        "sample_size 100\n",
        "\n",
        "iteration #"
       ]
      },
      {
       "output_type": "stream",
       "stream": "stdout",
       "text": [
        " 1  ntrees =  2 \n",
        "best loss =  0.509142302959 \n",
        "last loss =  0.509142302959\n",
        "learning_rate =  0.29\n",
        "sample_size 100\n",
        "\n",
        "iteration #"
       ]
      },
      {
       "output_type": "stream",
       "stream": "stdout",
       "text": [
        " 2  ntrees =  3 \n",
        "best loss =  0.462344762929 \n",
        "last loss =  0.462344762929\n",
        "learning_rate =  0.29\n",
        "sample_size 100\n",
        "\n",
        "iteration #"
       ]
      },
      {
       "output_type": "stream",
       "stream": "stdout",
       "text": [
        " 3  ntrees =  4 \n",
        "best loss =  0.436496864629 \n",
        "last loss =  0.436496864629\n",
        "learning_rate =  0.29\n",
        "sample_size 100\n",
        "\n",
        "iteration #"
       ]
      },
      {
       "output_type": "stream",
       "stream": "stdout",
       "text": [
        " 4  ntrees =  5 \n",
        "best loss =  0.412628133739 \n",
        "last loss =  0.412628133739\n",
        "learning_rate =  0.29\n",
        "sample_size 100\n",
        "\n",
        "iteration #"
       ]
      },
      {
       "output_type": "stream",
       "stream": "stdout",
       "text": [
        " 5  ntrees =  6 \n",
        "best loss =  0.399713132287 \n",
        "last loss =  0.399713132287\n",
        "learning_rate =  0.29\n",
        "sample_size 100\n",
        "\n",
        "iteration #"
       ]
      },
      {
       "output_type": "stream",
       "stream": "stdout",
       "text": [
        " 6  ntrees =  7 \n",
        "best loss =  0.387628170809 \n",
        "last loss =  0.387628170809\n",
        "learning_rate =  0.29\n",
        "sample_size 100\n",
        "\n",
        "iteration #"
       ]
      },
      {
       "output_type": "stream",
       "stream": "stdout",
       "text": [
        " 7  ntrees =  8 \n",
        "best loss =  0.377919373074 \n",
        "last loss =  0.377919373074\n",
        "learning_rate =  0.29\n",
        "sample_size 100\n",
        "\n",
        "iteration #"
       ]
      },
      {
       "output_type": "stream",
       "stream": "stdout",
       "text": [
        " 8  ntrees =  9 \n",
        "best loss =  0.371265650284 \n",
        "last loss =  0.371265650284\n",
        "learning_rate =  0.29\n",
        "sample_size 100\n",
        "\n",
        "iteration #"
       ]
      },
      {
       "output_type": "stream",
       "stream": "stdout",
       "text": [
        " 9  ntrees =  10 \n",
        "best loss =  0.365899064812 \n",
        "last loss =  0.365899064812\n",
        "learning_rate =  0.29\n",
        "sample_size 100\n",
        "\n",
        "iteration #"
       ]
      },
      {
       "output_type": "stream",
       "stream": "stdout",
       "text": [
        " 10  ntrees =  11 \n",
        "best loss =  0.361877763566 \n",
        "last loss =  0.361877763566\n",
        "learning_rate =  0.29\n",
        "sample_size 100\n",
        "\n",
        "iteration #"
       ]
      },
      {
       "output_type": "stream",
       "stream": "stdout",
       "text": [
        " 11  ntrees =  12 \n",
        "best loss =  0.358441679744 \n",
        "last loss =  0.358441679744\n",
        "learning_rate =  0.29\n",
        "sample_size 100\n",
        "\n",
        "iteration #"
       ]
      },
      {
       "output_type": "stream",
       "stream": "stdout",
       "text": [
        " 12  ntrees =  13 \n",
        "best loss =  0.35551903351 \n",
        "last loss =  0.35551903351\n",
        "learning_rate =  0.29\n",
        "sample_size 100\n",
        "\n",
        "iteration #"
       ]
      },
      {
       "output_type": "stream",
       "stream": "stdout",
       "text": [
        " 13  ntrees =  14 \n",
        "best loss =  0.352633403998 \n",
        "last loss =  0.352633403998\n",
        "learning_rate =  0.29\n",
        "sample_size 100\n",
        "\n",
        "iteration #"
       ]
      },
      {
       "output_type": "stream",
       "stream": "stdout",
       "text": [
        " 14  ntrees =  15 \n",
        "best loss =  0.350012814805 \n",
        "last loss =  0.350012814805\n",
        "learning_rate =  0.29\n",
        "sample_size 100\n",
        "\n",
        "iteration #"
       ]
      },
      {
       "output_type": "stream",
       "stream": "stdout",
       "text": [
        " 15  ntrees =  16 \n",
        "best loss =  0.347884746781 \n",
        "last loss =  0.347884746781\n",
        "learning_rate =  0.29\n",
        "sample_size 100\n",
        "\n",
        "iteration #"
       ]
      },
      {
       "output_type": "stream",
       "stream": "stdout",
       "text": [
        " 16  ntrees =  17 \n",
        "best loss =  0.346071515534 \n",
        "last loss =  0.346071515534\n",
        "learning_rate =  0.29\n",
        "sample_size 100\n",
        "\n",
        "iteration #"
       ]
      },
      {
       "output_type": "stream",
       "stream": "stdout",
       "text": [
        " 17  ntrees =  18 \n",
        "best loss =  0.344421950141 \n",
        "last loss =  0.344421950141\n",
        "learning_rate =  0.29\n",
        "sample_size 100\n",
        "\n",
        "iteration #"
       ]
      },
      {
       "output_type": "stream",
       "stream": "stdout",
       "text": [
        " 18  ntrees =  19 \n",
        "best loss =  0.34300234185 \n",
        "last loss =  0.34300234185\n",
        "learning_rate =  0.29\n",
        "sample_size 100\n",
        "\n",
        "iteration #"
       ]
      },
      {
       "output_type": "stream",
       "stream": "stdout",
       "text": [
        " 19  ntrees =  20 \n",
        "best loss =  0.341663596575 \n",
        "last loss =  0.341663596575\n",
        "learning_rate =  0.29\n",
        "sample_size 100\n",
        "\n",
        "iteration #"
       ]
      },
      {
       "output_type": "stream",
       "stream": "stdout",
       "text": [
        " 20  ntrees =  21 \n",
        "best loss =  0.34017313049 \n",
        "last loss =  0.34017313049\n",
        "learning_rate =  0.29\n",
        "sample_size 100\n",
        "\n",
        "iteration #"
       ]
      },
      {
       "output_type": "stream",
       "stream": "stdout",
       "text": [
        " 21  ntrees =  22 \n",
        "best loss =  0.33893894383 \n",
        "last loss =  0.33893894383\n",
        "learning_rate =  0.29\n",
        "sample_size 100\n",
        "\n",
        "iteration #"
       ]
      },
      {
       "output_type": "stream",
       "stream": "stdout",
       "text": [
        " 22  ntrees =  23 \n",
        "best loss =  0.337917856628 \n",
        "last loss =  0.337917856628\n",
        "learning_rate =  0.29\n",
        "sample_size 100\n",
        "\n",
        "iteration #"
       ]
      },
      {
       "output_type": "stream",
       "stream": "stdout",
       "text": [
        " 23  ntrees =  24 \n",
        "best loss =  0.336708164901 \n",
        "last loss =  0.336708164901\n",
        "learning_rate =  0.29\n",
        "sample_size 100\n",
        "\n",
        "iteration #"
       ]
      },
      {
       "output_type": "stream",
       "stream": "stdout",
       "text": [
        " 24  ntrees =  25 \n",
        "best loss =  0.335721436837 \n",
        "last loss =  0.335721436837\n",
        "learning_rate =  0.29\n",
        "sample_size 100\n",
        "\n",
        "iteration #"
       ]
      },
      {
       "output_type": "stream",
       "stream": "stdout",
       "text": [
        " 25  ntrees =  26 \n",
        "best loss =  0.334895038825 \n",
        "last loss =  0.334895038825\n",
        "learning_rate =  0.29\n",
        "sample_size 100\n",
        "\n",
        "iteration #"
       ]
      },
      {
       "output_type": "stream",
       "stream": "stdout",
       "text": [
        " 26  ntrees =  27 \n",
        "best loss =  0.334054084143 \n",
        "last loss =  0.334054084143\n",
        "learning_rate =  0.29\n",
        "sample_size 100\n",
        "\n",
        "iteration #"
       ]
      },
      {
       "output_type": "stream",
       "stream": "stdout",
       "text": [
        " 27  ntrees =  28 \n",
        "best loss =  0.333249830932 \n",
        "last loss =  0.333249830932\n",
        "learning_rate =  0.29\n",
        "sample_size 100\n",
        "\n",
        "iteration #"
       ]
      },
      {
       "output_type": "stream",
       "stream": "stdout",
       "text": [
        " 28  ntrees =  29 \n",
        "best loss =  0.332561438238 \n",
        "last loss =  0.332561438238\n",
        "learning_rate =  0.29\n",
        "sample_size 100\n",
        "\n",
        "iteration #"
       ]
      },
      {
       "output_type": "stream",
       "stream": "stdout",
       "text": [
        " 29  ntrees =  30 \n",
        "best loss =  0.331898477191 \n",
        "last loss =  0.331898477191\n",
        "learning_rate =  0.29\n",
        "sample_size 100\n",
        "\n",
        "iteration #"
       ]
      },
      {
       "output_type": "stream",
       "stream": "stdout",
       "text": [
        " 30  ntrees =  31 \n",
        "best loss =  0.331222266937 \n",
        "last loss =  0.331222266937\n",
        "learning_rate =  0.29\n",
        "sample_size 100\n",
        "\n",
        "iteration #"
       ]
      },
      {
       "output_type": "stream",
       "stream": "stdout",
       "text": [
        " 31  ntrees =  32 \n",
        "best loss =  0.330548014038 \n",
        "last loss =  0.330548014038\n",
        "learning_rate =  0.29\n",
        "sample_size 100\n",
        "\n",
        "iteration #"
       ]
      },
      {
       "output_type": "stream",
       "stream": "stdout",
       "text": [
        " 32  ntrees =  33 \n",
        "best loss =  0.329932462182 \n",
        "last loss =  0.329932462182\n",
        "learning_rate =  0.29\n",
        "sample_size 100\n",
        "\n",
        "iteration #"
       ]
      },
      {
       "output_type": "stream",
       "stream": "stdout",
       "text": [
        " 33  ntrees =  34 \n",
        "best loss =  0.329331967438 \n",
        "last loss =  0.329331967438\n",
        "learning_rate =  0.29\n",
        "sample_size 100\n",
        "\n",
        "iteration #"
       ]
      },
      {
       "output_type": "stream",
       "stream": "stdout",
       "text": [
        " 34  ntrees =  35 \n",
        "best loss =  0.32881830647 \n",
        "last loss =  0.32881830647\n",
        "learning_rate =  0.29\n",
        "sample_size 100\n",
        "\n",
        "iteration #"
       ]
      },
      {
       "output_type": "stream",
       "stream": "stdout",
       "text": [
        " 35  ntrees =  36 \n",
        "best loss =  0.328241524634 \n",
        "last loss =  0.328241524634\n",
        "learning_rate =  0.29\n",
        "sample_size 100\n",
        "\n",
        "iteration #"
       ]
      },
      {
       "output_type": "stream",
       "stream": "stdout",
       "text": [
        " 36  ntrees =  37 \n",
        "best loss =  0.327788087923 \n",
        "last loss =  0.327788087923\n",
        "learning_rate =  0.29\n",
        "sample_size 100\n",
        "\n",
        "iteration #"
       ]
      },
      {
       "output_type": "stream",
       "stream": "stdout",
       "text": [
        " 37  ntrees =  38 \n",
        "best loss =  0.327301383459 \n",
        "last loss =  0.327301383459\n",
        "learning_rate =  0.29\n",
        "sample_size 100\n",
        "\n",
        "iteration #"
       ]
      },
      {
       "output_type": "stream",
       "stream": "stdout",
       "text": [
        " 38  ntrees =  39 \n",
        "best loss =  0.326785092613 \n",
        "last loss =  0.326785092613\n",
        "learning_rate =  0.29\n",
        "sample_size 100\n",
        "\n",
        "iteration #"
       ]
      },
      {
       "output_type": "stream",
       "stream": "stdout",
       "text": [
        " 39  ntrees =  40 \n",
        "best loss =  0.326356144741 \n",
        "last loss =  0.326356144741\n",
        "learning_rate =  0.29\n",
        "sample_size 100\n",
        "\n",
        "iteration #"
       ]
      },
      {
       "output_type": "stream",
       "stream": "stdout",
       "text": [
        " 40  ntrees =  41 \n",
        "best loss =  0.325876619787 \n",
        "last loss =  0.325876619787\n",
        "learning_rate =  0.29\n",
        "sample_size 100\n",
        "\n",
        "iteration #"
       ]
      },
      {
       "output_type": "stream",
       "stream": "stdout",
       "text": [
        " 41  ntrees =  42 \n",
        "best loss =  0.32542136466 \n",
        "last loss =  0.32542136466\n",
        "learning_rate =  0.29\n",
        "sample_size 100\n",
        "\n",
        "iteration #"
       ]
      },
      {
       "output_type": "stream",
       "stream": "stdout",
       "text": [
        " 42  ntrees =  43 \n",
        "best loss =  0.324937032234 \n",
        "last loss =  0.324937032234\n",
        "learning_rate =  0.29\n",
        "sample_size 100\n",
        "\n",
        "iteration #"
       ]
      },
      {
       "output_type": "stream",
       "stream": "stdout",
       "text": [
        " 43  ntrees =  44 \n",
        "best loss =  0.32451279209 \n",
        "last loss =  0.32451279209\n",
        "learning_rate =  0.29\n",
        "sample_size 100\n",
        "\n",
        "iteration #"
       ]
      },
      {
       "output_type": "stream",
       "stream": "stdout",
       "text": [
        " 44  ntrees =  45 \n",
        "best loss =  0.324140412633 \n",
        "last loss =  0.324140412633\n",
        "learning_rate =  0.29\n",
        "sample_size 100\n",
        "\n",
        "iteration #"
       ]
      },
      {
       "output_type": "stream",
       "stream": "stdout",
       "text": [
        " 45  ntrees =  46 \n",
        "best loss =  0.323743894443 \n",
        "last loss =  0.323743894443\n",
        "learning_rate =  0.29\n",
        "sample_size 100\n",
        "\n",
        "iteration #"
       ]
      },
      {
       "output_type": "stream",
       "stream": "stdout",
       "text": [
        " 46  ntrees =  47 \n",
        "best loss =  0.323371094143 \n",
        "last loss =  0.323371094143\n",
        "learning_rate =  0.29\n",
        "sample_size 100\n",
        "\n",
        "iteration #"
       ]
      },
      {
       "output_type": "stream",
       "stream": "stdout",
       "text": [
        " 47  ntrees =  48 \n",
        "best loss =  0.323008566893 \n",
        "last loss =  0.323008566893\n",
        "learning_rate =  0.29\n",
        "sample_size 100\n",
        "\n",
        "iteration #"
       ]
      },
      {
       "output_type": "stream",
       "stream": "stdout",
       "text": [
        " 48  ntrees =  49 \n",
        "best loss =  0.322672407346 \n",
        "last loss =  0.322672407346\n",
        "learning_rate =  0.29\n",
        "sample_size 100\n",
        "\n",
        "iteration #"
       ]
      },
      {
       "output_type": "stream",
       "stream": "stdout",
       "text": [
        " 49  ntrees =  50 \n",
        "best loss =  0.322352256548 \n",
        "last loss =  0.322352256548\n",
        "learning_rate =  0.29\n",
        "sample_size 100\n",
        "\n",
        "iteration #"
       ]
      },
      {
       "output_type": "stream",
       "stream": "stdout",
       "text": [
        " 50  ntrees =  51 \n",
        "best loss =  0.322033483095 \n",
        "last loss =  0.322033483095\n",
        "learning_rate =  0.29\n",
        "sample_size 100\n",
        "\n",
        "iteration #"
       ]
      },
      {
       "output_type": "stream",
       "stream": "stdout",
       "text": [
        " 51  ntrees =  52 \n",
        "best loss =  0.321706172954 \n",
        "last loss =  0.321706172954\n",
        "learning_rate =  0.29\n",
        "sample_size 100\n",
        "\n",
        "iteration #"
       ]
      },
      {
       "output_type": "stream",
       "stream": "stdout",
       "text": [
        " 52  ntrees =  53 \n",
        "best loss =  0.321363169393 \n",
        "last loss =  0.321363169393\n",
        "learning_rate =  0.29\n",
        "sample_size 100\n",
        "\n",
        "iteration #"
       ]
      },
      {
       "output_type": "stream",
       "stream": "stdout",
       "text": [
        " 53  ntrees =  54 \n",
        "best loss =  0.321040308388 \n",
        "last loss =  0.321040308388\n",
        "learning_rate =  0.29\n",
        "sample_size 100\n",
        "\n",
        "iteration #"
       ]
      },
      {
       "output_type": "stream",
       "stream": "stdout",
       "text": [
        " 54  ntrees =  55 \n",
        "best loss =  0.320729199072 \n",
        "last loss =  0.320729199072\n",
        "learning_rate =  0.29\n",
        "sample_size 100\n",
        "\n",
        "iteration #"
       ]
      },
      {
       "output_type": "stream",
       "stream": "stdout",
       "text": [
        " 55  ntrees =  56 \n",
        "best loss =  0.320423787895 \n",
        "last loss =  0.320423787895\n",
        "learning_rate =  0.29\n",
        "sample_size 100\n",
        "\n",
        "iteration #"
       ]
      },
      {
       "output_type": "stream",
       "stream": "stdout",
       "text": [
        " 56  ntrees =  57 \n",
        "best loss =  0.320085693642 \n",
        "last loss =  0.320085693642\n",
        "learning_rate =  0.29\n",
        "sample_size 100\n",
        "\n",
        "iteration #"
       ]
      },
      {
       "output_type": "stream",
       "stream": "stdout",
       "text": [
        " 57  ntrees =  58 \n",
        "best loss =  0.319799618579 \n",
        "last loss =  0.319799618579\n",
        "learning_rate =  0.29\n",
        "sample_size 100\n",
        "\n",
        "iteration #"
       ]
      },
      {
       "output_type": "stream",
       "stream": "stdout",
       "text": [
        " 58  ntrees =  59 \n",
        "best loss =  0.319475669979 \n",
        "last loss =  0.319475669979\n",
        "learning_rate =  0.29\n",
        "sample_size 100\n",
        "\n",
        "iteration #"
       ]
      },
      {
       "output_type": "stream",
       "stream": "stdout",
       "text": [
        " 59  ntrees =  60 \n",
        "best loss =  0.319185041177 \n",
        "last loss =  0.319185041177\n",
        "learning_rate =  0.29\n",
        "sample_size 100\n",
        "\n",
        "iteration #"
       ]
      },
      {
       "output_type": "stream",
       "stream": "stdout",
       "text": [
        " 60  ntrees =  61 \n",
        "best loss =  0.318879097302 \n",
        "last loss =  0.318879097302\n",
        "learning_rate =  0.29\n",
        "sample_size 100\n",
        "\n",
        "iteration #"
       ]
      },
      {
       "output_type": "stream",
       "stream": "stdout",
       "text": [
        " 61  ntrees =  62 \n",
        "best loss =  0.318621640501 \n",
        "last loss =  0.318621640501\n",
        "learning_rate =  0.29\n",
        "sample_size 100\n",
        "\n",
        "iteration #"
       ]
      },
      {
       "output_type": "stream",
       "stream": "stdout",
       "text": [
        " 62  ntrees =  63 \n",
        "best loss =  0.318345382523 \n",
        "last loss =  0.318345382523\n",
        "learning_rate =  0.29\n",
        "sample_size 100\n",
        "\n",
        "iteration #"
       ]
      },
      {
       "output_type": "stream",
       "stream": "stdout",
       "text": [
        " 63  ntrees =  64 \n",
        "best loss =  0.318094093579 \n",
        "last loss =  0.318094093579\n",
        "learning_rate =  0.29\n",
        "sample_size 100\n",
        "\n",
        "iteration #"
       ]
      },
      {
       "output_type": "stream",
       "stream": "stdout",
       "text": [
        " 64  ntrees =  65 \n",
        "best loss =  0.317804423291 \n",
        "last loss =  0.317804423291\n",
        "learning_rate =  0.29\n",
        "sample_size 100\n",
        "\n",
        "iteration #"
       ]
      },
      {
       "output_type": "stream",
       "stream": "stdout",
       "text": [
        " 65  ntrees =  66 \n",
        "best loss =  0.31750634411 \n",
        "last loss =  0.31750634411\n",
        "learning_rate =  0.29\n",
        "sample_size 100\n",
        "\n",
        "iteration #"
       ]
      },
      {
       "output_type": "stream",
       "stream": "stdout",
       "text": [
        " 66  ntrees =  67 \n",
        "best loss =  0.317259888446 \n",
        "last loss =  0.317259888446\n",
        "learning_rate =  0.29\n",
        "sample_size 100\n",
        "\n",
        "iteration #"
       ]
      },
      {
       "output_type": "stream",
       "stream": "stdout",
       "text": [
        " 67  ntrees =  68 \n",
        "best loss =  0.317009828989 \n",
        "last loss =  0.317009828989\n",
        "learning_rate =  0.29\n",
        "sample_size 100\n",
        "\n",
        "iteration #"
       ]
      },
      {
       "output_type": "stream",
       "stream": "stdout",
       "text": [
        " 68  ntrees =  69 \n",
        "best loss =  0.316755058111 \n",
        "last loss =  0.316755058111\n",
        "learning_rate =  0.29\n",
        "sample_size 100\n",
        "\n",
        "iteration #"
       ]
      },
      {
       "output_type": "stream",
       "stream": "stdout",
       "text": [
        " 69  ntrees =  70 \n",
        "best loss =  0.316487061853 \n",
        "last loss =  0.316487061853\n",
        "learning_rate =  0.29\n",
        "sample_size 100\n",
        "\n",
        "iteration #"
       ]
      },
      {
       "output_type": "stream",
       "stream": "stdout",
       "text": [
        " 70  ntrees =  71 \n",
        "best loss =  0.316241024827 \n",
        "last loss =  0.316241024827\n",
        "learning_rate =  0.29\n",
        "sample_size 100\n",
        "\n",
        "iteration #"
       ]
      },
      {
       "output_type": "stream",
       "stream": "stdout",
       "text": [
        " 71  ntrees =  72 \n",
        "best loss =  0.316002791419 \n",
        "last loss =  0.316002791419\n",
        "learning_rate =  0.29\n",
        "sample_size 100\n",
        "\n",
        "iteration #"
       ]
      },
      {
       "output_type": "stream",
       "stream": "stdout",
       "text": [
        " 72  ntrees =  73 \n",
        "best loss =  0.315771498382 \n",
        "last loss =  0.315771498382\n",
        "learning_rate =  0.29\n",
        "sample_size 100\n",
        "\n",
        "iteration #"
       ]
      },
      {
       "output_type": "stream",
       "stream": "stdout",
       "text": [
        " 73  ntrees =  74 \n",
        "best loss =  0.31552508587 \n",
        "last loss =  0.31552508587\n",
        "learning_rate =  0.29\n",
        "sample_size 100\n",
        "\n",
        "iteration #"
       ]
      },
      {
       "output_type": "stream",
       "stream": "stdout",
       "text": [
        " 74  ntrees =  75 \n",
        "best loss =  0.315249398243 \n",
        "last loss =  0.315249398243\n",
        "learning_rate =  0.29\n",
        "sample_size 100\n",
        "\n",
        "iteration #"
       ]
      },
      {
       "output_type": "stream",
       "stream": "stdout",
       "text": [
        " 75  ntrees =  76 \n",
        "best loss =  0.315017042228 \n",
        "last loss =  0.315017042228\n",
        "learning_rate =  0.29\n",
        "sample_size 100\n",
        "\n",
        "iteration #"
       ]
      },
      {
       "output_type": "stream",
       "stream": "stdout",
       "text": [
        " 76  ntrees =  77 \n",
        "best loss =  0.314780847819 \n",
        "last loss =  0.314780847819\n",
        "learning_rate =  0.29\n",
        "sample_size 100\n",
        "\n",
        "iteration #"
       ]
      },
      {
       "output_type": "stream",
       "stream": "stdout",
       "text": [
        " 77  ntrees =  78 \n",
        "best loss =  0.314530498853 \n",
        "last loss =  0.314530498853\n",
        "learning_rate =  0.29\n",
        "sample_size 100\n",
        "\n",
        "iteration #"
       ]
      },
      {
       "output_type": "stream",
       "stream": "stdout",
       "text": [
        " 78  ntrees =  79 \n",
        "best loss =  0.314278795807 \n",
        "last loss =  0.314278795807\n",
        "learning_rate =  0.29\n",
        "sample_size 100\n",
        "\n",
        "iteration #"
       ]
      },
      {
       "output_type": "stream",
       "stream": "stdout",
       "text": [
        " 79  ntrees =  80 \n",
        "best loss =  0.314037575863 \n",
        "last loss =  0.314037575863\n",
        "learning_rate =  0.29\n",
        "sample_size 100\n",
        "\n",
        "iteration #"
       ]
      },
      {
       "output_type": "stream",
       "stream": "stdout",
       "text": [
        " 80  ntrees =  81 \n",
        "best loss =  0.31382623396 \n",
        "last loss =  0.31382623396\n",
        "learning_rate =  0.29\n",
        "sample_size 100\n",
        "\n",
        "iteration #"
       ]
      },
      {
       "output_type": "stream",
       "stream": "stdout",
       "text": [
        " 81  ntrees =  82 \n",
        "best loss =  0.313589790829 \n",
        "last loss =  0.313589790829\n",
        "learning_rate =  0.29\n",
        "sample_size 100\n",
        "\n",
        "iteration #"
       ]
      },
      {
       "output_type": "stream",
       "stream": "stdout",
       "text": [
        " 82  ntrees =  83 \n",
        "best loss =  0.313362119222 \n",
        "last loss =  0.313362119222\n",
        "learning_rate =  0.29\n",
        "sample_size 100\n",
        "\n",
        "iteration #"
       ]
      },
      {
       "output_type": "stream",
       "stream": "stdout",
       "text": [
        " 83  ntrees =  84 \n",
        "best loss =  0.313137043601 \n",
        "last loss =  0.313137043601\n",
        "learning_rate =  0.29\n",
        "sample_size 100\n",
        "\n",
        "iteration #"
       ]
      },
      {
       "output_type": "stream",
       "stream": "stdout",
       "text": [
        " 84  ntrees =  85 \n",
        "best loss =  0.312883459117 \n",
        "last loss =  0.312883459117\n",
        "learning_rate =  0.29\n",
        "sample_size 100\n",
        "\n",
        "iteration #"
       ]
      },
      {
       "output_type": "stream",
       "stream": "stdout",
       "text": [
        " 85  ntrees =  86 \n",
        "best loss =  0.312626408906 \n",
        "last loss =  0.312626408906\n",
        "learning_rate =  0.29\n",
        "sample_size 100\n",
        "\n",
        "iteration #"
       ]
      },
      {
       "output_type": "stream",
       "stream": "stdout",
       "text": [
        " 86  ntrees =  87 \n",
        "best loss =  0.312366270163 \n",
        "last loss =  0.312366270163\n",
        "learning_rate =  0.29\n",
        "sample_size 100\n",
        "\n",
        "iteration #"
       ]
      },
      {
       "output_type": "stream",
       "stream": "stdout",
       "text": [
        " 87  ntrees =  88 \n",
        "best loss =  0.312147993896 \n",
        "last loss =  0.312147993896\n",
        "learning_rate =  0.29\n",
        "sample_size 100\n",
        "\n",
        "iteration #"
       ]
      },
      {
       "output_type": "stream",
       "stream": "stdout",
       "text": [
        " 88  ntrees =  89 \n",
        "best loss =  0.311921058958 \n",
        "last loss =  0.311921058958\n",
        "learning_rate =  0.29\n",
        "sample_size 100\n",
        "\n",
        "iteration #"
       ]
      },
      {
       "output_type": "stream",
       "stream": "stdout",
       "text": [
        " 89  ntrees =  90 \n",
        "best loss =  0.311678837666 \n",
        "last loss =  0.311678837666\n",
        "learning_rate =  0.29\n",
        "sample_size 100\n",
        "\n",
        "iteration #"
       ]
      },
      {
       "output_type": "stream",
       "stream": "stdout",
       "text": [
        " 90  ntrees =  91 \n",
        "best loss =  0.311457400383 \n",
        "last loss =  0.311457400383\n",
        "learning_rate =  0.29\n",
        "sample_size 100\n",
        "\n",
        "iteration #"
       ]
      },
      {
       "output_type": "stream",
       "stream": "stdout",
       "text": [
        " 91  ntrees =  92 \n",
        "best loss =  0.311224420816 \n",
        "last loss =  0.311224420816\n",
        "learning_rate =  0.29\n",
        "sample_size 100\n",
        "\n",
        "iteration #"
       ]
      },
      {
       "output_type": "stream",
       "stream": "stdout",
       "text": [
        " 92  ntrees =  93 \n",
        "best loss =  0.311015927724 \n",
        "last loss =  0.311015927724\n",
        "learning_rate =  0.29\n",
        "sample_size 100\n",
        "\n",
        "iteration #"
       ]
      },
      {
       "output_type": "stream",
       "stream": "stdout",
       "text": [
        " 93  ntrees =  94 \n",
        "best loss =  0.310811238067 \n",
        "last loss =  0.310811238067\n",
        "learning_rate =  0.29\n",
        "sample_size 100\n",
        "\n",
        "iteration #"
       ]
      },
      {
       "output_type": "stream",
       "stream": "stdout",
       "text": [
        " 94  ntrees =  95 \n",
        "best loss =  0.310595196008 \n",
        "last loss =  0.310595196008\n",
        "learning_rate =  0.29\n",
        "sample_size 100\n",
        "\n",
        "iteration #"
       ]
      },
      {
       "output_type": "stream",
       "stream": "stdout",
       "text": [
        " 95  ntrees =  96 \n",
        "best loss =  0.310394933127 \n",
        "last loss =  0.310394933127\n",
        "learning_rate =  0.29\n",
        "sample_size 100\n",
        "\n",
        "iteration #"
       ]
      },
      {
       "output_type": "stream",
       "stream": "stdout",
       "text": [
        " 96  ntrees =  97 \n",
        "best loss =  0.310175547405 \n",
        "last loss =  0.310175547405\n",
        "learning_rate =  0.29\n",
        "sample_size 100\n",
        "\n",
        "iteration #"
       ]
      },
      {
       "output_type": "stream",
       "stream": "stdout",
       "text": [
        " 97  ntrees =  98 \n",
        "best loss =  0.309975229034 \n",
        "last loss =  0.309975229034\n",
        "learning_rate =  0.29\n",
        "sample_size 100\n",
        "\n",
        "iteration #"
       ]
      },
      {
       "output_type": "stream",
       "stream": "stdout",
       "text": [
        " 98  ntrees =  99 \n",
        "best loss =  0.309756257731 \n",
        "last loss =  0.309756257731\n",
        "learning_rate =  0.29\n",
        "sample_size 100\n",
        "\n",
        "iteration #"
       ]
      },
      {
       "output_type": "stream",
       "stream": "stdout",
       "text": [
        " 99  ntrees =  100 \n",
        "best loss =  0.309541165668 \n",
        "last loss =  0.309541165668\n",
        "learning_rate =  0.29\n",
        "sample_size 100\n",
        "Wall time: 4min 58s\n"
       ]
      },
      {
       "output_type": "stream",
       "stream": "stderr",
       "text": [
        "greedy.py:25: FutureWarning: comparison to `None` will result in an elementwise object comparison in the future.\n",
        "  if y_pred == None:\n"
       ]
      }
     ],
     "prompt_number": 13
    },
    {
     "cell_type": "code",
     "collapsed": false,
     "input": [
      "res_greedy_wheel = greedy.wheel_up_features_bfs (copy.copy(res_greedy),\n",
      "                           trees,\n",
      "                           trainFactory,\n",
      "                           LogLoss,\n",
      "                           .3,\n",
      "                           500,\n",
      "                           100,\n",
      "                           verbose = True,\n",
      "                           learning_rate_decay = 1.,\n",
      "                           trees_sample_increase = 0,\n",
      "                           regularizer = 0.000392156862745,\n",
      "                           random_walk = True)"
     ],
     "language": "python",
     "metadata": {},
     "outputs": [
      {
       "output_type": "stream",
       "stream": "stdout",
       "text": [
        "\n",
        "iteration # 0  ntrees =  100 \n",
        "best loss =  0.309541165668\n",
        "learning_rate =  0.3\n",
        "sample_size 100\n",
        "\n",
        "iteration #"
       ]
      },
      {
       "output_type": "stream",
       "stream": "stdout",
       "text": [
        " 1  ntrees =  100 \n",
        "best loss =  0.309536739592 \n",
        "last loss =  0.309536739592\n",
        "changed index 79\n",
        "learning_rate =  0.3\n",
        "sample_size 100\n",
        "\n",
        "iteration #"
       ]
      },
      {
       "output_type": "stream",
       "stream": "stdout",
       "text": [
        " 2  ntrees =  100 \n",
        "best loss =  0.309536739592 \n",
        "last loss =  0.309570343972\n",
        "changed index 46\n",
        "learning_rate =  0.3\n",
        "sample_size 100\n",
        "\n",
        "iteration #"
       ]
      },
      {
       "output_type": "stream",
       "stream": "stdout",
       "text": [
        " 3  ntrees =  100 \n",
        "best loss =  0.309529203437 \n",
        "last loss =  0.309529203437\n",
        "changed index 88\n",
        "learning_rate =  0.3\n",
        "sample_size 100\n",
        "\n",
        "iteration #"
       ]
      },
      {
       "output_type": "stream",
       "stream": "stdout",
       "text": [
        " 4  ntrees =  100 \n",
        "best loss =  0.309529203437 \n",
        "last loss =  0.30953155893\n",
        "changed index 63\n",
        "learning_rate =  0.3\n",
        "sample_size 100\n",
        "\n",
        "iteration #"
       ]
      },
      {
       "output_type": "stream",
       "stream": "stdout",
       "text": [
        " 5  ntrees =  100 \n",
        "best loss =  0.309529203437 \n",
        "last loss =  0.309595017804\n",
        "changed index 27\n",
        "learning_rate =  0.3\n",
        "sample_size 100\n",
        "\n",
        "iteration #"
       ]
      },
      {
       "output_type": "stream",
       "stream": "stdout",
       "text": [
        " 6  ntrees =  100 \n",
        "best loss =  0.309529203437 \n",
        "last loss =  0.310530050236\n",
        "changed index 2\n",
        "learning_rate =  0.3\n",
        "sample_size 100\n",
        "\n",
        "iteration #"
       ]
      },
      {
       "output_type": "stream",
       "stream": "stdout",
       "text": [
        " 7  ntrees =  100 \n",
        "best loss =  0.309517390243 \n",
        "last loss =  0.309517390243\n",
        "changed index 99\n",
        "learning_rate =  0.3\n",
        "sample_size 100\n",
        "\n",
        "iteration #"
       ]
      },
      {
       "output_type": "stream",
       "stream": "stdout",
       "text": [
        " 8  ntrees =  100 \n",
        "best loss =  0.309517390243 \n",
        "last loss =  0.309751097862\n",
        "changed index 15\n",
        "learning_rate =  0.3\n",
        "sample_size 100\n",
        "\n",
        "iteration #"
       ]
      },
      {
       "output_type": "stream",
       "stream": "stdout",
       "text": [
        " 9  ntrees =  100 \n",
        "best loss =  0.309517390243 \n",
        "last loss =  0.309542917702\n",
        "changed index 53\n",
        "learning_rate =  0.3\n",
        "sample_size 100\n",
        "\n",
        "iteration #"
       ]
      },
      {
       "output_type": "stream",
       "stream": "stdout",
       "text": [
        " 10  ntrees =  100 \n",
        "best loss =  0.309489604955 \n",
        "last loss =  0.309489604955\n",
        "changed index 97\n",
        "learning_rate =  0.3\n",
        "sample_size 100\n",
        "\n",
        "iteration #"
       ]
      },
      {
       "output_type": "stream",
       "stream": "stdout",
       "text": [
        " 11  ntrees =  100 \n",
        "best loss =  0.309466895719 \n",
        "last loss =  0.309466895719\n",
        "changed index 80\n",
        "learning_rate =  0.3\n",
        "sample_size 100\n",
        "\n",
        "iteration #"
       ]
      },
      {
       "output_type": "stream",
       "stream": "stdout",
       "text": [
        " 12  ntrees =  100 \n",
        "best loss =  0.309466895719 \n",
        "last loss =  0.309475557768\n",
        "changed index 55\n",
        "learning_rate =  0.3\n",
        "sample_size 100\n",
        "\n",
        "iteration #"
       ]
      },
      {
       "output_type": "stream",
       "stream": "stdout",
       "text": [
        " 13  ntrees =  100 \n",
        "best loss =  0.309466895719 \n",
        "last loss =  0.309814651371\n",
        "changed index 11\n",
        "learning_rate =  0.3\n",
        "sample_size 100\n",
        "\n",
        "iteration #"
       ]
      },
      {
       "output_type": "stream",
       "stream": "stdout",
       "text": [
        " 14  ntrees =  100 \n",
        "best loss =  0.309464700163 \n",
        "last loss =  0.309464700163\n",
        "changed index 61\n",
        "learning_rate =  0.3\n",
        "sample_size 100\n",
        "\n",
        "iteration #"
       ]
      },
      {
       "output_type": "stream",
       "stream": "stdout",
       "text": [
        " 15  ntrees =  100 \n",
        "best loss =  0.309453943907 \n",
        "last loss =  0.309453943907\n",
        "changed index 96\n",
        "learning_rate =  0.3\n",
        "sample_size 100\n",
        "\n",
        "iteration #"
       ]
      },
      {
       "output_type": "stream",
       "stream": "stdout",
       "text": [
        " 16  ntrees =  100 \n",
        "best loss =  0.309453943907 \n",
        "last loss =  0.310351437477\n",
        "changed index 3\n",
        "learning_rate =  0.3\n",
        "sample_size 100\n",
        "\n",
        "iteration #"
       ]
      },
      {
       "output_type": "stream",
       "stream": "stdout",
       "text": [
        " 17  ntrees =  100 \n",
        "best loss =  0.309405165438 \n",
        "last loss =  0.309405165438\n",
        "changed index 92\n",
        "learning_rate =  0.3\n",
        "sample_size 100\n",
        "\n",
        "iteration #"
       ]
      },
      {
       "output_type": "stream",
       "stream": "stdout",
       "text": [
        " 18  ntrees =  100 \n",
        "best loss =  0.309405165438 \n",
        "last loss =  0.309484274978\n",
        "changed index 32\n",
        "learning_rate =  0.3\n",
        "sample_size 100\n",
        "\n",
        "iteration #"
       ]
      },
      {
       "output_type": "stream",
       "stream": "stdout",
       "text": [
        " 19  ntrees =  100 \n",
        "best loss =  0.309405165438 \n",
        "last loss =  0.309414680829\n",
        "changed index 58\n",
        "learning_rate =  0.3\n",
        "sample_size 100\n",
        "\n",
        "iteration #"
       ]
      },
      {
       "output_type": "stream",
       "stream": "stdout",
       "text": [
        " 20  ntrees =  100 \n",
        "best loss =  0.309405165438 \n",
        "last loss =  0.309408127374\n",
        "changed index 80\n",
        "learning_rate =  0.3\n",
        "sample_size 100\n",
        "\n",
        "iteration #"
       ]
      },
      {
       "output_type": "stream",
       "stream": "stdout",
       "text": [
        " 21  ntrees =  100 \n",
        "best loss =  0.309405165438 \n",
        "last loss =  0.30942707655\n",
        "changed index 37\n",
        "learning_rate =  0.3\n",
        "sample_size 100\n",
        "\n",
        "iteration #"
       ]
      },
      {
       "output_type": "stream",
       "stream": "stdout",
       "text": [
        " 22  ntrees =  100 \n",
        "best loss =  0.309405165438 \n",
        "last loss =  0.309727430935\n",
        "changed index 7\n",
        "learning_rate =  0.3\n",
        "sample_size 100\n",
        "\n",
        "iteration #"
       ]
      },
      {
       "output_type": "stream",
       "stream": "stdout",
       "text": [
        " 23  ntrees =  100 \n",
        "best loss =  0.309405165438 \n",
        "last loss =  0.30960171566\n",
        "changed index 12\n",
        "learning_rate =  0.3\n",
        "sample_size 100\n",
        "\n",
        "iteration #"
       ]
      },
      {
       "output_type": "stream",
       "stream": "stdout",
       "text": [
        " 24  ntrees =  100 \n",
        "best loss =  0.309405165438 \n",
        "last loss =  0.309519666854\n",
        "changed index 18\n",
        "learning_rate =  0.3\n",
        "sample_size 100\n",
        "\n",
        "iteration #"
       ]
      },
      {
       "output_type": "stream",
       "stream": "stdout",
       "text": [
        " 25  ntrees =  100 \n",
        "best loss =  0.309405165438 \n",
        "last loss =  0.309517136093\n",
        "changed index 25\n",
        "learning_rate =  0.3\n",
        "sample_size 100\n",
        "\n",
        "iteration #"
       ]
      },
      {
       "output_type": "stream",
       "stream": "stdout",
       "text": [
        " 26  ntrees =  100 \n",
        "best loss =  0.309405165438 \n",
        "last loss =  0.309619597179\n",
        "changed index 16\n",
        "learning_rate =  0.3\n",
        "sample_size 100\n",
        "\n",
        "iteration #"
       ]
      },
      {
       "output_type": "stream",
       "stream": "stdout",
       "text": [
        " 27  ntrees =  100 \n",
        "best loss =  0.309405165438 \n",
        "last loss =  0.309483726899\n",
        "changed index 30\n",
        "learning_rate =  0.3\n",
        "sample_size 100\n",
        "\n",
        "iteration #"
       ]
      },
      {
       "output_type": "stream",
       "stream": "stdout",
       "text": [
        " 28  ntrees =  100 \n",
        "best loss =  0.309392664038 \n",
        "last loss =  0.309392664038\n",
        "changed index 99\n",
        "learning_rate =  0.3\n",
        "sample_size 100\n",
        "\n",
        "iteration #"
       ]
      },
      {
       "output_type": "stream",
       "stream": "stdout",
       "text": [
        " 29  ntrees =  100 \n",
        "best loss =  0.309392664038 \n",
        "last loss =  0.309433475977\n",
        "changed index 45\n",
        "learning_rate =  0.3\n",
        "sample_size 100\n",
        "\n",
        "iteration #"
       ]
      },
      {
       "output_type": "stream",
       "stream": "stdout",
       "text": [
        " 30  ntrees =  100 \n",
        "best loss =  0.309380364166 \n",
        "last loss =  0.309380364166\n",
        "changed index 85\n",
        "learning_rate =  0.3\n",
        "sample_size 100\n",
        "\n",
        "iteration #"
       ]
      },
      {
       "output_type": "stream",
       "stream": "stdout",
       "text": [
        " 31  ntrees =  100 \n",
        "best loss =  0.309371096045 \n",
        "last loss =  0.309371096045\n",
        "changed index 53\n",
        "learning_rate =  0.3\n",
        "sample_size 100\n",
        "\n",
        "iteration #"
       ]
      },
      {
       "output_type": "stream",
       "stream": "stdout",
       "text": [
        " 32  ntrees =  100 \n",
        "best loss =  0.309371096045 \n",
        "last loss =  0.309443818256\n",
        "changed index 32\n",
        "learning_rate =  0.3\n",
        "sample_size 100\n",
        "\n",
        "iteration #"
       ]
      },
      {
       "output_type": "stream",
       "stream": "stdout",
       "text": [
        " 33  ntrees =  100 \n",
        "best loss =  0.309371096045 \n",
        "last loss =  0.309377604745\n",
        "changed index 63\n",
        "learning_rate =  0.3\n",
        "sample_size 100\n",
        "\n",
        "iteration #"
       ]
      },
      {
       "output_type": "stream",
       "stream": "stdout",
       "text": [
        " 34  ntrees =  100 \n",
        "best loss =  0.309371096045 \n",
        "last loss =  0.309378798184\n",
        "changed index 68\n",
        "learning_rate =  0.3\n",
        "sample_size 100\n",
        "\n",
        "iteration #"
       ]
      },
      {
       "output_type": "stream",
       "stream": "stdout",
       "text": [
        " 35  ntrees =  100 \n",
        "best loss =  0.309356708955 \n",
        "last loss =  0.309356708955\n",
        "changed index 81\n",
        "learning_rate =  0.3\n",
        "sample_size 100\n",
        "\n",
        "iteration #"
       ]
      },
      {
       "output_type": "stream",
       "stream": "stdout",
       "text": [
        " 36  ntrees =  100 \n",
        "best loss =  0.309356708955 \n",
        "last loss =  0.309558088707\n",
        "changed index 20\n",
        "learning_rate =  0.3\n",
        "sample_size 100\n",
        "\n",
        "iteration #"
       ]
      },
      {
       "output_type": "stream",
       "stream": "stdout",
       "text": [
        " 37  ntrees =  100 \n",
        "best loss =  0.30935550709 \n",
        "last loss =  0.30935550709\n",
        "changed index 79\n",
        "learning_rate =  0.3\n",
        "sample_size 100\n",
        "\n",
        "iteration #"
       ]
      },
      {
       "output_type": "stream",
       "stream": "stdout",
       "text": [
        " 38  ntrees =  100 \n",
        "best loss =  0.30935550709 \n",
        "last loss =  0.309516468753\n",
        "changed index 17\n",
        "learning_rate =  0.3\n",
        "sample_size 100\n",
        "\n",
        "iteration #"
       ]
      },
      {
       "output_type": "stream",
       "stream": "stdout",
       "text": [
        " 39  ntrees =  100 \n",
        "best loss =  0.30935550709 \n",
        "last loss =  0.309484326488\n",
        "changed index 19\n",
        "learning_rate =  0.3\n",
        "sample_size 100\n",
        "\n",
        "iteration #"
       ]
      },
      {
       "output_type": "stream",
       "stream": "stdout",
       "text": [
        " 40  ntrees =  100 \n",
        "best loss =  0.30935550709 \n",
        "last loss =  0.309503415625\n",
        "changed index 23\n",
        "learning_rate =  0.3\n",
        "sample_size 100\n",
        "\n",
        "iteration #"
       ]
      },
      {
       "output_type": "stream",
       "stream": "stdout",
       "text": [
        " 41  ntrees =  100 \n",
        "best loss =  0.309345679205 \n",
        "last loss =  0.309345679205\n",
        "changed index 79\n",
        "learning_rate =  0.3\n",
        "sample_size 100\n",
        "\n",
        "iteration #"
       ]
      },
      {
       "output_type": "stream",
       "stream": "stdout",
       "text": [
        " 42  ntrees =  100 \n",
        "best loss =  0.30934567375 \n",
        "last loss =  0.30934567375\n",
        "changed index 65\n",
        "learning_rate =  0.3\n",
        "sample_size 100\n",
        "\n",
        "iteration #"
       ]
      },
      {
       "output_type": "stream",
       "stream": "stdout",
       "text": [
        " 43  ntrees =  100 \n",
        "best loss =  0.30934567375 \n",
        "last loss =  0.309491611667\n",
        "changed index 24\n",
        "learning_rate =  0.3\n",
        "sample_size 100\n",
        "\n",
        "iteration #"
       ]
      },
      {
       "output_type": "stream",
       "stream": "stdout",
       "text": [
        " 44  ntrees =  100 \n",
        "best loss =  0.30934567375 \n",
        "last loss =  0.310906062496\n",
        "changed index 1\n",
        "learning_rate =  0.3\n",
        "sample_size 100\n",
        "\n",
        "iteration #"
       ]
      },
      {
       "output_type": "stream",
       "stream": "stdout",
       "text": [
        " 45  ntrees =  100 \n",
        "best loss =  0.30934567375 \n",
        "last loss =  0.309419513255\n",
        "changed index 32\n",
        "learning_rate =  0.3\n",
        "sample_size 100\n",
        "\n",
        "iteration #"
       ]
      },
      {
       "output_type": "stream",
       "stream": "stdout",
       "text": [
        " 46  ntrees =  100 \n",
        "best loss =  0.30934567375 \n",
        "last loss =  0.309464212161\n",
        "changed index 22\n",
        "learning_rate =  0.3\n",
        "sample_size 100\n",
        "\n",
        "iteration #"
       ]
      },
      {
       "output_type": "stream",
       "stream": "stdout",
       "text": [
        " 47  ntrees =  100 \n",
        "best loss =  0.30934567375 \n",
        "last loss =  0.309360160673\n",
        "changed index 60\n",
        "learning_rate =  0.3\n",
        "sample_size 100\n",
        "\n",
        "iteration #"
       ]
      },
      {
       "output_type": "stream",
       "stream": "stdout",
       "text": [
        " 48  ntrees =  100 \n",
        "best loss =  0.309341761635 \n",
        "last loss =  0.309341761635\n",
        "changed index 71\n",
        "learning_rate =  0.3\n",
        "sample_size 100\n",
        "\n",
        "iteration #"
       ]
      },
      {
       "output_type": "stream",
       "stream": "stdout",
       "text": [
        " 49  ntrees =  100 \n",
        "best loss =  0.309341761635 \n",
        "last loss =  0.309540720982\n",
        "changed index 13\n",
        "learning_rate =  0.3\n",
        "sample_size 100\n",
        "\n",
        "iteration #"
       ]
      },
      {
       "output_type": "stream",
       "stream": "stdout",
       "text": [
        " 50  ntrees =  100 \n",
        "best loss =  0.309341761635 \n",
        "last loss =  0.309471040241\n",
        "changed index 19\n",
        "learning_rate =  0.3\n",
        "sample_size 100\n",
        "\n",
        "iteration #"
       ]
      },
      {
       "output_type": "stream",
       "stream": "stdout",
       "text": [
        " 51  ntrees =  100 \n",
        "best loss =  0.309341761635 \n",
        "last loss =  0.309453530621\n",
        "changed index 25\n",
        "learning_rate =  0.3\n",
        "sample_size 100\n",
        "\n",
        "iteration #"
       ]
      },
      {
       "output_type": "stream",
       "stream": "stdout",
       "text": [
        " 52  ntrees =  100 \n",
        "best loss =  0.309341761635 \n",
        "last loss =  0.309555837371\n",
        "changed index 16\n",
        "learning_rate =  0.3\n",
        "sample_size 100\n",
        "\n",
        "iteration #"
       ]
      },
      {
       "output_type": "stream",
       "stream": "stdout",
       "text": [
        " 53  ntrees =  100 \n",
        "best loss =  0.309341761635 \n",
        "last loss =  0.310211197518\n",
        "changed index 3\n",
        "learning_rate =  0.3\n",
        "sample_size 100\n",
        "\n",
        "iteration #"
       ]
      },
      {
       "output_type": "stream",
       "stream": "stdout",
       "text": [
        " 54  ntrees =  100 \n",
        "best loss =  0.309341761635 \n",
        "last loss =  0.309502229188\n",
        "changed index 17\n",
        "learning_rate =  0.3\n",
        "sample_size 100\n",
        "\n",
        "iteration #"
       ]
      },
      {
       "output_type": "stream",
       "stream": "stdout",
       "text": [
        " 55  ntrees =  100 \n",
        "best loss =  0.309341761635 \n",
        "last loss =  0.309471040241\n",
        "changed index 19\n",
        "learning_rate =  0.3\n",
        "sample_size 100\n",
        "\n",
        "iteration #"
       ]
      },
      {
       "output_type": "stream",
       "stream": "stdout",
       "text": [
        " 56  ntrees =  100 \n",
        "best loss =  0.309339985967 \n",
        "last loss =  0.309339985967\n",
        "changed index 80\n",
        "learning_rate =  0.3\n",
        "sample_size 100\n",
        "\n",
        "iteration #"
       ]
      },
      {
       "output_type": "stream",
       "stream": "stdout",
       "text": [
        " 57  ntrees =  100 \n",
        "best loss =  0.309314938267 \n",
        "last loss =  0.309314938267\n",
        "changed index 63\n",
        "learning_rate =  0.3\n",
        "sample_size 100\n",
        "\n",
        "iteration #"
       ]
      },
      {
       "output_type": "stream",
       "stream": "stdout",
       "text": [
        " 58  ntrees =  100 \n",
        "best loss =  0.309302657864 \n",
        "last loss =  0.309302657864\n",
        "changed index 88\n",
        "learning_rate =  0.3\n",
        "sample_size 100\n",
        "\n",
        "iteration #"
       ]
      },
      {
       "output_type": "stream",
       "stream": "stdout",
       "text": [
        " 59  ntrees =  100 \n",
        "best loss =  0.309302657864 \n",
        "last loss =  0.309330419026\n",
        "changed index 45\n",
        "learning_rate =  0.3\n",
        "sample_size 100\n",
        "\n",
        "iteration #"
       ]
      },
      {
       "output_type": "stream",
       "stream": "stdout",
       "text": [
        " 60  ntrees =  100 \n",
        "best loss =  0.309302657864 \n",
        "last loss =  0.309336826888\n",
        "changed index 43\n",
        "learning_rate =  0.3\n",
        "sample_size 100\n",
        "\n",
        "iteration #"
       ]
      },
      {
       "output_type": "stream",
       "stream": "stdout",
       "text": [
        " 61  ntrees =  100 \n",
        "best loss =  0.309302657864 \n",
        "last loss =  0.309343339192\n",
        "changed index 38\n",
        "learning_rate =  0.3\n",
        "sample_size 100\n",
        "\n",
        "iteration #"
       ]
      },
      {
       "output_type": "stream",
       "stream": "stdout",
       "text": [
        " 62  ntrees =  100 \n",
        "best loss =  0.309302657864 \n",
        "last loss =  0.30944962202\n",
        "changed index 23\n",
        "learning_rate =  0.3\n",
        "sample_size 100\n",
        "\n",
        "iteration #"
       ]
      },
      {
       "output_type": "stream",
       "stream": "stdout",
       "text": [
        " 63  ntrees =  100 \n",
        "best loss =  0.309302657864 \n",
        "last loss =  0.309431348828\n",
        "changed index 19\n",
        "learning_rate =  0.3\n",
        "sample_size 100\n",
        "\n",
        "iteration #"
       ]
      },
      {
       "output_type": "stream",
       "stream": "stdout",
       "text": [
        " 64  ntrees =  100 \n",
        "best loss =  0.309301770066 \n",
        "last loss =  0.309301770066\n",
        "changed index 84\n",
        "learning_rate =  0.3\n",
        "sample_size 100\n",
        "\n",
        "iteration #"
       ]
      },
      {
       "output_type": "stream",
       "stream": "stdout",
       "text": [
        " 65  ntrees =  100 \n",
        "best loss =  0.309284679269 \n",
        "last loss =  0.309284679269\n",
        "changed index 57\n",
        "learning_rate =  0.3\n",
        "sample_size 100\n",
        "\n",
        "iteration #"
       ]
      },
      {
       "output_type": "stream",
       "stream": "stdout",
       "text": [
        " 66  ntrees =  100 \n",
        "best loss =  0.309278276391 \n",
        "last loss =  0.309278276391\n",
        "changed index 70\n",
        "learning_rate =  0.3\n",
        "sample_size 100\n",
        "\n",
        "iteration #"
       ]
      },
      {
       "output_type": "stream",
       "stream": "stdout",
       "text": [
        " 67  ntrees =  100 \n",
        "best loss =  0.309276749863 \n",
        "last loss =  0.309276749863\n",
        "changed index 63\n",
        "learning_rate =  0.3\n",
        "sample_size 100\n",
        "\n",
        "iteration #"
       ]
      },
      {
       "output_type": "stream",
       "stream": "stdout",
       "text": [
        " 68  ntrees =  100 \n",
        "best loss =  0.309276749863 \n",
        "last loss =  0.310310980618\n",
        "changed index 2\n",
        "learning_rate =  0.3\n",
        "sample_size 100\n",
        "\n",
        "iteration #"
       ]
      },
      {
       "output_type": "stream",
       "stream": "stdout",
       "text": [
        " 69  ntrees =  100 \n",
        "best loss =  0.309275794654 \n",
        "last loss =  0.309275794654\n",
        "changed index 76\n",
        "learning_rate =  0.3\n",
        "sample_size 100\n",
        "\n",
        "iteration #"
       ]
      },
      {
       "output_type": "stream",
       "stream": "stdout",
       "text": [
        " 70  ntrees =  100 \n",
        "best loss =  0.309275794654 \n",
        "last loss =  0.309405363369\n",
        "changed index 19\n",
        "learning_rate =  0.3\n",
        "sample_size 100\n",
        "\n",
        "iteration #"
       ]
      },
      {
       "output_type": "stream",
       "stream": "stdout",
       "text": [
        " 71  ntrees =  100 \n",
        "best loss =  0.309275794654 \n",
        "last loss =  0.309307968593\n",
        "changed index 46\n",
        "learning_rate =  0.3\n",
        "sample_size 100\n",
        "\n",
        "iteration #"
       ]
      },
      {
       "output_type": "stream",
       "stream": "stdout",
       "text": [
        " 72  ntrees =  100 \n",
        "best loss =  0.309275794654 \n",
        "last loss =  0.309439751401\n",
        "changed index 17\n",
        "learning_rate =  0.3\n",
        "sample_size 100\n",
        "\n",
        "iteration #"
       ]
      },
      {
       "output_type": "stream",
       "stream": "stdout",
       "text": [
        " 73  ntrees =  100 \n",
        "best loss =  0.309274734075 \n",
        "last loss =  0.309274734075\n",
        "changed index 77\n",
        "learning_rate =  0.3\n",
        "sample_size 100\n",
        "\n",
        "iteration #"
       ]
      },
      {
       "output_type": "stream",
       "stream": "stdout",
       "text": [
        " 74  ntrees =  100 \n",
        "best loss =  0.309274734075 \n",
        "last loss =  0.310140960582\n",
        "changed index 3\n",
        "learning_rate =  0.3\n",
        "sample_size 100\n",
        "\n",
        "iteration #"
       ]
      },
      {
       "output_type": "stream",
       "stream": "stdout",
       "text": [
        " 75  ntrees =  100 \n",
        "best loss =  0.309274734075 \n",
        "last loss =  0.30941965974\n",
        "changed index 24\n",
        "learning_rate =  0.3\n",
        "sample_size 100\n",
        "\n",
        "iteration #"
       ]
      },
      {
       "output_type": "stream",
       "stream": "stdout",
       "text": [
        " 76  ntrees =  100 \n",
        "best loss =  0.309274734075 \n",
        "last loss =  0.309359107096\n",
        "changed index 31\n",
        "learning_rate =  0.3\n",
        "sample_size 100\n",
        "\n",
        "iteration #"
       ]
      },
      {
       "output_type": "stream",
       "stream": "stdout",
       "text": [
        " 77  ntrees =  100 \n",
        "best loss =  0.309274734075 \n",
        "last loss =  0.311808769361\n",
        "changed index 0\n",
        "learning_rate =  0.3\n",
        "sample_size 100\n",
        "\n",
        "iteration #"
       ]
      },
      {
       "output_type": "stream",
       "stream": "stdout",
       "text": [
        " 78  ntrees =  100 \n",
        "best loss =  0.309274734075 \n",
        "last loss =  0.309277305182\n",
        "changed index 72\n",
        "learning_rate =  0.3\n",
        "sample_size 100\n",
        "\n",
        "iteration #"
       ]
      },
      {
       "output_type": "stream",
       "stream": "stdout",
       "text": [
        " 79  ntrees =  100 \n",
        "best loss =  0.309274734075 \n",
        "last loss =  0.310832487176\n",
        "changed index 1\n",
        "learning_rate =  0.3\n",
        "sample_size 100\n",
        "\n",
        "iteration #"
       ]
      },
      {
       "output_type": "stream",
       "stream": "stdout",
       "text": [
        " 80  ntrees =  100 \n",
        "best loss =  0.309265787385 \n",
        "last loss =  0.309265787385\n",
        "changed index 51\n",
        "learning_rate =  0.3\n",
        "sample_size 100\n",
        "\n",
        "iteration #"
       ]
      },
      {
       "output_type": "stream",
       "stream": "stdout",
       "text": [
        " 81  ntrees =  100 \n",
        "best loss =  0.309260771606 \n",
        "last loss =  0.309260771606\n",
        "changed index 57\n",
        "learning_rate =  0.3\n",
        "sample_size 100\n",
        "\n",
        "iteration #"
       ]
      },
      {
       "output_type": "stream",
       "stream": "stdout",
       "text": [
        " 82  ntrees =  100 \n",
        "best loss =  0.309260771606 \n",
        "last loss =  0.309306769362\n",
        "changed index 37\n",
        "learning_rate =  0.3\n",
        "sample_size 100\n",
        "\n",
        "iteration #"
       ]
      },
      {
       "output_type": "stream",
       "stream": "stdout",
       "text": [
        " 83  ntrees =  100 \n",
        "best loss =  0.309260771606 \n",
        "last loss =  0.309282697121\n",
        "changed index 47\n",
        "learning_rate =  0.3\n",
        "sample_size 100\n",
        "\n",
        "iteration #"
       ]
      },
      {
       "output_type": "stream",
       "stream": "stdout",
       "text": [
        " 84  ntrees =  100 \n",
        "best loss =  0.309260771606 \n",
        "last loss =  0.309261933446\n",
        "changed index 62\n",
        "learning_rate =  0.3\n",
        "sample_size 100\n",
        "\n",
        "iteration #"
       ]
      },
      {
       "output_type": "stream",
       "stream": "stdout",
       "text": [
        " 85  ntrees =  100 \n",
        "best loss =  0.309256772656 \n",
        "last loss =  0.309256772656\n",
        "changed index 85\n",
        "learning_rate =  0.3\n",
        "sample_size 100\n",
        "\n",
        "iteration #"
       ]
      },
      {
       "output_type": "stream",
       "stream": "stdout",
       "text": [
        " 86  ntrees =  100 \n",
        "best loss =  0.309252439462 \n",
        "last loss =  0.309252439462\n",
        "changed index 65\n",
        "learning_rate =  0.3\n",
        "sample_size 100\n",
        "\n",
        "iteration #"
       ]
      },
      {
       "output_type": "stream",
       "stream": "stdout",
       "text": [
        " 87  ntrees =  100 \n",
        "best loss =  0.30924022363 \n",
        "last loss =  0.30924022363\n",
        "changed index 93\n",
        "learning_rate =  0.3\n",
        "sample_size 100\n",
        "\n",
        "iteration #"
       ]
      },
      {
       "output_type": "stream",
       "stream": "stdout",
       "text": [
        " 88  ntrees =  100 \n",
        "best loss =  0.30923513562 \n",
        "last loss =  0.30923513562\n",
        "changed index 99\n",
        "learning_rate =  0.3\n",
        "sample_size 100\n",
        "\n",
        "iteration #"
       ]
      },
      {
       "output_type": "stream",
       "stream": "stdout",
       "text": [
        " 89  ntrees =  100 \n",
        "best loss =  0.309231182759 \n",
        "last loss =  0.309231182759\n",
        "changed index 84\n",
        "learning_rate =  0.3\n",
        "sample_size 100\n",
        "\n",
        "iteration #"
       ]
      },
      {
       "output_type": "stream",
       "stream": "stdout",
       "text": [
        " 90  ntrees =  100 \n",
        "best loss =  0.309217431028 \n",
        "last loss =  0.309217431028\n",
        "changed index 83\n",
        "learning_rate =  0.3\n",
        "sample_size 100\n",
        "\n",
        "iteration #"
       ]
      },
      {
       "output_type": "stream",
       "stream": "stdout",
       "text": [
        " 91  ntrees =  100 \n",
        "best loss =  0.309216115452 \n",
        "last loss =  0.309216115452\n",
        "changed index 88\n",
        "learning_rate =  0.3\n",
        "sample_size 100\n",
        "\n",
        "iteration #"
       ]
      },
      {
       "output_type": "stream",
       "stream": "stdout",
       "text": [
        " 92  ntrees =  100 \n",
        "best loss =  0.309214945789 \n",
        "last loss =  0.309214945789\n",
        "changed index 76\n",
        "learning_rate =  0.3\n",
        "sample_size 100\n",
        "\n",
        "iteration #"
       ]
      },
      {
       "output_type": "stream",
       "stream": "stdout",
       "text": [
        " 93  ntrees =  100 \n",
        "best loss =  0.309214945789 \n",
        "last loss =  0.310081415997\n",
        "changed index 3\n",
        "learning_rate =  0.3\n",
        "sample_size 100\n",
        "\n",
        "iteration #"
       ]
      },
      {
       "output_type": "stream",
       "stream": "stdout",
       "text": [
        " 94  ntrees =  100 \n",
        "best loss =  0.309211072031 \n",
        "last loss =  0.309211072031\n",
        "changed index 86\n",
        "learning_rate =  0.3\n",
        "sample_size 100\n",
        "\n",
        "iteration #"
       ]
      },
      {
       "output_type": "stream",
       "stream": "stdout",
       "text": [
        " 95  ntrees =  100 \n",
        "best loss =  0.309192921142 \n",
        "last loss =  0.309192921142\n",
        "changed index 87\n",
        "learning_rate =  0.3\n",
        "sample_size 100\n",
        "\n",
        "iteration #"
       ]
      },
      {
       "output_type": "stream",
       "stream": "stdout",
       "text": [
        " 96  ntrees =  100 \n",
        "best loss =  0.309192921142 \n",
        "last loss =  0.30927692673\n",
        "changed index 30\n",
        "learning_rate =  0.3\n",
        "sample_size 100\n",
        "\n",
        "iteration #"
       ]
      },
      {
       "output_type": "stream",
       "stream": "stdout",
       "text": [
        " 97  ntrees =  100 \n",
        "best loss =  0.309192921142 \n",
        "last loss =  0.309204326239\n",
        "changed index 58\n",
        "learning_rate =  0.3\n",
        "sample_size 100\n",
        "\n",
        "iteration #"
       ]
      },
      {
       "output_type": "stream",
       "stream": "stdout",
       "text": [
        " 98  ntrees =  100 \n",
        "best loss =  0.309186558755 \n",
        "last loss =  0.309186558755\n",
        "changed index 89\n",
        "learning_rate =  0.3\n",
        "sample_size 100\n",
        "\n",
        "iteration #"
       ]
      },
      {
       "output_type": "stream",
       "stream": "stdout",
       "text": [
        " 99  ntrees =  100 \n",
        "best loss =  0.309186558755 \n",
        "last loss =  0.309186800844\n",
        "changed index 69\n",
        "learning_rate =  0.3\n",
        "sample_size 100\n",
        "\n",
        "iteration #"
       ]
      },
      {
       "output_type": "stream",
       "stream": "stdout",
       "text": [
        " 100  ntrees =  100 \n",
        "best loss =  0.309186558755 \n",
        "last loss =  0.309214560648\n",
        "changed index 56\n",
        "learning_rate =  0.3\n",
        "sample_size 100\n",
        "\n",
        "iteration #"
       ]
      },
      {
       "output_type": "stream",
       "stream": "stdout",
       "text": [
        " 101  ntrees =  100 \n",
        "best loss =  0.309145137747 \n",
        "last loss =  0.309145137747\n",
        "changed index 72\n",
        "learning_rate =  0.3\n",
        "sample_size 100\n",
        "\n",
        "iteration #"
       ]
      },
      {
       "output_type": "stream",
       "stream": "stdout",
       "text": [
        " 102  ntrees =  100 \n",
        "best loss =  0.309132565024 \n",
        "last loss =  0.309132565024\n",
        "changed index 97\n",
        "learning_rate =  0.3\n",
        "sample_size 100\n",
        "\n",
        "iteration #"
       ]
      },
      {
       "output_type": "stream",
       "stream": "stdout",
       "text": [
        " 103  ntrees =  100 \n",
        "best loss =  0.309132565024 \n",
        "last loss =  0.309263645654\n",
        "changed index 18\n",
        "learning_rate =  0.3\n",
        "sample_size 100\n",
        "\n",
        "iteration #"
       ]
      },
      {
       "output_type": "stream",
       "stream": "stdout",
       "text": [
        " 104  ntrees =  100 \n",
        "best loss =  0.309132394373 \n",
        "last loss =  0.309132394373\n",
        "changed index 70\n",
        "learning_rate =  0.3\n",
        "sample_size 100\n",
        "\n",
        "iteration #"
       ]
      },
      {
       "output_type": "stream",
       "stream": "stdout",
       "text": [
        " 105  ntrees =  100 \n",
        "best loss =  0.309132394373 \n",
        "last loss =  0.309146791741\n",
        "changed index 60\n",
        "learning_rate =  0.3\n",
        "sample_size 100\n",
        "\n",
        "iteration #"
       ]
      },
      {
       "output_type": "stream",
       "stream": "stdout",
       "text": [
        " 106  ntrees =  100 \n",
        "best loss =  0.309128864625 \n",
        "last loss =  0.309128864625\n",
        "changed index 81\n",
        "learning_rate =  0.3\n",
        "sample_size 100\n",
        "\n",
        "iteration #"
       ]
      },
      {
       "output_type": "stream",
       "stream": "stdout",
       "text": [
        " 107  ntrees =  100 \n",
        "best loss =  0.309128864625 \n",
        "last loss =  0.309190344434\n",
        "changed index 34\n",
        "learning_rate =  0.3\n",
        "sample_size 100\n",
        "\n",
        "iteration #"
       ]
      },
      {
       "output_type": "stream",
       "stream": "stdout",
       "text": [
        " 108  ntrees =  100 \n",
        "best loss =  0.309128864625 \n",
        "last loss =  0.309166155119\n",
        "changed index 36\n",
        "learning_rate =  0.3\n",
        "sample_size 100\n",
        "\n",
        "iteration #"
       ]
      },
      {
       "output_type": "stream",
       "stream": "stdout",
       "text": [
        " 109  ntrees =  100 \n",
        "best loss =  0.309128864625 \n",
        "last loss =  0.309211347171\n",
        "changed index 28\n",
        "learning_rate =  0.3\n",
        "sample_size 100\n",
        "\n",
        "iteration #"
       ]
      },
      {
       "output_type": "stream",
       "stream": "stdout",
       "text": [
        " 110  ntrees =  100 \n",
        "best loss =  0.309128864625 \n",
        "last loss =  0.309230199989\n",
        "changed index 21\n",
        "learning_rate =  0.3\n",
        "sample_size 100\n",
        "\n",
        "iteration #"
       ]
      },
      {
       "output_type": "stream",
       "stream": "stdout",
       "text": [
        " 111  ntrees =  100 \n",
        "best loss =  0.309128864625 \n",
        "last loss =  0.30913212612\n",
        "changed index 89\n",
        "learning_rate =  0.3\n",
        "sample_size 100\n",
        "\n",
        "iteration #"
       ]
      },
      {
       "output_type": "stream",
       "stream": "stdout",
       "text": [
        " 112  ntrees =  100 \n",
        "best loss =  0.309128864625 \n",
        "last loss =  0.30915228021\n",
        "changed index 49\n",
        "learning_rate =  0.3\n",
        "sample_size 100\n",
        "\n",
        "iteration #"
       ]
      },
      {
       "output_type": "stream",
       "stream": "stdout",
       "text": [
        " 113  ntrees =  100 \n",
        "best loss =  0.309128864625 \n",
        "last loss =  0.309246074302\n",
        "changed index 26\n",
        "learning_rate =  0.3\n",
        "sample_size 100\n",
        "\n",
        "iteration #"
       ]
      },
      {
       "output_type": "stream",
       "stream": "stdout",
       "text": [
        " 114  ntrees =  100 \n",
        "best loss =  0.309128864625 \n",
        "last loss =  0.309174397219\n",
        "changed index 38\n",
        "learning_rate =  0.3\n",
        "sample_size 100\n",
        "\n",
        "iteration #"
       ]
      },
      {
       "output_type": "stream",
       "stream": "stdout",
       "text": [
        " 115  ntrees =  100 \n",
        "best loss =  0.309128864625 \n",
        "last loss =  0.309213739132\n",
        "changed index 27\n",
        "learning_rate =  0.3\n",
        "sample_size 100\n",
        "\n",
        "iteration #"
       ]
      },
      {
       "output_type": "stream",
       "stream": "stdout",
       "text": [
        " 116  ntrees =  100 \n",
        "best loss =  0.309128864625 \n",
        "last loss =  0.309142050356\n",
        "changed index 54\n",
        "learning_rate =  0.3\n",
        "sample_size 100\n",
        "\n",
        "iteration #"
       ]
      },
      {
       "output_type": "stream",
       "stream": "stdout",
       "text": [
        " 117  ntrees =  100 \n",
        "best loss =  0.309123118115 \n",
        "last loss =  0.309123118115\n",
        "changed index 92\n",
        "learning_rate =  0.3\n",
        "sample_size 100\n",
        "\n",
        "iteration #"
       ]
      },
      {
       "output_type": "stream",
       "stream": "stdout",
       "text": [
        " 118  ntrees =  100 \n",
        "best loss =  0.309123118115 \n",
        "last loss =  0.309138867174\n",
        "changed index 50\n",
        "learning_rate =  0.3\n",
        "sample_size 100\n",
        "\n",
        "iteration #"
       ]
      },
      {
       "output_type": "stream",
       "stream": "stdout",
       "text": [
        " 119  ntrees =  100 \n",
        "best loss =  0.309123118115 \n",
        "last loss =  0.309123512165\n",
        "changed index 83\n",
        "learning_rate =  0.3\n",
        "sample_size 100\n",
        "\n",
        "iteration #"
       ]
      },
      {
       "output_type": "stream",
       "stream": "stdout",
       "text": [
        " 120  ntrees =  100 \n",
        "best loss =  0.309122405716 \n",
        "last loss =  0.309122405716\n",
        "changed index 74\n",
        "learning_rate =  0.3\n",
        "sample_size 100\n",
        "\n",
        "iteration #"
       ]
      },
      {
       "output_type": "stream",
       "stream": "stdout",
       "text": [
        " 121  ntrees =  100 \n",
        "best loss =  0.309122405716 \n",
        "last loss =  0.309125889857\n",
        "changed index 69\n",
        "learning_rate =  0.3\n",
        "sample_size 100\n",
        "\n",
        "iteration #"
       ]
      },
      {
       "output_type": "stream",
       "stream": "stdout",
       "text": [
        " 122  ntrees =  100 \n",
        "best loss =  0.309121664177 \n",
        "last loss =  0.309121664177\n",
        "changed index 96\n",
        "learning_rate =  0.3\n",
        "sample_size 100\n",
        "\n",
        "iteration #"
       ]
      },
      {
       "output_type": "stream",
       "stream": "stdout",
       "text": [
        " 123  ntrees =  100 \n",
        "best loss =  0.309121664177 \n",
        "last loss =  0.30917524087\n",
        "changed index 40\n",
        "learning_rate =  0.3\n",
        "sample_size 100\n",
        "\n",
        "iteration #"
       ]
      },
      {
       "output_type": "stream",
       "stream": "stdout",
       "text": [
        " 124  ntrees =  100 \n",
        "best loss =  0.309121664177 \n",
        "last loss =  0.309122690595\n",
        "changed index 66\n",
        "learning_rate =  0.3\n",
        "sample_size 100\n",
        "\n",
        "iteration #"
       ]
      },
      {
       "output_type": "stream",
       "stream": "stdout",
       "text": [
        " 125  ntrees =  100 \n",
        "best loss =  0.309121664177 \n",
        "last loss =  0.309159642675\n",
        "changed index 34\n",
        "learning_rate =  0.3\n",
        "sample_size 100\n",
        "\n",
        "iteration #"
       ]
      },
      {
       "output_type": "stream",
       "stream": "stdout",
       "text": [
        " 126  ntrees =  100 \n",
        "best loss =  0.309121664177 \n",
        "last loss =  0.309559378306\n",
        "changed index 6\n",
        "learning_rate =  0.3\n",
        "sample_size 100\n",
        "\n",
        "iteration #"
       ]
      },
      {
       "output_type": "stream",
       "stream": "stdout",
       "text": [
        " 127  ntrees =  100 \n",
        "best loss =  0.309121664177 \n",
        "last loss =  0.309319810686\n",
        "changed index 20\n",
        "learning_rate =  0.3\n",
        "sample_size 100\n",
        "\n",
        "iteration #"
       ]
      },
      {
       "output_type": "stream",
       "stream": "stdout",
       "text": [
        " 128  ntrees =  100 \n",
        "best loss =  0.309121664177 \n",
        "last loss =  0.309126881059\n",
        "changed index 65\n",
        "learning_rate =  0.3\n",
        "sample_size 100\n",
        "\n",
        "iteration #"
       ]
      },
      {
       "output_type": "stream",
       "stream": "stdout",
       "text": [
        " 129  ntrees =  100 \n",
        "best loss =  0.30912123925 \n",
        "last loss =  0.30912123925\n",
        "changed index 97\n",
        "learning_rate =  0.3\n",
        "sample_size 100\n",
        "\n",
        "iteration #"
       ]
      },
      {
       "output_type": "stream",
       "stream": "stdout",
       "text": [
        " 130  ntrees =  100 \n",
        "best loss =  0.309118118157 \n",
        "last loss =  0.309118118157\n",
        "changed index 77\n",
        "learning_rate =  0.3\n",
        "sample_size 100\n",
        "\n",
        "iteration #"
       ]
      },
      {
       "output_type": "stream",
       "stream": "stdout",
       "text": [
        " 131  ntrees =  100 \n",
        "best loss =  0.309118001114 \n",
        "last loss =  0.309118001114\n",
        "changed index 81\n",
        "learning_rate =  0.3\n",
        "sample_size 100\n",
        "\n",
        "iteration #"
       ]
      },
      {
       "output_type": "stream",
       "stream": "stdout",
       "text": [
        " 132  ntrees =  100 \n",
        "best loss =  0.309118001114 \n",
        "last loss =  0.309151277362\n",
        "changed index 46\n",
        "learning_rate =  0.3\n",
        "sample_size 100\n",
        "\n",
        "iteration #"
       ]
      },
      {
       "output_type": "stream",
       "stream": "stdout",
       "text": [
        " 133  ntrees =  100 \n",
        "best loss =  0.309118001114 \n",
        "last loss =  0.309198110361\n",
        "changed index 32\n",
        "learning_rate =  0.3\n",
        "sample_size 100\n",
        "\n",
        "iteration #"
       ]
      },
      {
       "output_type": "stream",
       "stream": "stdout",
       "text": [
        " 134  ntrees =  100 \n",
        "best loss =  0.309101237356 \n",
        "last loss =  0.309101237356\n",
        "changed index 94\n",
        "learning_rate =  0.3\n",
        "sample_size 100\n",
        "\n",
        "iteration #"
       ]
      },
      {
       "output_type": "stream",
       "stream": "stdout",
       "text": [
        " 135  ntrees =  100 \n",
        "best loss =  0.309101237356 \n",
        "last loss =  0.309123861408\n",
        "changed index 47\n",
        "learning_rate =  0.3\n",
        "sample_size 100\n",
        "\n",
        "iteration #"
       ]
      },
      {
       "output_type": "stream",
       "stream": "stdout",
       "text": [
        " 136  ntrees =  100 \n",
        "best loss =  0.309101237356 \n",
        "last loss =  0.309219712358\n",
        "changed index 22\n",
        "learning_rate =  0.3\n",
        "sample_size 100\n",
        "\n",
        "iteration #"
       ]
      },
      {
       "output_type": "stream",
       "stream": "stdout",
       "text": [
        " 137  ntrees =  100 \n",
        "best loss =  0.309101237356 \n",
        "last loss =  0.309147366947\n",
        "changed index 41\n",
        "learning_rate =  0.3\n",
        "sample_size 100\n",
        "\n",
        "iteration #"
       ]
      },
      {
       "output_type": "stream",
       "stream": "stdout",
       "text": [
        " 138  ntrees =  100 \n",
        "best loss =  0.309089790608 \n",
        "last loss =  0.309089790608\n",
        "changed index 98\n",
        "learning_rate =  0.3\n",
        "sample_size 100\n",
        "\n",
        "iteration #"
       ]
      },
      {
       "output_type": "stream",
       "stream": "stdout",
       "text": [
        " 139  ntrees =  100 \n",
        "best loss =  0.309089790608 \n",
        "last loss =  0.309135767728\n",
        "changed index 38\n",
        "learning_rate =  0.3\n",
        "sample_size 100\n",
        "\n",
        "iteration #"
       ]
      },
      {
       "output_type": "stream",
       "stream": "stdout",
       "text": [
        " 140  ntrees =  100 \n",
        "best loss =  0.309089790608 \n",
        "last loss =  0.309123020887\n",
        "changed index 44\n",
        "learning_rate =  0.3\n",
        "sample_size 100\n",
        "\n",
        "iteration #"
       ]
      },
      {
       "output_type": "stream",
       "stream": "stdout",
       "text": [
        " 141  ntrees =  100 \n",
        "best loss =  0.309077588031 \n",
        "last loss =  0.309077588031\n",
        "changed index 95\n",
        "learning_rate =  0.3\n",
        "sample_size 100\n",
        "\n",
        "iteration #"
       ]
      },
      {
       "output_type": "stream",
       "stream": "stdout",
       "text": [
        " 142  ntrees =  100 \n",
        "best loss =  0.309077588031 \n",
        "last loss =  0.309207576085\n",
        "changed index 19\n",
        "learning_rate =  0.3\n",
        "sample_size 100\n",
        "\n",
        "iteration #"
       ]
      },
      {
       "output_type": "stream",
       "stream": "stdout",
       "text": [
        " 143  ntrees =  100 \n",
        "best loss =  0.309077588031 \n",
        "last loss =  0.309077869075\n",
        "changed index 99\n",
        "learning_rate =  0.3\n",
        "sample_size 100\n",
        "\n",
        "iteration #"
       ]
      },
      {
       "output_type": "stream",
       "stream": "stdout",
       "text": [
        " 144  ntrees =  100 \n",
        "best loss =  0.309077588031 \n",
        "last loss =  0.309391038594\n",
        "changed index 7\n",
        "learning_rate =  0.3\n",
        "sample_size 100\n",
        "\n",
        "iteration #"
       ]
      },
      {
       "output_type": "stream",
       "stream": "stdout",
       "text": [
        " 145  ntrees =  100 \n",
        "best loss =  0.309077588031 \n",
        "last loss =  0.309088138647\n",
        "changed index 58\n",
        "learning_rate =  0.3\n",
        "sample_size 100\n",
        "\n",
        "iteration #"
       ]
      },
      {
       "output_type": "stream",
       "stream": "stdout",
       "text": [
        " 146  ntrees =  100 \n",
        "best loss =  0.309077588031 \n",
        "last loss =  0.30931911539\n",
        "changed index 14\n",
        "learning_rate =  0.3\n",
        "sample_size 100\n",
        "\n",
        "iteration #"
       ]
      },
      {
       "output_type": "stream",
       "stream": "stdout",
       "text": [
        " 147  ntrees =  100 \n",
        "best loss =  0.309077588031 \n",
        "last loss =  0.309158716666\n",
        "changed index 33\n",
        "learning_rate =  0.3\n",
        "sample_size 100\n",
        "\n",
        "iteration #"
       ]
      },
      {
       "output_type": "stream",
       "stream": "stdout",
       "text": [
        " 148  ntrees =  100 \n",
        "best loss =  0.309077588031 \n",
        "last loss =  0.311610268387\n",
        "changed index 0\n",
        "learning_rate =  0.3\n",
        "sample_size 100\n",
        "\n",
        "iteration #"
       ]
      },
      {
       "output_type": "stream",
       "stream": "stdout",
       "text": [
        " 149  ntrees =  100 \n",
        "best loss =  0.309077588031 \n",
        "last loss =  0.309077869075\n",
        "changed index 99\n",
        "learning_rate =  0.3\n",
        "sample_size 100\n",
        "\n",
        "iteration #"
       ]
      },
      {
       "output_type": "stream",
       "stream": "stdout",
       "text": [
        " 150  ntrees =  100 \n",
        "best loss =  0.309077588031 \n",
        "last loss =  0.309292374384\n",
        "changed index 10\n",
        "learning_rate =  0.3\n",
        "sample_size 100\n",
        "\n",
        "iteration #"
       ]
      },
      {
       "output_type": "stream",
       "stream": "stdout",
       "text": [
        " 151  ntrees =  100 \n",
        "best loss =  0.309077588031 \n",
        "last loss =  0.309150100394\n",
        "changed index 31\n",
        "learning_rate =  0.3\n",
        "sample_size 100\n",
        "\n",
        "iteration #"
       ]
      },
      {
       "output_type": "stream",
       "stream": "stdout",
       "text": [
        " 152  ntrees =  100 \n",
        "best loss =  0.30907578367 \n",
        "last loss =  0.30907578367\n",
        "changed index 75\n",
        "learning_rate =  0.3\n",
        "sample_size 100\n",
        "\n",
        "iteration #"
       ]
      },
      {
       "output_type": "stream",
       "stream": "stdout",
       "text": [
        " 153  ntrees =  100 \n",
        "best loss =  0.30907578367 \n",
        "last loss =  0.309087762872\n",
        "changed index 62\n",
        "learning_rate =  0.3\n",
        "sample_size 100\n",
        "\n",
        "iteration #"
       ]
      },
      {
       "output_type": "stream",
       "stream": "stdout",
       "text": [
        " 154  ntrees =  100 \n",
        "best loss =  0.30907578367 \n",
        "last loss =  0.309177444993\n",
        "changed index 21\n",
        "learning_rate =  0.3\n",
        "sample_size 100\n",
        "\n",
        "iteration #"
       ]
      },
      {
       "output_type": "stream",
       "stream": "stdout",
       "text": [
        " 155  ntrees =  100 \n",
        "best loss =  0.30907578367 \n",
        "last loss =  0.309222678911\n",
        "changed index 24\n",
        "learning_rate =  0.3\n",
        "sample_size 100\n",
        "\n",
        "iteration #"
       ]
      },
      {
       "output_type": "stream",
       "stream": "stdout",
       "text": [
        " 156  ntrees =  100 \n",
        "best loss =  0.30907578367 \n",
        "last loss =  0.309120200356\n",
        "changed index 42\n",
        "learning_rate =  0.3\n",
        "sample_size 100\n",
        "\n",
        "iteration #"
       ]
      },
      {
       "output_type": "stream",
       "stream": "stdout",
       "text": [
        " 157  ntrees =  100 \n",
        "best loss =  0.30907578367 \n",
        "last loss =  0.309441561362\n",
        "changed index 8\n",
        "learning_rate =  0.3\n",
        "sample_size 100\n",
        "\n",
        "iteration #"
       ]
      },
      {
       "output_type": "stream",
       "stream": "stdout",
       "text": [
        " 158  ntrees =  100 \n",
        "best loss =  0.309072016702 \n",
        "last loss =  0.309072016702\n",
        "changed index 51\n",
        "learning_rate =  0.3\n",
        "sample_size 100\n",
        "\n",
        "iteration #"
       ]
      },
      {
       "output_type": "stream",
       "stream": "stdout",
       "text": [
        " 159  ntrees =  100 \n",
        "best loss =  0.309071867586 \n",
        "last loss =  0.309071867586\n",
        "changed index 83\n",
        "learning_rate =  0.3\n",
        "sample_size 100\n",
        "\n",
        "iteration #"
       ]
      },
      {
       "output_type": "stream",
       "stream": "stdout",
       "text": [
        " 160  ntrees =  100 \n",
        "best loss =  0.309071867586 \n",
        "last loss =  0.309289446147\n",
        "changed index 16\n",
        "learning_rate =  0.3\n",
        "sample_size 100\n",
        "\n",
        "iteration #"
       ]
      },
      {
       "output_type": "stream",
       "stream": "stdout",
       "text": [
        " 161  ntrees =  100 \n",
        "best loss =  0.309071867586 \n",
        "last loss =  0.310654121912\n",
        "changed index 1\n",
        "learning_rate =  0.3\n",
        "sample_size 100\n",
        "\n",
        "iteration #"
       ]
      },
      {
       "output_type": "stream",
       "stream": "stdout",
       "text": [
        " 162  ntrees =  100 \n",
        "best loss =  0.309071867586 \n",
        "last loss =  0.309288251045\n",
        "changed index 12\n",
        "learning_rate =  0.3\n",
        "sample_size 100\n",
        "\n",
        "iteration #"
       ]
      },
      {
       "output_type": "stream",
       "stream": "stdout",
       "text": [
        " 163  ntrees =  100 \n",
        "best loss =  0.309059955694 \n",
        "last loss =  0.309059955694\n",
        "changed index 80\n",
        "learning_rate =  0.3\n",
        "sample_size 100\n",
        "\n",
        "iteration #"
       ]
      },
      {
       "output_type": "stream",
       "stream": "stdout",
       "text": [
        " 164  ntrees =  100 \n",
        "best loss =  0.309059955694 \n",
        "last loss =  0.309060595451\n",
        "changed index 66\n",
        "learning_rate =  0.3\n",
        "sample_size 100\n",
        "\n",
        "iteration #"
       ]
      },
      {
       "output_type": "stream",
       "stream": "stdout",
       "text": [
        " 165  ntrees =  100 \n",
        "best loss =  0.309059955694 \n",
        "last loss =  0.309257942263\n",
        "changed index 20\n",
        "learning_rate =  0.3\n",
        "sample_size 100\n",
        "\n",
        "iteration #"
       ]
      },
      {
       "output_type": "stream",
       "stream": "stdout",
       "text": [
        " 166  ntrees =  100 \n",
        "best loss =  0.309043785799 \n",
        "last loss =  0.309043785799\n",
        "changed index 91\n",
        "learning_rate =  0.3\n",
        "sample_size 100\n",
        "\n",
        "iteration #"
       ]
      },
      {
       "output_type": "stream",
       "stream": "stdout",
       "text": [
        " 167  ntrees =  100 \n",
        "best loss =  0.309043785799 \n",
        "last loss =  0.309063480786\n",
        "changed index 36\n",
        "learning_rate =  0.3\n",
        "sample_size 100\n",
        "\n",
        "iteration #"
       ]
      },
      {
       "output_type": "stream",
       "stream": "stdout",
       "text": [
        " 168  ntrees =  100 \n",
        "best loss =  0.309043785799 \n",
        "last loss =  0.309688959676\n",
        "changed index 4\n",
        "learning_rate =  0.3\n",
        "sample_size 100\n",
        "\n",
        "iteration #"
       ]
      },
      {
       "output_type": "stream",
       "stream": "stdout",
       "text": [
        " 169  ntrees =  100 \n",
        "best loss =  0.309043785799 \n",
        "last loss =  0.309045184342\n",
        "changed index 66\n",
        "learning_rate =  0.3\n",
        "sample_size 100\n",
        "\n",
        "iteration #"
       ]
      },
      {
       "output_type": "stream",
       "stream": "stdout",
       "text": [
        " 170  ntrees =  100 \n",
        "best loss =  0.309043785799 \n",
        "last loss =  0.309123157689\n",
        "changed index 32\n",
        "learning_rate =  0.3\n",
        "sample_size 100\n",
        "\n",
        "iteration #"
       ]
      },
      {
       "output_type": "stream",
       "stream": "stdout",
       "text": [
        " 171  ntrees =  100 \n",
        "best loss =  0.309043785799 \n",
        "last loss =  0.309259342406\n",
        "changed index 10\n",
        "learning_rate =  0.3\n",
        "sample_size 100\n",
        "\n",
        "iteration #"
       ]
      },
      {
       "output_type": "stream",
       "stream": "stdout",
       "text": [
        " 172  ntrees =  100 \n",
        "best loss =  0.309043785799 \n",
        "last loss =  0.309081374324\n",
        "changed index 43\n",
        "learning_rate =  0.3\n",
        "sample_size 100\n",
        "\n",
        "iteration #"
       ]
      },
      {
       "output_type": "stream",
       "stream": "stdout",
       "text": [
        " 173  ntrees =  100 \n",
        "best loss =  0.309043785799 \n",
        "last loss =  0.309081374324\n",
        "changed index 43\n",
        "learning_rate =  0.3\n",
        "sample_size 100\n",
        "\n",
        "iteration #"
       ]
      },
      {
       "output_type": "stream",
       "stream": "stdout",
       "text": [
        " 174  ntrees =  100 \n",
        "best loss =  0.309037592512 \n",
        "last loss =  0.309037592512\n",
        "changed index 90\n",
        "learning_rate =  0.3\n",
        "sample_size 100\n",
        "\n",
        "iteration #"
       ]
      },
      {
       "output_type": "stream",
       "stream": "stdout",
       "text": [
        " 175  ntrees =  100 \n",
        "best loss =  0.309037592512 \n",
        "last loss =  0.309042774324\n",
        "changed index 65\n",
        "learning_rate =  0.3\n",
        "sample_size 100\n",
        "\n",
        "iteration #"
       ]
      },
      {
       "output_type": "stream",
       "stream": "stdout",
       "text": [
        " 176  ntrees =  100 \n",
        "best loss =  0.309037592512 \n",
        "last loss =  0.309119542155\n",
        "changed index 28\n",
        "learning_rate =  0.3\n",
        "sample_size 100\n",
        "\n",
        "iteration #"
       ]
      },
      {
       "output_type": "stream",
       "stream": "stdout",
       "text": [
        " 177  ntrees =  100 \n",
        "best loss =  0.309037592512 \n",
        "last loss =  0.309067030585\n",
        "changed index 56\n",
        "learning_rate =  0.3\n",
        "sample_size 100\n",
        "\n",
        "iteration #"
       ]
      },
      {
       "output_type": "stream",
       "stream": "stdout",
       "text": [
        " 178  ntrees =  100 \n",
        "best loss =  0.309037592512 \n",
        "last loss =  0.30915451739\n",
        "changed index 26\n",
        "learning_rate =  0.3\n",
        "sample_size 100\n",
        "\n",
        "iteration #"
       ]
      },
      {
       "output_type": "stream",
       "stream": "stdout",
       "text": [
        " 179  ntrees =  100 \n",
        "best loss =  0.309037592512 \n",
        "last loss =  0.309184491403\n",
        "changed index 24\n",
        "learning_rate =  0.3\n",
        "sample_size 100\n",
        "\n",
        "iteration #"
       ]
      },
      {
       "output_type": "stream",
       "stream": "stdout",
       "text": [
        " 180  ntrees =  100 \n",
        "best loss =  0.309037592512 \n",
        "last loss =  0.309060514807\n",
        "changed index 52\n",
        "learning_rate =  0.3\n",
        "sample_size 100\n",
        "\n",
        "iteration #"
       ]
      },
      {
       "output_type": "stream",
       "stream": "stdout",
       "text": [
        " 181  ntrees =  100 \n",
        "best loss =  0.309036512347 \n",
        "last loss =  0.309036512347\n",
        "changed index 85\n",
        "learning_rate =  0.3\n",
        "sample_size 100\n",
        "\n",
        "iteration #"
       ]
      },
      {
       "output_type": "stream",
       "stream": "stdout",
       "text": [
        " 182  ntrees =  100 \n",
        "best loss =  0.309036512347 \n",
        "last loss =  0.30923296551\n",
        "changed index 12\n",
        "learning_rate =  0.3\n",
        "sample_size 100\n",
        "\n",
        "iteration #"
       ]
      },
      {
       "output_type": "stream",
       "stream": "stdout",
       "text": [
        " 183  ntrees =  100 \n",
        "best loss =  0.309036494541 \n",
        "last loss =  0.309036494541\n",
        "changed index 81\n",
        "learning_rate =  0.3\n",
        "sample_size 100\n",
        "\n",
        "iteration #"
       ]
      },
      {
       "output_type": "stream",
       "stream": "stdout",
       "text": [
        " 184  ntrees =  100 \n",
        "best loss =  0.309036494541 \n",
        "last loss =  0.309184798417\n",
        "changed index 23\n",
        "learning_rate =  0.3\n",
        "sample_size 100\n",
        "\n",
        "iteration #"
       ]
      },
      {
       "output_type": "stream",
       "stream": "stdout",
       "text": [
        " 185  ntrees =  100 \n",
        "best loss =  0.309036494541 \n",
        "last loss =  0.309065922661\n",
        "changed index 56\n",
        "learning_rate =  0.3\n",
        "sample_size 100\n",
        "\n",
        "iteration #"
       ]
      },
      {
       "output_type": "stream",
       "stream": "stdout",
       "text": [
        " 186  ntrees =  100 \n",
        "best loss =  0.309036494541 \n",
        "last loss =  0.309036540565\n",
        "changed index 98\n",
        "learning_rate =  0.3\n",
        "sample_size 100\n",
        "\n",
        "iteration #"
       ]
      },
      {
       "output_type": "stream",
       "stream": "stdout",
       "text": [
        " 187  ntrees =  100 \n",
        "best loss =  0.309036494541 \n",
        "last loss =  0.309082550233\n",
        "changed index 36\n",
        "learning_rate =  0.3\n",
        "sample_size 100\n",
        "\n",
        "iteration #"
       ]
      },
      {
       "output_type": "stream",
       "stream": "stdout",
       "text": [
        " 188  ntrees =  100 \n",
        "best loss =  0.308991286234 \n",
        "last loss =  0.308991286234\n",
        "changed index 76\n",
        "learning_rate =  0.3\n",
        "sample_size 100\n",
        "\n",
        "iteration #"
       ]
      },
      {
       "output_type": "stream",
       "stream": "stdout",
       "text": [
        " 189  ntrees =  100 \n",
        "best loss =  0.308988478111 \n",
        "last loss =  0.308988478111\n",
        "changed index 85\n",
        "learning_rate =  0.3\n",
        "sample_size 100\n",
        "\n",
        "iteration #"
       ]
      },
      {
       "output_type": "stream",
       "stream": "stdout",
       "text": [
        " 190  ntrees =  100 \n",
        "best loss =  0.308988478111 \n",
        "last loss =  0.309333366233\n",
        "changed index 11\n",
        "learning_rate =  0.3\n",
        "sample_size 100\n",
        "\n",
        "iteration #"
       ]
      },
      {
       "output_type": "stream",
       "stream": "stdout",
       "text": [
        " 191  ntrees =  100 \n",
        "best loss =  0.308988478111 \n",
        "last loss =  0.30902222807\n",
        "changed index 44\n",
        "learning_rate =  0.3\n",
        "sample_size 100\n",
        "\n",
        "iteration #"
       ]
      },
      {
       "output_type": "stream",
       "stream": "stdout",
       "text": [
        " 192  ntrees =  100 \n",
        "best loss =  0.308984983769 \n",
        "last loss =  0.308984983769\n",
        "changed index 71\n",
        "learning_rate =  0.3\n",
        "sample_size 100\n",
        "\n",
        "iteration #"
       ]
      },
      {
       "output_type": "stream",
       "stream": "stdout",
       "text": [
        " 193  ntrees =  100 \n",
        "best loss =  0.308984983769 \n",
        "last loss =  0.309146057828\n",
        "changed index 17\n",
        "learning_rate =  0.3\n",
        "sample_size 100\n",
        "\n",
        "iteration #"
       ]
      },
      {
       "output_type": "stream",
       "stream": "stdout",
       "text": [
        " 194  ntrees =  100 \n",
        "best loss =  0.308984983769 \n",
        "last loss =  0.309202266198\n",
        "changed index 13\n",
        "learning_rate =  0.3\n",
        "sample_size 100\n",
        "\n",
        "iteration #"
       ]
      },
      {
       "output_type": "stream",
       "stream": "stdout",
       "text": [
        " 195  ntrees =  100 \n",
        "best loss =  0.308977812869 \n",
        "last loss =  0.308977812869\n",
        "changed index 68\n",
        "learning_rate =  0.3\n",
        "sample_size 100\n",
        "\n",
        "iteration #"
       ]
      },
      {
       "output_type": "stream",
       "stream": "stdout",
       "text": [
        " 196  ntrees =  100 \n",
        "best loss =  0.308962040213 \n",
        "last loss =  0.308962040213\n",
        "changed index 79\n",
        "learning_rate =  0.3\n",
        "sample_size 100\n",
        "\n",
        "iteration #"
       ]
      },
      {
       "output_type": "stream",
       "stream": "stdout",
       "text": [
        " 197  ntrees =  100 \n",
        "best loss =  0.308962040213 \n",
        "last loss =  0.308976247149\n",
        "changed index 59\n",
        "learning_rate =  0.3\n",
        "sample_size 100\n",
        "\n",
        "iteration #"
       ]
      },
      {
       "output_type": "stream",
       "stream": "stdout",
       "text": [
        " 198  ntrees =  100 \n",
        "best loss =  0.308962040213 \n",
        "last loss =  0.311522568688\n",
        "changed index 0\n",
        "learning_rate =  0.3\n",
        "sample_size 100\n",
        "\n",
        "iteration #"
       ]
      },
      {
       "output_type": "stream",
       "stream": "stdout",
       "text": [
        " 199  ntrees =  100 \n",
        "best loss =  0.308947373301 \n",
        "last loss =  0.308947373301\n",
        "changed index 61\n",
        "learning_rate =  0.3\n",
        "sample_size 100\n",
        "\n",
        "iteration #"
       ]
      },
      {
       "output_type": "stream",
       "stream": "stdout",
       "text": [
        " 200  ntrees =  100 \n",
        "best loss =  0.308947373301 \n",
        "last loss =  0.30894928457\n",
        "changed index 93\n",
        "learning_rate =  0.3\n",
        "sample_size 100\n",
        "\n",
        "iteration #"
       ]
      },
      {
       "output_type": "stream",
       "stream": "stdout",
       "text": [
        " 201  ntrees =  100 \n",
        "best loss =  0.308945437665 \n",
        "last loss =  0.308945437665\n",
        "changed index 91\n",
        "learning_rate =  0.3\n",
        "sample_size 100\n",
        "\n",
        "iteration #"
       ]
      },
      {
       "output_type": "stream",
       "stream": "stdout",
       "text": [
        " 202  ntrees =  100 \n",
        "best loss =  0.308945437665 \n",
        "last loss =  0.309070906684\n",
        "changed index 18\n",
        "learning_rate =  0.3\n",
        "sample_size 100\n",
        "\n",
        "iteration #"
       ]
      },
      {
       "output_type": "stream",
       "stream": "stdout",
       "text": [
        " 203  ntrees =  100 \n",
        "best loss =  0.308945437665 \n",
        "last loss =  0.309291476639\n",
        "changed index 11\n",
        "learning_rate =  0.3\n",
        "sample_size 100\n",
        "\n",
        "iteration #"
       ]
      },
      {
       "output_type": "stream",
       "stream": "stdout",
       "text": [
        " 204  ntrees =  100 \n",
        "best loss =  0.308945437665 \n",
        "last loss =  0.308984088175\n",
        "changed index 39\n",
        "learning_rate =  0.3\n",
        "sample_size 100\n",
        "\n",
        "iteration #"
       ]
      },
      {
       "output_type": "stream",
       "stream": "stdout",
       "text": [
        " 205  ntrees =  100 \n",
        "best loss =  0.308945437665 \n",
        "last loss =  0.308954419114\n",
        "changed index 56\n",
        "learning_rate =  0.3\n",
        "sample_size 100\n",
        "\n",
        "iteration #"
       ]
      },
      {
       "output_type": "stream",
       "stream": "stdout",
       "text": [
        " 206  ntrees =  100 \n",
        "best loss =  0.308945437665 \n",
        "last loss =  0.308947385194\n",
        "changed index 93\n",
        "learning_rate =  0.3\n",
        "sample_size 100\n",
        "\n",
        "iteration #"
       ]
      },
      {
       "output_type": "stream",
       "stream": "stdout",
       "text": [
        " 207  ntrees =  100 \n",
        "best loss =  0.308945437665 \n",
        "last loss =  0.309590763507\n",
        "changed index 4\n",
        "learning_rate =  0.3\n",
        "sample_size 100\n",
        "\n",
        "iteration #"
       ]
      },
      {
       "output_type": "stream",
       "stream": "stdout",
       "text": [
        " 208  ntrees =  100 \n",
        "best loss =  0.308945437665 \n",
        "last loss =  0.308963163415\n",
        "changed index 47\n",
        "learning_rate =  0.3\n",
        "sample_size 100\n",
        "\n",
        "iteration #"
       ]
      },
      {
       "output_type": "stream",
       "stream": "stdout",
       "text": [
        " 209  ntrees =  100 \n",
        "best loss =  0.308943782105 \n",
        "last loss =  0.308943782105\n",
        "changed index 53\n",
        "learning_rate =  0.3\n",
        "sample_size 100\n",
        "\n",
        "iteration #"
       ]
      },
      {
       "output_type": "stream",
       "stream": "stdout",
       "text": [
        " 210  ntrees =  100 \n",
        "best loss =  0.308943782105 \n",
        "last loss =  0.309142053974\n",
        "changed index 20\n",
        "learning_rate =  0.3\n",
        "sample_size 100\n",
        "\n",
        "iteration #"
       ]
      },
      {
       "output_type": "stream",
       "stream": "stdout",
       "text": [
        " 211  ntrees =  100 \n",
        "best loss =  0.308943150515 \n",
        "last loss =  0.308943150515\n",
        "changed index 87\n",
        "learning_rate =  0.3\n",
        "sample_size 100\n",
        "\n",
        "iteration #"
       ]
      },
      {
       "output_type": "stream",
       "stream": "stdout",
       "text": [
        " 212  ntrees =  100 \n",
        "best loss =  0.308943150515 \n",
        "last loss =  0.309157499542\n",
        "changed index 13\n",
        "learning_rate =  0.3\n",
        "sample_size 100\n",
        "\n",
        "iteration #"
       ]
      },
      {
       "output_type": "stream",
       "stream": "stdout",
       "text": [
        " 213  ntrees =  100 \n",
        "best loss =  0.308943150515 \n",
        "last loss =  0.308957036415\n",
        "changed index 59\n",
        "learning_rate =  0.3\n",
        "sample_size 100\n",
        "\n",
        "iteration #"
       ]
      },
      {
       "output_type": "stream",
       "stream": "stdout",
       "text": [
        " 214  ntrees =  100 \n",
        "best loss =  0.308943150515 \n",
        "last loss =  0.30909371975\n",
        "changed index 9\n",
        "learning_rate =  0.3\n",
        "sample_size 100\n",
        "\n",
        "iteration #"
       ]
      },
      {
       "output_type": "stream",
       "stream": "stdout",
       "text": [
        " 215  ntrees =  100 \n",
        "best loss =  0.308943150515 \n",
        "last loss =  0.308980910201\n",
        "changed index 43\n",
        "learning_rate =  0.3\n",
        "sample_size 100\n",
        "\n",
        "iteration #"
       ]
      },
      {
       "output_type": "stream",
       "stream": "stdout",
       "text": [
        " 216  ntrees =  100 \n",
        "best loss =  0.308939983525 \n",
        "last loss =  0.308939983525\n",
        "changed index 72\n",
        "learning_rate =  0.3\n",
        "sample_size 100\n",
        "\n",
        "iteration #"
       ]
      },
      {
       "output_type": "stream",
       "stream": "stdout",
       "text": [
        " 217  ntrees =  100 \n",
        "best loss =  0.308939983525 \n",
        "last loss =  0.309020661013\n",
        "changed index 28\n",
        "learning_rate =  0.3\n",
        "sample_size 100\n",
        "\n",
        "iteration #"
       ]
      },
      {
       "output_type": "stream",
       "stream": "stdout",
       "text": [
        " 218  ntrees =  100 \n",
        "best loss =  0.308939983525 \n",
        "last loss =  0.308999895596\n",
        "changed index 34\n",
        "learning_rate =  0.3\n",
        "sample_size 100\n",
        "\n",
        "iteration #"
       ]
      },
      {
       "output_type": "stream",
       "stream": "stdout",
       "text": [
        " 219  ntrees =  100 \n",
        "best loss =  0.308939983525 \n",
        "last loss =  0.308958367506\n",
        "changed index 47\n",
        "learning_rate =  0.3\n",
        "sample_size 100\n",
        "\n",
        "iteration #"
       ]
      },
      {
       "output_type": "stream",
       "stream": "stdout",
       "text": [
        " 220  ntrees =  100 \n",
        "best loss =  0.308939983525 \n",
        "last loss =  0.308943133027\n",
        "changed index 84\n",
        "learning_rate =  0.3\n",
        "sample_size 100\n",
        "\n",
        "iteration #"
       ]
      },
      {
       "output_type": "stream",
       "stream": "stdout",
       "text": [
        " 221  ntrees =  100 \n",
        "best loss =  0.308939983525 \n",
        "last loss =  0.308990747791\n",
        "changed index 40\n",
        "learning_rate =  0.3\n",
        "sample_size 100\n",
        "\n",
        "iteration #"
       ]
      },
      {
       "output_type": "stream",
       "stream": "stdout",
       "text": [
        " 222  ntrees =  100 \n",
        "best loss =  0.308939983525 \n",
        "last loss =  0.309065621201\n",
        "changed index 18\n",
        "learning_rate =  0.3\n",
        "sample_size 100\n",
        "\n",
        "iteration #"
       ]
      },
      {
       "output_type": "stream",
       "stream": "stdout",
       "text": [
        " 223  ntrees =  100 \n",
        "best loss =  0.308939446191 \n",
        "last loss =  0.308939446191\n",
        "changed index 57\n",
        "learning_rate =  0.3\n",
        "sample_size 100\n",
        "\n",
        "iteration #"
       ]
      },
      {
       "output_type": "stream",
       "stream": "stdout",
       "text": [
        " 224  ntrees =  100 \n",
        "best loss =  0.308939446191 \n",
        "last loss =  0.308949865178\n",
        "changed index 36\n",
        "learning_rate =  0.3\n",
        "sample_size 100\n",
        "\n",
        "iteration #"
       ]
      },
      {
       "output_type": "stream",
       "stream": "stdout",
       "text": [
        " 225  ntrees =  100 \n",
        "best loss =  0.308939446191 \n",
        "last loss =  0.309087861577\n",
        "changed index 23\n",
        "learning_rate =  0.3\n",
        "sample_size 100\n",
        "\n",
        "iteration #"
       ]
      },
      {
       "output_type": "stream",
       "stream": "stdout",
       "text": [
        " 226  ntrees =  100 \n",
        "best loss =  0.308939264481 \n",
        "last loss =  0.308939264481\n",
        "changed index 91\n",
        "learning_rate =  0.3\n",
        "sample_size 100\n",
        "\n",
        "iteration #"
       ]
      },
      {
       "output_type": "stream",
       "stream": "stdout",
       "text": [
        " 227  ntrees =  100 \n",
        "best loss =  0.308939264481 \n",
        "last loss =  0.308987275659\n",
        "changed index 41\n",
        "learning_rate =  0.3\n",
        "sample_size 100\n",
        "\n",
        "iteration #"
       ]
      },
      {
       "output_type": "stream",
       "stream": "stdout",
       "text": [
        " 228  ntrees =  100 \n",
        "best loss =  0.308939264481 \n",
        "last loss =  0.309069502229\n",
        "changed index 17\n",
        "learning_rate =  0.3\n",
        "sample_size 100\n",
        "\n",
        "iteration #"
       ]
      },
      {
       "output_type": "stream",
       "stream": "stdout",
       "text": [
        " 229  ntrees =  100 \n",
        "best loss =  0.308939264481 \n",
        "last loss =  0.308939298201\n",
        "changed index 94\n",
        "learning_rate =  0.3\n",
        "sample_size 100\n",
        "\n",
        "iteration #"
       ]
      },
      {
       "output_type": "stream",
       "stream": "stdout",
       "text": [
        " 230  ntrees =  100 \n",
        "best loss =  0.308939264481 \n",
        "last loss =  0.311493856689\n",
        "changed index 0\n",
        "learning_rate =  0.3\n",
        "sample_size 100\n",
        "\n",
        "iteration #"
       ]
      },
      {
       "output_type": "stream",
       "stream": "stdout",
       "text": [
        " 231  ntrees =  100 \n",
        "best loss =  0.30893749003 \n",
        "last loss =  0.30893749003\n",
        "changed index 70\n",
        "learning_rate =  0.3\n",
        "sample_size 100\n",
        "\n",
        "iteration #"
       ]
      },
      {
       "output_type": "stream",
       "stream": "stdout",
       "text": [
        " 232  ntrees =  100 \n",
        "best loss =  0.30893749003 \n",
        "last loss =  0.30904409165\n",
        "changed index 22\n",
        "learning_rate =  0.3\n",
        "sample_size 100\n",
        "\n",
        "iteration #"
       ]
      },
      {
       "output_type": "stream",
       "stream": "stdout",
       "text": [
        " 233  ntrees =  100 \n",
        "best loss =  0.30893749003 \n",
        "last loss =  0.308945757734\n",
        "changed index 64\n",
        "learning_rate =  0.3\n",
        "sample_size 100\n",
        "\n",
        "iteration #"
       ]
      },
      {
       "output_type": "stream",
       "stream": "stdout",
       "text": [
        " 234  ntrees =  100 \n",
        "best loss =  0.30893749003 \n",
        "last loss =  0.3089706715\n",
        "changed index 46\n",
        "learning_rate =  0.3\n",
        "sample_size 100\n",
        "\n",
        "iteration #"
       ]
      },
      {
       "output_type": "stream",
       "stream": "stdout",
       "text": [
        " 235  ntrees =  100 \n",
        "best loss =  0.30893749003 \n",
        "last loss =  0.309156725423\n",
        "changed index 16\n",
        "learning_rate =  0.3\n",
        "sample_size 100\n",
        "\n",
        "iteration #"
       ]
      },
      {
       "output_type": "stream",
       "stream": "stdout",
       "text": [
        " 236  ntrees =  100 \n",
        "best loss =  0.30893749003 \n",
        "last loss =  0.309070200701\n",
        "changed index 19\n",
        "learning_rate =  0.3\n",
        "sample_size 100\n",
        "\n",
        "iteration #"
       ]
      },
      {
       "output_type": "stream",
       "stream": "stdout",
       "text": [
        " 237  ntrees =  100 \n",
        "best loss =  0.308933877952 \n",
        "last loss =  0.308933877952\n",
        "changed index 77\n",
        "learning_rate =  0.3\n",
        "sample_size 100\n",
        "\n",
        "iteration #"
       ]
      },
      {
       "output_type": "stream",
       "stream": "stdout",
       "text": [
        " 238  ntrees =  100 \n",
        "best loss =  0.308932735026 \n",
        "last loss =  0.308932735026\n",
        "changed index 97\n",
        "learning_rate =  0.3\n",
        "sample_size 100\n",
        "\n",
        "iteration #"
       ]
      },
      {
       "output_type": "stream",
       "stream": "stdout",
       "text": [
        " 239  ntrees =  100 \n",
        "best loss =  0.308932735026 \n",
        "last loss =  0.309131044675\n",
        "changed index 20\n",
        "learning_rate =  0.3\n",
        "sample_size 100\n",
        "\n",
        "iteration #"
       ]
      },
      {
       "output_type": "stream",
       "stream": "stdout",
       "text": [
        " 240  ntrees =  100 \n",
        "best loss =  0.308932735026 \n",
        "last loss =  0.309058057241\n",
        "changed index 18\n",
        "learning_rate =  0.3\n",
        "sample_size 100\n",
        "\n",
        "iteration #"
       ]
      },
      {
       "output_type": "stream",
       "stream": "stdout",
       "text": [
        " 241  ntrees =  100 \n",
        "best loss =  0.308932735026 \n",
        "last loss =  0.308986513116\n",
        "changed index 36\n",
        "learning_rate =  0.3\n",
        "sample_size 100\n",
        "\n",
        "iteration #"
       ]
      },
      {
       "output_type": "stream",
       "stream": "stdout",
       "text": [
        " 242  ntrees =  100 \n",
        "best loss =  0.308932735026 \n",
        "last loss =  0.308932950824\n",
        "changed index 91\n",
        "learning_rate =  0.3\n",
        "sample_size 100\n",
        "\n",
        "iteration #"
       ]
      },
      {
       "output_type": "stream",
       "stream": "stdout",
       "text": [
        " 243  ntrees =  100 \n",
        "best loss =  0.308932735026 \n",
        "last loss =  0.30917953048\n",
        "changed index 14\n",
        "learning_rate =  0.3\n",
        "sample_size 100\n",
        "\n",
        "iteration #"
       ]
      },
      {
       "output_type": "stream",
       "stream": "stdout",
       "text": [
        " 244  ntrees =  100 \n",
        "best loss =  0.308932735026 \n",
        "last loss =  0.308955539505\n",
        "changed index 56\n",
        "learning_rate =  0.3\n",
        "sample_size 100\n",
        "\n",
        "iteration #"
       ]
      },
      {
       "output_type": "stream",
       "stream": "stdout",
       "text": [
        " 245  ntrees =  100 \n",
        "best loss =  0.30893218231 \n",
        "last loss =  0.30893218231\n",
        "changed index 68\n",
        "learning_rate =  0.3\n",
        "sample_size 100\n",
        "\n",
        "iteration #"
       ]
      },
      {
       "output_type": "stream",
       "stream": "stdout",
       "text": [
        " 246  ntrees =  100 \n",
        "best loss =  0.308932170132 \n",
        "last loss =  0.308932170132\n",
        "changed index 77\n",
        "learning_rate =  0.3\n",
        "sample_size 100\n",
        "\n",
        "iteration #"
       ]
      },
      {
       "output_type": "stream",
       "stream": "stdout",
       "text": [
        " 247  ntrees =  100 \n",
        "best loss =  0.308931389 \n",
        "last loss =  0.308931389\n",
        "changed index 96\n",
        "learning_rate =  0.3\n",
        "sample_size 100\n",
        "\n",
        "iteration #"
       ]
      },
      {
       "output_type": "stream",
       "stream": "stdout",
       "text": [
        " 248  ntrees =  100 \n",
        "best loss =  0.308931389 \n",
        "last loss =  0.309048454315\n",
        "changed index 26\n",
        "learning_rate =  0.3\n",
        "sample_size 100\n",
        "\n",
        "iteration #"
       ]
      },
      {
       "output_type": "stream",
       "stream": "stdout",
       "text": [
        " 249  ntrees =  100 \n",
        "best loss =  0.308931294201 \n",
        "last loss =  0.308931294201\n",
        "changed index 68\n",
        "learning_rate =  0.3\n",
        "sample_size 100\n",
        "\n",
        "iteration #"
       ]
      },
      {
       "output_type": "stream",
       "stream": "stdout",
       "text": [
        " 250  ntrees =  100 \n",
        "best loss =  0.308931294201 \n",
        "last loss =  0.309011983397\n",
        "changed index 28\n",
        "learning_rate =  0.3\n",
        "sample_size 100\n",
        "\n",
        "iteration #"
       ]
      },
      {
       "output_type": "stream",
       "stream": "stdout",
       "text": [
        " 251  ntrees =  100 \n",
        "best loss =  0.308931294201 \n",
        "last loss =  0.309148340508\n",
        "changed index 12\n",
        "learning_rate =  0.3\n",
        "sample_size 100\n",
        "\n",
        "iteration #"
       ]
      },
      {
       "output_type": "stream",
       "stream": "stdout",
       "text": [
        " 252  ntrees =  100 \n",
        "best loss =  0.308931294201 \n",
        "last loss =  0.308936199517\n",
        "changed index 65\n",
        "learning_rate =  0.3\n",
        "sample_size 100\n",
        "\n",
        "iteration #"
       ]
      },
      {
       "output_type": "stream",
       "stream": "stdout",
       "text": [
        " 253  ntrees =  100 \n",
        "best loss =  0.308931294201 \n",
        "last loss =  0.308969333916\n",
        "changed index 43\n",
        "learning_rate =  0.3\n",
        "sample_size 100\n",
        "\n",
        "iteration #"
       ]
      },
      {
       "output_type": "stream",
       "stream": "stdout",
       "text": [
        " 254  ntrees =  100 \n",
        "best loss =  0.308931284086 \n",
        "last loss =  0.308931284086\n",
        "changed index 87\n",
        "learning_rate =  0.3\n",
        "sample_size 100\n",
        "\n",
        "iteration #"
       ]
      },
      {
       "output_type": "stream",
       "stream": "stdout",
       "text": [
        " 255  ntrees =  100 \n",
        "best loss =  0.308903637002 \n",
        "last loss =  0.308903637002\n",
        "changed index 66\n",
        "learning_rate =  0.3\n",
        "sample_size 100\n",
        "\n",
        "iteration #"
       ]
      },
      {
       "output_type": "stream",
       "stream": "stdout",
       "text": [
        " 256  ntrees =  100 \n",
        "best loss =  0.308903637002 \n",
        "last loss =  0.309018791772\n",
        "changed index 26\n",
        "learning_rate =  0.3\n",
        "sample_size 100\n",
        "\n",
        "iteration #"
       ]
      },
      {
       "output_type": "stream",
       "stream": "stdout",
       "text": [
        " 257  ntrees =  100 \n",
        "best loss =  0.308903637002 \n",
        "last loss =  0.308926920043\n",
        "changed index 52\n",
        "learning_rate =  0.3\n",
        "sample_size 100\n",
        "\n",
        "iteration #"
       ]
      },
      {
       "output_type": "stream",
       "stream": "stdout",
       "text": [
        " 258  ntrees =  100 \n",
        "best loss =  0.308903637002 \n",
        "last loss =  0.308938077551\n",
        "changed index 46\n",
        "learning_rate =  0.3\n",
        "sample_size 100\n",
        "\n",
        "iteration #"
       ]
      },
      {
       "output_type": "stream",
       "stream": "stdout",
       "text": [
        " 259  ntrees =  100 \n",
        "best loss =  0.308903637002 \n",
        "last loss =  0.308905584894\n",
        "changed index 83\n",
        "learning_rate =  0.3\n",
        "sample_size 100\n",
        "\n",
        "iteration #"
       ]
      },
      {
       "output_type": "stream",
       "stream": "stdout",
       "text": [
        " 260  ntrees =  100 \n",
        "best loss =  0.30889974467 \n",
        "last loss =  0.30889974467\n",
        "changed index 76\n",
        "learning_rate =  0.3\n",
        "sample_size 100\n",
        "\n",
        "iteration #"
       ]
      },
      {
       "output_type": "stream",
       "stream": "stdout",
       "text": [
        " 261  ntrees =  100 \n",
        "best loss =  0.30889974467 \n",
        "last loss =  0.308916815748\n",
        "changed index 50\n",
        "learning_rate =  0.3\n",
        "sample_size 100\n",
        "\n",
        "iteration #"
       ]
      },
      {
       "output_type": "stream",
       "stream": "stdout",
       "text": [
        " 262  ntrees =  100 \n",
        "best loss =  0.308898681334 \n",
        "last loss =  0.308898681334\n",
        "changed index 74\n",
        "learning_rate =  0.3\n",
        "sample_size 100\n",
        "\n",
        "iteration #"
       ]
      },
      {
       "output_type": "stream",
       "stream": "stdout",
       "text": [
        " 263  ntrees =  100 \n",
        "best loss =  0.308898681334 \n",
        "last loss =  0.308918546284\n",
        "changed index 47\n",
        "learning_rate =  0.3\n",
        "sample_size 100\n",
        "\n",
        "iteration #"
       ]
      },
      {
       "output_type": "stream",
       "stream": "stdout",
       "text": [
        " 264  ntrees =  100 \n",
        "best loss =  0.308898681334 \n",
        "last loss =  0.308944595581\n",
        "changed index 39\n",
        "learning_rate =  0.3\n",
        "sample_size 100\n",
        "\n",
        "iteration #"
       ]
      },
      {
       "output_type": "stream",
       "stream": "stdout",
       "text": [
        " 265  ntrees =  100 \n",
        "best loss =  0.308898681334 \n",
        "last loss =  0.308899833298\n",
        "changed index 91\n",
        "learning_rate =  0.3\n",
        "sample_size 100\n",
        "\n",
        "iteration #"
       ]
      },
      {
       "output_type": "stream",
       "stream": "stdout",
       "text": [
        " 266  ntrees =  100 \n",
        "best loss =  0.30888445083 \n",
        "last loss =  0.30888445083\n",
        "changed index 82\n",
        "learning_rate =  0.3\n",
        "sample_size 100\n",
        "\n",
        "iteration #"
       ]
      },
      {
       "output_type": "stream",
       "stream": "stdout",
       "text": [
        " 267  ntrees =  100 \n",
        "best loss =  0.30888445083 \n",
        "last loss =  0.308890828093\n",
        "changed index 64\n",
        "learning_rate =  0.3\n",
        "sample_size 100\n",
        "\n",
        "iteration #"
       ]
      },
      {
       "output_type": "stream",
       "stream": "stdout",
       "text": [
        " 268  ntrees =  100 \n",
        "best loss =  0.308884072358 \n",
        "last loss =  0.308884072358\n",
        "changed index 92\n",
        "learning_rate =  0.3\n",
        "sample_size 100\n",
        "\n",
        "iteration #"
       ]
      },
      {
       "output_type": "stream",
       "stream": "stdout",
       "text": [
        " 269  ntrees =  100 \n",
        "best loss =  0.308884072358 \n",
        "last loss =  0.30903348942\n",
        "changed index 23\n",
        "learning_rate =  0.3\n",
        "sample_size 100\n",
        "\n",
        "iteration #"
       ]
      },
      {
       "output_type": "stream",
       "stream": "stdout",
       "text": [
        " 270  ntrees =  100 \n",
        "best loss =  0.308884068485 \n",
        "last loss =  0.308884068485\n",
        "changed index 71\n",
        "learning_rate =  0.3\n",
        "sample_size 100\n",
        "\n",
        "iteration #"
       ]
      },
      {
       "output_type": "stream",
       "stream": "stdout",
       "text": [
        " 271  ntrees =  100 \n",
        "best loss =  0.308884068485 \n",
        "last loss =  0.308999678266\n",
        "changed index 26\n",
        "learning_rate =  0.3\n",
        "sample_size 100\n",
        "\n",
        "iteration #"
       ]
      },
      {
       "output_type": "stream",
       "stream": "stdout",
       "text": [
        " 272  ntrees =  100 \n",
        "best loss =  0.308880994544 \n",
        "last loss =  0.308880994544\n",
        "changed index 68\n",
        "learning_rate =  0.3\n",
        "sample_size 100\n",
        "\n",
        "iteration #"
       ]
      },
      {
       "output_type": "stream",
       "stream": "stdout",
       "text": [
        " 273  ntrees =  100 \n",
        "best loss =  0.308880994544 \n",
        "last loss =  0.309047379396\n",
        "changed index 17\n",
        "learning_rate =  0.3\n",
        "sample_size 100\n",
        "\n",
        "iteration #"
       ]
      },
      {
       "output_type": "stream",
       "stream": "stdout",
       "text": [
        " 274  ntrees =  100 \n",
        "best loss =  0.308880994544 \n",
        "last loss =  0.309128086991\n",
        "changed index 15\n",
        "learning_rate =  0.3\n",
        "sample_size 100\n",
        "\n",
        "iteration #"
       ]
      },
      {
       "output_type": "stream",
       "stream": "stdout",
       "text": [
        " 275  ntrees =  100 \n",
        "best loss =  0.308880994544 \n",
        "last loss =  0.309772388054\n",
        "changed index 3\n",
        "learning_rate =  0.3\n",
        "sample_size 100\n",
        "\n",
        "iteration #"
       ]
      },
      {
       "output_type": "stream",
       "stream": "stdout",
       "text": [
        " 276  ntrees =  100 \n",
        "best loss =  0.308880994544 \n",
        "last loss =  0.308916488663\n",
        "changed index 44\n",
        "learning_rate =  0.3\n",
        "sample_size 100\n",
        "\n",
        "iteration #"
       ]
      },
      {
       "output_type": "stream",
       "stream": "stdout",
       "text": [
        " 277  ntrees =  100 \n",
        "best loss =  0.308880994544 \n",
        "last loss =  0.30889903943\n",
        "changed index 47\n",
        "learning_rate =  0.3\n",
        "sample_size 100\n",
        "\n",
        "iteration #"
       ]
      },
      {
       "output_type": "stream",
       "stream": "stdout",
       "text": [
        " 278  ntrees =  100 \n",
        "best loss =  0.308880765512 \n",
        "last loss =  0.308880765512\n",
        "changed index 82\n",
        "learning_rate =  0.3\n",
        "sample_size 100\n",
        "\n",
        "iteration #"
       ]
      },
      {
       "output_type": "stream",
       "stream": "stdout",
       "text": [
        " 279  ntrees =  100 \n",
        "best loss =  0.308880765512 \n",
        "last loss =  0.308886377611\n",
        "changed index 65\n",
        "learning_rate =  0.3\n",
        "sample_size 100\n",
        "\n",
        "iteration #"
       ]
      },
      {
       "output_type": "stream",
       "stream": "stdout",
       "text": [
        " 280  ntrees =  100 \n",
        "best loss =  0.308879235491 \n",
        "last loss =  0.308879235491\n",
        "changed index 67\n",
        "learning_rate =  0.3\n",
        "sample_size 100\n",
        "\n",
        "iteration #"
       ]
      },
      {
       "output_type": "stream",
       "stream": "stdout",
       "text": [
        " 281  ntrees =  100 \n",
        "best loss =  0.308879235491 \n",
        "last loss =  0.30889143785\n",
        "changed index 60\n",
        "learning_rate =  0.3\n",
        "sample_size 100\n",
        "\n",
        "iteration #"
       ]
      },
      {
       "output_type": "stream",
       "stream": "stdout",
       "text": [
        " 282  ntrees =  100 \n",
        "best loss =  0.308878819133 \n",
        "last loss =  0.308878819133\n",
        "changed index 75\n",
        "learning_rate =  0.3\n",
        "sample_size 100\n",
        "\n",
        "iteration #"
       ]
      },
      {
       "output_type": "stream",
       "stream": "stdout",
       "text": [
        " 283  ntrees =  100 \n",
        "best loss =  0.308878819133 \n",
        "last loss =  0.308879230133\n",
        "changed index 91\n",
        "learning_rate =  0.3\n",
        "sample_size 100\n",
        "\n",
        "iteration #"
       ]
      },
      {
       "output_type": "stream",
       "stream": "stdout",
       "text": [
        " 284  ntrees =  100 \n",
        "best loss =  0.308874287311 \n",
        "last loss =  0.308874287311\n",
        "changed index 80\n",
        "learning_rate =  0.3\n",
        "sample_size 100\n",
        "\n",
        "iteration #"
       ]
      },
      {
       "output_type": "stream",
       "stream": "stdout",
       "text": [
        " 285  ntrees =  100 \n",
        "best loss =  0.308874287311 \n",
        "last loss =  0.308920957615\n",
        "changed index 42\n",
        "learning_rate =  0.3\n",
        "sample_size 100\n",
        "\n",
        "iteration #"
       ]
      },
      {
       "output_type": "stream",
       "stream": "stdout",
       "text": [
        " 286  ntrees =  100 \n",
        "best loss =  0.308874287311 \n",
        "last loss =  0.308889334058\n",
        "changed index 59\n",
        "learning_rate =  0.3\n",
        "sample_size 100\n",
        "\n",
        "iteration #"
       ]
      },
      {
       "output_type": "stream",
       "stream": "stdout",
       "text": [
        " 287  ntrees =  100 \n",
        "best loss =  0.308874287311 \n",
        "last loss =  0.308891337627\n",
        "changed index 50\n",
        "learning_rate =  0.3\n",
        "sample_size 100\n",
        "\n",
        "iteration #"
       ]
      },
      {
       "output_type": "stream",
       "stream": "stdout",
       "text": [
        " 288  ntrees =  100 \n",
        "best loss =  0.308874287311 \n",
        "last loss =  0.308949206151\n",
        "changed index 35\n",
        "learning_rate =  0.3\n",
        "sample_size 100\n",
        "\n",
        "iteration #"
       ]
      },
      {
       "output_type": "stream",
       "stream": "stdout",
       "text": [
        " 289  ntrees =  100 \n",
        "best loss =  0.308872698091 \n",
        "last loss =  0.308872698091\n",
        "changed index 66\n",
        "learning_rate =  0.3\n",
        "sample_size 100\n",
        "\n",
        "iteration #"
       ]
      },
      {
       "output_type": "stream",
       "stream": "stdout",
       "text": [
        " 290  ntrees =  100 \n",
        "best loss =  0.308872698091 \n",
        "last loss =  0.308872698091\n",
        "changed index 66\n",
        "learning_rate =  0.3\n",
        "sample_size 100\n",
        "\n",
        "iteration #"
       ]
      },
      {
       "output_type": "stream",
       "stream": "stdout",
       "text": [
        " 291  ntrees =  100 \n",
        "best loss =  0.308872698091 \n",
        "last loss =  0.308875579538\n",
        "changed index 83\n",
        "learning_rate =  0.3\n",
        "sample_size 100\n",
        "\n",
        "iteration #"
       ]
      },
      {
       "output_type": "stream",
       "stream": "stdout",
       "text": [
        " 292  ntrees =  100 \n",
        "best loss =  0.308872698091 \n",
        "last loss =  0.308982998332\n",
        "changed index 25\n",
        "learning_rate =  0.3\n",
        "sample_size 100\n",
        "\n",
        "iteration #"
       ]
      },
      {
       "output_type": "stream",
       "stream": "stdout",
       "text": [
        " 293  ntrees =  100 \n",
        "best loss =  0.308872698091 \n",
        "last loss =  0.308873631719\n",
        "changed index 84\n",
        "learning_rate =  0.3\n",
        "sample_size 100\n",
        "\n",
        "iteration #"
       ]
      },
      {
       "output_type": "stream",
       "stream": "stdout",
       "text": [
        " 294  ntrees =  100 \n",
        "best loss =  0.308872698091 \n",
        "last loss =  0.308874476525\n",
        "changed index 85\n",
        "learning_rate =  0.3\n",
        "sample_size 100\n",
        "\n",
        "iteration #"
       ]
      },
      {
       "output_type": "stream",
       "stream": "stdout",
       "text": [
        " 295  ntrees =  100 \n",
        "best loss =  0.308871249995 \n",
        "last loss =  0.308871249995\n",
        "changed index 87\n",
        "learning_rate =  0.3\n",
        "sample_size 100\n",
        "\n",
        "iteration #"
       ]
      },
      {
       "output_type": "stream",
       "stream": "stdout",
       "text": [
        " 296  ntrees =  100 \n",
        "best loss =  0.308871249995 \n",
        "last loss =  0.308951640356\n",
        "changed index 32\n",
        "learning_rate =  0.3\n",
        "sample_size 100\n",
        "\n",
        "iteration #"
       ]
      },
      {
       "output_type": "stream",
       "stream": "stdout",
       "text": [
        " 297  ntrees =  100 \n",
        "best loss =  0.308871249995 \n",
        "last loss =  0.308871298624\n",
        "changed index 70\n",
        "learning_rate =  0.3\n",
        "sample_size 100\n",
        "\n",
        "iteration #"
       ]
      },
      {
       "output_type": "stream",
       "stream": "stdout",
       "text": [
        " 298  ntrees =  100 \n",
        "best loss =  0.308871249995 \n",
        "last loss =  0.309215176483\n",
        "changed index 11\n",
        "learning_rate =  0.3\n",
        "sample_size 100\n",
        "\n",
        "iteration #"
       ]
      },
      {
       "output_type": "stream",
       "stream": "stdout",
       "text": [
        " 299  ntrees =  100 \n",
        "best loss =  0.308871249995 \n",
        "last loss =  0.308987021365\n",
        "changed index 22\n",
        "learning_rate =  0.3\n",
        "sample_size 100\n",
        "\n",
        "iteration #"
       ]
      },
      {
       "output_type": "stream",
       "stream": "stdout",
       "text": [
        " 300  ntrees =  100 \n",
        "best loss =  0.308871249995 \n",
        "last loss =  0.308873159364\n",
        "changed index 85\n",
        "learning_rate =  0.3\n",
        "sample_size 100\n",
        "\n",
        "iteration #"
       ]
      },
      {
       "output_type": "stream",
       "stream": "stdout",
       "text": [
        " 301  ntrees =  100 \n",
        "best loss =  0.30887118955 \n",
        "last loss =  0.30887118955\n",
        "changed index 79\n",
        "learning_rate =  0.3\n",
        "sample_size 100\n",
        "\n",
        "iteration #"
       ]
      },
      {
       "output_type": "stream",
       "stream": "stdout",
       "text": [
        " 302  ntrees =  100 \n",
        "best loss =  0.30887118955 \n",
        "last loss =  0.308959067932\n",
        "changed index 33\n",
        "learning_rate =  0.3\n",
        "sample_size 100\n",
        "\n",
        "iteration #"
       ]
      },
      {
       "output_type": "stream",
       "stream": "stdout",
       "text": [
        " 303  ntrees =  100 \n",
        "best loss =  0.30887118955 \n",
        "last loss =  0.30888804251\n",
        "changed index 55\n",
        "learning_rate =  0.3\n",
        "sample_size 100\n",
        "\n",
        "iteration #"
       ]
      },
      {
       "output_type": "stream",
       "stream": "stdout",
       "text": [
        " 304  ntrees =  100 \n",
        "best loss =  0.30887118955 \n",
        "last loss =  0.308873611435\n",
        "changed index 89\n",
        "learning_rate =  0.3\n",
        "sample_size 100\n",
        "\n",
        "iteration #"
       ]
      },
      {
       "output_type": "stream",
       "stream": "stdout",
       "text": [
        " 305  ntrees =  100 \n",
        "best loss =  0.30887118955 \n",
        "last loss =  0.308946150786\n",
        "changed index 35\n",
        "learning_rate =  0.3\n",
        "sample_size 100\n",
        "\n",
        "iteration #"
       ]
      },
      {
       "output_type": "stream",
       "stream": "stdout",
       "text": [
        " 306  ntrees =  100 \n",
        "best loss =  0.30887118955 \n",
        "last loss =  0.30902007073\n",
        "changed index 23\n",
        "learning_rate =  0.3\n",
        "sample_size 100\n",
        "\n",
        "iteration #"
       ]
      },
      {
       "output_type": "stream",
       "stream": "stdout",
       "text": [
        " 307  ntrees =  100 \n",
        "best loss =  0.30887118955 \n",
        "last loss =  0.308876570924\n",
        "changed index 88\n",
        "learning_rate =  0.3\n",
        "sample_size 100\n",
        "\n",
        "iteration #"
       ]
      },
      {
       "output_type": "stream",
       "stream": "stdout",
       "text": [
        " 308  ntrees =  100 \n",
        "best loss =  0.30887118955 \n",
        "last loss =  0.308872219822\n",
        "changed index 84\n",
        "learning_rate =  0.3\n",
        "sample_size 100\n",
        "\n",
        "iteration #"
       ]
      },
      {
       "output_type": "stream",
       "stream": "stdout",
       "text": [
        " 309  ntrees =  100 \n",
        "best loss =  0.30887118955 \n",
        "last loss =  0.308871233985\n",
        "changed index 75\n",
        "learning_rate =  0.3\n",
        "sample_size 100\n",
        "\n",
        "iteration #"
       ]
      },
      {
       "output_type": "stream",
       "stream": "stdout",
       "text": [
        " 310  ntrees =  100 \n",
        "best loss =  0.30887118955 \n",
        "last loss =  0.308878008293\n",
        "changed index 64\n",
        "learning_rate =  0.3\n",
        "sample_size 100\n",
        "\n",
        "iteration #"
       ]
      },
      {
       "output_type": "stream",
       "stream": "stdout",
       "text": [
        " 311  ntrees =  100 \n",
        "best loss =  0.30887118955 \n",
        "last loss =  0.309524272067\n",
        "changed index 4\n",
        "learning_rate =  0.3\n",
        "sample_size 100\n",
        "\n",
        "iteration #"
       ]
      },
      {
       "output_type": "stream",
       "stream": "stdout",
       "text": [
        " 312  ntrees =  100 \n",
        "best loss =  0.30887118955 \n",
        "last loss =  0.30887118955\n",
        "changed index 79\n",
        "learning_rate =  0.3\n",
        "sample_size 100\n",
        "\n",
        "iteration #"
       ]
      },
      {
       "output_type": "stream",
       "stream": "stdout",
       "text": [
        " 313  ntrees =  100 \n",
        "best loss =  0.30887118955 \n",
        "last loss =  0.30899776938\n",
        "changed index 22\n",
        "learning_rate =  0.3\n",
        "sample_size 100\n",
        "\n",
        "iteration #"
       ]
      },
      {
       "output_type": "stream",
       "stream": "stdout",
       "text": [
        " 314  ntrees =  100 \n",
        "best loss =  0.308870969231 \n",
        "last loss =  0.308870969231\n",
        "changed index 92\n",
        "learning_rate =  0.3\n",
        "sample_size 100\n",
        "\n",
        "iteration #"
       ]
      },
      {
       "output_type": "stream",
       "stream": "stdout",
       "text": [
        " 315  ntrees =  100 \n",
        "best loss =  0.308870969231 \n",
        "last loss =  0.308887880662\n",
        "changed index 55\n",
        "learning_rate =  0.3\n",
        "sample_size 100\n",
        "\n",
        "iteration #"
       ]
      },
      {
       "output_type": "stream",
       "stream": "stdout",
       "text": [
        " 316  ntrees =  100 \n",
        "best loss =  0.308870969231 \n",
        "last loss =  0.308871275597\n",
        "changed index 76\n",
        "learning_rate =  0.3\n",
        "sample_size 100\n",
        "\n",
        "iteration #"
       ]
      },
      {
       "output_type": "stream",
       "stream": "stdout",
       "text": [
        " 317  ntrees =  100 \n",
        "best loss =  0.308870969231 \n",
        "last loss =  0.309756422983\n",
        "changed index 3\n",
        "learning_rate =  0.3\n",
        "sample_size 100\n",
        "\n",
        "iteration #"
       ]
      },
      {
       "output_type": "stream",
       "stream": "stdout",
       "text": [
        " 318  ntrees =  100 \n",
        "best loss =  0.308870969231 \n",
        "last loss =  0.311434191736\n",
        "changed index 0\n",
        "learning_rate =  0.3\n",
        "sample_size 100\n",
        "\n",
        "iteration #"
       ]
      },
      {
       "output_type": "stream",
       "stream": "stdout",
       "text": [
        " 319  ntrees =  100 \n",
        "best loss =  0.308870958593 \n",
        "last loss =  0.308870958593\n",
        "changed index 70\n",
        "learning_rate =  0.3\n",
        "sample_size 100\n",
        "\n",
        "iteration #"
       ]
      },
      {
       "output_type": "stream",
       "stream": "stdout",
       "text": [
        " 320  ntrees =  100 \n",
        "best loss =  0.308870958593 \n",
        "last loss =  0.308945875753\n",
        "changed index 35\n",
        "learning_rate =  0.3\n",
        "sample_size 100\n",
        "\n",
        "iteration #"
       ]
      },
      {
       "output_type": "stream",
       "stream": "stdout",
       "text": [
        " 321  ntrees =  100 \n",
        "best loss =  0.308869278088 \n",
        "last loss =  0.308869278088\n",
        "changed index 94\n",
        "learning_rate =  0.3\n",
        "sample_size 100\n",
        "\n",
        "iteration #"
       ]
      },
      {
       "output_type": "stream",
       "stream": "stdout",
       "text": [
        " 322  ntrees =  100 \n",
        "best loss =  0.308853952666 \n",
        "last loss =  0.308853952666\n",
        "changed index 37\n",
        "learning_rate =  0.3\n",
        "sample_size 100\n",
        "\n",
        "iteration #"
       ]
      },
      {
       "output_type": "stream",
       "stream": "stdout",
       "text": [
        " 323  ntrees =  100 \n",
        "best loss =  0.308853952666 \n",
        "last loss =  0.309225593644\n",
        "changed index 8\n",
        "learning_rate =  0.3\n",
        "sample_size 100\n",
        "\n",
        "iteration #"
       ]
      },
      {
       "output_type": "stream",
       "stream": "stdout",
       "text": [
        " 324  ntrees =  100 \n",
        "best loss =  0.308853952666 \n",
        "last loss =  0.309225593644\n",
        "changed index 8\n",
        "learning_rate =  0.3\n",
        "sample_size 100\n",
        "\n",
        "iteration #"
       ]
      },
      {
       "output_type": "stream",
       "stream": "stdout",
       "text": [
        " 325  ntrees =  100 \n",
        "best loss =  0.308850978656 \n",
        "last loss =  0.308850978656\n",
        "changed index 57\n",
        "learning_rate =  0.3\n",
        "sample_size 100\n",
        "\n",
        "iteration #"
       ]
      },
      {
       "output_type": "stream",
       "stream": "stdout",
       "text": [
        " 326  ntrees =  100 \n",
        "best loss =  0.308850978656 \n",
        "last loss =  0.30889296398\n",
        "changed index 38\n",
        "learning_rate =  0.3\n",
        "sample_size 100\n",
        "\n",
        "iteration #"
       ]
      },
      {
       "output_type": "stream",
       "stream": "stdout",
       "text": [
        " 327  ntrees =  100 \n",
        "best loss =  0.308847858996 \n",
        "last loss =  0.308847858996\n",
        "changed index 81\n",
        "learning_rate =  0.3\n",
        "sample_size 100\n",
        "\n",
        "iteration #"
       ]
      },
      {
       "output_type": "stream",
       "stream": "stdout",
       "text": [
        " 328  ntrees =  100 \n",
        "best loss =  0.308845016293 \n",
        "last loss =  0.308845016293\n",
        "changed index 97\n",
        "learning_rate =  0.3\n",
        "sample_size 100\n",
        "\n",
        "iteration #"
       ]
      },
      {
       "output_type": "stream",
       "stream": "stdout",
       "text": [
        " 329  ntrees =  100 \n",
        "best loss =  0.308845016293 \n",
        "last loss =  0.308858246416\n",
        "changed index 60\n",
        "learning_rate =  0.3\n",
        "sample_size 100\n",
        "\n",
        "iteration #"
       ]
      },
      {
       "output_type": "stream",
       "stream": "stdout",
       "text": [
        " 330  ntrees =  100 \n",
        "best loss =  0.308845016293 \n",
        "last loss =  0.308863268558\n",
        "changed index 49\n",
        "learning_rate =  0.3\n",
        "sample_size 100\n",
        "\n",
        "iteration #"
       ]
      },
      {
       "output_type": "stream",
       "stream": "stdout",
       "text": [
        " 331  ntrees =  100 \n",
        "best loss =  0.308845016293 \n",
        "last loss =  0.308920121098\n",
        "changed index 35\n",
        "learning_rate =  0.3\n",
        "sample_size 100\n",
        "\n",
        "iteration #"
       ]
      },
      {
       "output_type": "stream",
       "stream": "stdout",
       "text": [
        " 332  ntrees =  100 \n",
        "best loss =  0.30884454792 \n",
        "last loss =  0.30884454792\n",
        "changed index 98\n",
        "learning_rate =  0.3\n",
        "sample_size 100\n",
        "\n",
        "iteration #"
       ]
      },
      {
       "output_type": "stream",
       "stream": "stdout",
       "text": [
        " 333  ntrees =  100 \n",
        "best loss =  0.308836794758 \n",
        "last loss =  0.308836794758\n",
        "changed index 63\n",
        "learning_rate =  0.3\n",
        "sample_size 100\n",
        "\n",
        "iteration #"
       ]
      },
      {
       "output_type": "stream",
       "stream": "stdout",
       "text": [
        " 334  ntrees =  100 \n",
        "best loss =  0.308836794758 \n",
        "last loss =  0.308853406514\n",
        "changed index 69\n",
        "learning_rate =  0.3\n",
        "sample_size 100\n",
        "\n",
        "iteration #"
       ]
      },
      {
       "output_type": "stream",
       "stream": "stdout",
       "text": [
        " 335  ntrees =  100 \n",
        "best loss =  0.308836794758 \n",
        "last loss =  0.308952448193\n",
        "changed index 26\n",
        "learning_rate =  0.3\n",
        "sample_size 100\n",
        "\n",
        "iteration #"
       ]
      },
      {
       "output_type": "stream",
       "stream": "stdout",
       "text": [
        " 336  ntrees =  100 \n",
        "best loss =  0.308836794758 \n",
        "last loss =  0.308983428393\n",
        "changed index 24\n",
        "learning_rate =  0.3\n",
        "sample_size 100\n",
        "\n",
        "iteration #"
       ]
      },
      {
       "output_type": "stream",
       "stream": "stdout",
       "text": [
        " 337  ntrees =  100 \n",
        "best loss =  0.308836794758 \n",
        "last loss =  0.308909348348\n",
        "changed index 29\n",
        "learning_rate =  0.3\n",
        "sample_size 100\n",
        "\n",
        "iteration #"
       ]
      },
      {
       "output_type": "stream",
       "stream": "stdout",
       "text": [
        " 338  ntrees =  100 \n",
        "best loss =  0.308835900398 \n",
        "last loss =  0.308835900398\n",
        "changed index 71\n",
        "learning_rate =  0.3\n",
        "sample_size 100\n",
        "\n",
        "iteration #"
       ]
      },
      {
       "output_type": "stream",
       "stream": "stdout",
       "text": [
        " 339  ntrees =  100 \n",
        "best loss =  0.308835900398 \n",
        "last loss =  0.309068136238\n",
        "changed index 13\n",
        "learning_rate =  0.3\n",
        "sample_size 100\n",
        "\n",
        "iteration #"
       ]
      },
      {
       "output_type": "stream",
       "stream": "stdout",
       "text": [
        " 340  ntrees =  100 \n",
        "best loss =  0.308835900398 \n",
        "last loss =  0.308847288568\n",
        "changed index 62\n",
        "learning_rate =  0.3\n",
        "sample_size 100\n",
        "\n",
        "iteration #"
       ]
      },
      {
       "output_type": "stream",
       "stream": "stdout",
       "text": [
        " 341  ntrees =  100 \n",
        "best loss =  0.308828452828 \n",
        "last loss =  0.308828452828\n",
        "changed index 90\n",
        "learning_rate =  0.3\n",
        "sample_size 100\n",
        "\n",
        "iteration #"
       ]
      },
      {
       "output_type": "stream",
       "stream": "stdout",
       "text": [
        " 342  ntrees =  100 \n",
        "best loss =  0.308822730747 \n",
        "last loss =  0.308822730747\n",
        "changed index 51\n",
        "learning_rate =  0.3\n",
        "sample_size 100\n",
        "\n",
        "iteration #"
       ]
      },
      {
       "output_type": "stream",
       "stream": "stdout",
       "text": [
        " 343  ntrees =  100 \n",
        "best loss =  0.308818295545 \n",
        "last loss =  0.308818295545\n",
        "changed index 99\n",
        "learning_rate =  0.3\n",
        "sample_size 100\n",
        "\n",
        "iteration #"
       ]
      },
      {
       "output_type": "stream",
       "stream": "stdout",
       "text": [
        " 344  ntrees =  100 \n",
        "best loss =  0.3088155529 \n",
        "last loss =  0.3088155529\n",
        "changed index 75\n",
        "learning_rate =  0.3\n",
        "sample_size 100\n",
        "\n",
        "iteration #"
       ]
      },
      {
       "output_type": "stream",
       "stream": "stdout",
       "text": [
        " 345  ntrees =  100 \n",
        "best loss =  0.3088155529 \n",
        "last loss =  0.308869115301\n",
        "changed index 40\n",
        "learning_rate =  0.3\n",
        "sample_size 100\n",
        "\n",
        "iteration #"
       ]
      },
      {
       "output_type": "stream",
       "stream": "stdout",
       "text": [
        " 346  ntrees =  100 \n",
        "best loss =  0.308812984922 \n",
        "last loss =  0.308812984922\n",
        "changed index 68\n",
        "learning_rate =  0.3\n",
        "sample_size 100\n",
        "\n",
        "iteration #"
       ]
      },
      {
       "output_type": "stream",
       "stream": "stdout",
       "text": [
        " 347  ntrees =  100 \n",
        "best loss =  0.308806972045 \n",
        "last loss =  0.308806972045\n",
        "changed index 74\n",
        "learning_rate =  0.3\n",
        "sample_size 100\n",
        "\n",
        "iteration #"
       ]
      },
      {
       "output_type": "stream",
       "stream": "stdout",
       "text": [
        " 348  ntrees =  100 \n",
        "best loss =  0.308773077804 \n",
        "last loss =  0.308773077804\n",
        "changed index 69\n",
        "learning_rate =  0.3\n",
        "sample_size 100\n",
        "\n",
        "iteration #"
       ]
      },
      {
       "output_type": "stream",
       "stream": "stdout",
       "text": [
        " 349  ntrees =  100 \n",
        "best loss =  0.308773077804 \n",
        "last loss =  0.309009520891\n",
        "changed index 15\n",
        "learning_rate =  0.3\n",
        "sample_size 100\n",
        "\n",
        "iteration #"
       ]
      },
      {
       "output_type": "stream",
       "stream": "stdout",
       "text": [
        " 350  ntrees =  100 \n",
        "best loss =  0.308773077804 \n",
        "last loss =  0.308857146686\n",
        "changed index 30\n",
        "learning_rate =  0.3\n",
        "sample_size 100\n",
        "\n",
        "iteration #"
       ]
      },
      {
       "output_type": "stream",
       "stream": "stdout",
       "text": [
        " 351  ntrees =  100 \n",
        "best loss =  0.308773077804 \n",
        "last loss =  0.309195518084\n",
        "changed index 5\n",
        "learning_rate =  0.3\n",
        "sample_size 100\n",
        "\n",
        "iteration #"
       ]
      },
      {
       "output_type": "stream",
       "stream": "stdout",
       "text": [
        " 352  ntrees =  100 \n",
        "best loss =  0.308770455299 \n",
        "last loss =  0.308770455299\n",
        "changed index 89\n",
        "learning_rate =  0.3\n",
        "sample_size 100\n",
        "\n",
        "iteration #"
       ]
      },
      {
       "output_type": "stream",
       "stream": "stdout",
       "text": [
        " 353  ntrees =  100 \n",
        "best loss =  0.308769510661 \n",
        "last loss =  0.308769510661\n",
        "changed index 92\n",
        "learning_rate =  0.3\n",
        "sample_size 100\n",
        "\n",
        "iteration #"
       ]
      },
      {
       "output_type": "stream",
       "stream": "stdout",
       "text": [
        " 354  ntrees =  100 \n",
        "best loss =  0.308769510661 \n",
        "last loss =  0.309193929509\n",
        "changed index 5\n",
        "learning_rate =  0.3\n",
        "sample_size 100\n",
        "\n",
        "iteration #"
       ]
      },
      {
       "output_type": "stream",
       "stream": "stdout",
       "text": [
        " 355  ntrees =  100 \n",
        "best loss =  0.308769510661 \n",
        "last loss =  0.30906388014\n",
        "changed index 7\n",
        "learning_rate =  0.3\n",
        "sample_size 100\n",
        "\n",
        "iteration #"
       ]
      },
      {
       "output_type": "stream",
       "stream": "stdout",
       "text": [
        " 356  ntrees =  100 \n",
        "best loss =  0.308769510661 \n",
        "last loss =  0.308968217079\n",
        "changed index 20\n",
        "learning_rate =  0.3\n",
        "sample_size 100\n",
        "\n",
        "iteration #"
       ]
      },
      {
       "output_type": "stream",
       "stream": "stdout",
       "text": [
        " 357  ntrees =  100 \n",
        "best loss =  0.308769510661 \n",
        "last loss =  0.30882447889\n",
        "changed index 40\n",
        "learning_rate =  0.3\n",
        "sample_size 100\n",
        "\n",
        "iteration #"
       ]
      },
      {
       "output_type": "stream",
       "stream": "stdout",
       "text": [
        " 358  ntrees =  100 \n",
        "best loss =  0.308769510661 \n",
        "last loss =  0.308769601311\n",
        "changed index 96\n",
        "learning_rate =  0.3\n",
        "sample_size 100\n",
        "\n",
        "iteration #"
       ]
      },
      {
       "output_type": "stream",
       "stream": "stdout",
       "text": [
        " 359  ntrees =  100 \n",
        "best loss =  0.308769510661 \n",
        "last loss =  0.309385654657\n",
        "changed index 4\n",
        "learning_rate =  0.3\n",
        "sample_size 100\n",
        "\n",
        "iteration #"
       ]
      },
      {
       "output_type": "stream",
       "stream": "stdout",
       "text": [
        " 360  ntrees =  100 \n",
        "best loss =  0.308769510661 \n",
        "last loss =  0.308850210311\n",
        "changed index 32\n",
        "learning_rate =  0.3\n",
        "sample_size 100\n",
        "\n",
        "iteration #"
       ]
      },
      {
       "output_type": "stream",
       "stream": "stdout",
       "text": [
        " 361  ntrees =  100 \n",
        "best loss =  0.308769510661 \n",
        "last loss =  0.308802449849\n",
        "changed index 43\n",
        "learning_rate =  0.3\n",
        "sample_size 100\n",
        "\n",
        "iteration #"
       ]
      },
      {
       "output_type": "stream",
       "stream": "stdout",
       "text": [
        " 362  ntrees =  100 \n",
        "best loss =  0.308769280966 \n",
        "last loss =  0.308769280966\n",
        "changed index 99\n",
        "learning_rate =  0.3\n",
        "sample_size 100\n",
        "\n",
        "iteration #"
       ]
      },
      {
       "output_type": "stream",
       "stream": "stdout",
       "text": [
        " 363  ntrees =  100 \n",
        "best loss =  0.308769280966 \n",
        "last loss =  0.308781130119\n",
        "changed index 59\n",
        "learning_rate =  0.3\n",
        "sample_size 100\n",
        "\n",
        "iteration #"
       ]
      },
      {
       "output_type": "stream",
       "stream": "stdout",
       "text": [
        " 364  ntrees =  100 \n",
        "best loss =  0.308769280966 \n",
        "last loss =  0.308900019424\n",
        "changed index 19\n",
        "learning_rate =  0.3\n",
        "sample_size 100\n",
        "\n",
        "iteration #"
       ]
      },
      {
       "output_type": "stream",
       "stream": "stdout",
       "text": [
        " 365  ntrees =  100 \n",
        "best loss =  0.308769280966 \n",
        "last loss =  0.308893504839\n",
        "changed index 22\n",
        "learning_rate =  0.3\n",
        "sample_size 100\n",
        "\n",
        "iteration #"
       ]
      },
      {
       "output_type": "stream",
       "stream": "stdout",
       "text": [
        " 366  ntrees =  100 \n",
        "best loss =  0.308769280966 \n",
        "last loss =  0.308824250878\n",
        "changed index 40\n",
        "learning_rate =  0.3\n",
        "sample_size 100\n",
        "\n",
        "iteration #"
       ]
      },
      {
       "output_type": "stream",
       "stream": "stdout",
       "text": [
        " 367  ntrees =  100 \n",
        "best loss =  0.308767661402 \n",
        "last loss =  0.308767661402\n",
        "changed index 93\n",
        "learning_rate =  0.3\n",
        "sample_size 100\n",
        "\n",
        "iteration #"
       ]
      },
      {
       "output_type": "stream",
       "stream": "stdout",
       "text": [
        " 368  ntrees =  100 \n",
        "best loss =  0.308765520341 \n",
        "last loss =  0.308765520341\n",
        "changed index 53\n",
        "learning_rate =  0.3\n",
        "sample_size 100\n",
        "\n",
        "iteration #"
       ]
      },
      {
       "output_type": "stream",
       "stream": "stdout",
       "text": [
        " 369  ntrees =  100 \n",
        "best loss =  0.308765520341 \n",
        "last loss =  0.308781523146\n",
        "changed index 47\n",
        "learning_rate =  0.3\n",
        "sample_size 100\n",
        "\n",
        "iteration #"
       ]
      },
      {
       "output_type": "stream",
       "stream": "stdout",
       "text": [
        " 370  ntrees =  100 \n",
        "best loss =  0.308765520341 \n",
        "last loss =  0.308993332661\n",
        "changed index 13\n",
        "learning_rate =  0.3\n",
        "sample_size 100\n",
        "\n",
        "iteration #"
       ]
      },
      {
       "output_type": "stream",
       "stream": "stdout",
       "text": [
        " 371  ntrees =  100 \n",
        "best loss =  0.308765520341 \n",
        "last loss =  0.308766811644\n",
        "changed index 95\n",
        "learning_rate =  0.3\n",
        "sample_size 100\n",
        "\n",
        "iteration #"
       ]
      },
      {
       "output_type": "stream",
       "stream": "stdout",
       "text": [
        " 372  ntrees =  100 \n",
        "best loss =  0.308764567193 \n",
        "last loss =  0.308764567193\n",
        "changed index 70\n",
        "learning_rate =  0.3\n",
        "sample_size 100\n",
        "\n",
        "iteration #"
       ]
      },
      {
       "output_type": "stream",
       "stream": "stdout",
       "text": [
        " 373  ntrees =  100 \n",
        "best loss =  0.308764567193 \n",
        "last loss =  0.308998816448\n",
        "changed index 14\n",
        "learning_rate =  0.3\n",
        "sample_size 100\n",
        "\n",
        "iteration #"
       ]
      },
      {
       "output_type": "stream",
       "stream": "stdout",
       "text": [
        " 374  ntrees =  100 \n",
        "best loss =  0.308763383949 \n",
        "last loss =  0.308763383949\n",
        "changed index 91\n",
        "learning_rate =  0.3\n",
        "sample_size 100\n",
        "\n",
        "iteration #"
       ]
      },
      {
       "output_type": "stream",
       "stream": "stdout",
       "text": [
        " 375  ntrees =  100 \n",
        "best loss =  0.308763055696 \n",
        "last loss =  0.308763055696\n",
        "changed index 89\n",
        "learning_rate =  0.3\n",
        "sample_size 100\n",
        "\n",
        "iteration #"
       ]
      },
      {
       "output_type": "stream",
       "stream": "stdout",
       "text": [
        " 376  ntrees =  100 \n",
        "best loss =  0.308763055696 \n",
        "last loss =  0.308857063343\n",
        "changed index 29\n",
        "learning_rate =  0.3\n",
        "sample_size 100\n",
        "\n",
        "iteration #"
       ]
      },
      {
       "output_type": "stream",
       "stream": "stdout",
       "text": [
        " 377  ntrees =  100 \n",
        "best loss =  0.308763055696 \n",
        "last loss =  0.308779199085\n",
        "changed index 47\n",
        "learning_rate =  0.3\n",
        "sample_size 100\n",
        "\n",
        "iteration #"
       ]
      },
      {
       "output_type": "stream",
       "stream": "stdout",
       "text": [
        " 378  ntrees =  100 \n",
        "best loss =  0.308761906747 \n",
        "last loss =  0.308761906747\n",
        "changed index 73\n",
        "learning_rate =  0.3\n",
        "sample_size 100\n",
        "\n",
        "iteration #"
       ]
      },
      {
       "output_type": "stream",
       "stream": "stdout",
       "text": [
        " 379  ntrees =  100 \n",
        "best loss =  0.308761906747 \n",
        "last loss =  0.308960788439\n",
        "changed index 20\n",
        "learning_rate =  0.3\n",
        "sample_size 100\n",
        "\n",
        "iteration #"
       ]
      },
      {
       "output_type": "stream",
       "stream": "stdout",
       "text": [
        " 380  ntrees =  100 \n",
        "best loss =  0.308761906747 \n",
        "last loss =  0.308762959647\n",
        "changed index 90\n",
        "learning_rate =  0.3\n",
        "sample_size 100\n",
        "\n",
        "iteration #"
       ]
      },
      {
       "output_type": "stream",
       "stream": "stdout",
       "text": [
        " 381  ntrees =  100 \n",
        "best loss =  0.308761906747 \n",
        "last loss =  0.309001043485\n",
        "changed index 15\n",
        "learning_rate =  0.3\n",
        "sample_size 100\n",
        "\n",
        "iteration #"
       ]
      },
      {
       "output_type": "stream",
       "stream": "stdout",
       "text": [
        " 382  ntrees =  100 \n",
        "best loss =  0.308761906747 \n",
        "last loss =  0.30876267452\n",
        "changed index 89\n",
        "learning_rate =  0.3\n",
        "sample_size 100\n",
        "\n",
        "iteration #"
       ]
      },
      {
       "output_type": "stream",
       "stream": "stdout",
       "text": [
        " 383  ntrees =  100 \n",
        "best loss =  0.308761906747 \n",
        "last loss =  0.308830773507\n",
        "changed index 35\n",
        "learning_rate =  0.3\n",
        "sample_size 100\n",
        "\n",
        "iteration #"
       ]
      },
      {
       "output_type": "stream",
       "stream": "stdout",
       "text": [
        " 384  ntrees =  100 \n",
        "best loss =  0.308761906747 \n",
        "last loss =  0.308849854711\n",
        "changed index 33\n",
        "learning_rate =  0.3\n",
        "sample_size 100\n",
        "\n",
        "iteration #"
       ]
      },
      {
       "output_type": "stream",
       "stream": "stdout",
       "text": [
        " 385  ntrees =  100 \n",
        "best loss =  0.308761906747 \n",
        "last loss =  0.31027832516\n",
        "changed index 1\n",
        "learning_rate =  0.3\n",
        "sample_size 100\n",
        "\n",
        "iteration #"
       ]
      },
      {
       "output_type": "stream",
       "stream": "stdout",
       "text": [
        " 386  ntrees =  100 \n",
        "best loss =  0.308761906747 \n",
        "last loss =  0.308848959736\n",
        "changed index 27\n",
        "learning_rate =  0.3\n",
        "sample_size 100\n",
        "\n",
        "iteration #"
       ]
      },
      {
       "output_type": "stream",
       "stream": "stdout",
       "text": [
        " 387  ntrees =  100 \n",
        "best loss =  0.308761906747 \n",
        "last loss =  0.308892204383\n",
        "changed index 19\n",
        "learning_rate =  0.3\n",
        "sample_size 100\n",
        "\n",
        "iteration #"
       ]
      },
      {
       "output_type": "stream",
       "stream": "stdout",
       "text": [
        " 388  ntrees =  100 \n",
        "best loss =  0.308761602762 \n",
        "last loss =  0.308761602762\n",
        "changed index 53\n",
        "learning_rate =  0.3\n",
        "sample_size 100\n",
        "\n",
        "iteration #"
       ]
      },
      {
       "output_type": "stream",
       "stream": "stdout",
       "text": [
        " 389  ntrees =  100 \n",
        "best loss =  0.308761602762 \n",
        "last loss =  0.308878072102\n",
        "changed index 21\n",
        "learning_rate =  0.3\n",
        "sample_size 100\n",
        "\n",
        "iteration #"
       ]
      },
      {
       "output_type": "stream",
       "stream": "stdout",
       "text": [
        " 390  ntrees =  100 \n",
        "best loss =  0.308761602762 \n",
        "last loss =  0.308909500517\n",
        "changed index 23\n",
        "learning_rate =  0.3\n",
        "sample_size 100\n",
        "\n",
        "iteration #"
       ]
      },
      {
       "output_type": "stream",
       "stream": "stdout",
       "text": [
        " 391  ntrees =  100 \n",
        "best loss =  0.308761602762 \n",
        "last loss =  0.308776147343\n",
        "changed index 50\n",
        "learning_rate =  0.3\n",
        "sample_size 100\n",
        "\n",
        "iteration #"
       ]
      },
      {
       "output_type": "stream",
       "stream": "stdout",
       "text": [
        " 392  ntrees =  100 \n",
        "best loss =  0.308761602762 \n",
        "last loss =  0.308773227279\n",
        "changed index 59\n",
        "learning_rate =  0.3\n",
        "sample_size 100\n",
        "\n",
        "iteration #"
       ]
      },
      {
       "output_type": "stream",
       "stream": "stdout",
       "text": [
        " 393  ntrees =  100 \n",
        "best loss =  0.308761119815 \n",
        "last loss =  0.308761119815\n",
        "changed index 69\n",
        "learning_rate =  0.3\n",
        "sample_size 100\n",
        "\n",
        "iteration #"
       ]
      },
      {
       "output_type": "stream",
       "stream": "stdout",
       "text": [
        " 394  ntrees =  100 \n",
        "best loss =  0.308761119815 \n",
        "last loss =  0.308761343665\n",
        "changed index 55\n",
        "learning_rate =  0.3\n",
        "sample_size 100\n",
        "\n",
        "iteration #"
       ]
      },
      {
       "output_type": "stream",
       "stream": "stdout",
       "text": [
        " 395  ntrees =  100 \n",
        "best loss =  0.308761119815 \n",
        "last loss =  0.308810570547\n",
        "changed index 39\n",
        "learning_rate =  0.3\n",
        "sample_size 100\n",
        "\n",
        "iteration #"
       ]
      },
      {
       "output_type": "stream",
       "stream": "stdout",
       "text": [
        " 396  ntrees =  100 \n",
        "best loss =  0.308749385144 \n",
        "last loss =  0.308749385144\n",
        "changed index 78\n",
        "learning_rate =  0.3\n",
        "sample_size 100\n",
        "\n",
        "iteration #"
       ]
      },
      {
       "output_type": "stream",
       "stream": "stdout",
       "text": [
        " 397  ntrees =  100 \n",
        "best loss =  0.308748062848 \n",
        "last loss =  0.308748062848\n",
        "changed index 91\n",
        "learning_rate =  0.3\n",
        "sample_size 100\n",
        "\n",
        "iteration #"
       ]
      },
      {
       "output_type": "stream",
       "stream": "stdout",
       "text": [
        " 398  ntrees =  100 \n",
        "best loss =  0.30874639383 \n",
        "last loss =  0.30874639383\n",
        "changed index 68\n",
        "learning_rate =  0.3\n",
        "sample_size 100\n",
        "\n",
        "iteration #"
       ]
      },
      {
       "output_type": "stream",
       "stream": "stdout",
       "text": [
        " 399  ntrees =  100 \n",
        "best loss =  0.30874639383 \n",
        "last loss =  0.308830218276\n",
        "changed index 31\n",
        "learning_rate =  0.3\n",
        "sample_size 100\n",
        "\n",
        "iteration #"
       ]
      },
      {
       "output_type": "stream",
       "stream": "stdout",
       "text": [
        " 400  ntrees =  100 \n",
        "best loss =  0.308745672202 \n",
        "last loss =  0.308745672202\n",
        "changed index 85\n",
        "learning_rate =  0.3\n",
        "sample_size 100\n",
        "\n",
        "iteration #"
       ]
      },
      {
       "output_type": "stream",
       "stream": "stdout",
       "text": [
        " 401  ntrees =  100 \n",
        "best loss =  0.30874381779 \n",
        "last loss =  0.30874381779\n",
        "changed index 80\n",
        "learning_rate =  0.3\n",
        "sample_size 100\n",
        "\n",
        "iteration #"
       ]
      },
      {
       "output_type": "stream",
       "stream": "stdout",
       "text": [
        " 402  ntrees =  100 \n",
        "best loss =  0.30874381779 \n",
        "last loss =  0.308784535991\n",
        "changed index 45\n",
        "learning_rate =  0.3\n",
        "sample_size 100\n",
        "\n",
        "iteration #"
       ]
      },
      {
       "output_type": "stream",
       "stream": "stdout",
       "text": [
        " 403  ntrees =  100 \n",
        "best loss =  0.30874381779 \n",
        "last loss =  0.309170654691\n",
        "changed index 5\n",
        "learning_rate =  0.3\n",
        "sample_size 100\n",
        "\n",
        "iteration #"
       ]
      },
      {
       "output_type": "stream",
       "stream": "stdout",
       "text": [
        " 404  ntrees =  100 \n",
        "best loss =  0.308741814897 \n",
        "last loss =  0.308741814897\n",
        "changed index 51\n",
        "learning_rate =  0.3\n",
        "sample_size 100\n",
        "\n",
        "iteration #"
       ]
      },
      {
       "output_type": "stream",
       "stream": "stdout",
       "text": [
        " 405  ntrees =  100 \n",
        "best loss =  0.308741814897 \n",
        "last loss =  0.308741816572\n",
        "changed index 53\n",
        "learning_rate =  0.3\n",
        "sample_size 100\n",
        "\n",
        "iteration #"
       ]
      },
      {
       "output_type": "stream",
       "stream": "stdout",
       "text": [
        " 406  ntrees =  100 \n",
        "best loss =  0.308741814897 \n",
        "last loss =  0.308748667351\n",
        "changed index 48\n",
        "learning_rate =  0.3\n",
        "sample_size 100\n",
        "\n",
        "iteration #"
       ]
      },
      {
       "output_type": "stream",
       "stream": "stdout",
       "text": [
        " 407  ntrees =  100 \n",
        "best loss =  0.308741814897 \n",
        "last loss =  0.30878251981\n",
        "changed index 45\n",
        "learning_rate =  0.3\n",
        "sample_size 100\n",
        "\n",
        "iteration #"
       ]
      },
      {
       "output_type": "stream",
       "stream": "stdout",
       "text": [
        " 408  ntrees =  100 \n",
        "best loss =  0.308741814897 \n",
        "last loss =  0.308830021352\n",
        "changed index 27\n",
        "learning_rate =  0.3\n",
        "sample_size 100\n",
        "\n",
        "iteration #"
       ]
      },
      {
       "output_type": "stream",
       "stream": "stdout",
       "text": [
        " 409  ntrees =  100 \n",
        "best loss =  0.308741814897 \n",
        "last loss =  0.308757414525\n",
        "changed index 50\n",
        "learning_rate =  0.3\n",
        "sample_size 100\n",
        "\n",
        "iteration #"
       ]
      },
      {
       "output_type": "stream",
       "stream": "stdout",
       "text": [
        " 410  ntrees =  100 \n",
        "best loss =  0.308741814897 \n",
        "last loss =  0.308858730363\n",
        "changed index 21\n",
        "learning_rate =  0.3\n",
        "sample_size 100\n",
        "\n",
        "iteration #"
       ]
      },
      {
       "output_type": "stream",
       "stream": "stdout",
       "text": [
        " 411  ntrees =  100 \n",
        "best loss =  0.308740101532 \n",
        "last loss =  0.308740101532\n",
        "changed index 79\n",
        "learning_rate =  0.3\n",
        "sample_size 100\n",
        "\n",
        "iteration #"
       ]
      },
      {
       "output_type": "stream",
       "stream": "stdout",
       "text": [
        " 412  ntrees =  100 \n",
        "best loss =  0.308740101532 \n",
        "last loss =  0.308748948926\n",
        "changed index 64\n",
        "learning_rate =  0.3\n",
        "sample_size 100\n",
        "\n",
        "iteration #"
       ]
      },
      {
       "output_type": "stream",
       "stream": "stdout",
       "text": [
        " 413  ntrees =  100 \n",
        "best loss =  0.308740101532 \n",
        "last loss =  0.309039650526\n",
        "changed index 7\n",
        "learning_rate =  0.3\n",
        "sample_size 100\n",
        "\n",
        "iteration #"
       ]
      },
      {
       "output_type": "stream",
       "stream": "stdout",
       "text": [
        " 414  ntrees =  100 \n",
        "best loss =  0.308740101532 \n",
        "last loss =  0.308761753312\n",
        "changed index 49\n",
        "learning_rate =  0.3\n",
        "sample_size 100\n",
        "\n",
        "iteration #"
       ]
      },
      {
       "output_type": "stream",
       "stream": "stdout",
       "text": [
        " 415  ntrees =  100 \n",
        "best loss =  0.308740101532 \n",
        "last loss =  0.308828303981\n",
        "changed index 27\n",
        "learning_rate =  0.3\n",
        "sample_size 100\n",
        "\n",
        "iteration #"
       ]
      },
      {
       "output_type": "stream",
       "stream": "stdout",
       "text": [
        " 416  ntrees =  100 \n",
        "best loss =  0.308740101532 \n",
        "last loss =  0.308761753312\n",
        "changed index 49\n",
        "learning_rate =  0.3\n",
        "sample_size 100\n",
        "\n",
        "iteration #"
       ]
      },
      {
       "output_type": "stream",
       "stream": "stdout",
       "text": [
        " 417  ntrees =  100 \n",
        "best loss =  0.308740101532 \n",
        "last loss =  0.308930476367\n",
        "changed index 12\n",
        "learning_rate =  0.3\n",
        "sample_size 100\n",
        "\n",
        "iteration #"
       ]
      },
      {
       "output_type": "stream",
       "stream": "stdout",
       "text": [
        " 418  ntrees =  100 \n",
        "best loss =  0.308740101532 \n",
        "last loss =  0.308782356388\n",
        "changed index 44\n",
        "learning_rate =  0.3\n",
        "sample_size 100\n",
        "\n",
        "iteration #"
       ]
      },
      {
       "output_type": "stream",
       "stream": "stdout",
       "text": [
        " 419  ntrees =  100 \n",
        "best loss =  0.308740101532 \n",
        "last loss =  0.308748948926\n",
        "changed index 64\n",
        "learning_rate =  0.3\n",
        "sample_size 100\n",
        "\n",
        "iteration #"
       ]
      },
      {
       "output_type": "stream",
       "stream": "stdout",
       "text": [
        " 420  ntrees =  100 \n",
        "best loss =  0.308740101532 \n",
        "last loss =  0.308955378944\n",
        "changed index 10\n",
        "learning_rate =  0.3\n",
        "sample_size 100\n",
        "\n",
        "iteration #"
       ]
      },
      {
       "output_type": "stream",
       "stream": "stdout",
       "text": [
        " 421  ntrees =  100 \n",
        "best loss =  0.308735883354 \n",
        "last loss =  0.308735883354\n",
        "changed index 61\n",
        "learning_rate =  0.3\n",
        "sample_size 100\n",
        "\n",
        "iteration #"
       ]
      },
      {
       "output_type": "stream",
       "stream": "stdout",
       "text": [
        " 422  ntrees =  100 \n",
        "best loss =  0.308735883354 \n",
        "last loss =  0.308924370657\n",
        "changed index 9\n",
        "learning_rate =  0.3\n",
        "sample_size 100\n",
        "\n",
        "iteration #"
       ]
      },
      {
       "output_type": "stream",
       "stream": "stdout",
       "text": [
        " 423  ntrees =  100 \n",
        "best loss =  0.308735883354 \n",
        "last loss =  0.30875247783\n",
        "changed index 47\n",
        "learning_rate =  0.3\n",
        "sample_size 100\n",
        "\n",
        "iteration #"
       ]
      },
      {
       "output_type": "stream",
       "stream": "stdout",
       "text": [
        " 424  ntrees =  100 \n",
        "best loss =  0.308735883354 \n",
        "last loss =  0.308736116156\n",
        "changed index 80\n",
        "learning_rate =  0.3\n",
        "sample_size 100\n",
        "\n",
        "iteration #"
       ]
      },
      {
       "output_type": "stream",
       "stream": "stdout",
       "text": [
        " 425  ntrees =  100 \n",
        "best loss =  0.308735883354 \n",
        "last loss =  0.308854192482\n",
        "changed index 22\n",
        "learning_rate =  0.3\n",
        "sample_size 100\n",
        "\n",
        "iteration #"
       ]
      },
      {
       "output_type": "stream",
       "stream": "stdout",
       "text": [
        " 426  ntrees =  100 \n",
        "best loss =  0.308735883354 \n",
        "last loss =  0.30882420628\n",
        "changed index 33\n",
        "learning_rate =  0.3\n",
        "sample_size 100\n",
        "\n",
        "iteration #"
       ]
      },
      {
       "output_type": "stream",
       "stream": "stdout",
       "text": [
        " 427  ntrees =  100 \n",
        "best loss =  0.308735883354 \n",
        "last loss =  0.308736357996\n",
        "changed index 68\n",
        "learning_rate =  0.3\n",
        "sample_size 100\n",
        "\n",
        "iteration #"
       ]
      },
      {
       "output_type": "stream",
       "stream": "stdout",
       "text": [
        " 428  ntrees =  100 \n",
        "best loss =  0.308732423165 \n",
        "last loss =  0.308732423165\n",
        "changed index 86\n",
        "learning_rate =  0.3\n",
        "sample_size 100\n",
        "\n",
        "iteration #"
       ]
      },
      {
       "output_type": "stream",
       "stream": "stdout",
       "text": [
        " 429  ntrees =  100 \n",
        "best loss =  0.308730021641 \n",
        "last loss =  0.308730021641\n",
        "changed index 93\n",
        "learning_rate =  0.3\n",
        "sample_size 100\n",
        "\n",
        "iteration #"
       ]
      },
      {
       "output_type": "stream",
       "stream": "stdout",
       "text": [
        " 430  ntrees =  100 \n",
        "best loss =  0.308730021641 \n",
        "last loss =  0.308730711233\n",
        "changed index 96\n",
        "learning_rate =  0.3\n",
        "sample_size 100\n",
        "\n",
        "iteration #"
       ]
      },
      {
       "output_type": "stream",
       "stream": "stdout",
       "text": [
        " 431  ntrees =  100 \n",
        "best loss =  0.308730021641 \n",
        "last loss =  0.309158534057\n",
        "changed index 5\n",
        "learning_rate =  0.3\n",
        "sample_size 100\n",
        "\n",
        "iteration #"
       ]
      },
      {
       "output_type": "stream",
       "stream": "stdout",
       "text": [
        " 432  ntrees =  100 \n",
        "best loss =  0.308730021641 \n",
        "last loss =  0.309627229361\n",
        "changed index 3\n",
        "learning_rate =  0.3\n",
        "sample_size 100\n",
        "\n",
        "iteration #"
       ]
      },
      {
       "output_type": "stream",
       "stream": "stdout",
       "text": [
        " 433  ntrees =  100 \n",
        "best loss =  0.308724841864 \n",
        "last loss =  0.308724841864\n",
        "changed index 95\n",
        "learning_rate =  0.3\n",
        "sample_size 100\n",
        "\n",
        "iteration #"
       ]
      },
      {
       "output_type": "stream",
       "stream": "stdout",
       "text": [
        " 434  ntrees =  100 \n",
        "best loss =  0.308724841864 \n",
        "last loss =  0.308780905061\n",
        "changed index 42\n",
        "learning_rate =  0.3\n",
        "sample_size 100\n",
        "\n",
        "iteration #"
       ]
      },
      {
       "output_type": "stream",
       "stream": "stdout",
       "text": [
        " 435  ntrees =  100 \n",
        "best loss =  0.308724841864 \n",
        "last loss =  0.308725400349\n",
        "changed index 92\n",
        "learning_rate =  0.3\n",
        "sample_size 100\n",
        "\n",
        "iteration #"
       ]
      },
      {
       "output_type": "stream",
       "stream": "stdout",
       "text": [
        " 436  ntrees =  100 \n",
        "best loss =  0.308724841864 \n",
        "last loss =  0.308727553726\n",
        "changed index 88\n",
        "learning_rate =  0.3\n",
        "sample_size 100\n",
        "\n",
        "iteration #"
       ]
      },
      {
       "output_type": "stream",
       "stream": "stdout",
       "text": [
        " 437  ntrees =  100 \n",
        "best loss =  0.308724841864 \n",
        "last loss =  0.308955599889\n",
        "changed index 13\n",
        "learning_rate =  0.3\n",
        "sample_size 100\n",
        "\n",
        "iteration #"
       ]
      },
      {
       "output_type": "stream",
       "stream": "stdout",
       "text": [
        " 438  ntrees =  100 \n",
        "best loss =  0.308724372787 \n",
        "last loss =  0.308724372787\n",
        "changed index 69\n",
        "learning_rate =  0.3\n",
        "sample_size 100\n",
        "\n",
        "iteration #"
       ]
      },
      {
       "output_type": "stream",
       "stream": "stdout",
       "text": [
        " 439  ntrees =  100 \n",
        "best loss =  0.308724372787 \n",
        "last loss =  0.3087269057\n",
        "changed index 74\n",
        "learning_rate =  0.3\n",
        "sample_size 100\n",
        "\n",
        "iteration #"
       ]
      },
      {
       "output_type": "stream",
       "stream": "stdout",
       "text": [
        " 440  ntrees =  100 \n",
        "best loss =  0.308724372787 \n",
        "last loss =  0.308728667001\n",
        "changed index 62\n",
        "learning_rate =  0.3\n",
        "sample_size 100\n",
        "\n",
        "iteration #"
       ]
      },
      {
       "output_type": "stream",
       "stream": "stdout",
       "text": [
        " 441  ntrees =  100 \n",
        "best loss =  0.308724372787 \n",
        "last loss =  0.308812115003\n",
        "changed index 33\n",
        "learning_rate =  0.3\n",
        "sample_size 100\n",
        "\n",
        "iteration #"
       ]
      },
      {
       "output_type": "stream",
       "stream": "stdout",
       "text": [
        " 442  ntrees =  100 \n",
        "best loss =  0.308723325953 \n",
        "last loss =  0.308723325953\n",
        "changed index 93\n",
        "learning_rate =  0.3\n",
        "sample_size 100\n",
        "\n",
        "iteration #"
       ]
      },
      {
       "output_type": "stream",
       "stream": "stdout",
       "text": [
        " 443  ntrees =  100 \n",
        "best loss =  0.308723325953 \n",
        "last loss =  0.308725534334\n",
        "changed index 84\n",
        "learning_rate =  0.3\n",
        "sample_size 100\n",
        "\n",
        "iteration #"
       ]
      },
      {
       "output_type": "stream",
       "stream": "stdout",
       "text": [
        " 444  ntrees =  100 \n",
        "best loss =  0.308723325953 \n",
        "last loss =  0.308739480588\n",
        "changed index 47\n",
        "learning_rate =  0.3\n",
        "sample_size 100\n",
        "\n",
        "iteration #"
       ]
      },
      {
       "output_type": "stream",
       "stream": "stdout",
       "text": [
        " 445  ntrees =  100 \n",
        "best loss =  0.308723325953 \n",
        "last loss =  0.308745184829\n",
        "changed index 52\n",
        "learning_rate =  0.3\n",
        "sample_size 100\n",
        "\n",
        "iteration #"
       ]
      },
      {
       "output_type": "stream",
       "stream": "stdout",
       "text": [
        " 446  ntrees =  100 \n",
        "best loss =  0.308723325953 \n",
        "last loss =  0.310317445551\n",
        "changed index 1\n",
        "learning_rate =  0.3\n",
        "sample_size 100\n",
        "\n",
        "iteration #"
       ]
      },
      {
       "output_type": "stream",
       "stream": "stdout",
       "text": [
        " 447  ntrees =  100 \n",
        "best loss =  0.308723325953 \n",
        "last loss =  0.308725290109\n",
        "changed index 73\n",
        "learning_rate =  0.3\n",
        "sample_size 100\n",
        "\n",
        "iteration #"
       ]
      },
      {
       "output_type": "stream",
       "stream": "stdout",
       "text": [
        " 448  ntrees =  100 \n",
        "best loss =  0.3087221147 \n",
        "last loss =  0.3087221147\n",
        "changed index 86\n",
        "learning_rate =  0.3\n",
        "sample_size 100\n",
        "\n",
        "iteration #"
       ]
      },
      {
       "output_type": "stream",
       "stream": "stdout",
       "text": [
        " 449  ntrees =  100 \n",
        "best loss =  0.3087221147 \n",
        "last loss =  0.308762186175\n",
        "changed index 41\n",
        "learning_rate =  0.3\n",
        "sample_size 100\n",
        "\n",
        "iteration #"
       ]
      },
      {
       "output_type": "stream",
       "stream": "stdout",
       "text": [
        " 450  ntrees =  100 \n",
        "best loss =  0.3087221147 \n",
        "last loss =  0.308722745249\n",
        "changed index 53\n",
        "learning_rate =  0.3\n",
        "sample_size 100\n",
        "\n",
        "iteration #"
       ]
      },
      {
       "output_type": "stream",
       "stream": "stdout",
       "text": [
        " 451  ntrees =  100 \n",
        "best loss =  0.3087221147 \n",
        "last loss =  0.308725999783\n",
        "changed index 65\n",
        "learning_rate =  0.3\n",
        "sample_size 100\n",
        "\n",
        "iteration #"
       ]
      },
      {
       "output_type": "stream",
       "stream": "stdout",
       "text": [
        " 452  ntrees =  100 \n",
        "best loss =  0.3087221147 \n",
        "last loss =  0.310308644202\n",
        "changed index 1\n",
        "learning_rate =  0.3\n",
        "sample_size 100\n",
        "\n",
        "iteration #"
       ]
      },
      {
       "output_type": "stream",
       "stream": "stdout",
       "text": [
        " 453  ntrees =  100 \n",
        "best loss =  0.3087221147 \n",
        "last loss =  0.308756003188\n",
        "changed index 43\n",
        "learning_rate =  0.3\n",
        "sample_size 100\n",
        "\n",
        "iteration #"
       ]
      },
      {
       "output_type": "stream",
       "stream": "stdout",
       "text": [
        " 454  ntrees =  100 \n",
        "best loss =  0.3087221147 \n",
        "last loss =  0.308806267048\n",
        "changed index 31\n",
        "learning_rate =  0.3\n",
        "sample_size 100\n",
        "\n",
        "iteration #"
       ]
      },
      {
       "output_type": "stream",
       "stream": "stdout",
       "text": [
        " 455  ntrees =  100 \n",
        "best loss =  0.3087221147 \n",
        "last loss =  0.30875926891\n",
        "changed index 46\n",
        "learning_rate =  0.3\n",
        "sample_size 100\n",
        "\n",
        "iteration #"
       ]
      },
      {
       "output_type": "stream",
       "stream": "stdout",
       "text": [
        " 456  ntrees =  100 \n",
        "best loss =  0.3087221147 \n",
        "last loss =  0.308763106923\n",
        "changed index 38\n",
        "learning_rate =  0.3\n",
        "sample_size 100\n",
        "\n",
        "iteration #"
       ]
      },
      {
       "output_type": "stream",
       "stream": "stdout",
       "text": [
        " 457  ntrees =  100 \n",
        "best loss =  0.308717512474 \n",
        "last loss =  0.308717512474\n",
        "changed index 37\n",
        "learning_rate =  0.3\n",
        "sample_size 100\n",
        "\n",
        "iteration #"
       ]
      },
      {
       "output_type": "stream",
       "stream": "stdout",
       "text": [
        " 458  ntrees =  100 \n",
        "best loss =  0.308717512474 \n",
        "last loss =  0.30906575929\n",
        "changed index 11\n",
        "learning_rate =  0.3\n",
        "sample_size 100\n",
        "\n",
        "iteration #"
       ]
      },
      {
       "output_type": "stream",
       "stream": "stdout",
       "text": [
        " 459  ntrees =  100 \n",
        "best loss =  0.308717512474 \n",
        "last loss =  0.308845275697\n",
        "changed index 22\n",
        "learning_rate =  0.3\n",
        "sample_size 100\n",
        "\n",
        "iteration #"
       ]
      },
      {
       "output_type": "stream",
       "stream": "stdout",
       "text": [
        " 460  ntrees =  100 \n",
        "best loss =  0.308717512474 \n",
        "last loss =  0.308848617332\n",
        "changed index 18\n",
        "learning_rate =  0.3\n",
        "sample_size 100\n",
        "\n",
        "iteration #"
       ]
      },
      {
       "output_type": "stream",
       "stream": "stdout",
       "text": [
        " 461  ntrees =  100 \n",
        "best loss =  0.308717512474 \n",
        "last loss =  0.308884880035\n",
        "changed index 17\n",
        "learning_rate =  0.3\n",
        "sample_size 100\n",
        "\n",
        "iteration #"
       ]
      },
      {
       "output_type": "stream",
       "stream": "stdout",
       "text": [
        " 462  ntrees =  100 \n",
        "best loss =  0.308717512474 \n",
        "last loss =  0.309157443577\n",
        "changed index 5\n",
        "learning_rate =  0.3\n",
        "sample_size 100\n",
        "\n",
        "iteration #"
       ]
      },
      {
       "output_type": "stream",
       "stream": "stdout",
       "text": [
        " 463  ntrees =  100 \n",
        "best loss =  0.308716200335 \n",
        "last loss =  0.308716200335\n",
        "changed index 85\n",
        "learning_rate =  0.3\n",
        "sample_size 100\n",
        "\n",
        "iteration #"
       ]
      },
      {
       "output_type": "stream",
       "stream": "stdout",
       "text": [
        " 464  ntrees =  100 \n",
        "best loss =  0.308716200335 \n",
        "last loss =  0.308797086402\n",
        "changed index 33\n",
        "learning_rate =  0.3\n",
        "sample_size 100\n",
        "\n",
        "iteration #"
       ]
      },
      {
       "output_type": "stream",
       "stream": "stdout",
       "text": [
        " 465  ntrees =  100 \n",
        "best loss =  0.308714120305 \n",
        "last loss =  0.308714120305\n",
        "changed index 87\n",
        "learning_rate =  0.3\n",
        "sample_size 100\n",
        "\n",
        "iteration #"
       ]
      },
      {
       "output_type": "stream",
       "stream": "stdout",
       "text": [
        " 466  ntrees =  100 \n",
        "best loss =  0.308714120305 \n",
        "last loss =  0.308714771527\n",
        "changed index 63\n",
        "learning_rate =  0.3\n",
        "sample_size 100\n",
        "\n",
        "iteration #"
       ]
      },
      {
       "output_type": "stream",
       "stream": "stdout",
       "text": [
        " 467  ntrees =  100 \n",
        "best loss =  0.308707689462 \n",
        "last loss =  0.308707689462\n",
        "changed index 66\n",
        "learning_rate =  0.3\n",
        "sample_size 100\n",
        "\n",
        "iteration #"
       ]
      },
      {
       "output_type": "stream",
       "stream": "stdout",
       "text": [
        " 468  ntrees =  100 \n",
        "best loss =  0.308707689462 \n",
        "last loss =  0.30871198539\n",
        "changed index 65\n",
        "learning_rate =  0.3\n",
        "sample_size 100\n",
        "\n",
        "iteration #"
       ]
      },
      {
       "output_type": "stream",
       "stream": "stdout",
       "text": [
        " 469  ntrees =  100 \n",
        "best loss =  0.308707689462 \n",
        "last loss =  0.308763724211\n",
        "changed index 42\n",
        "learning_rate =  0.3\n",
        "sample_size 100\n",
        "\n",
        "iteration #"
       ]
      },
      {
       "output_type": "stream",
       "stream": "stdout",
       "text": [
        " 470  ntrees =  100 \n",
        "best loss =  0.308707689462 \n",
        "last loss =  0.308838778514\n",
        "changed index 18\n",
        "learning_rate =  0.3\n",
        "sample_size 100\n",
        "\n",
        "iteration #"
       ]
      },
      {
       "output_type": "stream",
       "stream": "stdout",
       "text": [
        " 471  ntrees =  100 \n",
        "best loss =  0.308707689462 \n",
        "last loss =  0.308927509439\n",
        "changed index 16\n",
        "learning_rate =  0.3\n",
        "sample_size 100\n",
        "\n",
        "iteration #"
       ]
      },
      {
       "output_type": "stream",
       "stream": "stdout",
       "text": [
        " 472  ntrees =  100 \n",
        "best loss =  0.308707689462 \n",
        "last loss =  0.308867677413\n",
        "changed index 9\n",
        "learning_rate =  0.3\n",
        "sample_size 100\n",
        "\n",
        "iteration #"
       ]
      },
      {
       "output_type": "stream",
       "stream": "stdout",
       "text": [
        " 473  ntrees =  100 \n",
        "best loss =  0.308707689462 \n",
        "last loss =  0.308801384956\n",
        "changed index 29\n",
        "learning_rate =  0.3\n",
        "sample_size 100\n",
        "\n",
        "iteration #"
       ]
      },
      {
       "output_type": "stream",
       "stream": "stdout",
       "text": [
        " 474  ntrees =  100 \n",
        "best loss =  0.308707689462 \n",
        "last loss =  0.308790583611\n",
        "changed index 32\n",
        "learning_rate =  0.3\n",
        "sample_size 100\n",
        "\n",
        "iteration #"
       ]
      },
      {
       "output_type": "stream",
       "stream": "stdout",
       "text": [
        " 475  ntrees =  100 \n",
        "best loss =  0.308707689462 \n",
        "last loss =  0.308791658922\n",
        "changed index 31\n",
        "learning_rate =  0.3\n",
        "sample_size 100\n",
        "\n",
        "iteration #"
       ]
      },
      {
       "output_type": "stream",
       "stream": "stdout",
       "text": [
        " 476  ntrees =  100 \n",
        "best loss =  0.308707689462 \n",
        "last loss =  0.308714120438\n",
        "changed index 81\n",
        "learning_rate =  0.3\n",
        "sample_size 100\n",
        "\n",
        "iteration #"
       ]
      },
      {
       "output_type": "stream",
       "stream": "stdout",
       "text": [
        " 477  ntrees =  100 \n",
        "best loss =  0.308707689462 \n",
        "last loss =  0.308928324803\n",
        "changed index 10\n",
        "learning_rate =  0.3\n",
        "sample_size 100\n",
        "\n",
        "iteration #"
       ]
      },
      {
       "output_type": "stream",
       "stream": "stdout",
       "text": [
        " 478  ntrees =  100 \n",
        "best loss =  0.308707689462 \n",
        "last loss =  0.308707689462\n",
        "changed index 66\n",
        "learning_rate =  0.3\n",
        "sample_size 100\n",
        "\n",
        "iteration #"
       ]
      },
      {
       "output_type": "stream",
       "stream": "stdout",
       "text": [
        " 479  ntrees =  100 \n",
        "best loss =  0.308707689462 \n",
        "last loss =  0.308822288642\n",
        "changed index 26\n",
        "learning_rate =  0.3\n",
        "sample_size 100\n",
        "\n",
        "iteration #"
       ]
      },
      {
       "output_type": "stream",
       "stream": "stdout",
       "text": [
        " 480  ntrees =  100 \n",
        "best loss =  0.308707689462 \n",
        "last loss =  0.308796879824\n",
        "changed index 27\n",
        "learning_rate =  0.3\n",
        "sample_size 100\n",
        "\n",
        "iteration #"
       ]
      },
      {
       "output_type": "stream",
       "stream": "stdout",
       "text": [
        " 481  ntrees =  100 \n",
        "best loss =  0.308707689462 \n",
        "last loss =  0.308730728774\n",
        "changed index 36\n",
        "learning_rate =  0.3\n",
        "sample_size 100\n",
        "\n",
        "iteration #"
       ]
      },
      {
       "output_type": "stream",
       "stream": "stdout",
       "text": [
        " 482  ntrees =  100 \n",
        "best loss =  0.308707689462 \n",
        "last loss =  0.309138316184\n",
        "changed index 6\n",
        "learning_rate =  0.3\n",
        "sample_size 100\n",
        "\n",
        "iteration #"
       ]
      },
      {
       "output_type": "stream",
       "stream": "stdout",
       "text": [
        " 483  ntrees =  100 \n",
        "best loss =  0.308707689462 \n",
        "last loss =  0.309019181369\n",
        "changed index 7\n",
        "learning_rate =  0.3\n",
        "sample_size 100\n",
        "\n",
        "iteration #"
       ]
      },
      {
       "output_type": "stream",
       "stream": "stdout",
       "text": [
        " 484  ntrees =  100 \n",
        "best loss =  0.308707689462 \n",
        "last loss =  0.308792293123\n",
        "changed index 33\n",
        "learning_rate =  0.3\n",
        "sample_size 100\n",
        "\n",
        "iteration #"
       ]
      },
      {
       "output_type": "stream",
       "stream": "stdout",
       "text": [
        " 485  ntrees =  100 \n",
        "best loss =  0.308707689462 \n",
        "last loss =  0.308756124422\n",
        "changed index 36\n",
        "learning_rate =  0.3\n",
        "sample_size 100\n",
        "\n",
        "iteration #"
       ]
      },
      {
       "output_type": "stream",
       "stream": "stdout",
       "text": [
        " 486  ntrees =  100 \n",
        "best loss =  0.308707689462 \n",
        "last loss =  0.308747811544\n",
        "changed index 44\n",
        "learning_rate =  0.3\n",
        "sample_size 100\n",
        "\n",
        "iteration #"
       ]
      },
      {
       "output_type": "stream",
       "stream": "stdout",
       "text": [
        " 487  ntrees =  100 \n",
        "best loss =  0.308707689462 \n",
        "last loss =  0.310287771626\n",
        "changed index 1\n",
        "learning_rate =  0.3\n",
        "sample_size 100\n",
        "\n",
        "iteration #"
       ]
      },
      {
       "output_type": "stream",
       "stream": "stdout",
       "text": [
        " 488  ntrees =  100 \n",
        "best loss =  0.308707658541 \n",
        "last loss =  0.308707658541\n",
        "changed index 87\n",
        "learning_rate =  0.3\n",
        "sample_size 100\n",
        "\n",
        "iteration #"
       ]
      },
      {
       "output_type": "stream",
       "stream": "stdout",
       "text": [
        " 489  ntrees =  100 \n",
        "best loss =  0.308707658541 \n",
        "last loss =  0.308790906962\n",
        "changed index 30\n",
        "learning_rate =  0.3\n",
        "sample_size 100\n",
        "\n",
        "iteration #"
       ]
      },
      {
       "output_type": "stream",
       "stream": "stdout",
       "text": [
        " 490  ntrees =  100 \n",
        "best loss =  0.308707658541 \n",
        "last loss =  0.308707658541\n",
        "changed index 87\n",
        "learning_rate =  0.3\n",
        "sample_size 100\n",
        "\n",
        "iteration #"
       ]
      },
      {
       "output_type": "stream",
       "stream": "stdout",
       "text": [
        " 491  ntrees =  100 \n",
        "best loss =  0.308706490852 \n",
        "last loss =  0.308706490852\n",
        "changed index 99\n",
        "learning_rate =  0.3\n",
        "sample_size 100\n",
        "\n",
        "iteration #"
       ]
      },
      {
       "output_type": "stream",
       "stream": "stdout",
       "text": [
        " 492  ntrees =  100 \n",
        "best loss =  0.308706490852 \n",
        "last loss =  0.308935430203\n",
        "changed index 13\n",
        "learning_rate =  0.3\n",
        "sample_size 100\n",
        "\n",
        "iteration #"
       ]
      },
      {
       "output_type": "stream",
       "stream": "stdout",
       "text": [
        " 493  ntrees =  100 \n",
        "best loss =  0.308706490852 \n",
        "last loss =  0.308706600253\n",
        "changed index 85\n",
        "learning_rate =  0.3\n",
        "sample_size 100\n",
        "\n",
        "iteration #"
       ]
      },
      {
       "output_type": "stream",
       "stream": "stdout",
       "text": [
        " 494  ntrees =  100 \n",
        "best loss =  0.308706490852 \n",
        "last loss =  0.308707086798\n",
        "changed index 92\n",
        "learning_rate =  0.3\n",
        "sample_size 100\n",
        "\n",
        "iteration #"
       ]
      },
      {
       "output_type": "stream",
       "stream": "stdout",
       "text": [
        " 495  ntrees =  100 \n",
        "best loss =  0.308706490852 \n",
        "last loss =  0.308707067528\n",
        "changed index 53\n",
        "learning_rate =  0.3\n",
        "sample_size 100\n",
        "\n",
        "iteration #"
       ]
      },
      {
       "output_type": "stream",
       "stream": "stdout",
       "text": [
        " 496  ntrees =  100 \n",
        "best loss =  0.308706490852 \n",
        "last loss =  0.308747412997\n",
        "changed index 41\n",
        "learning_rate =  0.3\n",
        "sample_size 100\n",
        "\n",
        "iteration #"
       ]
      },
      {
       "output_type": "stream",
       "stream": "stdout",
       "text": [
        " 497  ntrees =  100 \n",
        "best loss =  0.308706359481 \n",
        "last loss =  0.308706359481\n",
        "changed index 37\n",
        "learning_rate =  0.3\n",
        "sample_size 100\n",
        "\n",
        "iteration #"
       ]
      },
      {
       "output_type": "stream",
       "stream": "stdout",
       "text": [
        " 498  ntrees =  100 \n",
        "best loss =  0.308706359481 \n",
        "last loss =  0.308794264776\n",
        "changed index 33\n",
        "learning_rate =  0.3\n",
        "sample_size 100\n",
        "\n",
        "iteration #"
       ]
      },
      {
       "output_type": "stream",
       "stream": "stdout",
       "text": [
        " 499  ntrees =  100 \n",
        "best loss =  0.308704719193 \n",
        "last loss =  0.308704719193\n",
        "changed index 78\n",
        "learning_rate =  0.3\n",
        "sample_size 100\n",
        "\n",
        "iteration #"
       ]
      },
      {
       "output_type": "stream",
       "stream": "stdout",
       "text": [
        " 500  ntrees =  100 \n",
        "best loss =  0.308704719193 \n",
        "last loss =  0.308705403835\n",
        "changed index 53\n",
        "learning_rate =  0.3\n",
        "sample_size 100\n"
       ]
      }
     ],
     "prompt_number": 14
    },
    {
     "cell_type": "code",
     "collapsed": false,
     "input": [
      "y_pred_stupid = greedy.predict(testFactory,trees[:100])\n",
      "y_pred_full = greedy.predict(testFactory,trees)"
     ],
     "language": "python",
     "metadata": {},
     "outputs": [],
     "prompt_number": 15
    },
    {
     "cell_type": "code",
     "collapsed": false,
     "input": [
      "y_pred_greedy = testFactory.predict(res_greedy[:100])\n",
      "y_pred_wheel = testFactory.predict(res_greedy_wheel[:100])"
     ],
     "language": "python",
     "metadata": {},
     "outputs": [],
     "prompt_number": 16
    },
    {
     "cell_type": "code",
     "collapsed": false,
     "input": [
      "w_test = testFactory.weights\n",
      "\n",
      "print metrics.roc_auc_score(Yts,y_pred_greedy,sample_weight=w_test),\n",
      "print metrics.roc_auc_score(Yts,y_pred_wheel,sample_weight=w_test),\n",
      "print metrics.roc_auc_score(Yts,y_pred_stupid,sample_weight=w_test),\n",
      "print metrics.roc_auc_score(Yts,y_pred_full,sample_weight=w_test)\n",
      "print \"well...\""
     ],
     "language": "python",
     "metadata": {},
     "outputs": [
      {
       "output_type": "stream",
       "stream": "stdout",
       "text": [
        "0.933938721572 "
       ]
      },
      {
       "output_type": "stream",
       "stream": "stdout",
       "text": [
        "0.933960550984 "
       ]
      },
      {
       "output_type": "stream",
       "stream": "stdout",
       "text": [
        "0.916904744001 "
       ]
      },
      {
       "output_type": "stream",
       "stream": "stdout",
       "text": [
        "0.935834322801\n",
        "well...\n"
       ]
      }
     ],
     "prompt_number": 17
    },
    {
     "cell_type": "code",
     "collapsed": false,
     "input": [
      "_ = joblib.dump(res_greedy,\"dumps/greedy 100 trees\")\n",
      "_ = joblib.dump(res_greedy,\"dumps/greedy 100 trees pod kol\u0451sami\")"
     ],
     "language": "python",
     "metadata": {},
     "outputs": [],
     "prompt_number": 18
    },
    {
     "cell_type": "markdown",
     "metadata": {},
     "source": [
      "# Upper level thresholds extraction"
     ]
    },
    {
     "cell_type": "code",
     "collapsed": false,
     "input": [
      "#usability distribution\n",
      "thresholds = mnet.get_thresholds(trees,30,0.001)"
     ],
     "language": "python",
     "metadata": {},
     "outputs": [],
     "prompt_number": 19
    },
    {
     "cell_type": "code",
     "collapsed": false,
     "input": [
      "plt.scatter(range(len(thresholds)),thresholds[:,2])\n",
      "print sum(thresholds[:,2] >150)"
     ],
     "language": "python",
     "metadata": {},
     "outputs": [
      {
       "output_type": "stream",
       "stream": "stdout",
       "text": [
        "96\n"
       ]
      },
      {
       "metadata": {},
       "output_type": "display_data",
       "png": "[encoded data removed]",
       "text": [
        "<matplotlib.figure.Figure at 0x2ab53a20>"
       ]
      }
     ],
     "prompt_number": 20
    },
    {
     "cell_type": "markdown",
     "metadata": {},
     "source": [
      "# Criteria selection"
     ]
    },
    {
     "cell_type": "code",
     "collapsed": false,
     "input": [
      "import hierarchy"
     ],
     "language": "python",
     "metadata": {},
     "outputs": [],
     "prompt_number": 21
    },
    {
     "cell_type": "code",
     "collapsed": false,
     "input": [
      "#get them...\n",
      "thresholds_active = thresholds[thresholds[:,2]>100]\n",
      "print len(thresholds_active)\n",
      "criteria = hierarchy.select_criteria(trainFactory,thresholds_active,3,True)"
     ],
     "language": "python",
     "metadata": {},
     "outputs": [
      {
       "output_type": "stream",
       "stream": "stdout",
       "text": [
        "190\n",
        "s:"
       ]
      },
      {
       "output_type": "stream",
       "stream": "stdout",
       "text": [
        " [81387L, 46113L]\n",
        "w: [0.4995172311764362, 0.50048276882352416]\n",
        "s:"
       ]
      },
      {
       "output_type": "stream",
       "stream": "stdout",
       "text": [
        " [35853L, 45534L, 28287L, 17826L]\n",
        "w: [0.26914160839995621, 0.23037562277645596, 0.27439612166068927, 0.22608664716287472]\n",
        "s:"
       ]
      },
      {
       "output_type": "stream",
       "stream": "stdout",
       "text": [
        " [6226L, 11600L, 18312L, 9975L, 18579L, 17274L, 28399L, 17135L]\n",
        "w: [0.10092029004556231, 0.12516635711728766, 0.16975948409694844, 0.10463663756370174, 0.12697836451232206, 0.14216324388758639, 0.13573214315325532, 0.094643479623169297]\n"
       ]
      },
      {
       "output_type": "stream",
       "stream": "stderr",
       "text": [
        "loss_functions.py:45: RuntimeWarning: divide by zero encountered in log\n",
        "  logs = np.array(map(np.log,distribution))\n"
       ]
      }
     ],
     "prompt_number": 22
    },
    {
     "cell_type": "code",
     "collapsed": false,
     "input": [
      "criteria"
     ],
     "language": "python",
     "metadata": {},
     "outputs": [
      {
       "metadata": {},
       "output_type": "pyout",
       "prompt_number": 23,
       "text": [
        "[array([  21.        ,  147.61599731,  136.        ]),\n",
        " array([   2.        ,   78.67050171,  131.        ]),\n",
        " array([   1.        ,   44.68050003,  153.        ])]"
       ]
      }
     ],
     "prompt_number": 23
    },
    {
     "cell_type": "code",
     "collapsed": false,
     "input": [
      "split = hierarchy.split_upper(trainFactory,criteria[:2],equalizeWeights=False,split_weights=.75,split_inclusion=0.5)\n",
      "print [split[i].events.shape[0] for i in split]\n",
      "print [sum(split[i].weights) for i in split]"
     ],
     "language": "python",
     "metadata": {},
     "outputs": [
      {
       "output_type": "stream",
       "stream": "stdout",
       "text": [
        "[74610L, 82054L, 68902L, 61308L]\n",
        "[0.47855295842361356, 0.46595871607625355, 0.48321270032949526, 0.46289384830905167]"
       ]
      },
      {
       "output_type": "stream",
       "stream": "stdout",
       "text": [
        "\n"
       ]
      }
     ],
     "prompt_number": 24
    },
    {
     "cell_type": "markdown",
     "metadata": {},
     "source": [
      "#Hierarchical stuff"
     ]
    },
    {
     "cell_type": "code",
     "collapsed": false,
     "input": [
      "trees_splitted = hierarchy.train_splitted_boosts(trees, trainFactory,criteria[:2],LogLoss,0.3,1,\n",
      "                                                 100,100,regularizer =0.0004,\n",
      "                                                 verbose=False,use_joblib = True,n_jobs = -1,\n",
      "                                                 weights_outside_leaf = 0.5, inclusion_outside_leaf = 1,#0.5 weight\n",
      "                                                 wheel_up_times = 500,wheel_learning_rate = 0.301) \n"
     ],
     "language": "python",
     "metadata": {},
     "outputs": [],
     "prompt_number": 25
    },
    {
     "cell_type": "code",
     "collapsed": false,
     "input": [
      "y_pred_splitted= hierarchy.predict_splitted(testFactory,criteria[:2],trees_splitted)"
     ],
     "language": "python",
     "metadata": {},
     "outputs": [],
     "prompt_number": 26
    },
    {
     "cell_type": "code",
     "collapsed": false,
     "input": [
      "_= joblib.dump([criteria,trees_splitted],\"dumps/splitted 100 trees\")"
     ],
     "language": "python",
     "metadata": {},
     "outputs": [],
     "prompt_number": 27
    },
    {
     "cell_type": "code",
     "collapsed": false,
     "input": [
      "w_test = testFactory.weights\n",
      "Yts = testFactory.labels\n",
      "print 'spltd\\t',metrics.roc_auc_score(Yts,y_pred_splitted,sample_weight=w_test)\n",
      "print 'greedy\\t',metrics.roc_auc_score(Yts,y_pred_greedy,sample_weight=w_test)\n",
      "print 'stupid\\t',metrics.roc_auc_score(Yts,y_pred_stupid,sample_weight=w_test)\n",
      "print 'full\\t',metrics.roc_auc_score(Yts,y_pred_full,sample_weight=w_test)\n",
      "print \"well...\"\n"
     ],
     "language": "python",
     "metadata": {},
     "outputs": [
      {
       "output_type": "stream",
       "stream": "stdout",
       "text": [
        "spltd\t0.934005156454"
       ]
      },
      {
       "output_type": "stream",
       "stream": "stdout",
       "text": [
        "\n",
        "greedy\t0.933938721572"
       ]
      },
      {
       "output_type": "stream",
       "stream": "stdout",
       "text": [
        "\n",
        "stupid\t0.916904744001"
       ]
      },
      {
       "output_type": "stream",
       "stream": "stdout",
       "text": [
        "\n",
        "full\t0.935834322801"
       ]
      },
      {
       "output_type": "stream",
       "stream": "stdout",
       "text": [
        "\n",
        "well...\n"
       ]
      }
     ],
     "prompt_number": 28
    },
    {
     "cell_type": "markdown",
     "metadata": {},
     "source": [
      "#learning curves"
     ]
    },
    {
     "cell_type": "code",
     "collapsed": false,
     "input": [
      "#I know it could have been done without quadratic complexity over trees, but...\n",
      "#btw equalizing 1-0 weights for the training set is not optimal in terms of AUC, but it is close to being so.\n",
      "n_trees =100\n",
      "auc_stupid_lcurve = [(0.5,)]\n",
      "auc_greedy_lcurve = [(0.5,)]\n",
      "auc_splitted_lcurve = [(0.5,)]\n",
      "for i in range(1,n_trees):\n",
      "    #stpd\n",
      "    pred = testFactory.predict(trees[:i])\n",
      "    auc = metrics.roc_auc_score(testFactory.labels,pred,sample_weight=testFactory.weights),\n",
      "    auc_stupid_lcurve.append( auc)    \n",
      "    #grdy\n",
      "    pred = testFactory.predict(res_greedy[:i])\n",
      "    auc = metrics.roc_auc_score(testFactory.labels,pred,sample_weight=testFactory.weights),\n",
      "    auc_greedy_lcurve.append( auc)\n",
      "    #split\n",
      "    trees_i = {code:trees_splitted[code][:i] for code in trees_splitted}\n",
      "    pred = hierarchy.predict_splitted(testFactory,criteria[:2],trees_i)\n",
      "\n",
      "    auc = metrics.roc_auc_score(testFactory.labels,pred,sample_weight=testFactory.weights),\n",
      "    auc_splitted_lcurve.append( auc)"
     ],
     "language": "python",
     "metadata": {},
     "outputs": [],
     "prompt_number": 29
    },
    {
     "cell_type": "code",
     "collapsed": false,
     "input": [
      "p = range(1,n_trees)\n",
      "plt.figure(figsize = [14,14])\n",
      "plt.plot(p,[0.935834322801 for i in range(1,n_trees)],label = \"full\")\n",
      "plt.plot(p,auc_stupid_lcurve[1:n_trees],label = \"stupid\")\n",
      "plt.plot(p,auc_greedy_lcurve[1:n_trees],label = \"greedy\")\n",
      "plt.plot(p,auc_splitted_lcurve[1:n_trees],label = \"splitted\")\n",
      "plt.title('learning curves')\n",
      "plt.legend(loc=\"lower right\")\n"
     ],
     "language": "python",
     "metadata": {},
     "outputs": [
      {
       "metadata": {},
       "output_type": "pyout",
       "prompt_number": 30,
       "text": [
        "<matplotlib.legend.Legend at 0x18c48550>"
       ]
      },
      {
       "metadata": {},
       "output_type": "display_data",
       "png": "[encoded data removed]",
       "text": [
        "<matplotlib.figure.Figure at 0x2a754860>"
       ]
      }
     ],
     "prompt_number": 30
    },
    {
     "cell_type": "markdown",
     "metadata": {},
     "source": [
      "#ROC at 10"
     ]
    },
    {
     "cell_type": "code",
     "collapsed": false,
     "input": [
      "y_pred_greedy_10 = testFactory.predict(res_greedy[:10])\n",
      "y_pred_stupid_10 = testFactory.predict(trees[:10])\n",
      "y_pred_splitted_10 =  predict_splitted(testFactory,criteria[:2], {code:trees_splitted[code][:10] for code in trees_splitted})"
     ],
     "language": "python",
     "metadata": {},
     "outputs": [
      {
       "ename": "NameError",
       "evalue": "name 'predict_splitted' is not defined",
       "output_type": "pyerr",
       "traceback": [
        "\u001b[1;31m---------------------------------------------------------------------------\u001b[0m\n\u001b[1;31mNameError\u001b[0m                                 Traceback (most recent call last)",
        "\u001b[1;32m<ipython-input-31-c1f4849b030a>\u001b[0m in \u001b[0;36m<module>\u001b[1;34m()\u001b[0m\n\u001b[0;32m      1\u001b[0m \u001b[0my_pred_greedy_10\u001b[0m \u001b[1;33m=\u001b[0m \u001b[0mtestFactory\u001b[0m\u001b[1;33m.\u001b[0m\u001b[0mpredict\u001b[0m\u001b[1;33m(\u001b[0m\u001b[0mres_greedy\u001b[0m\u001b[1;33m[\u001b[0m\u001b[1;33m:\u001b[0m\u001b[1;36m10\u001b[0m\u001b[1;33m]\u001b[0m\u001b[1;33m)\u001b[0m\u001b[1;33m\u001b[0m\u001b[0m\n\u001b[0;32m      2\u001b[0m \u001b[0my_pred_stupid_10\u001b[0m \u001b[1;33m=\u001b[0m \u001b[0mtestFactory\u001b[0m\u001b[1;33m.\u001b[0m\u001b[0mpredict\u001b[0m\u001b[1;33m(\u001b[0m\u001b[0mtrees\u001b[0m\u001b[1;33m[\u001b[0m\u001b[1;33m:\u001b[0m\u001b[1;36m10\u001b[0m\u001b[1;33m]\u001b[0m\u001b[1;33m)\u001b[0m\u001b[1;33m\u001b[0m\u001b[0m\n\u001b[1;32m----> 3\u001b[1;33m \u001b[0my_pred_splitted_10\u001b[0m \u001b[1;33m=\u001b[0m  \u001b[0mpredict_splitted\u001b[0m\u001b[1;33m(\u001b[0m\u001b[0mtestFactory\u001b[0m\u001b[1;33m,\u001b[0m\u001b[0mcriteria\u001b[0m\u001b[1;33m[\u001b[0m\u001b[1;33m:\u001b[0m\u001b[1;36m2\u001b[0m\u001b[1;33m]\u001b[0m\u001b[1;33m,\u001b[0m \u001b[1;33m{\u001b[0m\u001b[0mcode\u001b[0m\u001b[1;33m:\u001b[0m\u001b[0mtrees_splitted\u001b[0m\u001b[1;33m[\u001b[0m\u001b[0mcode\u001b[0m\u001b[1;33m]\u001b[0m\u001b[1;33m[\u001b[0m\u001b[1;33m:\u001b[0m\u001b[1;36m10\u001b[0m\u001b[1;33m]\u001b[0m \u001b[1;32mfor\u001b[0m \u001b[0mcode\u001b[0m \u001b[1;32min\u001b[0m \u001b[0mtrees_splitted\u001b[0m\u001b[1;33m}\u001b[0m\u001b[1;33m)\u001b[0m\u001b[1;33m\u001b[0m\u001b[0m\n\u001b[0m",
        "\u001b[1;31mNameError\u001b[0m: name 'predict_splitted' is not defined"
       ]
      }
     ],
     "prompt_number": 31
    },
    {
     "cell_type": "code",
     "collapsed": false,
     "input": [
      "# Plot ROC curve\n",
      "plt.figure(figsize = [14,14])\n",
      "fpr, tpr, _ = metrics.roc_curve(Yts, y_pred_full,sample_weight=testFactory.weights)\n",
      "plt.plot(fpr, tpr,\n",
      "         label='Full boost classi 10k trees')\n",
      "fpr, tpr, _ = metrics.roc_curve(Yts, y_pred_stupid_10,sample_weight=testFactory.weights)\n",
      "plt.plot(fpr, tpr,\n",
      "         label='first N trees classi')\n",
      "fpr, tpr, _ = metrics.roc_curve(Yts, y_pred_greedy_10,sample_weight=testFactory.weights)\n",
      "plt.plot(fpr, tpr,\n",
      "         label='Greedy prune classi')\n",
      "fpr, tpr, _ = metrics.roc_curve(Yts, y_pred_splitted_10,sample_weight=testFactory.weights)\n",
      "plt.plot(fpr, tpr,\n",
      "         label='4-leaf split classi')\n",
      "\n",
      "\n",
      "plt.plot([0, 1], [0, 1], 'k--')\n",
      "plt.xlim([0.0, 1.0])\n",
      "plt.ylim([0.0, 1.05])\n",
      "plt.xlabel('False Positive Rate')\n",
      "plt.ylabel('True Positive Rate')\n",
      "plt.title('ROC curves at 10 trees')\n",
      "plt.legend(loc=\"lower right\")\n",
      "plt.show()"
     ],
     "language": "python",
     "metadata": {},
     "outputs": []
    },
    {
     "cell_type": "markdown",
     "metadata": {},
     "source": [
      "#ROC at 30"
     ]
    },
    {
     "cell_type": "code",
     "collapsed": false,
     "input": [
      "y_pred_greedy_30 = testFactory.predict(res_greedy[:30])\n",
      "y_pred_stupid_30 = testFactory.predict(trees[:30])\n",
      "y_pred_splitted_30 =  predict_splitted(testFactory,criteria[:2], {code:trees_splitted[code][:30] for code in trees_splitted})"
     ],
     "language": "python",
     "metadata": {},
     "outputs": []
    },
    {
     "cell_type": "code",
     "collapsed": false,
     "input": [
      "# Plot ROC curve\n",
      "plt.figure(figsize = [14,14])\n",
      "fpr, tpr, _ = metrics.roc_curve(Yts, y_pred_full,sample_weight=testFactory.weights)\n",
      "plt.plot(fpr, tpr,\n",
      "         label='Full boost classi 10k trees')\n",
      "fpr, tpr, _ = metrics.roc_curve(Yts, y_pred_stupid_30,sample_weight=testFactory.weights)\n",
      "plt.plot(fpr, tpr,\n",
      "         label='first N trees classi')\n",
      "fpr, tpr, _ = metrics.roc_curve(Yts, y_pred_greedy_30,sample_weight=testFactory.weights)\n",
      "plt.plot(fpr, tpr,\n",
      "         label='Greedy prune classi')\n",
      "fpr, tpr, _ = metrics.roc_curve(Yts, y_pred_splitted_30,sample_weight=testFactory.weights)\n",
      "plt.plot(fpr, tpr,\n",
      "         label='4-leaf split classi')\n",
      "\n",
      "\n",
      "plt.plot([0, 1], [0, 1], 'k--')\n",
      "plt.xlim([0.0, 1.0])\n",
      "plt.ylim([0.0, 1.05])\n",
      "plt.xlabel('False Positive Rate')\n",
      "plt.ylabel('True Positive Rate')\n",
      "plt.title('ROC curves at 10 trees')\n",
      "plt.legend(loc=\"lower right\")\n",
      "plt.show()"
     ],
     "language": "python",
     "metadata": {},
     "outputs": []
    },
    {
     "cell_type": "markdown",
     "metadata": {},
     "source": [
      "#ROC at 100"
     ]
    },
    {
     "cell_type": "code",
     "collapsed": false,
     "input": [
      "y_pred_greedy_100 = testFactory.predict(res_greedy[:100])\n",
      "y_pred_stupid_100 = testFactory.predict(trees[:100])\n",
      "y_pred_splitted_100 =  predict_splitted(testFactory,criteria[:2], {code:trees_splitted[code][:100] for code in trees_splitted})"
     ],
     "language": "python",
     "metadata": {},
     "outputs": []
    },
    {
     "cell_type": "code",
     "collapsed": false,
     "input": [
      "# Plot ROC curve\n",
      "plt.figure(figsize = [14,14])\n",
      "fpr, tpr, _ = metrics.roc_curve(Yts, y_pred_full,sample_weight=testFactory.weights)\n",
      "plt.plot(fpr, tpr,\n",
      "         label='Full boost classi 10k trees')\n",
      "fpr, tpr, _ = metrics.roc_curve(Yts, y_pred_stupid_100,sample_weight=testFactory.weights)\n",
      "plt.plot(fpr, tpr,\n",
      "         label='first N trees classi')\n",
      "fpr, tpr, _ = metrics.roc_curve(Yts, y_pred_greedy_100,sample_weight=testFactory.weights)\n",
      "plt.plot(fpr, tpr,\n",
      "         label='Greedy prune classi')\n",
      "fpr, tpr, _ = metrics.roc_curve(Yts, y_pred_splitted_100,sample_weight=testFactory.weights)\n",
      "plt.plot(fpr, tpr,\n",
      "         label='4-leaf split classi')\n",
      "\n",
      "\n",
      "plt.plot([0, 1], [0, 1], 'k--')\n",
      "plt.xlim([0.0, 1.0])\n",
      "plt.ylim([0.0, 1.05])\n",
      "plt.xlabel('False Positive Rate')\n",
      "plt.ylabel('True Positive Rate')\n",
      "plt.title('ROC curves at 100 trees')\n",
      "plt.legend(loc=\"lower right\")\n",
      "plt.show()"
     ],
     "language": "python",
     "metadata": {},
     "outputs": []
    },
    {
     "cell_type": "markdown",
     "metadata": {},
     "source": [
      "#kinda..."
     ]
    }
   ],
   "metadata": {}
  }
 ]
}