{
 "metadata": {
  "name": "",
  "signature": "sha256:2edb500ea913ce5ee76586b7a195011a6571e4e84542a4d83aceed6f0f148948"
 },
 "nbformat": 3,
 "nbformat_minor": 0,
 "worksheets": [
  {
   "cells": [
    {
     "cell_type": "code",
     "collapsed": false,
     "input": [
      "# I explore the cuts of the features\n",
      "%matplotlib inline\n",
      "#\u0442\u0430\u043a \u0442\u043e\u0436\u0435 \u043c\u043e\u0436\u043d\u043e \u0440\u0435\u0448\u0438\u0442\u044c \u043f\u0440\u043e\u0431\u043b\u0435\u043c\u0443 \u0438\u043d\u043b\u0430\u0439\u043b\u0430 \u043f\u043b\u043e\u0442\u043e\u0432\n",
      "\n",
      "import matplotlib.pyplot as plt\n",
      "import numpy as np\n",
      "\n",
      "import sklearn.metrics as metrics\n",
      "from sklearn.externals import joblib\n",
      "from sklearn import cross_validation as cv\n",
      "\n",
      "import _matrixnetapplier as mnet\n",
      "import copy\n",
      "import random\n"
     ],
     "language": "python",
     "metadata": {},
     "outputs": [],
     "prompt_number": 23
    },
    {
     "cell_type": "markdown",
     "metadata": {},
     "source": [
      "# Extracting the trained model"
     ]
    },
    {
     "cell_type": "code",
     "collapsed": false,
     "input": [
      "itr,trees = mnet.get_trees(\"formula/formula.mx\")\n",
      "n_features = 30\n",
      "print itr"
     ],
     "language": "python",
     "metadata": {},
     "outputs": [
      {
       "output_type": "stream",
       "stream": "stdout",
       "text": [
        "(6, 10000, <generator object _iterate_over_trees_with_fixed_depth at 0x0000000018395F78>)\n"
       ]
      }
     ],
     "prompt_number": 24
    },
    {
     "cell_type": "markdown",
     "metadata": {},
     "source": [
      "# Loading dataset"
     ]
    },
    {
     "cell_type": "code",
     "collapsed": false,
     "input": [
      "#load training set\n",
      "def load_data(path):\n",
      "    print 'Loading training data...'\n",
      "    data = np.loadtxt(path, \\\n",
      "            delimiter=',', \\\n",
      "            skiprows=1, \\\n",
      "            converters={32: lambda x:int(x=='s'.encode('utf-8'))})\n",
      "\n",
      "    X = data[:,1:31]\n",
      "    Y = data[:,32]\n",
      "    W = data[:,31]\n",
      "    print \"Loaded.\"\n",
      "    return X,Y,W"
     ],
     "language": "python",
     "metadata": {},
     "outputs": [],
     "prompt_number": 25
    },
    {
     "cell_type": "code",
     "collapsed": false,
     "input": [
      "X,Y,W = load_data(\"data/training.csv\")"
     ],
     "language": "python",
     "metadata": {},
     "outputs": [
      {
       "output_type": "stream",
       "stream": "stdout",
       "text": [
        "Loading training data...\n",
        "Loaded."
       ]
      },
      {
       "output_type": "stream",
       "stream": "stdout",
       "text": [
        "\n"
       ]
      }
     ],
     "prompt_number": 26
    },
    {
     "cell_type": "code",
     "collapsed": false,
     "input": [
      "from sklearn.cross_validation import train_test_split\n",
      "Xtr,Xts,Ytr,Yts,Wtr,Wts = train_test_split(X, Y, W, train_size=0.51, random_state=42)"
     ],
     "language": "python",
     "metadata": {},
     "outputs": [],
     "prompt_number": 27
    },
    {
     "cell_type": "code",
     "collapsed": false,
     "input": [
      "from factory import DataFactory\n",
      "trainFactory = DataFactory(Xtr,Ytr,Wtr)\n",
      "testFactory = DataFactory(Xts,Yts,Wts)"
     ],
     "language": "python",
     "metadata": {},
     "outputs": [],
     "prompt_number": 28
    },
    {
     "cell_type": "code",
     "collapsed": false,
     "input": [
      "#equalize classes, normalize weights\n",
      "trainFactory.equalizeWeights()\n",
      "print sum(trainFactory.weights[trainFactory.labels==1]),\n",
      "print sum(trainFactory.weights[trainFactory.labels==0]),\n",
      "print sum(trainFactory.weights),"
     ],
     "language": "python",
     "metadata": {},
     "outputs": [
      {
       "output_type": "stream",
       "stream": "stdout",
       "text": [
        "0.5 0.5 0.999999999999\n"
       ]
      }
     ],
     "prompt_number": 29
    },
    {
     "cell_type": "markdown",
     "metadata": {},
     "source": [
      "#sanity check"
     ]
    },
    {
     "cell_type": "code",
     "collapsed": false,
     "input": [
      "def compute_ams_on_cuts(answers, predictions, sample_weight):\n",
      "    \"\"\" Predictions are probabilities\"\"\"\n",
      "    b, s, thresholds = metrics.roc_curve(answers, predictions, sample_weight=sample_weight)\n",
      "    # normalization constants\n",
      "    real_s = 691.988607712\n",
      "    real_b = 410999.847322\n",
      "    s *= real_s\n",
      "    b *= real_b\n",
      "    br = 10.\n",
      "    radicands = 2 * ((s + b + br) * np.log(1.0 + s/(b + br)) - s)\n",
      "    return thresholds, radicands\n",
      "\n",
      "def optimal_AMS(answers, predictions, sample_weight):\n",
      "    \"\"\" Predictions are probabilities \"\"\"\n",
      "    cuts, radicands = compute_ams_on_cuts(answers, predictions, sample_weight)\n",
      "    return np.sqrt(np.max(radicands))\n",
      "\n",
      "\n",
      "def precisionAt15(answers, predictions, sample_weight, percent=0.15):\n",
      "    n_passed = int(len(answers) * percent)\n",
      "    RATIO = 50\n",
      "    weight = sample_weight.copy()\n",
      "    weight[answers == 0] /= weight[answers == 0].mean() / RATIO\n",
      "    weight[answers == 1] /= weight[answers == 1].mean()\n",
      "    order = np.argsort(-predictions)\n",
      "    passed = order[:n_passed]    \n",
      "    return np.average(answers[passed], weights=weight[passed])"
     ],
     "language": "python",
     "metadata": {},
     "outputs": [],
     "prompt_number": 30
    },
    {
     "cell_type": "code",
     "collapsed": false,
     "input": [
      "def print_control_metrics(proba_test, proba_train):\n",
      "    for name, metric in [('ROC', metrics.roc_auc_score), ('AMS', optimal_AMS), ('precision', precisionAt15)]:\n",
      "        print name,\n",
      "        print metric(Yts, proba_test, sample_weight=Wts), \n",
      "        print metric(Ytr, proba_train, sample_weight=Wtr)"
     ],
     "language": "python",
     "metadata": {},
     "outputs": [],
     "prompt_number": 31
    },
    {
     "cell_type": "code",
     "collapsed": false,
     "input": [
      "%%time\n",
      "print_control_metrics(testFactory.predict(trees),trainFactory.predict(trees))"
     ],
     "language": "python",
     "metadata": {},
     "outputs": []
    },
    {
     "cell_type": "markdown",
     "metadata": {},
     "source": [
      "# greedy pruning for the whole data"
     ]
    },
    {
     "cell_type": "code",
     "collapsed": false,
     "input": [
      "import greedy\n",
      "from loss_functions import LogLoss"
     ],
     "language": "python",
     "metadata": {},
     "outputs": [],
     "prompt_number": 32
    },
    {
     "cell_type": "code",
     "collapsed": false,
     "input": [
      "print 50./trainFactory.n_events*sum(trainFactory.weights)"
     ],
     "language": "python",
     "metadata": {},
     "outputs": [
      {
       "output_type": "stream",
       "stream": "stdout",
       "text": [
        "0.000392156862745\n"
       ]
      }
     ],
     "prompt_number": 33
    },
    {
     "cell_type": "code",
     "collapsed": false,
     "input": [
      "%%time\n",
      "res_greedy = greedy.greed_up_features_bfs(trees,trainFactory,LogLoss,.3,1,10,10,True,1.,0,regularizer=0.000392156862745)"
     ],
     "language": "python",
     "metadata": {},
     "outputs": [
      {
       "output_type": "stream",
       "stream": "stdout",
       "text": [
        "\n",
        "iteration # 0  ntrees =  1 \n",
        "best loss =  0.624984679656\n",
        "learning_rate =  0.3\n",
        "sample_size 10\n",
        "\n",
        "iteration #"
       ]
      },
      {
       "output_type": "stream",
       "stream": "stdout",
       "text": [
        " 1  ntrees =  2 \n",
        "best loss =  0.563829959222 \n",
        "last loss =  0.563829959222\n",
        "learning_rate =  0.3\n",
        "sample_size 10\n",
        "\n",
        "iteration #"
       ]
      },
      {
       "output_type": "stream",
       "stream": "stdout",
       "text": [
        " 2  ntrees =  3 \n",
        "best loss =  0.521207759997 \n",
        "last loss =  0.521207759997\n",
        "learning_rate =  0.3\n",
        "sample_size 10\n",
        "\n",
        "iteration #"
       ]
      },
      {
       "output_type": "stream",
       "stream": "stdout",
       "text": [
        " 3  ntrees =  4 \n",
        "best loss =  0.488134568491 \n",
        "last loss =  0.488134568491\n",
        "learning_rate =  0.3\n",
        "sample_size 10\n",
        "\n",
        "iteration #"
       ]
      },
      {
       "output_type": "stream",
       "stream": "stdout",
       "text": [
        " 4  ntrees =  5 \n",
        "best loss =  0.449189341388 \n",
        "last loss =  0.449189341388\n",
        "learning_rate =  0.3\n",
        "sample_size 10\n",
        "\n",
        "iteration #"
       ]
      },
      {
       "output_type": "stream",
       "stream": "stdout",
       "text": [
        " 5  ntrees =  6 \n",
        "best loss =  0.437382355441 \n",
        "last loss =  0.437382355441\n",
        "learning_rate =  0.3\n",
        "sample_size 10\n",
        "\n",
        "iteration #"
       ]
      },
      {
       "output_type": "stream",
       "stream": "stdout",
       "text": [
        " 6  ntrees =  7 \n",
        "best loss =  0.413322315798 \n",
        "last loss =  0.413322315798\n",
        "learning_rate =  0.3\n",
        "sample_size 10\n",
        "\n",
        "iteration #"
       ]
      },
      {
       "output_type": "stream",
       "stream": "stdout",
       "text": [
        " 7  ntrees =  8 \n",
        "best loss =  0.405701142671 \n",
        "last loss =  0.405701142671\n",
        "learning_rate =  0.3\n",
        "sample_size 10\n",
        "\n",
        "iteration #"
       ]
      },
      {
       "output_type": "stream",
       "stream": "stdout",
       "text": [
        " 8  ntrees =  9 \n",
        "best loss =  0.396931038558 \n",
        "last loss =  0.396931038558\n",
        "learning_rate =  0.3\n",
        "sample_size 10\n",
        "\n",
        "iteration #"
       ]
      },
      {
       "output_type": "stream",
       "stream": "stdout",
       "text": [
        " 9  ntrees =  10 \n",
        "best loss =  0.389739864623 \n",
        "last loss =  0.389739864623\n",
        "learning_rate =  0.3\n",
        "sample_size 10\n",
        "Wall time: 2.36 s\n"
       ]
      }
     ],
     "prompt_number": 35
    },
    {
     "cell_type": "code",
     "collapsed": false,
     "input": [
      "res_greedy_wheel = greedy.wheel_up_features_bfs (copy.copy(res_greedy),\n",
      "                           trees,\n",
      "                           trainFactory,\n",
      "                           LogLoss,\n",
      "                           .301,\n",
      "                           30,\n",
      "                           10,\n",
      "                           verbose = True,\n",
      "                           learning_rate_decay = 1.,\n",
      "                           trees_sample_increase = 0,\n",
      "                           regularizer = 0.000392156862745,\n",
      "                           random_walk = True)"
     ],
     "language": "python",
     "metadata": {},
     "outputs": [
      {
       "output_type": "stream",
       "stream": "stdout",
       "text": [
        "\n",
        "iteration # 0  ntrees =  10 \n",
        "best loss =  0.389739864623\n",
        "learning_rate =  0.301\n",
        "sample_size 10\n",
        "\n",
        "iteration #"
       ]
      },
      {
       "output_type": "stream",
       "stream": "stdout",
       "text": [
        " 1  ntrees =  10 \n",
        "best loss =  0.389739864623 \n",
        "last loss =  0.39434556692\n",
        "changed index 4\n",
        "learning_rate =  0.301\n",
        "sample_size 10\n",
        "\n",
        "iteration #"
       ]
      },
      {
       "output_type": "stream",
       "stream": "stdout",
       "text": [
        " 2  ntrees =  10 \n",
        "best loss =  0.389739864623 \n",
        "last loss =  0.392999149175\n",
        "changed index 2\n",
        "learning_rate =  0.301\n",
        "sample_size 10\n",
        "\n",
        "iteration #"
       ]
      },
      {
       "output_type": "stream",
       "stream": "stdout",
       "text": [
        " 3  ntrees =  10 \n",
        "best loss =  0.389739864623 \n",
        "last loss =  0.391628695399\n",
        "changed index 6\n",
        "learning_rate =  0.301\n",
        "sample_size 10\n",
        "\n",
        "iteration #"
       ]
      },
      {
       "output_type": "stream",
       "stream": "stdout",
       "text": [
        " 4  ntrees =  10 \n",
        "best loss =  0.38971923781 \n",
        "last loss =  0.38971923781\n",
        "changed index 9\n",
        "learning_rate =  0.301\n",
        "sample_size 10\n",
        "\n",
        "iteration #"
       ]
      },
      {
       "output_type": "stream",
       "stream": "stdout",
       "text": [
        " 5  ntrees =  10 \n",
        "best loss =  0.38971923781 \n",
        "last loss =  0.391608888234\n",
        "changed index 6\n",
        "learning_rate =  0.301\n",
        "sample_size 10\n",
        "\n",
        "iteration #"
       ]
      },
      {
       "output_type": "stream",
       "stream": "stdout",
       "text": [
        " 6  ntrees =  10 \n",
        "best loss =  0.38971923781 \n",
        "last loss =  0.389868506154\n",
        "changed index 8\n",
        "learning_rate =  0.301\n",
        "sample_size 10\n",
        "\n",
        "iteration #"
       ]
      },
      {
       "output_type": "stream",
       "stream": "stdout",
       "text": [
        " 7  ntrees =  10 \n",
        "best loss =  0.387322562227 \n",
        "last loss =  0.387322562227\n",
        "changed index 9\n",
        "learning_rate =  0.301\n",
        "sample_size 10\n",
        "\n",
        "iteration #"
       ]
      },
      {
       "output_type": "stream",
       "stream": "stdout",
       "text": [
        " 8  ntrees =  10 \n",
        "best loss =  0.387322562227 \n",
        "last loss =  0.391920823176\n",
        "changed index 2\n",
        "learning_rate =  0.301\n",
        "sample_size 10\n",
        "\n",
        "iteration #"
       ]
      },
      {
       "output_type": "stream",
       "stream": "stdout",
       "text": [
        " 9  ntrees =  10 \n",
        "best loss =  0.386565708958 \n",
        "last loss =  0.386565708958\n",
        "changed index 7\n",
        "learning_rate =  0.301\n",
        "sample_size 10\n",
        "\n",
        "iteration #"
       ]
      },
      {
       "output_type": "stream",
       "stream": "stdout",
       "text": [
        " 10  ntrees =  10 \n",
        "best loss =  0.386565708958 \n",
        "last loss =  0.386959880198\n",
        "changed index 8\n",
        "learning_rate =  0.301\n",
        "sample_size 10\n",
        "\n",
        "iteration #"
       ]
      },
      {
       "output_type": "stream",
       "stream": "stdout",
       "text": [
        " 11  ntrees =  10 \n",
        "best loss =  0.386565708958 \n",
        "last loss =  0.386959880198\n",
        "changed index 8\n",
        "learning_rate =  0.301\n",
        "sample_size 10\n",
        "\n",
        "iteration #"
       ]
      },
      {
       "output_type": "stream",
       "stream": "stdout",
       "text": [
        " 12  ntrees =  10 \n",
        "best loss =  0.383032988362 \n",
        "last loss =  0.383032988362\n",
        "changed index 7\n",
        "learning_rate =  0.301\n",
        "sample_size 10\n",
        "\n",
        "iteration #"
       ]
      },
      {
       "output_type": "stream",
       "stream": "stdout",
       "text": [
        " 13  ntrees =  10 \n",
        "best loss =  0.383032988362 \n",
        "last loss =  0.389306024765\n",
        "changed index 0\n",
        "learning_rate =  0.301\n",
        "sample_size 10\n",
        "\n",
        "iteration #"
       ]
      },
      {
       "output_type": "stream",
       "stream": "stdout",
       "text": [
        " 14  ntrees =  10 \n",
        "best loss =  0.383032988362 \n",
        "last loss =  0.386611076362\n",
        "changed index 3\n",
        "learning_rate =  0.301\n",
        "sample_size 10\n",
        "\n",
        "iteration #"
       ]
      },
      {
       "output_type": "stream",
       "stream": "stdout",
       "text": [
        " 15  ntrees =  10 \n",
        "best loss =  0.383032988362 \n",
        "last loss =  0.383032988362\n",
        "changed index 7\n",
        "learning_rate =  0.301\n",
        "sample_size 10\n",
        "\n",
        "iteration #"
       ]
      },
      {
       "output_type": "stream",
       "stream": "stdout",
       "text": [
        " 16  ntrees =  10 \n",
        "best loss =  0.382455023024 \n",
        "last loss =  0.382455023024\n",
        "changed index 8\n",
        "learning_rate =  0.301\n",
        "sample_size 10\n",
        "\n",
        "iteration #"
       ]
      },
      {
       "output_type": "stream",
       "stream": "stdout",
       "text": [
        " 17  ntrees =  10 \n",
        "best loss =  0.382455023024 \n",
        "last loss =  0.386977584632\n",
        "changed index 0\n",
        "learning_rate =  0.301\n",
        "sample_size 10\n",
        "\n",
        "iteration #"
       ]
      },
      {
       "output_type": "stream",
       "stream": "stdout",
       "text": [
        " 18  ntrees =  10 \n",
        "best loss =  0.381911582207 \n",
        "last loss =  0.381911582207\n",
        "changed index 7\n",
        "learning_rate =  0.301\n",
        "sample_size 10\n",
        "\n",
        "iteration #"
       ]
      },
      {
       "output_type": "stream",
       "stream": "stdout",
       "text": [
        " 19  ntrees =  10 \n",
        "best loss =  0.380339819355 \n",
        "last loss =  0.380339819355\n",
        "changed index 8\n",
        "learning_rate =  0.301\n",
        "sample_size 10\n",
        "\n",
        "iteration #"
       ]
      },
      {
       "output_type": "stream",
       "stream": "stdout",
       "text": [
        " 20  ntrees =  10 \n",
        "best loss =  0.380339819355 \n",
        "last loss =  0.383852531449\n",
        "changed index 3\n",
        "learning_rate =  0.301\n",
        "sample_size 10\n",
        "\n",
        "iteration #"
       ]
      },
      {
       "output_type": "stream",
       "stream": "stdout",
       "text": [
        " 21  ntrees =  10 \n",
        "best loss =  0.380339819355 \n",
        "last loss =  0.385021696475\n",
        "changed index 4\n",
        "learning_rate =  0.301\n",
        "sample_size 10\n",
        "\n",
        "iteration #"
       ]
      },
      {
       "output_type": "stream",
       "stream": "stdout",
       "text": [
        " 22  ntrees =  10 \n",
        "best loss =  0.380339819355 \n",
        "last loss =  0.380847375609\n",
        "changed index 7\n",
        "learning_rate =  0.301\n",
        "sample_size 10\n",
        "\n",
        "iteration #"
       ]
      },
      {
       "output_type": "stream",
       "stream": "stdout",
       "text": [
        " 23  ntrees =  10 \n",
        "best loss =  0.380339819355 \n",
        "last loss =  0.383990502476\n",
        "changed index 1\n",
        "learning_rate =  0.301\n",
        "sample_size 10\n",
        "\n",
        "iteration #"
       ]
      },
      {
       "output_type": "stream",
       "stream": "stdout",
       "text": [
        " 24  ntrees =  10 \n",
        "best loss =  0.380339819355 \n",
        "last loss =  0.385269668943\n",
        "changed index 1\n",
        "learning_rate =  0.301\n",
        "sample_size 10\n",
        "\n",
        "iteration #"
       ]
      },
      {
       "output_type": "stream",
       "stream": "stdout",
       "text": [
        " 25  ntrees =  10 \n",
        "best loss =  0.380339819355 \n",
        "last loss =  0.380339819355\n",
        "changed index 8\n",
        "learning_rate =  0.301\n",
        "sample_size 10\n",
        "\n",
        "iteration #"
       ]
      },
      {
       "output_type": "stream",
       "stream": "stdout",
       "text": [
        " 26  ntrees =  10 \n",
        "best loss =  0.380339819355 \n",
        "last loss =  0.381071579813\n",
        "changed index 2\n",
        "learning_rate =  0.301\n",
        "sample_size 10\n",
        "\n",
        "iteration #"
       ]
      },
      {
       "output_type": "stream",
       "stream": "stdout",
       "text": [
        " 27  ntrees =  10 \n",
        "best loss =  0.380339819355 \n",
        "last loss =  0.380709945784\n",
        "changed index 9\n",
        "learning_rate =  0.301\n",
        "sample_size 10\n",
        "\n",
        "iteration #"
       ]
      },
      {
       "output_type": "stream",
       "stream": "stdout",
       "text": [
        " 28  ntrees =  10 \n",
        "best loss =  0.380339819355 \n",
        "last loss =  0.380339819355\n",
        "changed index 8\n",
        "learning_rate =  0.301\n",
        "sample_size 10\n",
        "\n",
        "iteration #"
       ]
      },
      {
       "output_type": "stream",
       "stream": "stdout",
       "text": [
        " 29  ntrees =  10 \n",
        "best loss =  0.380339819355 \n",
        "last loss =  0.383852531449\n",
        "changed index 3\n",
        "learning_rate =  0.301\n",
        "sample_size 10\n",
        "\n",
        "iteration #"
       ]
      },
      {
       "output_type": "stream",
       "stream": "stdout",
       "text": [
        " 30  ntrees =  10 \n",
        "best loss =  0.380339819355 \n",
        "last loss =  0.380339819355\n",
        "changed index 8\n",
        "learning_rate =  0.301\n",
        "sample_size 10\n"
       ]
      }
     ],
     "prompt_number": 53
    },
    {
     "cell_type": "code",
     "collapsed": false,
     "input": [
      "y_pred_stupid = greedy.predict(testFactory,trees[:100])\n",
      "y_pred_full = greedy.predict(testFactory,trees)"
     ],
     "language": "python",
     "metadata": {},
     "outputs": [],
     "prompt_number": 37
    },
    {
     "cell_type": "code",
     "collapsed": false,
     "input": [
      "y_pred_greedy = testFactory.predict(res_greedy[:100])\n",
      "y_pred_wheel = testFactory.predict(res_greedy_wheel[:100])"
     ],
     "language": "python",
     "metadata": {},
     "outputs": [],
     "prompt_number": 54
    },
    {
     "cell_type": "code",
     "collapsed": false,
     "input": [
      "w_test = testFactory.weights\n",
      "\n",
      "print metrics.roc_auc_score(Yts,y_pred_greedy,sample_weight=w_test),\n",
      "print metrics.roc_auc_score(Yts,y_pred_wheel,sample_weight=w_test),\n",
      "print metrics.roc_auc_score(Yts,y_pred_stupid,sample_weight=w_test),\n",
      "print metrics.roc_auc_score(Yts,y_pred_full,sample_weight=w_test)\n",
      "print \"well...\""
     ],
     "language": "python",
     "metadata": {},
     "outputs": [
      {
       "output_type": "stream",
       "stream": "stdout",
       "text": [
        "0.914814481037 "
       ]
      },
      {
       "output_type": "stream",
       "stream": "stdout",
       "text": [
        "0.916003794567 "
       ]
      },
      {
       "output_type": "stream",
       "stream": "stdout",
       "text": [
        "0.916904744001 "
       ]
      },
      {
       "output_type": "stream",
       "stream": "stdout",
       "text": [
        "0.935834322801\n",
        "well...\n"
       ]
      }
     ],
     "prompt_number": 55
    },
    {
     "cell_type": "code",
     "collapsed": false,
     "input": [
      "_ = joblib.dump(res_greedy,\"dumps/greedy 100 trees\")\n",
      "_ = joblib.dump(res_greedy,\"dumps/greedy 100 trees pod kol\u0451sami\")"
     ],
     "language": "python",
     "metadata": {},
     "outputs": []
    },
    {
     "cell_type": "markdown",
     "metadata": {},
     "source": [
      "# Upper level thresholds extraction"
     ]
    },
    {
     "cell_type": "code",
     "collapsed": false,
     "input": [
      "#usability distribution\n",
      "thresholds = mnet.get_thresholds(trees,30,0.001)"
     ],
     "language": "python",
     "metadata": {},
     "outputs": [],
     "prompt_number": 40
    },
    {
     "cell_type": "code",
     "collapsed": false,
     "input": [
      "plt.scatter(range(len(thresholds)),thresholds[:,2])\n",
      "print sum(thresholds[:,2] >150)"
     ],
     "language": "python",
     "metadata": {},
     "outputs": [
      {
       "output_type": "stream",
       "stream": "stdout",
       "text": [
        "96\n"
       ]
      },
      {
       "metadata": {},
       "output_type": "display_data",
       "png": "[encoded data removed]",
       "text": [
        "<matplotlib.figure.Figure at 0x2a90d080>"
       ]
      }
     ],
     "prompt_number": 41
    },
    {
     "cell_type": "markdown",
     "metadata": {},
     "source": [
      "# Criteria selection"
     ]
    },
    {
     "cell_type": "code",
     "collapsed": false,
     "input": [
      "import hierarchy"
     ],
     "language": "python",
     "metadata": {},
     "outputs": [],
     "prompt_number": 42
    },
    {
     "cell_type": "code",
     "collapsed": false,
     "input": [
      "#get them...\n",
      "thresholds_active = thresholds[thresholds[:,2]>100]\n",
      "print len(thresholds_active)\n",
      "criteria = hierarchy.select_criteria(trainFactory,thresholds_active,3,True)"
     ],
     "language": "python",
     "metadata": {},
     "outputs": [
      {
       "output_type": "stream",
       "stream": "stdout",
       "text": [
        "190\n",
        "s:"
       ]
      },
      {
       "output_type": "stream",
       "stream": "stdout",
       "text": [
        " [81387L, 46113L]\n",
        "w: [0.4995172311764362, 0.50048276882352416]\n",
        "s:"
       ]
      },
      {
       "output_type": "stream",
       "stream": "stdout",
       "text": [
        " [35853L, 45534L, 28287L, 17826L]\n",
        "w: [0.26914160839995621, 0.23037562277645596, 0.27439612166068927, 0.22608664716287472]\n",
        "s:"
       ]
      },
      {
       "output_type": "stream",
       "stream": "stdout",
       "text": [
        " [6226L, 11600L, 18312L, 9975L, 18579L, 17274L, 28399L, 17135L]\n",
        "w: "
       ]
      },
      {
       "output_type": "stream",
       "stream": "stdout",
       "text": [
        "[0.10092029004556231, 0.12516635711728766, 0.16975948409694844, 0.10463663756370174, 0.12697836451232206, 0.14216324388758639, 0.13573214315325532, 0.094643479623169297]\n"
       ]
      },
      {
       "output_type": "stream",
       "stream": "stderr",
       "text": [
        "loss_functions.py:45: RuntimeWarning: divide by zero encountered in log\n",
        "  logs = np.array(map(np.log,distribution))\n"
       ]
      }
     ],
     "prompt_number": 43
    },
    {
     "cell_type": "code",
     "collapsed": false,
     "input": [
      "criteria"
     ],
     "language": "python",
     "metadata": {},
     "outputs": [
      {
       "metadata": {},
       "output_type": "pyout",
       "prompt_number": 44,
       "text": [
        "[array([  21.        ,  147.61599731,  136.        ]),\n",
        " array([   2.        ,   78.67050171,  131.        ]),\n",
        " array([   1.        ,   44.68050003,  153.        ])]"
       ]
      }
     ],
     "prompt_number": 44
    },
    {
     "cell_type": "code",
     "collapsed": false,
     "input": [
      "split = hierarchy.split_upper(trainFactory,criteria[:2],equalizeWeights=False,split_weights=.75,split_inclusion=0.5)\n",
      "print [split[i].events.shape[0] for i in split]\n",
      "print [sum(split[i].weights) for i in split]"
     ],
     "language": "python",
     "metadata": {},
     "outputs": [
      {
       "output_type": "stream",
       "stream": "stdout",
       "text": [
        "[74617L, 82047L, 68962L, 61248L]\n",
        "[0.47844060626966423, 0.46565480792009306, 0.48439329044896512, 0.46401746189945459]"
       ]
      },
      {
       "output_type": "stream",
       "stream": "stdout",
       "text": [
        "\n"
       ]
      }
     ],
     "prompt_number": 45
    },
    {
     "cell_type": "markdown",
     "metadata": {},
     "source": [
      "#Hierarchical stuff"
     ]
    },
    {
     "cell_type": "code",
     "collapsed": false,
     "input": [
      "%%time\n",
      "trees_splitted = hierarchy.train_splitted_boosts(trees, trainFactory,criteria[:2],LogLoss,0.29,1,\n",
      "                                                 10,10,regularizer =0.0004,\n",
      "                                                 verbose=False,use_joblib = True,n_jobs = 4,\n",
      "                                                 weights_outside_leaf = 0.75, inclusion_outside_leaf = 0.5,#0.375 weight\n",
      "                                                 wheel_up_times = 30,wheel_learning_rate = 0.3) \n"
     ],
     "language": "python",
     "metadata": {},
     "outputs": [
      {
       "output_type": "stream",
       "stream": "stdout",
       "text": [
        "fortune-wheeling the trees\n",
        "Wall time: 14 s"
       ]
      },
      {
       "output_type": "stream",
       "stream": "stdout",
       "text": [
        "\n"
       ]
      }
     ],
     "prompt_number": 58
    },
    {
     "cell_type": "code",
     "collapsed": false,
     "input": [
      "%%time\n",
      "trees_splitted = hierarchy.train_splitted_boosts(trees, trainFactory,criteria[:2],LogLoss,0.29,1,\n",
      "                                                 10,10,regularizer =0.0004,\n",
      "                                                 verbose=False,use_joblib = False,\n",
      "                                                 weights_outside_leaf = 0.75, inclusion_outside_leaf = 0.5,#0.375 weight\n",
      "                                                 wheel_up_times = 30,wheel_learning_rate = 0.3) "
     ],
     "language": "python",
     "metadata": {},
     "outputs": [
      {
       "output_type": "stream",
       "stream": "stdout",
       "text": [
        "fortune-wheeling the trees\n",
        "fortune-wheeling the trees"
       ]
      },
      {
       "output_type": "stream",
       "stream": "stdout",
       "text": [
        "\n",
        "fortune-wheeling the trees"
       ]
      },
      {
       "output_type": "stream",
       "stream": "stdout",
       "text": [
        "\n",
        "fortune-wheeling the trees"
       ]
      },
      {
       "output_type": "stream",
       "stream": "stdout",
       "text": [
        "\n",
        "Wall time: 36.6 s"
       ]
      },
      {
       "output_type": "stream",
       "stream": "stdout",
       "text": [
        "\n"
       ]
      }
     ],
     "prompt_number": 60
    },
    {
     "cell_type": "code",
     "collapsed": false,
     "input": [
      "y_pred_splitted= hierarchy.predict_splitted(testFactory,criteria[:2],trees_splitted)"
     ],
     "language": "python",
     "metadata": {},
     "outputs": [],
     "prompt_number": 50
    },
    {
     "cell_type": "code",
     "collapsed": false,
     "input": [
      "_= joblib.dump([criteria,trees_splitted],\"dumps/splitted 100 trees\")"
     ],
     "language": "python",
     "metadata": {},
     "outputs": []
    },
    {
     "cell_type": "code",
     "collapsed": false,
     "input": [
      "w_test = testFactory.weights\n",
      "Yts = testFactory.labels\n",
      "print 'spltd\\t',metrics.roc_auc_score(Yts,y_pred_splitted,sample_weight=w_test)\n",
      "print 'greedy\\t',metrics.roc_auc_score(Yts,y_pred_greedy,sample_weight=w_test)\n",
      "print 'stupid\\t',metrics.roc_auc_score(Yts,y_pred_stupid,sample_weight=w_test)\n",
      "print 'full\\t',metrics.roc_auc_score(Yts,y_pred_full,sample_weight=w_test)\n",
      "print \"well...\"\n"
     ],
     "language": "python",
     "metadata": {},
     "outputs": [
      {
       "output_type": "stream",
       "stream": "stdout",
       "text": [
        "spltd\t0.919768406872"
       ]
      },
      {
       "output_type": "stream",
       "stream": "stdout",
       "text": [
        "\n",
        "greedy\t0.914814481037"
       ]
      },
      {
       "output_type": "stream",
       "stream": "stdout",
       "text": [
        "\n",
        "stupid\t0.916904744001"
       ]
      },
      {
       "output_type": "stream",
       "stream": "stdout",
       "text": [
        "\n",
        "full\t0.935834322801"
       ]
      },
      {
       "output_type": "stream",
       "stream": "stdout",
       "text": [
        "\n",
        "well...\n"
       ]
      }
     ],
     "prompt_number": 51
    },
    {
     "cell_type": "markdown",
     "metadata": {},
     "source": [
      "#learning curves"
     ]
    },
    {
     "cell_type": "code",
     "collapsed": false,
     "input": [
      "#I know it could have been done without quadratic complexity over trees, but...\n",
      "#btw equalizing 1-0 weights for the training set is not optimal in terms of AUC, but it is close to being so.\n",
      "n_trees =100\n",
      "auc_stupid_lcurve = [(0.5,)]\n",
      "auc_greedy_lcurve = [(0.5,)]\n",
      "auc_splitted_lcurve = [(0.5,)]\n",
      "for i in range(1,n_trees):\n",
      "    #stpd\n",
      "    pred = testFactory.predict(trees[:i])\n",
      "    auc = metrics.roc_auc_score(testFactory.labels,pred,sample_weight=testFactory.weights),\n",
      "    auc_stupid_lcurve.append( auc)    \n",
      "    #grdy\n",
      "    pred = testFactory.predict(res_greedy[:i])\n",
      "    auc = metrics.roc_auc_score(testFactory.labels,pred,sample_weight=testFactory.weights),\n",
      "    auc_greedy_lcurve.append( auc)\n",
      "    #split\n",
      "    trees_i = {code:trees_splitted[code][:i] for code in trees_splitted}\n",
      "    pred = predict_splitted(testFactory,criteria[:2],trees_i)\n",
      "\n",
      "    auc = metrics.roc_auc_score(testFactory.labels,pred,sample_weight=testFactory.weights),\n",
      "    auc_splitted_lcurve.append( auc)"
     ],
     "language": "python",
     "metadata": {},
     "outputs": []
    },
    {
     "cell_type": "code",
     "collapsed": false,
     "input": [
      "p = range(1,n_trees)\n",
      "plt.figure(figsize = [14,14])\n",
      "plt.plot(p,[0.935834322801 for i in range(1,n_trees)],label = \"full\")\n",
      "plt.plot(p,auc_stupid_lcurve[1:n_trees],label = \"stupid\")\n",
      "plt.plot(p,auc_greedy_lcurve[1:n_trees],label = \"greedy\")\n",
      "plt.plot(p,auc_splitted_lcurve[1:n_trees],label = \"splitted\")\n",
      "plt.title('learning curves')\n",
      "plt.legend(loc=\"lower right\")\n"
     ],
     "language": "python",
     "metadata": {},
     "outputs": []
    },
    {
     "cell_type": "markdown",
     "metadata": {},
     "source": [
      "#ROC at 10"
     ]
    },
    {
     "cell_type": "code",
     "collapsed": false,
     "input": [
      "y_pred_greedy_10 = testFactory.predict(res_greedy[:10])\n",
      "y_pred_stupid_10 = testFactory.predict(trees[:10])\n",
      "y_pred_splitted_10 =  predict_splitted(testFactory,criteria[:2], {code:trees_splitted[code][:10] for code in trees_splitted})"
     ],
     "language": "python",
     "metadata": {},
     "outputs": []
    },
    {
     "cell_type": "code",
     "collapsed": false,
     "input": [
      "# Plot ROC curve\n",
      "plt.figure(figsize = [14,14])\n",
      "fpr, tpr, _ = metrics.roc_curve(Yts, y_pred_full,sample_weight=testFactory.weights)\n",
      "plt.plot(fpr, tpr,\n",
      "         label='Full boost classi 10k trees')\n",
      "fpr, tpr, _ = metrics.roc_curve(Yts, y_pred_stupid_10,sample_weight=testFactory.weights)\n",
      "plt.plot(fpr, tpr,\n",
      "         label='first N trees classi')\n",
      "fpr, tpr, _ = metrics.roc_curve(Yts, y_pred_greedy_10,sample_weight=testFactory.weights)\n",
      "plt.plot(fpr, tpr,\n",
      "         label='Greedy prune classi')\n",
      "fpr, tpr, _ = metrics.roc_curve(Yts, y_pred_splitted_10,sample_weight=testFactory.weights)\n",
      "plt.plot(fpr, tpr,\n",
      "         label='4-leaf split classi')\n",
      "\n",
      "\n",
      "plt.plot([0, 1], [0, 1], 'k--')\n",
      "plt.xlim([0.0, 1.0])\n",
      "plt.ylim([0.0, 1.05])\n",
      "plt.xlabel('False Positive Rate')\n",
      "plt.ylabel('True Positive Rate')\n",
      "plt.title('ROC curves at 10 trees')\n",
      "plt.legend(loc=\"lower right\")\n",
      "plt.show()"
     ],
     "language": "python",
     "metadata": {},
     "outputs": []
    },
    {
     "cell_type": "markdown",
     "metadata": {},
     "source": [
      "#ROC at 30"
     ]
    },
    {
     "cell_type": "code",
     "collapsed": false,
     "input": [
      "y_pred_greedy_30 = testFactory.predict(res_greedy[:30])\n",
      "y_pred_stupid_30 = testFactory.predict(trees[:30])\n",
      "y_pred_splitted_30 =  predict_splitted(testFactory,criteria[:2], {code:trees_splitted[code][:30] for code in trees_splitted})"
     ],
     "language": "python",
     "metadata": {},
     "outputs": []
    },
    {
     "cell_type": "code",
     "collapsed": false,
     "input": [
      "# Plot ROC curve\n",
      "plt.figure(figsize = [14,14])\n",
      "fpr, tpr, _ = metrics.roc_curve(Yts, y_pred_full,sample_weight=testFactory.weights)\n",
      "plt.plot(fpr, tpr,\n",
      "         label='Full boost classi 10k trees')\n",
      "fpr, tpr, _ = metrics.roc_curve(Yts, y_pred_stupid_30,sample_weight=testFactory.weights)\n",
      "plt.plot(fpr, tpr,\n",
      "         label='first N trees classi')\n",
      "fpr, tpr, _ = metrics.roc_curve(Yts, y_pred_greedy_30,sample_weight=testFactory.weights)\n",
      "plt.plot(fpr, tpr,\n",
      "         label='Greedy prune classi')\n",
      "fpr, tpr, _ = metrics.roc_curve(Yts, y_pred_splitted_30,sample_weight=testFactory.weights)\n",
      "plt.plot(fpr, tpr,\n",
      "         label='4-leaf split classi')\n",
      "\n",
      "\n",
      "plt.plot([0, 1], [0, 1], 'k--')\n",
      "plt.xlim([0.0, 1.0])\n",
      "plt.ylim([0.0, 1.05])\n",
      "plt.xlabel('False Positive Rate')\n",
      "plt.ylabel('True Positive Rate')\n",
      "plt.title('ROC curves at 10 trees')\n",
      "plt.legend(loc=\"lower right\")\n",
      "plt.show()"
     ],
     "language": "python",
     "metadata": {},
     "outputs": []
    },
    {
     "cell_type": "markdown",
     "metadata": {},
     "source": [
      "#ROC at 100"
     ]
    },
    {
     "cell_type": "code",
     "collapsed": false,
     "input": [
      "y_pred_greedy_100 = testFactory.predict(res_greedy[:100])\n",
      "y_pred_stupid_100 = testFactory.predict(trees[:100])\n",
      "y_pred_splitted_100 =  predict_splitted(testFactory,criteria[:2], {code:trees_splitted[code][:100] for code in trees_splitted})"
     ],
     "language": "python",
     "metadata": {},
     "outputs": []
    },
    {
     "cell_type": "code",
     "collapsed": false,
     "input": [
      "# Plot ROC curve\n",
      "plt.figure(figsize = [14,14])\n",
      "fpr, tpr, _ = metrics.roc_curve(Yts, y_pred_full,sample_weight=testFactory.weights)\n",
      "plt.plot(fpr, tpr,\n",
      "         label='Full boost classi 10k trees')\n",
      "fpr, tpr, _ = metrics.roc_curve(Yts, y_pred_stupid_100,sample_weight=testFactory.weights)\n",
      "plt.plot(fpr, tpr,\n",
      "         label='first N trees classi')\n",
      "fpr, tpr, _ = metrics.roc_curve(Yts, y_pred_greedy_100,sample_weight=testFactory.weights)\n",
      "plt.plot(fpr, tpr,\n",
      "         label='Greedy prune classi')\n",
      "fpr, tpr, _ = metrics.roc_curve(Yts, y_pred_splitted_100,sample_weight=testFactory.weights)\n",
      "plt.plot(fpr, tpr,\n",
      "         label='4-leaf split classi')\n",
      "\n",
      "\n",
      "plt.plot([0, 1], [0, 1], 'k--')\n",
      "plt.xlim([0.0, 1.0])\n",
      "plt.ylim([0.0, 1.05])\n",
      "plt.xlabel('False Positive Rate')\n",
      "plt.ylabel('True Positive Rate')\n",
      "plt.title('ROC curves at 100 trees')\n",
      "plt.legend(loc=\"lower right\")\n",
      "plt.show()"
     ],
     "language": "python",
     "metadata": {},
     "outputs": []
    },
    {
     "cell_type": "markdown",
     "metadata": {},
     "source": [
      "#kinda..."
     ]
    }
   ],
   "metadata": {}
  }
 ]
}