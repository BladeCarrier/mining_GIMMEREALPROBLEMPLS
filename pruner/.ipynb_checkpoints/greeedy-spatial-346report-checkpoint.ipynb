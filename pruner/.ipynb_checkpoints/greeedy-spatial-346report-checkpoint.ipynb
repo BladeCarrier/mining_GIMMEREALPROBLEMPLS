{
 "metadata": {
  "name": "",
  "signature": "sha256:3136589c64caff5bbe98007f1a0f01374f89e42ed3852da1044eaeced7c2007b"
 },
 "nbformat": 3,
 "nbformat_minor": 0,
 "worksheets": [
  {
   "cells": [
    {
     "cell_type": "code",
     "collapsed": false,
     "input": [
      "# I explore the cuts of the features\n",
      "%matplotlib inline\n",
      "#\u0442\u0430\u043a \u0442\u043e\u0436\u0435 \u043c\u043e\u0436\u043d\u043e \u0440\u0435\u0448\u0438\u0442\u044c \u043f\u0440\u043e\u0431\u043b\u0435\u043c\u0443 \u0438\u043d\u043b\u0430\u0439\u043b\u0430 \u043f\u043b\u043e\u0442\u043e\u0432\n",
      "\n",
      "import matplotlib.pyplot as plt\n",
      "import numpy as np\n",
      "\n",
      "import sklearn.metrics as metrics\n",
      "from sklearn.externals import joblib\n",
      "from sklearn import cross_validation as cv\n",
      "\n",
      "import _matrixnetapplier as mnet\n",
      "import copy\n",
      "import random\n"
     ],
     "language": "python",
     "metadata": {},
     "outputs": [],
     "prompt_number": 1
    },
    {
     "cell_type": "markdown",
     "metadata": {},
     "source": [
      "# Extracting the trained model"
     ]
    },
    {
     "cell_type": "code",
     "collapsed": false,
     "input": [
      "itr,trees = mnet.get_trees(\"formula/formula.mx\")\n",
      "n_features = 30\n",
      "print itr"
     ],
     "language": "python",
     "metadata": {},
     "outputs": [
      {
       "output_type": "stream",
       "stream": "stdout",
       "text": [
        "(6, 10000, <generator object _iterate_over_trees_with_fixed_depth at 0x000000000ABD4090>)\n"
       ]
      }
     ],
     "prompt_number": 2
    },
    {
     "cell_type": "markdown",
     "metadata": {},
     "source": [
      "# Loading dataset"
     ]
    },
    {
     "cell_type": "code",
     "collapsed": false,
     "input": [
      "#load training set\n",
      "def load_data(path):\n",
      "    print 'Loading training data...'\n",
      "    data = np.loadtxt(path, \\\n",
      "            delimiter=',', \\\n",
      "            skiprows=1, \\\n",
      "            converters={32: lambda x:int(x=='s'.encode('utf-8'))})\n",
      "\n",
      "    X = data[:,1:31]\n",
      "    Y = data[:,32]\n",
      "    W = data[:,31]\n",
      "    print \"Loaded.\"\n",
      "    return X,Y,W"
     ],
     "language": "python",
     "metadata": {},
     "outputs": [],
     "prompt_number": 3
    },
    {
     "cell_type": "code",
     "collapsed": false,
     "input": [
      "X,Y,W = load_data(\"data/training.csv\")"
     ],
     "language": "python",
     "metadata": {},
     "outputs": [
      {
       "output_type": "stream",
       "stream": "stdout",
       "text": [
        "Loading training data...\n",
        "Loaded."
       ]
      },
      {
       "output_type": "stream",
       "stream": "stdout",
       "text": [
        "\n"
       ]
      }
     ],
     "prompt_number": 4
    },
    {
     "cell_type": "code",
     "collapsed": false,
     "input": [
      "from sklearn.cross_validation import train_test_split\n",
      "Xtr,Xts,Ytr,Yts,Wtr,Wts = train_test_split(X, Y, W, train_size=0.51, random_state=42)"
     ],
     "language": "python",
     "metadata": {},
     "outputs": [],
     "prompt_number": 5
    },
    {
     "cell_type": "code",
     "collapsed": false,
     "input": [
      "from factory import DataFactory\n",
      "trainFactory = DataFactory(Xtr,Ytr,Wtr)\n",
      "testFactory = DataFactory(Xts,Yts,Wts)"
     ],
     "language": "python",
     "metadata": {},
     "outputs": [],
     "prompt_number": 6
    },
    {
     "cell_type": "code",
     "collapsed": false,
     "input": [
      "#equalize classes, normalize weights\n",
      "trainFactory.equalizeWeights()\n",
      "print sum(trainFactory.weights[trainFactory.labels==1]),\n",
      "print sum(trainFactory.weights[trainFactory.labels==0]),\n",
      "print sum(trainFactory.weights),"
     ],
     "language": "python",
     "metadata": {},
     "outputs": [
      {
       "output_type": "stream",
       "stream": "stdout",
       "text": [
        "0.5 0.5 0.999999999999\n"
       ]
      }
     ],
     "prompt_number": 7
    },
    {
     "cell_type": "markdown",
     "metadata": {},
     "source": [
      "#sanity check"
     ]
    },
    {
     "cell_type": "code",
     "collapsed": false,
     "input": [
      "def compute_ams_on_cuts(answers, predictions, sample_weight):\n",
      "    \"\"\" Predictions are probabilities\"\"\"\n",
      "    b, s, thresholds = metrics.roc_curve(answers, predictions, sample_weight=sample_weight)\n",
      "    # normalization constants\n",
      "    real_s = 691.988607712\n",
      "    real_b = 410999.847322\n",
      "    s *= real_s\n",
      "    b *= real_b\n",
      "    br = 10.\n",
      "    radicands = 2 * ((s + b + br) * np.log(1.0 + s/(b + br)) - s)\n",
      "    return thresholds, radicands\n",
      "\n",
      "def optimal_AMS(answers, predictions, sample_weight):\n",
      "    \"\"\" Predictions are probabilities \"\"\"\n",
      "    cuts, radicands = compute_ams_on_cuts(answers, predictions, sample_weight)\n",
      "    return np.sqrt(np.max(radicands))\n",
      "\n",
      "\n",
      "def precisionAt15(answers, predictions, sample_weight, percent=0.15):\n",
      "    n_passed = int(len(answers) * percent)\n",
      "    RATIO = 50\n",
      "    weight = sample_weight.copy()\n",
      "    weight[answers == 0] /= weight[answers == 0].mean() / RATIO\n",
      "    weight[answers == 1] /= weight[answers == 1].mean()\n",
      "    order = np.argsort(-predictions)\n",
      "    passed = order[:n_passed]    \n",
      "    return np.average(answers[passed], weights=weight[passed])"
     ],
     "language": "python",
     "metadata": {},
     "outputs": [],
     "prompt_number": 8
    },
    {
     "cell_type": "code",
     "collapsed": false,
     "input": [
      "def print_control_metrics(proba_test, proba_train):\n",
      "    for name, metric in [('ROC', metrics.roc_auc_score), ('AMS', optimal_AMS), ('precision', precisionAt15)]:\n",
      "        print name,\n",
      "        print metric(Yts, proba_test, sample_weight=Wts), \n",
      "        print metric(Ytr, proba_train, sample_weight=Wtr)"
     ],
     "language": "python",
     "metadata": {},
     "outputs": [],
     "prompt_number": 9
    },
    {
     "cell_type": "code",
     "collapsed": false,
     "input": [
      "%%time\n",
      "print_control_metrics(testFactory.predict(trees),trainFactory.predict(trees))"
     ],
     "language": "python",
     "metadata": {},
     "outputs": [
      {
       "output_type": "stream",
       "stream": "stdout",
       "text": [
        "ROC "
       ]
      },
      {
       "output_type": "stream",
       "stream": "stdout",
       "text": [
        "0.935834322801 "
       ]
      },
      {
       "output_type": "stream",
       "stream": "stdout",
       "text": [
        "0.961031805042\n",
        "AMS 3.71746365006 "
       ]
      },
      {
       "output_type": "stream",
       "stream": "stdout",
       "text": [
        "5.41899018232\n",
        "precision 0.266316147498 "
       ]
      },
      {
       "output_type": "stream",
       "stream": "stdout",
       "text": [
        "0.394846517557\n",
        "Wall time: 33.4 s\n"
       ]
      }
     ],
     "prompt_number": 10
    },
    {
     "cell_type": "markdown",
     "metadata": {},
     "source": [
      "# greedy pruning for the whole data"
     ]
    },
    {
     "cell_type": "code",
     "collapsed": false,
     "input": [
      "import greedy\n",
      "import loss_functions\n",
      "LogLossAuc2 = loss_functions._LogLoss_auc(power = 2.)"
     ],
     "language": "python",
     "metadata": {},
     "outputs": [],
     "prompt_number": 58
    },
    {
     "cell_type": "code",
     "collapsed": false,
     "input": [
      "print 50./trainFactory.n_events*sum(trainFactory.weights)"
     ],
     "language": "python",
     "metadata": {},
     "outputs": [
      {
       "output_type": "stream",
       "stream": "stdout",
       "text": [
        "0.000392156862745\n"
       ]
      }
     ],
     "prompt_number": 13
    },
    {
     "cell_type": "code",
     "collapsed": false,
     "input": [
      "%%time\n",
      "res_greedy = greedy.greed_up_features_bfs(trees,trainFactory,\n",
      "                                          loss = LogLossAuc2,\n",
      "                                          learning_rate = .265,\n",
      "                                          breadth =1,\n",
      "                                          nTrees =100,\n",
      "                                          trees_sample_size =100,\n",
      "                                          verbose = True,\n",
      "                                          regularizer=0.000392156862745,\n",
      "                                          use_joblib=True)"
     ],
     "language": "python",
     "metadata": {},
     "outputs": [
      {
       "output_type": "stream",
       "stream": "stdout",
       "text": [
        "\n",
        "iteration # 0  ntrees =  1 \n",
        "best loss =  0.658642485867\n",
        "learning_rate =  0.265\n",
        "sample_size 100\n",
        "\n",
        "iteration #"
       ]
      },
      {
       "output_type": "stream",
       "stream": "stdout",
       "text": [
        " 1  ntrees =  2 \n",
        "best loss =  0.579474981118 \n",
        "last loss =  0.579474981118\n",
        "learning_rate =  0.265\n",
        "sample_size 100\n",
        "\n",
        "iteration #"
       ]
      },
      {
       "output_type": "stream",
       "stream": "stdout",
       "text": [
        " 2  ntrees =  3 \n",
        "best loss =  0.529381328433 \n",
        "last loss =  0.529381328433\n",
        "learning_rate =  0.265\n",
        "sample_size 100\n",
        "\n",
        "iteration #"
       ]
      },
      {
       "output_type": "stream",
       "stream": "stdout",
       "text": [
        " 3  ntrees =  4 \n",
        "best loss =  0.489383084333 \n",
        "last loss =  0.489383084333\n",
        "learning_rate =  0.265\n",
        "sample_size 100\n",
        "\n",
        "iteration #"
       ]
      },
      {
       "output_type": "stream",
       "stream": "stdout",
       "text": [
        " 4  ntrees =  5 \n",
        "best loss =  0.461974224511 \n",
        "last loss =  0.461974224511\n",
        "learning_rate =  0.265\n",
        "sample_size 100\n",
        "\n",
        "iteration #"
       ]
      },
      {
       "output_type": "stream",
       "stream": "stdout",
       "text": [
        " 5  ntrees =  6 \n",
        "best loss =  0.443257151968 \n",
        "last loss =  0.443257151968\n",
        "learning_rate =  0.265\n",
        "sample_size 100\n",
        "\n",
        "iteration #"
       ]
      },
      {
       "output_type": "stream",
       "stream": "stdout",
       "text": [
        " 6  ntrees =  7 \n",
        "best loss =  0.426763596367 \n",
        "last loss =  0.426763596367\n",
        "learning_rate =  0.265\n",
        "sample_size 100\n",
        "\n",
        "iteration #"
       ]
      },
      {
       "output_type": "stream",
       "stream": "stdout",
       "text": [
        " 7  ntrees =  8 \n",
        "best loss =  0.415746844735 \n",
        "last loss =  0.415746844735\n",
        "learning_rate =  0.265\n",
        "sample_size 100\n",
        "\n",
        "iteration #"
       ]
      },
      {
       "output_type": "stream",
       "stream": "stdout",
       "text": [
        " 8  ntrees =  9 \n",
        "best loss =  0.407844852405 \n",
        "last loss =  0.407844852405\n",
        "learning_rate =  0.265\n",
        "sample_size 100\n",
        "\n",
        "iteration #"
       ]
      },
      {
       "output_type": "stream",
       "stream": "stdout",
       "text": [
        " 9  ntrees =  10 \n",
        "best loss =  0.40115472784 \n",
        "last loss =  0.40115472784\n",
        "learning_rate =  0.265\n",
        "sample_size 100\n",
        "\n",
        "iteration #"
       ]
      },
      {
       "output_type": "stream",
       "stream": "stdout",
       "text": [
        " 10  ntrees =  11 \n",
        "best loss =  0.395790504506 \n",
        "last loss =  0.395790504506\n",
        "learning_rate =  0.265\n",
        "sample_size 100\n",
        "\n",
        "iteration #"
       ]
      },
      {
       "output_type": "stream",
       "stream": "stdout",
       "text": [
        " 11  ntrees =  12 \n",
        "best loss =  0.391021103728 \n",
        "last loss =  0.391021103728\n",
        "learning_rate =  0.265\n",
        "sample_size 100\n",
        "\n",
        "iteration #"
       ]
      },
      {
       "output_type": "stream",
       "stream": "stdout",
       "text": [
        " 12  ntrees =  13 \n",
        "best loss =  0.38740132839 \n",
        "last loss =  0.38740132839\n",
        "learning_rate =  0.265\n",
        "sample_size 100\n",
        "\n",
        "iteration #"
       ]
      },
      {
       "output_type": "stream",
       "stream": "stdout",
       "text": [
        " 13  ntrees =  14 \n",
        "best loss =  0.384558119398 \n",
        "last loss =  0.384558119398\n",
        "learning_rate =  0.265\n",
        "sample_size 100\n",
        "\n",
        "iteration #"
       ]
      },
      {
       "output_type": "stream",
       "stream": "stdout",
       "text": [
        " 14  ntrees =  15 \n",
        "best loss =  0.381226637989 \n",
        "last loss =  0.381226637989\n",
        "learning_rate =  0.265\n",
        "sample_size 100\n",
        "\n",
        "iteration #"
       ]
      },
      {
       "output_type": "stream",
       "stream": "stdout",
       "text": [
        " 15  ntrees =  16 \n",
        "best loss =  0.378994756115 \n",
        "last loss =  0.378994756115\n",
        "learning_rate =  0.265\n",
        "sample_size 100\n",
        "\n",
        "iteration #"
       ]
      },
      {
       "output_type": "stream",
       "stream": "stdout",
       "text": [
        " 16  ntrees =  17 \n",
        "best loss =  0.376533255861 \n",
        "last loss =  0.376533255861\n",
        "learning_rate =  0.265\n",
        "sample_size 100\n",
        "\n",
        "iteration #"
       ]
      },
      {
       "output_type": "stream",
       "stream": "stdout",
       "text": [
        " 17  ntrees =  18 \n",
        "best loss =  0.374015837847 \n",
        "last loss =  0.374015837847\n",
        "learning_rate =  0.265\n",
        "sample_size 100\n",
        "\n",
        "iteration #"
       ]
      },
      {
       "output_type": "stream",
       "stream": "stdout",
       "text": [
        " 18  ntrees =  19 \n",
        "best loss =  0.37237932437 \n",
        "last loss =  0.37237932437\n",
        "learning_rate =  0.265\n",
        "sample_size 100\n",
        "\n",
        "iteration #"
       ]
      },
      {
       "output_type": "stream",
       "stream": "stdout",
       "text": [
        " 19  ntrees =  20 \n",
        "best loss =  0.370370419861 \n",
        "last loss =  0.370370419861\n",
        "learning_rate =  0.265\n",
        "sample_size 100\n",
        "\n",
        "iteration #"
       ]
      },
      {
       "output_type": "stream",
       "stream": "stdout",
       "text": [
        " 20  ntrees =  21 \n",
        "best loss =  0.368798025461 \n",
        "last loss =  0.368798025461\n",
        "learning_rate =  0.265\n",
        "sample_size 100\n",
        "\n",
        "iteration #"
       ]
      },
      {
       "output_type": "stream",
       "stream": "stdout",
       "text": [
        " 21  ntrees =  22 \n",
        "best loss =  0.367407579644 \n",
        "last loss =  0.367407579644\n",
        "learning_rate =  0.265\n",
        "sample_size 100\n",
        "\n",
        "iteration #"
       ]
      },
      {
       "output_type": "stream",
       "stream": "stdout",
       "text": [
        " 22  ntrees =  23 \n",
        "best loss =  0.365815923401 \n",
        "last loss =  0.365815923401\n",
        "learning_rate =  0.265\n",
        "sample_size 100\n",
        "\n",
        "iteration #"
       ]
      },
      {
       "output_type": "stream",
       "stream": "stdout",
       "text": [
        " 23  ntrees =  24 \n",
        "best loss =  0.364631531389 \n",
        "last loss =  0.364631531389\n",
        "learning_rate =  0.265\n",
        "sample_size 100\n",
        "\n",
        "iteration #"
       ]
      },
      {
       "output_type": "stream",
       "stream": "stdout",
       "text": [
        " 24  ntrees =  25 \n",
        "best loss =  0.363475223268 \n",
        "last loss =  0.363475223268\n",
        "learning_rate =  0.265\n",
        "sample_size 100\n",
        "\n",
        "iteration #"
       ]
      },
      {
       "output_type": "stream",
       "stream": "stdout",
       "text": [
        " 25  ntrees =  26 \n",
        "best loss =  0.362254352752 \n",
        "last loss =  0.362254352752\n",
        "learning_rate =  0.265\n",
        "sample_size 100\n",
        "\n",
        "iteration #"
       ]
      },
      {
       "output_type": "stream",
       "stream": "stdout",
       "text": [
        " 26  ntrees =  27 \n",
        "best loss =  0.361090680654 \n",
        "last loss =  0.361090680654\n",
        "learning_rate =  0.265\n",
        "sample_size 100\n",
        "\n",
        "iteration #"
       ]
      },
      {
       "output_type": "stream",
       "stream": "stdout",
       "text": [
        " 27  ntrees =  28 \n",
        "best loss =  0.359995056159 \n",
        "last loss =  0.359995056159\n",
        "learning_rate =  0.265\n",
        "sample_size 100\n",
        "\n",
        "iteration #"
       ]
      },
      {
       "output_type": "stream",
       "stream": "stdout",
       "text": [
        " 28  ntrees =  29 \n",
        "best loss =  0.359191969072 \n",
        "last loss =  0.359191969072\n",
        "learning_rate =  0.265\n",
        "sample_size 100\n",
        "\n",
        "iteration #"
       ]
      },
      {
       "output_type": "stream",
       "stream": "stdout",
       "text": [
        " 29  ntrees =  30 \n",
        "best loss =  0.358254040278 \n",
        "last loss =  0.358254040278\n",
        "learning_rate =  0.265\n",
        "sample_size 100\n",
        "\n",
        "iteration #"
       ]
      },
      {
       "output_type": "stream",
       "stream": "stdout",
       "text": [
        " 30  ntrees =  31 \n",
        "best loss =  0.357443132424 \n",
        "last loss =  0.357443132424\n",
        "learning_rate =  0.265\n",
        "sample_size 100\n",
        "\n",
        "iteration #"
       ]
      },
      {
       "output_type": "stream",
       "stream": "stdout",
       "text": [
        " 31  ntrees =  32 \n",
        "best loss =  0.356699295099 \n",
        "last loss =  0.356699295099\n",
        "learning_rate =  0.265\n",
        "sample_size 100\n",
        "\n",
        "iteration #"
       ]
      },
      {
       "output_type": "stream",
       "stream": "stdout",
       "text": [
        " 32  ntrees =  33 \n",
        "best loss =  0.355972217541 \n",
        "last loss =  0.355972217541\n",
        "learning_rate =  0.265\n",
        "sample_size 100\n",
        "\n",
        "iteration #"
       ]
      },
      {
       "output_type": "stream",
       "stream": "stdout",
       "text": [
        " 33  ntrees =  34 \n",
        "best loss =  0.355336623402 \n",
        "last loss =  0.355336623402\n",
        "learning_rate =  0.265\n",
        "sample_size 100\n",
        "\n",
        "iteration #"
       ]
      },
      {
       "output_type": "stream",
       "stream": "stdout",
       "text": [
        " 34  ntrees =  35 \n",
        "best loss =  0.354631222624 \n",
        "last loss =  0.354631222624\n",
        "learning_rate =  0.265\n",
        "sample_size 100\n",
        "\n",
        "iteration #"
       ]
      },
      {
       "output_type": "stream",
       "stream": "stdout",
       "text": [
        " 35  ntrees =  36 \n",
        "best loss =  0.353966386615 \n",
        "last loss =  0.353966386615\n",
        "learning_rate =  0.265\n",
        "sample_size 100\n",
        "\n",
        "iteration #"
       ]
      },
      {
       "output_type": "stream",
       "stream": "stdout",
       "text": [
        " 36  ntrees =  37 \n",
        "best loss =  0.353332573458 \n",
        "last loss =  0.353332573458\n",
        "learning_rate =  0.265\n",
        "sample_size 100\n",
        "\n",
        "iteration #"
       ]
      },
      {
       "output_type": "stream",
       "stream": "stdout",
       "text": [
        " 37  ntrees =  38 \n",
        "best loss =  0.352729222036 \n",
        "last loss =  0.352729222036\n",
        "learning_rate =  0.265\n",
        "sample_size 100\n",
        "\n",
        "iteration #"
       ]
      },
      {
       "output_type": "stream",
       "stream": "stdout",
       "text": [
        " 38  ntrees =  39 \n",
        "best loss =  0.352158113656 \n",
        "last loss =  0.352158113656\n",
        "learning_rate =  0.265\n",
        "sample_size 100\n",
        "\n",
        "iteration #"
       ]
      },
      {
       "output_type": "stream",
       "stream": "stdout",
       "text": [
        " 39  ntrees =  40 \n",
        "best loss =  0.3515989421 \n",
        "last loss =  0.3515989421\n",
        "learning_rate =  0.265\n",
        "sample_size 100\n",
        "\n",
        "iteration #"
       ]
      },
      {
       "output_type": "stream",
       "stream": "stdout",
       "text": [
        " 40  ntrees =  41 \n",
        "best loss =  0.351127792845 \n",
        "last loss =  0.351127792845\n",
        "learning_rate =  0.265\n",
        "sample_size 100\n",
        "\n",
        "iteration #"
       ]
      },
      {
       "output_type": "stream",
       "stream": "stdout",
       "text": [
        " 41  ntrees =  42 \n",
        "best loss =  0.350629795657 \n",
        "last loss =  0.350629795657\n",
        "learning_rate =  0.265\n",
        "sample_size 100\n",
        "\n",
        "iteration #"
       ]
      },
      {
       "output_type": "stream",
       "stream": "stdout",
       "text": [
        " 42  ntrees =  43 \n",
        "best loss =  0.350054390961 \n",
        "last loss =  0.350054390961\n",
        "learning_rate =  0.265\n",
        "sample_size 100\n",
        "\n",
        "iteration #"
       ]
      },
      {
       "output_type": "stream",
       "stream": "stdout",
       "text": [
        " 43  ntrees =  44 \n",
        "best loss =  0.34959423774 \n",
        "last loss =  0.34959423774\n",
        "learning_rate =  0.265\n",
        "sample_size 100\n",
        "\n",
        "iteration #"
       ]
      },
      {
       "output_type": "stream",
       "stream": "stdout",
       "text": [
        " 44  ntrees =  45 \n",
        "best loss =  0.349070096936 \n",
        "last loss =  0.349070096936\n",
        "learning_rate =  0.265\n",
        "sample_size 100\n",
        "\n",
        "iteration #"
       ]
      },
      {
       "output_type": "stream",
       "stream": "stdout",
       "text": [
        " 45  ntrees =  46 \n",
        "best loss =  0.348557595392 \n",
        "last loss =  0.348557595392\n",
        "learning_rate =  0.265\n",
        "sample_size 100\n",
        "\n",
        "iteration #"
       ]
      },
      {
       "output_type": "stream",
       "stream": "stdout",
       "text": [
        " 46  ntrees =  47 \n",
        "best loss =  0.348101371754 \n",
        "last loss =  0.348101371754\n",
        "learning_rate =  0.265\n",
        "sample_size 100\n",
        "\n",
        "iteration #"
       ]
      },
      {
       "output_type": "stream",
       "stream": "stdout",
       "text": [
        " 47  ntrees =  48 \n",
        "best loss =  0.347624688801 \n",
        "last loss =  0.347624688801\n",
        "learning_rate =  0.265\n",
        "sample_size 100\n",
        "\n",
        "iteration #"
       ]
      },
      {
       "output_type": "stream",
       "stream": "stdout",
       "text": [
        " 48  ntrees =  49 \n",
        "best loss =  0.347162522386 \n",
        "last loss =  0.347162522386\n",
        "learning_rate =  0.265\n",
        "sample_size 100\n",
        "\n",
        "iteration #"
       ]
      },
      {
       "output_type": "stream",
       "stream": "stdout",
       "text": [
        " 49  ntrees =  50 \n",
        "best loss =  0.346729353165 \n",
        "last loss =  0.346729353165\n",
        "learning_rate =  0.265\n",
        "sample_size 100\n",
        "\n",
        "iteration #"
       ]
      },
      {
       "output_type": "stream",
       "stream": "stdout",
       "text": [
        " 50  ntrees =  51 \n",
        "best loss =  0.346326204971 \n",
        "last loss =  0.346326204971\n",
        "learning_rate =  0.265\n",
        "sample_size 100\n",
        "\n",
        "iteration #"
       ]
      },
      {
       "output_type": "stream",
       "stream": "stdout",
       "text": [
        " 51  ntrees =  52 \n",
        "best loss =  0.345899374193 \n",
        "last loss =  0.345899374193\n",
        "learning_rate =  0.265\n",
        "sample_size 100\n",
        "\n",
        "iteration #"
       ]
      },
      {
       "output_type": "stream",
       "stream": "stdout",
       "text": [
        " 52  ntrees =  53 \n",
        "best loss =  0.345498321017 \n",
        "last loss =  0.345498321017\n",
        "learning_rate =  0.265\n",
        "sample_size 100\n",
        "\n",
        "iteration #"
       ]
      },
      {
       "output_type": "stream",
       "stream": "stdout",
       "text": [
        " 53  ntrees =  54 \n",
        "best loss =  0.345129232369 \n",
        "last loss =  0.345129232369\n",
        "learning_rate =  0.265\n",
        "sample_size 100\n",
        "\n",
        "iteration #"
       ]
      },
      {
       "output_type": "stream",
       "stream": "stdout",
       "text": [
        " 54  ntrees =  55 \n",
        "best loss =  0.344777577241 \n",
        "last loss =  0.344777577241\n",
        "learning_rate =  0.265\n",
        "sample_size 100\n",
        "\n",
        "iteration #"
       ]
      },
      {
       "output_type": "stream",
       "stream": "stdout",
       "text": [
        " 55  ntrees =  56 \n",
        "best loss =  0.344378559761 \n",
        "last loss =  0.344378559761\n",
        "learning_rate =  0.265\n",
        "sample_size 100\n",
        "\n",
        "iteration #"
       ]
      },
      {
       "output_type": "stream",
       "stream": "stdout",
       "text": [
        " 56  ntrees =  57 \n",
        "best loss =  0.344034917295 \n",
        "last loss =  0.344034917295\n",
        "learning_rate =  0.265\n",
        "sample_size 100\n",
        "\n",
        "iteration #"
       ]
      },
      {
       "output_type": "stream",
       "stream": "stdout",
       "text": [
        " 57  ntrees =  58 \n",
        "best loss =  0.343668867367 \n",
        "last loss =  0.343668867367\n",
        "learning_rate =  0.265\n",
        "sample_size 100\n",
        "\n",
        "iteration #"
       ]
      },
      {
       "output_type": "stream",
       "stream": "stdout",
       "text": [
        " 58  ntrees =  59 \n",
        "best loss =  0.34330210927 \n",
        "last loss =  0.34330210927\n",
        "learning_rate =  0.265\n",
        "sample_size 100\n",
        "\n",
        "iteration #"
       ]
      },
      {
       "output_type": "stream",
       "stream": "stdout",
       "text": [
        " 59  ntrees =  60 \n",
        "best loss =  0.342920711324 \n",
        "last loss =  0.342920711324\n",
        "learning_rate =  0.265\n",
        "sample_size 100\n",
        "\n",
        "iteration #"
       ]
      },
      {
       "output_type": "stream",
       "stream": "stdout",
       "text": [
        " 60  ntrees =  61 \n",
        "best loss =  0.342573009603 \n",
        "last loss =  0.342573009603\n",
        "learning_rate =  0.265\n",
        "sample_size 100\n",
        "\n",
        "iteration #"
       ]
      },
      {
       "output_type": "stream",
       "stream": "stdout",
       "text": [
        " 61  ntrees =  62 \n",
        "best loss =  0.342236027938 \n",
        "last loss =  0.342236027938\n",
        "learning_rate =  0.265\n",
        "sample_size 100\n",
        "\n",
        "iteration #"
       ]
      },
      {
       "output_type": "stream",
       "stream": "stdout",
       "text": [
        " 62  ntrees =  63 \n",
        "best loss =  0.341902723476 \n",
        "last loss =  0.341902723476\n",
        "learning_rate =  0.265\n",
        "sample_size 100\n",
        "\n",
        "iteration #"
       ]
      },
      {
       "output_type": "stream",
       "stream": "stdout",
       "text": [
        " 63  ntrees =  64 \n",
        "best loss =  0.341532017126 \n",
        "last loss =  0.341532017126\n",
        "learning_rate =  0.265\n",
        "sample_size 100\n",
        "\n",
        "iteration #"
       ]
      },
      {
       "output_type": "stream",
       "stream": "stdout",
       "text": [
        " 64  ntrees =  65 \n",
        "best loss =  0.341179828853 \n",
        "last loss =  0.341179828853\n",
        "learning_rate =  0.265\n",
        "sample_size 100\n",
        "\n",
        "iteration #"
       ]
      },
      {
       "output_type": "stream",
       "stream": "stdout",
       "text": [
        " 65  ntrees =  66 \n",
        "best loss =  0.34084126267 \n",
        "last loss =  0.34084126267\n",
        "learning_rate =  0.265\n",
        "sample_size 100\n",
        "\n",
        "iteration #"
       ]
      },
      {
       "output_type": "stream",
       "stream": "stdout",
       "text": [
        " 66  ntrees =  67 \n",
        "best loss =  0.340492955819 \n",
        "last loss =  0.340492955819\n",
        "learning_rate =  0.265\n",
        "sample_size 100\n",
        "\n",
        "iteration #"
       ]
      },
      {
       "output_type": "stream",
       "stream": "stdout",
       "text": [
        " 67  ntrees =  68 \n",
        "best loss =  0.340177466665 \n",
        "last loss =  0.340177466665\n",
        "learning_rate =  0.265\n",
        "sample_size 100\n",
        "\n",
        "iteration #"
       ]
      },
      {
       "output_type": "stream",
       "stream": "stdout",
       "text": [
        " 68  ntrees =  69 \n",
        "best loss =  0.339891311606 \n",
        "last loss =  0.339891311606\n",
        "learning_rate =  0.265\n",
        "sample_size 100\n",
        "\n",
        "iteration #"
       ]
      },
      {
       "output_type": "stream",
       "stream": "stdout",
       "text": [
        " 69  ntrees =  70 \n",
        "best loss =  0.339566763901 \n",
        "last loss =  0.339566763901\n",
        "learning_rate =  0.265\n",
        "sample_size 100\n",
        "\n",
        "iteration #"
       ]
      },
      {
       "output_type": "stream",
       "stream": "stdout",
       "text": [
        " 70  ntrees =  71 \n",
        "best loss =  0.339233348741 \n",
        "last loss =  0.339233348741\n",
        "learning_rate =  0.265\n",
        "sample_size 100\n",
        "\n",
        "iteration #"
       ]
      },
      {
       "output_type": "stream",
       "stream": "stdout",
       "text": [
        " 71  ntrees =  72 \n",
        "best loss =  0.338943924594 \n",
        "last loss =  0.338943924594\n",
        "learning_rate =  0.265\n",
        "sample_size 100\n",
        "\n",
        "iteration #"
       ]
      },
      {
       "output_type": "stream",
       "stream": "stdout",
       "text": [
        " 72  ntrees =  73 \n",
        "best loss =  0.338620152646 \n",
        "last loss =  0.338620152646\n",
        "learning_rate =  0.265\n",
        "sample_size 100\n",
        "\n",
        "iteration #"
       ]
      },
      {
       "output_type": "stream",
       "stream": "stdout",
       "text": [
        " 73  ntrees =  74 \n",
        "best loss =  0.338304407426 \n",
        "last loss =  0.338304407426\n",
        "learning_rate =  0.265\n",
        "sample_size 100\n",
        "\n",
        "iteration #"
       ]
      },
      {
       "output_type": "stream",
       "stream": "stdout",
       "text": [
        " 74  ntrees =  75 \n",
        "best loss =  0.338021352697 \n",
        "last loss =  0.338021352697\n",
        "learning_rate =  0.265\n",
        "sample_size 100\n",
        "\n",
        "iteration #"
       ]
      },
      {
       "output_type": "stream",
       "stream": "stdout",
       "text": [
        " 75  ntrees =  76 \n",
        "best loss =  0.337708300605 \n",
        "last loss =  0.337708300605\n",
        "learning_rate =  0.265\n",
        "sample_size 100\n",
        "\n",
        "iteration #"
       ]
      },
      {
       "output_type": "stream",
       "stream": "stdout",
       "text": [
        " 76  ntrees =  77 \n",
        "best loss =  0.337427831094 \n",
        "last loss =  0.337427831094\n",
        "learning_rate =  0.265\n",
        "sample_size 100\n",
        "\n",
        "iteration #"
       ]
      },
      {
       "output_type": "stream",
       "stream": "stdout",
       "text": [
        " 77  ntrees =  78 \n",
        "best loss =  0.337128371944 \n",
        "last loss =  0.337128371944\n",
        "learning_rate =  0.265\n",
        "sample_size 100\n",
        "\n",
        "iteration #"
       ]
      },
      {
       "output_type": "stream",
       "stream": "stdout",
       "text": [
        " 78  ntrees =  79 \n",
        "best loss =  0.336837650352 \n",
        "last loss =  0.336837650352\n",
        "learning_rate =  0.265\n",
        "sample_size 100\n",
        "\n",
        "iteration #"
       ]
      },
      {
       "output_type": "stream",
       "stream": "stdout",
       "text": [
        " 79  ntrees =  80 \n",
        "best loss =  0.336541478132 \n",
        "last loss =  0.336541478132\n",
        "learning_rate =  0.265\n",
        "sample_size 100\n",
        "\n",
        "iteration #"
       ]
      },
      {
       "output_type": "stream",
       "stream": "stdout",
       "text": [
        " 80  ntrees =  81 \n",
        "best loss =  0.336253596235 \n",
        "last loss =  0.336253596235\n",
        "learning_rate =  0.265\n",
        "sample_size 100\n",
        "\n",
        "iteration #"
       ]
      },
      {
       "output_type": "stream",
       "stream": "stdout",
       "text": [
        " 81  ntrees =  82 \n",
        "best loss =  0.335982862721 \n",
        "last loss =  0.335982862721\n",
        "learning_rate =  0.265\n",
        "sample_size 100\n",
        "\n",
        "iteration #"
       ]
      },
      {
       "output_type": "stream",
       "stream": "stdout",
       "text": [
        " 82  ntrees =  83 \n",
        "best loss =  0.335705117777 \n",
        "last loss =  0.335705117777\n",
        "learning_rate =  0.265\n",
        "sample_size 100\n",
        "\n",
        "iteration #"
       ]
      },
      {
       "output_type": "stream",
       "stream": "stdout",
       "text": [
        " 83  ntrees =  84 \n",
        "best loss =  0.335417440973 \n",
        "last loss =  0.335417440973\n",
        "learning_rate =  0.265\n",
        "sample_size 100\n",
        "\n",
        "iteration #"
       ]
      },
      {
       "output_type": "stream",
       "stream": "stdout",
       "text": [
        " 84  ntrees =  85 \n",
        "best loss =  0.335121760908 \n",
        "last loss =  0.335121760908\n",
        "learning_rate =  0.265\n",
        "sample_size 100\n",
        "\n",
        "iteration #"
       ]
      },
      {
       "output_type": "stream",
       "stream": "stdout",
       "text": [
        " 85  ntrees =  86 \n",
        "best loss =  0.334865055135 \n",
        "last loss =  0.334865055135\n",
        "learning_rate =  0.265\n",
        "sample_size 100\n",
        "\n",
        "iteration #"
       ]
      },
      {
       "output_type": "stream",
       "stream": "stdout",
       "text": [
        " 86  ntrees =  87 \n",
        "best loss =  0.334560068312 \n",
        "last loss =  0.334560068312\n",
        "learning_rate =  0.265\n",
        "sample_size 100\n",
        "\n",
        "iteration #"
       ]
      },
      {
       "output_type": "stream",
       "stream": "stdout",
       "text": [
        " 87  ntrees =  88 \n",
        "best loss =  0.334302282256 \n",
        "last loss =  0.334302282256\n",
        "learning_rate =  0.265\n",
        "sample_size 100\n",
        "\n",
        "iteration #"
       ]
      },
      {
       "output_type": "stream",
       "stream": "stdout",
       "text": [
        " 88  ntrees =  89 \n",
        "best loss =  0.333991242163 \n",
        "last loss =  0.333991242163\n",
        "learning_rate =  0.265\n",
        "sample_size 100\n",
        "\n",
        "iteration #"
       ]
      },
      {
       "output_type": "stream",
       "stream": "stdout",
       "text": [
        " 89  ntrees =  90 \n",
        "best loss =  0.333756454092 \n",
        "last loss =  0.333756454092\n",
        "learning_rate =  0.265\n",
        "sample_size 100\n",
        "\n",
        "iteration #"
       ]
      },
      {
       "output_type": "stream",
       "stream": "stdout",
       "text": [
        " 90  ntrees =  91 \n",
        "best loss =  0.333520423381 \n",
        "last loss =  0.333520423381\n",
        "learning_rate =  0.265\n",
        "sample_size 100\n",
        "\n",
        "iteration #"
       ]
      },
      {
       "output_type": "stream",
       "stream": "stdout",
       "text": [
        " 91  ntrees =  92 \n",
        "best loss =  0.333287245936 \n",
        "last loss =  0.333287245936\n",
        "learning_rate =  0.265\n",
        "sample_size 100\n",
        "\n",
        "iteration #"
       ]
      },
      {
       "output_type": "stream",
       "stream": "stdout",
       "text": [
        " 92  ntrees =  93 \n",
        "best loss =  0.333051601457 \n",
        "last loss =  0.333051601457\n",
        "learning_rate =  0.265\n",
        "sample_size 100\n",
        "\n",
        "iteration #"
       ]
      },
      {
       "output_type": "stream",
       "stream": "stdout",
       "text": [
        " 93  ntrees =  94 \n",
        "best loss =  0.33276981325 \n",
        "last loss =  0.33276981325\n",
        "learning_rate =  0.265\n",
        "sample_size 100\n",
        "\n",
        "iteration #"
       ]
      },
      {
       "output_type": "stream",
       "stream": "stdout",
       "text": [
        " 94  ntrees =  95 \n",
        "best loss =  0.33252695813 \n",
        "last loss =  0.33252695813\n",
        "learning_rate =  0.265\n",
        "sample_size 100\n",
        "\n",
        "iteration #"
       ]
      },
      {
       "output_type": "stream",
       "stream": "stdout",
       "text": [
        " 95  ntrees =  96 \n",
        "best loss =  0.332245772352 \n",
        "last loss =  0.332245772352\n",
        "learning_rate =  0.265\n",
        "sample_size 100\n",
        "\n",
        "iteration #"
       ]
      },
      {
       "output_type": "stream",
       "stream": "stdout",
       "text": [
        " 96  ntrees =  97 \n",
        "best loss =  0.331974494601 \n",
        "last loss =  0.331974494601\n",
        "learning_rate =  0.265\n",
        "sample_size 100\n",
        "\n",
        "iteration #"
       ]
      },
      {
       "output_type": "stream",
       "stream": "stdout",
       "text": [
        " 97  ntrees =  98 \n",
        "best loss =  0.331711832606 \n",
        "last loss =  0.331711832606\n",
        "learning_rate =  0.265\n",
        "sample_size 100\n",
        "\n",
        "iteration #"
       ]
      },
      {
       "output_type": "stream",
       "stream": "stdout",
       "text": [
        " 98  ntrees =  99 \n",
        "best loss =  0.331462226883 \n",
        "last loss =  0.331462226883\n",
        "learning_rate =  0.265\n",
        "sample_size 100\n",
        "\n",
        "iteration #"
       ]
      },
      {
       "output_type": "stream",
       "stream": "stdout",
       "text": [
        " 99  ntrees =  100 \n",
        "best loss =  0.331183323001 \n",
        "last loss =  0.331183323001\n",
        "learning_rate =  0.265\n",
        "sample_size 100\n",
        "Wall time: 7min 57s\n"
       ]
      }
     ],
     "prompt_number": 59
    },
    {
     "cell_type": "code",
     "collapsed": false,
     "input": [
      "y_pred_stupid = greedy.predict(testFactory,trees[:100])\n",
      "y_pred_full = greedy.predict(testFactory,trees)"
     ],
     "language": "python",
     "metadata": {},
     "outputs": [],
     "prompt_number": 15
    },
    {
     "cell_type": "code",
     "collapsed": false,
     "input": [
      "y_pred_greedy = testFactory.predict(res_greedy)"
     ],
     "language": "python",
     "metadata": {},
     "outputs": [],
     "prompt_number": 60
    },
    {
     "cell_type": "code",
     "collapsed": false,
     "input": [
      "w_test = testFactory.weights\n",
      "\n",
      "print metrics.roc_auc_score(Yts,y_pred_greedy,sample_weight=w_test),\n",
      "print metrics.roc_auc_score(Yts,y_pred_stupid,sample_weight=w_test),\n",
      "print metrics.roc_auc_score(Yts,y_pred_full,sample_weight=w_test)\n",
      "print \"well...\""
     ],
     "language": "python",
     "metadata": {},
     "outputs": [
      {
       "output_type": "stream",
       "stream": "stdout",
       "text": [
        "0.934043036236 "
       ]
      },
      {
       "output_type": "stream",
       "stream": "stdout",
       "text": [
        "0.916904744001 "
       ]
      },
      {
       "output_type": "stream",
       "stream": "stdout",
       "text": [
        "0.935834322801\n",
        "well...\n"
       ]
      }
     ],
     "prompt_number": 61
    },
    {
     "cell_type": "code",
     "collapsed": false,
     "input": [
      "_ = joblib.dump(res_greedy,\"dumps/greedy 100 trees black AUC magic\")"
     ],
     "language": "python",
     "metadata": {},
     "outputs": [],
     "prompt_number": 55
    },
    {
     "cell_type": "markdown",
     "metadata": {},
     "source": [
      "# Upper level thresholds extraction"
     ]
    },
    {
     "cell_type": "code",
     "collapsed": false,
     "input": [
      "#usability distribution\n",
      "thresholds = mnet.get_thresholds(trees,30,0.001)"
     ],
     "language": "python",
     "metadata": {},
     "outputs": [],
     "prompt_number": 34
    },
    {
     "cell_type": "code",
     "collapsed": false,
     "input": [
      "plt.scatter(range(len(thresholds)),thresholds[:,2])\n",
      "print sum(thresholds[:,2] >150)"
     ],
     "language": "python",
     "metadata": {},
     "outputs": [
      {
       "output_type": "stream",
       "stream": "stdout",
       "text": [
        "96\n"
       ]
      },
      {
       "metadata": {},
       "output_type": "display_data",
       "png": "[encoded data removed]",
       "text": [
        "<matplotlib.figure.Figure at 0x2aa0c6a0>"
       ]
      }
     ],
     "prompt_number": 35
    },
    {
     "cell_type": "markdown",
     "metadata": {},
     "source": [
      "# Criteria selection"
     ]
    },
    {
     "cell_type": "code",
     "collapsed": false,
     "input": [
      "import hierarchy"
     ],
     "language": "python",
     "metadata": {},
     "outputs": [],
     "prompt_number": 36
    },
    {
     "cell_type": "code",
     "collapsed": false,
     "input": [
      "#get them...\n",
      "thresholds_active = thresholds[thresholds[:,2]>100]\n",
      "print len(thresholds_active)\n",
      "criteria = hierarchy.select_criteria(trainFactory,thresholds_active,6,True)"
     ],
     "language": "python",
     "metadata": {},
     "outputs": [
      {
       "output_type": "stream",
       "stream": "stdout",
       "text": [
        "190\n",
        "s:"
       ]
      },
      {
       "output_type": "stream",
       "stream": "stdout",
       "text": [
        " [81387L, 46113L]\n",
        "w: [0.4995172311764362, 0.50048276882352416]\n",
        "s:"
       ]
      },
      {
       "output_type": "stream",
       "stream": "stdout",
       "text": [
        " [35853L, 45534L, 28287L, 17826L]\n",
        "w: [0.26914160839995621, 0.23037562277645596, 0.27439612166068927, 0.22608664716287472]\n",
        "s:"
       ]
      },
      {
       "output_type": "stream",
       "stream": "stdout",
       "text": [
        " [6226L, 11600L, 18312L, 9975L, 18579L, 17274L, 28399L, 17135L]\n",
        "w: [0.10092029004556231, 0.12516635711728766, 0.16975948409694844, 0.10463663756370174, 0.12697836451232206, 0.14216324388758639, 0.13573214315325532, 0.094643479623169297]\n",
        "s:"
       ]
      },
      {
       "output_type": "stream",
       "stream": "stdout",
       "text": [
        " [6743L, 4857L, 5235L, 4740L, 7762L, 10550L, 2457L, 3769L, 14352L, 4227L, 4995L, 12279L, 3303L, 13832L, 21436L, 6963L]\n",
        "w: [0.076709325032408099, 0.048457032084882036, 0.060456537835231458, 0.044180099728481512, 0.066781816430453847, 0.1029776676664932, 0.036453532684558393, 0.064466757361011193, 0.096045454684958106, 0.030932909827366763, 0.037357215324124261, 0.10480602856346442, 0.018859704487969042, 0.075783775135201667, 0.10305246577535299, 0.032679677377911803]\n",
        "s:"
       ]
      },
      {
       "output_type": "stream",
       "stream": "stdout",
       "text": [
        " [356L, 6607L, 2667L, 636L, 2438L, 4305L, 9568L, 4784L, 1825L, 10454L, 2505L, 1264L, 4651L, 3111L, 1298L, 3442L, 20068L, 1368L, 2900L, 10932L, 2277L, 2580L, 4267L, 728L, 1570L, 2657L, 1519L, 938L, 2490L, 2745L, 6735L, 3815L]\n",
        "w: [0.003445815722213608, 0.029233861655698246, 0.014042940047628072, 0.0048167644403409142, 0.025872499624914537, 0.05083682540749429, 0.059629502102432216, 0.036415952582527784, 0.022969172630233816, 0.081836855933237751, 0.048382654353187747, 0.016084103007822474, 0.038900027434805126, 0.027881788995649231, 0.01462246927990328, 0.029557630448578304, 0.092626679092629435, 0.010425786682726566, 0.019677697721339246, 0.05610607741386358, 0.023780996342534919, 0.024676035742347037, 0.027451361155219109, 0.0099058541689047708, 0.013824016090932843, 0.017108893736433668, 0.020895795015262477, 0.015557737669295486, 0.019880890345858569, 0.040575647489372445, 0.069016946200931295, 0.033960721465563157]\n",
        "s:"
       ]
      },
      {
       "output_type": "stream",
       "stream": "stdout",
       "text": [
        " [47L, 681L, 1650L, 175L, 116L, 822L, 1743L, 1829L, 1282L, 1180L, 1400L, 2661L, 4074L, 1114L, 1324L, 1515L, 1927L, 1337L, 1153L, 563L, 805L, 913L, 3871L, 1807L, 4800L, 5052L, 5880L, 1375L, 195L, 1529L, 1138L, 3875L, 392L, 175L, 1089L, 1312L, 207L, 1274L, 9180L, 989L, 3316L, 1399L, 3252L, 1610L, 667L, 2939L, 876L, 1002L, 1404L, 1496L, 14215L, 5853L, 734L, 564L, 7103L, 2465L, 228L, 128L, 2333L, 172L, 601L, 2056L, 331L, 305L]\n",
        "w: [0.00045156077816828317, 0.0094542933907364856, 0.021569762357056696, 0.0013994102731771129, 0.0013785750149872529, 0.01417916265430824, 0.028249802172450759, 0.016951494021969077, 0.010930294973680008, 0.011822460822485947, 0.012853574919860987, 0.025375970843734517, 0.04364097535719684, 0.010551812175714737, 0.01532068744919967, 0.010854807043359725, 0.018702823405218009, 0.011409825046587141, 0.0084710652992714269, 0.0033205349038585908, 0.0071052517788680004, 0.0069660155526392511, 0.029449937029888556, 0.0078348544168240723, 0.021399007238873807, 0.028565018079013366, 0.027541059334851934, 0.012253354721743197, 0.0015706613691896284, 0.0072601451420767193, 0.0067827949055513839, 0.025111642468256812, 0.0023397186869622577, 0.0016009905738476433, 0.014483112433974829, 0.018745042363874018, 0.0021507526513884477, 0.0080574360609626094, 0.07377941987227829, 0.012781847179369043, 0.038054978228125091, 0.010989530663705204, 0.027910496771099844, 0.016532652090352842, 0.0072483442521820464, 0.028226002796421401, 0.0057347186691417548, 0.012325845316920962, 0.0090203486259774722, 0.010657349095361642, 0.065869557697833314, 0.026757121394806672, 0.0092712237286042068, 0.0053512455512991688, 0.042952951665106397, 0.01667655043732659, 0.0026396033436418189, 0.00080621237857178552, 0.045588362998966035, 0.0027942913542214421, 0.0046278098928848616, 0.01248108384354878, 0.0026513061515508296, 0.0021654582887900798]\n"
       ]
      }
     ],
     "prompt_number": 37
    },
    {
     "cell_type": "code",
     "collapsed": false,
     "input": [
      "criteria"
     ],
     "language": "python",
     "metadata": {},
     "outputs": [
      {
       "metadata": {},
       "output_type": "pyout",
       "prompt_number": 38,
       "text": [
        "[array([  21.        ,  147.61599731,  136.        ]),\n",
        " array([   2.        ,   78.67050171,  131.        ]),\n",
        " array([   1.        ,   44.68050003,  153.        ]),\n",
        " array([   8.        ,    4.71249962,  158.        ]),\n",
        " array([  11.        ,   -1.34249997,  105.        ]),\n",
        " array([  13.        ,   26.82349968,  124.        ])]"
       ]
      }
     ],
     "prompt_number": 38
    },
    {
     "cell_type": "code",
     "collapsed": false,
     "input": [
      "split = hierarchy.split_upper(trainFactory,criteria,equalizeWeights=False,split_weights=.67*4,split_inclusion=0.25)\n",
      "print [split[i].events.shape[0] for i in split]\n",
      "print [sum(split[i].weights) for i in split]"
     ],
     "language": "python",
     "metadata": {},
     "outputs": [
      {
       "output_type": "stream",
       "stream": "stdout",
       "text": [
        "[2449L, 5608L, 8515L, 3953L, 2746L, 5328L, 5921L, 6750L, 6483L, 6190L, 8098L, 7533L, 8144L, 6419L, 5190L, 7723L, 10174L, 7295L, 5845L, 5675L, 8592L, 5570L, 10069L, 8072L, 13227L, 13124L, 16582L, 6353L, 3454L, 8957L, 7238L, 11209L, 5123L, 3468L, 6321L, 8219L, 4423L, 8992L, 19104L, 5099L, 7700L, 8629L, 9403L, 6820L, 4618L, 7987L, 6612L, 4765L, 8155L, 6714L, 23693L, 14582L, 5423L, 4286L, 16308L, 9513L, 5334L, 3462L, 6153L, 3027L, 5302L, 9016L, 4409L, 5172L]\n",
        "[0.29592340837088232, 0.33414860249798822, 0.35720650657660408, 0.31511714505090577, 0.29634377662137168, 0.35321092992283021, 0.34575046098700651, 0.33474740048426516, 0.35917317912642271, 0.3342448057718746, 0.36971026174977395, 0.3463571847050041, 0.31400757971868165, 0.35889668650860146, 0.32366955866929065, 0.33849721822705509, 0.38180168441927453, 0.36351755247148115, 0.31585123349308702, 0.30587965412495549, 0.35076566585945024, 0.32934622654415224, 0.35695412502611557, 0.30841282830411815, 0.34693331458939419, 0.35481448775413088, 0.37224493823575655, 0.32960101769368755, 0.27692720539034882, 0.35337724049622665, 0.32069374755869212, 0.37404044620142723, 0.3212610896299003, 0.30029253852337923, 0.34483193413648333, 0.40276892079751692, 0.3259483166349913, 0.34150508511748839, 0.41497187701900479, 0.33015593005484434, 0.36848297425881898, 0.37920627167163223, 0.3465662435762189, 0.3473089214701261, 0.3057137218145094, 0.31649490064710289, 0.36286862180191765, 0.30355481502846082, 0.35921339148880888, 0.32955180644620319, 0.39287115364354447, 0.3547140166022224, 0.34734801885331829, 0.304888029662643, 0.39478193321348021, 0.35022473239092317, 0.33226533509158335, 0.28592260568995115, 0.35865898872329804, 0.32492219480734458, 0.3141286302542689, 0.34950255914778355, 0.30049798783873788, 0.33389776799910292]"
       ]
      },
      {
       "output_type": "stream",
       "stream": "stdout",
       "text": [
        "\n"
       ]
      }
     ],
     "prompt_number": 39
    },
    {
     "cell_type": "markdown",
     "metadata": {},
     "source": [
      "#Hierarchical stuff"
     ]
    },
    {
     "cell_type": "code",
     "collapsed": false,
     "input": [
      "%time\n",
      "trees_splitted = hierarchy.train_splitted_boosts(trees, trainFactory,criteria,loss_functions.LogLossAuc,0.255,1,\n",
      "                                                 100,200,regularizer =0.00039,\n",
      "                                                 verbose=True,\n",
      "                                                 use_joblib = True,joblib_method = \"threads\",\n",
      "                                                 weights_outside_leaf = 0.67, inclusion_outside_leaf = 1.) "
     ],
     "language": "python",
     "metadata": {},
     "outputs": [
      {
       "output_type": "stream",
       "stream": "stderr",
       "text": [
        "[Parallel(n_jobs=-1)]: Done   1 out of  64 | elapsed: 63.6min remaining: 4008.7min\n",
        "[Parallel(n_jobs=-1)]: Done  64 out of  64 | elapsed: 1064.2min finished\n"
       ]
      },
      {
       "output_type": "stream",
       "stream": "stdout",
       "text": [
        "Wall time: 0 ns\n"
       ]
      }
     ],
     "prompt_number": 47
    },
    {
     "cell_type": "code",
     "collapsed": false,
     "input": [
      "y_pred_splitted= hierarchy.predict_splitted(testFactory,criteria,trees_splitted)"
     ],
     "language": "python",
     "metadata": {},
     "outputs": [],
     "prompt_number": 48
    },
    {
     "cell_type": "code",
     "collapsed": false,
     "input": [
      "_= joblib.dump([criteria,trees_splitted],\"dumps/splitted 100 trees 346_black\")"
     ],
     "language": "python",
     "metadata": {},
     "outputs": [],
     "prompt_number": 52
    },
    {
     "cell_type": "code",
     "collapsed": false,
     "input": [
      "w_test = testFactory.weights\n",
      "Yts = testFactory.labels\n",
      "print 'spltd\\t',metrics.roc_auc_score(Yts,y_pred_splitted,sample_weight=w_test)\n",
      "print 'greedy\\t',metrics.roc_auc_score(Yts,y_pred_greedy,sample_weight=w_test)\n",
      "print 'stupid\\t',metrics.roc_auc_score(Yts,y_pred_stupid,sample_weight=w_test)\n",
      "print 'full\\t',metrics.roc_auc_score(Yts,y_pred_full,sample_weight=w_test)\n",
      "print \"well...\"\n"
     ],
     "language": "python",
     "metadata": {},
     "outputs": [
      {
       "output_type": "stream",
       "stream": "stdout",
       "text": [
        "spltd\t0.934652253318"
       ]
      },
      {
       "output_type": "stream",
       "stream": "stdout",
       "text": [
        "\n",
        "greedy\t0.933948876732"
       ]
      },
      {
       "output_type": "stream",
       "stream": "stdout",
       "text": [
        "\n",
        "stupid\t0.916904744001"
       ]
      },
      {
       "output_type": "stream",
       "stream": "stdout",
       "text": [
        "\n",
        "full\t0.935834322801"
       ]
      },
      {
       "output_type": "stream",
       "stream": "stdout",
       "text": [
        "\n",
        "well...\n"
       ]
      }
     ],
     "prompt_number": 50
    },
    {
     "cell_type": "markdown",
     "metadata": {},
     "source": [
      "#learning curves"
     ]
    },
    {
     "cell_type": "code",
     "collapsed": false,
     "input": [
      "#I know it could have been done without quadratic complexity over trees, but...\n",
      "#btw equalizing 1-0 weights for the training set is not optimal in terms of AUC, but it is close to being so.\n",
      "n_trees =100\n",
      "auc_stupid_lcurve = [(0.5,)]\n",
      "auc_greedy_lcurve = [(0.5,)]\n",
      "auc_splitted_lcurve = [(0.5,)]\n",
      "for i in range(1,n_trees):\n",
      "    #stpd\n",
      "    pred = testFactory.predict(trees[:i])\n",
      "    auc = metrics.roc_auc_score(testFactory.labels,pred,sample_weight=testFactory.weights),\n",
      "    auc_stupid_lcurve.append( auc)    \n",
      "    #grdy\n",
      "    pred = testFactory.predict(res_greedy[:i])#res_greedy_wheel is not optimized for this dissection \n",
      "    auc = metrics.roc_auc_score(testFactory.labels,pred,sample_weight=testFactory.weights),\n",
      "    auc_greedy_lcurve.append( auc)\n",
      "    #split\n",
      "    trees_i = {code:trees_splitted[code][:i] for code in trees_splitted}\n",
      "    pred = hierarchy.predict_splitted(testFactory,criteria,trees_i)\n",
      "\n",
      "    auc = metrics.roc_auc_score(testFactory.labels,pred,sample_weight=testFactory.weights),\n",
      "    auc_splitted_lcurve.append( auc)"
     ],
     "language": "python",
     "metadata": {},
     "outputs": [],
     "prompt_number": 62
    },
    {
     "cell_type": "code",
     "collapsed": false,
     "input": [
      "p = range(1,n_trees)\n",
      "plt.figure(figsize = [14,14])\n",
      "plt.plot(p,[0.935834322801 for i in range(1,n_trees)],label = \"full\")\n",
      "plt.plot(p,auc_stupid_lcurve[1:n_trees],label = \"stupid\")\n",
      "plt.plot(p,auc_greedy_lcurve[1:n_trees],label = \"greedy\")\n",
      "plt.plot(p,auc_splitted_lcurve[1:n_trees],label = \"splitted\")\n",
      "plt.title('learning curves')\n",
      "plt.legend(loc=\"lower right\")\n"
     ],
     "language": "python",
     "metadata": {},
     "outputs": [
      {
       "metadata": {},
       "output_type": "pyout",
       "prompt_number": 63,
       "text": [
        "<matplotlib.legend.Legend at 0x2abd7d30>"
       ]
      },
      {
       "metadata": {},
       "output_type": "display_data",
       "png": "[encoded data removed]",
       "text": [
        "<matplotlib.figure.Figure at 0x2aa06a58>"
       ]
      }
     ],
     "prompt_number": 63
    },
    {
     "cell_type": "markdown",
     "metadata": {},
     "source": [
      "#ROC at 100"
     ]
    },
    {
     "cell_type": "code",
     "collapsed": false,
     "input": [
      "y_pred_greedy_100 = testFactory.predict(res_greedy)\n",
      "y_pred_stupid_100 = testFactory.predict(trees[:100])\n",
      "y_pred_splitted_100 =  hierarchy.predict_splitted(testFactory,criteria, trees_splitted)"
     ],
     "language": "python",
     "metadata": {},
     "outputs": [],
     "prompt_number": 64
    },
    {
     "cell_type": "code",
     "collapsed": false,
     "input": [
      "# Plot ROC curve\n",
      "plt.figure(figsize = [14,14])\n",
      "fpr, tpr, _ = metrics.roc_curve(Yts, y_pred_full,sample_weight=testFactory.weights)\n",
      "plt.plot(fpr, tpr,\n",
      "         label='Full boost classi 10k trees')\n",
      "fpr, tpr, _ = metrics.roc_curve(Yts, y_pred_stupid_100,sample_weight=testFactory.weights)\n",
      "plt.plot(fpr, tpr,\n",
      "         label='first N trees classi')\n",
      "fpr, tpr, _ = metrics.roc_curve(Yts, y_pred_greedy_100,sample_weight=testFactory.weights)\n",
      "plt.plot(fpr, tpr,\n",
      "         label='Greedy prune classi+wheel')\n",
      "fpr, tpr, _ = metrics.roc_curve(Yts, y_pred_splitted_100,sample_weight=testFactory.weights)\n",
      "plt.plot(fpr, tpr,\n",
      "         label='8-leaf split classi+wheel')\n",
      "\n",
      "\n",
      "plt.plot([0, 1], [0, 1], 'k--')\n",
      "plt.xlim([0.0, 1.0])\n",
      "plt.ylim([0.0, 1.05])\n",
      "plt.xlabel('False Positive Rate')\n",
      "plt.ylabel('True Positive Rate')\n",
      "plt.title('ROC curves at 100 trees')\n",
      "plt.legend(loc=\"lower right\")\n",
      "plt.show()"
     ],
     "language": "python",
     "metadata": {},
     "outputs": [
      {
       "metadata": {},
       "output_type": "display_data",
       "png": "[encoded data removed]",
       "text": [
        "<matplotlib.figure.Figure at 0x1ba95fd0>"
       ]
      }
     ],
     "prompt_number": 65
    },
    {
     "cell_type": "markdown",
     "metadata": {},
     "source": [
      "#kinda..."
     ]
    },
    {
     "cell_type": "code",
     "collapsed": false,
     "input": [
      "factory = testFactory\n",
      "factories, indices =  hierarchy.split_upper(factory,criteria,True)\n",
      "y_pred = np.zeros(factory.n_events)\n",
      "for leaf in factories.keys():\n",
      "    y_pred[indices[leaf]] = factories[leaf].predict(trees_splitted[leaf])\n",
      "    print leaf, \"mu:\",np.mean(y_pred[indices[leaf]]),\"var:\", np.var(y_pred[indices[leaf]])\n",
      "    plt.hist(y_pred[indices[leaf]])\n",
      "    plt.show()\n",
      "\n",
      "    \n",
      "print metrics.roc_auc_score(factory.labels,y_pred,sample_weight=factory.weights)"
     ],
     "language": "python",
     "metadata": {},
     "outputs": [
      {
       "output_type": "stream",
       "stream": "stdout",
       "text": [
        "110000 mu: -0.546636935113 var: 3.7780221916\n"
       ]
      },
      {
       "metadata": {},
       "output_type": "display_data",
       "png": "[encoded data removed]",
       "text": [
        "<matplotlib.figure.Figure at 0x2a9f1da0>"
       ]
      },
      {
       "output_type": "stream",
       "stream": "stdout",
       "text": [
        "110001 mu: 1.94169389586 var: 3.83505906111\n"
       ]
      },
      {
       "metadata": {},
       "output_type": "display_data",
       "png": "[encoded data removed]",
       "text": [
        "<matplotlib.figure.Figure at 0x3e32d1d0>"
       ]
      },
      {
       "output_type": "stream",
       "stream": "stdout",
       "text": [
        "110101 mu: 1.70653885761 var: 3.70259819311\n"
       ]
      },
      {
       "metadata": {},
       "output_type": "display_data",
       "png": "[encoded data removed]",
       "text": [
        "<matplotlib.figure.Figure at 0x1bf72278>"
       ]
      },
      {
       "output_type": "stream",
       "stream": "stdout",
       "text": [
        "110100 mu: -0.481511983949 var: 3.11807222821\n"
       ]
      },
      {
       "metadata": {},
       "output_type": "display_data",
       "png": "[encoded data removed]",
       "text": [
        "<matplotlib.figure.Figure at 0x654f3cf8>"
       ]
      },
      {
       "output_type": "stream",
       "stream": "stdout",
       "text": [
        "010100 mu: -1.1510669666 var: 2.46654337311\n"
       ]
      },
      {
       "metadata": {},
       "output_type": "display_data",
       "png": "[encoded data removed]",
       "text": [
        "<matplotlib.figure.Figure at 0x37a0a470>"
       ]
      },
      {
       "output_type": "stream",
       "stream": "stdout",
       "text": [
        "010101 mu: 1.76508693314 var: 3.22362483755\n"
       ]
      },
      {
       "metadata": {},
       "output_type": "display_data",
       "png": "[encoded data removed]",
       "text": [
        "<matplotlib.figure.Figure at 0x3ee11da0>"
       ]
      },
      {
       "output_type": "stream",
       "stream": "stdout",
       "text": [
        "000001 mu: 1.38037007337 var: 2.41142904232\n"
       ]
      },
      {
       "metadata": {},
       "output_type": "display_data",
       "png": "[encoded data removed]",
       "text": [
        "<matplotlib.figure.Figure at 0x64b3cf28>"
       ]
      },
      {
       "output_type": "stream",
       "stream": "stdout",
       "text": [
        "001100 mu: -3.47893438907 var: 2.98399681829\n"
       ]
      },
      {
       "metadata": {},
       "output_type": "display_data",
       "png": "[encoded data removed]",
       "text": [
        "<matplotlib.figure.Figure at 0x1b37b5f8>"
       ]
      },
      {
       "output_type": "stream",
       "stream": "stdout",
       "text": [
        "001101 mu: -2.62794162768 var: 3.64870361382\n"
       ]
      },
      {
       "metadata": {},
       "output_type": "display_data",
       "png": "[encoded data removed]",
       "text": [
        "<matplotlib.figure.Figure at 0x351fc518>"
       ]
      },
      {
       "output_type": "stream",
       "stream": "stdout",
       "text": [
        "011110 mu: -3.43639686542 var: 2.75569727688\n"
       ]
      },
      {
       "metadata": {},
       "output_type": "display_data",
       "png": "[encoded data removed]",
       "text": [
        "<matplotlib.figure.Figure at 0x3b50e9e8>"
       ]
      },
      {
       "output_type": "stream",
       "stream": "stdout",
       "text": [
        "011111 mu: -1.58977526822 var: 4.21149367915\n"
       ]
      },
      {
       "metadata": {},
       "output_type": "display_data",
       "png": "[encoded data removed]",
       "text": [
        "<matplotlib.figure.Figure at 0x4fd803c8>"
       ]
      },
      {
       "output_type": "stream",
       "stream": "stdout",
       "text": [
        "001001 mu: -3.81372889714 var: 3.0457383396\n"
       ]
      },
      {
       "metadata": {},
       "output_type": "display_data",
       "png": "[encoded data removed]",
       "text": [
        "<matplotlib.figure.Figure at 0x4ecbc0f0>"
       ]
      },
      {
       "output_type": "stream",
       "stream": "stdout",
       "text": [
        "001000 mu: -4.34453655593 var: 3.80974740246\n"
       ]
      },
      {
       "metadata": {},
       "output_type": "display_data",
       "png": "[encoded data removed]",
       "text": [
        "<matplotlib.figure.Figure at 0x3b85bfd0>"
       ]
      },
      {
       "output_type": "stream",
       "stream": "stdout",
       "text": [
        "011011 mu: -1.88599699572 var: 4.14955110775\n"
       ]
      },
      {
       "metadata": {},
       "output_type": "display_data",
       "png": "[encoded data removed]",
       "text": [
        "<matplotlib.figure.Figure at 0x360dd208>"
       ]
      },
      {
       "output_type": "stream",
       "stream": "stdout",
       "text": [
        "011010 mu: -3.71917160003 var: 2.66894735539\n"
       ]
      },
      {
       "metadata": {},
       "output_type": "display_data",
       "png": "[encoded data removed]",
       "text": [
        "<matplotlib.figure.Figure at 0x3cf836a0>"
       ]
      },
      {
       "output_type": "stream",
       "stream": "stdout",
       "text": [
        "000110 mu: -0.266468922192 var: 1.56126454212\n"
       ]
      },
      {
       "metadata": {},
       "output_type": "display_data",
       "png": "[encoded data removed]",
       "text": [
        "<matplotlib.figure.Figure at 0x51087048>"
       ]
      },
      {
       "output_type": "stream",
       "stream": "stdout",
       "text": [
        "000111 mu: 0.901468714751 var: 1.58751835768\n"
       ]
      },
      {
       "metadata": {},
       "output_type": "display_data",
       "png": "[encoded data removed]",
       "text": [
        "<matplotlib.figure.Figure at 0x3e345198>"
       ]
      },
      {
       "output_type": "stream",
       "stream": "stdout",
       "text": [
        "000011 mu: 0.670923975316 var: 2.29137332994\n"
       ]
      },
      {
       "metadata": {},
       "output_type": "display_data",
       "png": "[encoded data removed]",
       "text": [
        "<matplotlib.figure.Figure at 0x65521f28>"
       ]
      },
      {
       "output_type": "stream",
       "stream": "stdout",
       "text": [
        "000010 mu: -0.280784576254 var: 1.7032307357\n"
       ]
      },
      {
       "metadata": {},
       "output_type": "display_data",
       "png": "[encoded data removed]",
       "text": [
        "<matplotlib.figure.Figure at 0x655141d0>"
       ]
      },
      {
       "output_type": "stream",
       "stream": "stdout",
       "text": [
        "100100 mu: -0.088178848831 var: 1.07020287124\n"
       ]
      },
      {
       "metadata": {},
       "output_type": "display_data",
       "png": "[encoded data removed]",
       "text": [
        "<matplotlib.figure.Figure at 0x1819e710>"
       ]
      },
      {
       "output_type": "stream",
       "stream": "stdout",
       "text": [
        "100101 mu: 1.11468349707 var: 1.56951198993\n"
       ]
      },
      {
       "metadata": {},
       "output_type": "display_data",
       "png": "[encoded data removed]",
       "text": [
        "<matplotlib.figure.Figure at 0x36b8ad30>"
       ]
      },
      {
       "output_type": "stream",
       "stream": "stdout",
       "text": [
        "111100 mu: -2.74346789756 var: 2.60017716001\n"
       ]
      },
      {
       "metadata": {},
       "output_type": "display_data",
       "png": "[encoded data removed]",
       "text": [
        "<matplotlib.figure.Figure at 0x3d0d25f8>"
       ]
      },
      {
       "output_type": "stream",
       "stream": "stdout",
       "text": [
        "111101 mu: -1.26810916181 var: 3.69431633921\n"
       ]
      },
      {
       "metadata": {},
       "output_type": "display_data",
       "png": "[encoded data removed]",
       "text": [
        "<matplotlib.figure.Figure at 0x3b4d9f28>"
       ]
      },
      {
       "output_type": "stream",
       "stream": "stdout",
       "text": [
        "100010 mu: 0.557068652437 var: 2.79318385862\n"
       ]
      },
      {
       "metadata": {},
       "output_type": "display_data",
       "png": "[encoded data removed]",
       "text": [
        "<matplotlib.figure.Figure at 0x3d0d2908>"
       ]
      },
      {
       "output_type": "stream",
       "stream": "stdout",
       "text": [
        "100011 mu: 1.63772279148 var: 4.4343195214\n"
       ]
      },
      {
       "metadata": {},
       "output_type": "display_data",
       "png": "[encoded data removed]",
       "text": [
        "<matplotlib.figure.Figure at 0x54a8bef0>"
       ]
      },
      {
       "output_type": "stream",
       "stream": "stdout",
       "text": [
        "101110 mu: -2.12307766404 var: 4.11207827226\n"
       ]
      },
      {
       "metadata": {},
       "output_type": "display_data",
       "png": "[encoded data removed]",
       "text": [
        "<matplotlib.figure.Figure at 0x3d0c5ba8>"
       ]
      },
      {
       "output_type": "stream",
       "stream": "stdout",
       "text": [
        "101111 mu: -0.601495545937 var: 5.5163617005\n"
       ]
      },
      {
       "metadata": {},
       "output_type": "display_data",
       "png": "[encoded data removed]",
       "text": [
        "<matplotlib.figure.Figure at 0x37a0a518>"
       ]
      },
      {
       "output_type": "stream",
       "stream": "stdout",
       "text": [
        "111001 mu: -1.8229878032 var: 3.11782235969\n"
       ]
      },
      {
       "metadata": {},
       "output_type": "display_data",
       "png": "[encoded data removed]",
       "text": [
        "<matplotlib.figure.Figure at 0x4c733f60>"
       ]
      },
      {
       "output_type": "stream",
       "stream": "stdout",
       "text": [
        "111000 mu: -3.27813211548 var: 2.63146077694\n"
       ]
      },
      {
       "metadata": {},
       "output_type": "display_data",
       "png": "[encoded data removed]",
       "text": [
        "<matplotlib.figure.Figure at 0x4c7384e0>"
       ]
      },
      {
       "output_type": "stream",
       "stream": "stdout",
       "text": [
        "101011 mu: -0.421967598537 var: 6.88725562972\n"
       ]
      },
      {
       "metadata": {},
       "output_type": "display_data",
       "png": "[encoded data removed]",
       "text": [
        "<matplotlib.figure.Figure at 0x3617d080>"
       ]
      },
      {
       "output_type": "stream",
       "stream": "stdout",
       "text": [
        "101010 mu: -2.04313524977 var: 5.43929764807\n"
       ]
      },
      {
       "metadata": {},
       "output_type": "display_data",
       "png": "[encoded data removed]",
       "text": [
        "<matplotlib.figure.Figure at 0x3afe4390>"
       ]
      },
      {
       "output_type": "stream",
       "stream": "stdout",
       "text": [
        "110011 mu: 2.8108755196 var: 2.92619008896\n"
       ]
      },
      {
       "metadata": {},
       "output_type": "display_data",
       "png": "[encoded data removed]",
       "text": [
        "<matplotlib.figure.Figure at 0x4ec9bb38>"
       ]
      },
      {
       "output_type": "stream",
       "stream": "stdout",
       "text": [
        "110010 mu: 0.73625950658 var: 3.97071172826\n"
       ]
      },
      {
       "metadata": {},
       "output_type": "display_data",
       "png": "[encoded data removed]",
       "text": [
        "<matplotlib.figure.Figure at 0x352142e8>"
       ]
      },
      {
       "output_type": "stream",
       "stream": "stdout",
       "text": [
        "010010 mu: -0.0511360331143 var: 2.52346510172\n"
       ]
      },
      {
       "metadata": {},
       "output_type": "display_data",
       "png": "[encoded data removed]",
       "text": [
        "<matplotlib.figure.Figure at 0x19cf8128>"
       ]
      },
      {
       "output_type": "stream",
       "stream": "stdout",
       "text": [
        "010011 mu: 2.30125137407 var: 2.70220892426\n"
       ]
      },
      {
       "metadata": {},
       "output_type": "display_data",
       "png": "[encoded data removed]",
       "text": [
        "<matplotlib.figure.Figure at 0x1b7b27f0>"
       ]
      },
      {
       "output_type": "stream",
       "stream": "stdout",
       "text": [
        "010111 mu: 2.02758803275 var: 2.31123520855\n"
       ]
      },
      {
       "metadata": {},
       "output_type": "display_data",
       "png": "[encoded data removed]",
       "text": [
        "<matplotlib.figure.Figure at 0x4c35b2b0>"
       ]
      },
      {
       "output_type": "stream",
       "stream": "stdout",
       "text": [
        "010110 mu: -0.722012021468 var: 3.13544519348\n"
       ]
      },
      {
       "metadata": {},
       "output_type": "display_data",
       "png": "[encoded data removed]",
       "text": [
        "<matplotlib.figure.Figure at 0x4fd782e8>"
       ]
      },
      {
       "output_type": "stream",
       "stream": "stdout",
       "text": [
        "110110 mu: 0.0873989971193 var: 3.93397706835\n"
       ]
      },
      {
       "metadata": {},
       "output_type": "display_data",
       "png": "[encoded data removed]",
       "text": [
        "<matplotlib.figure.Figure at 0x4ecd9b00>"
       ]
      },
      {
       "output_type": "stream",
       "stream": "stdout",
       "text": [
        "110111 mu: 2.36970373401 var: 3.49466821031\n"
       ]
      },
      {
       "metadata": {},
       "output_type": "display_data",
       "png": "[encoded data removed]",
       "text": [
        "<matplotlib.figure.Figure at 0x51a73d68>"
       ]
      },
      {
       "output_type": "stream",
       "stream": "stdout",
       "text": [
        "011000 mu: -3.85618241264 var: 2.85694762216\n"
       ]
      },
      {
       "metadata": {},
       "output_type": "display_data",
       "png": "[encoded data removed]",
       "text": [
        "<matplotlib.figure.Figure at 0x4ecd9160>"
       ]
      },
      {
       "output_type": "stream",
       "stream": "stdout",
       "text": [
        "011001 mu: -2.38361257692 var: 3.43400350471\n"
       ]
      },
      {
       "metadata": {},
       "output_type": "display_data",
       "png": "[encoded data removed]",
       "text": [
        "<matplotlib.figure.Figure at 0x1a2866a0>"
       ]
      },
      {
       "output_type": "stream",
       "stream": "stdout",
       "text": [
        "001111 mu: -2.18180270726 var: 4.79147337286\n"
       ]
      },
      {
       "metadata": {},
       "output_type": "display_data",
       "png": "[encoded data removed]",
       "text": [
        "<matplotlib.figure.Figure at 0x3b4d4160>"
       ]
      },
      {
       "output_type": "stream",
       "stream": "stdout",
       "text": [
        "001110 mu: -3.09315499899 var: 4.12990409774\n"
       ]
      },
      {
       "metadata": {},
       "output_type": "display_data",
       "png": "[encoded data removed]",
       "text": [
        "<matplotlib.figure.Figure at 0x3b8e4c88>"
       ]
      },
      {
       "output_type": "stream",
       "stream": "stdout",
       "text": [
        "011101 mu: -1.75825160886 var: 3.7225484249\n"
       ]
      },
      {
       "metadata": {},
       "output_type": "display_data",
       "png": "[encoded data removed]",
       "text": [
        "<matplotlib.figure.Figure at 0x36b7b828>"
       ]
      },
      {
       "output_type": "stream",
       "stream": "stdout",
       "text": [
        "011100 mu: -3.34167783003 var: 2.24970046723\n"
       ]
      },
      {
       "metadata": {},
       "output_type": "display_data",
       "png": "[encoded data removed]",
       "text": [
        "<matplotlib.figure.Figure at 0x3afdeb38>"
       ]
      },
      {
       "output_type": "stream",
       "stream": "stdout",
       "text": [
        "001010 mu: -3.20738862068 var: 3.72058542836\n"
       ]
      },
      {
       "metadata": {},
       "output_type": "display_data",
       "png": "[encoded data removed]",
       "text": [
        "<matplotlib.figure.Figure at 0x54a745c0>"
       ]
      },
      {
       "output_type": "stream",
       "stream": "stdout",
       "text": [
        "001011 mu: -1.97496487415 var: 4.82738196005\n"
       ]
      },
      {
       "metadata": {},
       "output_type": "display_data",
       "png": "[encoded data removed]",
       "text": [
        "<matplotlib.figure.Figure at 0x1b371ac8>"
       ]
      },
      {
       "output_type": "stream",
       "stream": "stdout",
       "text": [
        "000000 mu: -0.190701759802 var: 1.53448035697\n"
       ]
      },
      {
       "metadata": {},
       "output_type": "display_data",
       "png": "[encoded data removed]",
       "text": [
        "<matplotlib.figure.Figure at 0x36154048>"
       ]
      },
      {
       "output_type": "stream",
       "stream": "stdout",
       "text": [
        "101101 mu: -1.59730977781 var: 3.29374465284\n"
       ]
      },
      {
       "metadata": {},
       "output_type": "display_data",
       "png": "[encoded data removed]",
       "text": [
        "<matplotlib.figure.Figure at 0x181a1320>"
       ]
      },
      {
       "output_type": "stream",
       "stream": "stdout",
       "text": [
        "101100 mu: -2.58032270337 var: 2.7552868429\n"
       ]
      },
      {
       "metadata": {},
       "output_type": "display_data",
       "png": "[encoded data removed]",
       "text": [
        "<matplotlib.figure.Figure at 0x36ba0b70>"
       ]
      },
      {
       "output_type": "stream",
       "stream": "stdout",
       "text": [
        "100111 mu: 1.24478293437 var: 3.62174008891\n"
       ]
      },
      {
       "metadata": {},
       "output_type": "display_data",
       "png": "[encoded data removed]",
       "text": [
        "<matplotlib.figure.Figure at 0x3d0cb908>"
       ]
      },
      {
       "output_type": "stream",
       "stream": "stdout",
       "text": [
        "100110 mu: 0.336420497462 var: 2.26674164825\n"
       ]
      },
      {
       "metadata": {},
       "output_type": "display_data",
       "png": "[encoded data removed]",
       "text": [
        "<matplotlib.figure.Figure at 0x3e334048>"
       ]
      },
      {
       "output_type": "stream",
       "stream": "stdout",
       "text": [
        "000101 mu: 0.967808788605 var: 2.14517279466\n"
       ]
      },
      {
       "metadata": {},
       "output_type": "display_data",
       "png": "[encoded data removed]",
       "text": [
        "<matplotlib.figure.Figure at 0x3b84fcc0>"
       ]
      },
      {
       "output_type": "stream",
       "stream": "stdout",
       "text": [
        "000100 mu: -0.439120965265 var: 1.32794800047\n"
       ]
      },
      {
       "metadata": {},
       "output_type": "display_data",
       "png": "[encoded data removed]",
       "text": [
        "<matplotlib.figure.Figure at 0x3cf84320>"
       ]
      },
      {
       "output_type": "stream",
       "stream": "stdout",
       "text": [
        "111111 mu: -0.588579962426 var: 5.32048523182\n"
       ]
      },
      {
       "metadata": {},
       "output_type": "display_data",
       "png": "[encoded data removed]",
       "text": [
        "<matplotlib.figure.Figure at 0x4ecd7160>"
       ]
      },
      {
       "output_type": "stream",
       "stream": "stdout",
       "text": [
        "111110 mu: -2.74714617244 var: 3.38451082799\n"
       ]
      },
      {
       "metadata": {},
       "output_type": "display_data",
       "png": "[encoded data removed]",
       "text": [
        "<matplotlib.figure.Figure at 0x64d38eb8>"
       ]
      },
      {
       "output_type": "stream",
       "stream": "stdout",
       "text": [
        "100001 mu: 1.57652761866 var: 2.02673506293\n"
       ]
      },
      {
       "metadata": {},
       "output_type": "display_data",
       "png": "[encoded data removed]",
       "text": [
        "<matplotlib.figure.Figure at 0x351f1c50>"
       ]
      },
      {
       "output_type": "stream",
       "stream": "stdout",
       "text": [
        "100000 mu: 0.0838289395722 var: 1.37038162572\n"
       ]
      },
      {
       "metadata": {},
       "output_type": "display_data",
       "png": "[encoded data removed]",
       "text": [
        "<matplotlib.figure.Figure at 0x3b51c3c8>"
       ]
      },
      {
       "output_type": "stream",
       "stream": "stdout",
       "text": [
        "010001 mu: 2.18431644512 var: 3.36819889607\n"
       ]
      },
      {
       "metadata": {},
       "output_type": "display_data",
       "png": "[encoded data removed]",
       "text": [
        "<matplotlib.figure.Figure at 0x3b0054e0>"
       ]
      },
      {
       "output_type": "stream",
       "stream": "stdout",
       "text": [
        "010000 mu: -0.863871837312 var: 2.85208094617\n"
       ]
      },
      {
       "metadata": {},
       "output_type": "display_data",
       "png": "[encoded data removed]",
       "text": [
        "<matplotlib.figure.Figure at 0x666e4240>"
       ]
      },
      {
       "output_type": "stream",
       "stream": "stdout",
       "text": [
        "111010 mu: -2.77963895178 var: 3.38567614683\n"
       ]
      },
      {
       "metadata": {},
       "output_type": "display_data",
       "png": "[encoded data removed]",
       "text": [
        "<matplotlib.figure.Figure at 0x3cf8c860>"
       ]
      },
      {
       "output_type": "stream",
       "stream": "stdout",
       "text": [
        "111011 mu: -0.589277085392 var: 6.42406897839\n"
       ]
      },
      {
       "metadata": {},
       "output_type": "display_data",
       "png": "[encoded data removed]",
       "text": [
        "<matplotlib.figure.Figure at 0x64d4d240>"
       ]
      },
      {
       "output_type": "stream",
       "stream": "stdout",
       "text": [
        "101000 mu: -3.14485950172 var: 3.26781561708\n"
       ]
      },
      {
       "metadata": {},
       "output_type": "display_data",
       "png": "[encoded data removed]",
       "text": [
        "<matplotlib.figure.Figure at 0x3b8653c8>"
       ]
      },
      {
       "output_type": "stream",
       "stream": "stdout",
       "text": [
        "101001 mu: -2.40324103132 var: 3.04528385171\n"
       ]
      },
      {
       "metadata": {},
       "output_type": "display_data",
       "png": "[encoded data removed]",
       "text": [
        "<matplotlib.figure.Figure at 0x3548e1d0>"
       ]
      },
      {
       "output_type": "stream",
       "stream": "stdout",
       "text": [
        "0.934652253318\n"
       ]
      }
     ],
     "prompt_number": 66
    },
    {
     "cell_type": "code",
     "collapsed": false,
     "input": [
      "factories[leaf]"
     ],
     "language": "python",
     "metadata": {},
     "outputs": [
      {
       "metadata": {},
       "output_type": "pyout",
       "prompt_number": 45,
       "text": [
        "<factory.DataFactory instance at 0x000000001F7A4D48>"
       ]
      }
     ],
     "prompt_number": 45
    },
    {
     "cell_type": "code",
     "collapsed": false,
     "input": [],
     "language": "python",
     "metadata": {},
     "outputs": []
    }
   ],
   "metadata": {}
  }
 ]
}