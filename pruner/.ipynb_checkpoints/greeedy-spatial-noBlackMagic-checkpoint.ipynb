{
 "metadata": {
  "name": "",
  "signature": "sha256:affca72e94606958d85daf99fb456b5b5645a07767aac3bc28b983758d78a272"
 },
 "nbformat": 3,
 "nbformat_minor": 0,
 "worksheets": [
  {
   "cells": [
    {
     "cell_type": "code",
     "collapsed": false,
     "input": [
      "# I explore the cuts of the features\n",
      "%matplotlib inline\n",
      "#\u0442\u0430\u043a \u0442\u043e\u0436\u0435 \u043c\u043e\u0436\u043d\u043e \u0440\u0435\u0448\u0438\u0442\u044c \u043f\u0440\u043e\u0431\u043b\u0435\u043c\u0443 \u0438\u043d\u043b\u0430\u0439\u043b\u0430 \u043f\u043b\u043e\u0442\u043e\u0432\n",
      "\n",
      "import matplotlib.pyplot as plt\n",
      "import numpy as np\n",
      "\n",
      "import sklearn.metrics as metrics\n",
      "from sklearn.externals import joblib\n",
      "from sklearn import cross_validation as cv\n",
      "\n",
      "import _matrixnetapplier as mnet\n",
      "import copy\n",
      "import random\n"
     ],
     "language": "python",
     "metadata": {},
     "outputs": [],
     "prompt_number": 1
    },
    {
     "cell_type": "raw",
     "metadata": {},
     "source": [
      "@\u041c-\u0441\u044c\u0435 \u0412\u044f\u0447\u0435\u0441\u043b\u0430\u0432 \u0410\u043b\u0438\u043f\u043e\u0432\n",
      "\u0414\u043e\u0431\u0440\u044b\u0439 \u0451\u0436\u0438\u043a!\n",
      "\u041d\u0438\u0436\u0435 \u0441\u043b\u0435\u0434\u0443\u0435\u0442 \u0434\u0435\u043c\u043a\u0430 \u0442\u043e\u0433\u043e, \u043a\u0430\u043a \u043d\u0430\u0448 \u043f\u0440\u0443\u043d\u0435\u0440 \u0437\u0430\u0432\u043e\u0434\u0438\u0442\u044c \u0438 \u043d\u0430\u0444\u0438\u0433\u0430 \u043e\u043d \u043d\u0443\u0436\u0435\u043d. \n",
      "\u0421\u0430\u043c \u043f\u0440\u0443\u043d\u0435\u0440 \u0434\u043e\u043b\u0436\u0435\u043d \u043b\u0435\u0436\u0430\u0442\u044c \u0432 \u044d\u0442\u043e\u0439 \u0436\u0435 \u0434\u0438\u0440\u0435\u043a\u0442\u043e\u0440\u0438\u0438\n",
      "\u0427\u0442\u043e \u0435\u043c\u0443 \u043d\u0443\u0436\u043d\u043e: python 2.7, sklearn(0.16.1), numpy, scipy, matplotlib, \n",
      "\u041e\u0442\u043a\u0443\u0434\u0430 \u0434\u0430\u0442\u0430:  training.csv \u0438\u0437 kaggle higgs challenge, formula.mx - mx\u043d\u044b\u0439 \u0444\u0430\u0439\u043b \u043c\u0430\u0442\u0440\u0438\u043a\u0441\u043d\u0435\u0442\u0430, \u043a\u043e\u0442\u043e\u0440\u044b\u0439 10000 \u0434\u0435\u0435\u0432\u044c\u0435\u0432. \u0423\u0447\u0438\u043b\u0441\u044f \u043d\u0430 \u0442\u0435\u0445 \u0436\u0435 Xtr,Ytr,Wtr, \u0447\u0442\u043e \u0444\u0438\u0433\u0443\u0440\u0438\u0440\u0443\u044e\u0442  \u0434\u0430\u043b\u0435\u0435 \u0432 \u0442\u0435\u0442\u0440\u0430\u0434\u043a\u0435."
     ]
    },
    {
     "cell_type": "markdown",
     "metadata": {},
     "source": [
      "# Extracting the trained model"
     ]
    },
    {
     "cell_type": "code",
     "collapsed": false,
     "input": [
      "itr,trees = mnet.get_trees(\"formula/formula.mx\") #\u043d\u0430\u0443\u0447\u0435\u043d\u0430\u044f \u043f\u043e LogLoss\u0443 \u0444\u043e\u0440\u043c\u0443\u043b\u0430 \u043d\u0430 10k \u0434\u0435\u0440\u0435\u0432\u044c\u0435\u0432 \u043d\u0430 \u0434\u0435\u0444\u043e\u043b\u0442\u043d\u044b\u0445 \u0444\u0438\u0447\u0430\u0445\n",
      "n_features = 30\n",
      "print itr"
     ],
     "language": "python",
     "metadata": {},
     "outputs": [
      {
       "output_type": "stream",
       "stream": "stdout",
       "text": [
        "(6, 10000, <generator object _iterate_over_trees_with_fixed_depth at 0x000000000AC6EC18>)\n"
       ]
      }
     ],
     "prompt_number": 2
    },
    {
     "cell_type": "markdown",
     "metadata": {},
     "source": [
      "# Loading dataset"
     ]
    },
    {
     "cell_type": "code",
     "collapsed": false,
     "input": [
      "#load training set\n",
      "def load_data(path):\n",
      "    print 'Loading training data...'\n",
      "    data = np.loadtxt(path, \\\n",
      "            delimiter=',', \\\n",
      "            skiprows=1, \\\n",
      "            converters={32: lambda x:int(x=='s'.encode('utf-8'))})\n",
      "\n",
      "    X = data[:,1:31]\n",
      "    Y = data[:,32]\n",
      "    W = data[:,31]\n",
      "    print \"Loaded.\"\n",
      "    return X,Y,W"
     ],
     "language": "python",
     "metadata": {},
     "outputs": [],
     "prompt_number": 3
    },
    {
     "cell_type": "code",
     "collapsed": false,
     "input": [
      "X,Y,W = load_data(\"data/training.csv\")"
     ],
     "language": "python",
     "metadata": {},
     "outputs": [
      {
       "output_type": "stream",
       "stream": "stdout",
       "text": [
        "Loading training data...\n",
        "Loaded."
       ]
      },
      {
       "output_type": "stream",
       "stream": "stdout",
       "text": [
        "\n"
       ]
      }
     ],
     "prompt_number": 4
    },
    {
     "cell_type": "code",
     "collapsed": false,
     "input": [
      "from sklearn.cross_validation import train_test_split\n",
      "Xtr,Xts,Ytr,Yts,Wtr,Wts = train_test_split(X, Y, W, train_size=0.51, random_state=42)"
     ],
     "language": "python",
     "metadata": {},
     "outputs": [],
     "prompt_number": 5
    },
    {
     "cell_type": "code",
     "collapsed": false,
     "input": [
      "from factory import DataFactory\n",
      "#DataFactory is just a data wrapper that can handle splits, predictions, etc. \n",
      "#Used to avoid recomputing metadata at each predictions and passing large argument strings\n",
      "trainFactory = DataFactory(Xtr,Ytr,Wtr)\n",
      "testFactory = DataFactory(Xts,Yts,Wts)"
     ],
     "language": "python",
     "metadata": {},
     "outputs": [],
     "prompt_number": 6
    },
    {
     "cell_type": "code",
     "collapsed": false,
     "input": [
      "#equalize classes, normalize weights\n",
      "trainFactory.equalizeWeights()\n",
      "print sum(trainFactory.weights[trainFactory.labels==1]),\n",
      "print sum(trainFactory.weights[trainFactory.labels==0]),\n",
      "print sum(trainFactory.weights),"
     ],
     "language": "python",
     "metadata": {},
     "outputs": [
      {
       "output_type": "stream",
       "stream": "stdout",
       "text": [
        "0.5 0.5 "
       ]
      },
      {
       "output_type": "stream",
       "stream": "stdout",
       "text": [
        "0.999999999999\n"
       ]
      }
     ],
     "prompt_number": 7
    },
    {
     "cell_type": "markdown",
     "metadata": {},
     "source": [
      "#sanity check"
     ]
    },
    {
     "cell_type": "code",
     "collapsed": false,
     "input": [
      "def compute_ams_on_cuts(answers, predictions, sample_weight):\n",
      "    \"\"\" Predictions are probabilities\"\"\"\n",
      "    b, s, thresholds = metrics.roc_curve(answers, predictions, sample_weight=sample_weight)\n",
      "    # normalization constants\n",
      "    real_s = 691.988607712\n",
      "    real_b = 410999.847322\n",
      "    s *= real_s\n",
      "    b *= real_b\n",
      "    br = 10.\n",
      "    radicands = 2 * ((s + b + br) * np.log(1.0 + s/(b + br)) - s)\n",
      "    return thresholds, radicands\n",
      "\n",
      "def optimal_AMS(answers, predictions, sample_weight):\n",
      "    \"\"\" Predictions are probabilities \"\"\"\n",
      "    cuts, radicands = compute_ams_on_cuts(answers, predictions, sample_weight)\n",
      "    return np.sqrt(np.max(radicands))\n",
      "\n",
      "\n",
      "def precisionAt15(answers, predictions, sample_weight, percent=0.15):\n",
      "    n_passed = int(len(answers) * percent)\n",
      "    RATIO = 50\n",
      "    weight = sample_weight.copy()\n",
      "    weight[answers == 0] /= weight[answers == 0].mean() / RATIO\n",
      "    weight[answers == 1] /= weight[answers == 1].mean()\n",
      "    order = np.argsort(-predictions)\n",
      "    passed = order[:n_passed]    \n",
      "    return np.average(answers[passed], weights=weight[passed])"
     ],
     "language": "python",
     "metadata": {},
     "outputs": [],
     "prompt_number": 8
    },
    {
     "cell_type": "code",
     "collapsed": false,
     "input": [
      "def print_control_metrics(proba_test, proba_train):\n",
      "    for name, metric in [('ROC', metrics.roc_auc_score), ('AMS', optimal_AMS), ('precision', precisionAt15)]:\n",
      "        print name,\n",
      "        print metric(Yts, proba_test, sample_weight=Wts), \n",
      "        print metric(Ytr, proba_train, sample_weight=Wtr)"
     ],
     "language": "python",
     "metadata": {},
     "outputs": [],
     "prompt_number": 9
    },
    {
     "cell_type": "code",
     "collapsed": false,
     "input": [
      "%%time\n",
      "print_control_metrics(testFactory.predict(trees),trainFactory.predict(trees))"
     ],
     "language": "python",
     "metadata": {},
     "outputs": [
      {
       "output_type": "stream",
       "stream": "stdout",
       "text": [
        "ROC "
       ]
      },
      {
       "output_type": "stream",
       "stream": "stdout",
       "text": [
        "0.935834322801 "
       ]
      },
      {
       "output_type": "stream",
       "stream": "stdout",
       "text": [
        "0.961031805042\n",
        "AMS "
       ]
      },
      {
       "output_type": "stream",
       "stream": "stdout",
       "text": [
        "3.71746365006 "
       ]
      },
      {
       "output_type": "stream",
       "stream": "stdout",
       "text": [
        "5.41899018232\n",
        "precision 0.266316147498 "
       ]
      },
      {
       "output_type": "stream",
       "stream": "stdout",
       "text": [
        "0.394846517557\n",
        "Wall time: 1min 10s\n"
       ]
      }
     ],
     "prompt_number": 10
    },
    {
     "cell_type": "markdown",
     "metadata": {},
     "source": [
      "# greedy pruning for the whole data"
     ]
    },
    {
     "cell_type": "code",
     "collapsed": false,
     "input": [
      "import greedy\n",
      "from loss_functions import LogLoss"
     ],
     "language": "python",
     "metadata": {},
     "outputs": [],
     "prompt_number": 11
    },
    {
     "cell_type": "code",
     "collapsed": false,
     "input": [
      "%%time\n",
      "res_greedy = greedy.greed_up_features_bfs(trees,trainFactory,\n",
      "                                          loss = LogLoss,\n",
      "                                          learning_rate = .25,\n",
      "                                          learning_rate_decay=1.,# no decay\n",
      "                                          nTrees =150,\n",
      "                                          trees_sample_size =100, #chosen from the ensemble at random each iteration\n",
      "                                          verbose = True,\n",
      "                                          regularizer=0.0004, #added to gradient walker's leaf denominator\n",
      "                                          use_joblib=True,\n",
      "                                          n_jobs=-1,\n",
      "                                          joblib_method=\"threads\" #every GIL-ly thing is copied anyways\n",
      "                                          )"
     ],
     "language": "python",
     "metadata": {},
     "outputs": [
      {
       "output_type": "stream",
       "stream": "stdout",
       "text": [
        "\n",
        "iteration # 0  ntrees =  1 \n",
        "best loss =  0.588947804637\n",
        "learning_rate =  0.25\n",
        "sample_size 500\n",
        "\n",
        "iteration #"
       ]
      },
      {
       "output_type": "stream",
       "stream": "stdout",
       "text": [
        " 1  ntrees =  2 \n",
        "best loss =  0.521734612549 \n",
        "last loss =  0.521734612549\n",
        "learning_rate =  0.25\n",
        "sample_size 500\n",
        "\n",
        "iteration #"
       ]
      },
      {
       "output_type": "stream",
       "stream": "stdout",
       "text": [
        " 2  ntrees =  3 \n",
        "best loss =  0.476768530581 \n",
        "last loss =  0.476768530581\n",
        "learning_rate =  0.25\n",
        "sample_size 500\n",
        "\n",
        "iteration #"
       ]
      },
      {
       "output_type": "stream",
       "stream": "stdout",
       "text": [
        " 3  ntrees =  4 \n",
        "best loss =  0.445608946392 \n",
        "last loss =  0.445608946392\n",
        "learning_rate =  0.25\n",
        "sample_size 500\n",
        "\n",
        "iteration #"
       ]
      },
      {
       "output_type": "stream",
       "stream": "stdout",
       "text": [
        " 4  ntrees =  5 \n",
        "best loss =  0.423233394908 \n",
        "last loss =  0.423233394908\n",
        "learning_rate =  0.25\n",
        "sample_size 500\n",
        "\n",
        "iteration #"
       ]
      },
      {
       "output_type": "stream",
       "stream": "stdout",
       "text": [
        " 5  ntrees =  6 \n",
        "best loss =  0.406764494162 \n",
        "last loss =  0.406764494162\n",
        "learning_rate =  0.25\n",
        "sample_size 500\n",
        "\n",
        "iteration #"
       ]
      },
      {
       "output_type": "stream",
       "stream": "stdout",
       "text": [
        " 6  ntrees =  7 \n",
        "best loss =  0.394572055659 \n",
        "last loss =  0.394572055659\n",
        "learning_rate =  0.25\n",
        "sample_size 500\n",
        "\n",
        "iteration #"
       ]
      },
      {
       "output_type": "stream",
       "stream": "stdout",
       "text": [
        " 7  ntrees =  8 \n",
        "best loss =  0.385152857867 \n",
        "last loss =  0.385152857867\n",
        "learning_rate =  0.25\n",
        "sample_size 500\n",
        "\n",
        "iteration #"
       ]
      },
      {
       "output_type": "stream",
       "stream": "stdout",
       "text": [
        " 8  ntrees =  9 \n",
        "best loss =  0.377420826067 \n",
        "last loss =  0.377420826067\n",
        "learning_rate =  0.25\n",
        "sample_size 500\n",
        "\n",
        "iteration #"
       ]
      },
      {
       "output_type": "stream",
       "stream": "stdout",
       "text": [
        " 9  ntrees =  10 \n",
        "best loss =  0.371579745949 \n",
        "last loss =  0.371579745949\n",
        "learning_rate =  0.25\n",
        "sample_size 500\n",
        "\n",
        "iteration #"
       ]
      },
      {
       "output_type": "stream",
       "stream": "stdout",
       "text": [
        " 10  ntrees =  11 \n",
        "best loss =  0.366768061127 \n",
        "last loss =  0.366768061127\n",
        "learning_rate =  0.25\n",
        "sample_size 500\n",
        "\n",
        "iteration #"
       ]
      },
      {
       "output_type": "stream",
       "stream": "stdout",
       "text": [
        " 11  ntrees =  12 \n",
        "best loss =  0.36253230826 \n",
        "last loss =  0.36253230826\n",
        "learning_rate =  0.25\n",
        "sample_size 500\n",
        "\n",
        "iteration #"
       ]
      },
      {
       "output_type": "stream",
       "stream": "stdout",
       "text": [
        " 12  ntrees =  13 \n",
        "best loss =  0.359136335786 \n",
        "last loss =  0.359136335786\n",
        "learning_rate =  0.25\n",
        "sample_size 500\n",
        "\n",
        "iteration #"
       ]
      },
      {
       "output_type": "stream",
       "stream": "stdout",
       "text": [
        " 13  ntrees =  14 \n",
        "best loss =  0.356098418107 \n",
        "last loss =  0.356098418107\n",
        "learning_rate =  0.25\n",
        "sample_size 500\n",
        "\n",
        "iteration #"
       ]
      },
      {
       "output_type": "stream",
       "stream": "stdout",
       "text": [
        " 14  ntrees =  15 \n",
        "best loss =  0.353511694798 \n",
        "last loss =  0.353511694798\n",
        "learning_rate =  0.25\n",
        "sample_size 500\n",
        "\n",
        "iteration #"
       ]
      },
      {
       "output_type": "stream",
       "stream": "stdout",
       "text": [
        " 15  ntrees =  16 \n",
        "best loss =  0.351204895442 \n",
        "last loss =  0.351204895442\n",
        "learning_rate =  0.25\n",
        "sample_size 500\n",
        "\n",
        "iteration #"
       ]
      },
      {
       "output_type": "stream",
       "stream": "stdout",
       "text": [
        " 16  ntrees =  17 \n",
        "best loss =  0.348955825511 \n",
        "last loss =  0.348955825511\n",
        "learning_rate =  0.25\n",
        "sample_size 500\n",
        "\n",
        "iteration #"
       ]
      },
      {
       "output_type": "stream",
       "stream": "stdout",
       "text": [
        " 17  ntrees =  18 \n",
        "best loss =  0.347247589283 \n",
        "last loss =  0.347247589283\n",
        "learning_rate =  0.25\n",
        "sample_size 500\n",
        "\n",
        "iteration #"
       ]
      },
      {
       "output_type": "stream",
       "stream": "stdout",
       "text": [
        " 18  ntrees =  19 \n",
        "best loss =  0.345561308217 \n",
        "last loss =  0.345561308217\n",
        "learning_rate =  0.25\n",
        "sample_size 500\n",
        "\n",
        "iteration #"
       ]
      },
      {
       "output_type": "stream",
       "stream": "stdout",
       "text": [
        " 19  ntrees =  20 \n",
        "best loss =  0.343985680044 \n",
        "last loss =  0.343985680044\n",
        "learning_rate =  0.25\n",
        "sample_size 500\n",
        "\n",
        "iteration #"
       ]
      },
      {
       "output_type": "stream",
       "stream": "stdout",
       "text": [
        " 20  ntrees =  21 \n",
        "best loss =  0.342597398465 \n",
        "last loss =  0.342597398465\n",
        "learning_rate =  0.25\n",
        "sample_size 500\n",
        "\n",
        "iteration #"
       ]
      },
      {
       "output_type": "stream",
       "stream": "stdout",
       "text": [
        " 21  ntrees =  22 \n",
        "best loss =  0.341293917541 \n",
        "last loss =  0.341293917541\n",
        "learning_rate =  0.25\n",
        "sample_size 500\n",
        "\n",
        "iteration #"
       ]
      },
      {
       "output_type": "stream",
       "stream": "stdout",
       "text": [
        " 22  ntrees =  23 \n",
        "best loss =  0.340054212163 \n",
        "last loss =  0.340054212163\n",
        "learning_rate =  0.25\n",
        "sample_size 500\n",
        "\n",
        "iteration #"
       ]
      },
      {
       "output_type": "stream",
       "stream": "stdout",
       "text": [
        " 23  ntrees =  24 \n",
        "best loss =  0.338971758089 \n",
        "last loss =  0.338971758089\n",
        "learning_rate =  0.25\n",
        "sample_size 500\n",
        "\n",
        "iteration #"
       ]
      },
      {
       "output_type": "stream",
       "stream": "stdout",
       "text": [
        " 24  ntrees =  25 \n",
        "best loss =  0.33788814832 \n",
        "last loss =  0.33788814832\n",
        "learning_rate =  0.25\n",
        "sample_size 500\n",
        "\n",
        "iteration #"
       ]
      },
      {
       "output_type": "stream",
       "stream": "stdout",
       "text": [
        " 25  ntrees =  26 \n",
        "best loss =  0.336896869822 \n",
        "last loss =  0.336896869822\n",
        "learning_rate =  0.25\n",
        "sample_size 500\n",
        "\n",
        "iteration #"
       ]
      },
      {
       "output_type": "stream",
       "stream": "stdout",
       "text": [
        " 26  ntrees =  27 \n",
        "best loss =  0.336001518846 \n",
        "last loss =  0.336001518846\n",
        "learning_rate =  0.25\n",
        "sample_size 500\n",
        "\n",
        "iteration #"
       ]
      },
      {
       "output_type": "stream",
       "stream": "stdout",
       "text": [
        " 27  ntrees =  28 \n",
        "best loss =  0.33509519967 \n",
        "last loss =  0.33509519967\n",
        "learning_rate =  0.25\n",
        "sample_size 500\n",
        "\n",
        "iteration #"
       ]
      },
      {
       "output_type": "stream",
       "stream": "stdout",
       "text": [
        " 28  ntrees =  29 \n",
        "best loss =  0.334313272967 \n",
        "last loss =  0.334313272967\n",
        "learning_rate =  0.25\n",
        "sample_size 500\n",
        "\n",
        "iteration #"
       ]
      },
      {
       "output_type": "stream",
       "stream": "stdout",
       "text": [
        " 29  ntrees =  30 \n",
        "best loss =  0.333561202388 \n",
        "last loss =  0.333561202388\n",
        "learning_rate =  0.25\n",
        "sample_size 500\n",
        "\n",
        "iteration #"
       ]
      },
      {
       "output_type": "stream",
       "stream": "stdout",
       "text": [
        " 30  ntrees =  31 \n",
        "best loss =  0.332809655038 \n",
        "last loss =  0.332809655038\n",
        "learning_rate =  0.25\n",
        "sample_size 500\n",
        "\n",
        "iteration #"
       ]
      },
      {
       "output_type": "stream",
       "stream": "stdout",
       "text": [
        " 31  ntrees =  32 \n",
        "best loss =  0.332129107423 \n",
        "last loss =  0.332129107423\n",
        "learning_rate =  0.25\n",
        "sample_size 500\n",
        "\n",
        "iteration #"
       ]
      },
      {
       "output_type": "stream",
       "stream": "stdout",
       "text": [
        " 32  ntrees =  33 \n",
        "best loss =  0.331466025643 \n",
        "last loss =  0.331466025643\n",
        "learning_rate =  0.25\n",
        "sample_size 500\n",
        "\n",
        "iteration #"
       ]
      },
      {
       "output_type": "stream",
       "stream": "stdout",
       "text": [
        " 33  ntrees =  34 \n",
        "best loss =  0.330874644589 \n",
        "last loss =  0.330874644589\n",
        "learning_rate =  0.25\n",
        "sample_size 500\n",
        "\n",
        "iteration #"
       ]
      },
      {
       "output_type": "stream",
       "stream": "stdout",
       "text": [
        " 34  ntrees =  35 \n",
        "best loss =  0.330272310915 \n",
        "last loss =  0.330272310915\n",
        "learning_rate =  0.25\n",
        "sample_size 500\n",
        "\n",
        "iteration #"
       ]
      },
      {
       "output_type": "stream",
       "stream": "stdout",
       "text": [
        " 35  ntrees =  36 \n",
        "best loss =  0.329731037398 \n",
        "last loss =  0.329731037398\n",
        "learning_rate =  0.25\n",
        "sample_size 500\n",
        "\n",
        "iteration #"
       ]
      },
      {
       "output_type": "stream",
       "stream": "stdout",
       "text": [
        " 36  ntrees =  37 \n",
        "best loss =  0.329205666199 \n",
        "last loss =  0.329205666199\n",
        "learning_rate =  0.25\n",
        "sample_size 500\n",
        "\n",
        "iteration #"
       ]
      },
      {
       "output_type": "stream",
       "stream": "stdout",
       "text": [
        " 37  ntrees =  38 \n",
        "best loss =  0.328706385918 \n",
        "last loss =  0.328706385918\n",
        "learning_rate =  0.25\n",
        "sample_size 500\n",
        "\n",
        "iteration #"
       ]
      },
      {
       "output_type": "stream",
       "stream": "stdout",
       "text": [
        " 38  ntrees =  39 \n",
        "best loss =  0.328213626008 \n",
        "last loss =  0.328213626008\n",
        "learning_rate =  0.25\n",
        "sample_size 500\n",
        "\n",
        "iteration #"
       ]
      },
      {
       "output_type": "stream",
       "stream": "stdout",
       "text": [
        " 39  ntrees =  40 \n",
        "best loss =  0.327746816387 \n",
        "last loss =  0.327746816387\n",
        "learning_rate =  0.25\n",
        "sample_size 500\n",
        "\n",
        "iteration #"
       ]
      },
      {
       "output_type": "stream",
       "stream": "stdout",
       "text": [
        " 40  ntrees =  41 \n",
        "best loss =  0.327282366709 \n",
        "last loss =  0.327282366709\n",
        "learning_rate =  0.25\n",
        "sample_size 500\n",
        "\n",
        "iteration #"
       ]
      },
      {
       "output_type": "stream",
       "stream": "stdout",
       "text": [
        " 41  ntrees =  42 \n",
        "best loss =  0.326853890173 \n",
        "last loss =  0.326853890173\n",
        "learning_rate =  0.25\n",
        "sample_size 500\n",
        "\n",
        "iteration #"
       ]
      },
      {
       "output_type": "stream",
       "stream": "stdout",
       "text": [
        " 42  ntrees =  43 \n",
        "best loss =  0.326405101295 \n",
        "last loss =  0.326405101295\n",
        "learning_rate =  0.25\n",
        "sample_size 500\n",
        "\n",
        "iteration #"
       ]
      },
      {
       "output_type": "stream",
       "stream": "stdout",
       "text": [
        " 43  ntrees =  44 \n",
        "best loss =  0.325965964564 \n",
        "last loss =  0.325965964564\n",
        "learning_rate =  0.25\n",
        "sample_size 500\n",
        "\n",
        "iteration #"
       ]
      },
      {
       "output_type": "stream",
       "stream": "stdout",
       "text": [
        " 44  ntrees =  45 \n",
        "best loss =  0.325537348693 \n",
        "last loss =  0.325537348693\n",
        "learning_rate =  0.25\n",
        "sample_size 500\n",
        "\n",
        "iteration #"
       ]
      },
      {
       "output_type": "stream",
       "stream": "stdout",
       "text": [
        " 45  ntrees =  46 \n",
        "best loss =  0.325114944467 \n",
        "last loss =  0.325114944467\n",
        "learning_rate =  0.25\n",
        "sample_size 500\n",
        "\n",
        "iteration #"
       ]
      },
      {
       "output_type": "stream",
       "stream": "stdout",
       "text": [
        " 46  ntrees =  47 \n",
        "best loss =  0.324708041144 \n",
        "last loss =  0.324708041144\n",
        "learning_rate =  0.25\n",
        "sample_size 500\n",
        "\n",
        "iteration #"
       ]
      },
      {
       "output_type": "stream",
       "stream": "stdout",
       "text": [
        " 47  ntrees =  48 \n",
        "best loss =  0.324349147591 \n",
        "last loss =  0.324349147591\n",
        "learning_rate =  0.25\n",
        "sample_size 500\n",
        "\n",
        "iteration #"
       ]
      },
      {
       "output_type": "stream",
       "stream": "stdout",
       "text": [
        " 48  ntrees =  49 \n",
        "best loss =  0.323960510028 \n",
        "last loss =  0.323960510028\n",
        "learning_rate =  0.25\n",
        "sample_size 500\n",
        "\n",
        "iteration #"
       ]
      },
      {
       "output_type": "stream",
       "stream": "stdout",
       "text": [
        " 49  ntrees =  50 \n",
        "best loss =  0.323564881918 \n",
        "last loss =  0.323564881918\n",
        "learning_rate =  0.25\n",
        "sample_size 500\n",
        "\n",
        "iteration #"
       ]
      },
      {
       "output_type": "stream",
       "stream": "stdout",
       "text": [
        " 50  ntrees =  51 \n",
        "best loss =  0.323222632337 \n",
        "last loss =  0.323222632337\n",
        "learning_rate =  0.25\n",
        "sample_size 500\n",
        "\n",
        "iteration #"
       ]
      },
      {
       "output_type": "stream",
       "stream": "stdout",
       "text": [
        " 51  ntrees =  52 \n",
        "best loss =  0.322867571582 \n",
        "last loss =  0.322867571582\n",
        "learning_rate =  0.25\n",
        "sample_size 500\n",
        "\n",
        "iteration #"
       ]
      },
      {
       "output_type": "stream",
       "stream": "stdout",
       "text": [
        " 52  ntrees =  53 \n",
        "best loss =  0.322538251131 \n",
        "last loss =  0.322538251131\n",
        "learning_rate =  0.25\n",
        "sample_size 500\n",
        "\n",
        "iteration #"
       ]
      },
      {
       "output_type": "stream",
       "stream": "stdout",
       "text": [
        " 53  ntrees =  54 \n",
        "best loss =  0.322199656002 \n",
        "last loss =  0.322199656002\n",
        "learning_rate =  0.25\n",
        "sample_size 500\n",
        "\n",
        "iteration #"
       ]
      },
      {
       "output_type": "stream",
       "stream": "stdout",
       "text": [
        " 54  ntrees =  55 \n",
        "best loss =  0.321871503305 \n",
        "last loss =  0.321871503305\n",
        "learning_rate =  0.25\n",
        "sample_size 500\n",
        "\n",
        "iteration #"
       ]
      },
      {
       "output_type": "stream",
       "stream": "stdout",
       "text": [
        " 55  ntrees =  56 \n",
        "best loss =  0.321590292357 \n",
        "last loss =  0.321590292357\n",
        "learning_rate =  0.25\n",
        "sample_size 500\n",
        "\n",
        "iteration #"
       ]
      },
      {
       "output_type": "stream",
       "stream": "stdout",
       "text": [
        " 56  ntrees =  57 \n",
        "best loss =  0.321278840116 \n",
        "last loss =  0.321278840116\n",
        "learning_rate =  0.25\n",
        "sample_size 500\n",
        "\n",
        "iteration #"
       ]
      },
      {
       "output_type": "stream",
       "stream": "stdout",
       "text": [
        " 57  ntrees =  58 \n",
        "best loss =  0.32098062676 \n",
        "last loss =  0.32098062676\n",
        "learning_rate =  0.25\n",
        "sample_size 500\n",
        "\n",
        "iteration #"
       ]
      },
      {
       "output_type": "stream",
       "stream": "stdout",
       "text": [
        " 58  ntrees =  59 \n",
        "best loss =  0.320688278277 \n",
        "last loss =  0.320688278277\n",
        "learning_rate =  0.25\n",
        "sample_size 500\n",
        "\n",
        "iteration #"
       ]
      },
      {
       "output_type": "stream",
       "stream": "stdout",
       "text": [
        " 59  ntrees =  60 \n",
        "best loss =  0.320362476334 \n",
        "last loss =  0.320362476334\n",
        "learning_rate =  0.25\n",
        "sample_size 500\n",
        "\n",
        "iteration #"
       ]
      },
      {
       "output_type": "stream",
       "stream": "stdout",
       "text": [
        " 60  ntrees =  61 \n",
        "best loss =  0.320062696818 \n",
        "last loss =  0.320062696818\n",
        "learning_rate =  0.25\n",
        "sample_size 500\n",
        "\n",
        "iteration #"
       ]
      },
      {
       "output_type": "stream",
       "stream": "stdout",
       "text": [
        " 61  ntrees =  62 \n",
        "best loss =  0.319783045613 \n",
        "last loss =  0.319783045613\n",
        "learning_rate =  0.25\n",
        "sample_size 500\n",
        "\n",
        "iteration #"
       ]
      },
      {
       "output_type": "stream",
       "stream": "stdout",
       "text": [
        " 62  ntrees =  63 \n",
        "best loss =  0.319510588524 \n",
        "last loss =  0.319510588524\n",
        "learning_rate =  0.25\n",
        "sample_size 500\n",
        "\n",
        "iteration #"
       ]
      },
      {
       "output_type": "stream",
       "stream": "stdout",
       "text": [
        " 63  ntrees =  64 \n",
        "best loss =  0.319239298441 \n",
        "last loss =  0.319239298441\n",
        "learning_rate =  0.25\n",
        "sample_size 500\n",
        "\n",
        "iteration #"
       ]
      },
      {
       "output_type": "stream",
       "stream": "stdout",
       "text": [
        " 64  ntrees =  65 \n",
        "best loss =  0.318964855519 \n",
        "last loss =  0.318964855519\n",
        "learning_rate =  0.25\n",
        "sample_size 500\n",
        "\n",
        "iteration #"
       ]
      },
      {
       "output_type": "stream",
       "stream": "stdout",
       "text": [
        " 65  ntrees =  66 \n",
        "best loss =  0.318703116638 \n",
        "last loss =  0.318703116638\n",
        "learning_rate =  0.25\n",
        "sample_size 500\n",
        "\n",
        "iteration #"
       ]
      },
      {
       "output_type": "stream",
       "stream": "stdout",
       "text": [
        " 66  ntrees =  67 \n",
        "best loss =  0.318424495914 \n",
        "last loss =  0.318424495914\n",
        "learning_rate =  0.25\n",
        "sample_size 500\n",
        "\n",
        "iteration #"
       ]
      },
      {
       "output_type": "stream",
       "stream": "stdout",
       "text": [
        " 67  ntrees =  68 \n",
        "best loss =  0.318168401017 \n",
        "last loss =  0.318168401017\n",
        "learning_rate =  0.25\n",
        "sample_size 500\n",
        "\n",
        "iteration #"
       ]
      },
      {
       "output_type": "stream",
       "stream": "stdout",
       "text": [
        " 68  ntrees =  69 \n",
        "best loss =  0.317899567422 \n",
        "last loss =  0.317899567422\n",
        "learning_rate =  0.25\n",
        "sample_size 500\n",
        "\n",
        "iteration #"
       ]
      },
      {
       "output_type": "stream",
       "stream": "stdout",
       "text": [
        " 69  ntrees =  70 \n",
        "best loss =  0.31764978013 \n",
        "last loss =  0.31764978013\n",
        "learning_rate =  0.25\n",
        "sample_size 500\n",
        "\n",
        "iteration #"
       ]
      },
      {
       "output_type": "stream",
       "stream": "stdout",
       "text": [
        " 70  ntrees =  71 \n",
        "best loss =  0.317394520652 \n",
        "last loss =  0.317394520652\n",
        "learning_rate =  0.25\n",
        "sample_size 500\n",
        "\n",
        "iteration #"
       ]
      },
      {
       "output_type": "stream",
       "stream": "stdout",
       "text": [
        " 71  ntrees =  72 \n",
        "best loss =  0.317121117603 \n",
        "last loss =  0.317121117603\n",
        "learning_rate =  0.25\n",
        "sample_size 500\n",
        "\n",
        "iteration #"
       ]
      },
      {
       "output_type": "stream",
       "stream": "stdout",
       "text": [
        " 72  ntrees =  73 \n",
        "best loss =  0.31684292874 \n",
        "last loss =  0.31684292874\n",
        "learning_rate =  0.25\n",
        "sample_size 500\n",
        "\n",
        "iteration #"
       ]
      },
      {
       "output_type": "stream",
       "stream": "stdout",
       "text": [
        " 73  ntrees =  74 \n",
        "best loss =  0.316596032998 \n",
        "last loss =  0.316596032998\n",
        "learning_rate =  0.25\n",
        "sample_size 500\n",
        "\n",
        "iteration #"
       ]
      },
      {
       "output_type": "stream",
       "stream": "stdout",
       "text": [
        " 74  ntrees =  75 \n",
        "best loss =  0.316354758734 \n",
        "last loss =  0.316354758734\n",
        "learning_rate =  0.25\n",
        "sample_size 500\n",
        "\n",
        "iteration #"
       ]
      },
      {
       "output_type": "stream",
       "stream": "stdout",
       "text": [
        " 75  ntrees =  76 \n",
        "best loss =  0.316121713079 \n",
        "last loss =  0.316121713079\n",
        "learning_rate =  0.25\n",
        "sample_size 500\n",
        "\n",
        "iteration #"
       ]
      },
      {
       "output_type": "stream",
       "stream": "stdout",
       "text": [
        " 76  ntrees =  77 \n",
        "best loss =  0.315894181906 \n",
        "last loss =  0.315894181906\n",
        "learning_rate =  0.25\n",
        "sample_size 500\n",
        "\n",
        "iteration #"
       ]
      },
      {
       "output_type": "stream",
       "stream": "stdout",
       "text": [
        " 77  ntrees =  78 \n",
        "best loss =  0.315644894103 \n",
        "last loss =  0.315644894103\n",
        "learning_rate =  0.25\n",
        "sample_size 500\n",
        "\n",
        "iteration #"
       ]
      },
      {
       "output_type": "stream",
       "stream": "stdout",
       "text": [
        " 78  ntrees =  79 \n",
        "best loss =  0.315410763674 \n",
        "last loss =  0.315410763674\n",
        "learning_rate =  0.25\n",
        "sample_size 500\n",
        "\n",
        "iteration #"
       ]
      },
      {
       "output_type": "stream",
       "stream": "stdout",
       "text": [
        " 79  ntrees =  80 \n",
        "best loss =  0.315182710911 \n",
        "last loss =  0.315182710911\n",
        "learning_rate =  0.25\n",
        "sample_size 500\n",
        "\n",
        "iteration #"
       ]
      },
      {
       "output_type": "stream",
       "stream": "stdout",
       "text": [
        " 80  ntrees =  81 \n",
        "best loss =  0.314951176742 \n",
        "last loss =  0.314951176742\n",
        "learning_rate =  0.25\n",
        "sample_size 500\n",
        "\n",
        "iteration #"
       ]
      },
      {
       "output_type": "stream",
       "stream": "stdout",
       "text": [
        " 81  ntrees =  82 \n",
        "best loss =  0.314720700572 \n",
        "last loss =  0.314720700572\n",
        "learning_rate =  0.25\n",
        "sample_size 500\n",
        "\n",
        "iteration #"
       ]
      },
      {
       "output_type": "stream",
       "stream": "stdout",
       "text": [
        " 82  ntrees =  83 \n",
        "best loss =  0.314489803059 \n",
        "last loss =  0.314489803059\n",
        "learning_rate =  0.25\n",
        "sample_size 500\n",
        "\n",
        "iteration #"
       ]
      },
      {
       "output_type": "stream",
       "stream": "stdout",
       "text": [
        " 83  ntrees =  84 \n",
        "best loss =  0.31426981991 \n",
        "last loss =  0.31426981991\n",
        "learning_rate =  0.25\n",
        "sample_size 500\n",
        "\n",
        "iteration #"
       ]
      },
      {
       "output_type": "stream",
       "stream": "stdout",
       "text": [
        " 84  ntrees =  85 \n",
        "best loss =  0.314057989212 \n",
        "last loss =  0.314057989212\n",
        "learning_rate =  0.25\n",
        "sample_size 500\n",
        "\n",
        "iteration #"
       ]
      },
      {
       "output_type": "stream",
       "stream": "stdout",
       "text": [
        " 85  ntrees =  86 \n",
        "best loss =  0.313817626259 \n",
        "last loss =  0.313817626259\n",
        "learning_rate =  0.25\n",
        "sample_size 500\n",
        "\n",
        "iteration #"
       ]
      },
      {
       "output_type": "stream",
       "stream": "stdout",
       "text": [
        " 86  ntrees =  87 \n",
        "best loss =  0.313574489793 \n",
        "last loss =  0.313574489793\n",
        "learning_rate =  0.25\n",
        "sample_size 500\n",
        "\n",
        "iteration #"
       ]
      },
      {
       "output_type": "stream",
       "stream": "stdout",
       "text": [
        " 87  ntrees =  88 \n",
        "best loss =  0.313350888851 \n",
        "last loss =  0.313350888851\n",
        "learning_rate =  0.25\n",
        "sample_size 500\n",
        "\n",
        "iteration #"
       ]
      },
      {
       "output_type": "stream",
       "stream": "stdout",
       "text": [
        " 88  ntrees =  89 \n",
        "best loss =  0.313121662466 \n",
        "last loss =  0.313121662466\n",
        "learning_rate =  0.25\n",
        "sample_size 500\n",
        "\n",
        "iteration #"
       ]
      },
      {
       "output_type": "stream",
       "stream": "stdout",
       "text": [
        " 89  ntrees =  90 \n",
        "best loss =  0.31291758476 \n",
        "last loss =  0.31291758476\n",
        "learning_rate =  0.25\n",
        "sample_size 500\n",
        "\n",
        "iteration #"
       ]
      },
      {
       "output_type": "stream",
       "stream": "stdout",
       "text": [
        " 90  ntrees =  91 \n",
        "best loss =  0.312697600355 \n",
        "last loss =  0.312697600355\n",
        "learning_rate =  0.25\n",
        "sample_size 500\n",
        "\n",
        "iteration #"
       ]
      },
      {
       "output_type": "stream",
       "stream": "stdout",
       "text": [
        " 91  ntrees =  92 \n",
        "best loss =  0.312477068298 \n",
        "last loss =  0.312477068298\n",
        "learning_rate =  0.25\n",
        "sample_size 500\n",
        "\n",
        "iteration #"
       ]
      },
      {
       "output_type": "stream",
       "stream": "stdout",
       "text": [
        " 92  ntrees =  93 \n",
        "best loss =  0.312267503876 \n",
        "last loss =  0.312267503876\n",
        "learning_rate =  0.25\n",
        "sample_size 500\n",
        "\n",
        "iteration #"
       ]
      },
      {
       "output_type": "stream",
       "stream": "stdout",
       "text": [
        " 93  ntrees =  94 \n",
        "best loss =  0.312043809042 \n",
        "last loss =  0.312043809042\n",
        "learning_rate =  0.25\n",
        "sample_size 500\n",
        "\n",
        "iteration #"
       ]
      },
      {
       "output_type": "stream",
       "stream": "stdout",
       "text": [
        " 94  ntrees =  95 \n",
        "best loss =  0.311806064191 \n",
        "last loss =  0.311806064191\n",
        "learning_rate =  0.25\n",
        "sample_size 500\n",
        "\n",
        "iteration #"
       ]
      },
      {
       "output_type": "stream",
       "stream": "stdout",
       "text": [
        " 95  ntrees =  96 \n",
        "best loss =  0.311569916971 \n",
        "last loss =  0.311569916971\n",
        "learning_rate =  0.25\n",
        "sample_size 500\n",
        "\n",
        "iteration #"
       ]
      },
      {
       "output_type": "stream",
       "stream": "stdout",
       "text": [
        " 96  ntrees =  97 \n",
        "best loss =  0.311364328125 \n",
        "last loss =  0.311364328125\n",
        "learning_rate =  0.25\n",
        "sample_size 500\n",
        "\n",
        "iteration #"
       ]
      },
      {
       "output_type": "stream",
       "stream": "stdout",
       "text": [
        " 97  ntrees =  98 \n",
        "best loss =  0.311167874732 \n",
        "last loss =  0.311167874732\n",
        "learning_rate =  0.25\n",
        "sample_size 500\n",
        "\n",
        "iteration #"
       ]
      },
      {
       "output_type": "stream",
       "stream": "stdout",
       "text": [
        " 98  ntrees =  99 \n",
        "best loss =  0.310971929141 \n",
        "last loss =  0.310971929141\n",
        "learning_rate =  0.25\n",
        "sample_size 500\n",
        "\n",
        "iteration #"
       ]
      },
      {
       "output_type": "stream",
       "stream": "stdout",
       "text": [
        " 99  ntrees =  100 \n",
        "best loss =  0.310769285479 \n",
        "last loss =  0.310769285479\n",
        "learning_rate =  0.25\n",
        "sample_size 500\n",
        "\n",
        "iteration #"
       ]
      },
      {
       "output_type": "stream",
       "stream": "stdout",
       "text": [
        " 100  ntrees =  101 \n",
        "best loss =  0.310541948559 \n",
        "last loss =  0.310541948559\n",
        "learning_rate =  0.25\n",
        "sample_size 500\n",
        "\n",
        "iteration #"
       ]
      },
      {
       "output_type": "stream",
       "stream": "stdout",
       "text": [
        " 101  ntrees =  102 \n",
        "best loss =  0.310342566235 \n",
        "last loss =  0.310342566235\n",
        "learning_rate =  0.25\n",
        "sample_size 500\n",
        "\n",
        "iteration #"
       ]
      },
      {
       "output_type": "stream",
       "stream": "stdout",
       "text": [
        " 102  ntrees =  103 \n",
        "best loss =  0.310159092667 \n",
        "last loss =  0.310159092667\n",
        "learning_rate =  0.25\n",
        "sample_size 500\n",
        "\n",
        "iteration #"
       ]
      },
      {
       "output_type": "stream",
       "stream": "stdout",
       "text": [
        " 103  ntrees =  104 \n",
        "best loss =  0.309965488347 \n",
        "last loss =  0.309965488347\n",
        "learning_rate =  0.25\n",
        "sample_size 500\n",
        "\n",
        "iteration #"
       ]
      },
      {
       "output_type": "stream",
       "stream": "stdout",
       "text": [
        " 104  ntrees =  105 \n",
        "best loss =  0.309775823048 \n",
        "last loss =  0.309775823048\n",
        "learning_rate =  0.25\n",
        "sample_size 500\n",
        "\n",
        "iteration #"
       ]
      },
      {
       "output_type": "stream",
       "stream": "stdout",
       "text": [
        " 105  ntrees =  106 \n",
        "best loss =  0.309579518502 \n",
        "last loss =  0.309579518502\n",
        "learning_rate =  0.25\n",
        "sample_size 500\n",
        "\n",
        "iteration #"
       ]
      },
      {
       "output_type": "stream",
       "stream": "stdout",
       "text": [
        " 106  ntrees =  107 \n",
        "best loss =  0.309380513048 \n",
        "last loss =  0.309380513048\n",
        "learning_rate =  0.25\n",
        "sample_size 500\n",
        "\n",
        "iteration #"
       ]
      },
      {
       "output_type": "stream",
       "stream": "stdout",
       "text": [
        " 107  ntrees =  108 \n",
        "best loss =  0.30916484111 \n",
        "last loss =  0.30916484111\n",
        "learning_rate =  0.25\n",
        "sample_size 500\n",
        "\n",
        "iteration #"
       ]
      },
      {
       "output_type": "stream",
       "stream": "stdout",
       "text": [
        " 108  ntrees =  109 \n",
        "best loss =  0.308981887055 \n",
        "last loss =  0.308981887055\n",
        "learning_rate =  0.25\n",
        "sample_size 500\n",
        "\n",
        "iteration #"
       ]
      },
      {
       "output_type": "stream",
       "stream": "stdout",
       "text": [
        " 109  ntrees =  110 \n",
        "best loss =  0.308788459132 \n",
        "last loss =  0.308788459132\n",
        "learning_rate =  0.25\n",
        "sample_size 500\n",
        "\n",
        "iteration #"
       ]
      },
      {
       "output_type": "stream",
       "stream": "stdout",
       "text": [
        " 110  ntrees =  111 \n",
        "best loss =  0.308595521755 \n",
        "last loss =  0.308595521755\n",
        "learning_rate =  0.25\n",
        "sample_size 500\n",
        "\n",
        "iteration #"
       ]
      },
      {
       "output_type": "stream",
       "stream": "stdout",
       "text": [
        " 111  ntrees =  112 \n",
        "best loss =  0.308407625611 \n",
        "last loss =  0.308407625611\n",
        "learning_rate =  0.25\n",
        "sample_size 500\n",
        "\n",
        "iteration #"
       ]
      },
      {
       "output_type": "stream",
       "stream": "stdout",
       "text": [
        " 112  ntrees =  113 \n",
        "best loss =  0.308223913086 \n",
        "last loss =  0.308223913086\n",
        "learning_rate =  0.25\n",
        "sample_size 500\n",
        "\n",
        "iteration #"
       ]
      },
      {
       "output_type": "stream",
       "stream": "stdout",
       "text": [
        " 113  ntrees =  114 \n",
        "best loss =  0.308035141528 \n",
        "last loss =  0.308035141528\n",
        "learning_rate =  0.25\n",
        "sample_size 500\n",
        "\n",
        "iteration #"
       ]
      },
      {
       "output_type": "stream",
       "stream": "stdout",
       "text": [
        " 114  ntrees =  115 \n",
        "best loss =  0.307854527129 \n",
        "last loss =  0.307854527129\n",
        "learning_rate =  0.25\n",
        "sample_size 500\n",
        "\n",
        "iteration #"
       ]
      },
      {
       "output_type": "stream",
       "stream": "stdout",
       "text": [
        " 115  ntrees =  116 \n",
        "best loss =  0.30767237475 \n",
        "last loss =  0.30767237475\n",
        "learning_rate =  0.25\n",
        "sample_size 500\n",
        "\n",
        "iteration #"
       ]
      },
      {
       "output_type": "stream",
       "stream": "stdout",
       "text": [
        " 116  ntrees =  117 \n",
        "best loss =  0.307488816551 \n",
        "last loss =  0.307488816551\n",
        "learning_rate =  0.25\n",
        "sample_size 500\n",
        "\n",
        "iteration #"
       ]
      },
      {
       "output_type": "stream",
       "stream": "stdout",
       "text": [
        " 117  ntrees =  118 \n",
        "best loss =  0.307293630553 \n",
        "last loss =  0.307293630553\n",
        "learning_rate =  0.25\n",
        "sample_size 500\n",
        "\n",
        "iteration #"
       ]
      },
      {
       "output_type": "stream",
       "stream": "stdout",
       "text": [
        " 118  ntrees =  119 \n",
        "best loss =  0.307099663992 \n",
        "last loss =  0.307099663992\n",
        "learning_rate =  0.25\n",
        "sample_size 500\n",
        "\n",
        "iteration #"
       ]
      },
      {
       "output_type": "stream",
       "stream": "stdout",
       "text": [
        " 119  ntrees =  120 \n",
        "best loss =  0.306928232761 \n",
        "last loss =  0.306928232761\n",
        "learning_rate =  0.25\n",
        "sample_size 500\n",
        "\n",
        "iteration #"
       ]
      },
      {
       "output_type": "stream",
       "stream": "stdout",
       "text": [
        " 120  ntrees =  121 \n",
        "best loss =  0.306751225079 \n",
        "last loss =  0.306751225079\n",
        "learning_rate =  0.25\n",
        "sample_size 500\n",
        "\n",
        "iteration #"
       ]
      },
      {
       "output_type": "stream",
       "stream": "stdout",
       "text": [
        " 121  ntrees =  122 \n",
        "best loss =  0.306573745652 \n",
        "last loss =  0.306573745652\n",
        "learning_rate =  0.25\n",
        "sample_size 500\n",
        "\n",
        "iteration #"
       ]
      },
      {
       "output_type": "stream",
       "stream": "stdout",
       "text": [
        " 122  ntrees =  123 \n",
        "best loss =  0.30640623473 \n",
        "last loss =  0.30640623473\n",
        "learning_rate =  0.25\n",
        "sample_size 500\n",
        "\n",
        "iteration #"
       ]
      },
      {
       "output_type": "stream",
       "stream": "stdout",
       "text": [
        " 123  ntrees =  124 \n",
        "best loss =  0.306232087989 \n",
        "last loss =  0.306232087989\n",
        "learning_rate =  0.25\n",
        "sample_size 500\n",
        "\n",
        "iteration #"
       ]
      },
      {
       "output_type": "stream",
       "stream": "stdout",
       "text": [
        " 124  ntrees =  125 \n",
        "best loss =  0.306062084739 \n",
        "last loss =  0.306062084739\n",
        "learning_rate =  0.25\n",
        "sample_size 500\n",
        "\n",
        "iteration #"
       ]
      },
      {
       "output_type": "stream",
       "stream": "stdout",
       "text": [
        " 125  ntrees =  126 \n",
        "best loss =  0.305889410474 \n",
        "last loss =  0.305889410474\n",
        "learning_rate =  0.25\n",
        "sample_size 500\n",
        "\n",
        "iteration #"
       ]
      },
      {
       "output_type": "stream",
       "stream": "stdout",
       "text": [
        " 126  ntrees =  127 \n",
        "best loss =  0.305718570814 \n",
        "last loss =  0.305718570814\n",
        "learning_rate =  0.25\n",
        "sample_size 500\n",
        "\n",
        "iteration #"
       ]
      },
      {
       "output_type": "stream",
       "stream": "stdout",
       "text": [
        " 127  ntrees =  128 \n",
        "best loss =  0.305558236277 \n",
        "last loss =  0.305558236277\n",
        "learning_rate =  0.25\n",
        "sample_size 500\n",
        "\n",
        "iteration #"
       ]
      },
      {
       "output_type": "stream",
       "stream": "stdout",
       "text": [
        " 128  ntrees =  129 \n",
        "best loss =  0.30538447291 \n",
        "last loss =  0.30538447291\n",
        "learning_rate =  0.25\n",
        "sample_size 500\n",
        "\n",
        "iteration #"
       ]
      },
      {
       "output_type": "stream",
       "stream": "stdout",
       "text": [
        " 129  ntrees =  130 \n",
        "best loss =  0.305218147569 \n",
        "last loss =  0.305218147569\n",
        "learning_rate =  0.25\n",
        "sample_size 500\n",
        "\n",
        "iteration #"
       ]
      },
      {
       "output_type": "stream",
       "stream": "stdout",
       "text": [
        " 130  ntrees =  131 \n",
        "best loss =  0.305034834744 \n",
        "last loss =  0.305034834744\n",
        "learning_rate =  0.25\n",
        "sample_size 500\n",
        "\n",
        "iteration #"
       ]
      },
      {
       "output_type": "stream",
       "stream": "stdout",
       "text": [
        " 131  ntrees =  132 \n",
        "best loss =  0.304868997964 \n",
        "last loss =  0.304868997964\n",
        "learning_rate =  0.25\n",
        "sample_size 500\n",
        "\n",
        "iteration #"
       ]
      },
      {
       "output_type": "stream",
       "stream": "stdout",
       "text": [
        " 132  ntrees =  133 \n",
        "best loss =  0.304705201838 \n",
        "last loss =  0.304705201838\n",
        "learning_rate =  0.25\n",
        "sample_size 500\n",
        "\n",
        "iteration #"
       ]
      },
      {
       "output_type": "stream",
       "stream": "stdout",
       "text": [
        " 133  ntrees =  134 \n",
        "best loss =  0.304539711588 \n",
        "last loss =  0.304539711588\n",
        "learning_rate =  0.25\n",
        "sample_size 500\n",
        "\n",
        "iteration #"
       ]
      },
      {
       "output_type": "stream",
       "stream": "stdout",
       "text": [
        " 134  ntrees =  135 \n",
        "best loss =  0.304357468997 \n",
        "last loss =  0.304357468997\n",
        "learning_rate =  0.25\n",
        "sample_size 500\n",
        "\n",
        "iteration #"
       ]
      },
      {
       "output_type": "stream",
       "stream": "stdout",
       "text": [
        " 135  ntrees =  136 \n",
        "best loss =  0.30418689345 \n",
        "last loss =  0.30418689345\n",
        "learning_rate =  0.25\n",
        "sample_size 500\n",
        "\n",
        "iteration #"
       ]
      },
      {
       "output_type": "stream",
       "stream": "stdout",
       "text": [
        " 136  ntrees =  137 \n",
        "best loss =  0.304020110649 \n",
        "last loss =  0.304020110649\n",
        "learning_rate =  0.25\n",
        "sample_size 500\n",
        "\n",
        "iteration #"
       ]
      },
      {
       "output_type": "stream",
       "stream": "stdout",
       "text": [
        " 137  ntrees =  138 \n",
        "best loss =  0.303856892962 \n",
        "last loss =  0.303856892962\n",
        "learning_rate =  0.25\n",
        "sample_size 500\n",
        "\n",
        "iteration #"
       ]
      },
      {
       "output_type": "stream",
       "stream": "stdout",
       "text": [
        " 138  ntrees =  139 \n",
        "best loss =  0.303697324969 \n",
        "last loss =  0.303697324969\n",
        "learning_rate =  0.25\n",
        "sample_size 500\n",
        "\n",
        "iteration #"
       ]
      },
      {
       "output_type": "stream",
       "stream": "stdout",
       "text": [
        " 139  ntrees =  140 \n",
        "best loss =  0.303537043558 \n",
        "last loss =  0.303537043558\n",
        "learning_rate =  0.25\n",
        "sample_size 500\n",
        "\n",
        "iteration #"
       ]
      },
      {
       "output_type": "stream",
       "stream": "stdout",
       "text": [
        " 140  ntrees =  141 \n",
        "best loss =  0.303366278453 \n",
        "last loss =  0.303366278453\n",
        "learning_rate =  0.25\n",
        "sample_size 500\n",
        "\n",
        "iteration #"
       ]
      },
      {
       "output_type": "stream",
       "stream": "stdout",
       "text": [
        " 141  ntrees =  142 \n",
        "best loss =  0.3031978625 \n",
        "last loss =  0.3031978625\n",
        "learning_rate =  0.25\n",
        "sample_size 500\n",
        "\n",
        "iteration #"
       ]
      },
      {
       "output_type": "stream",
       "stream": "stdout",
       "text": [
        " 142  ntrees =  143 \n",
        "best loss =  0.30304108037 \n",
        "last loss =  0.30304108037\n",
        "learning_rate =  0.25\n",
        "sample_size 500\n",
        "\n",
        "iteration #"
       ]
      },
      {
       "output_type": "stream",
       "stream": "stdout",
       "text": [
        " 143  ntrees =  144 \n",
        "best loss =  0.30288450717 \n",
        "last loss =  0.30288450717\n",
        "learning_rate =  0.25\n",
        "sample_size 500\n",
        "\n",
        "iteration #"
       ]
      },
      {
       "output_type": "stream",
       "stream": "stdout",
       "text": [
        " 144  ntrees =  145 \n",
        "best loss =  0.302735065535 \n",
        "last loss =  0.302735065535\n",
        "learning_rate =  0.25\n",
        "sample_size 500\n",
        "\n",
        "iteration #"
       ]
      },
      {
       "output_type": "stream",
       "stream": "stdout",
       "text": [
        " 145  ntrees =  146 \n",
        "best loss =  0.302563171498 \n",
        "last loss =  0.302563171498\n",
        "learning_rate =  0.25\n",
        "sample_size 500\n",
        "\n",
        "iteration #"
       ]
      },
      {
       "output_type": "stream",
       "stream": "stdout",
       "text": [
        " 146  ntrees =  147 \n",
        "best loss =  0.302402929907 \n",
        "last loss =  0.302402929907\n",
        "learning_rate =  0.25\n",
        "sample_size 500\n",
        "\n",
        "iteration #"
       ]
      },
      {
       "output_type": "stream",
       "stream": "stdout",
       "text": [
        " 147  ntrees =  148 \n",
        "best loss =  0.302235567465 \n",
        "last loss =  0.302235567465\n",
        "learning_rate =  0.25\n",
        "sample_size 500\n",
        "\n",
        "iteration #"
       ]
      },
      {
       "output_type": "stream",
       "stream": "stdout",
       "text": [
        " 148  ntrees =  149 \n",
        "best loss =  0.302083338437 \n",
        "last loss =  0.302083338437\n",
        "learning_rate =  0.25\n",
        "sample_size 500\n",
        "\n",
        "iteration #"
       ]
      },
      {
       "output_type": "stream",
       "stream": "stdout",
       "text": [
        " 149  ntrees =  150 \n",
        "best loss =  0.301932413424 \n",
        "last loss =  0.301932413424\n",
        "learning_rate =  0.25\n",
        "sample_size 500\n",
        "Wall time: 19min 48s\n"
       ]
      }
     ],
     "prompt_number": 12
    },
    {
     "cell_type": "code",
     "collapsed": false,
     "input": [
      "y_pred_stupid = greedy.predict(testFactory,trees[:100])\n",
      "y_pred_full = greedy.predict(testFactory,trees)"
     ],
     "language": "python",
     "metadata": {},
     "outputs": [],
     "prompt_number": 36
    },
    {
     "cell_type": "code",
     "collapsed": false,
     "input": [
      "y_pred_greedy = testFactory.predict(res_greedy)"
     ],
     "language": "python",
     "metadata": {},
     "outputs": [
      {
       "ename": "NameError",
       "evalue": "name 'res_greedy' is not defined",
       "output_type": "pyerr",
       "traceback": [
        "\u001b[1;31m---------------------------------------------------------------------------\u001b[0m\n\u001b[1;31mNameError\u001b[0m                                 Traceback (most recent call last)",
        "\u001b[1;32m<ipython-input-37-d745b605f912>\u001b[0m in \u001b[0;36m<module>\u001b[1;34m()\u001b[0m\n\u001b[1;32m----> 1\u001b[1;33m \u001b[0my_pred_greedy\u001b[0m \u001b[1;33m=\u001b[0m \u001b[0mtestFactory\u001b[0m\u001b[1;33m.\u001b[0m\u001b[0mpredict\u001b[0m\u001b[1;33m(\u001b[0m\u001b[0mres_greedy\u001b[0m\u001b[1;33m)\u001b[0m\u001b[1;33m\u001b[0m\u001b[0m\n\u001b[0m",
        "\u001b[1;31mNameError\u001b[0m: name 'res_greedy' is not defined"
       ]
      }
     ],
     "prompt_number": 37
    },
    {
     "cell_type": "code",
     "collapsed": false,
     "input": [
      "w_test = testFactory.weights\n",
      "\n",
      "print metrics.roc_auc_score(Yts,y_pred_greedy,sample_weight=w_test),\n",
      "print metrics.roc_auc_score(Yts,y_pred_stupid,sample_weight=w_test),\n",
      "print metrics.roc_auc_score(Yts,y_pred_full,sample_weight=w_test)\n",
      "print \"well...\""
     ],
     "language": "python",
     "metadata": {},
     "outputs": [
      {
       "output_type": "stream",
       "stream": "stdout",
       "text": [
        "0.934411773641 "
       ]
      },
      {
       "output_type": "stream",
       "stream": "stdout",
       "text": [
        "0.916904744001 "
       ]
      },
      {
       "output_type": "stream",
       "stream": "stdout",
       "text": [
        "0.935834322801\n",
        "well...\n"
       ]
      }
     ],
     "prompt_number": 15
    },
    {
     "cell_type": "code",
     "collapsed": false,
     "input": [
      "print LogLoss.score(testFactory, y_pred_stupid),\n",
      "print LogLoss.score(testFactory, y_pred_greedy),\n",
      "print LogLoss.score(testFactory, y_pred_full),\n",
      "print \"well...\""
     ],
     "language": "python",
     "metadata": {},
     "outputs": [
      {
       "output_type": "stream",
       "stream": "stdout",
       "text": [
        "66795.3422741 61551.9719398 43270.885932 well...\n"
       ]
      }
     ],
     "prompt_number": 20
    },
    {
     "cell_type": "code",
     "collapsed": false,
     "input": [
      "%%time\n",
      "from sklearn.ensemble import GradientBoostingClassifier\n",
      "gbc = GradientBoostingClassifier(n_estimators = 150,learning_rate = 0.25,max_depth = 6)#with lr .25 it has AUC 0.855 and overfits immensely\n",
      "gbc.fit(Xtr,Ytr,sample_weight=Wtr)"
     ],
     "language": "python",
     "metadata": {},
     "outputs": [
      {
       "output_type": "stream",
       "stream": "stdout",
       "text": [
        "Wall time: 8min 37s\n"
       ]
      }
     ],
     "prompt_number": 24
    },
    {
     "cell_type": "code",
     "collapsed": false,
     "input": [
      "\n",
      "y_pred_sklearn = gbc.predict(Xts)\n",
      "print metrics.roc_auc_score(Yts,y_pred_sklearn,sample_weight=testFactory.weights)\n",
      "print LogLoss.score(testFactory, y_pred_sklearn),\n",
      "\n",
      "# Upper level thresholds extraction"
     ],
     "language": "python",
     "metadata": {},
     "outputs": [
      {
       "output_type": "stream",
       "stream": "stdout",
       "text": [
        "0.856264997764\n",
        "158805.888392\n"
       ]
      }
     ],
     "prompt_number": 25
    },
    {
     "cell_type": "markdown",
     "metadata": {},
     "source": [
      "#hierarchy"
     ]
    },
    {
     "cell_type": "code",
     "collapsed": false,
     "input": [
      "#usability distribution\n",
      "thresholds = mnet.get_thresholds(trees,30,0.001)"
     ],
     "language": "python",
     "metadata": {},
     "outputs": [],
     "prompt_number": 26
    },
    {
     "cell_type": "code",
     "collapsed": false,
     "input": [
      "plt.scatter(range(len(thresholds)),thresholds[:,2])\n",
      "print sum(thresholds[:,2] >150)"
     ],
     "language": "python",
     "metadata": {},
     "outputs": [
      {
       "output_type": "stream",
       "stream": "stdout",
       "text": [
        "96\n"
       ]
      },
      {
       "metadata": {},
       "output_type": "display_data",
       "png": "[encoded data removed]",
       "text": [
        "<matplotlib.figure.Figure at 0x2cb94978>"
       ]
      }
     ],
     "prompt_number": 27
    },
    {
     "cell_type": "markdown",
     "metadata": {},
     "source": [
      "# Criteria selection"
     ]
    },
    {
     "cell_type": "code",
     "collapsed": false,
     "input": [
      "import hierarchy"
     ],
     "language": "python",
     "metadata": {},
     "outputs": [],
     "prompt_number": 28
    },
    {
     "cell_type": "code",
     "collapsed": false,
     "input": [
      "#get them...\n",
      "thresholds_active = thresholds[thresholds[:,2]>100] #at least 100 times used in the original ensemble\n",
      "print len(thresholds_active)\n",
      "criteria = hierarchy.select_criteria(trainFactory,thresholds_active,4,True)"
     ],
     "language": "python",
     "metadata": {},
     "outputs": [
      {
       "output_type": "stream",
       "stream": "stdout",
       "text": [
        "190\n",
        "s:"
       ]
      },
      {
       "output_type": "stream",
       "stream": "stdout",
       "text": [
        " [81387L, 46113L]\n",
        "w: [0.4995172311764362, 0.50048276882352416]\n",
        "s:"
       ]
      },
      {
       "output_type": "stream",
       "stream": "stdout",
       "text": [
        " [35853L, 45534L, 28287L, 17826L]\n",
        "w: [0.26914160839995621, 0.23037562277645596, 0.27439612166068927, 0.22608664716287472]\n",
        "s:"
       ]
      },
      {
       "output_type": "stream",
       "stream": "stdout",
       "text": [
        " [6226L, 11600L, 18312L, 9975L, 18579L, 17274L, 28399L, 17135L]\n",
        "w: [0.10092029004556231, 0.12516635711728766, 0.16975948409694844, 0.10463663756370174, 0.12697836451232206, 0.14216324388758639, 0.13573214315325532, 0.094643479623169297]\n",
        "s:"
       ]
      },
      {
       "output_type": "stream",
       "stream": "stdout",
       "text": [
        " [6743L, 4857L, 5235L, 4740L, 7762L, 10550L, 2457L, 3769L, 14352L, 4227L, 4995L, 12279L, 3303L, 13832L, 21436L, 6963L]\n",
        "w: [0.076709325032408099, 0.048457032084882036, 0.060456537835231458, 0.044180099728481512, 0.066781816430453847, 0.1029776676664932, 0.036453532684558393, 0.064466757361011193, 0.096045454684958106, 0.030932909827366763, 0.037357215324124261, 0.10480602856346442, 0.018859704487969042, 0.075783775135201667, 0.10305246577535299, 0.032679677377911803]\n"
       ]
      },
      {
       "output_type": "stream",
       "stream": "stderr",
       "text": [
        "loss_functions.py:162: RuntimeWarning: divide by zero encountered in log\n",
        "  logs = np.array(map(np.log,distribution))\n"
       ]
      }
     ],
     "prompt_number": 29
    },
    {
     "cell_type": "code",
     "collapsed": false,
     "input": [
      "criteria"
     ],
     "language": "python",
     "metadata": {},
     "outputs": [
      {
       "metadata": {},
       "output_type": "pyout",
       "prompt_number": 30,
       "text": [
        "[array([  21.        ,  147.61599731,  136.        ]),\n",
        " array([   2.        ,   78.67050171,  131.        ]),\n",
        " array([   1.        ,   44.68050003,  153.        ]),\n",
        " array([   8.        ,    4.71249962,  158.        ])]"
       ]
      }
     ],
     "prompt_number": 30
    },
    {
     "cell_type": "code",
     "collapsed": false,
     "input": [
      "split = hierarchy.split_upper(trainFactory,criteria,equalizeWeights=False,split_weights=1.,split_inclusion=.7) \n",
      "#\u043f\u0440\u0438 \u043a\u0430\u0436\u0434\u043e\u043c \u0440\u0430\u0437\u0434\u0435\u043b\u0435\u043d\u0438\u0438 \u0432 \u043f\u043e\u0434\u0432\u044b\u0431\u043e\u0440\u043a\u0443  \u043f\u043e\u043f\u0430\u0434\u0430\u0435\u0442 split_inclusion \u043f\u0440\u0438\u043c\u0435\u0440\u043e\u0432 \u0438\u0437 \u0434\u0440\u0443\u0433\u043e\u0439 \u043f\u043e\u043b\u043e\u0432\u0438\u043d\u044b \u0432\u044b\u0431\u043e\u0440\u043a\u0438 \u0441 \u0432\u0435\u0441\u043e\u043c split_weights\n",
      "print [split[i].events.shape[0] for i in split]\n",
      "print [sum(split[i].weights) for i in split]"
     ],
     "language": "python",
     "metadata": {},
     "outputs": [
      {
       "output_type": "stream",
       "stream": "stdout",
       "text": [
        "[59942L, 64599L, 61878L, 67270L, 68279L, 63296L, 63022L, 58156L, 72023L, 64238L, 63801L, 71745L, 67270L, 75607L, 76190L, 67555L]\n",
        "[0.51827029586357942, 0.53280892370635458, 0.50959784009922371, 0.52841259718309053, 0.5373340761308365, 0.5214192753093706, 0.52388530015908208, 0.50723664269740409, 0.54244790828137002, 0.50347235224577436, 0.50011143296858729, 0.54097720934379312, 0.50358989589473246, 0.5398648368553185, 0.53969479097038353, 0.49730402184937267]"
       ]
      },
      {
       "output_type": "stream",
       "stream": "stdout",
       "text": [
        "\n"
       ]
      }
     ],
     "prompt_number": 31
    },
    {
     "cell_type": "markdown",
     "metadata": {},
     "source": [
      "#Hierarchical stuff"
     ]
    },
    {
     "cell_type": "code",
     "collapsed": false,
     "input": [
      "%time\n",
      "trees_splitted = hierarchy.train_splitted_boosts(trees, trainFactory,criteria,\n",
      "                                                 loss = LogLoss,\n",
      "                                                 learning_rate = 0.25, \n",
      "                                                 nTrees_leaf= 150,\n",
      "                                                 trees_sample_size=200,\n",
      "                                                 regularizer =0.0004,\n",
      "                                                 verbose=True,use_joblib = True,n_jobs = -1,\n",
      "                                                 weights_outside_leaf = 0.75**.25, inclusion_outside_leaf = .5**.25) \n"
     ],
     "language": "python",
     "metadata": {},
     "outputs": [
      {
       "output_type": "stream",
       "stream": "stderr",
       "text": [
        "[Parallel(n_jobs=-1)]: Done   1 out of  16 | elapsed: 34.2min remaining: 513.2min\n",
        "[Parallel(n_jobs=-1)]: Done  16 out of  16 | elapsed: 184.0min finished\n"
       ]
      },
      {
       "output_type": "stream",
       "stream": "stdout",
       "text": [
        "Wall time: 0 ns\n"
       ]
      }
     ],
     "prompt_number": 32
    },
    {
     "cell_type": "code",
     "collapsed": false,
     "input": [
      "y_pred_splitted= hierarchy.predict_splitted(testFactory,criteria,trees_splitted)"
     ],
     "language": "python",
     "metadata": {},
     "outputs": [],
     "prompt_number": 33
    },
    {
     "cell_type": "code",
     "collapsed": false,
     "input": [
      "w_test = testFactory.weights\n",
      "Yts = testFactory.labels\n",
      "print 'spltd\\t',metrics.roc_auc_score(Yts,y_pred_splitted,sample_weight=w_test)\n",
      "#print 'greedy\\t',metrics.roc_auc_score(Yts,y_pred_greedy,sample_weight=w_test)\n",
      "print 'stupid\\t',metrics.roc_auc_score(Yts,y_pred_stupid,sample_weight=w_test)\n",
      "print 'full\\t',metrics.roc_auc_score(Yts,y_pred_full,sample_weight=w_test)\n",
      "print 'new \\t',metrics.roc_auc_score(Yts,y_pred_sklearn,sample_weight=w_test)\n",
      "print \"well...\"\n"
     ],
     "language": "python",
     "metadata": {},
     "outputs": [
      {
       "output_type": "stream",
       "stream": "stdout",
       "text": [
        "spltd\t0.934255399402"
       ]
      },
      {
       "output_type": "stream",
       "stream": "stdout",
       "text": [
        "\n",
        "stupid\t0.916904744001"
       ]
      },
      {
       "output_type": "stream",
       "stream": "stdout",
       "text": [
        "\n",
        "full\t0.935834322801"
       ]
      },
      {
       "output_type": "stream",
       "stream": "stdout",
       "text": [
        "\n",
        "new \t0.856264997764\n",
        "well...\n"
       ]
      }
     ],
     "prompt_number": 38
    },
    {
     "cell_type": "code",
     "collapsed": false,
     "input": [
      "print 'spltd\\t', LogLoss.score(testFactory, y_pred_splitted)\n",
      "print 'greedy\\t',LogLoss.score(testFactory, y_pred_greedy)\n",
      "print 'stupid\\t',LogLoss.score(testFactory, y_pred_stupid)\n",
      "print 'full\\t',LogLoss.score(testFactory, y_pred_full)\n",
      "print 'new \\t',LogLoss.score(testFactory, y_pred_sklearn)\n",
      "print \"well...\"\n"
     ],
     "language": "python",
     "metadata": {},
     "outputs": [
      {
       "output_type": "stream",
       "stream": "stdout",
       "text": [
        "spltd\t65677.4334464\n",
        "greedy\t"
       ]
      },
      {
       "ename": "NameError",
       "evalue": "name 'y_pred_greedy' is not defined",
       "output_type": "pyerr",
       "traceback": [
        "\u001b[1;31m---------------------------------------------------------------------------\u001b[0m\n\u001b[1;31mNameError\u001b[0m                                 Traceback (most recent call last)",
        "\u001b[1;32m<ipython-input-53-d5abf254b651>\u001b[0m in \u001b[0;36m<module>\u001b[1;34m()\u001b[0m\n\u001b[0;32m      1\u001b[0m \u001b[1;32mprint\u001b[0m \u001b[1;34m'spltd\\t'\u001b[0m\u001b[1;33m,\u001b[0m \u001b[0mLogLoss\u001b[0m\u001b[1;33m.\u001b[0m\u001b[0mscore\u001b[0m\u001b[1;33m(\u001b[0m\u001b[0mtestFactory\u001b[0m\u001b[1;33m,\u001b[0m \u001b[0my_pred_splitted\u001b[0m\u001b[1;33m*\u001b[0m\u001b[1;36m0.8\u001b[0m\u001b[1;33m)\u001b[0m\u001b[1;33m\u001b[0m\u001b[0m\n\u001b[1;32m----> 2\u001b[1;33m \u001b[1;32mprint\u001b[0m \u001b[1;34m'greedy\\t'\u001b[0m\u001b[1;33m,\u001b[0m\u001b[0mLogLoss\u001b[0m\u001b[1;33m.\u001b[0m\u001b[0mscore\u001b[0m\u001b[1;33m(\u001b[0m\u001b[0mtestFactory\u001b[0m\u001b[1;33m,\u001b[0m \u001b[0my_pred_greedy\u001b[0m\u001b[1;33m)\u001b[0m\u001b[1;33m\u001b[0m\u001b[0m\n\u001b[0m\u001b[0;32m      3\u001b[0m \u001b[1;32mprint\u001b[0m \u001b[1;34m'stupid\\t'\u001b[0m\u001b[1;33m,\u001b[0m\u001b[0mLogLoss\u001b[0m\u001b[1;33m.\u001b[0m\u001b[0mscore\u001b[0m\u001b[1;33m(\u001b[0m\u001b[0mtestFactory\u001b[0m\u001b[1;33m,\u001b[0m \u001b[0my_pred_stupid\u001b[0m\u001b[1;33m)\u001b[0m\u001b[1;33m\u001b[0m\u001b[0m\n\u001b[0;32m      4\u001b[0m \u001b[1;32mprint\u001b[0m \u001b[1;34m'full\\t'\u001b[0m\u001b[1;33m,\u001b[0m\u001b[0mLogLoss\u001b[0m\u001b[1;33m.\u001b[0m\u001b[0mscore\u001b[0m\u001b[1;33m(\u001b[0m\u001b[0mtestFactory\u001b[0m\u001b[1;33m,\u001b[0m \u001b[0my_pred_full\u001b[0m\u001b[1;33m)\u001b[0m\u001b[1;33m\u001b[0m\u001b[0m\n\u001b[0;32m      5\u001b[0m \u001b[1;32mprint\u001b[0m \u001b[1;34m'new \\t'\u001b[0m\u001b[1;33m,\u001b[0m\u001b[0mLogLoss\u001b[0m\u001b[1;33m.\u001b[0m\u001b[0mscore\u001b[0m\u001b[1;33m(\u001b[0m\u001b[0mtestFactory\u001b[0m\u001b[1;33m,\u001b[0m \u001b[0my_pred_sklearn\u001b[0m\u001b[1;33m)\u001b[0m\u001b[1;33m\u001b[0m\u001b[0m\n",
        "\u001b[1;31mNameError\u001b[0m: name 'y_pred_greedy' is not defined"
       ]
      }
     ],
     "prompt_number": 53
    },
    {
     "cell_type": "markdown",
     "metadata": {},
     "source": [
      "#AUC learning curves"
     ]
    },
    {
     "cell_type": "code",
     "collapsed": false,
     "input": [
      "#I know it could have been done without quadratic complexity over trees, but...\n",
      "#btw equalizing 1-0 weights for the training set is not optimal in terms of AUC, but it is close to being so.\n",
      "n_trees =150\n",
      "auc_stupid_lcurve = [(0.5,)]\n",
      "auc_greedy_lcurve = [(0.5,)]\n",
      "auc_splitted_lcurve = [(0.5,)]\n",
      "for i in range(1,n_trees):\n",
      "    #stpd\n",
      "    pred = testFactory.predict(trees[:i])\n",
      "    auc = metrics.roc_auc_score(testFactory.labels,pred,sample_weight=testFactory.weights),\n",
      "    auc_stupid_lcurve.append( auc)    \n",
      "    #grdy\n",
      "    pred = testFactory.predict(res_greedy[:i])#res_greedy_wheel is not optimized for this dissection \n",
      "    auc = metrics.roc_auc_score(testFactory.labels,pred,sample_weight=testFactory.weights),\n",
      "    auc_greedy_lcurve.append( auc)\n",
      "    #split\n",
      "    trees_i = {code:trees_splitted[code][:i] for code in trees_splitted}\n",
      "    pred = hierarchy.predict_splitted(testFactory,criteria,trees_i)\n",
      "\n",
      "    auc = metrics.roc_auc_score(testFactory.labels,pred,sample_weight=testFactory.weights),\n",
      "    auc_splitted_lcurve.append( auc)"
     ],
     "language": "python",
     "metadata": {},
     "outputs": []
    },
    {
     "cell_type": "code",
     "collapsed": false,
     "input": [
      "p = range(1,n_trees)\n",
      "plt.figure(figsize = [14,14])\n",
      "plt.plot(p,[0.935834322801 for i in range(1,n_trees)],label = \"full\")\n",
      "plt.plot(p,auc_stupid_lcurve[1:n_trees],label = \"stupid\")\n",
      "plt.plot(p,auc_greedy_lcurve[1:n_trees],label = \"greedy\")\n",
      "plt.plot(p,auc_splitted_lcurve[1:n_trees],label = \"splitted\")\n",
      "plt.title('learning curves(AUC)')\n",
      "plt.legend(loc=\"lower right\")\n"
     ],
     "language": "python",
     "metadata": {},
     "outputs": []
    },
    {
     "cell_type": "markdown",
     "metadata": {},
     "source": [
      "#LogLoss learning curves"
     ]
    },
    {
     "cell_type": "code",
     "collapsed": false,
     "input": [
      "#I know it could have been done without quadratic complexity over trees, but...\n",
      "#btw equalizing 1-0 weights for the training set is not optimal in terms of AUC, but it is close to being so.\n",
      "n_trees =150\n",
      "logloss_stupid_lcurve = [(0.5,)]\n",
      "logloss_greedy_lcurve = [(0.5,)]\n",
      "logloss_splitted_lcurve = [(0.5,)]\n",
      "for i in range(1,n_trees):\n",
      "    #stpd\n",
      "    pred = testFactory.predict(trees[:i])\n",
      "    logloss = LogLoss.score(testFactory,pred),\n",
      "    logloss_stupid_lcurve.append( logloss)    \n",
      "    #grdy\n",
      "    pred = testFactory.predict(res_greedy[:i])#res_greedy_wheel is not optimized for this dissection \n",
      "    logloss = LogLoss.score(testFactory,pred),\n",
      "    logloss_greedy_lcurve.append(logloss)\n",
      "    #split\n",
      "    trees_i = {code:trees_splitted[code][:i] for code in trees_splitted}\n",
      "    pred = hierarchy.predict_splitted(testFactory,criteria,trees_i)\n",
      "\n",
      "    logloss = LogLoss.score(testFactory,pred),\n",
      "    logloss_splitted_lcurve.append(logloss)"
     ],
     "language": "python",
     "metadata": {},
     "outputs": []
    },
    {
     "cell_type": "code",
     "collapsed": false,
     "input": [
      "p = range(1,n_trees)\n",
      "plt.figure(figsize = [14,14])\n",
      "plt.plot(p,[0.935834322801 for i in range(1,n_trees)],label = \"full\")\n",
      "plt.plot(p,logloss_stupid_lcurve[1:n_trees],label = \"stupid\")\n",
      "plt.plot(p,logloss_lcurve[1:n_trees],label = \"greedy\")\n",
      "plt.plot(p,logloss_splitted_lcurve[1:n_trees],label = \"splitted\")\n",
      "plt.title('learning curves(LogLoss)')\n",
      "plt.legend(loc=\"lower right\")\n"
     ],
     "language": "python",
     "metadata": {},
     "outputs": []
    }
   ],
   "metadata": {}
  }
 ]
}