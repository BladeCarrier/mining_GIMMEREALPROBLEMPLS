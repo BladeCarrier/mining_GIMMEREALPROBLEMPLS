{
 "metadata": {
  "name": "",
  "signature": "sha256:e4aebba072798867e30f0625c22e49383388eabfe0ef31dbd89a1b056cbbcbf6"
 },
 "nbformat": 3,
 "nbformat_minor": 0,
 "worksheets": [
  {
   "cells": [
    {
     "cell_type": "code",
     "collapsed": false,
     "input": [
      "%pylab inline\n",
      "from time import time\n",
      "import numpy as np\n",
      "import matplotlib.pyplot as plt\n",
      "import  pandas\n"
     ],
     "language": "python",
     "metadata": {},
     "outputs": [
      {
       "output_type": "stream",
       "stream": "stdout",
       "text": [
        "Populating the interactive namespace from numpy and matplotlib\n"
       ]
      }
     ],
     "prompt_number": 1
    },
    {
     "cell_type": "code",
     "collapsed": false,
     "input": [
      "from sklearn.externals import joblib\n",
      "from sklearn.metrics import mean_squared_error\n"
     ],
     "language": "python",
     "metadata": {},
     "outputs": [],
     "prompt_number": 2
    },
    {
     "cell_type": "heading",
     "level": 2,
     "metadata": {},
     "source": [
      "Load the data. One fold for now"
     ]
    },
    {
     "cell_type": "code",
     "collapsed": false,
     "input": [
      "def save_as_csv(path_to_txt,prefix=\"mslr\"):\n",
      "    print \"opening \"+path_to_txt\n",
      "    f = open(path_to_txt)\n",
      "    labels = []\n",
      "    features = []\n",
      "    print \"extracting...\"\n",
      "    for line in f:\n",
      "        line = line[:line.find('#') - 1]#\u0443\u0434\u0430\u043b\u0438\u0442\u044c \u043a\u043e\u043c\u043c\u0435\u043d\u0442\u044b \u0438\u0437 \u043a\u043e\u043d\u0446\u0430 \u043b\u0438\u043d\u0438\u0438\n",
      "        ls = line.split()\n",
      "        labels.append(int(ls[0]))\n",
      "        features.append([float(x[x.find(':') + 1:]) for x in ls[1:]])\n",
      "    f.close()\n",
      "    print \"converting...\"\n",
      "    labels = np.asarray(labels, dtype=np.int32)\n",
      "    features = np.asarray(features)\n",
      "    query = features[:, 0].astype(int)\n",
      "    features = features[:, 1:]\n",
      "    print \"saving...\"\n",
      "    np.savetxt(prefix+'.qids.csv', query, delimiter=',')\n",
      "    np.savetxt(prefix+'.labels.csv', labels, delimiter=',')\n",
      "    np.savetxt(prefix+'.features.csv', features, delimiter=',')\n",
      "    print \"done\"\n",
      "    return features,query,labels"
     ],
     "language": "python",
     "metadata": {},
     "outputs": [],
     "prompt_number": 3
    },
    {
     "cell_type": "code",
     "collapsed": false,
     "input": [
      "def load_csv(prefix):\n",
      "    print \"reading from\",prefix\n",
      "    labels = np.loadtxt(prefix+'.labels.csv', delimiter=',')\n",
      "    qids = np.loadtxt(prefix+'.qids.csv', delimiter=',')\n",
      "    features =np.loadtxt(prefix+'.features.csv', delimiter=',')   \n",
      "    print \"done\"\n",
      "    return features,qids,labels"
     ],
     "language": "python",
     "metadata": {},
     "outputs": [],
     "prompt_number": 4
    },
    {
     "cell_type": "code",
     "collapsed": false,
     "input": [
      "%%time\n",
      "##warning! this can take a long time. no need to rerun that code if u have CSV files created once.\n",
      "save_as_csv(\"MSLR10/Fold1/train.txt\",\"mslr_train\")\n",
      "save_as_csv(\"MSLR10/Fold1/test.txt\",\"mslr_test\")\n",
      "save_as_csv(\"MSLR10/Fold1/vali.txt\",\"mslr_vali\")\n",
      "print \"converted that\""
     ],
     "language": "python",
     "metadata": {},
     "outputs": [
      {
       "output_type": "stream",
       "stream": "stdout",
       "text": [
        "opening MSLR10/Fold1/train.txt\n",
        "extracting...\n",
        "converting..."
       ]
      },
      {
       "output_type": "stream",
       "stream": "stdout",
       "text": [
        "\n",
        "saving..."
       ]
      },
      {
       "output_type": "stream",
       "stream": "stdout",
       "text": [
        "\n",
        "done"
       ]
      },
      {
       "output_type": "stream",
       "stream": "stdout",
       "text": [
        "\n",
        "opening MSLR10/Fold1/test.txt"
       ]
      },
      {
       "output_type": "stream",
       "stream": "stdout",
       "text": [
        "\n",
        "extracting..."
       ]
      },
      {
       "output_type": "stream",
       "stream": "stdout",
       "text": [
        "\n",
        "converting..."
       ]
      },
      {
       "output_type": "stream",
       "stream": "stdout",
       "text": [
        "\n",
        "saving..."
       ]
      },
      {
       "output_type": "stream",
       "stream": "stdout",
       "text": [
        "\n",
        "done"
       ]
      },
      {
       "output_type": "stream",
       "stream": "stdout",
       "text": [
        "\n",
        "opening MSLR10/Fold1/vali.txt\n",
        "extracting..."
       ]
      },
      {
       "output_type": "stream",
       "stream": "stdout",
       "text": [
        "\n",
        "converting..."
       ]
      },
      {
       "output_type": "stream",
       "stream": "stdout",
       "text": [
        "\n",
        "saving..."
       ]
      },
      {
       "output_type": "stream",
       "stream": "stdout",
       "text": [
        "\n",
        "done"
       ]
      },
      {
       "output_type": "stream",
       "stream": "stdout",
       "text": [
        "\n",
        "converted that\n",
        "Wall time: 39min 4s"
       ]
      },
      {
       "output_type": "stream",
       "stream": "stdout",
       "text": [
        "\n"
       ]
      }
     ],
     "prompt_number": 5
    },
    {
     "cell_type": "code",
     "collapsed": false,
     "input": [
      "Xtr,Qtr,Ytr = load_csv(\"mslr_vali\")#smallest one 4 speed purpose\n",
      "Xts,Qts,Yts = load_csv(\"mslr_test\")"
     ],
     "language": "python",
     "metadata": {},
     "outputs": [
      {
       "output_type": "stream",
       "stream": "stdout",
       "text": [
        "reading from mslr_vali\n",
        "done"
       ]
      },
      {
       "output_type": "stream",
       "stream": "stdout",
       "text": [
        "\n",
        "reading from mslr_test\n",
        "done"
       ]
      },
      {
       "output_type": "stream",
       "stream": "stdout",
       "text": [
        "\n"
       ]
      }
     ],
     "prompt_number": 5
    },
    {
     "cell_type": "code",
     "collapsed": false,
     "input": [
      "print \"train: \",Xtr.shape,\"qids:\",len(set(Qtr))\n",
      "print \"test: \",Xts.shape,\"qids:\",len(set(Qts))\n",
      "print \"qid intersection:\",len(set.intersection(set(Qtr),set(Qts))),\"(must be 0)\""
     ],
     "language": "python",
     "metadata": {},
     "outputs": [
      {
       "output_type": "stream",
       "stream": "stdout",
       "text": [
        "train:  (235259L, 136L) qids: "
       ]
      },
      {
       "output_type": "stream",
       "stream": "stdout",
       "text": [
        "2000\n",
        "test:  (241521L, 136L) qids: "
       ]
      },
      {
       "output_type": "stream",
       "stream": "stdout",
       "text": [
        "2000\n",
        "qid intersection: "
       ]
      },
      {
       "output_type": "stream",
       "stream": "stdout",
       "text": [
        "0 (must be 0)\n"
       ]
      }
     ],
     "prompt_number": 6
    },
    {
     "cell_type": "heading",
     "level": 1,
     "metadata": {},
     "source": [
      "Metrics & scoring"
     ]
    },
    {
     "cell_type": "code",
     "collapsed": false,
     "input": [
      "from ndcg import mean_ndcg #def mean_ndcg(y_true, y_pred, query_ids, rank=None)"
     ],
     "language": "python",
     "metadata": {},
     "outputs": [],
     "prompt_number": 7
    },
    {
     "cell_type": "code",
     "collapsed": false,
     "input": [
      "def score(model, X, Y, qid):\n",
      "    Ypred = model.predict(X)\n",
      "\n",
      "    print \"NDCG3   :\", mean_ndcg(Y, Ypred, qid, rank=3)\n",
      "    print \"NDCG10  :\", mean_ndcg(Y, Ypred, qid, rank=10)\n",
      "    print \"NDCGfull:\", mean_ndcg(Y, Ypred, qid, rank=None)\n",
      "    \n",
      "    print \"MSE     :\", mean_squared_error(Y,Ypred)"
     ],
     "language": "python",
     "metadata": {},
     "outputs": [],
     "prompt_number": 8
    },
    {
     "cell_type": "code",
     "collapsed": false,
     "input": [
      "def learning_curve_ndcg(model, X, y, qid, rank=10):\n",
      "    \"\"\"stolen from some GIT repo\"\"\"\n",
      "    max_n_trees = len(model.estimators_)\n",
      "    scores = []\n",
      "    \n",
      "    if hasattr(model, 'staged_predict'):\n",
      "        #for boosting ensembles\n",
      "        n_trees = np.arange(max_n_trees) + 1\n",
      "        for y_predicted in model.staged_predict(X):\n",
      "            scores.append(mean_ndcg(y, y_predicted, qid, rank=10))\n",
      "    else:\n",
      "        y_predicted= np.zeros(len(y)).astype(float)\n",
      "        n_trees = np.arange(max_n_trees) + 1\n",
      "        \n",
      "        for i in xrange(max_n_trees):\n",
      "            y_predicted += model.estimators_[i].predict(X)\n",
      "            scores.append(mean_ndcg(y, y_predicted, qid, rank=rank))\n",
      "            \n",
      "    plt.plot(n_trees, scores)\n",
      "    plt.xlabel(\"Number of trees\")\n",
      "    plt.ylabel(\"NDCG-\"+ str(rank))\n",
      "    _ = plt.title(\"NDCG learning curve\")"
     ],
     "language": "python",
     "metadata": {},
     "outputs": [],
     "prompt_number": 9
    },
    {
     "cell_type": "heading",
     "level": 1,
     "metadata": {},
     "source": [
      "Model training & evaluation"
     ]
    },
    {
     "cell_type": "heading",
     "level": 2,
     "metadata": {},
     "source": [
      "Random Forest (mse)"
     ]
    },
    {
     "cell_type": "code",
     "collapsed": false,
     "input": [
      "%%time\n",
      "from sklearn.ensemble import RandomForestRegressor\n",
      "rfr = RandomForestRegressor(n_estimators=200, min_samples_split=5, random_state=1, n_jobs=-1)\n",
      "rfr.fit(Xtr, Ytr)#only 2 cores and the unlimited tree growth. Don't take it for a benchmark time"
     ],
     "language": "python",
     "metadata": {},
     "outputs": [
      {
       "output_type": "stream",
       "stream": "stdout",
       "text": [
        "Wall time: 2h 26min 7s\n"
       ]
      }
     ],
     "prompt_number": 11
    },
    {
     "cell_type": "code",
     "collapsed": false,
     "input": [
      "%%time\n",
      "print \"train:\"\n",
      "score(rfr,Xtr,Ytr,Qtr)\n",
      "print \"test\"\n",
      "score(rfr,Xts,Yts,Qts)"
     ],
     "language": "python",
     "metadata": {},
     "outputs": [
      {
       "output_type": "stream",
       "stream": "stdout",
       "text": [
        "train:\n",
        "NDCG3   :"
       ]
      },
      {
       "output_type": "stream",
       "stream": "stdout",
       "text": [
        " 0.961197336661\n",
        "NDCG10  : "
       ]
      },
      {
       "output_type": "stream",
       "stream": "stdout",
       "text": [
        "0.964486129103\n",
        "NDCGfull: "
       ]
      },
      {
       "output_type": "stream",
       "stream": "stdout",
       "text": [
        "0.967442738341\n",
        "MSE     : "
       ]
      },
      {
       "output_type": "stream",
       "stream": "stdout",
       "text": [
        "0.0898881554835\n",
        "test\n",
        "NDCG3   :"
       ]
      },
      {
       "output_type": "stream",
       "stream": "stdout",
       "text": [
        " 0.512276016514\n",
        "NDCG10  : "
       ]
      },
      {
       "output_type": "stream",
       "stream": "stdout",
       "text": [
        "0.512573127821\n",
        "NDCGfull: "
       ]
      },
      {
       "output_type": "stream",
       "stream": "stdout",
       "text": [
        "0.742628268372\n",
        "MSE     : 0.577429286962\n",
        "Wall time: 5min 42s\n"
       ]
      }
     ],
     "prompt_number": 12
    },
    {
     "cell_type": "code",
     "collapsed": false,
     "input": [
      "%%time\n",
      "learning_curve_ndcg(rfr,Xts,Yts,Qts,rank = 10)"
     ],
     "language": "python",
     "metadata": {},
     "outputs": [
      {
       "output_type": "stream",
       "stream": "stdout",
       "text": [
        "Wall time: 2min 34s\n"
       ]
      },
      {
       "metadata": {},
       "output_type": "display_data",
       "png": "[encoded data removed]",
       "text": [
        "<matplotlib.figure.Figure at 0xceb4a208>"
       ]
      }
     ],
     "prompt_number": 24
    },
    {
     "cell_type": "raw",
     "metadata": {},
     "source": [
      "Gradient Boost (mse)"
     ]
    },
    {
     "cell_type": "code",
     "collapsed": false,
     "input": [
      "%%time\n",
      "from sklearn.ensemble import GradientBoostingRegressor\n",
      "gb = GradientBoostingRegressor(learning_rate=0.05,loss='ls',n_estimators=100, max_depth=6,\n",
      "                                verbose=0, subsample=0.5, random_state=42)#verbose >= 2 to show OOB scores\n",
      "gb.fit(Xtr, Ytr)\n"
     ],
     "language": "python",
     "metadata": {},
     "outputs": [
      {
       "output_type": "stream",
       "stream": "stdout",
       "text": [
        "Wall time: 35min 6s\n",
        "Parser   : 115 ms"
       ]
      },
      {
       "output_type": "stream",
       "stream": "stdout",
       "text": [
        "\n"
       ]
      }
     ],
     "prompt_number": 14
    },
    {
     "cell_type": "code",
     "collapsed": false,
     "input": [
      "%%time\n",
      "print \"train:\"\n",
      "score(gb,Xtr,Ytr,Qtr)\n",
      "print \"test\"\n",
      "score(gb,Xts,Yts,Qts)"
     ],
     "language": "python",
     "metadata": {},
     "outputs": [
      {
       "output_type": "stream",
       "stream": "stdout",
       "text": [
        "train:\n",
        "NDCG3   :"
       ]
      },
      {
       "output_type": "stream",
       "stream": "stdout",
       "text": [
        " 0.587117128301\n",
        "NDCG10  : "
       ]
      },
      {
       "output_type": "stream",
       "stream": "stdout",
       "text": [
        "0.577563119435\n",
        "NDCGfull: "
       ]
      },
      {
       "output_type": "stream",
       "stream": "stdout",
       "text": [
        "0.775126216112\n",
        "MSE     : "
       ]
      },
      {
       "output_type": "stream",
       "stream": "stdout",
       "text": [
        "0.536184499381\n",
        "test\n",
        "NDCG3   :"
       ]
      },
      {
       "output_type": "stream",
       "stream": "stdout",
       "text": [
        " 0.526425987131\n",
        "NDCG10  : "
       ]
      },
      {
       "output_type": "stream",
       "stream": "stdout",
       "text": [
        "0.528221974118\n",
        "NDCGfull: "
       ]
      },
      {
       "output_type": "stream",
       "stream": "stdout",
       "text": [
        "0.751881502402\n",
        "MSE     : 0.570809585152\n",
        "Wall time: 43.4 s\n"
       ]
      }
     ],
     "prompt_number": 15
    },
    {
     "cell_type": "code",
     "collapsed": false,
     "input": [
      "%%time\n",
      "learning_curve_ndcg(gb,Xts,Yts,Qts,rank = 10)"
     ],
     "language": "python",
     "metadata": {},
     "outputs": [
      {
       "output_type": "stream",
       "stream": "stdout",
       "text": [
        "Wall time: 1min 8s\n"
       ]
      },
      {
       "metadata": {},
       "output_type": "display_data",
       "png": "[encoded data removed]",
       "text": [
        "<matplotlib.figure.Figure at 0x1f455ac8>"
       ]
      }
     ],
     "prompt_number": 16
    },
    {
     "cell_type": "heading",
     "level": 1,
     "metadata": {},
     "source": [
      "LambdaMart (ndcg)"
     ]
    },
    {
     "cell_type": "code",
     "collapsed": false,
     "input": [
      "%%time\n",
      "from lambdamart import LambdaMART\n",
      "lmart= LambdaMART(n_estimators=100, max_depth=6,\n",
      "                  learning_rate=0.05, k=10)\n",
      "lmart.fit(Xtr,Qtr,Ytr)"
     ],
     "language": "python",
     "metadata": {},
     "outputs": [
      {
       "output_type": "stream",
       "stream": "stdout",
       "text": [
        "Training starts...\n",
        " Iteration: 1\n",
        "train score 0.481192087146"
       ]
      },
      {
       "output_type": "stream",
       "stream": "stdout",
       "text": [
        "\n",
        " Iteration: 2\n",
        "train score 0.495418775222"
       ]
      },
      {
       "output_type": "stream",
       "stream": "stdout",
       "text": [
        "\n",
        " Iteration: 3\n",
        "train score 0.498440049824"
       ]
      },
      {
       "output_type": "stream",
       "stream": "stdout",
       "text": [
        "\n",
        " Iteration: 4\n",
        "train score 0.500681189535"
       ]
      },
      {
       "output_type": "stream",
       "stream": "stdout",
       "text": [
        "\n",
        " Iteration: 5\n",
        "train score 0.50395820359"
       ]
      },
      {
       "output_type": "stream",
       "stream": "stdout",
       "text": [
        "\n",
        " Iteration: 6\n",
        "train score 0.510347666271"
       ]
      },
      {
       "output_type": "stream",
       "stream": "stdout",
       "text": [
        "\n",
        " Iteration: 7\n",
        "train score 0.512177841531"
       ]
      },
      {
       "output_type": "stream",
       "stream": "stdout",
       "text": [
        "\n",
        " Iteration: 8\n",
        "train score 0.513127024026"
       ]
      },
      {
       "output_type": "stream",
       "stream": "stdout",
       "text": [
        "\n",
        " Iteration: 9\n",
        "train score 0.516551111693"
       ]
      },
      {
       "output_type": "stream",
       "stream": "stdout",
       "text": [
        "\n",
        " Iteration: 10\n",
        "train score 0.519031826455"
       ]
      },
      {
       "output_type": "stream",
       "stream": "stdout",
       "text": [
        "\n",
        " Iteration: 11\n",
        "train score 0.520309239011"
       ]
      },
      {
       "output_type": "stream",
       "stream": "stdout",
       "text": [
        "\n",
        " Iteration: 12\n",
        "train score 0.52109292588"
       ]
      },
      {
       "output_type": "stream",
       "stream": "stdout",
       "text": [
        "\n",
        " Iteration: 13\n",
        "train score 0.524121077971"
       ]
      },
      {
       "output_type": "stream",
       "stream": "stdout",
       "text": [
        "\n",
        " Iteration: 14\n",
        "train score 0.524744146993"
       ]
      },
      {
       "output_type": "stream",
       "stream": "stdout",
       "text": [
        "\n",
        " Iteration: 15\n",
        "train score 0.525157113547"
       ]
      },
      {
       "output_type": "stream",
       "stream": "stdout",
       "text": [
        "\n",
        " Iteration: 16\n",
        "train score 0.526963948646"
       ]
      },
      {
       "output_type": "stream",
       "stream": "stdout",
       "text": [
        "\n",
        " Iteration: 17\n",
        "train score 0.526622826588"
       ]
      },
      {
       "output_type": "stream",
       "stream": "stdout",
       "text": [
        "\n",
        " Iteration: 18\n",
        "train score 0.527347358678"
       ]
      },
      {
       "output_type": "stream",
       "stream": "stdout",
       "text": [
        "\n",
        " Iteration: 19\n",
        "train score 0.528407985792"
       ]
      },
      {
       "output_type": "stream",
       "stream": "stdout",
       "text": [
        "\n",
        " Iteration: 20\n",
        "train score 0.529119694194"
       ]
      },
      {
       "output_type": "stream",
       "stream": "stdout",
       "text": [
        "\n",
        " Iteration: 21\n",
        "train score 0.530704363953"
       ]
      },
      {
       "output_type": "stream",
       "stream": "stdout",
       "text": [
        "\n",
        " Iteration: 22\n",
        "train score 0.531967217385"
       ]
      },
      {
       "output_type": "stream",
       "stream": "stdout",
       "text": [
        "\n",
        " Iteration: 23\n",
        "train score 0.532767191464"
       ]
      },
      {
       "output_type": "stream",
       "stream": "stdout",
       "text": [
        "\n",
        " Iteration: 24\n",
        "train score 0.534788430119"
       ]
      },
      {
       "output_type": "stream",
       "stream": "stdout",
       "text": [
        "\n",
        " Iteration: 25\n",
        "train score 0.535812728077"
       ]
      },
      {
       "output_type": "stream",
       "stream": "stdout",
       "text": [
        "\n",
        " Iteration: 26\n",
        "train score 0.536530642349"
       ]
      },
      {
       "output_type": "stream",
       "stream": "stdout",
       "text": [
        "\n",
        " Iteration: 27\n",
        "train score 0.537904476179"
       ]
      },
      {
       "output_type": "stream",
       "stream": "stdout",
       "text": [
        "\n",
        " Iteration: 28\n",
        "train score 0.540172114482"
       ]
      },
      {
       "output_type": "stream",
       "stream": "stdout",
       "text": [
        "\n",
        " Iteration: 29\n",
        "train score 0.542062144057"
       ]
      },
      {
       "output_type": "stream",
       "stream": "stdout",
       "text": [
        "\n",
        " Iteration: 30\n",
        "train score 0.543207895067"
       ]
      },
      {
       "output_type": "stream",
       "stream": "stdout",
       "text": [
        "\n",
        " Iteration: 31\n",
        "train score 0.544159731519"
       ]
      },
      {
       "output_type": "stream",
       "stream": "stdout",
       "text": [
        "\n",
        " Iteration: 32\n",
        "train score 0.546486414285"
       ]
      },
      {
       "output_type": "stream",
       "stream": "stdout",
       "text": [
        "\n",
        " Iteration: 33\n",
        "train score 0.548017466151"
       ]
      },
      {
       "output_type": "stream",
       "stream": "stdout",
       "text": [
        "\n",
        " Iteration: 34\n",
        "train score 0.549032214158"
       ]
      },
      {
       "output_type": "stream",
       "stream": "stdout",
       "text": [
        "\n",
        " Iteration: 35\n",
        "train score 0.550752193777"
       ]
      },
      {
       "output_type": "stream",
       "stream": "stdout",
       "text": [
        "\n",
        " Iteration: 36\n",
        "train score 0.551532928192"
       ]
      },
      {
       "output_type": "stream",
       "stream": "stdout",
       "text": [
        "\n",
        " Iteration: 37\n",
        "train score 0.552819559232"
       ]
      },
      {
       "output_type": "stream",
       "stream": "stdout",
       "text": [
        "\n",
        " Iteration: 38\n",
        "train score 0.553014458327"
       ]
      },
      {
       "output_type": "stream",
       "stream": "stdout",
       "text": [
        "\n",
        " Iteration: 39\n",
        "train score 0.553007670847"
       ]
      },
      {
       "output_type": "stream",
       "stream": "stdout",
       "text": [
        "\n",
        " Iteration: 40\n",
        "train score 0.554684406574"
       ]
      },
      {
       "output_type": "stream",
       "stream": "stdout",
       "text": [
        "\n",
        " Iteration: 41\n",
        "train score 0.555070472019"
       ]
      },
      {
       "output_type": "stream",
       "stream": "stdout",
       "text": [
        "\n",
        " Iteration: 42\n",
        "train score 0.555373552155"
       ]
      },
      {
       "output_type": "stream",
       "stream": "stdout",
       "text": [
        "\n",
        " Iteration: 43\n",
        "train score 0.55669522186"
       ]
      },
      {
       "output_type": "stream",
       "stream": "stdout",
       "text": [
        "\n",
        " Iteration: 44\n",
        "train score 0.557562182257"
       ]
      },
      {
       "output_type": "stream",
       "stream": "stdout",
       "text": [
        "\n",
        " Iteration: 45\n",
        "train score 0.558603272829"
       ]
      },
      {
       "output_type": "stream",
       "stream": "stdout",
       "text": [
        "\n",
        " Iteration: 46\n",
        "train score 0.558978567555"
       ]
      },
      {
       "output_type": "stream",
       "stream": "stdout",
       "text": [
        "\n",
        " Iteration: 47\n",
        "train score 0.560042339554"
       ]
      },
      {
       "output_type": "stream",
       "stream": "stdout",
       "text": [
        "\n",
        " Iteration: 48\n",
        "train score 0.560451658338"
       ]
      },
      {
       "output_type": "stream",
       "stream": "stdout",
       "text": [
        "\n",
        " Iteration: 49\n",
        "train score 0.560810829583"
       ]
      },
      {
       "output_type": "stream",
       "stream": "stdout",
       "text": [
        "\n",
        " Iteration: 50\n",
        "train score 0.561516297925"
       ]
      },
      {
       "output_type": "stream",
       "stream": "stdout",
       "text": [
        "\n",
        " Iteration: 51\n",
        "train score 0.56243270786"
       ]
      },
      {
       "output_type": "stream",
       "stream": "stdout",
       "text": [
        "\n",
        " Iteration: 52\n",
        "train score 0.563315123301"
       ]
      },
      {
       "output_type": "stream",
       "stream": "stdout",
       "text": [
        "\n",
        " Iteration: 53\n",
        "train score 0.563970599699"
       ]
      },
      {
       "output_type": "stream",
       "stream": "stdout",
       "text": [
        "\n",
        " Iteration: 54\n",
        "train score 0.564574004518"
       ]
      },
      {
       "output_type": "stream",
       "stream": "stdout",
       "text": [
        "\n",
        " Iteration: 55\n",
        "train score 0.565199701838"
       ]
      },
      {
       "output_type": "stream",
       "stream": "stdout",
       "text": [
        "\n",
        " Iteration: 56\n",
        "train score 0.565642157752"
       ]
      },
      {
       "output_type": "stream",
       "stream": "stdout",
       "text": [
        "\n",
        " Iteration: 57\n",
        "train score 0.565923064264"
       ]
      },
      {
       "output_type": "stream",
       "stream": "stdout",
       "text": [
        "\n",
        " Iteration: 58\n",
        "train score 0.566127847388"
       ]
      },
      {
       "output_type": "stream",
       "stream": "stdout",
       "text": [
        "\n",
        " Iteration: 59\n",
        "train score 0.566588201063"
       ]
      },
      {
       "output_type": "stream",
       "stream": "stdout",
       "text": [
        "\n",
        " Iteration: 60\n",
        "train score 0.566974334309"
       ]
      },
      {
       "output_type": "stream",
       "stream": "stdout",
       "text": [
        "\n",
        " Iteration: 61\n",
        "train score 0.567757247096"
       ]
      },
      {
       "output_type": "stream",
       "stream": "stdout",
       "text": [
        "\n",
        " Iteration: 62\n",
        "train score 0.568344386536"
       ]
      },
      {
       "output_type": "stream",
       "stream": "stdout",
       "text": [
        "\n",
        " Iteration: 63\n",
        "train score 0.568718968373"
       ]
      },
      {
       "output_type": "stream",
       "stream": "stdout",
       "text": [
        "\n",
        " Iteration: 64\n",
        "train score 0.568891612223"
       ]
      },
      {
       "output_type": "stream",
       "stream": "stdout",
       "text": [
        "\n",
        " Iteration: 65\n",
        "train score 0.569492847082"
       ]
      },
      {
       "output_type": "stream",
       "stream": "stdout",
       "text": [
        "\n",
        " Iteration: 66\n",
        "train score 0.569769531071"
       ]
      },
      {
       "output_type": "stream",
       "stream": "stdout",
       "text": [
        "\n",
        " Iteration: 67\n",
        "train score 0.570089728569"
       ]
      },
      {
       "output_type": "stream",
       "stream": "stdout",
       "text": [
        "\n",
        " Iteration: 68\n",
        "train score 0.571005997475"
       ]
      },
      {
       "output_type": "stream",
       "stream": "stdout",
       "text": [
        "\n",
        " Iteration: 69\n",
        "train score 0.571200191086"
       ]
      },
      {
       "output_type": "stream",
       "stream": "stdout",
       "text": [
        "\n",
        " Iteration: 70\n",
        "train score 0.571757033259"
       ]
      },
      {
       "output_type": "stream",
       "stream": "stdout",
       "text": [
        "\n",
        " Iteration: 71\n",
        "train score 0.572339655594"
       ]
      },
      {
       "output_type": "stream",
       "stream": "stdout",
       "text": [
        "\n",
        " Iteration: 72\n",
        "train score 0.57254567848"
       ]
      },
      {
       "output_type": "stream",
       "stream": "stdout",
       "text": [
        "\n",
        " Iteration: 73\n",
        "train score 0.572855057283"
       ]
      },
      {
       "output_type": "stream",
       "stream": "stdout",
       "text": [
        "\n",
        " Iteration: 74\n",
        "train score 0.573771824692"
       ]
      },
      {
       "output_type": "stream",
       "stream": "stdout",
       "text": [
        "\n",
        " Iteration: 75\n",
        "train score 0.574284737963"
       ]
      },
      {
       "output_type": "stream",
       "stream": "stdout",
       "text": [
        "\n",
        " Iteration: 76\n",
        "train score 0.574453343009"
       ]
      },
      {
       "output_type": "stream",
       "stream": "stdout",
       "text": [
        "\n",
        " Iteration: 77\n",
        "train score 0.57425981116"
       ]
      },
      {
       "output_type": "stream",
       "stream": "stdout",
       "text": [
        "\n",
        " Iteration: 78\n",
        "train score 0.574571926159"
       ]
      },
      {
       "output_type": "stream",
       "stream": "stdout",
       "text": [
        "\n",
        " Iteration: 79\n",
        "train score 0.574936593038"
       ]
      },
      {
       "output_type": "stream",
       "stream": "stdout",
       "text": [
        "\n",
        " Iteration: 80\n",
        "train score 0.575167338534"
       ]
      },
      {
       "output_type": "stream",
       "stream": "stdout",
       "text": [
        "\n",
        " Iteration: 81\n",
        "train score 0.575719437271"
       ]
      },
      {
       "output_type": "stream",
       "stream": "stdout",
       "text": [
        "\n",
        " Iteration: 82\n",
        "train score 0.575907231734"
       ]
      },
      {
       "output_type": "stream",
       "stream": "stdout",
       "text": [
        "\n",
        " Iteration: 83\n",
        "train score 0.576126772238"
       ]
      },
      {
       "output_type": "stream",
       "stream": "stdout",
       "text": [
        "\n",
        " Iteration: 84\n",
        "train score 0.576353626911"
       ]
      },
      {
       "output_type": "stream",
       "stream": "stdout",
       "text": [
        "\n",
        " Iteration: 85\n",
        "train score 0.576329191506"
       ]
      },
      {
       "output_type": "stream",
       "stream": "stdout",
       "text": [
        "\n",
        " Iteration: 86\n",
        "train score 0.577062282917"
       ]
      },
      {
       "output_type": "stream",
       "stream": "stdout",
       "text": [
        "\n",
        " Iteration: 87\n",
        "train score 0.577453438421"
       ]
      },
      {
       "output_type": "stream",
       "stream": "stdout",
       "text": [
        "\n",
        " Iteration: 88\n",
        "train score 0.578142189734"
       ]
      },
      {
       "output_type": "stream",
       "stream": "stdout",
       "text": [
        "\n",
        " Iteration: 89\n",
        "train score 0.578182834859"
       ]
      },
      {
       "output_type": "stream",
       "stream": "stdout",
       "text": [
        "\n",
        " Iteration: 90\n",
        "train score 0.578365396344"
       ]
      },
      {
       "output_type": "stream",
       "stream": "stdout",
       "text": [
        "\n",
        " Iteration: 91\n",
        "train score 0.578655526399"
       ]
      },
      {
       "output_type": "stream",
       "stream": "stdout",
       "text": [
        "\n",
        " Iteration: 92\n",
        "train score 0.578942415542"
       ]
      },
      {
       "output_type": "stream",
       "stream": "stdout",
       "text": [
        "\n",
        " Iteration: 93\n",
        "train score 0.579134750692"
       ]
      },
      {
       "output_type": "stream",
       "stream": "stdout",
       "text": [
        "\n",
        " Iteration: 94\n",
        "train score 0.580065630667"
       ]
      },
      {
       "output_type": "stream",
       "stream": "stdout",
       "text": [
        "\n",
        " Iteration: 95\n",
        "train score 0.580392865539"
       ]
      },
      {
       "output_type": "stream",
       "stream": "stdout",
       "text": [
        "\n",
        " Iteration: 96\n",
        "train score 0.580341320534"
       ]
      },
      {
       "output_type": "stream",
       "stream": "stdout",
       "text": [
        "\n",
        " Iteration: 97\n",
        "train score 0.580482933527"
       ]
      },
      {
       "output_type": "stream",
       "stream": "stdout",
       "text": [
        "\n",
        " Iteration: 98\n",
        "train score 0.580558637059"
       ]
      },
      {
       "output_type": "stream",
       "stream": "stdout",
       "text": [
        "\n",
        " Iteration: 99\n",
        "train score 0.580670134115"
       ]
      },
      {
       "output_type": "stream",
       "stream": "stdout",
       "text": [
        "\n",
        " Iteration: 100\n",
        "train score 0.581115900041"
       ]
      },
      {
       "output_type": "stream",
       "stream": "stdout",
       "text": [
        "\n",
        "training finished.\n",
        "Wall time: 40min 53s\n"
       ]
      }
     ],
     "prompt_number": 14
    },
    {
     "cell_type": "code",
     "collapsed": false,
     "input": [
      "%%time\n",
      "print \"train:\"\n",
      "score(lmart,Xtr,Ytr,Qtr)\n",
      "print \"test\"\n",
      "score(lmart,Xts,Yts,Qts)"
     ],
     "language": "python",
     "metadata": {},
     "outputs": [
      {
       "output_type": "stream",
       "stream": "stdout",
       "text": [
        "train:\n",
        "NDCG3   :"
       ]
      },
      {
       "output_type": "stream",
       "stream": "stdout",
       "text": [
        " 0.591822194132\n",
        "NDCG10  : "
       ]
      },
      {
       "output_type": "stream",
       "stream": "stdout",
       "text": [
        "0.581115900041\n",
        "NDCGfull: "
       ]
      },
      {
       "output_type": "stream",
       "stream": "stdout",
       "text": [
        "0.776737610097\n",
        "MSE     : 0.535130400918\n",
        "test\n",
        "NDCG3   :"
       ]
      },
      {
       "output_type": "stream",
       "stream": "stdout",
       "text": [
        " 0.52251669712\n",
        "NDCG10  : "
       ]
      },
      {
       "output_type": "stream",
       "stream": "stdout",
       "text": [
        "0.52684097605\n",
        "NDCGfull: "
       ]
      },
      {
       "output_type": "stream",
       "stream": "stdout",
       "text": [
        "0.750989875719\n",
        "MSE     : 0.570893233907\n",
        "Wall time: 28.9 s"
       ]
      },
      {
       "output_type": "stream",
       "stream": "stdout",
       "text": [
        "\n"
       ]
      }
     ],
     "prompt_number": 15
    },
    {
     "cell_type": "code",
     "collapsed": false,
     "input": [
      "%%time\n",
      "learning_curve_ndcg(lmart,Xts,Yts,Qts,rank = 10)"
     ],
     "language": "python",
     "metadata": {},
     "outputs": [
      {
       "output_type": "stream",
       "stream": "stdout",
       "text": [
        "Wall time: 43.7 s\n"
       ]
      },
      {
       "metadata": {},
       "output_type": "display_data",
       "png": "[encoded data removed]",
       "text": [
        "<matplotlib.figure.Figure at 0xceaf8d30>"
       ]
      }
     ],
     "prompt_number": 16
    },
    {
     "cell_type": "raw",
     "metadata": {},
     "source": [
      "Rankboost (https://github.com/pcoving/KDDCup/blob/master/rankboost.py) (i still had to rewrite it's every row to generalize for non-binary labels >.<)"
     ]
    },
    {
     "cell_type": "code",
     "collapsed": false,
     "input": [
      "#%%time\n",
      "from rankboost import RankBoost\n",
      "from sklearn.tree import DecisionTreeRegressor\n",
      "rboost= RankBoost(n_estimators=10,learning_rate=0.05,\n",
      "                 base_estimator = DecisionTreeRegressor(max_depth=6))\n",
      "rboost.fit(Xtr,Ytr)"
     ],
     "language": "python",
     "metadata": {},
     "outputs": []
    },
    {
     "cell_type": "code",
     "collapsed": false,
     "input": [
      "%%time\n",
      "#\u0443\u043f\u0430\u043b\u043e \u043f\u0440\u0438 \u043f\u0435\u0440\u0435\u0442\u0440\u0435\u043d\u0438\u0440\u043e\u0432\u043a\u0435\n",
      "print \"train:\"\n",
      "score(rboost,Xtr,Ytr,Qtr)\n",
      "print \"test\"\n",
      "score(rboost,Xts,Yts,Qts)"
     ],
     "language": "python",
     "metadata": {},
     "outputs": [
      {
       "output_type": "stream",
       "stream": "stdout",
       "text": [
        "Wall time: 0 ns\n"
       ]
      }
     ],
     "prompt_number": 17
    },
    {
     "cell_type": "code",
     "collapsed": false,
     "input": [
      "%%time\n",
      "learning_curve_ndcg(rboost,Xts,Yts,Qts,rank = 10)"
     ],
     "language": "python",
     "metadata": {},
     "outputs": [
      {
       "output_type": "stream",
       "stream": "stdout",
       "text": [
        "\n"
       ]
      }
     ],
     "prompt_number": 12
    },
    {
     "cell_type": "heading",
     "level": 2,
     "metadata": {},
     "source": [
      "Bagged GBDT (mse)"
     ]
    },
    {
     "cell_type": "code",
     "collapsed": false,
     "input": [
      "%%time\n",
      "from sklearn.ensemble import BaggingRegressor\n",
      "from sklearn.ensemble import GradientBoostingRegressor\n",
      "gb = GradientBoostingRegressor(learning_rate=0.1,loss='ls',n_estimators=10, max_depth=6,\n",
      "                                verbose=0, subsample=0.5, random_state=42)#verbose >= 2 to show OOB scores\n",
      "bgb = BaggingRegressor(base_estimator=gb,n_estimators=4,n_jobs =-1)\n",
      "bgb.fit(Xtr, Ytr)"
     ],
     "language": "python",
     "metadata": {},
     "outputs": [
      {
       "output_type": "stream",
       "stream": "stdout",
       "text": [
        "Wall time: 12min 49s\n"
       ]
      }
     ],
     "prompt_number": 56
    },
    {
     "cell_type": "code",
     "collapsed": false,
     "input": [
      "%%time\n",
      "print \"train:\"\n",
      "score(bgb,Xtr,Ytr,Qtr)\n",
      "print \"test\"\n",
      "score(bgb,Xts,Yts,Qts)"
     ],
     "language": "python",
     "metadata": {},
     "outputs": [
      {
       "output_type": "stream",
       "stream": "stdout",
       "text": [
        "train:\n",
        "NDCG3   :"
       ]
      },
      {
       "output_type": "stream",
       "stream": "stdout",
       "text": [
        " 0.533363574144\n",
        "NDCG10  : "
       ]
      },
      {
       "output_type": "stream",
       "stream": "stdout",
       "text": [
        "0.531325527649\n",
        "NDCGfull: "
       ]
      },
      {
       "output_type": "stream",
       "stream": "stdout",
       "text": [
        "0.755461877878\n",
        "MSE     : "
       ]
      },
      {
       "output_type": "stream",
       "stream": "stdout",
       "text": [
        "0.593431094671\n",
        "test\n",
        "NDCG3   :"
       ]
      },
      {
       "output_type": "stream",
       "stream": "stdout",
       "text": [
        " 0.501366837867\n",
        "NDCG10  : "
       ]
      },
      {
       "output_type": "stream",
       "stream": "stdout",
       "text": [
        "0.506867737494\n",
        "NDCGfull: "
       ]
      },
      {
       "output_type": "stream",
       "stream": "stdout",
       "text": [
        "0.742213507016\n",
        "MSE     : 0.603459506013\n",
        "Wall time: 3min 8s\n",
        "Parser   : 263 ms\n"
       ]
      }
     ],
     "prompt_number": 57
    },
    {
     "cell_type": "heading",
     "level": 2,
     "metadata": {},
     "source": [
      "bagged lmart (nDCG)"
     ]
    },
    {
     "cell_type": "code",
     "collapsed": false,
     "input": [
      "import numpy as np\n",
      "from copy import deepcopy\n",
      "from sklearn.externals import joblib as jl\n",
      "def bootstrap(n_elems,n_sample):\n",
      "    return np.random.random_integers(0,n_elems-1,n_sample)\n",
      "def _inthread_fit_base(estimator,X,Q,Y):\n",
      "    estimator.fit(X,Q,Y)\n",
      "    return estimator\n",
      "class BlambdaMART:\n",
      "    def __init__(self,base,sample_size=1.,n_estimators=10,n_jobs=1,backend = \"threading\"):\n",
      "        self.base = base\n",
      "        self.sample_size = sample_size\n",
      "        self.n_estimators = n_estimators\n",
      "        self.n_jobs = n_jobs\n",
      "        self.estimators_=[]\n",
      "        self.backend= backend\n",
      "        \n",
      "    def fit(self,X,Q,Y,Xval =None,Qval =None,Yval = None):\n",
      "        if self.sample_size <=1.:\n",
      "            self.sample_size*=len(Y)\n",
      "        if self.n_jobs ==1:\n",
      "            \n",
      "            for i in xrange(self.n_estimators):\n",
      "                indices = bootstrap(len(Y),self.sample_size)\n",
      "                newBase = deepcopy(self.base)\n",
      "                newBase.fit(X[indices,:],Q[indices],Y[indices],\n",
      "                                                  Xval,Qval,Yval)\n",
      "                \n",
      "                self.estimators_.append(newBase)\n",
      "        else:\n",
      "             subsample_ind = [bootstrap(len(Y),self.sample_size) for i in xrange(self.n_estimators)]\n",
      "                \n",
      "             jobs = [jl.delayed(_inthread_fit_base)(\n",
      "                                deepcopy(self.base),\n",
      "                                X[subsample_ind[i],:],\n",
      "                                Q[subsample_ind[i]],\n",
      "                                Y[subsample_ind[i]])\n",
      "                                for i in xrange(self.n_estimators)]\n",
      "                                    \n",
      "             self.estimators_ = jl.Parallel(n_jobs=self.n_jobs,backend=self.backend)(jobs)\n",
      "    def predict(self,X):\n",
      "        Ypred = np.zeros(X.shape[0])\n",
      "        for model in self.estimators_:\n",
      "            \n",
      "            Ypred+=model.predict(X)\n",
      "        \n",
      "        return Ypred/len(self.estimators_)"
     ],
     "language": "python",
     "metadata": {},
     "outputs": [],
     "prompt_number": 29
    },
    {
     "cell_type": "code",
     "collapsed": false,
     "input": [
      "%%time\n",
      "\n",
      "from lambdamart import LambdaMART\n",
      "lmart= LambdaMART(n_estimators=10, max_depth=6,\n",
      "                  learning_rate=0.1, k=10)\n",
      "blmart = BlambdaMART(lmart,n_estimators=4,n_jobs=-1,sample_size = .5)\n",
      "blmart.fit(Xtr,Qtr,Ytr)"
     ],
     "language": "python",
     "metadata": {},
     "outputs": [
      {
       "output_type": "stream",
       "stream": "stdout",
       "text": [
        "Training starts...\n",
        " Iteration: 1\n",
        "Training starts...\n",
        " Iteration: 1\n",
        "train score 0.483656928367\n",
        " train score 0.484047295637 Iteration: 2\n",
        "\n",
        " Iteration: 2\n",
        "train score 0.483658874761\n",
        " Iteration: 3\n",
        "train score 0.484051628736\n",
        " Iteration: 3\n",
        "train score 0.484052822122\n",
        " Iteration: 4\n",
        "train score 0.48366210222\n",
        " Iteration: 4\n",
        "train score 0.483664048615\n",
        " Iteration: 5\n",
        "train score 0.484048489022\n",
        " Iteration: 5\n",
        "train score 0.483676607898\n",
        " Iteration: 6\n",
        "train score 0.48404773608\n",
        " Iteration: 6\n",
        "train score 0.48404773608\n",
        " Iteration: 7\n",
        "train score 0.483679747719\n",
        " Iteration: 7\n",
        "train score 0.483679747719\n",
        " Iteration: 8\n",
        "train score 0.484044596366\n",
        " Iteration: 8\n",
        "train score 0.483677713687\n",
        " Iteration: 9\n",
        "train score 0.484045349308\n",
        " Iteration: 9\n",
        "train score 0.483679747719\n",
        " Iteration: 10\n",
        "train score 0.48404773608\n",
        " Iteration: 10\n",
        "train score 0.483679747719\n",
        "training finished.\n",
        "Training starts...\n",
        " Iteration: 1\n",
        "train score 0.48404773608\n",
        "training finished.\n",
        "Training starts...\n",
        " Iteration: 1\n",
        "train score 0.486235469909\n",
        " Iteration: 2\n",
        "train score 0.483745692196\n",
        " Iteration: 2\n",
        "train score 0.486241748643\n",
        " Iteration: 3\n",
        "train score 0.483751516425\n",
        " Iteration: 3\n",
        "train score 0.48624488801\n",
        " Iteration: 4\n",
        "train score 0.483754656941\n",
        " Iteration: 4\n",
        "train score 0.486241748643\n",
        " Iteration: 5\n",
        "train score 0.483754656941\n",
        " Iteration: 5\n",
        "train score 0.486251166743\n",
        " Iteration: 6\n",
        "train score 0.483751516425\n",
        " Iteration: 6\n",
        "train score 0.486252359997\n",
        " Iteration: 7\n",
        "train score 0.483754656941\n",
        " Iteration: 7\n",
        "train score 0.48624922063\n",
        " Iteration: 8\n",
        "train score 0.483757797456\n",
        " Iteration: 8\n",
        "train score 0.48624922063\n",
        " Iteration: 9\n",
        "train score 0.483757797456\n",
        " Iteration: 9\n",
        "train score 0.48624922063\n",
        " Iteration: 10\n",
        "train score 0.483754656941\n",
        " Iteration: 10\n",
        "train score 0.486246081263\n",
        "training finished.\n",
        "train score 0.483754656941\n",
        "training finished.\n",
        "Wall time: 18min 50s"
       ]
      },
      {
       "output_type": "stream",
       "stream": "stdout",
       "text": [
        "\n"
       ]
      }
     ],
     "prompt_number": 32
    },
    {
     "cell_type": "code",
     "collapsed": false,
     "input": [
      "%%time\n",
      "print \"train:\"\n",
      "score(blmart,Xtr,Ytr,Qtr)\n",
      "print \"test\"\n",
      "score(blmart,Xts,Yts,Qts)"
     ],
     "language": "python",
     "metadata": {},
     "outputs": [
      {
       "output_type": "stream",
       "stream": "stdout",
       "text": [
        "train:\n",
        "NDCG3   :"
       ]
      },
      {
       "output_type": "stream",
       "stream": "stdout",
       "text": [
        " 0.530253651955\n",
        "NDCG10  : "
       ]
      },
      {
       "output_type": "stream",
       "stream": "stdout",
       "text": [
        "0.531042506678\n",
        "NDCGfull: "
       ]
      },
      {
       "output_type": "stream",
       "stream": "stdout",
       "text": [
        "0.754805783052\n",
        "MSE     : 0.648335075164\n",
        "test\n",
        "NDCG3   :"
       ]
      },
      {
       "output_type": "stream",
       "stream": "stdout",
       "text": [
        " 0.502295221785\n",
        "NDCG10  : "
       ]
      },
      {
       "output_type": "stream",
       "stream": "stdout",
       "text": [
        "0.504487219662\n",
        "NDCGfull: "
       ]
      },
      {
       "output_type": "stream",
       "stream": "stdout",
       "text": [
        "0.741844040522\n",
        "MSE     : 0.658501009075\n",
        "Wall time: 28.5 s\n"
       ]
      }
     ],
     "prompt_number": 33
    }
   ],
   "metadata": {}
  }
 ]
}