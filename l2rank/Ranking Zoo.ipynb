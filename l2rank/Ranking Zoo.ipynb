{
 "metadata": {
  "name": "",
  "signature": "sha256:0abd618e5620a008356f6ba0a8010ed5bc838e79473200db2e3bd2137b4508b9"
 },
 "nbformat": 3,
 "nbformat_minor": 0,
 "worksheets": [
  {
   "cells": [
    {
     "cell_type": "code",
     "collapsed": false,
     "input": [
      "%pylab inline\n",
      "from time import time\n",
      "import numpy as np\n",
      "import matplotlib.pyplot as plt\n",
      "import  pandas\n",
      "import h5py\n"
     ],
     "language": "python",
     "metadata": {},
     "outputs": [
      {
       "output_type": "stream",
       "stream": "stdout",
       "text": [
        "Populating the interactive namespace from numpy and matplotlib\n"
       ]
      }
     ],
     "prompt_number": 1
    },
    {
     "cell_type": "code",
     "collapsed": false,
     "input": [
      "from sklearn.externals import joblib\n",
      "from sklearn.metrics import mean_squared_error\n",
      "from sklearn.cross_validation import train_test_split"
     ],
     "language": "python",
     "metadata": {},
     "outputs": [],
     "prompt_number": 2
    },
    {
     "cell_type": "heading",
     "level": 2,
     "metadata": {},
     "source": [
      "Load the data. One fold for now"
     ]
    },
    {
     "cell_type": "code",
     "collapsed": false,
     "input": [
      "def save_as_h5(path_to_txt,output_name=\"mslr\"):\n",
      "    \n",
      "    print \"opening \"+path_to_txt\n",
      "    f = open(path_to_txt)\n",
      "    labels = []\n",
      "    features = []\n",
      "    print \"extracting...\"\n",
      "    for line in f:\n",
      "        line = line[:line.find('#') - 1]#\u0443\u0434\u0430\u043b\u0438\u0442\u044c \u043a\u043e\u043c\u043c\u0435\u043d\u0442\u044b \u0438\u0437 \u043a\u043e\u043d\u0446\u0430 \u043b\u0438\u043d\u0438\u0438\n",
      "        ls = line.split()\n",
      "        labels.append(int(ls[0]))\n",
      "        features.append([float(x[x.find(':') + 1:]) for x in ls[1:]])\n",
      "    f.close()\n",
      "    print \"converting...\"\n",
      "    labels = np.asarray(labels, dtype=np.int32)\n",
      "    features = np.asarray(features)\n",
      "    query = features[:, 0].astype(int)\n",
      "    features = features[:, 1:]\n",
      "    print \"saving...\"\n",
      "    h5f = h5py.File(output_name, 'w')\n",
      "    h5f.create_dataset('qids', data=query)\n",
      "    h5f.create_dataset('labels', data=labels)\n",
      "    h5f.create_dataset('features', data=features)\n",
      "    h5f.close()\n",
      "    print \"done\"\n",
      "    return features,query,labels"
     ],
     "language": "python",
     "metadata": {},
     "outputs": [],
     "prompt_number": 3
    },
    {
     "cell_type": "code",
     "collapsed": false,
     "input": [
      "def load_h5(name):\n",
      "    print \"reading from\",name\n",
      "    h5f = h5py.File(name,'r')\n",
      "    labels = h5f['labels'][:]\n",
      "    qids = h5f['qids'][:]\n",
      "    features = h5f['features'][:]\n",
      "    h5f.close()\n",
      "    print \"done\"\n",
      "    return features,qids,labels"
     ],
     "language": "python",
     "metadata": {},
     "outputs": [],
     "prompt_number": 4
    },
    {
     "cell_type": "code",
     "collapsed": false,
     "input": [
      "%%time\n",
      "##warning! this can take a long time. no need to rerun that code if u have CSV files created once.\n",
      "#save_as_h5(\"MSLR10/Fold1/train.txt\",\"mslr_train\")\n",
      "#save_as_h5(\"MSLR10/Fold1/test.txt\",\"mslr_test\")\n",
      "#save_as_h5(\"MSLR10/Fold1/vali.txt\",\"mslr_vali\")\n",
      "#print \"converted that\""
     ],
     "language": "python",
     "metadata": {},
     "outputs": [
      {
       "output_type": "stream",
       "stream": "stdout",
       "text": [
        "Wall time: 0 ns\n"
       ]
      }
     ],
     "prompt_number": 5
    },
    {
     "cell_type": "code",
     "collapsed": false,
     "input": [
      "Xtr,Qtr,Ytr = load_h5(\"mslr_vali\")#smallest one 4 speed purpose\n",
      "Xts,Qts,Yts = load_h5(\"mslr_test\")"
     ],
     "language": "python",
     "metadata": {},
     "outputs": [
      {
       "output_type": "stream",
       "stream": "stdout",
       "text": [
        "reading from mslr_vali\n",
        "done"
       ]
      },
      {
       "output_type": "stream",
       "stream": "stdout",
       "text": [
        "\n",
        "reading from mslr_test\n",
        "done"
       ]
      },
      {
       "output_type": "stream",
       "stream": "stdout",
       "text": [
        "\n"
       ]
      }
     ],
     "prompt_number": 6
    },
    {
     "cell_type": "code",
     "collapsed": false,
     "input": [
      "print \"train: \",Xtr.shape,\"qids:\",len(set(Qtr))\n",
      "print \"test: \",Xts.shape,\"qids:\",len(set(Qts))\n",
      "print \"qid intersection:\",len(set.intersection(set(Qtr),set(Qts))),\"(must be 0)\""
     ],
     "language": "python",
     "metadata": {},
     "outputs": [
      {
       "output_type": "stream",
       "stream": "stdout",
       "text": [
        "train:  (235259L, 136L) qids: 2000\n",
        "test:  (241521L, 136L) qids: "
       ]
      },
      {
       "output_type": "stream",
       "stream": "stdout",
       "text": [
        "2000\n",
        "qid intersection: "
       ]
      },
      {
       "output_type": "stream",
       "stream": "stdout",
       "text": [
        "0 (must be 0)\n"
       ]
      }
     ],
     "prompt_number": 7
    },
    {
     "cell_type": "heading",
     "level": 1,
     "metadata": {},
     "source": [
      "Metrics & scoring"
     ]
    },
    {
     "cell_type": "code",
     "collapsed": false,
     "input": [
      "from metrics import roc_auc_score, mean_ndcg #def mean_ndcg(y_true, y_pred, query_ids, rank=None)"
     ],
     "language": "python",
     "metadata": {},
     "outputs": [],
     "prompt_number": 8
    },
    {
     "cell_type": "code",
     "collapsed": false,
     "input": [
      "def score(model, X, Y, qid):\n",
      "    Ypred = model.predict(X)\n",
      "\n",
      "    print \"NDCG5   :\", mean_ndcg(Y, Ypred, qid, rank=5)\n",
      "    print \"NDCG10  :\", mean_ndcg(Y, Ypred, qid, rank=10)\n",
      "    print \"NDCGfull:\", mean_ndcg(Y, Ypred, qid, rank=None)\n",
      "    print \"rank AUC:\", roc_auc_score(Y, Ypred)\n",
      "    \n",
      "    print \"MSE     :\", mean_squared_error(Y,Ypred)"
     ],
     "language": "python",
     "metadata": {},
     "outputs": [],
     "prompt_number": 9
    },
    {
     "cell_type": "code",
     "collapsed": false,
     "input": [
      "def learning_curve_ndcg(model, X, y, qid, rank=10):\n",
      "    \"\"\"stolen from some GIT repo\"\"\"\n",
      "    max_n_trees = len(model.estimators_)\n",
      "    scores = []\n",
      "    \n",
      "    if hasattr(model, 'staged_predict'):\n",
      "        #for boosting ensembles\n",
      "        n_trees = np.arange(max_n_trees) + 1\n",
      "        for y_predicted in model.staged_predict(X):\n",
      "            scores.append(mean_ndcg(y, y_predicted, qid, rank=10))\n",
      "    else:\n",
      "        y_predicted= np.zeros(len(y)).astype(float)\n",
      "        n_trees = np.arange(max_n_trees) + 1\n",
      "        \n",
      "        for i in xrange(max_n_trees):\n",
      "            y_predicted += model.estimators_[i].predict(X)\n",
      "            scores.append(mean_ndcg(y, y_predicted, qid, rank=rank))\n",
      "            \n",
      "    plt.plot(n_trees, scores)\n",
      "    plt.xlabel(\"Number of trees\")\n",
      "    plt.ylabel(\"NDCG-\"+ str(rank))\n",
      "    _ = plt.title(\"NDCG learning curve\")"
     ],
     "language": "python",
     "metadata": {},
     "outputs": [],
     "prompt_number": 10
    },
    {
     "cell_type": "heading",
     "level": 1,
     "metadata": {},
     "source": [
      "Model training & evaluation"
     ]
    },
    {
     "cell_type": "heading",
     "level": 2,
     "metadata": {},
     "source": [
      "Random Forest (mse)"
     ]
    },
    {
     "cell_type": "code",
     "collapsed": false,
     "input": [
      "%%time\n",
      "from sklearn.ensemble import RandomForestRegressor\n",
      "rfr = RandomForestRegressor(n_estimators=100, min_samples_split=5, random_state=1, n_jobs=-1)\n",
      "rfr.fit(Xtr, Ytr)#only 2 cores and the unlimited tree growth. Don't take it for a benchmark time"
     ],
     "language": "python",
     "metadata": {},
     "outputs": []
    },
    {
     "cell_type": "code",
     "collapsed": false,
     "input": [
      "%%time\n",
      "print \"train:\"\n",
      "score(rfr,Xtr,Ytr,Qtr)\n",
      "print \"test\"\n",
      "score(rfr,Xts,Yts,Qts)"
     ],
     "language": "python",
     "metadata": {},
     "outputs": []
    },
    {
     "cell_type": "code",
     "collapsed": false,
     "input": [
      "%%time\n",
      "learning_curve_ndcg(rfr,Xts,Yts,Qts,rank = 10)"
     ],
     "language": "python",
     "metadata": {},
     "outputs": [
      {
       "output_type": "stream",
       "stream": "stdout",
       "text": [
        "Wall time: 2min 34s\n"
       ]
      },
      {
       "metadata": {},
       "output_type": "display_data",
       "png": "[encoded data removed]",
       "text": [
        "<matplotlib.figure.Figure at 0xceb4a208>"
       ]
      }
     ],
     "prompt_number": 24
    },
    {
     "cell_type": "raw",
     "metadata": {},
     "source": [
      "Gradient Boost (mse)"
     ]
    },
    {
     "cell_type": "code",
     "collapsed": false,
     "input": [
      "%%time\n",
      "from sklearn.ensemble import GradientBoostingRegressor\n",
      "gb = GradientBoostingRegressor(learning_rate=0.05,loss='ls',n_estimators=100, max_depth=6,\n",
      "                                verbose=0, subsample=0.5, random_state=42)#verbose >= 2 to show OOB scores\n",
      "gb.fit(Xtr, Ytr)\n"
     ],
     "language": "python",
     "metadata": {},
     "outputs": [
      {
       "output_type": "stream",
       "stream": "stdout",
       "text": [
        "Wall time: 18min 47s\n"
       ]
      }
     ],
     "prompt_number": 11
    },
    {
     "cell_type": "code",
     "collapsed": false,
     "input": [
      "%%time\n",
      "print \"train:\"\n",
      "score(gb,Xtr,Ytr,Qtr)\n",
      "print \"test\"\n",
      "score(gb,Xts,Yts,Qts)"
     ],
     "language": "python",
     "metadata": {},
     "outputs": [
      {
       "output_type": "stream",
       "stream": "stdout",
       "text": [
        "train:\n",
        "NDCG5   :"
       ]
      },
      {
       "output_type": "stream",
       "stream": "stdout",
       "text": [
        " 0.579967630048\n",
        "NDCG10  : "
       ]
      },
      {
       "output_type": "stream",
       "stream": "stdout",
       "text": [
        "0.577563119435\n",
        "NDCGfull: "
       ]
      },
      {
       "output_type": "stream",
       "stream": "stdout",
       "text": [
        "0.775126216112\n",
        "rank AUC: "
       ]
      },
      {
       "output_type": "stream",
       "stream": "stdout",
       "text": [
        "0.730877699104\n",
        "MSE     : 0.536184499381\n",
        "test\n",
        "NDCG5   :"
       ]
      },
      {
       "output_type": "stream",
       "stream": "stdout",
       "text": [
        " 0.524411687781\n",
        "NDCG10  : "
       ]
      },
      {
       "output_type": "stream",
       "stream": "stdout",
       "text": [
        "0.528221974118\n",
        "NDCGfull: "
       ]
      },
      {
       "output_type": "stream",
       "stream": "stdout",
       "text": [
        "0.751881502402\n",
        "rank AUC: "
       ]
      },
      {
       "output_type": "stream",
       "stream": "stdout",
       "text": [
        "0.709807938447\n",
        "MSE     : 0.570809585152\n",
        "Wall time: 30.3 s"
       ]
      },
      {
       "output_type": "stream",
       "stream": "stdout",
       "text": [
        "\n"
       ]
      }
     ],
     "prompt_number": 12
    },
    {
     "cell_type": "code",
     "collapsed": false,
     "input": [
      "%%time\n",
      "learning_curve_ndcg(gb,Xts,Yts,Qts,rank = 10)"
     ],
     "language": "python",
     "metadata": {},
     "outputs": [
      {
       "output_type": "stream",
       "stream": "stdout",
       "text": [
        "Wall time: 31.4 s\n"
       ]
      },
      {
       "metadata": {},
       "output_type": "display_data",
       "png": "[encoded data removed]",
       "text": [
        "<matplotlib.figure.Figure at 0xa250e80>"
       ]
      }
     ],
     "prompt_number": 13
    },
    {
     "cell_type": "heading",
     "level": 1,
     "metadata": {},
     "source": [
      "LambdaMart (ndcg)"
     ]
    },
    {
     "cell_type": "code",
     "collapsed": false,
     "input": [
      "%%time\n",
      "from lambdamart import LambdaMART\n",
      "\n",
      "lmart= LambdaMART(n_estimators=300, max_depth=6,\n",
      "                  learning_rate=0.07, max_rank=50,gain = \"exponential\")\n",
      "lmart.fit(Xtr,Ytr,Q=Qtr)"
     ],
     "language": "python",
     "metadata": {},
     "outputs": [
      {
       "output_type": "stream",
       "stream": "stdout",
       "text": [
        "Wall time: 1h 27min 27s\n"
       ]
      }
     ],
     "prompt_number": 32
    },
    {
     "cell_type": "code",
     "collapsed": false,
     "input": [
      "%%time\n",
      "print \"train:\"\n",
      "score(lmart,Xtr,Ytr,Qtr)\n",
      "print \"test\"\n",
      "score(lmart,Xts,Yts,Qts)"
     ],
     "language": "python",
     "metadata": {},
     "outputs": [
      {
       "output_type": "stream",
       "stream": "stdout",
       "text": [
        "train:\n",
        "NDCG5   :"
       ]
      },
      {
       "output_type": "stream",
       "stream": "stdout",
       "text": [
        " 0.624416381701\n",
        "NDCG10  : "
       ]
      },
      {
       "output_type": "stream",
       "stream": "stdout",
       "text": [
        "0.609893679805\n",
        "NDCGfull: "
       ]
      },
      {
       "output_type": "stream",
       "stream": "stdout",
       "text": [
        "0.790322465619\n",
        "rank AUC: "
       ]
      },
      {
       "output_type": "stream",
       "stream": "stdout",
       "text": [
        "0.710353253475\n",
        "MSE     : 2.59091767604\n",
        "test\n",
        "NDCG5   :"
       ]
      },
      {
       "output_type": "stream",
       "stream": "stdout",
       "text": [
        " 0.524797892312\n",
        "NDCG10  : "
       ]
      },
      {
       "output_type": "stream",
       "stream": "stdout",
       "text": [
        "0.529018671131\n",
        "NDCGfull: "
       ]
      },
      {
       "output_type": "stream",
       "stream": "stdout",
       "text": [
        "0.75210952656\n",
        "rank AUC: "
       ]
      },
      {
       "output_type": "stream",
       "stream": "stdout",
       "text": [
        "0.699378288511\n",
        "MSE     : 2.6672118816\n",
        "Wall time: 33.4 s"
       ]
      },
      {
       "output_type": "stream",
       "stream": "stdout",
       "text": [
        "\n"
       ]
      }
     ],
     "prompt_number": 33
    },
    {
     "cell_type": "code",
     "collapsed": false,
     "input": [
      "%%time\n",
      "learning_curve_ndcg(lmart,Xts,Yts,Qts,rank = 10)"
     ],
     "language": "python",
     "metadata": {},
     "outputs": [
      {
       "output_type": "stream",
       "stream": "stdout",
       "text": [
        "Wall time: 2min 31s\n"
       ]
      },
      {
       "metadata": {},
       "output_type": "display_data",
       "png": "[encoded data removed]",
       "text": [
        "<matplotlib.figure.Figure at 0x3ecb4438>"
       ]
      }
     ],
     "prompt_number": 34
    },
    {
     "cell_type": "raw",
     "metadata": {},
     "source": [
      "Rankboost (https://github.com/pcoving/KDDCup/blob/master/rankboost.py) (i still had to rewrite it's every row to generalize for non-binary labels >.<)"
     ]
    },
    {
     "cell_type": "heading",
     "level": 2,
     "metadata": {},
     "source": [
      "Bagged GBDT (mse)"
     ]
    },
    {
     "cell_type": "code",
     "collapsed": false,
     "input": [
      "%%time\n",
      "from sklearn.ensemble import BaggingRegressor\n",
      "from sklearn.ensemble import GradientBoostingRegressor\n",
      "gb = GradientBoostingRegressor(learning_rate=0.05,loss='ls',n_estimators=100, max_depth=6,\n",
      "                                verbose=0, subsample=0.5, random_state=42)#verbose >= 2 to show OOB scores\n",
      "bgb = BaggingRegressor(base_estimator=gb,n_estimators=20,n_jobs =-1)\n",
      "bgb.fit(Xtr, Ytr)"
     ],
     "language": "python",
     "metadata": {},
     "outputs": []
    },
    {
     "cell_type": "code",
     "collapsed": false,
     "input": [
      "%%time\n",
      "print \"train:\"\n",
      "score(bgb,Xtr,Ytr,Qtr)\n",
      "print \"test\"\n",
      "score(bgb,Xts,Yts,Qts)"
     ],
     "language": "python",
     "metadata": {},
     "outputs": []
    },
    {
     "cell_type": "heading",
     "level": 2,
     "metadata": {},
     "source": [
      "bagged lmart (nDCG)"
     ]
    },
    {
     "cell_type": "code",
     "collapsed": false,
     "input": [
      "%%time\n",
      "from lambdamart import LambdaMART\n",
      "from bagged_ranking import BaggingRanker\n",
      "lmart= LambdaMART(n_estimators=300, max_depth=6,\n",
      "                  learning_rate=0.07,  max_rank=50,gain = \"exponential\")\n",
      "blmart = BaggingRanker(base_estimator=lmart,n_estimators=20,sample_whole_queries=True,bootstrap=True,n_jobs =-1,max_samples=0.5)\n",
      "\n",
      "blmart.fit(Xtr,Ytr,Q = Qtr)"
     ],
     "language": "python",
     "metadata": {},
     "outputs": [
      {
       "output_type": "stream",
       "stream": "stdout",
       "text": [
        "Wall time: 6h 46min 35s\n"
       ]
      }
     ],
     "prompt_number": 35
    },
    {
     "cell_type": "code",
     "collapsed": false,
     "input": [
      "%%time\n",
      "print \"train:\"\n",
      "score(blmart,Xtr,Ytr,Qtr)\n",
      "print \"test\"\n",
      "score(blmart,Xts,Yts,Qts)"
     ],
     "language": "python",
     "metadata": {},
     "outputs": [
      {
       "output_type": "stream",
       "stream": "stdout",
       "text": [
        "train:\n",
        "NDCG5   :"
       ]
      },
      {
       "output_type": "stream",
       "stream": "stdout",
       "text": [
        " 0.616704177096"
       ]
      },
      {
       "output_type": "stream",
       "stream": "stdout",
       "text": [
        "\n",
        "NDCG10  : "
       ]
      },
      {
       "output_type": "stream",
       "stream": "stdout",
       "text": [
        "0.604978566144\n",
        "NDCGfull: "
       ]
      },
      {
       "output_type": "stream",
       "stream": "stdout",
       "text": [
        "0.786882042251\n",
        "rank AUC: "
       ]
      },
      {
       "output_type": "stream",
       "stream": "stdout",
       "text": [
        "0.705271707451\n",
        "MSE     : 3.1049860166\n",
        "test\n",
        "NDCG5   :"
       ]
      },
      {
       "output_type": "stream",
       "stream": "stdout",
       "text": [
        " 0.524216123373\n",
        "NDCG10  : "
       ]
      },
      {
       "output_type": "stream",
       "stream": "stdout",
       "text": [
        "0.529951879445\n",
        "NDCGfull: "
       ]
      },
      {
       "output_type": "stream",
       "stream": "stdout",
       "text": [
        "0.751922781774\n",
        "rank AUC: "
       ]
      },
      {
       "output_type": "stream",
       "stream": "stdout",
       "text": [
        "0.697604380696\n",
        "MSE     : 3.16828889811\n",
        "Wall time: 4min 4s\n"
       ]
      }
     ],
     "prompt_number": 36
    },
    {
     "cell_type": "code",
     "collapsed": false,
     "input": [
      "from sklearn.externals import joblib\n",
      "joblib.dump(blmart, 'dumps/20x300 ndcg-50 bag-whole-querries.pkl') "
     ],
     "language": "python",
     "metadata": {},
     "outputs": [
      {
       "metadata": {},
       "output_type": "pyout",
       "prompt_number": 37,
       "text": [
        "['dumps/20x300 ndcg-50 bag-whole-querries.pkl',\n",
        " 'dumps/20x300 ndcg-50 bag-whole-querries.pkl_01.npy',\n",
        " 'dumps/20x300 ndcg-50 bag-whole-querries.pkl_02.npy',\n",
        " 'dumps/20x300 ndcg-50 bag-whole-querries.pkl_03.npy',\n",
        " 'dumps/20x300 ndcg-50 bag-whole-querries.pkl_04.npy',\n",
        " 'dumps/20x300 ndcg-50 bag-whole-querries.pkl_05.npy',\n",
        " 'dumps/20x300 ndcg-50 bag-whole-querries.pkl_06.npy',\n",
        " 'dumps/20x300 ndcg-50 bag-whole-querries.pkl_07.npy',\n",
        " 'dumps/20x300 ndcg-50 bag-whole-querries.pkl_08.npy',\n",
        " 'dumps/20x300 ndcg-50 bag-whole-querries.pkl_09.npy',\n",
        " 'dumps/20x300 ndcg-50 bag-whole-querries.pkl_10.npy',\n",
        " 'dumps/20x300 ndcg-50 bag-whole-querries.pkl_11.npy',\n",
        " 'dumps/20x300 ndcg-50 bag-whole-querries.pkl_12.npy',\n",
        " 'dumps/20x300 ndcg-50 bag-whole-querries.pkl_13.npy',\n",
        " 'dumps/20x300 ndcg-50 bag-whole-querries.pkl_14.npy',\n",
        " 'dumps/20x300 ndcg-50 bag-whole-querries.pkl_15.npy',\n",
        " 'dumps/20x300 ndcg-50 bag-whole-querries.pkl_16.npy',\n",
        " 'dumps/20x300 ndcg-50 bag-whole-querries.pkl_17.npy',\n",
        " 'dumps/20x300 ndcg-50 bag-whole-querries.pkl_18.npy',\n",
        " 'dumps/20x300 ndcg-50 bag-whole-querries.pkl_19.npy',\n",
        " 'dumps/20x300 ndcg-50 bag-whole-querries.pkl_20.npy',\n",
        " 'dumps/20x300 ndcg-50 bag-whole-querries.pkl_21.npy',\n",
        " 'dumps/20x300 ndcg-50 bag-whole-querries.pkl_22.npy',\n",
        " 'dumps/20x300 ndcg-50 bag-whole-querries.pkl_23.npy',\n",
        " 'dumps/20x300 ndcg-50 bag-whole-querries.pkl_24.npy',\n",
        " 'dumps/20x300 ndcg-50 bag-whole-querries.pkl_25.npy',\n",
        " 'dumps/20x300 ndcg-50 bag-whole-querries.pkl_26.npy',\n",
        " 'dumps/20x300 ndcg-50 bag-whole-querries.pkl_27.npy',\n",
        " 'dumps/20x300 ndcg-50 bag-whole-querries.pkl_28.npy',\n",
        " 'dumps/20x300 ndcg-50 bag-whole-querries.pkl_29.npy',\n",
        " 'dumps/20x300 ndcg-50 bag-whole-querries.pkl_30.npy',\n",
        " 'dumps/20x300 ndcg-50 bag-whole-querries.pkl_31.npy',\n",
        " 'dumps/20x300 ndcg-50 bag-whole-querries.pkl_32.npy',\n",
        " 'dumps/20x300 ndcg-50 bag-whole-querries.pkl_33.npy',\n",
        " 'dumps/20x300 ndcg-50 bag-whole-querries.pkl_34.npy',\n",
        " 'dumps/20x300 ndcg-50 bag-whole-querries.pkl_35.npy',\n",
        " 'dumps/20x300 ndcg-50 bag-whole-querries.pkl_36.npy',\n",
        " 'dumps/20x300 ndcg-50 bag-whole-querries.pkl_37.npy',\n",
        " 'dumps/20x300 ndcg-50 bag-whole-querries.pkl_38.npy',\n",
        " 'dumps/20x300 ndcg-50 bag-whole-querries.pkl_39.npy',\n",
        " 'dumps/20x300 ndcg-50 bag-whole-querries.pkl_40.npy',\n",
        " 'dumps/20x300 ndcg-50 bag-whole-querries.pkl_41.npy',\n",
        " 'dumps/20x300 ndcg-50 bag-whole-querries.pkl_42.npy',\n",
        " 'dumps/20x300 ndcg-50 bag-whole-querries.pkl_43.npy',\n",
        " 'dumps/20x300 ndcg-50 bag-whole-querries.pkl_44.npy',\n",
        " 'dumps/20x300 ndcg-50 bag-whole-querries.pkl_45.npy',\n",
        " 'dumps/20x300 ndcg-50 bag-whole-querries.pkl_46.npy',\n",
        " 'dumps/20x300 ndcg-50 bag-whole-querries.pkl_47.npy',\n",
        " 'dumps/20x300 ndcg-50 bag-whole-querries.pkl_48.npy',\n",
        " 'dumps/20x300 ndcg-50 bag-whole-querries.pkl_49.npy',\n",
        " 'dumps/20x300 ndcg-50 bag-whole-querries.pkl_50.npy',\n",
        " 'dumps/20x300 ndcg-50 bag-whole-querries.pkl_51.npy',\n",
        " 'dumps/20x300 ndcg-50 bag-whole-querries.pkl_52.npy',\n",
        " 'dumps/20x300 ndcg-50 bag-whole-querries.pkl_53.npy',\n",
        " 'dumps/20x300 ndcg-50 bag-whole-querries.pkl_54.npy',\n",
        " 'dumps/20x300 ndcg-50 bag-whole-querries.pkl_55.npy',\n",
        " 'dumps/20x300 ndcg-50 bag-whole-querries.pkl_56.npy',\n",
        " 'dumps/20x300 ndcg-50 bag-whole-querries.pkl_57.npy',\n",
        " 'dumps/20x300 ndcg-50 bag-whole-querries.pkl_58.npy',\n",
        " 'dumps/20x300 ndcg-50 bag-whole-querries.pkl_59.npy',\n",
        " 'dumps/20x300 ndcg-50 bag-whole-querries.pkl_60.npy',\n",
        " 'dumps/20x300 ndcg-50 bag-whole-querries.pkl_61.npy',\n",
        " 'dumps/20x300 ndcg-50 bag-whole-querries.pkl_62.npy',\n",
        " 'dumps/20x300 ndcg-50 bag-whole-querries.pkl_63.npy',\n",
        " 'dumps/20x300 ndcg-50 bag-whole-querries.pkl_64.npy',\n",
        " 'dumps/20x300 ndcg-50 bag-whole-querries.pkl_65.npy',\n",
        " 'dumps/20x300 ndcg-50 bag-whole-querries.pkl_66.npy',\n",
        " 'dumps/20x300 ndcg-50 bag-whole-querries.pkl_67.npy',\n",
        " 'dumps/20x300 ndcg-50 bag-whole-querries.pkl_68.npy',\n",
        " 'dumps/20x300 ndcg-50 bag-whole-querries.pkl_69.npy',\n",
        " 'dumps/20x300 ndcg-50 bag-whole-querries.pkl_70.npy',\n",
        " 'dumps/20x300 ndcg-50 bag-whole-querries.pkl_71.npy',\n",
        " 'dumps/20x300 ndcg-50 bag-whole-querries.pkl_72.npy',\n",
        " 'dumps/20x300 ndcg-50 bag-whole-querries.pkl_73.npy',\n",
        " 'dumps/20x300 ndcg-50 bag-whole-querries.pkl_74.npy',\n",
        " 'dumps/20x300 ndcg-50 bag-whole-querries.pkl_75.npy',\n",
        " 'dumps/20x300 ndcg-50 bag-whole-querries.pkl_76.npy',\n",
        " 'dumps/20x300 ndcg-50 bag-whole-querries.pkl_77.npy',\n",
        " 'dumps/20x300 ndcg-50 bag-whole-querries.pkl_78.npy',\n",
        " 'dumps/20x300 ndcg-50 bag-whole-querries.pkl_79.npy',\n",
        " 'dumps/20x300 ndcg-50 bag-whole-querries.pkl_80.npy',\n",
        " 'dumps/20x300 ndcg-50 bag-whole-querries.pkl_81.npy',\n",
        " 'dumps/20x300 ndcg-50 bag-whole-querries.pkl_82.npy',\n",
        " 'dumps/20x300 ndcg-50 bag-whole-querries.pkl_83.npy',\n",
        " 'dumps/20x300 ndcg-50 bag-whole-querries.pkl_84.npy',\n",
        " 'dumps/20x300 ndcg-50 bag-whole-querries.pkl_85.npy',\n",
        " 'dumps/20x300 ndcg-50 bag-whole-querries.pkl_86.npy',\n",
        " 'dumps/20x300 ndcg-50 bag-whole-querries.pkl_87.npy',\n",
        " 'dumps/20x300 ndcg-50 bag-whole-querries.pkl_88.npy',\n",
        " 'dumps/20x300 ndcg-50 bag-whole-querries.pkl_89.npy',\n",
        " 'dumps/20x300 ndcg-50 bag-whole-querries.pkl_90.npy',\n",
        " 'dumps/20x300 ndcg-50 bag-whole-querries.pkl_91.npy',\n",
        " 'dumps/20x300 ndcg-50 bag-whole-querries.pkl_92.npy',\n",
        " 'dumps/20x300 ndcg-50 bag-whole-querries.pkl_93.npy',\n",
        " 'dumps/20x300 ndcg-50 bag-whole-querries.pkl_94.npy',\n",
        " 'dumps/20x300 ndcg-50 bag-whole-querries.pkl_95.npy',\n",
        " 'dumps/20x300 ndcg-50 bag-whole-querries.pkl_96.npy',\n",
        " 'dumps/20x300 ndcg-50 bag-whole-querries.pkl_97.npy',\n",
        " 'dumps/20x300 ndcg-50 bag-whole-querries.pkl_98.npy',\n",
        " 'dumps/20x300 ndcg-50 bag-whole-querries.pkl_99.npy',\n",
        " 'dumps/20x300 ndcg-50 bag-whole-querries.pkl_100.npy',\n",
        " 'dumps/20x300 ndcg-50 bag-whole-querries.pkl_101.npy',\n",
        " 'dumps/20x300 ndcg-50 bag-whole-querries.pkl_102.npy',\n",
        " 'dumps/20x300 ndcg-50 bag-whole-querries.pkl_103.npy',\n",
        " 'dumps/20x300 ndcg-50 bag-whole-querries.pkl_104.npy',\n",
        " 'dumps/20x300 ndcg-50 bag-whole-querries.pkl_105.npy',\n",
        " 'dumps/20x300 ndcg-50 bag-whole-querries.pkl_106.npy',\n",
        " 'dumps/20x300 ndcg-50 bag-whole-querries.pkl_107.npy',\n",
        " 'dumps/20x300 ndcg-50 bag-whole-querries.pkl_108.npy',\n",
        " 'dumps/20x300 ndcg-50 bag-whole-querries.pkl_109.npy',\n",
        " 'dumps/20x300 ndcg-50 bag-whole-querries.pkl_110.npy',\n",
        " 'dumps/20x300 ndcg-50 bag-whole-querries.pkl_111.npy',\n",
        " 'dumps/20x300 ndcg-50 bag-whole-querries.pkl_112.npy',\n",
        " 'dumps/20x300 ndcg-50 bag-whole-querries.pkl_113.npy',\n",
        " 'dumps/20x300 ndcg-50 bag-whole-querries.pkl_114.npy',\n",
        " 'dumps/20x300 ndcg-50 bag-whole-querries.pkl_115.npy',\n",
        " 'dumps/20x300 ndcg-50 bag-whole-querries.pkl_116.npy',\n",
        " 'dumps/20x300 ndcg-50 bag-whole-querries.pkl_117.npy',\n",
        " 'dumps/20x300 ndcg-50 bag-whole-querries.pkl_118.npy',\n",
        " 'dumps/20x300 ndcg-50 bag-whole-querries.pkl_119.npy',\n",
        " 'dumps/20x300 ndcg-50 bag-whole-querries.pkl_120.npy',\n",
        " 'dumps/20x300 ndcg-50 bag-whole-querries.pkl_121.npy']"
       ]
      }
     ],
     "prompt_number": 37
    },
    {
     "cell_type": "code",
     "collapsed": false,
     "input": [],
     "language": "python",
     "metadata": {},
     "outputs": []
    }
   ],
   "metadata": {}
  }
 ]
}