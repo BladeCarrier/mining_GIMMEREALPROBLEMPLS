{
 "metadata": {
  "name": "",
  "signature": "sha256:ef71ef21fb06be86160881e9bc4bb87f9e3e78cc2964502a91e72ab5f52c3f0d"
 },
 "nbformat": 3,
 "nbformat_minor": 0,
 "worksheets": [
  {
   "cells": [
    {
     "cell_type": "code",
     "collapsed": false,
     "input": [
      "import numpy as np\n",
      "def roc_auc_score(Ytrue,Yscored):\n",
      "    Ytrue = np.array(Ytrue)\n",
      "    Yscored = np.array(Yscored)    \n",
      "    \n",
      "    #unique Y values in ascension order\n",
      "    Yunique = list(set(Ytrue))\n",
      "    Yunique.sort()\n",
      "    \n",
      "    #sort the sequence\n",
      "    order = np.array(zip(-Ytrue,Yscored), dtype=[('-Yt', 'float'), ('Ys', 'float')])\n",
      "    indices = order.argsort(order = ('Ys','-Yt'))\n",
      "    Ytrue, Yscored = Ytrue[indices],Yscored[indices]\n",
      "    \n",
      "    #counts of processed samples for every possible Y rank\n",
      "    counts = {y:0 for y in  Yunique}\n",
      "    \n",
      "    pairs_in_order = 0    \n",
      "    all_pairs = 0\n",
      "    for i in xrange(len(Ytrue)):\n",
      "        ytrue = Ytrue[i]\n",
      "        \n",
      "        YcorrectlyPlaced = Yunique[:Yunique.index(ytrue)]        \n",
      "        #since Ysc[other] < Ysc, all the pairs with Ytr[other] < Ytr are placed correctly\n",
      "        \n",
      "        for ytrue_other in YcorrectlyPlaced:\n",
      "            pairs_in_order += counts[ytrue_other]\n",
      "        all_pairs +=i-counts[ytrue]\n",
      "        \n",
      "        \n",
      "        counts[ytrue]+=1\n",
      "    return pairs_in_order/float(all_pairs)"
     ],
     "language": "python",
     "metadata": {},
     "outputs": [],
     "prompt_number": 1
    },
    {
     "cell_type": "code",
     "collapsed": false,
     "input": [
      "import sklearn.metrics as metrics\n",
      "\n",
      "print roc_auc_score([0,0,1,1],[0,0,1,1])\n",
      "print metrics.roc_auc_score([0,0,1,1],[0,0,1,1])\n"
     ],
     "language": "python",
     "metadata": {},
     "outputs": [
      {
       "output_type": "stream",
       "stream": "stdout",
       "text": [
        "1.0\n",
        "1.0\n"
       ]
      }
     ],
     "prompt_number": 2
    },
    {
     "cell_type": "code",
     "collapsed": false,
     "input": [
      "print roc_auc_score([0,0,1,1],[0.1,0.3,0.2,1])\n",
      "print metrics.roc_auc_score([0,0,1,1],[0.1,0.3,0.2,1])"
     ],
     "language": "python",
     "metadata": {},
     "outputs": [
      {
       "output_type": "stream",
       "stream": "stdout",
       "text": [
        "0.75\n",
        "0.75\n"
       ]
      }
     ],
     "prompt_number": 3
    },
    {
     "cell_type": "code",
     "collapsed": false,
     "input": [
      "from sklearn.datasets import load_digits\n",
      "from sklearn.linear_model import LogisticRegression\n",
      "from sklearn.cross_validation import train_test_split\n",
      "\n",
      "mnist = load_digits(n_class = 10)\n",
      "\n",
      "Xtr,Xts,Ytr,Yts = train_test_split(mnist.data,mnist.target==1,train_size = 0.02)\n",
      "model = LogisticRegression().fit(Xtr,Ytr)\n",
      "\n",
      "Ypred = model.predict_proba(Xts)[:,1]\n",
      "\n",
      "print metrics.roc_auc_score(Yts,Ypred)\n",
      "print roc_auc_score(Yts,Ypred)"
     ],
     "language": "python",
     "metadata": {},
     "outputs": [
      {
       "output_type": "stream",
       "stream": "stdout",
       "text": [
        "0.879948026408\n",
        "0.879948026408\n"
       ]
      }
     ],
     "prompt_number": 4
    },
    {
     "cell_type": "code",
     "collapsed": false,
     "input": [
      "print roc_auc_score([0,1,2,3],[0,1,2,3])\n",
      "print roc_auc_score([0,1,2,3],[0,3,2,3])\n",
      "print roc_auc_score([0,1,2,3],[0,1,0,0])\n",
      "print roc_auc_score([0,1,2,3],[3,2,1,0])"
     ],
     "language": "python",
     "metadata": {},
     "outputs": [
      {
       "output_type": "stream",
       "stream": "stdout",
       "text": [
        "1.0\n",
        "0.666666666667\n",
        "0.166666666667\n",
        "0.0\n"
       ]
      }
     ],
     "prompt_number": 5
    },
    {
     "cell_type": "code",
     "collapsed": false,
     "input": [
      "print roc_auc_score([4, 2, 1, 1, 0, 0, 0],[4, 2, 1, 1, 0, 0, 0])\n",
      "print roc_auc_score([4, 2, 1, 1, 0, 0, 0],[3, 1, 1, 4, 2, 0, 0])\n",
      "print roc_auc_score([4, 2, 1, 1, 0, 0, 0],[1, 1, 4, 2, 3, 0, 1])\n",
      "print roc_auc_score([4, 2, 1, 1, 0, 0, 0],[0, 0, 0, 1, 1, 2, 4])"
     ],
     "language": "python",
     "metadata": {},
     "outputs": [
      {
       "output_type": "stream",
       "stream": "stdout",
       "text": [
        "1.0\n",
        "0.705882352941\n",
        "0.411764705882\n",
        "0.0\n"
       ]
      }
     ],
     "prompt_number": 6
    }
   ],
   "metadata": {}
  }
 ]
}